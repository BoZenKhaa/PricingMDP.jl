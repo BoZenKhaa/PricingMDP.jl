{
 "cells": [
  {
   "cell_type": "code",
   "execution_count": 16,
   "id": "d2e00007",
   "metadata": {
    "scrolled": true
   },
   "outputs": [],
   "source": [
    "using PMDPs\n",
    "using PMDPs.LP\n",
    "using DrWatson\n",
    "using RandomNumbers.Xorshifts\n",
    "using MCTS\n",
    "using POMDPSimulators\n",
    "using POMDPPolicies\n",
    "using DiscreteValueIteration\n",
    "\n",
    "using Format\n",
    "\n",
    "import Base.show\n",
    "\n",
    "# using Plots; pyplot()\n",
    "using Plots\n",
    "using Distributions\n",
    "using ProgressMeter\n",
    "\n",
    "\n",
    "using POMDPs\n",
    "using DataFrames\n",
    "using Printf\n",
    "\n",
    "using DrWatson\n",
    "using Statistics\n",
    "using PMDPs\n",
    "using CSV\n",
    "using Plots\n",
    "using StatsBase\n",
    "\n",
    "using Distributions"
   ]
  },
  {
   "cell_type": "code",
   "execution_count": 17,
   "id": "58242edb",
   "metadata": {},
   "outputs": [
    {
     "data": {
      "text/plain": [
       "10000"
      ]
     },
     "execution_count": 17,
     "metadata": {},
     "output_type": "execute_result"
    }
   ],
   "source": [
    "ENV[\"COLUMNS\"]=10000"
   ]
  },
  {
   "cell_type": "code",
   "execution_count": 18,
   "id": "c9627fdb",
   "metadata": {},
   "outputs": [
    {
     "data": {
      "text/plain": [
       "format_result_table (generic function with 1 method)"
      ]
     },
     "execution_count": 18,
     "metadata": {},
     "output_type": "execute_result"
    }
   ],
   "source": [
    "include(srcdir(\"MDPPricing.jl\"))\n",
    "include(srcdir(\"reporting.jl\"))"
   ]
  },
  {
   "cell_type": "code",
   "execution_count": 19,
   "id": "e6b04096",
   "metadata": {
    "scrolled": true
   },
   "outputs": [],
   "source": [
    "df = DataFrame(CSV.File(datadir(\"cs_data\", \"deggendorf_ackerloh_charging.csv\")));"
   ]
  },
  {
   "cell_type": "code",
   "execution_count": 20,
   "id": "248bc7cf",
   "metadata": {
    "scrolled": false
   },
   "outputs": [
    {
     "data": {
      "text/plain": [
       "25.604629629629628"
      ]
     },
     "execution_count": 20,
     "metadata": {},
     "output_type": "execute_result"
    }
   ],
   "source": [
    "(maximum(df.endTS) - minimum(df.startTS))/3600/24/30"
   ]
  },
  {
   "cell_type": "code",
   "execution_count": null,
   "id": "81544a48",
   "metadata": {},
   "outputs": [],
   "source": []
  }
 ],
 "metadata": {
  "@webio": {
   "lastCommId": null,
   "lastKernelId": null
  },
  "kernelspec": {
   "display_name": "Julia 1.7.0",
   "language": "julia",
   "name": "julia-1.7"
  },
  "language_info": {
   "file_extension": ".jl",
   "mimetype": "application/julia",
   "name": "julia",
   "version": "1.7.0"
  }
 },
 "nbformat": 4,
 "nbformat_minor": 5
}
