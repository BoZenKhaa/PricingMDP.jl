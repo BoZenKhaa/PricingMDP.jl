{
 "cells": [
  {
   "cell_type": "markdown",
   "metadata": {},
   "source": [
    "# Example of generative POMDP\n",
    "\n",
    "from https://github.com/JuliaPOMDP/POMDPExamples.jl/blob/master/notebooks/Defining-a-POMDP-with-the-Generative-Interface.ipynb"
   ]
  },
  {
   "cell_type": "code",
   "execution_count": 2,
   "metadata": {},
   "outputs": [],
   "source": [
    "using POMDPs\n",
    "using Random\n",
    "using POMDPModelTools\n",
    "using POMDPSimulators\n",
    "using POMDPPolicies"
   ]
  },
  {
   "cell_type": "code",
   "execution_count": 3,
   "metadata": {},
   "outputs": [],
   "source": [
    "struct BabyPOMDP <: POMDP{Bool, Bool, Bool}\n",
    "    r_feed::Float64\n",
    "    r_hungry::Float64\n",
    "    p_become_hungry::Float64\n",
    "    p_cry_when_hungry::Float64\n",
    "    p_cry_when_not_hungry::Float64\n",
    "    discount::Float64   \n",
    "end"
   ]
  },
  {
   "cell_type": "code",
   "execution_count": 4,
   "metadata": {},
   "outputs": [],
   "source": [
    "function POMDPs.gen(m::BabyPOMDP, s, a, rng)\n",
    "    # transition model\n",
    "    if a # feed\n",
    "        sp = false\n",
    "    elseif s # hungry\n",
    "        sp = true\n",
    "    else # not hungry\n",
    "        sp = rand(rng) < m.p_become_hungry\n",
    "    end\n",
    "    \n",
    "    # observation model\n",
    "    if sp # hungry\n",
    "        o = rand(rng) < m.p_cry_when_hungry\n",
    "    else # not hungry\n",
    "        o = rand(rng) < m.p_cry_when_not_hungry\n",
    "    end\n",
    "    \n",
    "    # reward model\n",
    "    r = s*m.r_hungry + a*m.r_feed\n",
    "    \n",
    "    # create and return a NamedTuple\n",
    "    return (sp=sp, o=o, r=r)\n",
    "end"
   ]
  },
  {
   "cell_type": "code",
   "execution_count": 5,
   "metadata": {},
   "outputs": [
    {
     "name": "stdout",
     "output_type": "stream",
     "text": [
      "s = false\n",
      "a = true\n",
      "r = -5.0\n",
      "\n",
      "s = false\n",
      "a = true\n",
      "r = -5.0\n",
      "\n",
      "s = false\n",
      "a = true\n",
      "r = -5.0\n",
      "\n",
      "s = false\n",
      "a = true\n",
      "r = -5.0\n",
      "\n",
      "s = false\n",
      "a = true\n",
      "r = -5.0\n",
      "\n",
      "s = false\n",
      "a = true\n",
      "r = -5.0\n",
      "\n",
      "s = false\n",
      "a = true\n",
      "r = -5.0\n",
      "\n",
      "s = false\n",
      "a = true\n",
      "r = -5.0\n",
      "\n",
      "s = false\n",
      "a = true\n",
      "r = -5.0\n",
      "\n",
      "s = false\n",
      "a = true\n",
      "r = -5.0\n",
      "\n"
     ]
    }
   ],
   "source": [
    "BabyPOMDP() = BabyPOMDP(-5., -10., 0.1, 0.8, 0.1, 0.9);\n",
    "POMDPs.initialstate_distribution(m::BabyPOMDP) = Deterministic(false)\n",
    "\n",
    "m = BabyPOMDP()\n",
    "\n",
    "# policy that maps every input to a feed (true) action\n",
    "policy = FunctionPolicy(o->true)\n",
    "\n",
    "for (s, a, r) in stepthrough(m, policy, \"s,a,r\", max_steps=10)\n",
    "    @show s\n",
    "    @show a\n",
    "    @show r\n",
    "    println()\n",
    "end"
   ]
  },
  {
   "cell_type": "code",
   "execution_count": null,
   "metadata": {},
   "outputs": [],
   "source": []
  }
 ],
 "metadata": {
  "kernelspec": {
   "display_name": "Julia 1.4.2",
   "language": "julia",
   "name": "julia-1.4"
  },
  "language_info": {
   "file_extension": ".jl",
   "mimetype": "application/julia",
   "name": "julia",
   "version": "1.4.2"
  }
 },
 "nbformat": 4,
 "nbformat_minor": 4
}
