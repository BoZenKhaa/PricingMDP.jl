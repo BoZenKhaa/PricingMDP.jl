{
 "cells": [
  {
   "cell_type": "code",
   "execution_count": 4,
   "id": "48e43959-3c69-48e3-9fcf-5e78d782ea7d",
   "metadata": {},
   "outputs": [
    {
     "name": "stderr",
     "output_type": "stream",
     "text": [
      "\u001b[32m\u001b[1m  Activating\u001b[22m\u001b[39m project at `C:\\Users\\mrkos\\scth\\projects\\MDPPricing`\n"
     ]
    }
   ],
   "source": [
    "] activate .."
   ]
  },
  {
   "cell_type": "code",
   "execution_count": 5,
   "id": "d8817532-ac9b-43ce-90bc-459027181163",
   "metadata": {},
   "outputs": [
    {
     "name": "stderr",
     "output_type": "stream",
     "text": [
      "WARNING: replacing module MDPPricing.\n",
      "WARNING: using MDPPricing.folder_report in module Main conflicts with an existing identifier.\n"
     ]
    }
   ],
   "source": [
    "using DataFrames\n",
    "using DrWatson\n",
    "include(srcdir(\"MDPPricing.jl\"))\n",
    "using .MDPPricing"
   ]
  },
  {
   "cell_type": "code",
   "execution_count": 68,
   "id": "d2523677-890b-4eb0-81ca-98682ba705b0",
   "metadata": {},
   "outputs": [
    {
     "data": {
      "text/plain": [
       "(results = \u001b[1m9×35 DataFrame\u001b[0m\n",
       "\u001b[1m Row \u001b[0m│\u001b[1m method                            \u001b[0m\u001b[1m T     \u001b[0m\u001b[1m N     \u001b[0m\u001b[1m pp_params_str         \u001b[0m ⋯\n",
       "     │\u001b[90m String                            \u001b[0m\u001b[90m Int64 \u001b[0m\u001b[90m Int64 \u001b[0m\u001b[90m String                \u001b[0m ⋯\n",
       "─────┼──────────────────────────────────────────────────────────────────────────\n",
       "   1 │ mcts_vanilla_depth=100_explorati…     96     10  Dict{Symbol, Any}(:T = ⋯\n",
       "   2 │ mcts_vanilla_depth=10_exploratio…     96     10  Dict{Symbol, Any}(:T =\n",
       "   3 │ mcts_vanilla_depth=1_exploration…     96     10  Dict{Symbol, Any}(:T =\n",
       "   4 │ mcts_vanilla_depth=20_exploratio…     96     10  Dict{Symbol, Any}(:T =\n",
       "   5 │ mcts_vanilla_depth=2_exploration…     96     10  Dict{Symbol, Any}(:T = ⋯\n",
       "   6 │ mcts_vanilla_depth=3_exploration…     96     10  Dict{Symbol, Any}(:T =\n",
       "   7 │ mcts_vanilla_depth=4_exploration…     96     10  Dict{Symbol, Any}(:T =\n",
       "   8 │ mcts_vanilla_depth=50_exploratio…     96     10  Dict{Symbol, Any}(:T =\n",
       "   9 │ mcts_vanilla_depth=5_exploration…     96     10  Dict{Symbol, Any}(:T = ⋯\n",
       "\u001b[36m                                                              32 columns omitted\u001b[0m, raw = Any[Dict{Symbol, Any}(:solver_params => Dict{Symbol, Any}(:n_iterations => 10000, :rng => Random.MersenneTwister(1, (0, 493505664, 493504662, 637, 488311044, 622)), :reuse_tree => true, :exploration_constant => 25.0, :depth => 100), :pp_params => Dict{Symbol, Any}(:T => 96, :c => 3, :res_budget_μ => 2.0, :objective => PMDPs.Revenue(), :nᵣ => 12, :expected_res => 12), :agg => \u001b[1m6×7 DataFrame\u001b[0m\n",
       "\u001b[1m Row \u001b[0m│\u001b[1m variable \u001b[0m\u001b[1m mean       \u001b[0m\u001b[1m min           \u001b[0m\u001b[1m median     \u001b[0m\u001b[1m max             \u001b[0m\u001b[1m nmiss\u001b[0m ⋯\n",
       "     │\u001b[90m Symbol   \u001b[0m\u001b[90m Float64    \u001b[0m\u001b[90m Real          \u001b[0m\u001b[90m Float64    \u001b[0m\u001b[90m Real            \u001b[0m\u001b[90m Int64\u001b[0m ⋯\n",
       "─────┼──────────────────────────────────────────────────────────────────────────\n",
       "   1 │ r         21.7414           14.2078  22.478              27.4452        ⋯\n",
       "   2 │ u         13.2               9       14.0                17\n",
       "   3 │ nₛ         9.3               7        9.0                12\n",
       "   4 │ nᵣ        16.2              12       15.5                22\n",
       "   5 │ time      38.5907           29.7442  38.6089             46.7234        ⋯\n",
       "   6 │ bytes      5.16526e8  74805936        5.82642e8  1138715040\n",
       "\u001b[36m                                                               2 columns omitted\u001b[0m, :N => 10, :method_info => \"vanilla_depth=100_exploration_constant=25.0_n_iterations=10000_reuse_tree=true\", :results => \u001b[1m10×12 DataFrame\u001b[0m\n",
       "\u001b[1m Row \u001b[0m│\u001b[1m r       \u001b[0m\u001b[1m u     \u001b[0m\u001b[1m nₛ    \u001b[0m\u001b[1m nᵣ    \u001b[0m\u001b[1m time    \u001b[0m\u001b[1m bytes      \u001b[0m\u001b[1m gctime   \u001b[0m\u001b[1m gcstats   \u001b[0m ⋯\n",
       "     │\u001b[90m Float64 \u001b[0m\u001b[90m Int64 \u001b[0m\u001b[90m Int64 \u001b[0m\u001b[90m Int64 \u001b[0m\u001b[90m Float64 \u001b[0m\u001b[90m Int64      \u001b[0m\u001b[90m Float64  \u001b[0m\u001b[90m GC_Diff   \u001b[0m ⋯\n",
       "─────┼──────────────────────────────────────────────────────────────────────────\n",
       "   1 │ 14.789       9      7     14  29.7442   720035456  1.32409   GC_Diff(72 ⋯\n",
       "   2 │ 19.0151     11      9     12  34.9464   473818432  0.947083  GC_Diff(47\n",
       "   3 │ 20.6602     13     10     15  34.5894   172892344  0.0       GC_Diff(17\n",
       "   4 │ 24.9632     15     11     22  36.9219   887623136  0.157833  GC_Diff(88\n",
       "   5 │ 24.2823     14     10     12  39.7107   139188048  0.0       GC_Diff(13 ⋯\n",
       "   6 │ 14.2078      9      7     12  46.7234   120794256  0.0       GC_Diff(12\n",
       "   7 │ 27.0953     16      9     20  40.1679   745918760  0.759428  GC_Diff(74\n",
       "   8 │ 27.4452     17     12     19  42.0125  1138715040  0.688568  GC_Diff(11\n",
       "   9 │ 22.5152     14      9     16  43.5834    74805936  0.0       GC_Diff(74 ⋯\n",
       "  10 │ 22.4408     14      9     20  37.5071   691465776  0.0       GC_Diff(69\n",
       "\u001b[36m                                                               5 columns omitted\u001b[0m, :overall_stats => (time = 385.9238615, bytes = 5169075088, gctime = 3.8770012, gcstats = Base.GC_Diff(5169075088, 44, 48, 10960980, 50, 40, 3877001200, 8, 6)), :problem_name => \"cs_12\", :method => \"mcts\", :pp => PMDPs.PMDPProblem{PMDPs.Revenue, PMDPs.Product{12}, PMDPs.CountingProcesses.StaggeredBernoulliScheme{Float64}, Distributions.Normal{Float64}}…), Dict{Symbol, Any}(:solver_params => Dict{Symbol, Any}(:n_iterations => 10000, :rng => Random.MersenneTwister(1, (0, 397168248, 397167246, 959, 396611886, 472)), :reuse_tree => true, :exploration_constant => 25.0, :depth => 10), :pp_params => Dict{Symbol, Any}(:T => 96, :c => 3, :res_budget_μ => 2.0, :objective => PMDPs.Revenue(), :nᵣ => 12, :expected_res => 12), :agg => \u001b[1m6×7 DataFrame\u001b[0m\n",
       "\u001b[1m Row \u001b[0m│\u001b[1m variable \u001b[0m\u001b[1m mean       \u001b[0m\u001b[1m min            \u001b[0m\u001b[1m median    \u001b[0m\u001b[1m max             \u001b[0m\u001b[1m nmiss\u001b[0m ⋯\n",
       "     │\u001b[90m Symbol   \u001b[0m\u001b[90m Float64    \u001b[0m\u001b[90m Real           \u001b[0m\u001b[90m Float64   \u001b[0m\u001b[90m Real            \u001b[0m\u001b[90m Int64\u001b[0m ⋯\n",
       "─────┼──────────────────────────────────────────────────────────────────────────\n",
       "   1 │ r         21.3644           13.2977   21.1762           28.2797         ⋯\n",
       "   2 │ u         12.9               8        13.0              17\n",
       "   3 │ nₛ         9.0               6         8.5              12\n",
       "   4 │ nᵣ        16.2              12        15.5              22\n",
       "   5 │ time       4.6947            4.32058   4.71815           5.04155        ⋯\n",
       "   6 │ bytes      7.52637e7  13108368         3.8079e7  262483976\n",
       "\u001b[36m                                                               2 columns omitted\u001b[0m, :N => 10, :method_info => \"vanilla_depth=10_exploration_constant=25.0_n_iterations=10000_reuse_tree=true\", :results => \u001b[1m10×12 DataFrame\u001b[0m\n",
       "\u001b[1m Row \u001b[0m│\u001b[1m r       \u001b[0m\u001b[1m u     \u001b[0m\u001b[1m nₛ    \u001b[0m\u001b[1m nᵣ    \u001b[0m\u001b[1m time    \u001b[0m\u001b[1m bytes     \u001b[0m\u001b[1m gctime    \u001b[0m\u001b[1m gcstats   \u001b[0m ⋯\n",
       "     │\u001b[90m Float64 \u001b[0m\u001b[90m Int64 \u001b[0m\u001b[90m Int64 \u001b[0m\u001b[90m Int64 \u001b[0m\u001b[90m Float64 \u001b[0m\u001b[90m Int64     \u001b[0m\u001b[90m Float64   \u001b[0m\u001b[90m GC_Diff   \u001b[0m ⋯\n",
       "─────┼──────────────────────────────────────────────────────────────────────────\n",
       "   1 │ 15.7202     10      8     14  4.69763  121854688  0.0054627  GC_Diff(12 ⋯\n",
       "   2 │ 19.9765     11      9     12  4.75492   50234088  0.0602475  GC_Diff(50\n",
       "   3 │ 23.0235     14     11     15  4.9472   164927680  0.344489   GC_Diff(16\n",
       "   4 │ 25.8481     15     11     22  4.36359   20060400  0.0        GC_Diff(20\n",
       "   5 │ 20.4018     13      9     12  4.73866   56801008  0.0        GC_Diff(56 ⋯\n",
       "   6 │ 13.2977      8      6     12  4.61398   20434224  0.0        GC_Diff(20\n",
       "   7 │ 24.7438     15      8     20  5.04155  262483976  0.390087   GC_Diff(26\n",
       "   8 │ 28.2797     17     12     19  4.65785   16808112  0.0        GC_Diff(16\n",
       "   9 │ 20.6352     13      8     16  4.32058   13108368  0.0        GC_Diff(13 ⋯\n",
       "  10 │ 21.7173     13      8     20  4.81099   25923984  0.0        GC_Diff(25\n",
       "\u001b[36m                                                               5 columns omitted\u001b[0m, :overall_stats => (time = 46.9636639, bytes = 756446064, gctime = 0.8002861, gcstats = Base.GC_Diff(756446064, 35, 27, 1625563, 50, 20, 800286100, 4, 3)), :problem_name => \"cs_12\", :method => \"mcts\", :pp => PMDPs.PMDPProblem{PMDPs.Revenue, PMDPs.Product{12}, PMDPs.CountingProcesses.StaggeredBernoulliScheme{Float64}, Distributions.Normal{Float64}}…), Dict{Symbol, Any}(:solver_params => Dict{Symbol, Any}(:n_iterations => 10000, :rng => Random.MersenneTwister(1, (0, 364388436, 364387434, 452, 364386180, 572)), :reuse_tree => true, :exploration_constant => 25.0, :depth => 1), :pp_params => Dict{Symbol, Any}(:T => 96, :c => 3, :res_budget_μ => 2.0, :objective => PMDPs.Revenue(), :nᵣ => 12, :expected_res => 12), :agg => \u001b[1m6×7 DataFrame\u001b[0m\n",
       "\u001b[1m Row \u001b[0m│\u001b[1m variable \u001b[0m\u001b[1m mean       \u001b[0m\u001b[1m min           \u001b[0m\u001b[1m median    \u001b[0m\u001b[1m max            \u001b[0m\u001b[1m nmissin\u001b[0m ⋯\n",
       "     │\u001b[90m Symbol   \u001b[0m\u001b[90m Float64    \u001b[0m\u001b[90m Real          \u001b[0m\u001b[90m Float64   \u001b[0m\u001b[90m Real           \u001b[0m\u001b[90m Int64  \u001b[0m ⋯\n",
       "─────┼──────────────────────────────────────────────────────────────────────────\n",
       "   1 │ r         21.6193          12.2      21.192           28.6257           ⋯\n",
       "   2 │ u         13.2              8        13.0             18\n",
       "   3 │ nₛ         9.4              6         9.0             12\n",
       "   4 │ nᵣ        16.2             12        15.5             22\n",
       "   5 │ time       1.63721          1.44287   1.6293           1.84206          ⋯\n",
       "   6 │ bytes      4.06099e6  1009008         2.7643e6  11323840\n",
       "\u001b[36m                                                               2 columns omitted\u001b[0m, :N => 10, :method_info => \"vanilla_depth=1_exploration_constant=25.0_n_iterations=10000_reuse_tree=true\", :results => \u001b[1m10×12 DataFrame\u001b[0m\n",
       "\u001b[1m Row \u001b[0m│\u001b[1m r       \u001b[0m\u001b[1m u     \u001b[0m\u001b[1m nₛ    \u001b[0m\u001b[1m nᵣ    \u001b[0m\u001b[1m time    \u001b[0m\u001b[1m bytes    \u001b[0m\u001b[1m gctime    \u001b[0m\u001b[1m gcstats    \u001b[0m ⋯\n",
       "     │\u001b[90m Float64 \u001b[0m\u001b[90m Int64 \u001b[0m\u001b[90m Int64 \u001b[0m\u001b[90m Int64 \u001b[0m\u001b[90m Float64 \u001b[0m\u001b[90m Int64    \u001b[0m\u001b[90m Float64   \u001b[0m\u001b[90m GC_Diff    \u001b[0m ⋯\n",
       "─────┼──────────────────────────────────────────────────────────────────────────\n",
       "   1 │ 16.9103     10      8     14  1.44287   4217088  0.0        GC_Diff(421 ⋯\n",
       "   2 │ 18.3188     10      9     12  1.48023   6378464  0.0        GC_Diff(637\n",
       "   3 │ 21.0634     13     10     15  1.60122   1093776  0.0        GC_Diff(109\n",
       "   4 │ 28.0049     16     12     22  1.564     4775136  0.0        GC_Diff(477\n",
       "   5 │ 21.3207     13      9     12  1.587    11323840  0.0        GC_Diff(113 ⋯\n",
       "   6 │ 12.2         8      6     12  1.65738   1018896  0.0        GC_Diff(101\n",
       "   7 │ 28.6257     18     11     20  1.74944   1311504  0.0        GC_Diff(131\n",
       "   8 │ 27.2161     17     12     19  1.72054   8219448  0.0145266  GC_Diff(821\n",
       "   9 │ 20.9408     13      8     16  1.84206   1009008  0.0        GC_Diff(100 ⋯\n",
       "  10 │ 21.5919     14      9     20  1.72731   1262736  0.0        GC_Diff(126\n",
       "\u001b[36m                                                               5 columns omitted\u001b[0m, :overall_stats => (time = 16.3875563, bytes = 44419736, gctime = 0.0145266, gcstats = Base.GC_Diff(44419736, 24, 7, 93080, 48, 14, 14526600, 1, 0)), :problem_name => \"cs_12\", :method => \"mcts\", :pp => PMDPs.PMDPProblem{PMDPs.Revenue, PMDPs.Product{12}, PMDPs.CountingProcesses.StaggeredBernoulliScheme{Float64}, Distributions.Normal{Float64}}…), Dict{Symbol, Any}(:solver_params => Dict{Symbol, Any}(:n_iterations => 10000, :rng => Random.MersenneTwister(1, (0, 427927242, 427926240, 321, 425646438, 694)), :reuse_tree => true, :exploration_constant => 25.0, :depth => 20), :pp_params => Dict{Symbol, Any}(:T => 96, :c => 3, :res_budget_μ => 2.0, :objective => PMDPs.Revenue(), :nᵣ => 12, :expected_res => 12), :agg => \u001b[1m6×7 DataFrame\u001b[0m\n",
       "\u001b[1m Row \u001b[0m│\u001b[1m variable \u001b[0m\u001b[1m mean       \u001b[0m\u001b[1m min            \u001b[0m\u001b[1m median     \u001b[0m\u001b[1m max            \u001b[0m\u001b[1m nmiss\u001b[0m ⋯\n",
       "     │\u001b[90m Symbol   \u001b[0m\u001b[90m Float64    \u001b[0m\u001b[90m Real           \u001b[0m\u001b[90m Float64    \u001b[0m\u001b[90m Real           \u001b[0m\u001b[90m Int64\u001b[0m ⋯\n",
       "─────┼──────────────────────────────────────────────────────────────────────────\n",
       "   1 │ r         22.4321           13.9396   23.1863            31.9538        ⋯\n",
       "   2 │ u         13.5               9        14.0               19\n",
       "   3 │ nₛ         9.6               7         9.0               14\n",
       "   4 │ nᵣ        16.2              12        15.5               22\n",
       "   5 │ time      10.3994            8.97715  10.5703            12.0143        ⋯\n",
       "   6 │ bytes      1.55403e8  28361616         1.36728e8  333557256\n",
       "\u001b[36m                                                               2 columns omitted\u001b[0m, :N => 10, :method_info => \"vanilla_depth=20_exploration_constant=25.0_n_iterations=10000_reuse_tree=true\", :results => \u001b[1m10×12 DataFrame\u001b[0m\n",
       "\u001b[1m Row \u001b[0m│\u001b[1m r       \u001b[0m\u001b[1m u     \u001b[0m\u001b[1m nₛ    \u001b[0m\u001b[1m nᵣ    \u001b[0m\u001b[1m time     \u001b[0m\u001b[1m bytes     \u001b[0m\u001b[1m gctime   \u001b[0m\u001b[1m gcstats   \u001b[0m ⋯\n",
       "     │\u001b[90m Float64 \u001b[0m\u001b[90m Int64 \u001b[0m\u001b[90m Int64 \u001b[0m\u001b[90m Int64 \u001b[0m\u001b[90m Float64  \u001b[0m\u001b[90m Int64     \u001b[0m\u001b[90m Float64  \u001b[0m\u001b[90m GC_Diff   \u001b[0m ⋯\n",
       "─────┼──────────────────────────────────────────────────────────────────────────\n",
       "   1 │ 13.9396      9      7     14   9.05541  208686776  0.0       GC_Diff(20 ⋯\n",
       "   2 │ 16.1054      9      8     12   8.97715  160662624  0.0       GC_Diff(16\n",
       "   3 │ 20.5335     13     10     15   9.93118  333557256  0.386504  GC_Diff(33\n",
       "   4 │ 31.9538     19     14     22   9.27767   41591952  0.0       GC_Diff(41\n",
       "   5 │ 24.0077     14     10     12  11.1189   112793200  0.12571   GC_Diff(11 ⋯\n",
       "   6 │ 16.6346     10      8     12  12.0143   296287776  0.0       GC_Diff(29\n",
       "   7 │ 25.2238     16      9     20  10.4469   278599056  0.0       GC_Diff(27\n",
       "   8 │ 28.9129     17     12     19  10.926     36826032  0.0       GC_Diff(36\n",
       "   9 │ 24.6449     14      9     16  10.6936    28361616  0.0       GC_Diff(28 ⋯\n",
       "  10 │ 22.3649     14      9     20  11.5532    56662416  0.487749  GC_Diff(56\n",
       "\u001b[36m                                                               5 columns omitted\u001b[0m, :overall_stats => (time = 104.0097833, bytes = 1557847200, gctime = 0.999962, gcstats = Base.GC_Diff(1557847200, 38, 33, 3461537, 50, 45, 999962000, 3, 2)), :problem_name => \"cs_12\", :method => \"mcts\", :pp => PMDPs.PMDPProblem{PMDPs.Revenue, PMDPs.Product{12}, PMDPs.CountingProcesses.StaggeredBernoulliScheme{Float64}, Distributions.Normal{Float64}}…), Dict{Symbol, Any}(:solver_params => Dict{Symbol, Any}(:n_iterations => 10000, :rng => Random.MersenneTwister(1, (0, 368222766, 368221764, 904, 368206482, 732)), :reuse_tree => true, :exploration_constant => 25.0, :depth => 2), :pp_params => Dict{Symbol, Any}(:T => 96, :c => 3, :res_budget_μ => 2.0, :objective => PMDPs.Revenue(), :nᵣ => 12, :expected_res => 12), :agg => \u001b[1m6×7 DataFrame\u001b[0m\n",
       "\u001b[1m Row \u001b[0m│\u001b[1m variable \u001b[0m\u001b[1m mean       \u001b[0m\u001b[1m min           \u001b[0m\u001b[1m median     \u001b[0m\u001b[1m max            \u001b[0m\u001b[1m nmissi\u001b[0m ⋯\n",
       "     │\u001b[90m Symbol   \u001b[0m\u001b[90m Float64    \u001b[0m\u001b[90m Real          \u001b[0m\u001b[90m Float64    \u001b[0m\u001b[90m Real           \u001b[0m\u001b[90m Int64 \u001b[0m ⋯\n",
       "─────┼──────────────────────────────────────────────────────────────────────────\n",
       "   1 │ r         21.593           14.5731   21.8207           27.6162          ⋯\n",
       "   2 │ u         13.0              9        13.5              17\n",
       "   3 │ nₛ         9.2              7         9.5              12\n",
       "   4 │ nᵣ        16.2             12        15.5              22\n",
       "   5 │ time       1.97619          1.89297   1.94386           2.07617         ⋯\n",
       "   6 │ bytes      1.26128e7  2861328         9.69263e6  49332056\n",
       "\u001b[36m                                                               2 columns omitted\u001b[0m, :N => 10, :method_info => \"vanilla_depth=2_exploration_constant=25.0_n_iterations=10000_reuse_tree=true\", :results => \u001b[1m10×12 DataFrame\u001b[0m\n",
       "\u001b[1m Row \u001b[0m│\u001b[1m r       \u001b[0m\u001b[1m u     \u001b[0m\u001b[1m nₛ    \u001b[0m\u001b[1m nᵣ    \u001b[0m\u001b[1m time    \u001b[0m\u001b[1m bytes    \u001b[0m\u001b[1m gctime    \u001b[0m\u001b[1m gcstats    \u001b[0m ⋯\n",
       "     │\u001b[90m Float64 \u001b[0m\u001b[90m Int64 \u001b[0m\u001b[90m Int64 \u001b[0m\u001b[90m Int64 \u001b[0m\u001b[90m Float64 \u001b[0m\u001b[90m Int64    \u001b[0m\u001b[90m Float64   \u001b[0m\u001b[90m GC_Diff    \u001b[0m ⋯\n",
       "─────┼──────────────────────────────────────────────────────────────────────────\n",
       "   1 │ 14.5731      9      7     14  1.9432   18625600  0.0        GC_Diff(186 ⋯\n",
       "   2 │ 18.1192     10      9     12  2.07058  11121344  0.0        GC_Diff(111\n",
       "   3 │ 21.5276     13     10     15  2.05567  10945176  0.0154521  GC_Diff(109\n",
       "   4 │ 25.6145     15     11     22  1.94054   8440080  0.0        GC_Diff(844\n",
       "   5 │ 24.0137     14     10     12  1.91134   2861328  0.0        GC_Diff(286 ⋯\n",
       "   6 │ 15.17        9      7     12  1.89297  49332056  0.0        GC_Diff(493\n",
       "   7 │ 27.1614     17     10     20  2.07617   4172208  0.142612   GC_Diff(417\n",
       "   8 │ 27.6162     17     12     19  1.94452  13675280  0.0        GC_Diff(136\n",
       "   9 │ 20.0203     12      7     16  1.9016    2885136  0.0        GC_Diff(288 ⋯\n",
       "  10 │ 22.1138     14      9     20  2.02528   4069296  0.0        GC_Diff(406\n",
       "\u001b[36m                                                               5 columns omitted\u001b[0m, :overall_stats => (time = 19.7766464, bytes = 129944896, gctime = 0.1580642, gcstats = Base.GC_Diff(129944896, 29, 12, 281300, 50, 26, 158064200, 2, 1)), :problem_name => \"cs_12\", :method => \"mcts\", :pp => PMDPs.PMDPProblem{PMDPs.Revenue, PMDPs.Product{12}, PMDPs.CountingProcesses.StaggeredBernoulliScheme{Float64}, Distributions.Normal{Float64}}…), Dict{Symbol, Any}(:solver_params => Dict{Symbol, Any}(:n_iterations => 10000, :rng => Random.MersenneTwister(1, (0, 372004026, 372003024, 564, 371953674, 663)), :reuse_tree => true, :exploration_constant => 25.0, :depth => 3), :pp_params => Dict{Symbol, Any}(:T => 96, :c => 3, :res_budget_μ => 2.0, :objective => PMDPs.Revenue(), :nᵣ => 12, :expected_res => 12), :agg => \u001b[1m6×7 DataFrame\u001b[0m\n",
       "\u001b[1m Row \u001b[0m│\u001b[1m variable \u001b[0m\u001b[1m mean       \u001b[0m\u001b[1m min          \u001b[0m\u001b[1m median     \u001b[0m\u001b[1m max            \u001b[0m\u001b[1m nmissin\u001b[0m ⋯\n",
       "     │\u001b[90m Symbol   \u001b[0m\u001b[90m Float64    \u001b[0m\u001b[90m Real         \u001b[0m\u001b[90m Float64    \u001b[0m\u001b[90m Real           \u001b[0m\u001b[90m Int64  \u001b[0m ⋯\n",
       "─────┼──────────────────────────────────────────────────────────────────────────\n",
       "   1 │ r         21.9263          12.7074  23.1231           28.0071           ⋯\n",
       "   2 │ u         13.3              8       13.5              17\n",
       "   3 │ nₛ         9.5              6        9.0              12\n",
       "   4 │ nᵣ        16.2             12       15.5              22\n",
       "   5 │ time       2.25878          2.1701   2.24327           2.56091          ⋯\n",
       "   6 │ bytes      1.95083e7  4120464        1.64598e7  52309496\n",
       "\u001b[36m                                                               2 columns omitted\u001b[0m, :N => 10, :method_info => \"vanilla_depth=3_exploration_constant=25.0_n_iterations=10000_reuse_tree=true\", :results => \u001b[1m10×12 DataFrame\u001b[0m\n",
       "\u001b[1m Row \u001b[0m│\u001b[1m r       \u001b[0m\u001b[1m u     \u001b[0m\u001b[1m nₛ    \u001b[0m\u001b[1m nᵣ    \u001b[0m\u001b[1m time    \u001b[0m\u001b[1m bytes    \u001b[0m\u001b[1m gctime   \u001b[0m\u001b[1m gcstats     \u001b[0m ⋯\n",
       "     │\u001b[90m Float64 \u001b[0m\u001b[90m Int64 \u001b[0m\u001b[90m Int64 \u001b[0m\u001b[90m Int64 \u001b[0m\u001b[90m Float64 \u001b[0m\u001b[90m Int64    \u001b[0m\u001b[90m Float64  \u001b[0m\u001b[90m GC_Diff     \u001b[0m ⋯\n",
       "─────┼──────────────────────────────────────────────────────────────────────────\n",
       "   1 │ 15.5763     10      8     14  2.2477   29583120  0.0       GC_Diff(2958 ⋯\n",
       "   2 │ 16.6893     10      9     12  2.25339  17557080  0.0       GC_Diff(1755\n",
       "   3 │ 20.7718     13     10     15  2.21079  52309496  0.0       GC_Diff(5230\n",
       "   4 │ 27.2221     16     12     22  2.25093   5192784  0.0       GC_Diff(5192\n",
       "   5 │ 22.5336     13      9     12  2.2102   15362480  0.0       GC_Diff(1536 ⋯\n",
       "   6 │ 12.7074      8      6     12  2.25127   5729808  0.0       GC_Diff(5729\n",
       "   7 │ 27.0964     16      9     20  2.56091  34806312  0.307061  GC_Diff(3480\n",
       "   8 │ 28.0071     17     12     19  2.1701    4967280  0.0       GC_Diff(4967\n",
       "   9 │ 23.7127     14      9     16  2.19362   4120464  0.0       GC_Diff(4120 ⋯\n",
       "  10 │ 24.946      16     11     20  2.23883  25453936  0.0       GC_Diff(2545\n",
       "\u001b[36m                                                               5 columns omitted\u001b[0m, :overall_stats => (time = 22.6035111, bytes = 198895704, gctime = 0.3070606, gcstats = Base.GC_Diff(198895704, 29, 18, 445319, 50, 46, 307060600, 1, 0)), :problem_name => \"cs_12\", :method => \"mcts\", :pp => PMDPs.PMDPProblem{PMDPs.Revenue, PMDPs.Product{12}, PMDPs.CountingProcesses.StaggeredBernoulliScheme{Float64}, Distributions.Normal{Float64}}…), Dict{Symbol, Any}(:solver_params => Dict{Symbol, Any}(:n_iterations => 10000, :rng => Random.MersenneTwister(1, (0, 375765288, 375764286, 385, 375671850, 113)), :reuse_tree => true, :exploration_constant => 25.0, :depth => 4), :pp_params => Dict{Symbol, Any}(:T => 96, :c => 3, :res_budget_μ => 2.0, :objective => PMDPs.Revenue(), :nᵣ => 12, :expected_res => 12), :agg => \u001b[1m6×7 DataFrame\u001b[0m\n",
       "\u001b[1m Row \u001b[0m│\u001b[1m variable \u001b[0m\u001b[1m mean       \u001b[0m\u001b[1m min           \u001b[0m\u001b[1m median     \u001b[0m\u001b[1m max             \u001b[0m\u001b[1m nmiss\u001b[0m ⋯\n",
       "     │\u001b[90m Symbol   \u001b[0m\u001b[90m Float64    \u001b[0m\u001b[90m Real          \u001b[0m\u001b[90m Float64    \u001b[0m\u001b[90m Real            \u001b[0m\u001b[90m Int64\u001b[0m ⋯\n",
       "─────┼──────────────────────────────────────────────────────────────────────────\n",
       "   1 │ r         20.8806          11.3988   22.0818            27.7914         ⋯\n",
       "   2 │ u         12.7              8        13.0               17\n",
       "   3 │ nₛ         8.9              6         9.0               11\n",
       "   4 │ nᵣ        16.2             12        15.5               22\n",
       "   5 │ time       2.60045          2.31586   2.6252             2.76559        ⋯\n",
       "   6 │ bytes      3.38199e7  5558928         2.02185e7  129760992\n",
       "\u001b[36m                                                               2 columns omitted\u001b[0m, :N => 10, :method_info => \"vanilla_depth=4_exploration_constant=25.0_n_iterations=10000_reuse_tree=true\", :results => \u001b[1m10×12 DataFrame\u001b[0m\n",
       "\u001b[1m Row \u001b[0m│\u001b[1m r       \u001b[0m\u001b[1m u     \u001b[0m\u001b[1m nₛ    \u001b[0m\u001b[1m nᵣ    \u001b[0m\u001b[1m time    \u001b[0m\u001b[1m bytes     \u001b[0m\u001b[1m gctime    \u001b[0m\u001b[1m gcstats   \u001b[0m ⋯\n",
       "     │\u001b[90m Float64 \u001b[0m\u001b[90m Int64 \u001b[0m\u001b[90m Int64 \u001b[0m\u001b[90m Int64 \u001b[0m\u001b[90m Float64 \u001b[0m\u001b[90m Int64     \u001b[0m\u001b[90m Float64   \u001b[0m\u001b[90m GC_Diff   \u001b[0m ⋯\n",
       "─────┼──────────────────────────────────────────────────────────────────────────\n",
       "   1 │ 11.3988      8      6     14  2.63178   39748440  0.0127971  GC_Diff(39 ⋯\n",
       "   2 │ 18.0191     10      9     12  2.61862   12033936  0.0        GC_Diff(12\n",
       "   3 │ 22.3089     14     11     15  2.76559   65070712  0.0        GC_Diff(65\n",
       "   4 │ 24.8616     15     11     22  2.59409    7879632  0.0        GC_Diff(78\n",
       "   5 │ 21.2902     13      9     12  2.73207   35279592  0.0626402  GC_Diff(35 ⋯\n",
       "   6 │ 12.4636      8      6     12  2.4422     7409808  0.0        GC_Diff(74\n",
       "   7 │ 26.5085     17     10     20  2.58969   28403152  0.0        GC_Diff(28\n",
       "   8 │ 27.7914     16     11     19  2.64874    7053648  0.0        GC_Diff(70\n",
       "   9 │ 22.2666     13      8     16  2.31586    5558928  0.0        GC_Diff(55 ⋯\n",
       "  10 │ 21.8969     13      8     20  2.66588  129760992  0.0        GC_Diff(12\n",
       "\u001b[36m                                                               5 columns omitted\u001b[0m, :overall_stats => (time = 26.0192154, bytes = 342014232, gctime = 0.0754373, gcstats = Base.GC_Diff(342014232, 32, 21, 612509, 50, 28, 75437300, 2, 1)), :problem_name => \"cs_12\", :method => \"mcts\", :pp => PMDPs.PMDPProblem{PMDPs.Revenue, PMDPs.Product{12}, PMDPs.CountingProcesses.StaggeredBernoulliScheme{Float64}, Distributions.Normal{Float64}}…), Dict{Symbol, Any}(:solver_params => Dict{Symbol, Any}(:n_iterations => 10000, :rng => Random.MersenneTwister(1, (0, 482140050, 482139048, 967, 478708950, 123)), :reuse_tree => true, :exploration_constant => 25.0, :depth => 50), :pp_params => Dict{Symbol, Any}(:T => 96, :c => 3, :res_budget_μ => 2.0, :objective => PMDPs.Revenue(), :nᵣ => 12, :expected_res => 12), :agg => \u001b[1m6×7 DataFrame\u001b[0m\n",
       "\u001b[1m Row \u001b[0m│\u001b[1m variable \u001b[0m\u001b[1m mean       \u001b[0m\u001b[1m min           \u001b[0m\u001b[1m median    \u001b[0m\u001b[1m max            \u001b[0m\u001b[1m nmissin\u001b[0m ⋯\n",
       "     │\u001b[90m Symbol   \u001b[0m\u001b[90m Float64    \u001b[0m\u001b[90m Real          \u001b[0m\u001b[90m Float64   \u001b[0m\u001b[90m Real           \u001b[0m\u001b[90m Int64  \u001b[0m ⋯\n",
       "─────┼──────────────────────────────────────────────────────────────────────────\n",
       "   1 │ r         21.9757           14.6389  22.5141           26.9219          ⋯\n",
       "   2 │ u         13.1               9       13.0              16\n",
       "   3 │ nₛ         8.9               7        9.0              12\n",
       "   4 │ nᵣ        16.2              12       15.5              22\n",
       "   5 │ time      33.7751           26.2312  33.4101           40.4842          ⋯\n",
       "   6 │ bytes      3.69062e8  87608784        3.5911e8  871686272\n",
       "\u001b[36m                                                               2 columns omitted\u001b[0m, :N => 10, :method_info => \"vanilla_depth=50_exploration_constant=25.0_n_iterations=10000_reuse_tree=true\", :results => \u001b[1m10×12 DataFrame\u001b[0m\n",
       "\u001b[1m Row \u001b[0m│\u001b[1m r       \u001b[0m\u001b[1m u     \u001b[0m\u001b[1m nₛ    \u001b[0m\u001b[1m nᵣ    \u001b[0m\u001b[1m time    \u001b[0m\u001b[1m bytes     \u001b[0m\u001b[1m gctime   \u001b[0m\u001b[1m gcstats    \u001b[0m ⋯\n",
       "     │\u001b[90m Float64 \u001b[0m\u001b[90m Int64 \u001b[0m\u001b[90m Int64 \u001b[0m\u001b[90m Int64 \u001b[0m\u001b[90m Float64 \u001b[0m\u001b[90m Int64     \u001b[0m\u001b[90m Float64  \u001b[0m\u001b[90m GC_Diff    \u001b[0m ⋯\n",
       "─────┼──────────────────────────────────────────────────────────────────────────\n",
       "   1 │ 14.8788      9      7     14  26.2312  699306464  0.0       GC_Diff(699 ⋯\n",
       "   2 │ 19.6845     11      9     12  34.6075  442112608  0.553582  GC_Diff(442\n",
       "   3 │ 22.9923     13     10     15  32.3071  365065392  0.179827  GC_Diff(365\n",
       "   4 │ 26.9219     16     12     22  34.4654  244719504  0.0       GC_Diff(244\n",
       "   5 │ 21.8355     13      9     12  38.3975  871686272  0.625116  GC_Diff(871 ⋯\n",
       "   6 │ 14.6389      9      7     12  40.4842  103995504  0.0       GC_Diff(103\n",
       "   7 │ 24.5938     16      9     20  35.6609   90641904  0.0       GC_Diff(906\n",
       "   8 │ 25.5606     15     10     19  31.9269   87608784  0.0       GC_Diff(876\n",
       "   9 │ 26.6153     16      8     16  31.3156  353153840  0.641215  GC_Diff(353 ⋯\n",
       "  10 │ 22.036      13      8     20  32.3547  432331368  0.621216  GC_Diff(432\n",
       "\u001b[36m                                                               5 columns omitted\u001b[0m, :overall_stats => (time = 337.7694819, bytes = 3694499368, gctime = 2.620957, gcstats = Base.GC_Diff(3694499368, 41, 45, 8395191, 50, 42, 2620957000, 5, 4)), :problem_name => \"cs_12\", :method => \"mcts\", :pp => PMDPs.PMDPProblem{PMDPs.Revenue, PMDPs.Product{12}, PMDPs.CountingProcesses.StaggeredBernoulliScheme{Float64}, Distributions.Normal{Float64}}…), Dict{Symbol, Any}(:solver_params => Dict{Symbol, Any}(:n_iterations => 10000, :rng => Random.MersenneTwister(1, (0, 379489518, 379488516, 154, 379347984, 328)), :reuse_tree => true, :exploration_constant => 25.0, :depth => 5), :pp_params => Dict{Symbol, Any}(:T => 96, :c => 3, :res_budget_μ => 2.0, :objective => PMDPs.Revenue(), :nᵣ => 12, :expected_res => 12), :agg => \u001b[1m6×7 DataFrame\u001b[0m\n",
       "\u001b[1m Row \u001b[0m│\u001b[1m variable \u001b[0m\u001b[1m mean      \u001b[0m\u001b[1m min           \u001b[0m\u001b[1m median     \u001b[0m\u001b[1m max             \u001b[0m\u001b[1m nmissi\u001b[0m ⋯\n",
       "     │\u001b[90m Symbol   \u001b[0m\u001b[90m Float64   \u001b[0m\u001b[90m Real          \u001b[0m\u001b[90m Float64    \u001b[0m\u001b[90m Real            \u001b[0m\u001b[90m Int64 \u001b[0m ⋯\n",
       "─────┼──────────────────────────────────────────────────────────────────────────\n",
       "   1 │ r         21.6449         14.7283   21.94              26.8371          ⋯\n",
       "   2 │ u         13.0             9        13.0               16\n",
       "   3 │ nₛ         9.2             7         9.0               12\n",
       "   4 │ nᵣ        16.2            12        15.5               22\n",
       "   5 │ time       2.89014         2.69963   2.88523            3.13039         ⋯\n",
       "   6 │ bytes      3.5959e7  6661392         2.53141e7  131326464\n",
       "\u001b[36m                                                               2 columns omitted\u001b[0m, :N => 10, :method_info => \"vanilla_depth=5_exploration_constant=25.0_n_iterations=10000_reuse_tree=true\", :results => \u001b[1m10×12 DataFrame\u001b[0m\n",
       "\u001b[1m Row \u001b[0m│\u001b[1m r       \u001b[0m\u001b[1m u     \u001b[0m\u001b[1m nₛ    \u001b[0m\u001b[1m nᵣ    \u001b[0m\u001b[1m time    \u001b[0m\u001b[1m bytes     \u001b[0m\u001b[1m gctime    \u001b[0m\u001b[1m gcstats   \u001b[0m ⋯\n",
       "     │\u001b[90m Float64 \u001b[0m\u001b[90m Int64 \u001b[0m\u001b[90m Int64 \u001b[0m\u001b[90m Int64 \u001b[0m\u001b[90m Float64 \u001b[0m\u001b[90m Int64     \u001b[0m\u001b[90m Float64   \u001b[0m\u001b[90m GC_Diff   \u001b[0m ⋯\n",
       "─────┼──────────────────────────────────────────────────────────────────────────\n",
       "   1 │ 18.2603     11      9     14  3.13039   47934840  0.339138   GC_Diff(47 ⋯\n",
       "   2 │ 18.705      10      9     12  2.69963   55813304  0.0        GC_Diff(55\n",
       "   3 │ 21.7791     13     10     15  2.88667   21629648  0.0        GC_Diff(21\n",
       "   4 │ 25.9586     16     12     22  2.85731   37875144  0.0594351  GC_Diff(37\n",
       "   5 │ 21.8892     13      9     12  2.88379    9571440  0.0        GC_Diff(95 ⋯\n",
       "   6 │ 14.7283      9      7     12  2.96753   28998544  0.0        GC_Diff(28\n",
       "   7 │ 26.8371     16      9     20  2.83334  131326464  0.0        GC_Diff(13\n",
       "   8 │ 23.4563     15     10     19  2.92128    8065008  0.0        GC_Diff(80\n",
       "   9 │ 21.9908     13      8     16  2.78722    6661392  0.0        GC_Diff(66 ⋯\n",
       "  10 │ 22.8439     14      9     20  2.93422   11714064  0.0        GC_Diff(11\n",
       "\u001b[36m                                                               5 columns omitted\u001b[0m, :overall_stats => (time = 28.9177371, bytes = 363402792, gctime = 0.3985727, gcstats = Base.GC_Diff(363402792, 32, 21, 772130, 50, 32, 398572700, 2, 1)), :problem_name => \"cs_12\", :method => \"mcts\", :pp => PMDPs.PMDPProblem{PMDPs.Revenue, PMDPs.Product{12}, PMDPs.CountingProcesses.StaggeredBernoulliScheme{Float64}, Distributions.Normal{Float64}}…)])"
      ]
     },
     "execution_count": 68,
     "metadata": {},
     "output_type": "execute_result"
    }
   ],
   "source": [
    "OUT_FOLDER = \"ev_new_experiments\"\n",
    "nᵣ = 12\n",
    "PP_NAME = \"cs_$(nᵣ)\"\n",
    "results, raw = folder_report(datadir(OUT_FOLDER, \"results\", PP_NAME); raw_result_array = true)"
   ]
  },
  {
   "cell_type": "code",
   "execution_count": 69,
   "id": "9ec902c9-8265-4f29-aed8-adfedecfb270",
   "metadata": {},
   "outputs": [
    {
     "data": {
      "text/html": [
       "<div><div style = \"float: left;\"><span>9×35 DataFrame</span></div><div style = \"clear: both;\"></div></div><div class = \"data-frame\" style = \"overflow-x: scroll;\"><table class = \"data-frame\" style = \"margin-bottom: 6px;\"><thead><tr class = \"header\"><th class = \"rowNumber\" style = \"font-weight: bold; text-align: right;\">Row</th><th style = \"text-align: left;\">method</th><th style = \"text-align: left;\">T</th><th style = \"text-align: left;\">N</th><th style = \"text-align: left;\">pp_params_str</th><th style = \"text-align: left;\">solver_params</th><th style = \"text-align: left;\">pp</th><th style = \"text-align: left;\">c</th><th style = \"text-align: left;\">res_budget_μ</th><th style = \"text-align: left;\">objective</th><th style = \"text-align: left;\">nᵣ</th><th style = \"text-align: left;\">expected_res</th><th style = \"text-align: left;\">mean_r</th><th style = \"text-align: left;\">median_r</th><th style = \"text-align: left;\">min_r</th><th style = \"text-align: left;\">max_r</th><th style = \"text-align: left;\">mean_u</th><th style = \"text-align: left;\">median_u</th><th style = \"text-align: left;\">min_u</th><th style = \"text-align: left;\">max_u</th><th style = \"text-align: left;\">mean_nₛ</th><th style = \"text-align: left;\">median_nₛ</th><th style = \"text-align: left;\">min_nₛ</th><th style = \"text-align: left;\">max_nₛ</th><th style = \"text-align: left;\">mean_nᵣ</th><th style = \"text-align: left;\">median_nᵣ</th><th style = \"text-align: left;\">min_nᵣ</th><th style = \"text-align: left;\">max_nᵣ</th><th style = \"text-align: left;\">mean_time</th><th style = \"text-align: left;\">median_time</th><th style = \"text-align: left;\">min_time</th><th style = \"text-align: left;\">max_time</th><th style = \"text-align: left;\">mean_bytes</th><th style = \"text-align: left;\">median_bytes</th><th style = \"text-align: left;\">min_bytes</th><th style = \"text-align: left;\">max_bytes</th></tr><tr class = \"subheader headerLastRow\"><th class = \"rowNumber\" style = \"font-weight: bold; text-align: right;\"></th><th title = \"String\" style = \"text-align: left;\">String</th><th title = \"Int64\" style = \"text-align: left;\">Int64</th><th title = \"Int64\" style = \"text-align: left;\">Int64</th><th title = \"String\" style = \"text-align: left;\">String</th><th title = \"Dict{Symbol, Any}\" style = \"text-align: left;\">Dict…</th><th title = \"PMDPs.PMDPProblem{PMDPs.Revenue, PMDPs.Product{12}, PMDPs.CountingProcesses.StaggeredBernoulliScheme{Float64}, Distributions.Normal{Float64}}\" style = \"text-align: left;\">PMDPProb…</th><th title = \"Int64\" style = \"text-align: left;\">Int64</th><th title = \"Float64\" style = \"text-align: left;\">Float64</th><th title = \"PMDPs.Revenue\" style = \"text-align: left;\">Revenue</th><th title = \"Int64\" style = \"text-align: left;\">Int64</th><th title = \"Int64\" style = \"text-align: left;\">Int64</th><th title = \"Float64\" style = \"text-align: left;\">Float64</th><th title = \"Float64\" style = \"text-align: left;\">Float64</th><th title = \"Real\" style = \"text-align: left;\">Real</th><th title = \"Real\" style = \"text-align: left;\">Real</th><th title = \"Float64\" style = \"text-align: left;\">Float64</th><th title = \"Float64\" style = \"text-align: left;\">Float64</th><th title = \"Real\" style = \"text-align: left;\">Real</th><th title = \"Real\" style = \"text-align: left;\">Real</th><th title = \"Float64\" style = \"text-align: left;\">Float64</th><th title = \"Float64\" style = \"text-align: left;\">Float64</th><th title = \"Real\" style = \"text-align: left;\">Real</th><th title = \"Real\" style = \"text-align: left;\">Real</th><th title = \"Float64\" style = \"text-align: left;\">Float64</th><th title = \"Float64\" style = \"text-align: left;\">Float64</th><th title = \"Real\" style = \"text-align: left;\">Real</th><th title = \"Real\" style = \"text-align: left;\">Real</th><th title = \"Float64\" style = \"text-align: left;\">Float64</th><th title = \"Float64\" style = \"text-align: left;\">Float64</th><th title = \"Real\" style = \"text-align: left;\">Real</th><th title = \"Real\" style = \"text-align: left;\">Real</th><th title = \"Float64\" style = \"text-align: left;\">Float64</th><th title = \"Float64\" style = \"text-align: left;\">Float64</th><th title = \"Real\" style = \"text-align: left;\">Real</th><th title = \"Real\" style = \"text-align: left;\">Real</th></tr></thead><tbody><tr><td class = \"rowNumber\" style = \"font-weight: bold; text-align: right;\">1</td><td style = \"text-align: left;\">mcts_vanilla_depth=100_exploration_constant=25.0_n_iterations=10000_reuse_tree=true</td><td style = \"text-align: right;\">96</td><td style = \"text-align: right;\">10</td><td style = \"text-align: left;\">Dict{Symbol, Any}(:T =&gt; 96, :c =&gt; 3, :res_budget_μ =&gt; 2.0, :nᵣ =&gt; 12, :expected_res =&gt; 12)</td><td style = \"text-align: left;\">Dict{Symbol, Any}(:n_iterations=&gt;10000, :rng=&gt;MersenneTwister(1, (0, 493505664, 493504662, 637, 488311044, 622)), :reuse_tree=&gt;true, :exploration_constant=&gt;25.0, :depth=&gt;100)</td><td style = \"text-align: left;\">PMDPs.PMDPProblem{PMDPs.Revenue, PMDPs.Product{12}, PMDPs.CountingProcesses.StaggeredBernoulliScheme{Float64}, Distributions.Normal{Float64}}</td><td style = \"text-align: right;\">3</td><td style = \"text-align: right;\">2.0</td><td style = \"text-align: left;\">Revenue()</td><td style = \"text-align: right;\">12</td><td style = \"text-align: right;\">12</td><td style = \"text-align: right;\">21.7414</td><td style = \"text-align: right;\">22.478</td><td style = \"text-align: right;\">14.2078</td><td style = \"text-align: right;\">27.4452</td><td style = \"text-align: right;\">13.2</td><td style = \"text-align: right;\">14.0</td><td style = \"text-align: right;\">9</td><td style = \"text-align: right;\">17</td><td style = \"text-align: right;\">9.3</td><td style = \"text-align: right;\">9.0</td><td style = \"text-align: right;\">7</td><td style = \"text-align: right;\">12</td><td style = \"text-align: right;\">16.2</td><td style = \"text-align: right;\">15.5</td><td style = \"text-align: right;\">12</td><td style = \"text-align: right;\">22</td><td style = \"text-align: right;\">38.5907</td><td style = \"text-align: right;\">38.6089</td><td style = \"text-align: right;\">29.7442</td><td style = \"text-align: right;\">46.7234</td><td style = \"text-align: right;\">5.16526e8</td><td style = \"text-align: right;\">5.82642e8</td><td style = \"text-align: right;\">74805936</td><td style = \"text-align: right;\">1138715040</td></tr><tr><td class = \"rowNumber\" style = \"font-weight: bold; text-align: right;\">2</td><td style = \"text-align: left;\">mcts_vanilla_depth=10_exploration_constant=25.0_n_iterations=10000_reuse_tree=true</td><td style = \"text-align: right;\">96</td><td style = \"text-align: right;\">10</td><td style = \"text-align: left;\">Dict{Symbol, Any}(:T =&gt; 96, :c =&gt; 3, :res_budget_μ =&gt; 2.0, :nᵣ =&gt; 12, :expected_res =&gt; 12)</td><td style = \"text-align: left;\">Dict{Symbol, Any}(:n_iterations=&gt;10000, :rng=&gt;MersenneTwister(1, (0, 397168248, 397167246, 959, 396611886, 472)), :reuse_tree=&gt;true, :exploration_constant=&gt;25.0, :depth=&gt;10)</td><td style = \"text-align: left;\">PMDPs.PMDPProblem{PMDPs.Revenue, PMDPs.Product{12}, PMDPs.CountingProcesses.StaggeredBernoulliScheme{Float64}, Distributions.Normal{Float64}}</td><td style = \"text-align: right;\">3</td><td style = \"text-align: right;\">2.0</td><td style = \"text-align: left;\">Revenue()</td><td style = \"text-align: right;\">12</td><td style = \"text-align: right;\">12</td><td style = \"text-align: right;\">21.3644</td><td style = \"text-align: right;\">21.1762</td><td style = \"text-align: right;\">13.2977</td><td style = \"text-align: right;\">28.2797</td><td style = \"text-align: right;\">12.9</td><td style = \"text-align: right;\">13.0</td><td style = \"text-align: right;\">8</td><td style = \"text-align: right;\">17</td><td style = \"text-align: right;\">9.0</td><td style = \"text-align: right;\">8.5</td><td style = \"text-align: right;\">6</td><td style = \"text-align: right;\">12</td><td style = \"text-align: right;\">16.2</td><td style = \"text-align: right;\">15.5</td><td style = \"text-align: right;\">12</td><td style = \"text-align: right;\">22</td><td style = \"text-align: right;\">4.6947</td><td style = \"text-align: right;\">4.71815</td><td style = \"text-align: right;\">4.32058</td><td style = \"text-align: right;\">5.04155</td><td style = \"text-align: right;\">7.52637e7</td><td style = \"text-align: right;\">3.8079e7</td><td style = \"text-align: right;\">13108368</td><td style = \"text-align: right;\">262483976</td></tr><tr><td class = \"rowNumber\" style = \"font-weight: bold; text-align: right;\">3</td><td style = \"text-align: left;\">mcts_vanilla_depth=1_exploration_constant=25.0_n_iterations=10000_reuse_tree=true</td><td style = \"text-align: right;\">96</td><td style = \"text-align: right;\">10</td><td style = \"text-align: left;\">Dict{Symbol, Any}(:T =&gt; 96, :c =&gt; 3, :res_budget_μ =&gt; 2.0, :nᵣ =&gt; 12, :expected_res =&gt; 12)</td><td style = \"text-align: left;\">Dict{Symbol, Any}(:n_iterations=&gt;10000, :rng=&gt;MersenneTwister(1, (0, 364388436, 364387434, 452, 364386180, 572)), :reuse_tree=&gt;true, :exploration_constant=&gt;25.0, :depth=&gt;1)</td><td style = \"text-align: left;\">PMDPs.PMDPProblem{PMDPs.Revenue, PMDPs.Product{12}, PMDPs.CountingProcesses.StaggeredBernoulliScheme{Float64}, Distributions.Normal{Float64}}</td><td style = \"text-align: right;\">3</td><td style = \"text-align: right;\">2.0</td><td style = \"text-align: left;\">Revenue()</td><td style = \"text-align: right;\">12</td><td style = \"text-align: right;\">12</td><td style = \"text-align: right;\">21.6193</td><td style = \"text-align: right;\">21.192</td><td style = \"text-align: right;\">12.2</td><td style = \"text-align: right;\">28.6257</td><td style = \"text-align: right;\">13.2</td><td style = \"text-align: right;\">13.0</td><td style = \"text-align: right;\">8</td><td style = \"text-align: right;\">18</td><td style = \"text-align: right;\">9.4</td><td style = \"text-align: right;\">9.0</td><td style = \"text-align: right;\">6</td><td style = \"text-align: right;\">12</td><td style = \"text-align: right;\">16.2</td><td style = \"text-align: right;\">15.5</td><td style = \"text-align: right;\">12</td><td style = \"text-align: right;\">22</td><td style = \"text-align: right;\">1.63721</td><td style = \"text-align: right;\">1.6293</td><td style = \"text-align: right;\">1.44287</td><td style = \"text-align: right;\">1.84206</td><td style = \"text-align: right;\">4.06099e6</td><td style = \"text-align: right;\">2.7643e6</td><td style = \"text-align: right;\">1009008</td><td style = \"text-align: right;\">11323840</td></tr><tr><td class = \"rowNumber\" style = \"font-weight: bold; text-align: right;\">4</td><td style = \"text-align: left;\">mcts_vanilla_depth=20_exploration_constant=25.0_n_iterations=10000_reuse_tree=true</td><td style = \"text-align: right;\">96</td><td style = \"text-align: right;\">10</td><td style = \"text-align: left;\">Dict{Symbol, Any}(:T =&gt; 96, :c =&gt; 3, :res_budget_μ =&gt; 2.0, :nᵣ =&gt; 12, :expected_res =&gt; 12)</td><td style = \"text-align: left;\">Dict{Symbol, Any}(:n_iterations=&gt;10000, :rng=&gt;MersenneTwister(1, (0, 427927242, 427926240, 321, 425646438, 694)), :reuse_tree=&gt;true, :exploration_constant=&gt;25.0, :depth=&gt;20)</td><td style = \"text-align: left;\">PMDPs.PMDPProblem{PMDPs.Revenue, PMDPs.Product{12}, PMDPs.CountingProcesses.StaggeredBernoulliScheme{Float64}, Distributions.Normal{Float64}}</td><td style = \"text-align: right;\">3</td><td style = \"text-align: right;\">2.0</td><td style = \"text-align: left;\">Revenue()</td><td style = \"text-align: right;\">12</td><td style = \"text-align: right;\">12</td><td style = \"text-align: right;\">22.4321</td><td style = \"text-align: right;\">23.1863</td><td style = \"text-align: right;\">13.9396</td><td style = \"text-align: right;\">31.9538</td><td style = \"text-align: right;\">13.5</td><td style = \"text-align: right;\">14.0</td><td style = \"text-align: right;\">9</td><td style = \"text-align: right;\">19</td><td style = \"text-align: right;\">9.6</td><td style = \"text-align: right;\">9.0</td><td style = \"text-align: right;\">7</td><td style = \"text-align: right;\">14</td><td style = \"text-align: right;\">16.2</td><td style = \"text-align: right;\">15.5</td><td style = \"text-align: right;\">12</td><td style = \"text-align: right;\">22</td><td style = \"text-align: right;\">10.3994</td><td style = \"text-align: right;\">10.5703</td><td style = \"text-align: right;\">8.97715</td><td style = \"text-align: right;\">12.0143</td><td style = \"text-align: right;\">1.55403e8</td><td style = \"text-align: right;\">1.36728e8</td><td style = \"text-align: right;\">28361616</td><td style = \"text-align: right;\">333557256</td></tr><tr><td class = \"rowNumber\" style = \"font-weight: bold; text-align: right;\">5</td><td style = \"text-align: left;\">mcts_vanilla_depth=2_exploration_constant=25.0_n_iterations=10000_reuse_tree=true</td><td style = \"text-align: right;\">96</td><td style = \"text-align: right;\">10</td><td style = \"text-align: left;\">Dict{Symbol, Any}(:T =&gt; 96, :c =&gt; 3, :res_budget_μ =&gt; 2.0, :nᵣ =&gt; 12, :expected_res =&gt; 12)</td><td style = \"text-align: left;\">Dict{Symbol, Any}(:n_iterations=&gt;10000, :rng=&gt;MersenneTwister(1, (0, 368222766, 368221764, 904, 368206482, 732)), :reuse_tree=&gt;true, :exploration_constant=&gt;25.0, :depth=&gt;2)</td><td style = \"text-align: left;\">PMDPs.PMDPProblem{PMDPs.Revenue, PMDPs.Product{12}, PMDPs.CountingProcesses.StaggeredBernoulliScheme{Float64}, Distributions.Normal{Float64}}</td><td style = \"text-align: right;\">3</td><td style = \"text-align: right;\">2.0</td><td style = \"text-align: left;\">Revenue()</td><td style = \"text-align: right;\">12</td><td style = \"text-align: right;\">12</td><td style = \"text-align: right;\">21.593</td><td style = \"text-align: right;\">21.8207</td><td style = \"text-align: right;\">14.5731</td><td style = \"text-align: right;\">27.6162</td><td style = \"text-align: right;\">13.0</td><td style = \"text-align: right;\">13.5</td><td style = \"text-align: right;\">9</td><td style = \"text-align: right;\">17</td><td style = \"text-align: right;\">9.2</td><td style = \"text-align: right;\">9.5</td><td style = \"text-align: right;\">7</td><td style = \"text-align: right;\">12</td><td style = \"text-align: right;\">16.2</td><td style = \"text-align: right;\">15.5</td><td style = \"text-align: right;\">12</td><td style = \"text-align: right;\">22</td><td style = \"text-align: right;\">1.97619</td><td style = \"text-align: right;\">1.94386</td><td style = \"text-align: right;\">1.89297</td><td style = \"text-align: right;\">2.07617</td><td style = \"text-align: right;\">1.26128e7</td><td style = \"text-align: right;\">9.69263e6</td><td style = \"text-align: right;\">2861328</td><td style = \"text-align: right;\">49332056</td></tr><tr><td class = \"rowNumber\" style = \"font-weight: bold; text-align: right;\">6</td><td style = \"text-align: left;\">mcts_vanilla_depth=3_exploration_constant=25.0_n_iterations=10000_reuse_tree=true</td><td style = \"text-align: right;\">96</td><td style = \"text-align: right;\">10</td><td style = \"text-align: left;\">Dict{Symbol, Any}(:T =&gt; 96, :c =&gt; 3, :res_budget_μ =&gt; 2.0, :nᵣ =&gt; 12, :expected_res =&gt; 12)</td><td style = \"text-align: left;\">Dict{Symbol, Any}(:n_iterations=&gt;10000, :rng=&gt;MersenneTwister(1, (0, 372004026, 372003024, 564, 371953674, 663)), :reuse_tree=&gt;true, :exploration_constant=&gt;25.0, :depth=&gt;3)</td><td style = \"text-align: left;\">PMDPs.PMDPProblem{PMDPs.Revenue, PMDPs.Product{12}, PMDPs.CountingProcesses.StaggeredBernoulliScheme{Float64}, Distributions.Normal{Float64}}</td><td style = \"text-align: right;\">3</td><td style = \"text-align: right;\">2.0</td><td style = \"text-align: left;\">Revenue()</td><td style = \"text-align: right;\">12</td><td style = \"text-align: right;\">12</td><td style = \"text-align: right;\">21.9263</td><td style = \"text-align: right;\">23.1231</td><td style = \"text-align: right;\">12.7074</td><td style = \"text-align: right;\">28.0071</td><td style = \"text-align: right;\">13.3</td><td style = \"text-align: right;\">13.5</td><td style = \"text-align: right;\">8</td><td style = \"text-align: right;\">17</td><td style = \"text-align: right;\">9.5</td><td style = \"text-align: right;\">9.0</td><td style = \"text-align: right;\">6</td><td style = \"text-align: right;\">12</td><td style = \"text-align: right;\">16.2</td><td style = \"text-align: right;\">15.5</td><td style = \"text-align: right;\">12</td><td style = \"text-align: right;\">22</td><td style = \"text-align: right;\">2.25878</td><td style = \"text-align: right;\">2.24327</td><td style = \"text-align: right;\">2.1701</td><td style = \"text-align: right;\">2.56091</td><td style = \"text-align: right;\">1.95083e7</td><td style = \"text-align: right;\">1.64598e7</td><td style = \"text-align: right;\">4120464</td><td style = \"text-align: right;\">52309496</td></tr><tr><td class = \"rowNumber\" style = \"font-weight: bold; text-align: right;\">7</td><td style = \"text-align: left;\">mcts_vanilla_depth=4_exploration_constant=25.0_n_iterations=10000_reuse_tree=true</td><td style = \"text-align: right;\">96</td><td style = \"text-align: right;\">10</td><td style = \"text-align: left;\">Dict{Symbol, Any}(:T =&gt; 96, :c =&gt; 3, :res_budget_μ =&gt; 2.0, :nᵣ =&gt; 12, :expected_res =&gt; 12)</td><td style = \"text-align: left;\">Dict{Symbol, Any}(:n_iterations=&gt;10000, :rng=&gt;MersenneTwister(1, (0, 375765288, 375764286, 385, 375671850, 113)), :reuse_tree=&gt;true, :exploration_constant=&gt;25.0, :depth=&gt;4)</td><td style = \"text-align: left;\">PMDPs.PMDPProblem{PMDPs.Revenue, PMDPs.Product{12}, PMDPs.CountingProcesses.StaggeredBernoulliScheme{Float64}, Distributions.Normal{Float64}}</td><td style = \"text-align: right;\">3</td><td style = \"text-align: right;\">2.0</td><td style = \"text-align: left;\">Revenue()</td><td style = \"text-align: right;\">12</td><td style = \"text-align: right;\">12</td><td style = \"text-align: right;\">20.8806</td><td style = \"text-align: right;\">22.0818</td><td style = \"text-align: right;\">11.3988</td><td style = \"text-align: right;\">27.7914</td><td style = \"text-align: right;\">12.7</td><td style = \"text-align: right;\">13.0</td><td style = \"text-align: right;\">8</td><td style = \"text-align: right;\">17</td><td style = \"text-align: right;\">8.9</td><td style = \"text-align: right;\">9.0</td><td style = \"text-align: right;\">6</td><td style = \"text-align: right;\">11</td><td style = \"text-align: right;\">16.2</td><td style = \"text-align: right;\">15.5</td><td style = \"text-align: right;\">12</td><td style = \"text-align: right;\">22</td><td style = \"text-align: right;\">2.60045</td><td style = \"text-align: right;\">2.6252</td><td style = \"text-align: right;\">2.31586</td><td style = \"text-align: right;\">2.76559</td><td style = \"text-align: right;\">3.38199e7</td><td style = \"text-align: right;\">2.02185e7</td><td style = \"text-align: right;\">5558928</td><td style = \"text-align: right;\">129760992</td></tr><tr><td class = \"rowNumber\" style = \"font-weight: bold; text-align: right;\">8</td><td style = \"text-align: left;\">mcts_vanilla_depth=50_exploration_constant=25.0_n_iterations=10000_reuse_tree=true</td><td style = \"text-align: right;\">96</td><td style = \"text-align: right;\">10</td><td style = \"text-align: left;\">Dict{Symbol, Any}(:T =&gt; 96, :c =&gt; 3, :res_budget_μ =&gt; 2.0, :nᵣ =&gt; 12, :expected_res =&gt; 12)</td><td style = \"text-align: left;\">Dict{Symbol, Any}(:n_iterations=&gt;10000, :rng=&gt;MersenneTwister(1, (0, 482140050, 482139048, 967, 478708950, 123)), :reuse_tree=&gt;true, :exploration_constant=&gt;25.0, :depth=&gt;50)</td><td style = \"text-align: left;\">PMDPs.PMDPProblem{PMDPs.Revenue, PMDPs.Product{12}, PMDPs.CountingProcesses.StaggeredBernoulliScheme{Float64}, Distributions.Normal{Float64}}</td><td style = \"text-align: right;\">3</td><td style = \"text-align: right;\">2.0</td><td style = \"text-align: left;\">Revenue()</td><td style = \"text-align: right;\">12</td><td style = \"text-align: right;\">12</td><td style = \"text-align: right;\">21.9757</td><td style = \"text-align: right;\">22.5141</td><td style = \"text-align: right;\">14.6389</td><td style = \"text-align: right;\">26.9219</td><td style = \"text-align: right;\">13.1</td><td style = \"text-align: right;\">13.0</td><td style = \"text-align: right;\">9</td><td style = \"text-align: right;\">16</td><td style = \"text-align: right;\">8.9</td><td style = \"text-align: right;\">9.0</td><td style = \"text-align: right;\">7</td><td style = \"text-align: right;\">12</td><td style = \"text-align: right;\">16.2</td><td style = \"text-align: right;\">15.5</td><td style = \"text-align: right;\">12</td><td style = \"text-align: right;\">22</td><td style = \"text-align: right;\">33.7751</td><td style = \"text-align: right;\">33.4101</td><td style = \"text-align: right;\">26.2312</td><td style = \"text-align: right;\">40.4842</td><td style = \"text-align: right;\">3.69062e8</td><td style = \"text-align: right;\">3.5911e8</td><td style = \"text-align: right;\">87608784</td><td style = \"text-align: right;\">871686272</td></tr><tr><td class = \"rowNumber\" style = \"font-weight: bold; text-align: right;\">9</td><td style = \"text-align: left;\">mcts_vanilla_depth=5_exploration_constant=25.0_n_iterations=10000_reuse_tree=true</td><td style = \"text-align: right;\">96</td><td style = \"text-align: right;\">10</td><td style = \"text-align: left;\">Dict{Symbol, Any}(:T =&gt; 96, :c =&gt; 3, :res_budget_μ =&gt; 2.0, :nᵣ =&gt; 12, :expected_res =&gt; 12)</td><td style = \"text-align: left;\">Dict{Symbol, Any}(:n_iterations=&gt;10000, :rng=&gt;MersenneTwister(1, (0, 379489518, 379488516, 154, 379347984, 328)), :reuse_tree=&gt;true, :exploration_constant=&gt;25.0, :depth=&gt;5)</td><td style = \"text-align: left;\">PMDPs.PMDPProblem{PMDPs.Revenue, PMDPs.Product{12}, PMDPs.CountingProcesses.StaggeredBernoulliScheme{Float64}, Distributions.Normal{Float64}}</td><td style = \"text-align: right;\">3</td><td style = \"text-align: right;\">2.0</td><td style = \"text-align: left;\">Revenue()</td><td style = \"text-align: right;\">12</td><td style = \"text-align: right;\">12</td><td style = \"text-align: right;\">21.6449</td><td style = \"text-align: right;\">21.94</td><td style = \"text-align: right;\">14.7283</td><td style = \"text-align: right;\">26.8371</td><td style = \"text-align: right;\">13.0</td><td style = \"text-align: right;\">13.0</td><td style = \"text-align: right;\">9</td><td style = \"text-align: right;\">16</td><td style = \"text-align: right;\">9.2</td><td style = \"text-align: right;\">9.0</td><td style = \"text-align: right;\">7</td><td style = \"text-align: right;\">12</td><td style = \"text-align: right;\">16.2</td><td style = \"text-align: right;\">15.5</td><td style = \"text-align: right;\">12</td><td style = \"text-align: right;\">22</td><td style = \"text-align: right;\">2.89014</td><td style = \"text-align: right;\">2.88523</td><td style = \"text-align: right;\">2.69963</td><td style = \"text-align: right;\">3.13039</td><td style = \"text-align: right;\">3.5959e7</td><td style = \"text-align: right;\">2.53141e7</td><td style = \"text-align: right;\">6661392</td><td style = \"text-align: right;\">131326464</td></tr></tbody></table></div>"
      ],
      "text/latex": [
       "\\begin{tabular}{r|cc}\n",
       "\t& method & \\\\\n",
       "\t\\hline\n",
       "\t& String & \\\\\n",
       "\t\\hline\n",
       "\t1 & mcts\\_vanilla\\_depth=100\\_exploration\\_constant=25.0\\_n\\_iterations=10000\\_reuse\\_tree=true & $\\dots$ \\\\\n",
       "\t2 & mcts\\_vanilla\\_depth=10\\_exploration\\_constant=25.0\\_n\\_iterations=10000\\_reuse\\_tree=true & $\\dots$ \\\\\n",
       "\t3 & mcts\\_vanilla\\_depth=1\\_exploration\\_constant=25.0\\_n\\_iterations=10000\\_reuse\\_tree=true & $\\dots$ \\\\\n",
       "\t4 & mcts\\_vanilla\\_depth=20\\_exploration\\_constant=25.0\\_n\\_iterations=10000\\_reuse\\_tree=true & $\\dots$ \\\\\n",
       "\t5 & mcts\\_vanilla\\_depth=2\\_exploration\\_constant=25.0\\_n\\_iterations=10000\\_reuse\\_tree=true & $\\dots$ \\\\\n",
       "\t6 & mcts\\_vanilla\\_depth=3\\_exploration\\_constant=25.0\\_n\\_iterations=10000\\_reuse\\_tree=true & $\\dots$ \\\\\n",
       "\t7 & mcts\\_vanilla\\_depth=4\\_exploration\\_constant=25.0\\_n\\_iterations=10000\\_reuse\\_tree=true & $\\dots$ \\\\\n",
       "\t8 & mcts\\_vanilla\\_depth=50\\_exploration\\_constant=25.0\\_n\\_iterations=10000\\_reuse\\_tree=true & $\\dots$ \\\\\n",
       "\t9 & mcts\\_vanilla\\_depth=5\\_exploration\\_constant=25.0\\_n\\_iterations=10000\\_reuse\\_tree=true & $\\dots$ \\\\\n",
       "\\end{tabular}\n"
      ],
      "text/plain": [
       "\u001b[1m9×35 DataFrame\u001b[0m\n",
       "\u001b[1m Row \u001b[0m│\u001b[1m method                            \u001b[0m\u001b[1m T     \u001b[0m\u001b[1m N     \u001b[0m\u001b[1m pp_params_str         \u001b[0m ⋯\n",
       "     │\u001b[90m String                            \u001b[0m\u001b[90m Int64 \u001b[0m\u001b[90m Int64 \u001b[0m\u001b[90m String                \u001b[0m ⋯\n",
       "─────┼──────────────────────────────────────────────────────────────────────────\n",
       "   1 │ mcts_vanilla_depth=100_explorati…     96     10  Dict{Symbol, Any}(:T = ⋯\n",
       "   2 │ mcts_vanilla_depth=10_exploratio…     96     10  Dict{Symbol, Any}(:T =\n",
       "   3 │ mcts_vanilla_depth=1_exploration…     96     10  Dict{Symbol, Any}(:T =\n",
       "   4 │ mcts_vanilla_depth=20_exploratio…     96     10  Dict{Symbol, Any}(:T =\n",
       "   5 │ mcts_vanilla_depth=2_exploration…     96     10  Dict{Symbol, Any}(:T = ⋯\n",
       "   6 │ mcts_vanilla_depth=3_exploration…     96     10  Dict{Symbol, Any}(:T =\n",
       "   7 │ mcts_vanilla_depth=4_exploration…     96     10  Dict{Symbol, Any}(:T =\n",
       "   8 │ mcts_vanilla_depth=50_exploratio…     96     10  Dict{Symbol, Any}(:T =\n",
       "   9 │ mcts_vanilla_depth=5_exploration…     96     10  Dict{Symbol, Any}(:T = ⋯\n",
       "\u001b[36m                                                              32 columns omitted\u001b[0m"
      ]
     },
     "execution_count": 69,
     "metadata": {},
     "output_type": "execute_result"
    }
   ],
   "source": [
    "results"
   ]
  },
  {
   "cell_type": "code",
   "execution_count": 43,
   "id": "57fd390f-25c7-460a-bf17-5ad6d4d18b31",
   "metadata": {},
   "outputs": [
    {
     "name": "stdout",
     "output_type": "stream",
     "text": [
      "method\n",
      "T\n",
      "N\n",
      "pp_params_str\n",
      "solver_params\n",
      "pp\n",
      "c\n",
      "res_budget_μ\n",
      "objective\n",
      "nᵣ\n",
      "expected_res\n",
      "mean_r\n",
      "median_r\n",
      "min_r\n",
      "max_r\n",
      "mean_u\n",
      "median_u\n",
      "min_u\n",
      "max_u\n",
      "mean_nₛ\n",
      "median_nₛ\n",
      "min_nₛ\n",
      "max_nₛ\n",
      "mean_nᵣ\n",
      "median_nᵣ\n",
      "min_nᵣ\n",
      "max_nᵣ\n",
      "mean_time\n",
      "median_time\n",
      "min_time\n",
      "max_time\n",
      "mean_bytes\n",
      "median_bytes\n",
      "min_bytes\n",
      "max_bytes\n"
     ]
    }
   ],
   "source": [
    "for n in names(results)\n",
    "    print(n*\"\\n\")\n",
    "end"
   ]
  },
  {
   "cell_type": "code",
   "execution_count": 71,
   "id": "809013aa-0b50-4637-8151-793a4ed5fb87",
   "metadata": {},
   "outputs": [
    {
     "data": {
      "text/plain": [
       "9-element Vector{Int64}:\n",
       " 100\n",
       "  10\n",
       "   1\n",
       "  20\n",
       "   2\n",
       "   3\n",
       "   4\n",
       "  50\n",
       "   5"
      ]
     },
     "execution_count": 71,
     "metadata": {},
     "output_type": "execute_result"
    }
   ],
   "source": [
    "results[!, :depth] = results.solver_params .|> x->get(x, :depth, nothing)"
   ]
  },
  {
   "cell_type": "code",
   "execution_count": 72,
   "id": "404137df-ee14-4252-8245-48bb579eb385",
   "metadata": {},
   "outputs": [
    {
     "data": {
      "text/html": [
       "<div><div style = \"float: left;\"><span>9×36 DataFrame</span></div><div style = \"clear: both;\"></div></div><div class = \"data-frame\" style = \"overflow-x: scroll;\"><table class = \"data-frame\" style = \"margin-bottom: 6px;\"><thead><tr class = \"header\"><th class = \"rowNumber\" style = \"font-weight: bold; text-align: right;\">Row</th><th style = \"text-align: left;\">method</th><th style = \"text-align: left;\">T</th><th style = \"text-align: left;\">N</th><th style = \"text-align: left;\">pp_params_str</th><th style = \"text-align: left;\">solver_params</th><th style = \"text-align: left;\">pp</th><th style = \"text-align: left;\">c</th><th style = \"text-align: left;\">res_budget_μ</th><th style = \"text-align: left;\">objective</th><th style = \"text-align: left;\">nᵣ</th><th style = \"text-align: left;\">expected_res</th><th style = \"text-align: left;\">mean_r</th><th style = \"text-align: left;\">median_r</th><th style = \"text-align: left;\">min_r</th><th style = \"text-align: left;\">max_r</th><th style = \"text-align: left;\">mean_u</th><th style = \"text-align: left;\">median_u</th><th style = \"text-align: left;\">min_u</th><th style = \"text-align: left;\">max_u</th><th style = \"text-align: left;\">mean_nₛ</th><th style = \"text-align: left;\">median_nₛ</th><th style = \"text-align: left;\">min_nₛ</th><th style = \"text-align: left;\">max_nₛ</th><th style = \"text-align: left;\">mean_nᵣ</th><th style = \"text-align: left;\">median_nᵣ</th><th style = \"text-align: left;\">min_nᵣ</th><th style = \"text-align: left;\">max_nᵣ</th><th style = \"text-align: left;\">mean_time</th><th style = \"text-align: left;\">median_time</th><th style = \"text-align: left;\">min_time</th><th style = \"text-align: left;\">max_time</th><th style = \"text-align: left;\">mean_bytes</th><th style = \"text-align: left;\">median_bytes</th><th style = \"text-align: left;\">min_bytes</th><th style = \"text-align: left;\">max_bytes</th><th style = \"text-align: left;\">depth</th></tr><tr class = \"subheader headerLastRow\"><th class = \"rowNumber\" style = \"font-weight: bold; text-align: right;\"></th><th title = \"String\" style = \"text-align: left;\">String</th><th title = \"Int64\" style = \"text-align: left;\">Int64</th><th title = \"Int64\" style = \"text-align: left;\">Int64</th><th title = \"String\" style = \"text-align: left;\">String</th><th title = \"Dict{Symbol, Any}\" style = \"text-align: left;\">Dict…</th><th title = \"PMDPs.PMDPProblem{PMDPs.Revenue, PMDPs.Product{12}, PMDPs.CountingProcesses.StaggeredBernoulliScheme{Float64}, Distributions.Normal{Float64}}\" style = \"text-align: left;\">PMDPProb…</th><th title = \"Int64\" style = \"text-align: left;\">Int64</th><th title = \"Float64\" style = \"text-align: left;\">Float64</th><th title = \"PMDPs.Revenue\" style = \"text-align: left;\">Revenue</th><th title = \"Int64\" style = \"text-align: left;\">Int64</th><th title = \"Int64\" style = \"text-align: left;\">Int64</th><th title = \"Float64\" style = \"text-align: left;\">Float64</th><th title = \"Float64\" style = \"text-align: left;\">Float64</th><th title = \"Real\" style = \"text-align: left;\">Real</th><th title = \"Real\" style = \"text-align: left;\">Real</th><th title = \"Float64\" style = \"text-align: left;\">Float64</th><th title = \"Float64\" style = \"text-align: left;\">Float64</th><th title = \"Real\" style = \"text-align: left;\">Real</th><th title = \"Real\" style = \"text-align: left;\">Real</th><th title = \"Float64\" style = \"text-align: left;\">Float64</th><th title = \"Float64\" style = \"text-align: left;\">Float64</th><th title = \"Real\" style = \"text-align: left;\">Real</th><th title = \"Real\" style = \"text-align: left;\">Real</th><th title = \"Float64\" style = \"text-align: left;\">Float64</th><th title = \"Float64\" style = \"text-align: left;\">Float64</th><th title = \"Real\" style = \"text-align: left;\">Real</th><th title = \"Real\" style = \"text-align: left;\">Real</th><th title = \"Float64\" style = \"text-align: left;\">Float64</th><th title = \"Float64\" style = \"text-align: left;\">Float64</th><th title = \"Real\" style = \"text-align: left;\">Real</th><th title = \"Real\" style = \"text-align: left;\">Real</th><th title = \"Float64\" style = \"text-align: left;\">Float64</th><th title = \"Float64\" style = \"text-align: left;\">Float64</th><th title = \"Real\" style = \"text-align: left;\">Real</th><th title = \"Real\" style = \"text-align: left;\">Real</th><th title = \"Int64\" style = \"text-align: left;\">Int64</th></tr></thead><tbody><tr><td class = \"rowNumber\" style = \"font-weight: bold; text-align: right;\">1</td><td style = \"text-align: left;\">mcts_vanilla_depth=1_exploration_constant=25.0_n_iterations=10000_reuse_tree=true</td><td style = \"text-align: right;\">96</td><td style = \"text-align: right;\">10</td><td style = \"text-align: left;\">Dict{Symbol, Any}(:T =&gt; 96, :c =&gt; 3, :res_budget_μ =&gt; 2.0, :nᵣ =&gt; 12, :expected_res =&gt; 12)</td><td style = \"text-align: left;\">Dict{Symbol, Any}(:n_iterations=&gt;10000, :rng=&gt;MersenneTwister(1, (0, 364388436, 364387434, 452, 364386180, 572)), :reuse_tree=&gt;true, :exploration_constant=&gt;25.0, :depth=&gt;1)</td><td style = \"text-align: left;\">PMDPs.PMDPProblem{PMDPs.Revenue, PMDPs.Product{12}, PMDPs.CountingProcesses.StaggeredBernoulliScheme{Float64}, Distributions.Normal{Float64}}</td><td style = \"text-align: right;\">3</td><td style = \"text-align: right;\">2.0</td><td style = \"text-align: left;\">Revenue()</td><td style = \"text-align: right;\">12</td><td style = \"text-align: right;\">12</td><td style = \"text-align: right;\">21.6193</td><td style = \"text-align: right;\">21.192</td><td style = \"text-align: right;\">12.2</td><td style = \"text-align: right;\">28.6257</td><td style = \"text-align: right;\">13.2</td><td style = \"text-align: right;\">13.0</td><td style = \"text-align: right;\">8</td><td style = \"text-align: right;\">18</td><td style = \"text-align: right;\">9.4</td><td style = \"text-align: right;\">9.0</td><td style = \"text-align: right;\">6</td><td style = \"text-align: right;\">12</td><td style = \"text-align: right;\">16.2</td><td style = \"text-align: right;\">15.5</td><td style = \"text-align: right;\">12</td><td style = \"text-align: right;\">22</td><td style = \"text-align: right;\">1.63721</td><td style = \"text-align: right;\">1.6293</td><td style = \"text-align: right;\">1.44287</td><td style = \"text-align: right;\">1.84206</td><td style = \"text-align: right;\">4.06099e6</td><td style = \"text-align: right;\">2.7643e6</td><td style = \"text-align: right;\">1009008</td><td style = \"text-align: right;\">11323840</td><td style = \"text-align: right;\">1</td></tr><tr><td class = \"rowNumber\" style = \"font-weight: bold; text-align: right;\">2</td><td style = \"text-align: left;\">mcts_vanilla_depth=2_exploration_constant=25.0_n_iterations=10000_reuse_tree=true</td><td style = \"text-align: right;\">96</td><td style = \"text-align: right;\">10</td><td style = \"text-align: left;\">Dict{Symbol, Any}(:T =&gt; 96, :c =&gt; 3, :res_budget_μ =&gt; 2.0, :nᵣ =&gt; 12, :expected_res =&gt; 12)</td><td style = \"text-align: left;\">Dict{Symbol, Any}(:n_iterations=&gt;10000, :rng=&gt;MersenneTwister(1, (0, 368222766, 368221764, 904, 368206482, 732)), :reuse_tree=&gt;true, :exploration_constant=&gt;25.0, :depth=&gt;2)</td><td style = \"text-align: left;\">PMDPs.PMDPProblem{PMDPs.Revenue, PMDPs.Product{12}, PMDPs.CountingProcesses.StaggeredBernoulliScheme{Float64}, Distributions.Normal{Float64}}</td><td style = \"text-align: right;\">3</td><td style = \"text-align: right;\">2.0</td><td style = \"text-align: left;\">Revenue()</td><td style = \"text-align: right;\">12</td><td style = \"text-align: right;\">12</td><td style = \"text-align: right;\">21.593</td><td style = \"text-align: right;\">21.8207</td><td style = \"text-align: right;\">14.5731</td><td style = \"text-align: right;\">27.6162</td><td style = \"text-align: right;\">13.0</td><td style = \"text-align: right;\">13.5</td><td style = \"text-align: right;\">9</td><td style = \"text-align: right;\">17</td><td style = \"text-align: right;\">9.2</td><td style = \"text-align: right;\">9.5</td><td style = \"text-align: right;\">7</td><td style = \"text-align: right;\">12</td><td style = \"text-align: right;\">16.2</td><td style = \"text-align: right;\">15.5</td><td style = \"text-align: right;\">12</td><td style = \"text-align: right;\">22</td><td style = \"text-align: right;\">1.97619</td><td style = \"text-align: right;\">1.94386</td><td style = \"text-align: right;\">1.89297</td><td style = \"text-align: right;\">2.07617</td><td style = \"text-align: right;\">1.26128e7</td><td style = \"text-align: right;\">9.69263e6</td><td style = \"text-align: right;\">2861328</td><td style = \"text-align: right;\">49332056</td><td style = \"text-align: right;\">2</td></tr><tr><td class = \"rowNumber\" style = \"font-weight: bold; text-align: right;\">3</td><td style = \"text-align: left;\">mcts_vanilla_depth=3_exploration_constant=25.0_n_iterations=10000_reuse_tree=true</td><td style = \"text-align: right;\">96</td><td style = \"text-align: right;\">10</td><td style = \"text-align: left;\">Dict{Symbol, Any}(:T =&gt; 96, :c =&gt; 3, :res_budget_μ =&gt; 2.0, :nᵣ =&gt; 12, :expected_res =&gt; 12)</td><td style = \"text-align: left;\">Dict{Symbol, Any}(:n_iterations=&gt;10000, :rng=&gt;MersenneTwister(1, (0, 372004026, 372003024, 564, 371953674, 663)), :reuse_tree=&gt;true, :exploration_constant=&gt;25.0, :depth=&gt;3)</td><td style = \"text-align: left;\">PMDPs.PMDPProblem{PMDPs.Revenue, PMDPs.Product{12}, PMDPs.CountingProcesses.StaggeredBernoulliScheme{Float64}, Distributions.Normal{Float64}}</td><td style = \"text-align: right;\">3</td><td style = \"text-align: right;\">2.0</td><td style = \"text-align: left;\">Revenue()</td><td style = \"text-align: right;\">12</td><td style = \"text-align: right;\">12</td><td style = \"text-align: right;\">21.9263</td><td style = \"text-align: right;\">23.1231</td><td style = \"text-align: right;\">12.7074</td><td style = \"text-align: right;\">28.0071</td><td style = \"text-align: right;\">13.3</td><td style = \"text-align: right;\">13.5</td><td style = \"text-align: right;\">8</td><td style = \"text-align: right;\">17</td><td style = \"text-align: right;\">9.5</td><td style = \"text-align: right;\">9.0</td><td style = \"text-align: right;\">6</td><td style = \"text-align: right;\">12</td><td style = \"text-align: right;\">16.2</td><td style = \"text-align: right;\">15.5</td><td style = \"text-align: right;\">12</td><td style = \"text-align: right;\">22</td><td style = \"text-align: right;\">2.25878</td><td style = \"text-align: right;\">2.24327</td><td style = \"text-align: right;\">2.1701</td><td style = \"text-align: right;\">2.56091</td><td style = \"text-align: right;\">1.95083e7</td><td style = \"text-align: right;\">1.64598e7</td><td style = \"text-align: right;\">4120464</td><td style = \"text-align: right;\">52309496</td><td style = \"text-align: right;\">3</td></tr><tr><td class = \"rowNumber\" style = \"font-weight: bold; text-align: right;\">4</td><td style = \"text-align: left;\">mcts_vanilla_depth=4_exploration_constant=25.0_n_iterations=10000_reuse_tree=true</td><td style = \"text-align: right;\">96</td><td style = \"text-align: right;\">10</td><td style = \"text-align: left;\">Dict{Symbol, Any}(:T =&gt; 96, :c =&gt; 3, :res_budget_μ =&gt; 2.0, :nᵣ =&gt; 12, :expected_res =&gt; 12)</td><td style = \"text-align: left;\">Dict{Symbol, Any}(:n_iterations=&gt;10000, :rng=&gt;MersenneTwister(1, (0, 375765288, 375764286, 385, 375671850, 113)), :reuse_tree=&gt;true, :exploration_constant=&gt;25.0, :depth=&gt;4)</td><td style = \"text-align: left;\">PMDPs.PMDPProblem{PMDPs.Revenue, PMDPs.Product{12}, PMDPs.CountingProcesses.StaggeredBernoulliScheme{Float64}, Distributions.Normal{Float64}}</td><td style = \"text-align: right;\">3</td><td style = \"text-align: right;\">2.0</td><td style = \"text-align: left;\">Revenue()</td><td style = \"text-align: right;\">12</td><td style = \"text-align: right;\">12</td><td style = \"text-align: right;\">20.8806</td><td style = \"text-align: right;\">22.0818</td><td style = \"text-align: right;\">11.3988</td><td style = \"text-align: right;\">27.7914</td><td style = \"text-align: right;\">12.7</td><td style = \"text-align: right;\">13.0</td><td style = \"text-align: right;\">8</td><td style = \"text-align: right;\">17</td><td style = \"text-align: right;\">8.9</td><td style = \"text-align: right;\">9.0</td><td style = \"text-align: right;\">6</td><td style = \"text-align: right;\">11</td><td style = \"text-align: right;\">16.2</td><td style = \"text-align: right;\">15.5</td><td style = \"text-align: right;\">12</td><td style = \"text-align: right;\">22</td><td style = \"text-align: right;\">2.60045</td><td style = \"text-align: right;\">2.6252</td><td style = \"text-align: right;\">2.31586</td><td style = \"text-align: right;\">2.76559</td><td style = \"text-align: right;\">3.38199e7</td><td style = \"text-align: right;\">2.02185e7</td><td style = \"text-align: right;\">5558928</td><td style = \"text-align: right;\">129760992</td><td style = \"text-align: right;\">4</td></tr><tr><td class = \"rowNumber\" style = \"font-weight: bold; text-align: right;\">5</td><td style = \"text-align: left;\">mcts_vanilla_depth=5_exploration_constant=25.0_n_iterations=10000_reuse_tree=true</td><td style = \"text-align: right;\">96</td><td style = \"text-align: right;\">10</td><td style = \"text-align: left;\">Dict{Symbol, Any}(:T =&gt; 96, :c =&gt; 3, :res_budget_μ =&gt; 2.0, :nᵣ =&gt; 12, :expected_res =&gt; 12)</td><td style = \"text-align: left;\">Dict{Symbol, Any}(:n_iterations=&gt;10000, :rng=&gt;MersenneTwister(1, (0, 379489518, 379488516, 154, 379347984, 328)), :reuse_tree=&gt;true, :exploration_constant=&gt;25.0, :depth=&gt;5)</td><td style = \"text-align: left;\">PMDPs.PMDPProblem{PMDPs.Revenue, PMDPs.Product{12}, PMDPs.CountingProcesses.StaggeredBernoulliScheme{Float64}, Distributions.Normal{Float64}}</td><td style = \"text-align: right;\">3</td><td style = \"text-align: right;\">2.0</td><td style = \"text-align: left;\">Revenue()</td><td style = \"text-align: right;\">12</td><td style = \"text-align: right;\">12</td><td style = \"text-align: right;\">21.6449</td><td style = \"text-align: right;\">21.94</td><td style = \"text-align: right;\">14.7283</td><td style = \"text-align: right;\">26.8371</td><td style = \"text-align: right;\">13.0</td><td style = \"text-align: right;\">13.0</td><td style = \"text-align: right;\">9</td><td style = \"text-align: right;\">16</td><td style = \"text-align: right;\">9.2</td><td style = \"text-align: right;\">9.0</td><td style = \"text-align: right;\">7</td><td style = \"text-align: right;\">12</td><td style = \"text-align: right;\">16.2</td><td style = \"text-align: right;\">15.5</td><td style = \"text-align: right;\">12</td><td style = \"text-align: right;\">22</td><td style = \"text-align: right;\">2.89014</td><td style = \"text-align: right;\">2.88523</td><td style = \"text-align: right;\">2.69963</td><td style = \"text-align: right;\">3.13039</td><td style = \"text-align: right;\">3.5959e7</td><td style = \"text-align: right;\">2.53141e7</td><td style = \"text-align: right;\">6661392</td><td style = \"text-align: right;\">131326464</td><td style = \"text-align: right;\">5</td></tr><tr><td class = \"rowNumber\" style = \"font-weight: bold; text-align: right;\">6</td><td style = \"text-align: left;\">mcts_vanilla_depth=10_exploration_constant=25.0_n_iterations=10000_reuse_tree=true</td><td style = \"text-align: right;\">96</td><td style = \"text-align: right;\">10</td><td style = \"text-align: left;\">Dict{Symbol, Any}(:T =&gt; 96, :c =&gt; 3, :res_budget_μ =&gt; 2.0, :nᵣ =&gt; 12, :expected_res =&gt; 12)</td><td style = \"text-align: left;\">Dict{Symbol, Any}(:n_iterations=&gt;10000, :rng=&gt;MersenneTwister(1, (0, 397168248, 397167246, 959, 396611886, 472)), :reuse_tree=&gt;true, :exploration_constant=&gt;25.0, :depth=&gt;10)</td><td style = \"text-align: left;\">PMDPs.PMDPProblem{PMDPs.Revenue, PMDPs.Product{12}, PMDPs.CountingProcesses.StaggeredBernoulliScheme{Float64}, Distributions.Normal{Float64}}</td><td style = \"text-align: right;\">3</td><td style = \"text-align: right;\">2.0</td><td style = \"text-align: left;\">Revenue()</td><td style = \"text-align: right;\">12</td><td style = \"text-align: right;\">12</td><td style = \"text-align: right;\">21.3644</td><td style = \"text-align: right;\">21.1762</td><td style = \"text-align: right;\">13.2977</td><td style = \"text-align: right;\">28.2797</td><td style = \"text-align: right;\">12.9</td><td style = \"text-align: right;\">13.0</td><td style = \"text-align: right;\">8</td><td style = \"text-align: right;\">17</td><td style = \"text-align: right;\">9.0</td><td style = \"text-align: right;\">8.5</td><td style = \"text-align: right;\">6</td><td style = \"text-align: right;\">12</td><td style = \"text-align: right;\">16.2</td><td style = \"text-align: right;\">15.5</td><td style = \"text-align: right;\">12</td><td style = \"text-align: right;\">22</td><td style = \"text-align: right;\">4.6947</td><td style = \"text-align: right;\">4.71815</td><td style = \"text-align: right;\">4.32058</td><td style = \"text-align: right;\">5.04155</td><td style = \"text-align: right;\">7.52637e7</td><td style = \"text-align: right;\">3.8079e7</td><td style = \"text-align: right;\">13108368</td><td style = \"text-align: right;\">262483976</td><td style = \"text-align: right;\">10</td></tr><tr><td class = \"rowNumber\" style = \"font-weight: bold; text-align: right;\">7</td><td style = \"text-align: left;\">mcts_vanilla_depth=20_exploration_constant=25.0_n_iterations=10000_reuse_tree=true</td><td style = \"text-align: right;\">96</td><td style = \"text-align: right;\">10</td><td style = \"text-align: left;\">Dict{Symbol, Any}(:T =&gt; 96, :c =&gt; 3, :res_budget_μ =&gt; 2.0, :nᵣ =&gt; 12, :expected_res =&gt; 12)</td><td style = \"text-align: left;\">Dict{Symbol, Any}(:n_iterations=&gt;10000, :rng=&gt;MersenneTwister(1, (0, 427927242, 427926240, 321, 425646438, 694)), :reuse_tree=&gt;true, :exploration_constant=&gt;25.0, :depth=&gt;20)</td><td style = \"text-align: left;\">PMDPs.PMDPProblem{PMDPs.Revenue, PMDPs.Product{12}, PMDPs.CountingProcesses.StaggeredBernoulliScheme{Float64}, Distributions.Normal{Float64}}</td><td style = \"text-align: right;\">3</td><td style = \"text-align: right;\">2.0</td><td style = \"text-align: left;\">Revenue()</td><td style = \"text-align: right;\">12</td><td style = \"text-align: right;\">12</td><td style = \"text-align: right;\">22.4321</td><td style = \"text-align: right;\">23.1863</td><td style = \"text-align: right;\">13.9396</td><td style = \"text-align: right;\">31.9538</td><td style = \"text-align: right;\">13.5</td><td style = \"text-align: right;\">14.0</td><td style = \"text-align: right;\">9</td><td style = \"text-align: right;\">19</td><td style = \"text-align: right;\">9.6</td><td style = \"text-align: right;\">9.0</td><td style = \"text-align: right;\">7</td><td style = \"text-align: right;\">14</td><td style = \"text-align: right;\">16.2</td><td style = \"text-align: right;\">15.5</td><td style = \"text-align: right;\">12</td><td style = \"text-align: right;\">22</td><td style = \"text-align: right;\">10.3994</td><td style = \"text-align: right;\">10.5703</td><td style = \"text-align: right;\">8.97715</td><td style = \"text-align: right;\">12.0143</td><td style = \"text-align: right;\">1.55403e8</td><td style = \"text-align: right;\">1.36728e8</td><td style = \"text-align: right;\">28361616</td><td style = \"text-align: right;\">333557256</td><td style = \"text-align: right;\">20</td></tr><tr><td class = \"rowNumber\" style = \"font-weight: bold; text-align: right;\">8</td><td style = \"text-align: left;\">mcts_vanilla_depth=50_exploration_constant=25.0_n_iterations=10000_reuse_tree=true</td><td style = \"text-align: right;\">96</td><td style = \"text-align: right;\">10</td><td style = \"text-align: left;\">Dict{Symbol, Any}(:T =&gt; 96, :c =&gt; 3, :res_budget_μ =&gt; 2.0, :nᵣ =&gt; 12, :expected_res =&gt; 12)</td><td style = \"text-align: left;\">Dict{Symbol, Any}(:n_iterations=&gt;10000, :rng=&gt;MersenneTwister(1, (0, 482140050, 482139048, 967, 478708950, 123)), :reuse_tree=&gt;true, :exploration_constant=&gt;25.0, :depth=&gt;50)</td><td style = \"text-align: left;\">PMDPs.PMDPProblem{PMDPs.Revenue, PMDPs.Product{12}, PMDPs.CountingProcesses.StaggeredBernoulliScheme{Float64}, Distributions.Normal{Float64}}</td><td style = \"text-align: right;\">3</td><td style = \"text-align: right;\">2.0</td><td style = \"text-align: left;\">Revenue()</td><td style = \"text-align: right;\">12</td><td style = \"text-align: right;\">12</td><td style = \"text-align: right;\">21.9757</td><td style = \"text-align: right;\">22.5141</td><td style = \"text-align: right;\">14.6389</td><td style = \"text-align: right;\">26.9219</td><td style = \"text-align: right;\">13.1</td><td style = \"text-align: right;\">13.0</td><td style = \"text-align: right;\">9</td><td style = \"text-align: right;\">16</td><td style = \"text-align: right;\">8.9</td><td style = \"text-align: right;\">9.0</td><td style = \"text-align: right;\">7</td><td style = \"text-align: right;\">12</td><td style = \"text-align: right;\">16.2</td><td style = \"text-align: right;\">15.5</td><td style = \"text-align: right;\">12</td><td style = \"text-align: right;\">22</td><td style = \"text-align: right;\">33.7751</td><td style = \"text-align: right;\">33.4101</td><td style = \"text-align: right;\">26.2312</td><td style = \"text-align: right;\">40.4842</td><td style = \"text-align: right;\">3.69062e8</td><td style = \"text-align: right;\">3.5911e8</td><td style = \"text-align: right;\">87608784</td><td style = \"text-align: right;\">871686272</td><td style = \"text-align: right;\">50</td></tr><tr><td class = \"rowNumber\" style = \"font-weight: bold; text-align: right;\">9</td><td style = \"text-align: left;\">mcts_vanilla_depth=100_exploration_constant=25.0_n_iterations=10000_reuse_tree=true</td><td style = \"text-align: right;\">96</td><td style = \"text-align: right;\">10</td><td style = \"text-align: left;\">Dict{Symbol, Any}(:T =&gt; 96, :c =&gt; 3, :res_budget_μ =&gt; 2.0, :nᵣ =&gt; 12, :expected_res =&gt; 12)</td><td style = \"text-align: left;\">Dict{Symbol, Any}(:n_iterations=&gt;10000, :rng=&gt;MersenneTwister(1, (0, 493505664, 493504662, 637, 488311044, 622)), :reuse_tree=&gt;true, :exploration_constant=&gt;25.0, :depth=&gt;100)</td><td style = \"text-align: left;\">PMDPs.PMDPProblem{PMDPs.Revenue, PMDPs.Product{12}, PMDPs.CountingProcesses.StaggeredBernoulliScheme{Float64}, Distributions.Normal{Float64}}</td><td style = \"text-align: right;\">3</td><td style = \"text-align: right;\">2.0</td><td style = \"text-align: left;\">Revenue()</td><td style = \"text-align: right;\">12</td><td style = \"text-align: right;\">12</td><td style = \"text-align: right;\">21.7414</td><td style = \"text-align: right;\">22.478</td><td style = \"text-align: right;\">14.2078</td><td style = \"text-align: right;\">27.4452</td><td style = \"text-align: right;\">13.2</td><td style = \"text-align: right;\">14.0</td><td style = \"text-align: right;\">9</td><td style = \"text-align: right;\">17</td><td style = \"text-align: right;\">9.3</td><td style = \"text-align: right;\">9.0</td><td style = \"text-align: right;\">7</td><td style = \"text-align: right;\">12</td><td style = \"text-align: right;\">16.2</td><td style = \"text-align: right;\">15.5</td><td style = \"text-align: right;\">12</td><td style = \"text-align: right;\">22</td><td style = \"text-align: right;\">38.5907</td><td style = \"text-align: right;\">38.6089</td><td style = \"text-align: right;\">29.7442</td><td style = \"text-align: right;\">46.7234</td><td style = \"text-align: right;\">5.16526e8</td><td style = \"text-align: right;\">5.82642e8</td><td style = \"text-align: right;\">74805936</td><td style = \"text-align: right;\">1138715040</td><td style = \"text-align: right;\">100</td></tr></tbody></table></div>"
      ],
      "text/latex": [
       "\\begin{tabular}{r|cc}\n",
       "\t& method & \\\\\n",
       "\t\\hline\n",
       "\t& String & \\\\\n",
       "\t\\hline\n",
       "\t1 & mcts\\_vanilla\\_depth=1\\_exploration\\_constant=25.0\\_n\\_iterations=10000\\_reuse\\_tree=true & $\\dots$ \\\\\n",
       "\t2 & mcts\\_vanilla\\_depth=2\\_exploration\\_constant=25.0\\_n\\_iterations=10000\\_reuse\\_tree=true & $\\dots$ \\\\\n",
       "\t3 & mcts\\_vanilla\\_depth=3\\_exploration\\_constant=25.0\\_n\\_iterations=10000\\_reuse\\_tree=true & $\\dots$ \\\\\n",
       "\t4 & mcts\\_vanilla\\_depth=4\\_exploration\\_constant=25.0\\_n\\_iterations=10000\\_reuse\\_tree=true & $\\dots$ \\\\\n",
       "\t5 & mcts\\_vanilla\\_depth=5\\_exploration\\_constant=25.0\\_n\\_iterations=10000\\_reuse\\_tree=true & $\\dots$ \\\\\n",
       "\t6 & mcts\\_vanilla\\_depth=10\\_exploration\\_constant=25.0\\_n\\_iterations=10000\\_reuse\\_tree=true & $\\dots$ \\\\\n",
       "\t7 & mcts\\_vanilla\\_depth=20\\_exploration\\_constant=25.0\\_n\\_iterations=10000\\_reuse\\_tree=true & $\\dots$ \\\\\n",
       "\t8 & mcts\\_vanilla\\_depth=50\\_exploration\\_constant=25.0\\_n\\_iterations=10000\\_reuse\\_tree=true & $\\dots$ \\\\\n",
       "\t9 & mcts\\_vanilla\\_depth=100\\_exploration\\_constant=25.0\\_n\\_iterations=10000\\_reuse\\_tree=true & $\\dots$ \\\\\n",
       "\\end{tabular}\n"
      ],
      "text/plain": [
       "\u001b[1m9×36 DataFrame\u001b[0m\n",
       "\u001b[1m Row \u001b[0m│\u001b[1m method                            \u001b[0m\u001b[1m T     \u001b[0m\u001b[1m N     \u001b[0m\u001b[1m pp_params_str         \u001b[0m ⋯\n",
       "     │\u001b[90m String                            \u001b[0m\u001b[90m Int64 \u001b[0m\u001b[90m Int64 \u001b[0m\u001b[90m String                \u001b[0m ⋯\n",
       "─────┼──────────────────────────────────────────────────────────────────────────\n",
       "   1 │ mcts_vanilla_depth=1_exploration…     96     10  Dict{Symbol, Any}(:T = ⋯\n",
       "   2 │ mcts_vanilla_depth=2_exploration…     96     10  Dict{Symbol, Any}(:T =\n",
       "   3 │ mcts_vanilla_depth=3_exploration…     96     10  Dict{Symbol, Any}(:T =\n",
       "   4 │ mcts_vanilla_depth=4_exploration…     96     10  Dict{Symbol, Any}(:T =\n",
       "   5 │ mcts_vanilla_depth=5_exploration…     96     10  Dict{Symbol, Any}(:T = ⋯\n",
       "   6 │ mcts_vanilla_depth=10_exploratio…     96     10  Dict{Symbol, Any}(:T =\n",
       "   7 │ mcts_vanilla_depth=20_exploratio…     96     10  Dict{Symbol, Any}(:T =\n",
       "   8 │ mcts_vanilla_depth=50_exploratio…     96     10  Dict{Symbol, Any}(:T =\n",
       "   9 │ mcts_vanilla_depth=100_explorati…     96     10  Dict{Symbol, Any}(:T = ⋯\n",
       "\u001b[36m                                                              33 columns omitted\u001b[0m"
      ]
     },
     "execution_count": 72,
     "metadata": {},
     "output_type": "execute_result"
    }
   ],
   "source": [
    "sort!(results, [:depth])"
   ]
  },
  {
   "cell_type": "code",
   "execution_count": 77,
   "id": "67209425-96db-4eca-88a4-83114901482e",
   "metadata": {},
   "outputs": [
    {
     "data": {
      "text/plain": [
       "9-element Vector{Float64}:\n",
       "  1.6372052199999998\n",
       "  1.9761858200000002\n",
       "  2.25877559\n",
       "  2.60045111\n",
       "  2.89013943\n",
       "  4.69469536\n",
       " 10.399430689999999\n",
       " 33.77510292\n",
       " 38.59070077"
      ]
     },
     "execution_count": 77,
     "metadata": {},
     "output_type": "execute_result"
    }
   ],
   "source": [
    "results.mean_time"
   ]
  },
  {
   "cell_type": "code",
   "execution_count": 78,
   "id": "04483d7e-b2b9-43a9-be83-9bcb3f1306ff",
   "metadata": {},
   "outputs": [
    {
     "data": {
      "text/plain": [
       "9-element Vector{Float64}:\n",
       " 21.6192557218086\n",
       " 21.592982418560894\n",
       " 21.926257476823483\n",
       " 20.88055114429576\n",
       " 21.644854437384986\n",
       " 21.364378014600963\n",
       " 22.432104516449375\n",
       " 21.975748313457206\n",
       " 21.74141244308968"
      ]
     },
     "execution_count": 78,
     "metadata": {},
     "output_type": "execute_result"
    }
   ],
   "source": [
    "results.mean_r"
   ]
  },
  {
   "cell_type": "code",
   "execution_count": 79,
   "id": "177fc235-d5d8-4c30-b864-726ab3cbe4ff",
   "metadata": {},
   "outputs": [
    {
     "data": {
      "text/plain": [
       "9-element Vector{Float64}:\n",
       " 16.2\n",
       " 16.2\n",
       " 16.2\n",
       " 16.2\n",
       " 16.2\n",
       " 16.2\n",
       " 16.2\n",
       " 16.2\n",
       " 16.2"
      ]
     },
     "execution_count": 79,
     "metadata": {},
     "output_type": "execute_result"
    }
   ],
   "source": [
    "results.mean_nᵣ"
   ]
  },
  {
   "cell_type": "code",
   "execution_count": 80,
   "id": "2a105f3c-1d1d-4d72-a924-6be9b6b0ec00",
   "metadata": {},
   "outputs": [
    {
     "data": {
      "text/plain": [
       "9-element Vector{Float64}:\n",
       " 9.4\n",
       " 9.2\n",
       " 9.5\n",
       " 8.9\n",
       " 9.2\n",
       " 9.0\n",
       " 9.6\n",
       " 8.9\n",
       " 9.3"
      ]
     },
     "execution_count": 80,
     "metadata": {},
     "output_type": "execute_result"
    }
   ],
   "source": [
    "results.mean_nₛ"
   ]
  },
  {
   "cell_type": "code",
   "execution_count": null,
   "id": "539f249b-95f7-4d88-b4a2-e0def4bc3c7a",
   "metadata": {},
   "outputs": [],
   "source": []
  }
 ],
 "metadata": {
  "kernelspec": {
   "display_name": "Julia 1.10.2",
   "language": "julia",
   "name": "julia-1.10"
  },
  "language_info": {
   "file_extension": ".jl",
   "mimetype": "application/julia",
   "name": "julia",
   "version": "1.10.2"
  }
 },
 "nbformat": 4,
 "nbformat_minor": 5
}
