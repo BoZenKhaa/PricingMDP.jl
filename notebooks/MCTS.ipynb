{
 "cells": [
  {
   "cell_type": "code",
   "execution_count": 1,
   "metadata": {},
   "outputs": [],
   "source": [
    "using Revise"
   ]
  },
  {
   "cell_type": "code",
   "execution_count": 1,
   "metadata": {},
   "outputs": [],
   "source": [
    "using PricingMDP\n",
    "\n",
    "using StaticArrays\n",
    "using POMDPs\n",
    "using MCTS, DiscreteValueIteration\n",
    "using StatsBase\n",
    "using Plots\n",
    "using POMDPSimulators\n",
    "using D3Trees\n",
    "using POMDPPolicies\n",
    "using Random\n",
    "using POMDPModelTools"
   ]
  },
  {
   "cell_type": "code",
   "execution_count": 2,
   "metadata": {},
   "outputs": [
    {
     "data": {
      "text/plain": [
       "PMDPg(2, 10, PricingMDP.Edge[PricingMDP.Edge(1, 2, 10), PricingMDP.Edge(2, 2, 10)], SArray{Tuple{n_edges},Bool,1,n_edges} where n_edges[[0, 0], [1, 0], [0, 1], [1, 1]], [0.0, 1.0, 1.0, 2.0], [10, 10, 10, 10], Bool[0, 0])"
      ]
     },
     "execution_count": 2,
     "metadata": {},
     "output_type": "execute_result"
    }
   ],
   "source": [
    "include(\"../test/PMDP_instances/e2.jl\")\n",
    "mdp = PMDPg(edges, products, λ)"
   ]
  },
  {
   "cell_type": "code",
   "execution_count": 3,
   "metadata": {},
   "outputs": [],
   "source": [
    "solver = MCTSSolver(n_iterations=1000, \n",
    "                    depth=11, \n",
    "                    exploration_constant=20.0, \n",
    "                    enable_tree_vis=true)\n",
    "planner = solve(solver, mdp);\n",
    "# state = initialstate(mdp, Random.MersenneTwister(4))"
   ]
  },
  {
   "cell_type": "code",
   "execution_count": 4,
   "metadata": {},
   "outputs": [
    {
     "ename": "ArgumentError",
     "evalue": "ArgumentError: Sampler for this object is not defined",
     "output_type": "error",
     "traceback": [
      "ArgumentError: Sampler for this object is not defined",
      "",
      "Stacktrace:",
      " [1] Random.Sampler(::Type{MersenneTwister}, ::Random.SamplerTrivial{Float64,Float64}, ::Val{1}) at D:\\buildbot\\worker\\package_win64\\build\\usr\\share\\julia\\stdlib\\v1.4\\Random\\src\\Random.jl:145",
      " [2] Random.Sampler(::Random._GLOBAL_RNG, ::Random.SamplerTrivial{Float64,Float64}, ::Val{1}) at D:\\buildbot\\worker\\package_win64\\build\\usr\\share\\julia\\stdlib\\v1.4\\Random\\src\\Random.jl:139",
      " [3] rand(::Random._GLOBAL_RNG, ::Random.SamplerTrivial{Float64,Float64}) at D:\\buildbot\\worker\\package_win64\\build\\usr\\share\\julia\\stdlib\\v1.4\\Random\\src\\Random.jl:253 (repeats 2 times)",
      " [4] action(::RandomPolicy{Random._GLOBAL_RNG,PMDPg,BeliefUpdaters.NothingUpdater}, ::State{2}) at C:\\Users\\Honza\\.julia\\packages\\POMDPPolicies\\rUyW9\\src\\random.jl:30",
      " [5] simulate(::RolloutSimulator{Random._GLOBAL_RNG}, ::PMDPg, ::RandomPolicy{Random._GLOBAL_RNG,PMDPg,BeliefUpdaters.NothingUpdater}, ::State{2}) at C:\\Users\\Honza\\.julia\\packages\\POMDPSimulators\\giDMN\\src\\rollout.jl:167",
      " [6] rollout at C:\\Users\\Honza\\.julia\\packages\\MCTS\\s3xYP\\src\\domain_knowledge.jl:54 [inlined]",
      " [7] estimate_value(::MCTS.SolvedRolloutEstimator{RandomPolicy{Random._GLOBAL_RNG,PMDPg,BeliefUpdaters.NothingUpdater},Random._GLOBAL_RNG}, ::PMDPg, ::State{2}, ::Int64) at C:\\Users\\Honza\\.julia\\packages\\MCTS\\s3xYP\\src\\domain_knowledge.jl:49",
      " [8] simulate(::MCTSPlanner{PMDPg,State,Float64,MCTS.SolvedRolloutEstimator{RandomPolicy{Random._GLOBAL_RNG,PMDPg,BeliefUpdaters.NothingUpdater},Random._GLOBAL_RNG},Random._GLOBAL_RNG}, ::StateNode{State,Float64}, ::Int64) at C:\\Users\\Honza\\.julia\\packages\\MCTS\\s3xYP\\src\\vanilla.jl:300",
      " [9] build_tree(::MCTSPlanner{PMDPg,State,Float64,MCTS.SolvedRolloutEstimator{RandomPolicy{Random._GLOBAL_RNG,PMDPg,BeliefUpdaters.NothingUpdater},Random._GLOBAL_RNG},Random._GLOBAL_RNG}, ::State{2}) at C:\\Users\\Honza\\.julia\\packages\\MCTS\\s3xYP\\src\\vanilla.jl:267",
      " [10] plan! at C:\\Users\\Honza\\.julia\\packages\\MCTS\\s3xYP\\src\\vanilla.jl:242 [inlined]",
      " [11] action_info(::MCTSPlanner{PMDPg,State,Float64,MCTS.SolvedRolloutEstimator{RandomPolicy{Random._GLOBAL_RNG,PMDPg,BeliefUpdaters.NothingUpdater},Random._GLOBAL_RNG},Random._GLOBAL_RNG}, ::State{2}) at C:\\Users\\Honza\\.julia\\packages\\MCTS\\s3xYP\\src\\vanilla.jl:197",
      " [12] top-level scope at In[4]:2"
     ]
    }
   ],
   "source": [
    "s = mean(POMDPs.initialstate(mdp))\n",
    "\n",
    "a, info = action_info(planner, s);\n",
    "# D3Tree(info[:tree], init_expand=1)"
   ]
  },
  {
   "cell_type": "code",
   "execution_count": 7,
   "metadata": {},
   "outputs": [
    {
     "name": "stderr",
     "output_type": "stream",
     "text": [
      "┌ Warning: `initialstate(m, rng)` is deprecated, use `rand(rng, initialstate(m))` instead.\n",
      "│   caller = top-level scope at In[7]:11\n",
      "└ @ Core In[7]:11\n"
     ]
    },
    {
     "ename": "MethodError",
     "evalue": "MethodError: no method matching initialstate(::PMDP)\nClosest candidates are:\n  initialstate(::Union{MDP, POMDP}) at C:\\Users\\Honza\\.julia\\dev\\POMDPs\\src\\deprecated.jl:83\n  initialstate(::Any, !Matched::Any) at deprecated.jl:65\n  initialstate(!Matched::POMDPModelTools.GenerativeBeliefMDP) at C:\\Users\\Honza\\.julia\\packages\\POMDPModelTools\\N593Y\\src\\generative_belief_mdp.jl:55\n  ...",
     "output_type": "error",
     "traceback": [
      "MethodError: no method matching initialstate(::PMDP)\nClosest candidates are:\n  initialstate(::Union{MDP, POMDP}) at C:\\Users\\Honza\\.julia\\dev\\POMDPs\\src\\deprecated.jl:83\n  initialstate(::Any, !Matched::Any) at deprecated.jl:65\n  initialstate(!Matched::POMDPModelTools.GenerativeBeliefMDP) at C:\\Users\\Honza\\.julia\\packages\\POMDPModelTools\\N593Y\\src\\generative_belief_mdp.jl:55\n  ...",
      "",
      "Stacktrace:",
      " [1] initialstate(::PMDP) at C:\\Users\\Honza\\.julia\\dev\\POMDPs\\src\\deprecated.jl:85",
      " [2] initialstate(::PMDP, ::MersenneTwister) at .\\deprecated.jl:67",
      " [3] top-level scope at In[7]:11"
     ]
    }
   ],
   "source": [
    "edges = create_edges(5, 3, [50,60,70,80,90])\n",
    "products = create_continuous_products(edges)\n",
    "λ = create_λ(Float64[10,3,3,5,4], products)\n",
    "mdp = PMDP(edges, products, λ)\n",
    "\n",
    "solver = MCTSSolver(n_iterations=10, \n",
    "                    depth=2, \n",
    "                    exploration_constant=10.0, \n",
    "                    enable_tree_vis=true)\n",
    "planner = solve(solver, mdp)\n",
    "state = initialstate(mdp, Random.MersenneTwister(4))"
   ]
  },
  {
   "cell_type": "code",
   "execution_count": 4,
   "metadata": {},
   "outputs": [
    {
     "ename": "UndefVarError",
     "evalue": "UndefVarError: action_info not defined",
     "output_type": "error",
     "traceback": [
      "UndefVarError: action_info not defined",
      "",
      "Stacktrace:",
      " [1] top-level scope at In[4]:1"
     ]
    }
   ],
   "source": [
    "a, info = action_info(planner, state);\n",
    "D3Tree(info[:tree], init_expand=1)"
   ]
  },
  {
   "cell_type": "code",
   "execution_count": 8,
   "metadata": {},
   "outputs": [
    {
     "data": {
      "text/plain": [
       "sumsum (generic function with 1 method)"
      ]
     },
     "execution_count": 8,
     "metadata": {},
     "output_type": "execute_result"
    }
   ],
   "source": [
    "function sumsum(n::Integer)\n",
    "    n*(n+1)/2\n",
    "end"
   ]
  },
  {
   "cell_type": "code",
   "execution_count": 14,
   "metadata": {},
   "outputs": [
    {
     "data": {
      "text/plain": [
       "233168.0"
      ]
     },
     "execution_count": 14,
     "metadata": {},
     "output_type": "execute_result"
    }
   ],
   "source": [
    "3*sumsum(333) + 5*sumsum(199) - 15*sumsum(66)"
   ]
  }
 ],
 "metadata": {
  "kernelspec": {
   "display_name": "Julia 1.4.2",
   "language": "julia",
   "name": "julia-1.4"
  },
  "language_info": {
   "file_extension": ".jl",
   "mimetype": "application/julia",
   "name": "julia",
   "version": "1.4.2"
  }
 },
 "nbformat": 4,
 "nbformat_minor": 4
}
