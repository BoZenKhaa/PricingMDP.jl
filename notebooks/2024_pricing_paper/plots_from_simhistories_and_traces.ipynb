{
 "cells": [
  {
   "cell_type": "code",
   "id": "initial_id",
   "metadata": {
    "collapsed": true,
    "ExecuteTime": {
     "end_time": "2024-09-24T13:21:46.144446Z",
     "start_time": "2024-09-24T13:21:46.061045Z"
    }
   },
   "source": [
    "# autoreload\n",
    "%load_ext autoreload\n",
    "%autoreload 2\n",
    "\n",
    "from dataclasses import replace\n",
    "\n",
    "import pandas as pd\n",
    "import numpy as np\n",
    "import plotly.express as px\n",
    "import plotly.graph_objects as go\n",
    "from pathlib import Path\n",
    "\n",
    "from Python.pricingmdprunner.simhistories import vec_from_str, prepare_simhistory, allocation_from_simhistory, \\\n",
    "    sold_unsold_allocation_from_simhistory, plot_simhistory_sold_unsold, add_revenue_boxes, add_product_boxes, TEST\n",
    "from Python.pricingmdprunner.utils import load_yaml\n",
    "\n",
    "FIGROOT = Path(r\"C:\\Users\\mrkos\\scth\\projects\\MDP_pricing_paper\\fig\\new_experiments\")\n",
    "EXPERIMENTS_PATH = Path(r\"C:\\Users\\mrkos\\scth\\projects\\MDPPricing\\data\\ev_variable_resources_higher_demand\")"
   ],
   "outputs": [
    {
     "name": "stdout",
     "output_type": "stream",
     "text": [
      "The autoreload extension is already loaded. To reload it, use:\n",
      "  %reload_ext autoreload\n"
     ]
    }
   ],
   "execution_count": 35
  },
  {
   "metadata": {
    "ExecuteTime": {
     "end_time": "2024-09-24T13:21:49.205145Z",
     "start_time": "2024-09-24T13:21:47.148497Z"
    }
   },
   "cell_type": "code",
   "source": [
    "simh_dfs = []\n",
    "cfg_type = \"_simhistories\"\n",
    "for result_path in EXPERIMENTS_PATH.rglob(f\"**/config*{cfg_type}.csv\"):\n",
    "    # print(result_path)\n",
    "    solver_config_path = result_path.parent/(result_path.stem[:-len(cfg_type)]+\".yaml\")\n",
    "    solver_config = load_yaml(solver_config_path)\n",
    "    # print(solver_config)\n",
    "    problem_config_path = result_path.parent.parent.parent/\"pp_config.yaml\"\n",
    "    problem_config = load_yaml(problem_config_path)\n",
    "    \n",
    "    simhistories = pd.read_csv(result_path, dtype={\"product\":str})\n",
    "        \n",
    "    pp_row = pd.DataFrame(problem_config[\"pp_params\"], index=[0,])\n",
    "    for col in pp_row.columns:\n",
    "        simhistories[col] = pp_row.loc[0, col]\n",
    "        \n",
    "    solver_cfg_row = pd.json_normalize(solver_config)\n",
    "    for col in solver_cfg_row.columns:\n",
    "        simhistories[col] = solver_cfg_row.loc[0, col]\n",
    "        \n",
    "    simh_dfs.append(simhistories)\n",
    "    \n",
    "    # if solver_config[\"runner\"] == \"mcts\":\n",
    "    #     break\n",
    "df = pd.concat(simh_dfs)"
   ],
   "id": "d7880c707293784f",
   "outputs": [],
   "execution_count": 37
  },
  {
   "metadata": {
    "ExecuteTime": {
     "end_time": "2024-09-24T13:21:50.180552Z",
     "start_time": "2024-09-24T13:21:49.245017Z"
    }
   },
   "cell_type": "code",
   "source": [
    "traces_dfs = []\n",
    "for traces_path in EXPERIMENTS_PATH.rglob(f\"**/traces*.csv\"):\n",
    "    problem_config_path = traces_path.parent.parent/\"pp_config.yaml\"\n",
    "    problem_config = load_yaml(problem_config_path)\n",
    "    \n",
    "    traces = pd.read_csv(traces_path, dtype={\"product\":str})\n",
    "        \n",
    "    pp_row = pd.DataFrame(problem_config[\"pp_params\"], index=[0,])\n",
    "    for col in pp_row.columns:\n",
    "        traces[col] = pp_row.loc[0, col]\n",
    "        \n",
    "    traces_dfs.append(traces)\n",
    "    \n",
    "tdf = pd.concat(traces_dfs)"
   ],
   "id": "2288d8524d070f28",
   "outputs": [],
   "execution_count": 38
  },
  {
   "metadata": {
    "ExecuteTime": {
     "end_time": "2024-09-24T13:21:50.603022Z",
     "start_time": "2024-09-24T13:21:50.337670Z"
    }
   },
   "cell_type": "code",
   "source": [
    "def fix_cols(df):\n",
    "    if \"runner\" in df.columns:\n",
    "        all_replacements = {\"mcts\": \"MCTS\", \"vi\": \"VI\", \"hindsight\": \"Oracle\", \"flatrate\": \"Flatrate\"}\n",
    "        # Do this to prevent the categorical variable from having categoreis not present in dataset\n",
    "        replacements= {k: all_replacements[k] for k in df.runner.unique()}\n",
    "        \n",
    "        df.replace({\"runner\": replacements }, inplace=True)\n",
    "        df[\"runner\"] = pd.Categorical(df.runner, categories=list(replacements.values()), ordered=True)\n",
    "    df.rename(columns={\"res_budget_Î¼\": \"res_budget_mean\", \"náµ£\": \"n_r\"}, inplace=True)\n",
    "    \n",
    "fix_cols(df)\n",
    "fix_cols(tdf)"
   ],
   "id": "353c9c831d44ddc5",
   "outputs": [],
   "execution_count": 39
  },
  {
   "metadata": {},
   "cell_type": "code",
   "outputs": [],
   "execution_count": null,
   "source": "",
   "id": "a99835aad833508f"
  },
  {
   "metadata": {},
   "cell_type": "markdown",
   "source": [
    "## Column meanings\n",
    "- `r` - revenue\n",
    "- `nᵣ` - number of requests\n",
    "- `n_r` - number of resources (timeslots)\n",
    "- `nₛ` - number of \"sold\" requests\n",
    "- `u` - utilization in number of resources (timeslots)\n",
    "- `res_budget_mean` - mean resource budget\n",
    "- time - runtime of the experiment in seconds"
   ],
   "id": "ac300d026cb24982"
  },
  {
   "metadata": {},
   "cell_type": "markdown",
   "source": "## Load traces",
   "id": "12dff7c03450b6a2"
  },
  {
   "metadata": {
    "ExecuteTime": {
     "end_time": "2024-09-24T13:22:00.847252Z",
     "start_time": "2024-09-24T13:21:50.626254Z"
    }
   },
   "cell_type": "code",
   "source": [
    "tdf[\"prod_vec\"] = tdf[\"product\"].apply(vec_from_str)\n",
    "df[\"prod_vec\"] = df[\"product\"].apply(vec_from_str)"
   ],
   "id": "702dcbcd71221bf7",
   "outputs": [],
   "execution_count": 40
  },
  {
   "metadata": {
    "ExecuteTime": {
     "end_time": "2024-09-24T13:22:00.979297Z",
     "start_time": "2024-09-24T13:22:00.877893Z"
    }
   },
   "cell_type": "code",
   "source": "sh = prepare_simhistory(df, tdf, 7, \"Oracle\", 72)",
   "id": "18be4ff7d758a343",
   "outputs": [],
   "execution_count": 41
  },
  {
   "metadata": {
    "ExecuteTime": {
     "end_time": "2024-09-24T13:22:01.159959Z",
     "start_time": "2024-09-24T13:22:01.027103Z"
    }
   },
   "cell_type": "code",
   "source": [
    "alloc_sold, alloc_sold_info, sh_sold = allocation_from_simhistory(sh[sh.sold])\n",
    "alloc_unsold, alloc_unsold_info, sh_unsold = allocation_from_simhistory(sh[~sh.sold])\n",
    "\n",
    "alloc = np.concatenate([alloc_unsold, alloc_sold], axis=0)\n",
    "alloc_info = np.concatenate([alloc_unsold_info, alloc_sold_info], axis=0)\n",
    "sh = pd.concat([sh_sold, sh_unsold])"
   ],
   "id": "389d4c28f4ef75f5",
   "outputs": [],
   "execution_count": 42
  },
  {
   "metadata": {
    "ExecuteTime": {
     "end_time": "2024-09-24T13:22:01.373298Z",
     "start_time": "2024-09-24T13:22:01.197967Z"
    }
   },
   "cell_type": "code",
   "source": "sold_unsold_allocation_from_simhistory(sh)",
   "id": "871e48991da25b53",
   "outputs": [
    {
     "data": {
      "text/plain": [
       "    index  trace_id  timestep    budget         action   sold  \\\n",
       "1     478         7        22  1.742979   1.640776e+00   True   \n",
       "3     480         7        28  2.476104   1.192660e+00   True   \n",
       "4     481         7        32  2.825945   1.337245e+00   True   \n",
       "14    491         7       105  1.564840   1.518217e+00   True   \n",
       "16    493         7       123  4.838348   1.192660e+00   True   \n",
       "..    ...       ...       ...       ...            ...    ...   \n",
       "67    544         7       455  1.222413  1.797693e+308  False   \n",
       "68    545         7       461  2.734961  1.797693e+308  False   \n",
       "69    546         7       463  1.201087  1.797693e+308  False   \n",
       "75    552         7       561  0.713370  1.797693e+308  False   \n",
       "76    553         7       565  0.844264  1.797693e+308  False   \n",
       "\n",
       "                     product    T  c  res_budget_mean  ...  \\\n",
       "1   000000001000000000000000  576  3              1.0  ...   \n",
       "3   000000000000011000000000  576  3              1.0  ...   \n",
       "4   000000011000000000000000  576  3              1.0  ...   \n",
       "14  000000000000000100000000  576  3              1.0  ...   \n",
       "16  000000000111100000000000  576  3              1.0  ...   \n",
       "..                       ...  ... ..              ...  ...   \n",
       "67  000000000000000000010000  576  3              1.0  ...   \n",
       "68  000000000000000000011100  576  3              1.0  ...   \n",
       "69  000000000000000000010000  576  3              1.0  ...   \n",
       "75  000000000000000000000001  576  3              1.0  ...   \n",
       "76  000000000000000000000001  576  3              1.0  ...   \n",
       "\n",
       "   solver_params.depth  solver_params.max_iterations  solver_params.belres  \\\n",
       "1                  NaN                           NaN                   NaN   \n",
       "3                  NaN                           NaN                   NaN   \n",
       "4                  NaN                           NaN                   NaN   \n",
       "14                 NaN                           NaN                   NaN   \n",
       "16                 NaN                           NaN                   NaN   \n",
       "..                 ...                           ...                   ...   \n",
       "67                 NaN                           NaN                   NaN   \n",
       "68                 NaN                           NaN                   NaN   \n",
       "69                 NaN                           NaN                   NaN   \n",
       "75                 NaN                           NaN                   NaN   \n",
       "76                 NaN                           NaN                   NaN   \n",
       "\n",
       "   solver_params.verbose                                           prod_vec  \\\n",
       "1                    NaN  [0, 0, 0, 0, 0, 0, 0, 0, 1, 0, 0, 0, 0, 0, 0, ...   \n",
       "3                    NaN  [0, 0, 0, 0, 0, 0, 0, 0, 0, 0, 0, 0, 0, 1, 1, ...   \n",
       "4                    NaN  [0, 0, 0, 0, 0, 0, 0, 1, 1, 0, 0, 0, 0, 0, 0, ...   \n",
       "14                   NaN  [0, 0, 0, 0, 0, 0, 0, 0, 0, 0, 0, 0, 0, 0, 0, ...   \n",
       "16                   NaN  [0, 0, 0, 0, 0, 0, 0, 0, 0, 1, 1, 1, 1, 0, 0, ...   \n",
       "..                   ...                                                ...   \n",
       "67                   NaN  [0, 0, 0, 0, 0, 0, 0, 0, 0, 0, 0, 0, 0, 0, 0, ...   \n",
       "68                   NaN  [0, 0, 0, 0, 0, 0, 0, 0, 0, 0, 0, 0, 0, 0, 0, ...   \n",
       "69                   NaN  [0, 0, 0, 0, 0, 0, 0, 0, 0, 0, 0, 0, 0, 0, 0, ...   \n",
       "75                   NaN  [0, 0, 0, 0, 0, 0, 0, 0, 0, 0, 0, 0, 0, 0, 0, ...   \n",
       "76                   NaN  [0, 0, 0, 0, 0, 0, 0, 0, 0, 0, 0, 0, 0, 0, 0, ...   \n",
       "\n",
       "    allocation_row n_product_res   revenue  prod_tslot_start prod_tslot_end  \n",
       "1              0.0             1  1.640776                 8              8  \n",
       "3              0.0             2  2.385320                13             14  \n",
       "4              1.0             2  2.674490                 7              8  \n",
       "14             0.0             1  1.518217                15             15  \n",
       "16             0.0             4  4.770641                 9             12  \n",
       "..             ...           ...       ...               ...            ...  \n",
       "67             5.0             1  0.000000                19             19  \n",
       "68             7.0             3  0.000000                19             21  \n",
       "69             8.0             1  0.000000                19             19  \n",
       "75             0.0             1  0.000000                23             23  \n",
       "76             1.0             1  0.000000                23             23  \n",
       "\n",
       "[79 rows x 32 columns]"
      ],
      "text/html": [
       "<div>\n",
       "<style scoped>\n",
       "    .dataframe tbody tr th:only-of-type {\n",
       "        vertical-align: middle;\n",
       "    }\n",
       "\n",
       "    .dataframe tbody tr th {\n",
       "        vertical-align: top;\n",
       "    }\n",
       "\n",
       "    .dataframe thead th {\n",
       "        text-align: right;\n",
       "    }\n",
       "</style>\n",
       "<table border=\"1\" class=\"dataframe\">\n",
       "  <thead>\n",
       "    <tr style=\"text-align: right;\">\n",
       "      <th></th>\n",
       "      <th>index</th>\n",
       "      <th>trace_id</th>\n",
       "      <th>timestep</th>\n",
       "      <th>budget</th>\n",
       "      <th>action</th>\n",
       "      <th>sold</th>\n",
       "      <th>product</th>\n",
       "      <th>T</th>\n",
       "      <th>c</th>\n",
       "      <th>res_budget_mean</th>\n",
       "      <th>...</th>\n",
       "      <th>solver_params.depth</th>\n",
       "      <th>solver_params.max_iterations</th>\n",
       "      <th>solver_params.belres</th>\n",
       "      <th>solver_params.verbose</th>\n",
       "      <th>prod_vec</th>\n",
       "      <th>allocation_row</th>\n",
       "      <th>n_product_res</th>\n",
       "      <th>revenue</th>\n",
       "      <th>prod_tslot_start</th>\n",
       "      <th>prod_tslot_end</th>\n",
       "    </tr>\n",
       "  </thead>\n",
       "  <tbody>\n",
       "    <tr>\n",
       "      <th>1</th>\n",
       "      <td>478</td>\n",
       "      <td>7</td>\n",
       "      <td>22</td>\n",
       "      <td>1.742979</td>\n",
       "      <td>1.640776e+00</td>\n",
       "      <td>True</td>\n",
       "      <td>000000001000000000000000</td>\n",
       "      <td>576</td>\n",
       "      <td>3</td>\n",
       "      <td>1.0</td>\n",
       "      <td>...</td>\n",
       "      <td>NaN</td>\n",
       "      <td>NaN</td>\n",
       "      <td>NaN</td>\n",
       "      <td>NaN</td>\n",
       "      <td>[0, 0, 0, 0, 0, 0, 0, 0, 1, 0, 0, 0, 0, 0, 0, ...</td>\n",
       "      <td>0.0</td>\n",
       "      <td>1</td>\n",
       "      <td>1.640776</td>\n",
       "      <td>8</td>\n",
       "      <td>8</td>\n",
       "    </tr>\n",
       "    <tr>\n",
       "      <th>3</th>\n",
       "      <td>480</td>\n",
       "      <td>7</td>\n",
       "      <td>28</td>\n",
       "      <td>2.476104</td>\n",
       "      <td>1.192660e+00</td>\n",
       "      <td>True</td>\n",
       "      <td>000000000000011000000000</td>\n",
       "      <td>576</td>\n",
       "      <td>3</td>\n",
       "      <td>1.0</td>\n",
       "      <td>...</td>\n",
       "      <td>NaN</td>\n",
       "      <td>NaN</td>\n",
       "      <td>NaN</td>\n",
       "      <td>NaN</td>\n",
       "      <td>[0, 0, 0, 0, 0, 0, 0, 0, 0, 0, 0, 0, 0, 1, 1, ...</td>\n",
       "      <td>0.0</td>\n",
       "      <td>2</td>\n",
       "      <td>2.385320</td>\n",
       "      <td>13</td>\n",
       "      <td>14</td>\n",
       "    </tr>\n",
       "    <tr>\n",
       "      <th>4</th>\n",
       "      <td>481</td>\n",
       "      <td>7</td>\n",
       "      <td>32</td>\n",
       "      <td>2.825945</td>\n",
       "      <td>1.337245e+00</td>\n",
       "      <td>True</td>\n",
       "      <td>000000011000000000000000</td>\n",
       "      <td>576</td>\n",
       "      <td>3</td>\n",
       "      <td>1.0</td>\n",
       "      <td>...</td>\n",
       "      <td>NaN</td>\n",
       "      <td>NaN</td>\n",
       "      <td>NaN</td>\n",
       "      <td>NaN</td>\n",
       "      <td>[0, 0, 0, 0, 0, 0, 0, 1, 1, 0, 0, 0, 0, 0, 0, ...</td>\n",
       "      <td>1.0</td>\n",
       "      <td>2</td>\n",
       "      <td>2.674490</td>\n",
       "      <td>7</td>\n",
       "      <td>8</td>\n",
       "    </tr>\n",
       "    <tr>\n",
       "      <th>14</th>\n",
       "      <td>491</td>\n",
       "      <td>7</td>\n",
       "      <td>105</td>\n",
       "      <td>1.564840</td>\n",
       "      <td>1.518217e+00</td>\n",
       "      <td>True</td>\n",
       "      <td>000000000000000100000000</td>\n",
       "      <td>576</td>\n",
       "      <td>3</td>\n",
       "      <td>1.0</td>\n",
       "      <td>...</td>\n",
       "      <td>NaN</td>\n",
       "      <td>NaN</td>\n",
       "      <td>NaN</td>\n",
       "      <td>NaN</td>\n",
       "      <td>[0, 0, 0, 0, 0, 0, 0, 0, 0, 0, 0, 0, 0, 0, 0, ...</td>\n",
       "      <td>0.0</td>\n",
       "      <td>1</td>\n",
       "      <td>1.518217</td>\n",
       "      <td>15</td>\n",
       "      <td>15</td>\n",
       "    </tr>\n",
       "    <tr>\n",
       "      <th>16</th>\n",
       "      <td>493</td>\n",
       "      <td>7</td>\n",
       "      <td>123</td>\n",
       "      <td>4.838348</td>\n",
       "      <td>1.192660e+00</td>\n",
       "      <td>True</td>\n",
       "      <td>000000000111100000000000</td>\n",
       "      <td>576</td>\n",
       "      <td>3</td>\n",
       "      <td>1.0</td>\n",
       "      <td>...</td>\n",
       "      <td>NaN</td>\n",
       "      <td>NaN</td>\n",
       "      <td>NaN</td>\n",
       "      <td>NaN</td>\n",
       "      <td>[0, 0, 0, 0, 0, 0, 0, 0, 0, 1, 1, 1, 1, 0, 0, ...</td>\n",
       "      <td>0.0</td>\n",
       "      <td>4</td>\n",
       "      <td>4.770641</td>\n",
       "      <td>9</td>\n",
       "      <td>12</td>\n",
       "    </tr>\n",
       "    <tr>\n",
       "      <th>...</th>\n",
       "      <td>...</td>\n",
       "      <td>...</td>\n",
       "      <td>...</td>\n",
       "      <td>...</td>\n",
       "      <td>...</td>\n",
       "      <td>...</td>\n",
       "      <td>...</td>\n",
       "      <td>...</td>\n",
       "      <td>...</td>\n",
       "      <td>...</td>\n",
       "      <td>...</td>\n",
       "      <td>...</td>\n",
       "      <td>...</td>\n",
       "      <td>...</td>\n",
       "      <td>...</td>\n",
       "      <td>...</td>\n",
       "      <td>...</td>\n",
       "      <td>...</td>\n",
       "      <td>...</td>\n",
       "      <td>...</td>\n",
       "      <td>...</td>\n",
       "    </tr>\n",
       "    <tr>\n",
       "      <th>67</th>\n",
       "      <td>544</td>\n",
       "      <td>7</td>\n",
       "      <td>455</td>\n",
       "      <td>1.222413</td>\n",
       "      <td>1.797693e+308</td>\n",
       "      <td>False</td>\n",
       "      <td>000000000000000000010000</td>\n",
       "      <td>576</td>\n",
       "      <td>3</td>\n",
       "      <td>1.0</td>\n",
       "      <td>...</td>\n",
       "      <td>NaN</td>\n",
       "      <td>NaN</td>\n",
       "      <td>NaN</td>\n",
       "      <td>NaN</td>\n",
       "      <td>[0, 0, 0, 0, 0, 0, 0, 0, 0, 0, 0, 0, 0, 0, 0, ...</td>\n",
       "      <td>5.0</td>\n",
       "      <td>1</td>\n",
       "      <td>0.000000</td>\n",
       "      <td>19</td>\n",
       "      <td>19</td>\n",
       "    </tr>\n",
       "    <tr>\n",
       "      <th>68</th>\n",
       "      <td>545</td>\n",
       "      <td>7</td>\n",
       "      <td>461</td>\n",
       "      <td>2.734961</td>\n",
       "      <td>1.797693e+308</td>\n",
       "      <td>False</td>\n",
       "      <td>000000000000000000011100</td>\n",
       "      <td>576</td>\n",
       "      <td>3</td>\n",
       "      <td>1.0</td>\n",
       "      <td>...</td>\n",
       "      <td>NaN</td>\n",
       "      <td>NaN</td>\n",
       "      <td>NaN</td>\n",
       "      <td>NaN</td>\n",
       "      <td>[0, 0, 0, 0, 0, 0, 0, 0, 0, 0, 0, 0, 0, 0, 0, ...</td>\n",
       "      <td>7.0</td>\n",
       "      <td>3</td>\n",
       "      <td>0.000000</td>\n",
       "      <td>19</td>\n",
       "      <td>21</td>\n",
       "    </tr>\n",
       "    <tr>\n",
       "      <th>69</th>\n",
       "      <td>546</td>\n",
       "      <td>7</td>\n",
       "      <td>463</td>\n",
       "      <td>1.201087</td>\n",
       "      <td>1.797693e+308</td>\n",
       "      <td>False</td>\n",
       "      <td>000000000000000000010000</td>\n",
       "      <td>576</td>\n",
       "      <td>3</td>\n",
       "      <td>1.0</td>\n",
       "      <td>...</td>\n",
       "      <td>NaN</td>\n",
       "      <td>NaN</td>\n",
       "      <td>NaN</td>\n",
       "      <td>NaN</td>\n",
       "      <td>[0, 0, 0, 0, 0, 0, 0, 0, 0, 0, 0, 0, 0, 0, 0, ...</td>\n",
       "      <td>8.0</td>\n",
       "      <td>1</td>\n",
       "      <td>0.000000</td>\n",
       "      <td>19</td>\n",
       "      <td>19</td>\n",
       "    </tr>\n",
       "    <tr>\n",
       "      <th>75</th>\n",
       "      <td>552</td>\n",
       "      <td>7</td>\n",
       "      <td>561</td>\n",
       "      <td>0.713370</td>\n",
       "      <td>1.797693e+308</td>\n",
       "      <td>False</td>\n",
       "      <td>000000000000000000000001</td>\n",
       "      <td>576</td>\n",
       "      <td>3</td>\n",
       "      <td>1.0</td>\n",
       "      <td>...</td>\n",
       "      <td>NaN</td>\n",
       "      <td>NaN</td>\n",
       "      <td>NaN</td>\n",
       "      <td>NaN</td>\n",
       "      <td>[0, 0, 0, 0, 0, 0, 0, 0, 0, 0, 0, 0, 0, 0, 0, ...</td>\n",
       "      <td>0.0</td>\n",
       "      <td>1</td>\n",
       "      <td>0.000000</td>\n",
       "      <td>23</td>\n",
       "      <td>23</td>\n",
       "    </tr>\n",
       "    <tr>\n",
       "      <th>76</th>\n",
       "      <td>553</td>\n",
       "      <td>7</td>\n",
       "      <td>565</td>\n",
       "      <td>0.844264</td>\n",
       "      <td>1.797693e+308</td>\n",
       "      <td>False</td>\n",
       "      <td>000000000000000000000001</td>\n",
       "      <td>576</td>\n",
       "      <td>3</td>\n",
       "      <td>1.0</td>\n",
       "      <td>...</td>\n",
       "      <td>NaN</td>\n",
       "      <td>NaN</td>\n",
       "      <td>NaN</td>\n",
       "      <td>NaN</td>\n",
       "      <td>[0, 0, 0, 0, 0, 0, 0, 0, 0, 0, 0, 0, 0, 0, 0, ...</td>\n",
       "      <td>1.0</td>\n",
       "      <td>1</td>\n",
       "      <td>0.000000</td>\n",
       "      <td>23</td>\n",
       "      <td>23</td>\n",
       "    </tr>\n",
       "  </tbody>\n",
       "</table>\n",
       "<p>79 rows × 32 columns</p>\n",
       "</div>"
      ]
     },
     "execution_count": 43,
     "metadata": {},
     "output_type": "execute_result"
    }
   ],
   "execution_count": 43
  },
  {
   "metadata": {
    "ExecuteTime": {
     "end_time": "2024-09-24T13:22:05.894693Z",
     "start_time": "2024-09-24T13:22:01.491417Z"
    }
   },
   "cell_type": "code",
   "source": [
    "sh = prepare_simhistory(df, tdf, 7, \"MCTS\", 72)\n",
    "alloc = sold_unsold_allocation_from_simhistory(sh)\n",
    "\n",
    "fig = plot_simhistory_sold_unsold(alloc)\n",
    "fig = add_revenue_boxes(fig, alloc)\n",
    "fig.show()"
   ],
   "id": "1152b1cc3d39958c",
   "outputs": [
    {
     "data": {
      "application/vnd.plotly.v1+json": {
       "data": [
        {
         "fill": "toself",
         "mode": "lines",
         "name": "",
         "opacity": 0,
         "text": "timestep: 1, budget: 1.1195959505999442, action: 0.8073397667962161",
         "x": [
          8,
          9,
          9,
          8,
          8
         ],
         "y": [
          0.0,
          0.0,
          1.0,
          1.0,
          0.0
         ],
         "type": "scatter"
        },
        {
         "fill": "toself",
         "mode": "lines",
         "name": "",
         "opacity": 0,
         "text": "timestep: 22, budget: 1.742979002222134, action: 0.7377997436459796",
         "x": [
          8,
          9,
          9,
          8,
          8
         ],
         "y": [
          1.0,
          1.0,
          2.0,
          2.0,
          1.0
         ],
         "type": "scatter"
        },
        {
         "fill": "toself",
         "mode": "lines",
         "name": "",
         "opacity": 0,
         "text": "timestep: 28, budget: 2.476104437462143, action: 1.062830673427537",
         "x": [
          13,
          15,
          15,
          13,
          13
         ],
         "y": [
          0.0,
          0.0,
          1.0,
          1.0,
          0.0
         ],
         "type": "scatter"
        },
        {
         "fill": "toself",
         "mode": "lines",
         "name": "",
         "opacity": 0,
         "text": "timestep: 32, budget: 2.825944634742748, action: 0.937169326572463",
         "x": [
          7,
          9,
          9,
          7,
          7
         ],
         "y": [
          2.0,
          2.0,
          3.0,
          3.0,
          2.0
         ],
         "type": "scatter"
        },
        {
         "fill": "toself",
         "mode": "lines",
         "name": "",
         "opacity": 0,
         "text": "timestep: 49, budget: 0.970211005867882, action: 0.937169326572463",
         "x": [
          7,
          8,
          8,
          7,
          7
         ],
         "y": [
          0.0,
          0.0,
          1.0,
          1.0,
          0.0
         ],
         "type": "scatter"
        },
        {
         "fill": "toself",
         "mode": "lines",
         "name": "",
         "opacity": 0,
         "text": "timestep: 56, budget: 1.3496936884569708, action: 1.0",
         "x": [
          11,
          12,
          12,
          11,
          11
         ],
         "y": [
          0.0,
          0.0,
          1.0,
          1.0,
          0.0
         ],
         "type": "scatter"
        },
        {
         "fill": "toself",
         "mode": "lines",
         "name": "",
         "opacity": 0,
         "text": "timestep: 101, budget: 0.630497750222799, action: 0.5791893832135429",
         "x": [
          7,
          8,
          8,
          7,
          7
         ],
         "y": [
          1.0,
          1.0,
          2.0,
          2.0,
          1.0
         ],
         "type": "scatter"
        },
        {
         "fill": "toself",
         "mode": "lines",
         "name": "",
         "opacity": 0,
         "text": "timestep: 102, budget: 2.4073516070067678, action: 1.1266735515678998",
         "x": [
          14,
          16,
          16,
          14,
          14
         ],
         "y": [
          1.0,
          1.0,
          2.0,
          2.0,
          1.0
         ],
         "type": "scatter"
        },
        {
         "fill": "toself",
         "mode": "lines",
         "name": "",
         "opacity": 0,
         "text": "timestep: 105, budget: 1.5648395922470189, action: 1.518216694746895",
         "x": [
          15,
          16,
          16,
          15,
          15
         ],
         "y": [
          0.0,
          0.0,
          1.0,
          1.0,
          0.0
         ],
         "type": "scatter"
        },
        {
         "fill": "toself",
         "mode": "lines",
         "name": "",
         "opacity": 0,
         "text": "timestep: 123, budget: 4.838348285211584, action: 0.8733264484321002",
         "x": [
          9,
          13,
          13,
          9,
          9
         ],
         "y": [
          1.0,
          1.0,
          2.0,
          2.0,
          1.0
         ],
         "type": "scatter"
        },
        {
         "fill": "toself",
         "mode": "lines",
         "name": "",
         "opacity": 0,
         "text": "timestep: 169, budget: 4.430406329196159, action: 0.8733264484321002",
         "x": [
          9,
          13,
          13,
          9,
          9
         ],
         "y": [
          2.0,
          2.0,
          3.0,
          3.0,
          2.0
         ],
         "type": "scatter"
        },
        {
         "fill": "toself",
         "mode": "lines",
         "name": "",
         "opacity": 0,
         "text": "timestep: 195, budget: 1.7724783359234406, action: 1.1266735515678998",
         "x": [
          10,
          11,
          11,
          10,
          10
         ],
         "y": [
          0.0,
          0.0,
          1.0,
          1.0,
          0.0
         ],
         "type": "scatter"
        },
        {
         "fill": "toself",
         "mode": "lines",
         "name": "",
         "opacity": 0,
         "text": "timestep: 216, budget: 1.4600598912616003, action: 1.1266735515678998",
         "x": [
          12,
          13,
          13,
          12,
          12
         ],
         "y": [
          0.0,
          0.0,
          1.0,
          1.0,
          0.0
         ],
         "type": "scatter"
        },
        {
         "fill": "toself",
         "mode": "lines",
         "name": "",
         "opacity": 0,
         "text": "timestep: 220, budget: 1.478226516330889, action: 1.1266735515678998",
         "x": [
          13,
          14,
          14,
          13,
          13
         ],
         "y": [
          1.0,
          1.0,
          2.0,
          2.0,
          1.0
         ],
         "type": "scatter"
        },
        {
         "fill": "toself",
         "mode": "lines",
         "name": "",
         "opacity": 0,
         "text": "timestep: 269, budget: 1.885274495733084, action: 1.518216694746895",
         "x": [
          16,
          17,
          17,
          16,
          16
         ],
         "y": [
          0.0,
          0.0,
          1.0,
          1.0,
          0.0
         ],
         "type": "scatter"
        },
        {
         "fill": "toself",
         "mode": "lines",
         "name": "",
         "opacity": 0,
         "text": "timestep: 289, budget: 3.004007820978236, action: 0.8733264484321002",
         "x": [
          13,
          16,
          16,
          13,
          13
         ],
         "y": [
          2.0,
          2.0,
          3.0,
          3.0,
          2.0
         ],
         "type": "scatter"
        },
        {
         "fill": "toself",
         "mode": "lines",
         "name": "",
         "opacity": 0,
         "text": "timestep: 318, budget: 1.413955154548848, action: 1.2622002563540202",
         "x": [
          16,
          17,
          17,
          16,
          16
         ],
         "y": [
          1.0,
          1.0,
          2.0,
          2.0,
          1.0
         ],
         "type": "scatter"
        },
        {
         "fill": "toself",
         "mode": "lines",
         "name": "",
         "opacity": 0,
         "text": "timestep: 326, budget: 6.216570416937723, action: 0.8733264484321002",
         "x": [
          16,
          22,
          22,
          16,
          16
         ],
         "y": [
          2.0,
          2.0,
          3.0,
          3.0,
          2.0
         ],
         "type": "scatter"
        },
        {
         "fill": "toself",
         "mode": "lines",
         "name": "",
         "opacity": 0,
         "text": "timestep: 328, budget: 5.935700998699732, action: 0.8733264484321002",
         "x": [
          17,
          23,
          23,
          17,
          17
         ],
         "y": [
          0.0,
          0.0,
          1.0,
          1.0,
          0.0
         ],
         "type": "scatter"
        },
        {
         "fill": "toself",
         "mode": "lines",
         "name": "",
         "opacity": 0,
         "text": "timestep: 406, budget: 3.396411988572347, action: 0.937169326572463",
         "x": [
          17,
          20,
          20,
          17,
          17
         ],
         "y": [
          1.0,
          1.0,
          2.0,
          2.0,
          1.0
         ],
         "type": "scatter"
        },
        {
         "fill": "toself",
         "mode": "lines",
         "name": "",
         "opacity": 0,
         "text": "timestep: 466, budget: 1.5148666038064684, action: 1.0",
         "x": [
          20,
          21,
          21,
          20,
          20
         ],
         "y": [
          1.0,
          1.0,
          2.0,
          2.0,
          1.0
         ],
         "type": "scatter"
        },
        {
         "fill": "toself",
         "mode": "lines",
         "name": "",
         "opacity": 0,
         "text": "timestep: 550, budget: 1.3443277588507163, action: 0.8073397667962161",
         "x": [
          22,
          23,
          23,
          22,
          22
         ],
         "y": [
          1.0,
          1.0,
          2.0,
          2.0,
          1.0
         ],
         "type": "scatter"
        },
        {
         "fill": "toself",
         "mode": "lines",
         "name": "",
         "opacity": 0,
         "text": "timestep: 560, budget: 1.1784389116773375, action: 0.937169326572463",
         "x": [
          23,
          24,
          24,
          23,
          23
         ],
         "y": [
          0.0,
          0.0,
          1.0,
          1.0,
          0.0
         ],
         "type": "scatter"
        },
        {
         "fill": "toself",
         "mode": "lines",
         "name": "",
         "opacity": 0,
         "text": "timestep: 570, budget: 1.3496696011969804, action: 0.8073397667962161",
         "x": [
          23,
          24,
          24,
          23,
          23
         ],
         "y": [
          1.0,
          1.0,
          2.0,
          2.0,
          1.0
         ],
         "type": "scatter"
        },
        {
         "fill": "toself",
         "mode": "lines",
         "name": "",
         "opacity": 0,
         "text": "timestep: 574, budget: 1.160007534543492, action: 1.0",
         "x": [
          23,
          24,
          24,
          23,
          23
         ],
         "y": [
          2.0,
          2.0,
          3.0,
          3.0,
          2.0
         ],
         "type": "scatter"
        },
        {
         "fill": "toself",
         "mode": "lines",
         "name": "",
         "opacity": 0,
         "text": "timestep: 27, budget: 0.480913132459729, action: 1.7976931348623157e+308",
         "x": [
          12,
          13,
          13,
          12,
          12
         ],
         "y": [
          3.0,
          3.0,
          4.0,
          4.0,
          3.0
         ],
         "type": "scatter"
        },
        {
         "fill": "toself",
         "mode": "lines",
         "name": "",
         "opacity": 0,
         "text": "timestep: 50, budget: 0.3475581900790602, action: 1.1266735515678998",
         "x": [
          11,
          12,
          12,
          11,
          11
         ],
         "y": [
          3.0,
          3.0,
          4.0,
          4.0,
          3.0
         ],
         "type": "scatter"
        },
        {
         "fill": "toself",
         "mode": "lines",
         "name": "",
         "opacity": 0,
         "text": "timestep: 51, budget: 0.897709638144219, action: 1.192660233203784",
         "x": [
          12,
          13,
          13,
          12,
          12
         ],
         "y": [
          4.0,
          4.0,
          5.0,
          5.0,
          4.0
         ],
         "type": "scatter"
        },
        {
         "fill": "toself",
         "mode": "lines",
         "name": "",
         "opacity": 0,
         "text": "timestep: 73, budget: 0.7554757097909742, action: 1.7976931348623157e+308",
         "x": [
          11,
          12,
          12,
          11,
          11
         ],
         "y": [
          4.0,
          4.0,
          5.0,
          5.0,
          4.0
         ],
         "type": "scatter"
        },
        {
         "fill": "toself",
         "mode": "lines",
         "name": "",
         "opacity": 0,
         "text": "timestep: 85, budget: 0.4267771492632941, action: 1.192660233203784",
         "x": [
          14,
          15,
          15,
          14,
          14
         ],
         "y": [
          3.0,
          3.0,
          4.0,
          4.0,
          3.0
         ],
         "type": "scatter"
        },
        {
         "fill": "toself",
         "mode": "lines",
         "name": "",
         "opacity": 0,
         "text": "timestep: 95, budget: 1.2655249566272948, action: 0.8733264484321002",
         "x": [
          18,
          20,
          20,
          18,
          18
         ],
         "y": [
          3.0,
          3.0,
          4.0,
          4.0,
          3.0
         ],
         "type": "scatter"
        },
        {
         "fill": "toself",
         "mode": "lines",
         "name": "",
         "opacity": 0,
         "text": "timestep: 106, budget: 2.3240804205450507, action: 0.937169326572463",
         "x": [
          12,
          15,
          15,
          12,
          12
         ],
         "y": [
          5.0,
          5.0,
          6.0,
          6.0,
          5.0
         ],
         "type": "scatter"
        },
        {
         "fill": "toself",
         "mode": "lines",
         "name": "",
         "opacity": 0,
         "text": "timestep: 125, budget: 0.734001003177055, action: 1.192660233203784",
         "x": [
          13,
          14,
          14,
          13,
          13
         ],
         "y": [
          3.0,
          3.0,
          4.0,
          4.0,
          3.0
         ],
         "type": "scatter"
        },
        {
         "fill": "toself",
         "mode": "lines",
         "name": "",
         "opacity": 0,
         "text": "timestep: 156, budget: 0.2731070622991453, action: 1.192660233203784",
         "x": [
          11,
          12,
          12,
          11,
          11
         ],
         "y": [
          5.0,
          5.0,
          6.0,
          6.0,
          5.0
         ],
         "type": "scatter"
        },
        {
         "fill": "toself",
         "mode": "lines",
         "name": "",
         "opacity": 0,
         "text": "timestep: 160, budget: 2.0943510362518585, action: 1.1266735515678998",
         "x": [
          13,
          15,
          15,
          13,
          13
         ],
         "y": [
          4.0,
          4.0,
          5.0,
          5.0,
          4.0
         ],
         "type": "scatter"
        },
        {
         "fill": "toself",
         "mode": "lines",
         "name": "",
         "opacity": 0,
         "text": "timestep: 161, budget: 1.895887066434752, action: 0.3592242172276998",
         "x": [
          6,
          8,
          8,
          6,
          6
         ],
         "y": [
          3.0,
          3.0,
          4.0,
          4.0,
          3.0
         ],
         "type": "scatter"
        },
        {
         "fill": "toself",
         "mode": "lines",
         "name": "",
         "opacity": 0,
         "text": "timestep: 181, budget: 5.012492124970704, action: 0.3592242172276998",
         "x": [
          7,
          11,
          11,
          7,
          7
         ],
         "y": [
          4.0,
          4.0,
          5.0,
          5.0,
          4.0
         ],
         "type": "scatter"
        },
        {
         "fill": "toself",
         "mode": "lines",
         "name": "",
         "opacity": 0,
         "text": "timestep: 187, budget: 2.2098726440170866, action: 0.8733264484321002",
         "x": [
          13,
          16,
          16,
          13,
          13
         ],
         "y": [
          6.0,
          6.0,
          7.0,
          7.0,
          6.0
         ],
         "type": "scatter"
        },
        {
         "fill": "toself",
         "mode": "lines",
         "name": "",
         "opacity": 0,
         "text": "timestep: 189, budget: 1.4637720076693976, action: 0.3592242172276998",
         "x": [
          11,
          12,
          12,
          11,
          11
         ],
         "y": [
          6.0,
          6.0,
          7.0,
          7.0,
          6.0
         ],
         "type": "scatter"
        },
        {
         "fill": "toself",
         "mode": "lines",
         "name": "",
         "opacity": 0,
         "text": "timestep: 202, budget: 0.9086985376594536, action: 1.1266735515678998",
         "x": [
          12,
          13,
          13,
          12,
          12
         ],
         "y": [
          6.0,
          6.0,
          7.0,
          7.0,
          6.0
         ],
         "type": "scatter"
        },
        {
         "fill": "toself",
         "mode": "lines",
         "name": "",
         "opacity": 0,
         "text": "timestep: 203, budget: 2.8313422828602457, action: 1.0",
         "x": [
          14,
          17,
          17,
          14,
          14
         ],
         "y": [
          7.0,
          7.0,
          8.0,
          8.0,
          7.0
         ],
         "type": "scatter"
        },
        {
         "fill": "toself",
         "mode": "lines",
         "name": "",
         "opacity": 0,
         "text": "timestep: 205, budget: 2.2642797340302065, action: 0.3592242172276998",
         "x": [
          11,
          13,
          13,
          11,
          11
         ],
         "y": [
          7.0,
          7.0,
          8.0,
          8.0,
          7.0
         ],
         "type": "scatter"
        },
        {
         "fill": "toself",
         "mode": "lines",
         "name": "",
         "opacity": 0,
         "text": "timestep: 207, budget: 0.5146602516661556, action: 0.3592242172276998",
         "x": [
          8,
          9,
          9,
          8,
          8
         ],
         "y": [
          3.0,
          3.0,
          4.0,
          4.0,
          3.0
         ],
         "type": "scatter"
        },
        {
         "fill": "toself",
         "mode": "lines",
         "name": "",
         "opacity": 0,
         "text": "timestep: 211, budget: 0.799111010483703, action: 0.3592242172276998",
         "x": [
          10,
          11,
          11,
          10,
          10
         ],
         "y": [
          3.0,
          3.0,
          4.0,
          4.0,
          3.0
         ],
         "type": "scatter"
        },
        {
         "fill": "toself",
         "mode": "lines",
         "name": "",
         "opacity": 0,
         "text": "timestep: 214, budget: 1.8841197950955983, action: 0.3592242172276998",
         "x": [
          8,
          9,
          9,
          8,
          8
         ],
         "y": [
          5.0,
          5.0,
          6.0,
          6.0,
          5.0
         ],
         "type": "scatter"
        },
        {
         "fill": "toself",
         "mode": "lines",
         "name": "",
         "opacity": 0,
         "text": "timestep: 233, budget: 3.265261713972795, action: 0.3592242172276998",
         "x": [
          12,
          15,
          15,
          12,
          12
         ],
         "y": [
          8.0,
          8.0,
          9.0,
          9.0,
          8.0
         ],
         "type": "scatter"
        },
        {
         "fill": "toself",
         "mode": "lines",
         "name": "",
         "opacity": 0,
         "text": "timestep: 243, budget: 1.3231476262521975, action: 1.3372448750980408",
         "x": [
          14,
          15,
          15,
          14,
          14
         ],
         "y": [
          9.0,
          9.0,
          10.0,
          10.0,
          9.0
         ],
         "type": "scatter"
        },
        {
         "fill": "toself",
         "mode": "lines",
         "name": "",
         "opacity": 0,
         "text": "timestep: 257, budget: 8.353029450974713, action: 0.3592242172276998",
         "x": [
          12,
          20,
          20,
          12,
          12
         ],
         "y": [
          10.0,
          10.0,
          11.0,
          11.0,
          10.0
         ],
         "type": "scatter"
        },
        {
         "fill": "toself",
         "mode": "lines",
         "name": "",
         "opacity": 0,
         "text": "timestep: 268, budget: 1.6707930170539476, action: 1.192660233203784",
         "x": [
          14,
          16,
          16,
          14,
          14
         ],
         "y": [
          11.0,
          11.0,
          12.0,
          12.0,
          11.0
         ],
         "type": "scatter"
        },
        {
         "fill": "toself",
         "mode": "lines",
         "name": "",
         "opacity": 0,
         "text": "timestep: 273, budget: 0.5085628366458383, action: 1.1266735515678998",
         "x": [
          13,
          14,
          14,
          13,
          13
         ],
         "y": [
          7.0,
          7.0,
          8.0,
          8.0,
          7.0
         ],
         "type": "scatter"
        },
        {
         "fill": "toself",
         "mode": "lines",
         "name": "",
         "opacity": 0,
         "text": "timestep: 298, budget: 1.4387964320789035, action: 0.3592242172276998",
         "x": [
          12,
          14,
          14,
          12,
          12
         ],
         "y": [
          9.0,
          9.0,
          10.0,
          10.0,
          9.0
         ],
         "type": "scatter"
        },
        {
         "fill": "toself",
         "mode": "lines",
         "name": "",
         "opacity": 0,
         "text": "timestep: 321, budget: 1.2228277468413755, action: 0.3592242172276998",
         "x": [
          15,
          17,
          17,
          15,
          15
         ],
         "y": [
          3.0,
          3.0,
          4.0,
          4.0,
          3.0
         ],
         "type": "scatter"
        },
        {
         "fill": "toself",
         "mode": "lines",
         "name": "",
         "opacity": 0,
         "text": "timestep: 323, budget: 7.479547346147174, action: 0.3592242172276998",
         "x": [
          14,
          21,
          21,
          14,
          14
         ],
         "y": [
          12.0,
          12.0,
          13.0,
          13.0,
          12.0
         ],
         "type": "scatter"
        },
        {
         "fill": "toself",
         "mode": "lines",
         "name": "",
         "opacity": 0,
         "text": "timestep: 327, budget: 6.824212456407542, action: 0.3592242172276998",
         "x": [
          13,
          20,
          20,
          13,
          13
         ],
         "y": [
          13.0,
          13.0,
          14.0,
          14.0,
          13.0
         ],
         "type": "scatter"
        },
        {
         "fill": "toself",
         "mode": "lines",
         "name": "",
         "opacity": 0,
         "text": "timestep: 334, budget: 0.9230474224874738, action: 0.3592242172276998",
         "x": [
          14,
          15,
          15,
          14,
          14
         ],
         "y": [
          14.0,
          14.0,
          15.0,
          15.0,
          14.0
         ],
         "type": "scatter"
        },
        {
         "fill": "toself",
         "mode": "lines",
         "name": "",
         "opacity": 0,
         "text": "timestep: 338, budget: 1.6696980625019326, action: 0.3592242172276998",
         "x": [
          15,
          16,
          16,
          15,
          15
         ],
         "y": [
          4.0,
          4.0,
          5.0,
          5.0,
          4.0
         ],
         "type": "scatter"
        },
        {
         "fill": "toself",
         "mode": "lines",
         "name": "",
         "opacity": 0,
         "text": "timestep: 351, budget: 0.307318362704794, action: 0.3592242172276998",
         "x": [
          16,
          17,
          17,
          16,
          16
         ],
         "y": [
          4.0,
          4.0,
          5.0,
          5.0,
          4.0
         ],
         "type": "scatter"
        },
        {
         "fill": "toself",
         "mode": "lines",
         "name": "",
         "opacity": 0,
         "text": "timestep: 356, budget: 3.592671711448642, action: 0.3592242172276998",
         "x": [
          14,
          17,
          17,
          14,
          14
         ],
         "y": [
          15.0,
          15.0,
          16.0,
          16.0,
          15.0
         ],
         "type": "scatter"
        },
        {
         "fill": "toself",
         "mode": "lines",
         "name": "",
         "opacity": 0,
         "text": "timestep: 359, budget: 3.4252351336627207, action: 0.3592242172276998",
         "x": [
          15,
          19,
          19,
          15,
          15
         ],
         "y": [
          5.0,
          5.0,
          6.0,
          6.0,
          5.0
         ],
         "type": "scatter"
        },
        {
         "fill": "toself",
         "mode": "lines",
         "name": "",
         "opacity": 0,
         "text": "timestep: 360, budget: 1.921382595141696, action: 0.3592242172276998",
         "x": [
          15,
          16,
          16,
          15,
          15
         ],
         "y": [
          8.0,
          8.0,
          9.0,
          9.0,
          8.0
         ],
         "type": "scatter"
        },
        {
         "fill": "toself",
         "mode": "lines",
         "name": "",
         "opacity": 0,
         "text": "timestep: 364, budget: 1.1959914120678603, action: 1.2622002563540202",
         "x": [
          17,
          18,
          18,
          17,
          17
         ],
         "y": [
          3.0,
          3.0,
          4.0,
          4.0,
          3.0
         ],
         "type": "scatter"
        },
        {
         "fill": "toself",
         "mode": "lines",
         "name": "",
         "opacity": 0,
         "text": "timestep: 369, budget: 4.713057794082983, action: 0.3592242172276998",
         "x": [
          15,
          20,
          20,
          15,
          15
         ],
         "y": [
          9.0,
          9.0,
          10.0,
          10.0,
          9.0
         ],
         "type": "scatter"
        },
        {
         "fill": "toself",
         "mode": "lines",
         "name": "",
         "opacity": 0,
         "text": "timestep: 384, budget: 2.205188468815932, action: 0.3592242172276998",
         "x": [
          16,
          18,
          18,
          16,
          16
         ],
         "y": [
          6.0,
          6.0,
          7.0,
          7.0,
          6.0
         ],
         "type": "scatter"
        },
        {
         "fill": "toself",
         "mode": "lines",
         "name": "",
         "opacity": 0,
         "text": "timestep: 387, budget: 0.2900199170489597, action: 0.3592242172276998",
         "x": [
          16,
          17,
          17,
          16,
          16
         ],
         "y": [
          8.0,
          8.0,
          9.0,
          9.0,
          8.0
         ],
         "type": "scatter"
        },
        {
         "fill": "toself",
         "mode": "lines",
         "name": "",
         "opacity": 0,
         "text": "timestep: 388, budget: 0.4512148060357154, action: 0.3592242172276998",
         "x": [
          16,
          17,
          17,
          16,
          16
         ],
         "y": [
          11.0,
          11.0,
          12.0,
          12.0,
          11.0
         ],
         "type": "scatter"
        },
        {
         "fill": "toself",
         "mode": "lines",
         "name": "",
         "opacity": 0,
         "text": "timestep: 413, budget: 0.9658007008784044, action: 0.3592242172276998",
         "x": [
          17,
          18,
          18,
          17,
          17
         ],
         "y": [
          4.0,
          4.0,
          5.0,
          5.0,
          4.0
         ],
         "type": "scatter"
        },
        {
         "fill": "toself",
         "mode": "lines",
         "name": "",
         "opacity": 0,
         "text": "timestep: 424, budget: 0.8476647991169902, action: 0.3592242172276998",
         "x": [
          19,
          20,
          20,
          19,
          19
         ],
         "y": [
          4.0,
          4.0,
          5.0,
          5.0,
          4.0
         ],
         "type": "scatter"
        },
        {
         "fill": "toself",
         "mode": "lines",
         "name": "",
         "opacity": 0,
         "text": "timestep: 426, budget: 2.2654227648799883, action: 0.3592242172276998",
         "x": [
          17,
          20,
          20,
          17,
          17
         ],
         "y": [
          7.0,
          7.0,
          8.0,
          8.0,
          7.0
         ],
         "type": "scatter"
        },
        {
         "fill": "toself",
         "mode": "lines",
         "name": "",
         "opacity": 0,
         "text": "timestep: 427, budget: 0.7868747132203686, action: 0.3592242172276998",
         "x": [
          19,
          20,
          20,
          19,
          19
         ],
         "y": [
          5.0,
          5.0,
          6.0,
          6.0,
          5.0
         ],
         "type": "scatter"
        },
        {
         "fill": "toself",
         "mode": "lines",
         "name": "",
         "opacity": 0,
         "text": "timestep: 440, budget: 0.5326906159527663, action: 0.3592242172276998",
         "x": [
          18,
          19,
          19,
          18,
          18
         ],
         "y": [
          4.0,
          4.0,
          5.0,
          5.0,
          4.0
         ],
         "type": "scatter"
        },
        {
         "fill": "toself",
         "mode": "lines",
         "name": "",
         "opacity": 0,
         "text": "timestep: 444, budget: 0.9121083801572905, action: 1.2622002563540202",
         "x": [
          20,
          21,
          21,
          20,
          20
         ],
         "y": [
          3.0,
          3.0,
          4.0,
          4.0,
          3.0
         ],
         "type": "scatter"
        },
        {
         "fill": "toself",
         "mode": "lines",
         "name": "",
         "opacity": 0,
         "text": "timestep: 452, budget: 0.7135735083349068, action: 0.3592242172276998",
         "x": [
          18,
          19,
          19,
          18,
          18
         ],
         "y": [
          6.0,
          6.0,
          7.0,
          7.0,
          6.0
         ],
         "type": "scatter"
        },
        {
         "fill": "toself",
         "mode": "lines",
         "name": "",
         "opacity": 0,
         "text": "timestep: 455, budget: 1.222412695646583, action: 0.3592242172276998",
         "x": [
          19,
          20,
          20,
          19,
          19
         ],
         "y": [
          6.0,
          6.0,
          7.0,
          7.0,
          6.0
         ],
         "type": "scatter"
        },
        {
         "fill": "toself",
         "mode": "lines",
         "name": "",
         "opacity": 0,
         "text": "timestep: 461, budget: 2.734961081342928, action: 0.3592242172276998",
         "x": [
          19,
          22,
          22,
          19,
          19
         ],
         "y": [
          8.0,
          8.0,
          9.0,
          9.0,
          8.0
         ],
         "type": "scatter"
        },
        {
         "fill": "toself",
         "mode": "lines",
         "name": "",
         "opacity": 0,
         "text": "timestep: 463, budget: 1.2010867040017497, action: 0.3592242172276998",
         "x": [
          19,
          20,
          20,
          19,
          19
         ],
         "y": [
          11.0,
          11.0,
          12.0,
          12.0,
          11.0
         ],
         "type": "scatter"
        },
        {
         "fill": "toself",
         "mode": "lines",
         "name": "",
         "opacity": 0,
         "text": "timestep: 477, budget: 4.249768196630529, action: 0.3592242172276998",
         "x": [
          19,
          23,
          23,
          19,
          19
         ],
         "y": [
          14.0,
          14.0,
          15.0,
          15.0,
          14.0
         ],
         "type": "scatter"
        },
        {
         "fill": "toself",
         "mode": "lines",
         "name": "",
         "opacity": 0,
         "text": "timestep: 503, budget: 0.6334208896691593, action: 1.1266735515678998",
         "x": [
          21,
          22,
          22,
          21,
          21
         ],
         "y": [
          3.0,
          3.0,
          4.0,
          4.0,
          3.0
         ],
         "type": "scatter"
        },
        {
         "fill": "toself",
         "mode": "lines",
         "name": "",
         "opacity": 0,
         "text": "timestep: 561, budget: 0.7133696675565517, action: 0.8073397667962161",
         "x": [
          23,
          24,
          24,
          23,
          23
         ],
         "y": [
          3.0,
          3.0,
          4.0,
          4.0,
          3.0
         ],
         "type": "scatter"
        },
        {
         "fill": "toself",
         "mode": "lines",
         "name": "",
         "opacity": 0,
         "text": "timestep: 565, budget: 0.8442636059968742, action: 0.937169326572463",
         "x": [
          23,
          24,
          24,
          23,
          23
         ],
         "y": [
          4.0,
          4.0,
          5.0,
          5.0,
          4.0
         ],
         "type": "scatter"
        }
       ],
       "layout": {
        "template": {
         "data": {
          "histogram2dcontour": [
           {
            "type": "histogram2dcontour",
            "colorbar": {
             "outlinewidth": 0,
             "ticks": ""
            },
            "colorscale": [
             [
              0.0,
              "#0d0887"
             ],
             [
              0.1111111111111111,
              "#46039f"
             ],
             [
              0.2222222222222222,
              "#7201a8"
             ],
             [
              0.3333333333333333,
              "#9c179e"
             ],
             [
              0.4444444444444444,
              "#bd3786"
             ],
             [
              0.5555555555555556,
              "#d8576b"
             ],
             [
              0.6666666666666666,
              "#ed7953"
             ],
             [
              0.7777777777777778,
              "#fb9f3a"
             ],
             [
              0.8888888888888888,
              "#fdca26"
             ],
             [
              1.0,
              "#f0f921"
             ]
            ]
           }
          ],
          "choropleth": [
           {
            "type": "choropleth",
            "colorbar": {
             "outlinewidth": 0,
             "ticks": ""
            }
           }
          ],
          "histogram2d": [
           {
            "type": "histogram2d",
            "colorbar": {
             "outlinewidth": 0,
             "ticks": ""
            },
            "colorscale": [
             [
              0.0,
              "#0d0887"
             ],
             [
              0.1111111111111111,
              "#46039f"
             ],
             [
              0.2222222222222222,
              "#7201a8"
             ],
             [
              0.3333333333333333,
              "#9c179e"
             ],
             [
              0.4444444444444444,
              "#bd3786"
             ],
             [
              0.5555555555555556,
              "#d8576b"
             ],
             [
              0.6666666666666666,
              "#ed7953"
             ],
             [
              0.7777777777777778,
              "#fb9f3a"
             ],
             [
              0.8888888888888888,
              "#fdca26"
             ],
             [
              1.0,
              "#f0f921"
             ]
            ]
           }
          ],
          "heatmap": [
           {
            "type": "heatmap",
            "colorbar": {
             "outlinewidth": 0,
             "ticks": ""
            },
            "colorscale": [
             [
              0.0,
              "#0d0887"
             ],
             [
              0.1111111111111111,
              "#46039f"
             ],
             [
              0.2222222222222222,
              "#7201a8"
             ],
             [
              0.3333333333333333,
              "#9c179e"
             ],
             [
              0.4444444444444444,
              "#bd3786"
             ],
             [
              0.5555555555555556,
              "#d8576b"
             ],
             [
              0.6666666666666666,
              "#ed7953"
             ],
             [
              0.7777777777777778,
              "#fb9f3a"
             ],
             [
              0.8888888888888888,
              "#fdca26"
             ],
             [
              1.0,
              "#f0f921"
             ]
            ]
           }
          ],
          "heatmapgl": [
           {
            "type": "heatmapgl",
            "colorbar": {
             "outlinewidth": 0,
             "ticks": ""
            },
            "colorscale": [
             [
              0.0,
              "#0d0887"
             ],
             [
              0.1111111111111111,
              "#46039f"
             ],
             [
              0.2222222222222222,
              "#7201a8"
             ],
             [
              0.3333333333333333,
              "#9c179e"
             ],
             [
              0.4444444444444444,
              "#bd3786"
             ],
             [
              0.5555555555555556,
              "#d8576b"
             ],
             [
              0.6666666666666666,
              "#ed7953"
             ],
             [
              0.7777777777777778,
              "#fb9f3a"
             ],
             [
              0.8888888888888888,
              "#fdca26"
             ],
             [
              1.0,
              "#f0f921"
             ]
            ]
           }
          ],
          "contourcarpet": [
           {
            "type": "contourcarpet",
            "colorbar": {
             "outlinewidth": 0,
             "ticks": ""
            }
           }
          ],
          "contour": [
           {
            "type": "contour",
            "colorbar": {
             "outlinewidth": 0,
             "ticks": ""
            },
            "colorscale": [
             [
              0.0,
              "#0d0887"
             ],
             [
              0.1111111111111111,
              "#46039f"
             ],
             [
              0.2222222222222222,
              "#7201a8"
             ],
             [
              0.3333333333333333,
              "#9c179e"
             ],
             [
              0.4444444444444444,
              "#bd3786"
             ],
             [
              0.5555555555555556,
              "#d8576b"
             ],
             [
              0.6666666666666666,
              "#ed7953"
             ],
             [
              0.7777777777777778,
              "#fb9f3a"
             ],
             [
              0.8888888888888888,
              "#fdca26"
             ],
             [
              1.0,
              "#f0f921"
             ]
            ]
           }
          ],
          "surface": [
           {
            "type": "surface",
            "colorbar": {
             "outlinewidth": 0,
             "ticks": ""
            },
            "colorscale": [
             [
              0.0,
              "#0d0887"
             ],
             [
              0.1111111111111111,
              "#46039f"
             ],
             [
              0.2222222222222222,
              "#7201a8"
             ],
             [
              0.3333333333333333,
              "#9c179e"
             ],
             [
              0.4444444444444444,
              "#bd3786"
             ],
             [
              0.5555555555555556,
              "#d8576b"
             ],
             [
              0.6666666666666666,
              "#ed7953"
             ],
             [
              0.7777777777777778,
              "#fb9f3a"
             ],
             [
              0.8888888888888888,
              "#fdca26"
             ],
             [
              1.0,
              "#f0f921"
             ]
            ]
           }
          ],
          "mesh3d": [
           {
            "type": "mesh3d",
            "colorbar": {
             "outlinewidth": 0,
             "ticks": ""
            }
           }
          ],
          "scatter": [
           {
            "fillpattern": {
             "fillmode": "overlay",
             "size": 10,
             "solidity": 0.2
            },
            "type": "scatter"
           }
          ],
          "parcoords": [
           {
            "type": "parcoords",
            "line": {
             "colorbar": {
              "outlinewidth": 0,
              "ticks": ""
             }
            }
           }
          ],
          "scatterpolargl": [
           {
            "type": "scatterpolargl",
            "marker": {
             "colorbar": {
              "outlinewidth": 0,
              "ticks": ""
             }
            }
           }
          ],
          "bar": [
           {
            "error_x": {
             "color": "#2a3f5f"
            },
            "error_y": {
             "color": "#2a3f5f"
            },
            "marker": {
             "line": {
              "color": "#E5ECF6",
              "width": 0.5
             },
             "pattern": {
              "fillmode": "overlay",
              "size": 10,
              "solidity": 0.2
             }
            },
            "type": "bar"
           }
          ],
          "scattergeo": [
           {
            "type": "scattergeo",
            "marker": {
             "colorbar": {
              "outlinewidth": 0,
              "ticks": ""
             }
            }
           }
          ],
          "scatterpolar": [
           {
            "type": "scatterpolar",
            "marker": {
             "colorbar": {
              "outlinewidth": 0,
              "ticks": ""
             }
            }
           }
          ],
          "histogram": [
           {
            "marker": {
             "pattern": {
              "fillmode": "overlay",
              "size": 10,
              "solidity": 0.2
             }
            },
            "type": "histogram"
           }
          ],
          "scattergl": [
           {
            "type": "scattergl",
            "marker": {
             "colorbar": {
              "outlinewidth": 0,
              "ticks": ""
             }
            }
           }
          ],
          "scatter3d": [
           {
            "type": "scatter3d",
            "line": {
             "colorbar": {
              "outlinewidth": 0,
              "ticks": ""
             }
            },
            "marker": {
             "colorbar": {
              "outlinewidth": 0,
              "ticks": ""
             }
            }
           }
          ],
          "scattermapbox": [
           {
            "type": "scattermapbox",
            "marker": {
             "colorbar": {
              "outlinewidth": 0,
              "ticks": ""
             }
            }
           }
          ],
          "scatterternary": [
           {
            "type": "scatterternary",
            "marker": {
             "colorbar": {
              "outlinewidth": 0,
              "ticks": ""
             }
            }
           }
          ],
          "scattercarpet": [
           {
            "type": "scattercarpet",
            "marker": {
             "colorbar": {
              "outlinewidth": 0,
              "ticks": ""
             }
            }
           }
          ],
          "carpet": [
           {
            "aaxis": {
             "endlinecolor": "#2a3f5f",
             "gridcolor": "white",
             "linecolor": "white",
             "minorgridcolor": "white",
             "startlinecolor": "#2a3f5f"
            },
            "baxis": {
             "endlinecolor": "#2a3f5f",
             "gridcolor": "white",
             "linecolor": "white",
             "minorgridcolor": "white",
             "startlinecolor": "#2a3f5f"
            },
            "type": "carpet"
           }
          ],
          "table": [
           {
            "cells": {
             "fill": {
              "color": "#EBF0F8"
             },
             "line": {
              "color": "white"
             }
            },
            "header": {
             "fill": {
              "color": "#C8D4E3"
             },
             "line": {
              "color": "white"
             }
            },
            "type": "table"
           }
          ],
          "barpolar": [
           {
            "marker": {
             "line": {
              "color": "#E5ECF6",
              "width": 0.5
             },
             "pattern": {
              "fillmode": "overlay",
              "size": 10,
              "solidity": 0.2
             }
            },
            "type": "barpolar"
           }
          ],
          "pie": [
           {
            "automargin": true,
            "type": "pie"
           }
          ]
         },
         "layout": {
          "autotypenumbers": "strict",
          "colorway": [
           "#636efa",
           "#EF553B",
           "#00cc96",
           "#ab63fa",
           "#FFA15A",
           "#19d3f3",
           "#FF6692",
           "#B6E880",
           "#FF97FF",
           "#FECB52"
          ],
          "font": {
           "color": "#2a3f5f"
          },
          "hovermode": "closest",
          "hoverlabel": {
           "align": "left"
          },
          "paper_bgcolor": "white",
          "plot_bgcolor": "#E5ECF6",
          "polar": {
           "bgcolor": "#E5ECF6",
           "angularaxis": {
            "gridcolor": "white",
            "linecolor": "white",
            "ticks": ""
           },
           "radialaxis": {
            "gridcolor": "white",
            "linecolor": "white",
            "ticks": ""
           }
          },
          "ternary": {
           "bgcolor": "#E5ECF6",
           "aaxis": {
            "gridcolor": "white",
            "linecolor": "white",
            "ticks": ""
           },
           "baxis": {
            "gridcolor": "white",
            "linecolor": "white",
            "ticks": ""
           },
           "caxis": {
            "gridcolor": "white",
            "linecolor": "white",
            "ticks": ""
           }
          },
          "coloraxis": {
           "colorbar": {
            "outlinewidth": 0,
            "ticks": ""
           }
          },
          "colorscale": {
           "sequential": [
            [
             0.0,
             "#0d0887"
            ],
            [
             0.1111111111111111,
             "#46039f"
            ],
            [
             0.2222222222222222,
             "#7201a8"
            ],
            [
             0.3333333333333333,
             "#9c179e"
            ],
            [
             0.4444444444444444,
             "#bd3786"
            ],
            [
             0.5555555555555556,
             "#d8576b"
            ],
            [
             0.6666666666666666,
             "#ed7953"
            ],
            [
             0.7777777777777778,
             "#fb9f3a"
            ],
            [
             0.8888888888888888,
             "#fdca26"
            ],
            [
             1.0,
             "#f0f921"
            ]
           ],
           "sequentialminus": [
            [
             0.0,
             "#0d0887"
            ],
            [
             0.1111111111111111,
             "#46039f"
            ],
            [
             0.2222222222222222,
             "#7201a8"
            ],
            [
             0.3333333333333333,
             "#9c179e"
            ],
            [
             0.4444444444444444,
             "#bd3786"
            ],
            [
             0.5555555555555556,
             "#d8576b"
            ],
            [
             0.6666666666666666,
             "#ed7953"
            ],
            [
             0.7777777777777778,
             "#fb9f3a"
            ],
            [
             0.8888888888888888,
             "#fdca26"
            ],
            [
             1.0,
             "#f0f921"
            ]
           ],
           "diverging": [
            [
             0,
             "#8e0152"
            ],
            [
             0.1,
             "#c51b7d"
            ],
            [
             0.2,
             "#de77ae"
            ],
            [
             0.3,
             "#f1b6da"
            ],
            [
             0.4,
             "#fde0ef"
            ],
            [
             0.5,
             "#f7f7f7"
            ],
            [
             0.6,
             "#e6f5d0"
            ],
            [
             0.7,
             "#b8e186"
            ],
            [
             0.8,
             "#7fbc41"
            ],
            [
             0.9,
             "#4d9221"
            ],
            [
             1,
             "#276419"
            ]
           ]
          },
          "xaxis": {
           "gridcolor": "white",
           "linecolor": "white",
           "ticks": "",
           "title": {
            "standoff": 15
           },
           "zerolinecolor": "white",
           "automargin": true,
           "zerolinewidth": 2
          },
          "yaxis": {
           "gridcolor": "white",
           "linecolor": "white",
           "ticks": "",
           "title": {
            "standoff": 15
           },
           "zerolinecolor": "white",
           "automargin": true,
           "zerolinewidth": 2
          },
          "scene": {
           "xaxis": {
            "backgroundcolor": "#E5ECF6",
            "gridcolor": "white",
            "linecolor": "white",
            "showbackground": true,
            "ticks": "",
            "zerolinecolor": "white",
            "gridwidth": 2
           },
           "yaxis": {
            "backgroundcolor": "#E5ECF6",
            "gridcolor": "white",
            "linecolor": "white",
            "showbackground": true,
            "ticks": "",
            "zerolinecolor": "white",
            "gridwidth": 2
           },
           "zaxis": {
            "backgroundcolor": "#E5ECF6",
            "gridcolor": "white",
            "linecolor": "white",
            "showbackground": true,
            "ticks": "",
            "zerolinecolor": "white",
            "gridwidth": 2
           }
          },
          "shapedefaults": {
           "line": {
            "color": "#2a3f5f"
           }
          },
          "annotationdefaults": {
           "arrowcolor": "#2a3f5f",
           "arrowhead": 0,
           "arrowwidth": 1
          },
          "geo": {
           "bgcolor": "white",
           "landcolor": "#E5ECF6",
           "subunitcolor": "white",
           "showland": true,
           "showlakes": true,
           "lakecolor": "white"
          },
          "title": {
           "x": 0.05
          },
          "mapbox": {
           "style": "light"
          }
         }
        },
        "xaxis": {},
        "yaxis": {
         "range": [
          0,
          13
         ],
         "showticklabels": false
        },
        "shapes": [
         {
          "fillcolor": "rgba(0, 204, 150,0.5)",
          "line": {
           "color": "White",
           "width": 1
          },
          "type": "rect",
          "x0": 8,
          "x1": 9,
          "xref": "x",
          "y0": 0.0,
          "y1": 1.0,
          "yref": "y"
         },
         {
          "fillcolor": "rgba(0, 204, 150,0.5)",
          "line": {
           "color": "White",
           "width": 1
          },
          "type": "rect",
          "x0": 8,
          "x1": 9,
          "xref": "x",
          "y0": 1.0,
          "y1": 2.0,
          "yref": "y"
         },
         {
          "fillcolor": "rgba(0, 204, 150,0.5)",
          "line": {
           "color": "White",
           "width": 1
          },
          "type": "rect",
          "x0": 13,
          "x1": 15,
          "xref": "x",
          "y0": 0.0,
          "y1": 1.0,
          "yref": "y"
         },
         {
          "fillcolor": "rgba(0, 204, 150,0.5)",
          "line": {
           "color": "White",
           "width": 1
          },
          "type": "rect",
          "x0": 7,
          "x1": 9,
          "xref": "x",
          "y0": 2.0,
          "y1": 3.0,
          "yref": "y"
         },
         {
          "fillcolor": "rgba(0, 204, 150,0.5)",
          "line": {
           "color": "White",
           "width": 1
          },
          "type": "rect",
          "x0": 7,
          "x1": 8,
          "xref": "x",
          "y0": 0.0,
          "y1": 1.0,
          "yref": "y"
         },
         {
          "fillcolor": "rgba(0, 204, 150,0.5)",
          "line": {
           "color": "White",
           "width": 1
          },
          "type": "rect",
          "x0": 11,
          "x1": 12,
          "xref": "x",
          "y0": 0.0,
          "y1": 1.0,
          "yref": "y"
         },
         {
          "fillcolor": "rgba(0, 204, 150,0.5)",
          "line": {
           "color": "White",
           "width": 1
          },
          "type": "rect",
          "x0": 7,
          "x1": 8,
          "xref": "x",
          "y0": 1.0,
          "y1": 2.0,
          "yref": "y"
         },
         {
          "fillcolor": "rgba(0, 204, 150,0.5)",
          "line": {
           "color": "White",
           "width": 1
          },
          "type": "rect",
          "x0": 14,
          "x1": 16,
          "xref": "x",
          "y0": 1.0,
          "y1": 2.0,
          "yref": "y"
         },
         {
          "fillcolor": "rgba(0, 204, 150,0.5)",
          "line": {
           "color": "White",
           "width": 1
          },
          "type": "rect",
          "x0": 15,
          "x1": 16,
          "xref": "x",
          "y0": 0.0,
          "y1": 1.0,
          "yref": "y"
         },
         {
          "fillcolor": "rgba(0, 204, 150,0.5)",
          "line": {
           "color": "White",
           "width": 1
          },
          "type": "rect",
          "x0": 9,
          "x1": 13,
          "xref": "x",
          "y0": 1.0,
          "y1": 2.0,
          "yref": "y"
         },
         {
          "fillcolor": "rgba(0, 204, 150,0.5)",
          "line": {
           "color": "White",
           "width": 1
          },
          "type": "rect",
          "x0": 9,
          "x1": 13,
          "xref": "x",
          "y0": 2.0,
          "y1": 3.0,
          "yref": "y"
         },
         {
          "fillcolor": "rgba(0, 204, 150,0.5)",
          "line": {
           "color": "White",
           "width": 1
          },
          "type": "rect",
          "x0": 10,
          "x1": 11,
          "xref": "x",
          "y0": 0.0,
          "y1": 1.0,
          "yref": "y"
         },
         {
          "fillcolor": "rgba(0, 204, 150,0.5)",
          "line": {
           "color": "White",
           "width": 1
          },
          "type": "rect",
          "x0": 12,
          "x1": 13,
          "xref": "x",
          "y0": 0.0,
          "y1": 1.0,
          "yref": "y"
         },
         {
          "fillcolor": "rgba(0, 204, 150,0.5)",
          "line": {
           "color": "White",
           "width": 1
          },
          "type": "rect",
          "x0": 13,
          "x1": 14,
          "xref": "x",
          "y0": 1.0,
          "y1": 2.0,
          "yref": "y"
         },
         {
          "fillcolor": "rgba(0, 204, 150,0.5)",
          "line": {
           "color": "White",
           "width": 1
          },
          "type": "rect",
          "x0": 16,
          "x1": 17,
          "xref": "x",
          "y0": 0.0,
          "y1": 1.0,
          "yref": "y"
         },
         {
          "fillcolor": "rgba(0, 204, 150,0.5)",
          "line": {
           "color": "White",
           "width": 1
          },
          "type": "rect",
          "x0": 13,
          "x1": 16,
          "xref": "x",
          "y0": 2.0,
          "y1": 3.0,
          "yref": "y"
         },
         {
          "fillcolor": "rgba(0, 204, 150,0.5)",
          "line": {
           "color": "White",
           "width": 1
          },
          "type": "rect",
          "x0": 16,
          "x1": 17,
          "xref": "x",
          "y0": 1.0,
          "y1": 2.0,
          "yref": "y"
         },
         {
          "fillcolor": "rgba(0, 204, 150,0.5)",
          "line": {
           "color": "White",
           "width": 1
          },
          "type": "rect",
          "x0": 16,
          "x1": 22,
          "xref": "x",
          "y0": 2.0,
          "y1": 3.0,
          "yref": "y"
         },
         {
          "fillcolor": "rgba(0, 204, 150,0.5)",
          "line": {
           "color": "White",
           "width": 1
          },
          "type": "rect",
          "x0": 17,
          "x1": 23,
          "xref": "x",
          "y0": 0.0,
          "y1": 1.0,
          "yref": "y"
         },
         {
          "fillcolor": "rgba(0, 204, 150,0.5)",
          "line": {
           "color": "White",
           "width": 1
          },
          "type": "rect",
          "x0": 17,
          "x1": 20,
          "xref": "x",
          "y0": 1.0,
          "y1": 2.0,
          "yref": "y"
         },
         {
          "fillcolor": "rgba(0, 204, 150,0.5)",
          "line": {
           "color": "White",
           "width": 1
          },
          "type": "rect",
          "x0": 20,
          "x1": 21,
          "xref": "x",
          "y0": 1.0,
          "y1": 2.0,
          "yref": "y"
         },
         {
          "fillcolor": "rgba(0, 204, 150,0.5)",
          "line": {
           "color": "White",
           "width": 1
          },
          "type": "rect",
          "x0": 22,
          "x1": 23,
          "xref": "x",
          "y0": 1.0,
          "y1": 2.0,
          "yref": "y"
         },
         {
          "fillcolor": "rgba(0, 204, 150,0.5)",
          "line": {
           "color": "White",
           "width": 1
          },
          "type": "rect",
          "x0": 23,
          "x1": 24,
          "xref": "x",
          "y0": 0.0,
          "y1": 1.0,
          "yref": "y"
         },
         {
          "fillcolor": "rgba(0, 204, 150,0.5)",
          "line": {
           "color": "White",
           "width": 1
          },
          "type": "rect",
          "x0": 23,
          "x1": 24,
          "xref": "x",
          "y0": 1.0,
          "y1": 2.0,
          "yref": "y"
         },
         {
          "fillcolor": "rgba(0, 204, 150,0.5)",
          "line": {
           "color": "White",
           "width": 1
          },
          "type": "rect",
          "x0": 23,
          "x1": 24,
          "xref": "x",
          "y0": 2.0,
          "y1": 3.0,
          "yref": "y"
         },
         {
          "fillcolor": "rgba(239, 85, 59,0.5)",
          "line": {
           "color": "White",
           "width": 1
          },
          "type": "rect",
          "x0": 12,
          "x1": 13,
          "xref": "x",
          "y0": 3.0,
          "y1": 4.0,
          "yref": "y"
         },
         {
          "fillcolor": "rgba(239, 85, 59,0.5)",
          "line": {
           "color": "White",
           "width": 1
          },
          "type": "rect",
          "x0": 11,
          "x1": 12,
          "xref": "x",
          "y0": 3.0,
          "y1": 4.0,
          "yref": "y"
         },
         {
          "fillcolor": "rgba(239, 85, 59,0.5)",
          "line": {
           "color": "White",
           "width": 1
          },
          "type": "rect",
          "x0": 12,
          "x1": 13,
          "xref": "x",
          "y0": 4.0,
          "y1": 5.0,
          "yref": "y"
         },
         {
          "fillcolor": "rgba(239, 85, 59,0.5)",
          "line": {
           "color": "White",
           "width": 1
          },
          "type": "rect",
          "x0": 11,
          "x1": 12,
          "xref": "x",
          "y0": 4.0,
          "y1": 5.0,
          "yref": "y"
         },
         {
          "fillcolor": "rgba(239, 85, 59,0.5)",
          "line": {
           "color": "White",
           "width": 1
          },
          "type": "rect",
          "x0": 14,
          "x1": 15,
          "xref": "x",
          "y0": 3.0,
          "y1": 4.0,
          "yref": "y"
         },
         {
          "fillcolor": "rgba(239, 85, 59,0.5)",
          "line": {
           "color": "White",
           "width": 1
          },
          "type": "rect",
          "x0": 18,
          "x1": 20,
          "xref": "x",
          "y0": 3.0,
          "y1": 4.0,
          "yref": "y"
         },
         {
          "fillcolor": "rgba(239, 85, 59,0.5)",
          "line": {
           "color": "White",
           "width": 1
          },
          "type": "rect",
          "x0": 12,
          "x1": 15,
          "xref": "x",
          "y0": 5.0,
          "y1": 6.0,
          "yref": "y"
         },
         {
          "fillcolor": "rgba(239, 85, 59,0.5)",
          "line": {
           "color": "White",
           "width": 1
          },
          "type": "rect",
          "x0": 13,
          "x1": 14,
          "xref": "x",
          "y0": 3.0,
          "y1": 4.0,
          "yref": "y"
         },
         {
          "fillcolor": "rgba(239, 85, 59,0.5)",
          "line": {
           "color": "White",
           "width": 1
          },
          "type": "rect",
          "x0": 11,
          "x1": 12,
          "xref": "x",
          "y0": 5.0,
          "y1": 6.0,
          "yref": "y"
         },
         {
          "fillcolor": "rgba(239, 85, 59,0.5)",
          "line": {
           "color": "White",
           "width": 1
          },
          "type": "rect",
          "x0": 13,
          "x1": 15,
          "xref": "x",
          "y0": 4.0,
          "y1": 5.0,
          "yref": "y"
         },
         {
          "fillcolor": "rgba(239, 85, 59,0.5)",
          "line": {
           "color": "White",
           "width": 1
          },
          "type": "rect",
          "x0": 6,
          "x1": 8,
          "xref": "x",
          "y0": 3.0,
          "y1": 4.0,
          "yref": "y"
         },
         {
          "fillcolor": "rgba(239, 85, 59,0.5)",
          "line": {
           "color": "White",
           "width": 1
          },
          "type": "rect",
          "x0": 7,
          "x1": 11,
          "xref": "x",
          "y0": 4.0,
          "y1": 5.0,
          "yref": "y"
         },
         {
          "fillcolor": "rgba(239, 85, 59,0.5)",
          "line": {
           "color": "White",
           "width": 1
          },
          "type": "rect",
          "x0": 13,
          "x1": 16,
          "xref": "x",
          "y0": 6.0,
          "y1": 7.0,
          "yref": "y"
         },
         {
          "fillcolor": "rgba(239, 85, 59,0.5)",
          "line": {
           "color": "White",
           "width": 1
          },
          "type": "rect",
          "x0": 11,
          "x1": 12,
          "xref": "x",
          "y0": 6.0,
          "y1": 7.0,
          "yref": "y"
         },
         {
          "fillcolor": "rgba(239, 85, 59,0.5)",
          "line": {
           "color": "White",
           "width": 1
          },
          "type": "rect",
          "x0": 12,
          "x1": 13,
          "xref": "x",
          "y0": 6.0,
          "y1": 7.0,
          "yref": "y"
         },
         {
          "fillcolor": "rgba(239, 85, 59,0.5)",
          "line": {
           "color": "White",
           "width": 1
          },
          "type": "rect",
          "x0": 14,
          "x1": 17,
          "xref": "x",
          "y0": 7.0,
          "y1": 8.0,
          "yref": "y"
         },
         {
          "fillcolor": "rgba(239, 85, 59,0.5)",
          "line": {
           "color": "White",
           "width": 1
          },
          "type": "rect",
          "x0": 11,
          "x1": 13,
          "xref": "x",
          "y0": 7.0,
          "y1": 8.0,
          "yref": "y"
         },
         {
          "fillcolor": "rgba(239, 85, 59,0.5)",
          "line": {
           "color": "White",
           "width": 1
          },
          "type": "rect",
          "x0": 8,
          "x1": 9,
          "xref": "x",
          "y0": 3.0,
          "y1": 4.0,
          "yref": "y"
         },
         {
          "fillcolor": "rgba(239, 85, 59,0.5)",
          "line": {
           "color": "White",
           "width": 1
          },
          "type": "rect",
          "x0": 10,
          "x1": 11,
          "xref": "x",
          "y0": 3.0,
          "y1": 4.0,
          "yref": "y"
         },
         {
          "fillcolor": "rgba(239, 85, 59,0.5)",
          "line": {
           "color": "White",
           "width": 1
          },
          "type": "rect",
          "x0": 8,
          "x1": 9,
          "xref": "x",
          "y0": 5.0,
          "y1": 6.0,
          "yref": "y"
         },
         {
          "fillcolor": "rgba(239, 85, 59,0.5)",
          "line": {
           "color": "White",
           "width": 1
          },
          "type": "rect",
          "x0": 12,
          "x1": 15,
          "xref": "x",
          "y0": 8.0,
          "y1": 9.0,
          "yref": "y"
         },
         {
          "fillcolor": "rgba(239, 85, 59,0.5)",
          "line": {
           "color": "White",
           "width": 1
          },
          "type": "rect",
          "x0": 14,
          "x1": 15,
          "xref": "x",
          "y0": 9.0,
          "y1": 10.0,
          "yref": "y"
         },
         {
          "fillcolor": "rgba(239, 85, 59,0.5)",
          "line": {
           "color": "White",
           "width": 1
          },
          "type": "rect",
          "x0": 12,
          "x1": 20,
          "xref": "x",
          "y0": 10.0,
          "y1": 11.0,
          "yref": "y"
         },
         {
          "fillcolor": "rgba(239, 85, 59,0.5)",
          "line": {
           "color": "White",
           "width": 1
          },
          "type": "rect",
          "x0": 14,
          "x1": 16,
          "xref": "x",
          "y0": 11.0,
          "y1": 12.0,
          "yref": "y"
         },
         {
          "fillcolor": "rgba(239, 85, 59,0.5)",
          "line": {
           "color": "White",
           "width": 1
          },
          "type": "rect",
          "x0": 13,
          "x1": 14,
          "xref": "x",
          "y0": 7.0,
          "y1": 8.0,
          "yref": "y"
         },
         {
          "fillcolor": "rgba(239, 85, 59,0.5)",
          "line": {
           "color": "White",
           "width": 1
          },
          "type": "rect",
          "x0": 12,
          "x1": 14,
          "xref": "x",
          "y0": 9.0,
          "y1": 10.0,
          "yref": "y"
         },
         {
          "fillcolor": "rgba(239, 85, 59,0.5)",
          "line": {
           "color": "White",
           "width": 1
          },
          "type": "rect",
          "x0": 15,
          "x1": 17,
          "xref": "x",
          "y0": 3.0,
          "y1": 4.0,
          "yref": "y"
         },
         {
          "fillcolor": "rgba(239, 85, 59,0.5)",
          "line": {
           "color": "White",
           "width": 1
          },
          "type": "rect",
          "x0": 14,
          "x1": 21,
          "xref": "x",
          "y0": 12.0,
          "y1": 13.0,
          "yref": "y"
         },
         {
          "fillcolor": "rgba(239, 85, 59,0.5)",
          "line": {
           "color": "White",
           "width": 1
          },
          "type": "rect",
          "x0": 13,
          "x1": 20,
          "xref": "x",
          "y0": 13.0,
          "y1": 14.0,
          "yref": "y"
         },
         {
          "fillcolor": "rgba(239, 85, 59,0.5)",
          "line": {
           "color": "White",
           "width": 1
          },
          "type": "rect",
          "x0": 14,
          "x1": 15,
          "xref": "x",
          "y0": 14.0,
          "y1": 15.0,
          "yref": "y"
         },
         {
          "fillcolor": "rgba(239, 85, 59,0.5)",
          "line": {
           "color": "White",
           "width": 1
          },
          "type": "rect",
          "x0": 15,
          "x1": 16,
          "xref": "x",
          "y0": 4.0,
          "y1": 5.0,
          "yref": "y"
         },
         {
          "fillcolor": "rgba(239, 85, 59,0.5)",
          "line": {
           "color": "White",
           "width": 1
          },
          "type": "rect",
          "x0": 16,
          "x1": 17,
          "xref": "x",
          "y0": 4.0,
          "y1": 5.0,
          "yref": "y"
         },
         {
          "fillcolor": "rgba(239, 85, 59,0.5)",
          "line": {
           "color": "White",
           "width": 1
          },
          "type": "rect",
          "x0": 14,
          "x1": 17,
          "xref": "x",
          "y0": 15.0,
          "y1": 16.0,
          "yref": "y"
         },
         {
          "fillcolor": "rgba(239, 85, 59,0.5)",
          "line": {
           "color": "White",
           "width": 1
          },
          "type": "rect",
          "x0": 15,
          "x1": 19,
          "xref": "x",
          "y0": 5.0,
          "y1": 6.0,
          "yref": "y"
         },
         {
          "fillcolor": "rgba(239, 85, 59,0.5)",
          "line": {
           "color": "White",
           "width": 1
          },
          "type": "rect",
          "x0": 15,
          "x1": 16,
          "xref": "x",
          "y0": 8.0,
          "y1": 9.0,
          "yref": "y"
         },
         {
          "fillcolor": "rgba(239, 85, 59,0.5)",
          "line": {
           "color": "White",
           "width": 1
          },
          "type": "rect",
          "x0": 17,
          "x1": 18,
          "xref": "x",
          "y0": 3.0,
          "y1": 4.0,
          "yref": "y"
         },
         {
          "fillcolor": "rgba(239, 85, 59,0.5)",
          "line": {
           "color": "White",
           "width": 1
          },
          "type": "rect",
          "x0": 15,
          "x1": 20,
          "xref": "x",
          "y0": 9.0,
          "y1": 10.0,
          "yref": "y"
         },
         {
          "fillcolor": "rgba(239, 85, 59,0.5)",
          "line": {
           "color": "White",
           "width": 1
          },
          "type": "rect",
          "x0": 16,
          "x1": 18,
          "xref": "x",
          "y0": 6.0,
          "y1": 7.0,
          "yref": "y"
         },
         {
          "fillcolor": "rgba(239, 85, 59,0.5)",
          "line": {
           "color": "White",
           "width": 1
          },
          "type": "rect",
          "x0": 16,
          "x1": 17,
          "xref": "x",
          "y0": 8.0,
          "y1": 9.0,
          "yref": "y"
         },
         {
          "fillcolor": "rgba(239, 85, 59,0.5)",
          "line": {
           "color": "White",
           "width": 1
          },
          "type": "rect",
          "x0": 16,
          "x1": 17,
          "xref": "x",
          "y0": 11.0,
          "y1": 12.0,
          "yref": "y"
         },
         {
          "fillcolor": "rgba(239, 85, 59,0.5)",
          "line": {
           "color": "White",
           "width": 1
          },
          "type": "rect",
          "x0": 17,
          "x1": 18,
          "xref": "x",
          "y0": 4.0,
          "y1": 5.0,
          "yref": "y"
         },
         {
          "fillcolor": "rgba(239, 85, 59,0.5)",
          "line": {
           "color": "White",
           "width": 1
          },
          "type": "rect",
          "x0": 19,
          "x1": 20,
          "xref": "x",
          "y0": 4.0,
          "y1": 5.0,
          "yref": "y"
         },
         {
          "fillcolor": "rgba(239, 85, 59,0.5)",
          "line": {
           "color": "White",
           "width": 1
          },
          "type": "rect",
          "x0": 17,
          "x1": 20,
          "xref": "x",
          "y0": 7.0,
          "y1": 8.0,
          "yref": "y"
         },
         {
          "fillcolor": "rgba(239, 85, 59,0.5)",
          "line": {
           "color": "White",
           "width": 1
          },
          "type": "rect",
          "x0": 19,
          "x1": 20,
          "xref": "x",
          "y0": 5.0,
          "y1": 6.0,
          "yref": "y"
         },
         {
          "fillcolor": "rgba(239, 85, 59,0.5)",
          "line": {
           "color": "White",
           "width": 1
          },
          "type": "rect",
          "x0": 18,
          "x1": 19,
          "xref": "x",
          "y0": 4.0,
          "y1": 5.0,
          "yref": "y"
         },
         {
          "fillcolor": "rgba(239, 85, 59,0.5)",
          "line": {
           "color": "White",
           "width": 1
          },
          "type": "rect",
          "x0": 20,
          "x1": 21,
          "xref": "x",
          "y0": 3.0,
          "y1": 4.0,
          "yref": "y"
         },
         {
          "fillcolor": "rgba(239, 85, 59,0.5)",
          "line": {
           "color": "White",
           "width": 1
          },
          "type": "rect",
          "x0": 18,
          "x1": 19,
          "xref": "x",
          "y0": 6.0,
          "y1": 7.0,
          "yref": "y"
         },
         {
          "fillcolor": "rgba(239, 85, 59,0.5)",
          "line": {
           "color": "White",
           "width": 1
          },
          "type": "rect",
          "x0": 19,
          "x1": 20,
          "xref": "x",
          "y0": 6.0,
          "y1": 7.0,
          "yref": "y"
         },
         {
          "fillcolor": "rgba(239, 85, 59,0.5)",
          "line": {
           "color": "White",
           "width": 1
          },
          "type": "rect",
          "x0": 19,
          "x1": 22,
          "xref": "x",
          "y0": 8.0,
          "y1": 9.0,
          "yref": "y"
         },
         {
          "fillcolor": "rgba(239, 85, 59,0.5)",
          "line": {
           "color": "White",
           "width": 1
          },
          "type": "rect",
          "x0": 19,
          "x1": 20,
          "xref": "x",
          "y0": 11.0,
          "y1": 12.0,
          "yref": "y"
         },
         {
          "fillcolor": "rgba(239, 85, 59,0.5)",
          "line": {
           "color": "White",
           "width": 1
          },
          "type": "rect",
          "x0": 19,
          "x1": 23,
          "xref": "x",
          "y0": 14.0,
          "y1": 15.0,
          "yref": "y"
         },
         {
          "fillcolor": "rgba(239, 85, 59,0.5)",
          "line": {
           "color": "White",
           "width": 1
          },
          "type": "rect",
          "x0": 21,
          "x1": 22,
          "xref": "x",
          "y0": 3.0,
          "y1": 4.0,
          "yref": "y"
         },
         {
          "fillcolor": "rgba(239, 85, 59,0.5)",
          "line": {
           "color": "White",
           "width": 1
          },
          "type": "rect",
          "x0": 23,
          "x1": 24,
          "xref": "x",
          "y0": 3.0,
          "y1": 4.0,
          "yref": "y"
         },
         {
          "fillcolor": "rgba(239, 85, 59,0.5)",
          "line": {
           "color": "White",
           "width": 1
          },
          "type": "rect",
          "x0": 23,
          "x1": 24,
          "xref": "x",
          "y0": 4.0,
          "y1": 5.0,
          "yref": "y"
         },
         {
          "fillcolor": "rgba(0, 204, 150,1)",
          "line": {
           "color": "White",
           "width": 1
          },
          "type": "rect",
          "x0": 8,
          "x1": 9,
          "y0": 0.0,
          "y1": 0.4282345985284674,
          "xref": "x",
          "yref": "y"
         },
         {
          "fillcolor": "rgba(0, 204, 150,1)",
          "line": {
           "color": "White",
           "width": 1
          },
          "type": "rect",
          "x0": 8,
          "x1": 9,
          "y0": 1.0,
          "y1": 1.3913487109255611,
          "xref": "x",
          "yref": "y"
         },
         {
          "fillcolor": "rgba(0, 204, 150,1)",
          "line": {
           "color": "White",
           "width": 1
          },
          "type": "rect",
          "x0": 13,
          "x1": 15,
          "y0": 0.0,
          "y1": 0.5637538065852092,
          "xref": "x",
          "yref": "y"
         },
         {
          "fillcolor": "rgba(0, 204, 150,1)",
          "line": {
           "color": "White",
           "width": 1
          },
          "type": "rect",
          "x0": 7,
          "x1": 9,
          "y0": 2.0,
          "y1": 2.4970996683472597,
          "xref": "x",
          "yref": "y"
         },
         {
          "fillcolor": "rgba(0, 204, 150,1)",
          "line": {
           "color": "White",
           "width": 1
          },
          "type": "rect",
          "x0": 7,
          "x1": 8,
          "y0": 0.0,
          "y1": 0.4970996683472595,
          "xref": "x",
          "yref": "y"
         },
         {
          "fillcolor": "rgba(0, 204, 150,1)",
          "line": {
           "color": "White",
           "width": 1
          },
          "type": "rect",
          "x0": 11,
          "x1": 12,
          "y0": 0.0,
          "y1": 0.5304267374662344,
          "xref": "x",
          "yref": "y"
         },
         {
          "fillcolor": "rgba(0, 204, 150,1)",
          "line": {
           "color": "White",
           "width": 1
          },
          "type": "rect",
          "x0": 7,
          "x1": 8,
          "y0": 1.0,
          "y1": 1.3072175349130402,
          "xref": "x",
          "yref": "y"
         },
         {
          "fillcolor": "rgba(0, 204, 150,1)",
          "line": {
           "color": "White",
           "width": 1
          },
          "type": "rect",
          "x0": 14,
          "x1": 16,
          "y0": 1.0,
          "y1": 1.5976177761476564,
          "xref": "x",
          "yref": "y"
         },
         {
          "fillcolor": "rgba(0, 204, 150,1)",
          "line": {
           "color": "White",
           "width": 1
          },
          "type": "rect",
          "x0": 15,
          "x1": 16,
          "y0": 0.0,
          "y1": 0.8053027281613654,
          "xref": "x",
          "yref": "y"
         },
         {
          "fillcolor": "rgba(0, 204, 150,1)",
          "line": {
           "color": "White",
           "width": 1
          },
          "type": "rect",
          "x0": 9,
          "x1": 13,
          "y0": 1.0,
          "y1": 1.4632356987848125,
          "xref": "x",
          "yref": "y"
         },
         {
          "fillcolor": "rgba(0, 204, 150,1)",
          "line": {
           "color": "White",
           "width": 1
          },
          "type": "rect",
          "x0": 9,
          "x1": 13,
          "y0": 2.0,
          "y1": 2.4632356987848123,
          "xref": "x",
          "yref": "y"
         },
         {
          "fillcolor": "rgba(0, 204, 150,1)",
          "line": {
           "color": "White",
           "width": 1
          },
          "type": "rect",
          "x0": 10,
          "x1": 11,
          "y0": 0.0,
          "y1": 0.5976177761476563,
          "xref": "x",
          "yref": "y"
         },
         {
          "fillcolor": "rgba(0, 204, 150,1)",
          "line": {
           "color": "White",
           "width": 1
          },
          "type": "rect",
          "x0": 12,
          "x1": 13,
          "y0": 0.0,
          "y1": 0.5976177761476563,
          "xref": "x",
          "yref": "y"
         },
         {
          "fillcolor": "rgba(0, 204, 150,1)",
          "line": {
           "color": "White",
           "width": 1
          },
          "type": "rect",
          "x0": 13,
          "x1": 14,
          "y0": 1.0,
          "y1": 1.5976177761476564,
          "xref": "x",
          "yref": "y"
         },
         {
          "fillcolor": "rgba(0, 204, 150,1)",
          "line": {
           "color": "White",
           "width": 1
          },
          "type": "rect",
          "x0": 16,
          "x1": 17,
          "y0": 0.0,
          "y1": 0.8053027281613654,
          "xref": "x",
          "yref": "y"
         },
         {
          "fillcolor": "rgba(0, 204, 150,1)",
          "line": {
           "color": "White",
           "width": 1
          },
          "type": "rect",
          "x0": 13,
          "x1": 16,
          "y0": 2.0,
          "y1": 2.4632356987848123,
          "xref": "x",
          "yref": "y"
         },
         {
          "fillcolor": "rgba(0, 204, 150,1)",
          "line": {
           "color": "White",
           "width": 1
          },
          "type": "rect",
          "x0": 16,
          "x1": 17,
          "y0": 1.0,
          "y1": 1.6695047640069076,
          "xref": "x",
          "yref": "y"
         },
         {
          "fillcolor": "rgba(0, 204, 150,1)",
          "line": {
           "color": "White",
           "width": 1
          },
          "type": "rect",
          "x0": 16,
          "x1": 22,
          "y0": 2.0,
          "y1": 2.4632356987848123,
          "xref": "x",
          "yref": "y"
         },
         {
          "fillcolor": "rgba(0, 204, 150,1)",
          "line": {
           "color": "White",
           "width": 1
          },
          "type": "rect",
          "x0": 17,
          "x1": 23,
          "y0": 0.0,
          "y1": 0.4632356987848125,
          "xref": "x",
          "yref": "y"
         },
         {
          "fillcolor": "rgba(0, 204, 150,1)",
          "line": {
           "color": "White",
           "width": 1
          },
          "type": "rect",
          "x0": 17,
          "x1": 20,
          "y0": 1.0,
          "y1": 1.4970996683472595,
          "xref": "x",
          "yref": "y"
         },
         {
          "fillcolor": "rgba(0, 204, 150,1)",
          "line": {
           "color": "White",
           "width": 1
          },
          "type": "rect",
          "x0": 20,
          "x1": 21,
          "y0": 1.0,
          "y1": 1.5304267374662344,
          "xref": "x",
          "yref": "y"
         },
         {
          "fillcolor": "rgba(0, 204, 150,1)",
          "line": {
           "color": "White",
           "width": 1
          },
          "type": "rect",
          "x0": 22,
          "x1": 23,
          "y0": 1.0,
          "y1": 1.4282345985284675,
          "xref": "x",
          "yref": "y"
         },
         {
          "fillcolor": "rgba(0, 204, 150,1)",
          "line": {
           "color": "White",
           "width": 1
          },
          "type": "rect",
          "x0": 23,
          "x1": 24,
          "y0": 0.0,
          "y1": 0.4970996683472595,
          "xref": "x",
          "yref": "y"
         },
         {
          "fillcolor": "rgba(0, 204, 150,1)",
          "line": {
           "color": "White",
           "width": 1
          },
          "type": "rect",
          "x0": 23,
          "x1": 24,
          "y0": 1.0,
          "y1": 1.4282345985284675,
          "xref": "x",
          "yref": "y"
         },
         {
          "fillcolor": "rgba(0, 204, 150,1)",
          "line": {
           "color": "White",
           "width": 1
          },
          "type": "rect",
          "x0": 23,
          "x1": 24,
          "y0": 2.0,
          "y1": 2.530426737466234,
          "xref": "x",
          "yref": "y"
         }
        ],
        "margin": {
         "l": 0,
         "r": 0,
         "t": 0,
         "b": 0
        },
        "width": 800,
        "height": 400,
        "plot_bgcolor": "rgba(0, 0, 0, 0)",
        "paper_bgcolor": "rgba(0, 0, 0, 0)"
       },
       "config": {
        "plotlyServerURL": "https://plot.ly"
       }
      },
      "text/html": [
       "<div>                            <div id=\"33e92111-f4e8-4296-8a71-eb7fcbe9139f\" class=\"plotly-graph-div\" style=\"height:400px; width:800px;\"></div>            <script type=\"text/javascript\">                require([\"plotly\"], function(Plotly) {                    window.PLOTLYENV=window.PLOTLYENV || {};                                    if (document.getElementById(\"33e92111-f4e8-4296-8a71-eb7fcbe9139f\")) {                    Plotly.newPlot(                        \"33e92111-f4e8-4296-8a71-eb7fcbe9139f\",                        [{\"fill\":\"toself\",\"mode\":\"lines\",\"name\":\"\",\"opacity\":0,\"text\":\"timestep: 1, budget: 1.1195959505999442, action: 0.8073397667962161\",\"x\":[8,9,9,8,8],\"y\":[0.0,0.0,1.0,1.0,0.0],\"type\":\"scatter\"},{\"fill\":\"toself\",\"mode\":\"lines\",\"name\":\"\",\"opacity\":0,\"text\":\"timestep: 22, budget: 1.742979002222134, action: 0.7377997436459796\",\"x\":[8,9,9,8,8],\"y\":[1.0,1.0,2.0,2.0,1.0],\"type\":\"scatter\"},{\"fill\":\"toself\",\"mode\":\"lines\",\"name\":\"\",\"opacity\":0,\"text\":\"timestep: 28, budget: 2.476104437462143, action: 1.062830673427537\",\"x\":[13,15,15,13,13],\"y\":[0.0,0.0,1.0,1.0,0.0],\"type\":\"scatter\"},{\"fill\":\"toself\",\"mode\":\"lines\",\"name\":\"\",\"opacity\":0,\"text\":\"timestep: 32, budget: 2.825944634742748, action: 0.937169326572463\",\"x\":[7,9,9,7,7],\"y\":[2.0,2.0,3.0,3.0,2.0],\"type\":\"scatter\"},{\"fill\":\"toself\",\"mode\":\"lines\",\"name\":\"\",\"opacity\":0,\"text\":\"timestep: 49, budget: 0.970211005867882, action: 0.937169326572463\",\"x\":[7,8,8,7,7],\"y\":[0.0,0.0,1.0,1.0,0.0],\"type\":\"scatter\"},{\"fill\":\"toself\",\"mode\":\"lines\",\"name\":\"\",\"opacity\":0,\"text\":\"timestep: 56, budget: 1.3496936884569708, action: 1.0\",\"x\":[11,12,12,11,11],\"y\":[0.0,0.0,1.0,1.0,0.0],\"type\":\"scatter\"},{\"fill\":\"toself\",\"mode\":\"lines\",\"name\":\"\",\"opacity\":0,\"text\":\"timestep: 101, budget: 0.630497750222799, action: 0.5791893832135429\",\"x\":[7,8,8,7,7],\"y\":[1.0,1.0,2.0,2.0,1.0],\"type\":\"scatter\"},{\"fill\":\"toself\",\"mode\":\"lines\",\"name\":\"\",\"opacity\":0,\"text\":\"timestep: 102, budget: 2.4073516070067678, action: 1.1266735515678998\",\"x\":[14,16,16,14,14],\"y\":[1.0,1.0,2.0,2.0,1.0],\"type\":\"scatter\"},{\"fill\":\"toself\",\"mode\":\"lines\",\"name\":\"\",\"opacity\":0,\"text\":\"timestep: 105, budget: 1.5648395922470189, action: 1.518216694746895\",\"x\":[15,16,16,15,15],\"y\":[0.0,0.0,1.0,1.0,0.0],\"type\":\"scatter\"},{\"fill\":\"toself\",\"mode\":\"lines\",\"name\":\"\",\"opacity\":0,\"text\":\"timestep: 123, budget: 4.838348285211584, action: 0.8733264484321002\",\"x\":[9,13,13,9,9],\"y\":[1.0,1.0,2.0,2.0,1.0],\"type\":\"scatter\"},{\"fill\":\"toself\",\"mode\":\"lines\",\"name\":\"\",\"opacity\":0,\"text\":\"timestep: 169, budget: 4.430406329196159, action: 0.8733264484321002\",\"x\":[9,13,13,9,9],\"y\":[2.0,2.0,3.0,3.0,2.0],\"type\":\"scatter\"},{\"fill\":\"toself\",\"mode\":\"lines\",\"name\":\"\",\"opacity\":0,\"text\":\"timestep: 195, budget: 1.7724783359234406, action: 1.1266735515678998\",\"x\":[10,11,11,10,10],\"y\":[0.0,0.0,1.0,1.0,0.0],\"type\":\"scatter\"},{\"fill\":\"toself\",\"mode\":\"lines\",\"name\":\"\",\"opacity\":0,\"text\":\"timestep: 216, budget: 1.4600598912616003, action: 1.1266735515678998\",\"x\":[12,13,13,12,12],\"y\":[0.0,0.0,1.0,1.0,0.0],\"type\":\"scatter\"},{\"fill\":\"toself\",\"mode\":\"lines\",\"name\":\"\",\"opacity\":0,\"text\":\"timestep: 220, budget: 1.478226516330889, action: 1.1266735515678998\",\"x\":[13,14,14,13,13],\"y\":[1.0,1.0,2.0,2.0,1.0],\"type\":\"scatter\"},{\"fill\":\"toself\",\"mode\":\"lines\",\"name\":\"\",\"opacity\":0,\"text\":\"timestep: 269, budget: 1.885274495733084, action: 1.518216694746895\",\"x\":[16,17,17,16,16],\"y\":[0.0,0.0,1.0,1.0,0.0],\"type\":\"scatter\"},{\"fill\":\"toself\",\"mode\":\"lines\",\"name\":\"\",\"opacity\":0,\"text\":\"timestep: 289, budget: 3.004007820978236, action: 0.8733264484321002\",\"x\":[13,16,16,13,13],\"y\":[2.0,2.0,3.0,3.0,2.0],\"type\":\"scatter\"},{\"fill\":\"toself\",\"mode\":\"lines\",\"name\":\"\",\"opacity\":0,\"text\":\"timestep: 318, budget: 1.413955154548848, action: 1.2622002563540202\",\"x\":[16,17,17,16,16],\"y\":[1.0,1.0,2.0,2.0,1.0],\"type\":\"scatter\"},{\"fill\":\"toself\",\"mode\":\"lines\",\"name\":\"\",\"opacity\":0,\"text\":\"timestep: 326, budget: 6.216570416937723, action: 0.8733264484321002\",\"x\":[16,22,22,16,16],\"y\":[2.0,2.0,3.0,3.0,2.0],\"type\":\"scatter\"},{\"fill\":\"toself\",\"mode\":\"lines\",\"name\":\"\",\"opacity\":0,\"text\":\"timestep: 328, budget: 5.935700998699732, action: 0.8733264484321002\",\"x\":[17,23,23,17,17],\"y\":[0.0,0.0,1.0,1.0,0.0],\"type\":\"scatter\"},{\"fill\":\"toself\",\"mode\":\"lines\",\"name\":\"\",\"opacity\":0,\"text\":\"timestep: 406, budget: 3.396411988572347, action: 0.937169326572463\",\"x\":[17,20,20,17,17],\"y\":[1.0,1.0,2.0,2.0,1.0],\"type\":\"scatter\"},{\"fill\":\"toself\",\"mode\":\"lines\",\"name\":\"\",\"opacity\":0,\"text\":\"timestep: 466, budget: 1.5148666038064684, action: 1.0\",\"x\":[20,21,21,20,20],\"y\":[1.0,1.0,2.0,2.0,1.0],\"type\":\"scatter\"},{\"fill\":\"toself\",\"mode\":\"lines\",\"name\":\"\",\"opacity\":0,\"text\":\"timestep: 550, budget: 1.3443277588507163, action: 0.8073397667962161\",\"x\":[22,23,23,22,22],\"y\":[1.0,1.0,2.0,2.0,1.0],\"type\":\"scatter\"},{\"fill\":\"toself\",\"mode\":\"lines\",\"name\":\"\",\"opacity\":0,\"text\":\"timestep: 560, budget: 1.1784389116773375, action: 0.937169326572463\",\"x\":[23,24,24,23,23],\"y\":[0.0,0.0,1.0,1.0,0.0],\"type\":\"scatter\"},{\"fill\":\"toself\",\"mode\":\"lines\",\"name\":\"\",\"opacity\":0,\"text\":\"timestep: 570, budget: 1.3496696011969804, action: 0.8073397667962161\",\"x\":[23,24,24,23,23],\"y\":[1.0,1.0,2.0,2.0,1.0],\"type\":\"scatter\"},{\"fill\":\"toself\",\"mode\":\"lines\",\"name\":\"\",\"opacity\":0,\"text\":\"timestep: 574, budget: 1.160007534543492, action: 1.0\",\"x\":[23,24,24,23,23],\"y\":[2.0,2.0,3.0,3.0,2.0],\"type\":\"scatter\"},{\"fill\":\"toself\",\"mode\":\"lines\",\"name\":\"\",\"opacity\":0,\"text\":\"timestep: 27, budget: 0.480913132459729, action: 1.7976931348623157e+308\",\"x\":[12,13,13,12,12],\"y\":[3.0,3.0,4.0,4.0,3.0],\"type\":\"scatter\"},{\"fill\":\"toself\",\"mode\":\"lines\",\"name\":\"\",\"opacity\":0,\"text\":\"timestep: 50, budget: 0.3475581900790602, action: 1.1266735515678998\",\"x\":[11,12,12,11,11],\"y\":[3.0,3.0,4.0,4.0,3.0],\"type\":\"scatter\"},{\"fill\":\"toself\",\"mode\":\"lines\",\"name\":\"\",\"opacity\":0,\"text\":\"timestep: 51, budget: 0.897709638144219, action: 1.192660233203784\",\"x\":[12,13,13,12,12],\"y\":[4.0,4.0,5.0,5.0,4.0],\"type\":\"scatter\"},{\"fill\":\"toself\",\"mode\":\"lines\",\"name\":\"\",\"opacity\":0,\"text\":\"timestep: 73, budget: 0.7554757097909742, action: 1.7976931348623157e+308\",\"x\":[11,12,12,11,11],\"y\":[4.0,4.0,5.0,5.0,4.0],\"type\":\"scatter\"},{\"fill\":\"toself\",\"mode\":\"lines\",\"name\":\"\",\"opacity\":0,\"text\":\"timestep: 85, budget: 0.4267771492632941, action: 1.192660233203784\",\"x\":[14,15,15,14,14],\"y\":[3.0,3.0,4.0,4.0,3.0],\"type\":\"scatter\"},{\"fill\":\"toself\",\"mode\":\"lines\",\"name\":\"\",\"opacity\":0,\"text\":\"timestep: 95, budget: 1.2655249566272948, action: 0.8733264484321002\",\"x\":[18,20,20,18,18],\"y\":[3.0,3.0,4.0,4.0,3.0],\"type\":\"scatter\"},{\"fill\":\"toself\",\"mode\":\"lines\",\"name\":\"\",\"opacity\":0,\"text\":\"timestep: 106, budget: 2.3240804205450507, action: 0.937169326572463\",\"x\":[12,15,15,12,12],\"y\":[5.0,5.0,6.0,6.0,5.0],\"type\":\"scatter\"},{\"fill\":\"toself\",\"mode\":\"lines\",\"name\":\"\",\"opacity\":0,\"text\":\"timestep: 125, budget: 0.734001003177055, action: 1.192660233203784\",\"x\":[13,14,14,13,13],\"y\":[3.0,3.0,4.0,4.0,3.0],\"type\":\"scatter\"},{\"fill\":\"toself\",\"mode\":\"lines\",\"name\":\"\",\"opacity\":0,\"text\":\"timestep: 156, budget: 0.2731070622991453, action: 1.192660233203784\",\"x\":[11,12,12,11,11],\"y\":[5.0,5.0,6.0,6.0,5.0],\"type\":\"scatter\"},{\"fill\":\"toself\",\"mode\":\"lines\",\"name\":\"\",\"opacity\":0,\"text\":\"timestep: 160, budget: 2.0943510362518585, action: 1.1266735515678998\",\"x\":[13,15,15,13,13],\"y\":[4.0,4.0,5.0,5.0,4.0],\"type\":\"scatter\"},{\"fill\":\"toself\",\"mode\":\"lines\",\"name\":\"\",\"opacity\":0,\"text\":\"timestep: 161, budget: 1.895887066434752, action: 0.3592242172276998\",\"x\":[6,8,8,6,6],\"y\":[3.0,3.0,4.0,4.0,3.0],\"type\":\"scatter\"},{\"fill\":\"toself\",\"mode\":\"lines\",\"name\":\"\",\"opacity\":0,\"text\":\"timestep: 181, budget: 5.012492124970704, action: 0.3592242172276998\",\"x\":[7,11,11,7,7],\"y\":[4.0,4.0,5.0,5.0,4.0],\"type\":\"scatter\"},{\"fill\":\"toself\",\"mode\":\"lines\",\"name\":\"\",\"opacity\":0,\"text\":\"timestep: 187, budget: 2.2098726440170866, action: 0.8733264484321002\",\"x\":[13,16,16,13,13],\"y\":[6.0,6.0,7.0,7.0,6.0],\"type\":\"scatter\"},{\"fill\":\"toself\",\"mode\":\"lines\",\"name\":\"\",\"opacity\":0,\"text\":\"timestep: 189, budget: 1.4637720076693976, action: 0.3592242172276998\",\"x\":[11,12,12,11,11],\"y\":[6.0,6.0,7.0,7.0,6.0],\"type\":\"scatter\"},{\"fill\":\"toself\",\"mode\":\"lines\",\"name\":\"\",\"opacity\":0,\"text\":\"timestep: 202, budget: 0.9086985376594536, action: 1.1266735515678998\",\"x\":[12,13,13,12,12],\"y\":[6.0,6.0,7.0,7.0,6.0],\"type\":\"scatter\"},{\"fill\":\"toself\",\"mode\":\"lines\",\"name\":\"\",\"opacity\":0,\"text\":\"timestep: 203, budget: 2.8313422828602457, action: 1.0\",\"x\":[14,17,17,14,14],\"y\":[7.0,7.0,8.0,8.0,7.0],\"type\":\"scatter\"},{\"fill\":\"toself\",\"mode\":\"lines\",\"name\":\"\",\"opacity\":0,\"text\":\"timestep: 205, budget: 2.2642797340302065, action: 0.3592242172276998\",\"x\":[11,13,13,11,11],\"y\":[7.0,7.0,8.0,8.0,7.0],\"type\":\"scatter\"},{\"fill\":\"toself\",\"mode\":\"lines\",\"name\":\"\",\"opacity\":0,\"text\":\"timestep: 207, budget: 0.5146602516661556, action: 0.3592242172276998\",\"x\":[8,9,9,8,8],\"y\":[3.0,3.0,4.0,4.0,3.0],\"type\":\"scatter\"},{\"fill\":\"toself\",\"mode\":\"lines\",\"name\":\"\",\"opacity\":0,\"text\":\"timestep: 211, budget: 0.799111010483703, action: 0.3592242172276998\",\"x\":[10,11,11,10,10],\"y\":[3.0,3.0,4.0,4.0,3.0],\"type\":\"scatter\"},{\"fill\":\"toself\",\"mode\":\"lines\",\"name\":\"\",\"opacity\":0,\"text\":\"timestep: 214, budget: 1.8841197950955983, action: 0.3592242172276998\",\"x\":[8,9,9,8,8],\"y\":[5.0,5.0,6.0,6.0,5.0],\"type\":\"scatter\"},{\"fill\":\"toself\",\"mode\":\"lines\",\"name\":\"\",\"opacity\":0,\"text\":\"timestep: 233, budget: 3.265261713972795, action: 0.3592242172276998\",\"x\":[12,15,15,12,12],\"y\":[8.0,8.0,9.0,9.0,8.0],\"type\":\"scatter\"},{\"fill\":\"toself\",\"mode\":\"lines\",\"name\":\"\",\"opacity\":0,\"text\":\"timestep: 243, budget: 1.3231476262521975, action: 1.3372448750980408\",\"x\":[14,15,15,14,14],\"y\":[9.0,9.0,10.0,10.0,9.0],\"type\":\"scatter\"},{\"fill\":\"toself\",\"mode\":\"lines\",\"name\":\"\",\"opacity\":0,\"text\":\"timestep: 257, budget: 8.353029450974713, action: 0.3592242172276998\",\"x\":[12,20,20,12,12],\"y\":[10.0,10.0,11.0,11.0,10.0],\"type\":\"scatter\"},{\"fill\":\"toself\",\"mode\":\"lines\",\"name\":\"\",\"opacity\":0,\"text\":\"timestep: 268, budget: 1.6707930170539476, action: 1.192660233203784\",\"x\":[14,16,16,14,14],\"y\":[11.0,11.0,12.0,12.0,11.0],\"type\":\"scatter\"},{\"fill\":\"toself\",\"mode\":\"lines\",\"name\":\"\",\"opacity\":0,\"text\":\"timestep: 273, budget: 0.5085628366458383, action: 1.1266735515678998\",\"x\":[13,14,14,13,13],\"y\":[7.0,7.0,8.0,8.0,7.0],\"type\":\"scatter\"},{\"fill\":\"toself\",\"mode\":\"lines\",\"name\":\"\",\"opacity\":0,\"text\":\"timestep: 298, budget: 1.4387964320789035, action: 0.3592242172276998\",\"x\":[12,14,14,12,12],\"y\":[9.0,9.0,10.0,10.0,9.0],\"type\":\"scatter\"},{\"fill\":\"toself\",\"mode\":\"lines\",\"name\":\"\",\"opacity\":0,\"text\":\"timestep: 321, budget: 1.2228277468413755, action: 0.3592242172276998\",\"x\":[15,17,17,15,15],\"y\":[3.0,3.0,4.0,4.0,3.0],\"type\":\"scatter\"},{\"fill\":\"toself\",\"mode\":\"lines\",\"name\":\"\",\"opacity\":0,\"text\":\"timestep: 323, budget: 7.479547346147174, action: 0.3592242172276998\",\"x\":[14,21,21,14,14],\"y\":[12.0,12.0,13.0,13.0,12.0],\"type\":\"scatter\"},{\"fill\":\"toself\",\"mode\":\"lines\",\"name\":\"\",\"opacity\":0,\"text\":\"timestep: 327, budget: 6.824212456407542, action: 0.3592242172276998\",\"x\":[13,20,20,13,13],\"y\":[13.0,13.0,14.0,14.0,13.0],\"type\":\"scatter\"},{\"fill\":\"toself\",\"mode\":\"lines\",\"name\":\"\",\"opacity\":0,\"text\":\"timestep: 334, budget: 0.9230474224874738, action: 0.3592242172276998\",\"x\":[14,15,15,14,14],\"y\":[14.0,14.0,15.0,15.0,14.0],\"type\":\"scatter\"},{\"fill\":\"toself\",\"mode\":\"lines\",\"name\":\"\",\"opacity\":0,\"text\":\"timestep: 338, budget: 1.6696980625019326, action: 0.3592242172276998\",\"x\":[15,16,16,15,15],\"y\":[4.0,4.0,5.0,5.0,4.0],\"type\":\"scatter\"},{\"fill\":\"toself\",\"mode\":\"lines\",\"name\":\"\",\"opacity\":0,\"text\":\"timestep: 351, budget: 0.307318362704794, action: 0.3592242172276998\",\"x\":[16,17,17,16,16],\"y\":[4.0,4.0,5.0,5.0,4.0],\"type\":\"scatter\"},{\"fill\":\"toself\",\"mode\":\"lines\",\"name\":\"\",\"opacity\":0,\"text\":\"timestep: 356, budget: 3.592671711448642, action: 0.3592242172276998\",\"x\":[14,17,17,14,14],\"y\":[15.0,15.0,16.0,16.0,15.0],\"type\":\"scatter\"},{\"fill\":\"toself\",\"mode\":\"lines\",\"name\":\"\",\"opacity\":0,\"text\":\"timestep: 359, budget: 3.4252351336627207, action: 0.3592242172276998\",\"x\":[15,19,19,15,15],\"y\":[5.0,5.0,6.0,6.0,5.0],\"type\":\"scatter\"},{\"fill\":\"toself\",\"mode\":\"lines\",\"name\":\"\",\"opacity\":0,\"text\":\"timestep: 360, budget: 1.921382595141696, action: 0.3592242172276998\",\"x\":[15,16,16,15,15],\"y\":[8.0,8.0,9.0,9.0,8.0],\"type\":\"scatter\"},{\"fill\":\"toself\",\"mode\":\"lines\",\"name\":\"\",\"opacity\":0,\"text\":\"timestep: 364, budget: 1.1959914120678603, action: 1.2622002563540202\",\"x\":[17,18,18,17,17],\"y\":[3.0,3.0,4.0,4.0,3.0],\"type\":\"scatter\"},{\"fill\":\"toself\",\"mode\":\"lines\",\"name\":\"\",\"opacity\":0,\"text\":\"timestep: 369, budget: 4.713057794082983, action: 0.3592242172276998\",\"x\":[15,20,20,15,15],\"y\":[9.0,9.0,10.0,10.0,9.0],\"type\":\"scatter\"},{\"fill\":\"toself\",\"mode\":\"lines\",\"name\":\"\",\"opacity\":0,\"text\":\"timestep: 384, budget: 2.205188468815932, action: 0.3592242172276998\",\"x\":[16,18,18,16,16],\"y\":[6.0,6.0,7.0,7.0,6.0],\"type\":\"scatter\"},{\"fill\":\"toself\",\"mode\":\"lines\",\"name\":\"\",\"opacity\":0,\"text\":\"timestep: 387, budget: 0.2900199170489597, action: 0.3592242172276998\",\"x\":[16,17,17,16,16],\"y\":[8.0,8.0,9.0,9.0,8.0],\"type\":\"scatter\"},{\"fill\":\"toself\",\"mode\":\"lines\",\"name\":\"\",\"opacity\":0,\"text\":\"timestep: 388, budget: 0.4512148060357154, action: 0.3592242172276998\",\"x\":[16,17,17,16,16],\"y\":[11.0,11.0,12.0,12.0,11.0],\"type\":\"scatter\"},{\"fill\":\"toself\",\"mode\":\"lines\",\"name\":\"\",\"opacity\":0,\"text\":\"timestep: 413, budget: 0.9658007008784044, action: 0.3592242172276998\",\"x\":[17,18,18,17,17],\"y\":[4.0,4.0,5.0,5.0,4.0],\"type\":\"scatter\"},{\"fill\":\"toself\",\"mode\":\"lines\",\"name\":\"\",\"opacity\":0,\"text\":\"timestep: 424, budget: 0.8476647991169902, action: 0.3592242172276998\",\"x\":[19,20,20,19,19],\"y\":[4.0,4.0,5.0,5.0,4.0],\"type\":\"scatter\"},{\"fill\":\"toself\",\"mode\":\"lines\",\"name\":\"\",\"opacity\":0,\"text\":\"timestep: 426, budget: 2.2654227648799883, action: 0.3592242172276998\",\"x\":[17,20,20,17,17],\"y\":[7.0,7.0,8.0,8.0,7.0],\"type\":\"scatter\"},{\"fill\":\"toself\",\"mode\":\"lines\",\"name\":\"\",\"opacity\":0,\"text\":\"timestep: 427, budget: 0.7868747132203686, action: 0.3592242172276998\",\"x\":[19,20,20,19,19],\"y\":[5.0,5.0,6.0,6.0,5.0],\"type\":\"scatter\"},{\"fill\":\"toself\",\"mode\":\"lines\",\"name\":\"\",\"opacity\":0,\"text\":\"timestep: 440, budget: 0.5326906159527663, action: 0.3592242172276998\",\"x\":[18,19,19,18,18],\"y\":[4.0,4.0,5.0,5.0,4.0],\"type\":\"scatter\"},{\"fill\":\"toself\",\"mode\":\"lines\",\"name\":\"\",\"opacity\":0,\"text\":\"timestep: 444, budget: 0.9121083801572905, action: 1.2622002563540202\",\"x\":[20,21,21,20,20],\"y\":[3.0,3.0,4.0,4.0,3.0],\"type\":\"scatter\"},{\"fill\":\"toself\",\"mode\":\"lines\",\"name\":\"\",\"opacity\":0,\"text\":\"timestep: 452, budget: 0.7135735083349068, action: 0.3592242172276998\",\"x\":[18,19,19,18,18],\"y\":[6.0,6.0,7.0,7.0,6.0],\"type\":\"scatter\"},{\"fill\":\"toself\",\"mode\":\"lines\",\"name\":\"\",\"opacity\":0,\"text\":\"timestep: 455, budget: 1.222412695646583, action: 0.3592242172276998\",\"x\":[19,20,20,19,19],\"y\":[6.0,6.0,7.0,7.0,6.0],\"type\":\"scatter\"},{\"fill\":\"toself\",\"mode\":\"lines\",\"name\":\"\",\"opacity\":0,\"text\":\"timestep: 461, budget: 2.734961081342928, action: 0.3592242172276998\",\"x\":[19,22,22,19,19],\"y\":[8.0,8.0,9.0,9.0,8.0],\"type\":\"scatter\"},{\"fill\":\"toself\",\"mode\":\"lines\",\"name\":\"\",\"opacity\":0,\"text\":\"timestep: 463, budget: 1.2010867040017497, action: 0.3592242172276998\",\"x\":[19,20,20,19,19],\"y\":[11.0,11.0,12.0,12.0,11.0],\"type\":\"scatter\"},{\"fill\":\"toself\",\"mode\":\"lines\",\"name\":\"\",\"opacity\":0,\"text\":\"timestep: 477, budget: 4.249768196630529, action: 0.3592242172276998\",\"x\":[19,23,23,19,19],\"y\":[14.0,14.0,15.0,15.0,14.0],\"type\":\"scatter\"},{\"fill\":\"toself\",\"mode\":\"lines\",\"name\":\"\",\"opacity\":0,\"text\":\"timestep: 503, budget: 0.6334208896691593, action: 1.1266735515678998\",\"x\":[21,22,22,21,21],\"y\":[3.0,3.0,4.0,4.0,3.0],\"type\":\"scatter\"},{\"fill\":\"toself\",\"mode\":\"lines\",\"name\":\"\",\"opacity\":0,\"text\":\"timestep: 561, budget: 0.7133696675565517, action: 0.8073397667962161\",\"x\":[23,24,24,23,23],\"y\":[3.0,3.0,4.0,4.0,3.0],\"type\":\"scatter\"},{\"fill\":\"toself\",\"mode\":\"lines\",\"name\":\"\",\"opacity\":0,\"text\":\"timestep: 565, budget: 0.8442636059968742, action: 0.937169326572463\",\"x\":[23,24,24,23,23],\"y\":[4.0,4.0,5.0,5.0,4.0],\"type\":\"scatter\"}],                        {\"template\":{\"data\":{\"histogram2dcontour\":[{\"type\":\"histogram2dcontour\",\"colorbar\":{\"outlinewidth\":0,\"ticks\":\"\"},\"colorscale\":[[0.0,\"#0d0887\"],[0.1111111111111111,\"#46039f\"],[0.2222222222222222,\"#7201a8\"],[0.3333333333333333,\"#9c179e\"],[0.4444444444444444,\"#bd3786\"],[0.5555555555555556,\"#d8576b\"],[0.6666666666666666,\"#ed7953\"],[0.7777777777777778,\"#fb9f3a\"],[0.8888888888888888,\"#fdca26\"],[1.0,\"#f0f921\"]]}],\"choropleth\":[{\"type\":\"choropleth\",\"colorbar\":{\"outlinewidth\":0,\"ticks\":\"\"}}],\"histogram2d\":[{\"type\":\"histogram2d\",\"colorbar\":{\"outlinewidth\":0,\"ticks\":\"\"},\"colorscale\":[[0.0,\"#0d0887\"],[0.1111111111111111,\"#46039f\"],[0.2222222222222222,\"#7201a8\"],[0.3333333333333333,\"#9c179e\"],[0.4444444444444444,\"#bd3786\"],[0.5555555555555556,\"#d8576b\"],[0.6666666666666666,\"#ed7953\"],[0.7777777777777778,\"#fb9f3a\"],[0.8888888888888888,\"#fdca26\"],[1.0,\"#f0f921\"]]}],\"heatmap\":[{\"type\":\"heatmap\",\"colorbar\":{\"outlinewidth\":0,\"ticks\":\"\"},\"colorscale\":[[0.0,\"#0d0887\"],[0.1111111111111111,\"#46039f\"],[0.2222222222222222,\"#7201a8\"],[0.3333333333333333,\"#9c179e\"],[0.4444444444444444,\"#bd3786\"],[0.5555555555555556,\"#d8576b\"],[0.6666666666666666,\"#ed7953\"],[0.7777777777777778,\"#fb9f3a\"],[0.8888888888888888,\"#fdca26\"],[1.0,\"#f0f921\"]]}],\"heatmapgl\":[{\"type\":\"heatmapgl\",\"colorbar\":{\"outlinewidth\":0,\"ticks\":\"\"},\"colorscale\":[[0.0,\"#0d0887\"],[0.1111111111111111,\"#46039f\"],[0.2222222222222222,\"#7201a8\"],[0.3333333333333333,\"#9c179e\"],[0.4444444444444444,\"#bd3786\"],[0.5555555555555556,\"#d8576b\"],[0.6666666666666666,\"#ed7953\"],[0.7777777777777778,\"#fb9f3a\"],[0.8888888888888888,\"#fdca26\"],[1.0,\"#f0f921\"]]}],\"contourcarpet\":[{\"type\":\"contourcarpet\",\"colorbar\":{\"outlinewidth\":0,\"ticks\":\"\"}}],\"contour\":[{\"type\":\"contour\",\"colorbar\":{\"outlinewidth\":0,\"ticks\":\"\"},\"colorscale\":[[0.0,\"#0d0887\"],[0.1111111111111111,\"#46039f\"],[0.2222222222222222,\"#7201a8\"],[0.3333333333333333,\"#9c179e\"],[0.4444444444444444,\"#bd3786\"],[0.5555555555555556,\"#d8576b\"],[0.6666666666666666,\"#ed7953\"],[0.7777777777777778,\"#fb9f3a\"],[0.8888888888888888,\"#fdca26\"],[1.0,\"#f0f921\"]]}],\"surface\":[{\"type\":\"surface\",\"colorbar\":{\"outlinewidth\":0,\"ticks\":\"\"},\"colorscale\":[[0.0,\"#0d0887\"],[0.1111111111111111,\"#46039f\"],[0.2222222222222222,\"#7201a8\"],[0.3333333333333333,\"#9c179e\"],[0.4444444444444444,\"#bd3786\"],[0.5555555555555556,\"#d8576b\"],[0.6666666666666666,\"#ed7953\"],[0.7777777777777778,\"#fb9f3a\"],[0.8888888888888888,\"#fdca26\"],[1.0,\"#f0f921\"]]}],\"mesh3d\":[{\"type\":\"mesh3d\",\"colorbar\":{\"outlinewidth\":0,\"ticks\":\"\"}}],\"scatter\":[{\"fillpattern\":{\"fillmode\":\"overlay\",\"size\":10,\"solidity\":0.2},\"type\":\"scatter\"}],\"parcoords\":[{\"type\":\"parcoords\",\"line\":{\"colorbar\":{\"outlinewidth\":0,\"ticks\":\"\"}}}],\"scatterpolargl\":[{\"type\":\"scatterpolargl\",\"marker\":{\"colorbar\":{\"outlinewidth\":0,\"ticks\":\"\"}}}],\"bar\":[{\"error_x\":{\"color\":\"#2a3f5f\"},\"error_y\":{\"color\":\"#2a3f5f\"},\"marker\":{\"line\":{\"color\":\"#E5ECF6\",\"width\":0.5},\"pattern\":{\"fillmode\":\"overlay\",\"size\":10,\"solidity\":0.2}},\"type\":\"bar\"}],\"scattergeo\":[{\"type\":\"scattergeo\",\"marker\":{\"colorbar\":{\"outlinewidth\":0,\"ticks\":\"\"}}}],\"scatterpolar\":[{\"type\":\"scatterpolar\",\"marker\":{\"colorbar\":{\"outlinewidth\":0,\"ticks\":\"\"}}}],\"histogram\":[{\"marker\":{\"pattern\":{\"fillmode\":\"overlay\",\"size\":10,\"solidity\":0.2}},\"type\":\"histogram\"}],\"scattergl\":[{\"type\":\"scattergl\",\"marker\":{\"colorbar\":{\"outlinewidth\":0,\"ticks\":\"\"}}}],\"scatter3d\":[{\"type\":\"scatter3d\",\"line\":{\"colorbar\":{\"outlinewidth\":0,\"ticks\":\"\"}},\"marker\":{\"colorbar\":{\"outlinewidth\":0,\"ticks\":\"\"}}}],\"scattermapbox\":[{\"type\":\"scattermapbox\",\"marker\":{\"colorbar\":{\"outlinewidth\":0,\"ticks\":\"\"}}}],\"scatterternary\":[{\"type\":\"scatterternary\",\"marker\":{\"colorbar\":{\"outlinewidth\":0,\"ticks\":\"\"}}}],\"scattercarpet\":[{\"type\":\"scattercarpet\",\"marker\":{\"colorbar\":{\"outlinewidth\":0,\"ticks\":\"\"}}}],\"carpet\":[{\"aaxis\":{\"endlinecolor\":\"#2a3f5f\",\"gridcolor\":\"white\",\"linecolor\":\"white\",\"minorgridcolor\":\"white\",\"startlinecolor\":\"#2a3f5f\"},\"baxis\":{\"endlinecolor\":\"#2a3f5f\",\"gridcolor\":\"white\",\"linecolor\":\"white\",\"minorgridcolor\":\"white\",\"startlinecolor\":\"#2a3f5f\"},\"type\":\"carpet\"}],\"table\":[{\"cells\":{\"fill\":{\"color\":\"#EBF0F8\"},\"line\":{\"color\":\"white\"}},\"header\":{\"fill\":{\"color\":\"#C8D4E3\"},\"line\":{\"color\":\"white\"}},\"type\":\"table\"}],\"barpolar\":[{\"marker\":{\"line\":{\"color\":\"#E5ECF6\",\"width\":0.5},\"pattern\":{\"fillmode\":\"overlay\",\"size\":10,\"solidity\":0.2}},\"type\":\"barpolar\"}],\"pie\":[{\"automargin\":true,\"type\":\"pie\"}]},\"layout\":{\"autotypenumbers\":\"strict\",\"colorway\":[\"#636efa\",\"#EF553B\",\"#00cc96\",\"#ab63fa\",\"#FFA15A\",\"#19d3f3\",\"#FF6692\",\"#B6E880\",\"#FF97FF\",\"#FECB52\"],\"font\":{\"color\":\"#2a3f5f\"},\"hovermode\":\"closest\",\"hoverlabel\":{\"align\":\"left\"},\"paper_bgcolor\":\"white\",\"plot_bgcolor\":\"#E5ECF6\",\"polar\":{\"bgcolor\":\"#E5ECF6\",\"angularaxis\":{\"gridcolor\":\"white\",\"linecolor\":\"white\",\"ticks\":\"\"},\"radialaxis\":{\"gridcolor\":\"white\",\"linecolor\":\"white\",\"ticks\":\"\"}},\"ternary\":{\"bgcolor\":\"#E5ECF6\",\"aaxis\":{\"gridcolor\":\"white\",\"linecolor\":\"white\",\"ticks\":\"\"},\"baxis\":{\"gridcolor\":\"white\",\"linecolor\":\"white\",\"ticks\":\"\"},\"caxis\":{\"gridcolor\":\"white\",\"linecolor\":\"white\",\"ticks\":\"\"}},\"coloraxis\":{\"colorbar\":{\"outlinewidth\":0,\"ticks\":\"\"}},\"colorscale\":{\"sequential\":[[0.0,\"#0d0887\"],[0.1111111111111111,\"#46039f\"],[0.2222222222222222,\"#7201a8\"],[0.3333333333333333,\"#9c179e\"],[0.4444444444444444,\"#bd3786\"],[0.5555555555555556,\"#d8576b\"],[0.6666666666666666,\"#ed7953\"],[0.7777777777777778,\"#fb9f3a\"],[0.8888888888888888,\"#fdca26\"],[1.0,\"#f0f921\"]],\"sequentialminus\":[[0.0,\"#0d0887\"],[0.1111111111111111,\"#46039f\"],[0.2222222222222222,\"#7201a8\"],[0.3333333333333333,\"#9c179e\"],[0.4444444444444444,\"#bd3786\"],[0.5555555555555556,\"#d8576b\"],[0.6666666666666666,\"#ed7953\"],[0.7777777777777778,\"#fb9f3a\"],[0.8888888888888888,\"#fdca26\"],[1.0,\"#f0f921\"]],\"diverging\":[[0,\"#8e0152\"],[0.1,\"#c51b7d\"],[0.2,\"#de77ae\"],[0.3,\"#f1b6da\"],[0.4,\"#fde0ef\"],[0.5,\"#f7f7f7\"],[0.6,\"#e6f5d0\"],[0.7,\"#b8e186\"],[0.8,\"#7fbc41\"],[0.9,\"#4d9221\"],[1,\"#276419\"]]},\"xaxis\":{\"gridcolor\":\"white\",\"linecolor\":\"white\",\"ticks\":\"\",\"title\":{\"standoff\":15},\"zerolinecolor\":\"white\",\"automargin\":true,\"zerolinewidth\":2},\"yaxis\":{\"gridcolor\":\"white\",\"linecolor\":\"white\",\"ticks\":\"\",\"title\":{\"standoff\":15},\"zerolinecolor\":\"white\",\"automargin\":true,\"zerolinewidth\":2},\"scene\":{\"xaxis\":{\"backgroundcolor\":\"#E5ECF6\",\"gridcolor\":\"white\",\"linecolor\":\"white\",\"showbackground\":true,\"ticks\":\"\",\"zerolinecolor\":\"white\",\"gridwidth\":2},\"yaxis\":{\"backgroundcolor\":\"#E5ECF6\",\"gridcolor\":\"white\",\"linecolor\":\"white\",\"showbackground\":true,\"ticks\":\"\",\"zerolinecolor\":\"white\",\"gridwidth\":2},\"zaxis\":{\"backgroundcolor\":\"#E5ECF6\",\"gridcolor\":\"white\",\"linecolor\":\"white\",\"showbackground\":true,\"ticks\":\"\",\"zerolinecolor\":\"white\",\"gridwidth\":2}},\"shapedefaults\":{\"line\":{\"color\":\"#2a3f5f\"}},\"annotationdefaults\":{\"arrowcolor\":\"#2a3f5f\",\"arrowhead\":0,\"arrowwidth\":1},\"geo\":{\"bgcolor\":\"white\",\"landcolor\":\"#E5ECF6\",\"subunitcolor\":\"white\",\"showland\":true,\"showlakes\":true,\"lakecolor\":\"white\"},\"title\":{\"x\":0.05},\"mapbox\":{\"style\":\"light\"}}},\"xaxis\":{},\"yaxis\":{\"range\":[0,13],\"showticklabels\":false},\"shapes\":[{\"fillcolor\":\"rgba(0, 204, 150,0.5)\",\"line\":{\"color\":\"White\",\"width\":1},\"type\":\"rect\",\"x0\":8,\"x1\":9,\"xref\":\"x\",\"y0\":0.0,\"y1\":1.0,\"yref\":\"y\"},{\"fillcolor\":\"rgba(0, 204, 150,0.5)\",\"line\":{\"color\":\"White\",\"width\":1},\"type\":\"rect\",\"x0\":8,\"x1\":9,\"xref\":\"x\",\"y0\":1.0,\"y1\":2.0,\"yref\":\"y\"},{\"fillcolor\":\"rgba(0, 204, 150,0.5)\",\"line\":{\"color\":\"White\",\"width\":1},\"type\":\"rect\",\"x0\":13,\"x1\":15,\"xref\":\"x\",\"y0\":0.0,\"y1\":1.0,\"yref\":\"y\"},{\"fillcolor\":\"rgba(0, 204, 150,0.5)\",\"line\":{\"color\":\"White\",\"width\":1},\"type\":\"rect\",\"x0\":7,\"x1\":9,\"xref\":\"x\",\"y0\":2.0,\"y1\":3.0,\"yref\":\"y\"},{\"fillcolor\":\"rgba(0, 204, 150,0.5)\",\"line\":{\"color\":\"White\",\"width\":1},\"type\":\"rect\",\"x0\":7,\"x1\":8,\"xref\":\"x\",\"y0\":0.0,\"y1\":1.0,\"yref\":\"y\"},{\"fillcolor\":\"rgba(0, 204, 150,0.5)\",\"line\":{\"color\":\"White\",\"width\":1},\"type\":\"rect\",\"x0\":11,\"x1\":12,\"xref\":\"x\",\"y0\":0.0,\"y1\":1.0,\"yref\":\"y\"},{\"fillcolor\":\"rgba(0, 204, 150,0.5)\",\"line\":{\"color\":\"White\",\"width\":1},\"type\":\"rect\",\"x0\":7,\"x1\":8,\"xref\":\"x\",\"y0\":1.0,\"y1\":2.0,\"yref\":\"y\"},{\"fillcolor\":\"rgba(0, 204, 150,0.5)\",\"line\":{\"color\":\"White\",\"width\":1},\"type\":\"rect\",\"x0\":14,\"x1\":16,\"xref\":\"x\",\"y0\":1.0,\"y1\":2.0,\"yref\":\"y\"},{\"fillcolor\":\"rgba(0, 204, 150,0.5)\",\"line\":{\"color\":\"White\",\"width\":1},\"type\":\"rect\",\"x0\":15,\"x1\":16,\"xref\":\"x\",\"y0\":0.0,\"y1\":1.0,\"yref\":\"y\"},{\"fillcolor\":\"rgba(0, 204, 150,0.5)\",\"line\":{\"color\":\"White\",\"width\":1},\"type\":\"rect\",\"x0\":9,\"x1\":13,\"xref\":\"x\",\"y0\":1.0,\"y1\":2.0,\"yref\":\"y\"},{\"fillcolor\":\"rgba(0, 204, 150,0.5)\",\"line\":{\"color\":\"White\",\"width\":1},\"type\":\"rect\",\"x0\":9,\"x1\":13,\"xref\":\"x\",\"y0\":2.0,\"y1\":3.0,\"yref\":\"y\"},{\"fillcolor\":\"rgba(0, 204, 150,0.5)\",\"line\":{\"color\":\"White\",\"width\":1},\"type\":\"rect\",\"x0\":10,\"x1\":11,\"xref\":\"x\",\"y0\":0.0,\"y1\":1.0,\"yref\":\"y\"},{\"fillcolor\":\"rgba(0, 204, 150,0.5)\",\"line\":{\"color\":\"White\",\"width\":1},\"type\":\"rect\",\"x0\":12,\"x1\":13,\"xref\":\"x\",\"y0\":0.0,\"y1\":1.0,\"yref\":\"y\"},{\"fillcolor\":\"rgba(0, 204, 150,0.5)\",\"line\":{\"color\":\"White\",\"width\":1},\"type\":\"rect\",\"x0\":13,\"x1\":14,\"xref\":\"x\",\"y0\":1.0,\"y1\":2.0,\"yref\":\"y\"},{\"fillcolor\":\"rgba(0, 204, 150,0.5)\",\"line\":{\"color\":\"White\",\"width\":1},\"type\":\"rect\",\"x0\":16,\"x1\":17,\"xref\":\"x\",\"y0\":0.0,\"y1\":1.0,\"yref\":\"y\"},{\"fillcolor\":\"rgba(0, 204, 150,0.5)\",\"line\":{\"color\":\"White\",\"width\":1},\"type\":\"rect\",\"x0\":13,\"x1\":16,\"xref\":\"x\",\"y0\":2.0,\"y1\":3.0,\"yref\":\"y\"},{\"fillcolor\":\"rgba(0, 204, 150,0.5)\",\"line\":{\"color\":\"White\",\"width\":1},\"type\":\"rect\",\"x0\":16,\"x1\":17,\"xref\":\"x\",\"y0\":1.0,\"y1\":2.0,\"yref\":\"y\"},{\"fillcolor\":\"rgba(0, 204, 150,0.5)\",\"line\":{\"color\":\"White\",\"width\":1},\"type\":\"rect\",\"x0\":16,\"x1\":22,\"xref\":\"x\",\"y0\":2.0,\"y1\":3.0,\"yref\":\"y\"},{\"fillcolor\":\"rgba(0, 204, 150,0.5)\",\"line\":{\"color\":\"White\",\"width\":1},\"type\":\"rect\",\"x0\":17,\"x1\":23,\"xref\":\"x\",\"y0\":0.0,\"y1\":1.0,\"yref\":\"y\"},{\"fillcolor\":\"rgba(0, 204, 150,0.5)\",\"line\":{\"color\":\"White\",\"width\":1},\"type\":\"rect\",\"x0\":17,\"x1\":20,\"xref\":\"x\",\"y0\":1.0,\"y1\":2.0,\"yref\":\"y\"},{\"fillcolor\":\"rgba(0, 204, 150,0.5)\",\"line\":{\"color\":\"White\",\"width\":1},\"type\":\"rect\",\"x0\":20,\"x1\":21,\"xref\":\"x\",\"y0\":1.0,\"y1\":2.0,\"yref\":\"y\"},{\"fillcolor\":\"rgba(0, 204, 150,0.5)\",\"line\":{\"color\":\"White\",\"width\":1},\"type\":\"rect\",\"x0\":22,\"x1\":23,\"xref\":\"x\",\"y0\":1.0,\"y1\":2.0,\"yref\":\"y\"},{\"fillcolor\":\"rgba(0, 204, 150,0.5)\",\"line\":{\"color\":\"White\",\"width\":1},\"type\":\"rect\",\"x0\":23,\"x1\":24,\"xref\":\"x\",\"y0\":0.0,\"y1\":1.0,\"yref\":\"y\"},{\"fillcolor\":\"rgba(0, 204, 150,0.5)\",\"line\":{\"color\":\"White\",\"width\":1},\"type\":\"rect\",\"x0\":23,\"x1\":24,\"xref\":\"x\",\"y0\":1.0,\"y1\":2.0,\"yref\":\"y\"},{\"fillcolor\":\"rgba(0, 204, 150,0.5)\",\"line\":{\"color\":\"White\",\"width\":1},\"type\":\"rect\",\"x0\":23,\"x1\":24,\"xref\":\"x\",\"y0\":2.0,\"y1\":3.0,\"yref\":\"y\"},{\"fillcolor\":\"rgba(239, 85, 59,0.5)\",\"line\":{\"color\":\"White\",\"width\":1},\"type\":\"rect\",\"x0\":12,\"x1\":13,\"xref\":\"x\",\"y0\":3.0,\"y1\":4.0,\"yref\":\"y\"},{\"fillcolor\":\"rgba(239, 85, 59,0.5)\",\"line\":{\"color\":\"White\",\"width\":1},\"type\":\"rect\",\"x0\":11,\"x1\":12,\"xref\":\"x\",\"y0\":3.0,\"y1\":4.0,\"yref\":\"y\"},{\"fillcolor\":\"rgba(239, 85, 59,0.5)\",\"line\":{\"color\":\"White\",\"width\":1},\"type\":\"rect\",\"x0\":12,\"x1\":13,\"xref\":\"x\",\"y0\":4.0,\"y1\":5.0,\"yref\":\"y\"},{\"fillcolor\":\"rgba(239, 85, 59,0.5)\",\"line\":{\"color\":\"White\",\"width\":1},\"type\":\"rect\",\"x0\":11,\"x1\":12,\"xref\":\"x\",\"y0\":4.0,\"y1\":5.0,\"yref\":\"y\"},{\"fillcolor\":\"rgba(239, 85, 59,0.5)\",\"line\":{\"color\":\"White\",\"width\":1},\"type\":\"rect\",\"x0\":14,\"x1\":15,\"xref\":\"x\",\"y0\":3.0,\"y1\":4.0,\"yref\":\"y\"},{\"fillcolor\":\"rgba(239, 85, 59,0.5)\",\"line\":{\"color\":\"White\",\"width\":1},\"type\":\"rect\",\"x0\":18,\"x1\":20,\"xref\":\"x\",\"y0\":3.0,\"y1\":4.0,\"yref\":\"y\"},{\"fillcolor\":\"rgba(239, 85, 59,0.5)\",\"line\":{\"color\":\"White\",\"width\":1},\"type\":\"rect\",\"x0\":12,\"x1\":15,\"xref\":\"x\",\"y0\":5.0,\"y1\":6.0,\"yref\":\"y\"},{\"fillcolor\":\"rgba(239, 85, 59,0.5)\",\"line\":{\"color\":\"White\",\"width\":1},\"type\":\"rect\",\"x0\":13,\"x1\":14,\"xref\":\"x\",\"y0\":3.0,\"y1\":4.0,\"yref\":\"y\"},{\"fillcolor\":\"rgba(239, 85, 59,0.5)\",\"line\":{\"color\":\"White\",\"width\":1},\"type\":\"rect\",\"x0\":11,\"x1\":12,\"xref\":\"x\",\"y0\":5.0,\"y1\":6.0,\"yref\":\"y\"},{\"fillcolor\":\"rgba(239, 85, 59,0.5)\",\"line\":{\"color\":\"White\",\"width\":1},\"type\":\"rect\",\"x0\":13,\"x1\":15,\"xref\":\"x\",\"y0\":4.0,\"y1\":5.0,\"yref\":\"y\"},{\"fillcolor\":\"rgba(239, 85, 59,0.5)\",\"line\":{\"color\":\"White\",\"width\":1},\"type\":\"rect\",\"x0\":6,\"x1\":8,\"xref\":\"x\",\"y0\":3.0,\"y1\":4.0,\"yref\":\"y\"},{\"fillcolor\":\"rgba(239, 85, 59,0.5)\",\"line\":{\"color\":\"White\",\"width\":1},\"type\":\"rect\",\"x0\":7,\"x1\":11,\"xref\":\"x\",\"y0\":4.0,\"y1\":5.0,\"yref\":\"y\"},{\"fillcolor\":\"rgba(239, 85, 59,0.5)\",\"line\":{\"color\":\"White\",\"width\":1},\"type\":\"rect\",\"x0\":13,\"x1\":16,\"xref\":\"x\",\"y0\":6.0,\"y1\":7.0,\"yref\":\"y\"},{\"fillcolor\":\"rgba(239, 85, 59,0.5)\",\"line\":{\"color\":\"White\",\"width\":1},\"type\":\"rect\",\"x0\":11,\"x1\":12,\"xref\":\"x\",\"y0\":6.0,\"y1\":7.0,\"yref\":\"y\"},{\"fillcolor\":\"rgba(239, 85, 59,0.5)\",\"line\":{\"color\":\"White\",\"width\":1},\"type\":\"rect\",\"x0\":12,\"x1\":13,\"xref\":\"x\",\"y0\":6.0,\"y1\":7.0,\"yref\":\"y\"},{\"fillcolor\":\"rgba(239, 85, 59,0.5)\",\"line\":{\"color\":\"White\",\"width\":1},\"type\":\"rect\",\"x0\":14,\"x1\":17,\"xref\":\"x\",\"y0\":7.0,\"y1\":8.0,\"yref\":\"y\"},{\"fillcolor\":\"rgba(239, 85, 59,0.5)\",\"line\":{\"color\":\"White\",\"width\":1},\"type\":\"rect\",\"x0\":11,\"x1\":13,\"xref\":\"x\",\"y0\":7.0,\"y1\":8.0,\"yref\":\"y\"},{\"fillcolor\":\"rgba(239, 85, 59,0.5)\",\"line\":{\"color\":\"White\",\"width\":1},\"type\":\"rect\",\"x0\":8,\"x1\":9,\"xref\":\"x\",\"y0\":3.0,\"y1\":4.0,\"yref\":\"y\"},{\"fillcolor\":\"rgba(239, 85, 59,0.5)\",\"line\":{\"color\":\"White\",\"width\":1},\"type\":\"rect\",\"x0\":10,\"x1\":11,\"xref\":\"x\",\"y0\":3.0,\"y1\":4.0,\"yref\":\"y\"},{\"fillcolor\":\"rgba(239, 85, 59,0.5)\",\"line\":{\"color\":\"White\",\"width\":1},\"type\":\"rect\",\"x0\":8,\"x1\":9,\"xref\":\"x\",\"y0\":5.0,\"y1\":6.0,\"yref\":\"y\"},{\"fillcolor\":\"rgba(239, 85, 59,0.5)\",\"line\":{\"color\":\"White\",\"width\":1},\"type\":\"rect\",\"x0\":12,\"x1\":15,\"xref\":\"x\",\"y0\":8.0,\"y1\":9.0,\"yref\":\"y\"},{\"fillcolor\":\"rgba(239, 85, 59,0.5)\",\"line\":{\"color\":\"White\",\"width\":1},\"type\":\"rect\",\"x0\":14,\"x1\":15,\"xref\":\"x\",\"y0\":9.0,\"y1\":10.0,\"yref\":\"y\"},{\"fillcolor\":\"rgba(239, 85, 59,0.5)\",\"line\":{\"color\":\"White\",\"width\":1},\"type\":\"rect\",\"x0\":12,\"x1\":20,\"xref\":\"x\",\"y0\":10.0,\"y1\":11.0,\"yref\":\"y\"},{\"fillcolor\":\"rgba(239, 85, 59,0.5)\",\"line\":{\"color\":\"White\",\"width\":1},\"type\":\"rect\",\"x0\":14,\"x1\":16,\"xref\":\"x\",\"y0\":11.0,\"y1\":12.0,\"yref\":\"y\"},{\"fillcolor\":\"rgba(239, 85, 59,0.5)\",\"line\":{\"color\":\"White\",\"width\":1},\"type\":\"rect\",\"x0\":13,\"x1\":14,\"xref\":\"x\",\"y0\":7.0,\"y1\":8.0,\"yref\":\"y\"},{\"fillcolor\":\"rgba(239, 85, 59,0.5)\",\"line\":{\"color\":\"White\",\"width\":1},\"type\":\"rect\",\"x0\":12,\"x1\":14,\"xref\":\"x\",\"y0\":9.0,\"y1\":10.0,\"yref\":\"y\"},{\"fillcolor\":\"rgba(239, 85, 59,0.5)\",\"line\":{\"color\":\"White\",\"width\":1},\"type\":\"rect\",\"x0\":15,\"x1\":17,\"xref\":\"x\",\"y0\":3.0,\"y1\":4.0,\"yref\":\"y\"},{\"fillcolor\":\"rgba(239, 85, 59,0.5)\",\"line\":{\"color\":\"White\",\"width\":1},\"type\":\"rect\",\"x0\":14,\"x1\":21,\"xref\":\"x\",\"y0\":12.0,\"y1\":13.0,\"yref\":\"y\"},{\"fillcolor\":\"rgba(239, 85, 59,0.5)\",\"line\":{\"color\":\"White\",\"width\":1},\"type\":\"rect\",\"x0\":13,\"x1\":20,\"xref\":\"x\",\"y0\":13.0,\"y1\":14.0,\"yref\":\"y\"},{\"fillcolor\":\"rgba(239, 85, 59,0.5)\",\"line\":{\"color\":\"White\",\"width\":1},\"type\":\"rect\",\"x0\":14,\"x1\":15,\"xref\":\"x\",\"y0\":14.0,\"y1\":15.0,\"yref\":\"y\"},{\"fillcolor\":\"rgba(239, 85, 59,0.5)\",\"line\":{\"color\":\"White\",\"width\":1},\"type\":\"rect\",\"x0\":15,\"x1\":16,\"xref\":\"x\",\"y0\":4.0,\"y1\":5.0,\"yref\":\"y\"},{\"fillcolor\":\"rgba(239, 85, 59,0.5)\",\"line\":{\"color\":\"White\",\"width\":1},\"type\":\"rect\",\"x0\":16,\"x1\":17,\"xref\":\"x\",\"y0\":4.0,\"y1\":5.0,\"yref\":\"y\"},{\"fillcolor\":\"rgba(239, 85, 59,0.5)\",\"line\":{\"color\":\"White\",\"width\":1},\"type\":\"rect\",\"x0\":14,\"x1\":17,\"xref\":\"x\",\"y0\":15.0,\"y1\":16.0,\"yref\":\"y\"},{\"fillcolor\":\"rgba(239, 85, 59,0.5)\",\"line\":{\"color\":\"White\",\"width\":1},\"type\":\"rect\",\"x0\":15,\"x1\":19,\"xref\":\"x\",\"y0\":5.0,\"y1\":6.0,\"yref\":\"y\"},{\"fillcolor\":\"rgba(239, 85, 59,0.5)\",\"line\":{\"color\":\"White\",\"width\":1},\"type\":\"rect\",\"x0\":15,\"x1\":16,\"xref\":\"x\",\"y0\":8.0,\"y1\":9.0,\"yref\":\"y\"},{\"fillcolor\":\"rgba(239, 85, 59,0.5)\",\"line\":{\"color\":\"White\",\"width\":1},\"type\":\"rect\",\"x0\":17,\"x1\":18,\"xref\":\"x\",\"y0\":3.0,\"y1\":4.0,\"yref\":\"y\"},{\"fillcolor\":\"rgba(239, 85, 59,0.5)\",\"line\":{\"color\":\"White\",\"width\":1},\"type\":\"rect\",\"x0\":15,\"x1\":20,\"xref\":\"x\",\"y0\":9.0,\"y1\":10.0,\"yref\":\"y\"},{\"fillcolor\":\"rgba(239, 85, 59,0.5)\",\"line\":{\"color\":\"White\",\"width\":1},\"type\":\"rect\",\"x0\":16,\"x1\":18,\"xref\":\"x\",\"y0\":6.0,\"y1\":7.0,\"yref\":\"y\"},{\"fillcolor\":\"rgba(239, 85, 59,0.5)\",\"line\":{\"color\":\"White\",\"width\":1},\"type\":\"rect\",\"x0\":16,\"x1\":17,\"xref\":\"x\",\"y0\":8.0,\"y1\":9.0,\"yref\":\"y\"},{\"fillcolor\":\"rgba(239, 85, 59,0.5)\",\"line\":{\"color\":\"White\",\"width\":1},\"type\":\"rect\",\"x0\":16,\"x1\":17,\"xref\":\"x\",\"y0\":11.0,\"y1\":12.0,\"yref\":\"y\"},{\"fillcolor\":\"rgba(239, 85, 59,0.5)\",\"line\":{\"color\":\"White\",\"width\":1},\"type\":\"rect\",\"x0\":17,\"x1\":18,\"xref\":\"x\",\"y0\":4.0,\"y1\":5.0,\"yref\":\"y\"},{\"fillcolor\":\"rgba(239, 85, 59,0.5)\",\"line\":{\"color\":\"White\",\"width\":1},\"type\":\"rect\",\"x0\":19,\"x1\":20,\"xref\":\"x\",\"y0\":4.0,\"y1\":5.0,\"yref\":\"y\"},{\"fillcolor\":\"rgba(239, 85, 59,0.5)\",\"line\":{\"color\":\"White\",\"width\":1},\"type\":\"rect\",\"x0\":17,\"x1\":20,\"xref\":\"x\",\"y0\":7.0,\"y1\":8.0,\"yref\":\"y\"},{\"fillcolor\":\"rgba(239, 85, 59,0.5)\",\"line\":{\"color\":\"White\",\"width\":1},\"type\":\"rect\",\"x0\":19,\"x1\":20,\"xref\":\"x\",\"y0\":5.0,\"y1\":6.0,\"yref\":\"y\"},{\"fillcolor\":\"rgba(239, 85, 59,0.5)\",\"line\":{\"color\":\"White\",\"width\":1},\"type\":\"rect\",\"x0\":18,\"x1\":19,\"xref\":\"x\",\"y0\":4.0,\"y1\":5.0,\"yref\":\"y\"},{\"fillcolor\":\"rgba(239, 85, 59,0.5)\",\"line\":{\"color\":\"White\",\"width\":1},\"type\":\"rect\",\"x0\":20,\"x1\":21,\"xref\":\"x\",\"y0\":3.0,\"y1\":4.0,\"yref\":\"y\"},{\"fillcolor\":\"rgba(239, 85, 59,0.5)\",\"line\":{\"color\":\"White\",\"width\":1},\"type\":\"rect\",\"x0\":18,\"x1\":19,\"xref\":\"x\",\"y0\":6.0,\"y1\":7.0,\"yref\":\"y\"},{\"fillcolor\":\"rgba(239, 85, 59,0.5)\",\"line\":{\"color\":\"White\",\"width\":1},\"type\":\"rect\",\"x0\":19,\"x1\":20,\"xref\":\"x\",\"y0\":6.0,\"y1\":7.0,\"yref\":\"y\"},{\"fillcolor\":\"rgba(239, 85, 59,0.5)\",\"line\":{\"color\":\"White\",\"width\":1},\"type\":\"rect\",\"x0\":19,\"x1\":22,\"xref\":\"x\",\"y0\":8.0,\"y1\":9.0,\"yref\":\"y\"},{\"fillcolor\":\"rgba(239, 85, 59,0.5)\",\"line\":{\"color\":\"White\",\"width\":1},\"type\":\"rect\",\"x0\":19,\"x1\":20,\"xref\":\"x\",\"y0\":11.0,\"y1\":12.0,\"yref\":\"y\"},{\"fillcolor\":\"rgba(239, 85, 59,0.5)\",\"line\":{\"color\":\"White\",\"width\":1},\"type\":\"rect\",\"x0\":19,\"x1\":23,\"xref\":\"x\",\"y0\":14.0,\"y1\":15.0,\"yref\":\"y\"},{\"fillcolor\":\"rgba(239, 85, 59,0.5)\",\"line\":{\"color\":\"White\",\"width\":1},\"type\":\"rect\",\"x0\":21,\"x1\":22,\"xref\":\"x\",\"y0\":3.0,\"y1\":4.0,\"yref\":\"y\"},{\"fillcolor\":\"rgba(239, 85, 59,0.5)\",\"line\":{\"color\":\"White\",\"width\":1},\"type\":\"rect\",\"x0\":23,\"x1\":24,\"xref\":\"x\",\"y0\":3.0,\"y1\":4.0,\"yref\":\"y\"},{\"fillcolor\":\"rgba(239, 85, 59,0.5)\",\"line\":{\"color\":\"White\",\"width\":1},\"type\":\"rect\",\"x0\":23,\"x1\":24,\"xref\":\"x\",\"y0\":4.0,\"y1\":5.0,\"yref\":\"y\"},{\"fillcolor\":\"rgba(0, 204, 150,1)\",\"line\":{\"color\":\"White\",\"width\":1},\"type\":\"rect\",\"x0\":8,\"x1\":9,\"y0\":0.0,\"y1\":0.4282345985284674,\"xref\":\"x\",\"yref\":\"y\"},{\"fillcolor\":\"rgba(0, 204, 150,1)\",\"line\":{\"color\":\"White\",\"width\":1},\"type\":\"rect\",\"x0\":8,\"x1\":9,\"y0\":1.0,\"y1\":1.3913487109255611,\"xref\":\"x\",\"yref\":\"y\"},{\"fillcolor\":\"rgba(0, 204, 150,1)\",\"line\":{\"color\":\"White\",\"width\":1},\"type\":\"rect\",\"x0\":13,\"x1\":15,\"y0\":0.0,\"y1\":0.5637538065852092,\"xref\":\"x\",\"yref\":\"y\"},{\"fillcolor\":\"rgba(0, 204, 150,1)\",\"line\":{\"color\":\"White\",\"width\":1},\"type\":\"rect\",\"x0\":7,\"x1\":9,\"y0\":2.0,\"y1\":2.4970996683472597,\"xref\":\"x\",\"yref\":\"y\"},{\"fillcolor\":\"rgba(0, 204, 150,1)\",\"line\":{\"color\":\"White\",\"width\":1},\"type\":\"rect\",\"x0\":7,\"x1\":8,\"y0\":0.0,\"y1\":0.4970996683472595,\"xref\":\"x\",\"yref\":\"y\"},{\"fillcolor\":\"rgba(0, 204, 150,1)\",\"line\":{\"color\":\"White\",\"width\":1},\"type\":\"rect\",\"x0\":11,\"x1\":12,\"y0\":0.0,\"y1\":0.5304267374662344,\"xref\":\"x\",\"yref\":\"y\"},{\"fillcolor\":\"rgba(0, 204, 150,1)\",\"line\":{\"color\":\"White\",\"width\":1},\"type\":\"rect\",\"x0\":7,\"x1\":8,\"y0\":1.0,\"y1\":1.3072175349130402,\"xref\":\"x\",\"yref\":\"y\"},{\"fillcolor\":\"rgba(0, 204, 150,1)\",\"line\":{\"color\":\"White\",\"width\":1},\"type\":\"rect\",\"x0\":14,\"x1\":16,\"y0\":1.0,\"y1\":1.5976177761476564,\"xref\":\"x\",\"yref\":\"y\"},{\"fillcolor\":\"rgba(0, 204, 150,1)\",\"line\":{\"color\":\"White\",\"width\":1},\"type\":\"rect\",\"x0\":15,\"x1\":16,\"y0\":0.0,\"y1\":0.8053027281613654,\"xref\":\"x\",\"yref\":\"y\"},{\"fillcolor\":\"rgba(0, 204, 150,1)\",\"line\":{\"color\":\"White\",\"width\":1},\"type\":\"rect\",\"x0\":9,\"x1\":13,\"y0\":1.0,\"y1\":1.4632356987848125,\"xref\":\"x\",\"yref\":\"y\"},{\"fillcolor\":\"rgba(0, 204, 150,1)\",\"line\":{\"color\":\"White\",\"width\":1},\"type\":\"rect\",\"x0\":9,\"x1\":13,\"y0\":2.0,\"y1\":2.4632356987848123,\"xref\":\"x\",\"yref\":\"y\"},{\"fillcolor\":\"rgba(0, 204, 150,1)\",\"line\":{\"color\":\"White\",\"width\":1},\"type\":\"rect\",\"x0\":10,\"x1\":11,\"y0\":0.0,\"y1\":0.5976177761476563,\"xref\":\"x\",\"yref\":\"y\"},{\"fillcolor\":\"rgba(0, 204, 150,1)\",\"line\":{\"color\":\"White\",\"width\":1},\"type\":\"rect\",\"x0\":12,\"x1\":13,\"y0\":0.0,\"y1\":0.5976177761476563,\"xref\":\"x\",\"yref\":\"y\"},{\"fillcolor\":\"rgba(0, 204, 150,1)\",\"line\":{\"color\":\"White\",\"width\":1},\"type\":\"rect\",\"x0\":13,\"x1\":14,\"y0\":1.0,\"y1\":1.5976177761476564,\"xref\":\"x\",\"yref\":\"y\"},{\"fillcolor\":\"rgba(0, 204, 150,1)\",\"line\":{\"color\":\"White\",\"width\":1},\"type\":\"rect\",\"x0\":16,\"x1\":17,\"y0\":0.0,\"y1\":0.8053027281613654,\"xref\":\"x\",\"yref\":\"y\"},{\"fillcolor\":\"rgba(0, 204, 150,1)\",\"line\":{\"color\":\"White\",\"width\":1},\"type\":\"rect\",\"x0\":13,\"x1\":16,\"y0\":2.0,\"y1\":2.4632356987848123,\"xref\":\"x\",\"yref\":\"y\"},{\"fillcolor\":\"rgba(0, 204, 150,1)\",\"line\":{\"color\":\"White\",\"width\":1},\"type\":\"rect\",\"x0\":16,\"x1\":17,\"y0\":1.0,\"y1\":1.6695047640069076,\"xref\":\"x\",\"yref\":\"y\"},{\"fillcolor\":\"rgba(0, 204, 150,1)\",\"line\":{\"color\":\"White\",\"width\":1},\"type\":\"rect\",\"x0\":16,\"x1\":22,\"y0\":2.0,\"y1\":2.4632356987848123,\"xref\":\"x\",\"yref\":\"y\"},{\"fillcolor\":\"rgba(0, 204, 150,1)\",\"line\":{\"color\":\"White\",\"width\":1},\"type\":\"rect\",\"x0\":17,\"x1\":23,\"y0\":0.0,\"y1\":0.4632356987848125,\"xref\":\"x\",\"yref\":\"y\"},{\"fillcolor\":\"rgba(0, 204, 150,1)\",\"line\":{\"color\":\"White\",\"width\":1},\"type\":\"rect\",\"x0\":17,\"x1\":20,\"y0\":1.0,\"y1\":1.4970996683472595,\"xref\":\"x\",\"yref\":\"y\"},{\"fillcolor\":\"rgba(0, 204, 150,1)\",\"line\":{\"color\":\"White\",\"width\":1},\"type\":\"rect\",\"x0\":20,\"x1\":21,\"y0\":1.0,\"y1\":1.5304267374662344,\"xref\":\"x\",\"yref\":\"y\"},{\"fillcolor\":\"rgba(0, 204, 150,1)\",\"line\":{\"color\":\"White\",\"width\":1},\"type\":\"rect\",\"x0\":22,\"x1\":23,\"y0\":1.0,\"y1\":1.4282345985284675,\"xref\":\"x\",\"yref\":\"y\"},{\"fillcolor\":\"rgba(0, 204, 150,1)\",\"line\":{\"color\":\"White\",\"width\":1},\"type\":\"rect\",\"x0\":23,\"x1\":24,\"y0\":0.0,\"y1\":0.4970996683472595,\"xref\":\"x\",\"yref\":\"y\"},{\"fillcolor\":\"rgba(0, 204, 150,1)\",\"line\":{\"color\":\"White\",\"width\":1},\"type\":\"rect\",\"x0\":23,\"x1\":24,\"y0\":1.0,\"y1\":1.4282345985284675,\"xref\":\"x\",\"yref\":\"y\"},{\"fillcolor\":\"rgba(0, 204, 150,1)\",\"line\":{\"color\":\"White\",\"width\":1},\"type\":\"rect\",\"x0\":23,\"x1\":24,\"y0\":2.0,\"y1\":2.530426737466234,\"xref\":\"x\",\"yref\":\"y\"}],\"margin\":{\"l\":0,\"r\":0,\"t\":0,\"b\":0},\"width\":800,\"height\":400,\"plot_bgcolor\":\"rgba(0, 0, 0, 0)\",\"paper_bgcolor\":\"rgba(0, 0, 0, 0)\"},                        {\"responsive\": true}                    ).then(function(){\n",
       "                            \n",
       "var gd = document.getElementById('33e92111-f4e8-4296-8a71-eb7fcbe9139f');\n",
       "var x = new MutationObserver(function (mutations, observer) {{\n",
       "        var display = window.getComputedStyle(gd).display;\n",
       "        if (!display || display === 'none') {{\n",
       "            console.log([gd, 'removed!']);\n",
       "            Plotly.purge(gd);\n",
       "            observer.disconnect();\n",
       "        }}\n",
       "}});\n",
       "\n",
       "// Listen for the removal of the full notebook cells\n",
       "var notebookContainer = gd.closest('#notebook-container');\n",
       "if (notebookContainer) {{\n",
       "    x.observe(notebookContainer, {childList: true});\n",
       "}}\n",
       "\n",
       "// Listen for the clearing of the current output cell\n",
       "var outputEl = gd.closest('.output');\n",
       "if (outputEl) {{\n",
       "    x.observe(outputEl, {childList: true});\n",
       "}}\n",
       "\n",
       "                        })                };                });            </script>        </div>"
      ]
     },
     "metadata": {},
     "output_type": "display_data"
    }
   ],
   "execution_count": 44
  },
  {
   "metadata": {
    "ExecuteTime": {
     "end_time": "2024-09-24T13:22:09.977136Z",
     "start_time": "2024-09-24T13:22:06.001949Z"
    }
   },
   "cell_type": "code",
   "source": [
    "sh = prepare_simhistory(df, tdf, 7, \"Flatrate\", 72)\n",
    "alloc = sold_unsold_allocation_from_simhistory(sh)\n",
    "\n",
    "fig = plot_simhistory_sold_unsold(alloc)\n",
    "fig = add_revenue_boxes(fig, alloc)\n",
    "fig.show()"
   ],
   "id": "d77aee020f5a9627",
   "outputs": [
    {
     "data": {
      "application/vnd.plotly.v1+json": {
       "data": [
        {
         "fill": "toself",
         "mode": "lines",
         "name": "",
         "opacity": 0,
         "text": "timestep: 1, budget: 1.1195959505999442, action: 0.8733264484321002",
         "x": [
          8,
          9,
          9,
          8,
          8
         ],
         "y": [
          0.0,
          0.0,
          1.0,
          1.0,
          0.0
         ],
         "type": "scatter"
        },
        {
         "fill": "toself",
         "mode": "lines",
         "name": "",
         "opacity": 0,
         "text": "timestep: 22, budget: 1.742979002222134, action: 0.8733264484321002",
         "x": [
          8,
          9,
          9,
          8,
          8
         ],
         "y": [
          1.0,
          1.0,
          2.0,
          2.0,
          1.0
         ],
         "type": "scatter"
        },
        {
         "fill": "toself",
         "mode": "lines",
         "name": "",
         "opacity": 0,
         "text": "timestep: 28, budget: 2.476104437462143, action: 0.8733264484321002",
         "x": [
          13,
          15,
          15,
          13,
          13
         ],
         "y": [
          0.0,
          0.0,
          1.0,
          1.0,
          0.0
         ],
         "type": "scatter"
        },
        {
         "fill": "toself",
         "mode": "lines",
         "name": "",
         "opacity": 0,
         "text": "timestep: 32, budget: 2.825944634742748, action: 0.8733264484321002",
         "x": [
          7,
          9,
          9,
          7,
          7
         ],
         "y": [
          2.0,
          2.0,
          3.0,
          3.0,
          2.0
         ],
         "type": "scatter"
        },
        {
         "fill": "toself",
         "mode": "lines",
         "name": "",
         "opacity": 0,
         "text": "timestep: 49, budget: 0.970211005867882, action: 0.8733264484321002",
         "x": [
          7,
          8,
          8,
          7,
          7
         ],
         "y": [
          0.0,
          0.0,
          1.0,
          1.0,
          0.0
         ],
         "type": "scatter"
        },
        {
         "fill": "toself",
         "mode": "lines",
         "name": "",
         "opacity": 0,
         "text": "timestep: 51, budget: 0.897709638144219, action: 0.8733264484321002",
         "x": [
          12,
          13,
          13,
          12,
          12
         ],
         "y": [
          0.0,
          0.0,
          1.0,
          1.0,
          0.0
         ],
         "type": "scatter"
        },
        {
         "fill": "toself",
         "mode": "lines",
         "name": "",
         "opacity": 0,
         "text": "timestep: 56, budget: 1.3496936884569708, action: 0.8733264484321002",
         "x": [
          11,
          12,
          12,
          11,
          11
         ],
         "y": [
          0.0,
          0.0,
          1.0,
          1.0,
          0.0
         ],
         "type": "scatter"
        },
        {
         "fill": "toself",
         "mode": "lines",
         "name": "",
         "opacity": 0,
         "text": "timestep: 102, budget: 2.4073516070067678, action: 0.8733264484321002",
         "x": [
          14,
          16,
          16,
          14,
          14
         ],
         "y": [
          1.0,
          1.0,
          2.0,
          2.0,
          1.0
         ],
         "type": "scatter"
        },
        {
         "fill": "toself",
         "mode": "lines",
         "name": "",
         "opacity": 0,
         "text": "timestep: 105, budget: 1.5648395922470189, action: 0.8733264484321002",
         "x": [
          15,
          16,
          16,
          15,
          15
         ],
         "y": [
          0.0,
          0.0,
          1.0,
          1.0,
          0.0
         ],
         "type": "scatter"
        },
        {
         "fill": "toself",
         "mode": "lines",
         "name": "",
         "opacity": 0,
         "text": "timestep: 123, budget: 4.838348285211584, action: 0.8733264484321002",
         "x": [
          9,
          13,
          13,
          9,
          9
         ],
         "y": [
          1.0,
          1.0,
          2.0,
          2.0,
          1.0
         ],
         "type": "scatter"
        },
        {
         "fill": "toself",
         "mode": "lines",
         "name": "",
         "opacity": 0,
         "text": "timestep: 160, budget: 2.0943510362518585, action: 0.8733264484321002",
         "x": [
          13,
          15,
          15,
          13,
          13
         ],
         "y": [
          2.0,
          2.0,
          3.0,
          3.0,
          2.0
         ],
         "type": "scatter"
        },
        {
         "fill": "toself",
         "mode": "lines",
         "name": "",
         "opacity": 0,
         "text": "timestep: 161, budget: 1.895887066434752, action: 0.8733264484321002",
         "x": [
          6,
          8,
          8,
          6,
          6
         ],
         "y": [
          1.0,
          1.0,
          2.0,
          2.0,
          1.0
         ],
         "type": "scatter"
        },
        {
         "fill": "toself",
         "mode": "lines",
         "name": "",
         "opacity": 0,
         "text": "timestep: 169, budget: 4.430406329196159, action: 0.8733264484321002",
         "x": [
          9,
          13,
          13,
          9,
          9
         ],
         "y": [
          2.0,
          2.0,
          3.0,
          3.0,
          2.0
         ],
         "type": "scatter"
        },
        {
         "fill": "toself",
         "mode": "lines",
         "name": "",
         "opacity": 0,
         "text": "timestep: 195, budget: 1.7724783359234406, action: 0.8733264484321002",
         "x": [
          10,
          11,
          11,
          10,
          10
         ],
         "y": [
          0.0,
          0.0,
          1.0,
          1.0,
          0.0
         ],
         "type": "scatter"
        },
        {
         "fill": "toself",
         "mode": "lines",
         "name": "",
         "opacity": 0,
         "text": "timestep: 220, budget: 1.478226516330889, action: 0.8733264484321002",
         "x": [
          13,
          14,
          14,
          13,
          13
         ],
         "y": [
          1.0,
          1.0,
          2.0,
          2.0,
          1.0
         ],
         "type": "scatter"
        },
        {
         "fill": "toself",
         "mode": "lines",
         "name": "",
         "opacity": 0,
         "text": "timestep: 269, budget: 1.885274495733084, action: 0.8733264484321002",
         "x": [
          16,
          17,
          17,
          16,
          16
         ],
         "y": [
          0.0,
          0.0,
          1.0,
          1.0,
          0.0
         ],
         "type": "scatter"
        },
        {
         "fill": "toself",
         "mode": "lines",
         "name": "",
         "opacity": 0,
         "text": "timestep: 318, budget: 1.413955154548848, action: 0.8733264484321002",
         "x": [
          16,
          17,
          17,
          16,
          16
         ],
         "y": [
          1.0,
          1.0,
          2.0,
          2.0,
          1.0
         ],
         "type": "scatter"
        },
        {
         "fill": "toself",
         "mode": "lines",
         "name": "",
         "opacity": 0,
         "text": "timestep: 326, budget: 6.216570416937723, action: 0.8733264484321002",
         "x": [
          16,
          22,
          22,
          16,
          16
         ],
         "y": [
          2.0,
          2.0,
          3.0,
          3.0,
          2.0
         ],
         "type": "scatter"
        },
        {
         "fill": "toself",
         "mode": "lines",
         "name": "",
         "opacity": 0,
         "text": "timestep: 328, budget: 5.935700998699732, action: 0.8733264484321002",
         "x": [
          17,
          23,
          23,
          17,
          17
         ],
         "y": [
          0.0,
          0.0,
          1.0,
          1.0,
          0.0
         ],
         "type": "scatter"
        },
        {
         "fill": "toself",
         "mode": "lines",
         "name": "",
         "opacity": 0,
         "text": "timestep: 338, budget: 1.6696980625019326, action: 0.8733264484321002",
         "x": [
          15,
          16,
          16,
          15,
          15
         ],
         "y": [
          2.0,
          2.0,
          3.0,
          3.0,
          2.0
         ],
         "type": "scatter"
        },
        {
         "fill": "toself",
         "mode": "lines",
         "name": "",
         "opacity": 0,
         "text": "timestep: 364, budget: 1.1959914120678603, action: 0.8733264484321002",
         "x": [
          17,
          18,
          18,
          17,
          17
         ],
         "y": [
          1.0,
          1.0,
          2.0,
          2.0,
          1.0
         ],
         "type": "scatter"
        },
        {
         "fill": "toself",
         "mode": "lines",
         "name": "",
         "opacity": 0,
         "text": "timestep: 444, budget: 0.9121083801572905, action: 0.8733264484321002",
         "x": [
          20,
          21,
          21,
          20,
          20
         ],
         "y": [
          1.0,
          1.0,
          2.0,
          2.0,
          1.0
         ],
         "type": "scatter"
        },
        {
         "fill": "toself",
         "mode": "lines",
         "name": "",
         "opacity": 0,
         "text": "timestep: 455, budget: 1.222412695646583, action: 0.8733264484321002",
         "x": [
          19,
          20,
          20,
          19,
          19
         ],
         "y": [
          1.0,
          1.0,
          2.0,
          2.0,
          1.0
         ],
         "type": "scatter"
        },
        {
         "fill": "toself",
         "mode": "lines",
         "name": "",
         "opacity": 0,
         "text": "timestep: 550, budget: 1.3443277588507163, action: 0.8733264484321002",
         "x": [
          22,
          23,
          23,
          22,
          22
         ],
         "y": [
          1.0,
          1.0,
          2.0,
          2.0,
          1.0
         ],
         "type": "scatter"
        },
        {
         "fill": "toself",
         "mode": "lines",
         "name": "",
         "opacity": 0,
         "text": "timestep: 560, budget: 1.1784389116773375, action: 0.8733264484321002",
         "x": [
          23,
          24,
          24,
          23,
          23
         ],
         "y": [
          0.0,
          0.0,
          1.0,
          1.0,
          0.0
         ],
         "type": "scatter"
        },
        {
         "fill": "toself",
         "mode": "lines",
         "name": "",
         "opacity": 0,
         "text": "timestep: 570, budget: 1.3496696011969804, action: 0.8733264484321002",
         "x": [
          23,
          24,
          24,
          23,
          23
         ],
         "y": [
          1.0,
          1.0,
          2.0,
          2.0,
          1.0
         ],
         "type": "scatter"
        },
        {
         "fill": "toself",
         "mode": "lines",
         "name": "",
         "opacity": 0,
         "text": "timestep: 574, budget: 1.160007534543492, action: 0.8733264484321002",
         "x": [
          23,
          24,
          24,
          23,
          23
         ],
         "y": [
          2.0,
          2.0,
          3.0,
          3.0,
          2.0
         ],
         "type": "scatter"
        },
        {
         "fill": "toself",
         "mode": "lines",
         "name": "",
         "opacity": 0,
         "text": "timestep: 27, budget: 0.480913132459729, action: 0.8733264484321002",
         "x": [
          12,
          13,
          13,
          12,
          12
         ],
         "y": [
          3.0,
          3.0,
          4.0,
          4.0,
          3.0
         ],
         "type": "scatter"
        },
        {
         "fill": "toself",
         "mode": "lines",
         "name": "",
         "opacity": 0,
         "text": "timestep: 50, budget: 0.3475581900790602, action: 0.8733264484321002",
         "x": [
          11,
          12,
          12,
          11,
          11
         ],
         "y": [
          3.0,
          3.0,
          4.0,
          4.0,
          3.0
         ],
         "type": "scatter"
        },
        {
         "fill": "toself",
         "mode": "lines",
         "name": "",
         "opacity": 0,
         "text": "timestep: 73, budget: 0.7554757097909742, action: 0.8733264484321002",
         "x": [
          11,
          12,
          12,
          11,
          11
         ],
         "y": [
          4.0,
          4.0,
          5.0,
          5.0,
          4.0
         ],
         "type": "scatter"
        },
        {
         "fill": "toself",
         "mode": "lines",
         "name": "",
         "opacity": 0,
         "text": "timestep: 85, budget: 0.4267771492632941, action: 0.8733264484321002",
         "x": [
          14,
          15,
          15,
          14,
          14
         ],
         "y": [
          3.0,
          3.0,
          4.0,
          4.0,
          3.0
         ],
         "type": "scatter"
        },
        {
         "fill": "toself",
         "mode": "lines",
         "name": "",
         "opacity": 0,
         "text": "timestep: 95, budget: 1.2655249566272948, action: 0.8733264484321002",
         "x": [
          18,
          20,
          20,
          18,
          18
         ],
         "y": [
          3.0,
          3.0,
          4.0,
          4.0,
          3.0
         ],
         "type": "scatter"
        },
        {
         "fill": "toself",
         "mode": "lines",
         "name": "",
         "opacity": 0,
         "text": "timestep: 101, budget: 0.630497750222799, action: 0.8733264484321002",
         "x": [
          7,
          8,
          8,
          7,
          7
         ],
         "y": [
          3.0,
          3.0,
          4.0,
          4.0,
          3.0
         ],
         "type": "scatter"
        },
        {
         "fill": "toself",
         "mode": "lines",
         "name": "",
         "opacity": 0,
         "text": "timestep: 106, budget: 2.3240804205450507, action: 0.8733264484321002",
         "x": [
          12,
          15,
          15,
          12,
          12
         ],
         "y": [
          4.0,
          4.0,
          5.0,
          5.0,
          4.0
         ],
         "type": "scatter"
        },
        {
         "fill": "toself",
         "mode": "lines",
         "name": "",
         "opacity": 0,
         "text": "timestep: 125, budget: 0.734001003177055, action: 0.8733264484321002",
         "x": [
          13,
          14,
          14,
          13,
          13
         ],
         "y": [
          3.0,
          3.0,
          4.0,
          4.0,
          3.0
         ],
         "type": "scatter"
        },
        {
         "fill": "toself",
         "mode": "lines",
         "name": "",
         "opacity": 0,
         "text": "timestep: 156, budget: 0.2731070622991453, action: 0.8733264484321002",
         "x": [
          11,
          12,
          12,
          11,
          11
         ],
         "y": [
          5.0,
          5.0,
          6.0,
          6.0,
          5.0
         ],
         "type": "scatter"
        },
        {
         "fill": "toself",
         "mode": "lines",
         "name": "",
         "opacity": 0,
         "text": "timestep: 181, budget: 5.012492124970704, action: 0.8733264484321002",
         "x": [
          7,
          11,
          11,
          7,
          7
         ],
         "y": [
          4.0,
          4.0,
          5.0,
          5.0,
          4.0
         ],
         "type": "scatter"
        },
        {
         "fill": "toself",
         "mode": "lines",
         "name": "",
         "opacity": 0,
         "text": "timestep: 187, budget: 2.2098726440170866, action: 0.8733264484321002",
         "x": [
          13,
          16,
          16,
          13,
          13
         ],
         "y": [
          5.0,
          5.0,
          6.0,
          6.0,
          5.0
         ],
         "type": "scatter"
        },
        {
         "fill": "toself",
         "mode": "lines",
         "name": "",
         "opacity": 0,
         "text": "timestep: 189, budget: 1.4637720076693976, action: 0.8733264484321002",
         "x": [
          11,
          12,
          12,
          11,
          11
         ],
         "y": [
          6.0,
          6.0,
          7.0,
          7.0,
          6.0
         ],
         "type": "scatter"
        },
        {
         "fill": "toself",
         "mode": "lines",
         "name": "",
         "opacity": 0,
         "text": "timestep: 202, budget: 0.9086985376594536, action: 0.8733264484321002",
         "x": [
          12,
          13,
          13,
          12,
          12
         ],
         "y": [
          5.0,
          5.0,
          6.0,
          6.0,
          5.0
         ],
         "type": "scatter"
        },
        {
         "fill": "toself",
         "mode": "lines",
         "name": "",
         "opacity": 0,
         "text": "timestep: 203, budget: 2.8313422828602457, action: 0.8733264484321002",
         "x": [
          14,
          17,
          17,
          14,
          14
         ],
         "y": [
          6.0,
          6.0,
          7.0,
          7.0,
          6.0
         ],
         "type": "scatter"
        },
        {
         "fill": "toself",
         "mode": "lines",
         "name": "",
         "opacity": 0,
         "text": "timestep: 205, budget: 2.2642797340302065, action: 0.8733264484321002",
         "x": [
          11,
          13,
          13,
          11,
          11
         ],
         "y": [
          7.0,
          7.0,
          8.0,
          8.0,
          7.0
         ],
         "type": "scatter"
        },
        {
         "fill": "toself",
         "mode": "lines",
         "name": "",
         "opacity": 0,
         "text": "timestep: 207, budget: 0.5146602516661556, action: 0.8733264484321002",
         "x": [
          8,
          9,
          9,
          8,
          8
         ],
         "y": [
          3.0,
          3.0,
          4.0,
          4.0,
          3.0
         ],
         "type": "scatter"
        },
        {
         "fill": "toself",
         "mode": "lines",
         "name": "",
         "opacity": 0,
         "text": "timestep: 211, budget: 0.799111010483703, action: 0.8733264484321002",
         "x": [
          10,
          11,
          11,
          10,
          10
         ],
         "y": [
          3.0,
          3.0,
          4.0,
          4.0,
          3.0
         ],
         "type": "scatter"
        },
        {
         "fill": "toself",
         "mode": "lines",
         "name": "",
         "opacity": 0,
         "text": "timestep: 214, budget: 1.8841197950955983, action: 0.8733264484321002",
         "x": [
          8,
          9,
          9,
          8,
          8
         ],
         "y": [
          5.0,
          5.0,
          6.0,
          6.0,
          5.0
         ],
         "type": "scatter"
        },
        {
         "fill": "toself",
         "mode": "lines",
         "name": "",
         "opacity": 0,
         "text": "timestep: 216, budget: 1.4600598912616003, action: 0.8733264484321002",
         "x": [
          12,
          13,
          13,
          12,
          12
         ],
         "y": [
          6.0,
          6.0,
          7.0,
          7.0,
          6.0
         ],
         "type": "scatter"
        },
        {
         "fill": "toself",
         "mode": "lines",
         "name": "",
         "opacity": 0,
         "text": "timestep: 233, budget: 3.265261713972795, action: 0.8733264484321002",
         "x": [
          12,
          15,
          15,
          12,
          12
         ],
         "y": [
          8.0,
          8.0,
          9.0,
          9.0,
          8.0
         ],
         "type": "scatter"
        },
        {
         "fill": "toself",
         "mode": "lines",
         "name": "",
         "opacity": 0,
         "text": "timestep: 243, budget: 1.3231476262521975, action: 0.8733264484321002",
         "x": [
          14,
          15,
          15,
          14,
          14
         ],
         "y": [
          7.0,
          7.0,
          8.0,
          8.0,
          7.0
         ],
         "type": "scatter"
        },
        {
         "fill": "toself",
         "mode": "lines",
         "name": "",
         "opacity": 0,
         "text": "timestep: 257, budget: 8.353029450974713, action: 0.8733264484321002",
         "x": [
          12,
          20,
          20,
          12,
          12
         ],
         "y": [
          9.0,
          9.0,
          10.0,
          10.0,
          9.0
         ],
         "type": "scatter"
        },
        {
         "fill": "toself",
         "mode": "lines",
         "name": "",
         "opacity": 0,
         "text": "timestep: 268, budget: 1.6707930170539476, action: 0.8733264484321002",
         "x": [
          14,
          16,
          16,
          14,
          14
         ],
         "y": [
          10.0,
          10.0,
          11.0,
          11.0,
          10.0
         ],
         "type": "scatter"
        },
        {
         "fill": "toself",
         "mode": "lines",
         "name": "",
         "opacity": 0,
         "text": "timestep: 273, budget: 0.5085628366458383, action: 0.8733264484321002",
         "x": [
          13,
          14,
          14,
          13,
          13
         ],
         "y": [
          6.0,
          6.0,
          7.0,
          7.0,
          6.0
         ],
         "type": "scatter"
        },
        {
         "fill": "toself",
         "mode": "lines",
         "name": "",
         "opacity": 0,
         "text": "timestep: 289, budget: 3.004007820978236, action: 0.8733264484321002",
         "x": [
          13,
          16,
          16,
          13,
          13
         ],
         "y": [
          11.0,
          11.0,
          12.0,
          12.0,
          11.0
         ],
         "type": "scatter"
        },
        {
         "fill": "toself",
         "mode": "lines",
         "name": "",
         "opacity": 0,
         "text": "timestep: 298, budget: 1.4387964320789035, action: 0.8733264484321002",
         "x": [
          12,
          14,
          14,
          12,
          12
         ],
         "y": [
          10.0,
          10.0,
          11.0,
          11.0,
          10.0
         ],
         "type": "scatter"
        },
        {
         "fill": "toself",
         "mode": "lines",
         "name": "",
         "opacity": 0,
         "text": "timestep: 321, budget: 1.2228277468413755, action: 0.8733264484321002",
         "x": [
          15,
          17,
          17,
          15,
          15
         ],
         "y": [
          3.0,
          3.0,
          4.0,
          4.0,
          3.0
         ],
         "type": "scatter"
        },
        {
         "fill": "toself",
         "mode": "lines",
         "name": "",
         "opacity": 0,
         "text": "timestep: 323, budget: 7.479547346147174, action: 0.8733264484321002",
         "x": [
          14,
          21,
          21,
          14,
          14
         ],
         "y": [
          12.0,
          12.0,
          13.0,
          13.0,
          12.0
         ],
         "type": "scatter"
        },
        {
         "fill": "toself",
         "mode": "lines",
         "name": "",
         "opacity": 0,
         "text": "timestep: 327, budget: 6.824212456407542, action: 0.8733264484321002",
         "x": [
          13,
          20,
          20,
          13,
          13
         ],
         "y": [
          13.0,
          13.0,
          14.0,
          14.0,
          13.0
         ],
         "type": "scatter"
        },
        {
         "fill": "toself",
         "mode": "lines",
         "name": "",
         "opacity": 0,
         "text": "timestep: 334, budget: 0.9230474224874738, action: 0.8733264484321002",
         "x": [
          14,
          15,
          15,
          14,
          14
         ],
         "y": [
          14.0,
          14.0,
          15.0,
          15.0,
          14.0
         ],
         "type": "scatter"
        },
        {
         "fill": "toself",
         "mode": "lines",
         "name": "",
         "opacity": 0,
         "text": "timestep: 351, budget: 0.307318362704794, action: 0.8733264484321002",
         "x": [
          16,
          17,
          17,
          16,
          16
         ],
         "y": [
          4.0,
          4.0,
          5.0,
          5.0,
          4.0
         ],
         "type": "scatter"
        },
        {
         "fill": "toself",
         "mode": "lines",
         "name": "",
         "opacity": 0,
         "text": "timestep: 356, budget: 3.592671711448642, action: 0.8733264484321002",
         "x": [
          14,
          17,
          17,
          14,
          14
         ],
         "y": [
          15.0,
          15.0,
          16.0,
          16.0,
          15.0
         ],
         "type": "scatter"
        },
        {
         "fill": "toself",
         "mode": "lines",
         "name": "",
         "opacity": 0,
         "text": "timestep: 359, budget: 3.4252351336627207, action: 0.8733264484321002",
         "x": [
          15,
          19,
          19,
          15,
          15
         ],
         "y": [
          7.0,
          7.0,
          8.0,
          8.0,
          7.0
         ],
         "type": "scatter"
        },
        {
         "fill": "toself",
         "mode": "lines",
         "name": "",
         "opacity": 0,
         "text": "timestep: 360, budget: 1.921382595141696, action: 0.8733264484321002",
         "x": [
          15,
          16,
          16,
          15,
          15
         ],
         "y": [
          4.0,
          4.0,
          5.0,
          5.0,
          4.0
         ],
         "type": "scatter"
        },
        {
         "fill": "toself",
         "mode": "lines",
         "name": "",
         "opacity": 0,
         "text": "timestep: 369, budget: 4.713057794082983, action: 0.8733264484321002",
         "x": [
          15,
          20,
          20,
          15,
          15
         ],
         "y": [
          8.0,
          8.0,
          9.0,
          9.0,
          8.0
         ],
         "type": "scatter"
        },
        {
         "fill": "toself",
         "mode": "lines",
         "name": "",
         "opacity": 0,
         "text": "timestep: 384, budget: 2.205188468815932, action: 0.8733264484321002",
         "x": [
          16,
          18,
          18,
          16,
          16
         ],
         "y": [
          5.0,
          5.0,
          6.0,
          6.0,
          5.0
         ],
         "type": "scatter"
        },
        {
         "fill": "toself",
         "mode": "lines",
         "name": "",
         "opacity": 0,
         "text": "timestep: 387, budget: 0.2900199170489597, action: 0.8733264484321002",
         "x": [
          16,
          17,
          17,
          16,
          16
         ],
         "y": [
          10.0,
          10.0,
          11.0,
          11.0,
          10.0
         ],
         "type": "scatter"
        },
        {
         "fill": "toself",
         "mode": "lines",
         "name": "",
         "opacity": 0,
         "text": "timestep: 388, budget: 0.4512148060357154, action: 0.8733264484321002",
         "x": [
          16,
          17,
          17,
          16,
          16
         ],
         "y": [
          11.0,
          11.0,
          12.0,
          12.0,
          11.0
         ],
         "type": "scatter"
        },
        {
         "fill": "toself",
         "mode": "lines",
         "name": "",
         "opacity": 0,
         "text": "timestep: 406, budget: 3.396411988572347, action: 0.8733264484321002",
         "x": [
          17,
          20,
          20,
          17,
          17
         ],
         "y": [
          4.0,
          4.0,
          5.0,
          5.0,
          4.0
         ],
         "type": "scatter"
        },
        {
         "fill": "toself",
         "mode": "lines",
         "name": "",
         "opacity": 0,
         "text": "timestep: 413, budget: 0.9658007008784044, action: 0.8733264484321002",
         "x": [
          17,
          18,
          18,
          17,
          17
         ],
         "y": [
          3.0,
          3.0,
          4.0,
          4.0,
          3.0
         ],
         "type": "scatter"
        },
        {
         "fill": "toself",
         "mode": "lines",
         "name": "",
         "opacity": 0,
         "text": "timestep: 424, budget: 0.8476647991169902, action: 0.8733264484321002",
         "x": [
          19,
          20,
          20,
          19,
          19
         ],
         "y": [
          5.0,
          5.0,
          6.0,
          6.0,
          5.0
         ],
         "type": "scatter"
        },
        {
         "fill": "toself",
         "mode": "lines",
         "name": "",
         "opacity": 0,
         "text": "timestep: 426, budget: 2.2654227648799883, action: 0.8733264484321002",
         "x": [
          17,
          20,
          20,
          17,
          17
         ],
         "y": [
          6.0,
          6.0,
          7.0,
          7.0,
          6.0
         ],
         "type": "scatter"
        },
        {
         "fill": "toself",
         "mode": "lines",
         "name": "",
         "opacity": 0,
         "text": "timestep: 427, budget: 0.7868747132203686, action: 0.8733264484321002",
         "x": [
          19,
          20,
          20,
          19,
          19
         ],
         "y": [
          7.0,
          7.0,
          8.0,
          8.0,
          7.0
         ],
         "type": "scatter"
        },
        {
         "fill": "toself",
         "mode": "lines",
         "name": "",
         "opacity": 0,
         "text": "timestep: 440, budget: 0.5326906159527663, action: 0.8733264484321002",
         "x": [
          18,
          19,
          19,
          18,
          18
         ],
         "y": [
          5.0,
          5.0,
          6.0,
          6.0,
          5.0
         ],
         "type": "scatter"
        },
        {
         "fill": "toself",
         "mode": "lines",
         "name": "",
         "opacity": 0,
         "text": "timestep: 452, budget: 0.7135735083349068, action: 0.8733264484321002",
         "x": [
          18,
          19,
          19,
          18,
          18
         ],
         "y": [
          10.0,
          10.0,
          11.0,
          11.0,
          10.0
         ],
         "type": "scatter"
        },
        {
         "fill": "toself",
         "mode": "lines",
         "name": "",
         "opacity": 0,
         "text": "timestep: 461, budget: 2.734961081342928, action: 0.8733264484321002",
         "x": [
          19,
          22,
          22,
          19,
          19
         ],
         "y": [
          10.0,
          10.0,
          11.0,
          11.0,
          10.0
         ],
         "type": "scatter"
        },
        {
         "fill": "toself",
         "mode": "lines",
         "name": "",
         "opacity": 0,
         "text": "timestep: 463, budget: 1.2010867040017497, action: 0.8733264484321002",
         "x": [
          19,
          20,
          20,
          19,
          19
         ],
         "y": [
          11.0,
          11.0,
          12.0,
          12.0,
          11.0
         ],
         "type": "scatter"
        },
        {
         "fill": "toself",
         "mode": "lines",
         "name": "",
         "opacity": 0,
         "text": "timestep: 466, budget: 1.5148666038064684, action: 0.8733264484321002",
         "x": [
          20,
          21,
          21,
          20,
          20
         ],
         "y": [
          3.0,
          3.0,
          4.0,
          4.0,
          3.0
         ],
         "type": "scatter"
        },
        {
         "fill": "toself",
         "mode": "lines",
         "name": "",
         "opacity": 0,
         "text": "timestep: 477, budget: 4.249768196630529, action: 0.8733264484321002",
         "x": [
          19,
          23,
          23,
          19,
          19
         ],
         "y": [
          14.0,
          14.0,
          15.0,
          15.0,
          14.0
         ],
         "type": "scatter"
        },
        {
         "fill": "toself",
         "mode": "lines",
         "name": "",
         "opacity": 0,
         "text": "timestep: 503, budget: 0.6334208896691593, action: 0.8733264484321002",
         "x": [
          21,
          22,
          22,
          21,
          21
         ],
         "y": [
          3.0,
          3.0,
          4.0,
          4.0,
          3.0
         ],
         "type": "scatter"
        },
        {
         "fill": "toself",
         "mode": "lines",
         "name": "",
         "opacity": 0,
         "text": "timestep: 561, budget: 0.7133696675565517, action: 0.8733264484321002",
         "x": [
          23,
          24,
          24,
          23,
          23
         ],
         "y": [
          3.0,
          3.0,
          4.0,
          4.0,
          3.0
         ],
         "type": "scatter"
        },
        {
         "fill": "toself",
         "mode": "lines",
         "name": "",
         "opacity": 0,
         "text": "timestep: 565, budget: 0.8442636059968742, action: 0.8733264484321002",
         "x": [
          23,
          24,
          24,
          23,
          23
         ],
         "y": [
          4.0,
          4.0,
          5.0,
          5.0,
          4.0
         ],
         "type": "scatter"
        }
       ],
       "layout": {
        "template": {
         "data": {
          "histogram2dcontour": [
           {
            "type": "histogram2dcontour",
            "colorbar": {
             "outlinewidth": 0,
             "ticks": ""
            },
            "colorscale": [
             [
              0.0,
              "#0d0887"
             ],
             [
              0.1111111111111111,
              "#46039f"
             ],
             [
              0.2222222222222222,
              "#7201a8"
             ],
             [
              0.3333333333333333,
              "#9c179e"
             ],
             [
              0.4444444444444444,
              "#bd3786"
             ],
             [
              0.5555555555555556,
              "#d8576b"
             ],
             [
              0.6666666666666666,
              "#ed7953"
             ],
             [
              0.7777777777777778,
              "#fb9f3a"
             ],
             [
              0.8888888888888888,
              "#fdca26"
             ],
             [
              1.0,
              "#f0f921"
             ]
            ]
           }
          ],
          "choropleth": [
           {
            "type": "choropleth",
            "colorbar": {
             "outlinewidth": 0,
             "ticks": ""
            }
           }
          ],
          "histogram2d": [
           {
            "type": "histogram2d",
            "colorbar": {
             "outlinewidth": 0,
             "ticks": ""
            },
            "colorscale": [
             [
              0.0,
              "#0d0887"
             ],
             [
              0.1111111111111111,
              "#46039f"
             ],
             [
              0.2222222222222222,
              "#7201a8"
             ],
             [
              0.3333333333333333,
              "#9c179e"
             ],
             [
              0.4444444444444444,
              "#bd3786"
             ],
             [
              0.5555555555555556,
              "#d8576b"
             ],
             [
              0.6666666666666666,
              "#ed7953"
             ],
             [
              0.7777777777777778,
              "#fb9f3a"
             ],
             [
              0.8888888888888888,
              "#fdca26"
             ],
             [
              1.0,
              "#f0f921"
             ]
            ]
           }
          ],
          "heatmap": [
           {
            "type": "heatmap",
            "colorbar": {
             "outlinewidth": 0,
             "ticks": ""
            },
            "colorscale": [
             [
              0.0,
              "#0d0887"
             ],
             [
              0.1111111111111111,
              "#46039f"
             ],
             [
              0.2222222222222222,
              "#7201a8"
             ],
             [
              0.3333333333333333,
              "#9c179e"
             ],
             [
              0.4444444444444444,
              "#bd3786"
             ],
             [
              0.5555555555555556,
              "#d8576b"
             ],
             [
              0.6666666666666666,
              "#ed7953"
             ],
             [
              0.7777777777777778,
              "#fb9f3a"
             ],
             [
              0.8888888888888888,
              "#fdca26"
             ],
             [
              1.0,
              "#f0f921"
             ]
            ]
           }
          ],
          "heatmapgl": [
           {
            "type": "heatmapgl",
            "colorbar": {
             "outlinewidth": 0,
             "ticks": ""
            },
            "colorscale": [
             [
              0.0,
              "#0d0887"
             ],
             [
              0.1111111111111111,
              "#46039f"
             ],
             [
              0.2222222222222222,
              "#7201a8"
             ],
             [
              0.3333333333333333,
              "#9c179e"
             ],
             [
              0.4444444444444444,
              "#bd3786"
             ],
             [
              0.5555555555555556,
              "#d8576b"
             ],
             [
              0.6666666666666666,
              "#ed7953"
             ],
             [
              0.7777777777777778,
              "#fb9f3a"
             ],
             [
              0.8888888888888888,
              "#fdca26"
             ],
             [
              1.0,
              "#f0f921"
             ]
            ]
           }
          ],
          "contourcarpet": [
           {
            "type": "contourcarpet",
            "colorbar": {
             "outlinewidth": 0,
             "ticks": ""
            }
           }
          ],
          "contour": [
           {
            "type": "contour",
            "colorbar": {
             "outlinewidth": 0,
             "ticks": ""
            },
            "colorscale": [
             [
              0.0,
              "#0d0887"
             ],
             [
              0.1111111111111111,
              "#46039f"
             ],
             [
              0.2222222222222222,
              "#7201a8"
             ],
             [
              0.3333333333333333,
              "#9c179e"
             ],
             [
              0.4444444444444444,
              "#bd3786"
             ],
             [
              0.5555555555555556,
              "#d8576b"
             ],
             [
              0.6666666666666666,
              "#ed7953"
             ],
             [
              0.7777777777777778,
              "#fb9f3a"
             ],
             [
              0.8888888888888888,
              "#fdca26"
             ],
             [
              1.0,
              "#f0f921"
             ]
            ]
           }
          ],
          "surface": [
           {
            "type": "surface",
            "colorbar": {
             "outlinewidth": 0,
             "ticks": ""
            },
            "colorscale": [
             [
              0.0,
              "#0d0887"
             ],
             [
              0.1111111111111111,
              "#46039f"
             ],
             [
              0.2222222222222222,
              "#7201a8"
             ],
             [
              0.3333333333333333,
              "#9c179e"
             ],
             [
              0.4444444444444444,
              "#bd3786"
             ],
             [
              0.5555555555555556,
              "#d8576b"
             ],
             [
              0.6666666666666666,
              "#ed7953"
             ],
             [
              0.7777777777777778,
              "#fb9f3a"
             ],
             [
              0.8888888888888888,
              "#fdca26"
             ],
             [
              1.0,
              "#f0f921"
             ]
            ]
           }
          ],
          "mesh3d": [
           {
            "type": "mesh3d",
            "colorbar": {
             "outlinewidth": 0,
             "ticks": ""
            }
           }
          ],
          "scatter": [
           {
            "fillpattern": {
             "fillmode": "overlay",
             "size": 10,
             "solidity": 0.2
            },
            "type": "scatter"
           }
          ],
          "parcoords": [
           {
            "type": "parcoords",
            "line": {
             "colorbar": {
              "outlinewidth": 0,
              "ticks": ""
             }
            }
           }
          ],
          "scatterpolargl": [
           {
            "type": "scatterpolargl",
            "marker": {
             "colorbar": {
              "outlinewidth": 0,
              "ticks": ""
             }
            }
           }
          ],
          "bar": [
           {
            "error_x": {
             "color": "#2a3f5f"
            },
            "error_y": {
             "color": "#2a3f5f"
            },
            "marker": {
             "line": {
              "color": "#E5ECF6",
              "width": 0.5
             },
             "pattern": {
              "fillmode": "overlay",
              "size": 10,
              "solidity": 0.2
             }
            },
            "type": "bar"
           }
          ],
          "scattergeo": [
           {
            "type": "scattergeo",
            "marker": {
             "colorbar": {
              "outlinewidth": 0,
              "ticks": ""
             }
            }
           }
          ],
          "scatterpolar": [
           {
            "type": "scatterpolar",
            "marker": {
             "colorbar": {
              "outlinewidth": 0,
              "ticks": ""
             }
            }
           }
          ],
          "histogram": [
           {
            "marker": {
             "pattern": {
              "fillmode": "overlay",
              "size": 10,
              "solidity": 0.2
             }
            },
            "type": "histogram"
           }
          ],
          "scattergl": [
           {
            "type": "scattergl",
            "marker": {
             "colorbar": {
              "outlinewidth": 0,
              "ticks": ""
             }
            }
           }
          ],
          "scatter3d": [
           {
            "type": "scatter3d",
            "line": {
             "colorbar": {
              "outlinewidth": 0,
              "ticks": ""
             }
            },
            "marker": {
             "colorbar": {
              "outlinewidth": 0,
              "ticks": ""
             }
            }
           }
          ],
          "scattermapbox": [
           {
            "type": "scattermapbox",
            "marker": {
             "colorbar": {
              "outlinewidth": 0,
              "ticks": ""
             }
            }
           }
          ],
          "scatterternary": [
           {
            "type": "scatterternary",
            "marker": {
             "colorbar": {
              "outlinewidth": 0,
              "ticks": ""
             }
            }
           }
          ],
          "scattercarpet": [
           {
            "type": "scattercarpet",
            "marker": {
             "colorbar": {
              "outlinewidth": 0,
              "ticks": ""
             }
            }
           }
          ],
          "carpet": [
           {
            "aaxis": {
             "endlinecolor": "#2a3f5f",
             "gridcolor": "white",
             "linecolor": "white",
             "minorgridcolor": "white",
             "startlinecolor": "#2a3f5f"
            },
            "baxis": {
             "endlinecolor": "#2a3f5f",
             "gridcolor": "white",
             "linecolor": "white",
             "minorgridcolor": "white",
             "startlinecolor": "#2a3f5f"
            },
            "type": "carpet"
           }
          ],
          "table": [
           {
            "cells": {
             "fill": {
              "color": "#EBF0F8"
             },
             "line": {
              "color": "white"
             }
            },
            "header": {
             "fill": {
              "color": "#C8D4E3"
             },
             "line": {
              "color": "white"
             }
            },
            "type": "table"
           }
          ],
          "barpolar": [
           {
            "marker": {
             "line": {
              "color": "#E5ECF6",
              "width": 0.5
             },
             "pattern": {
              "fillmode": "overlay",
              "size": 10,
              "solidity": 0.2
             }
            },
            "type": "barpolar"
           }
          ],
          "pie": [
           {
            "automargin": true,
            "type": "pie"
           }
          ]
         },
         "layout": {
          "autotypenumbers": "strict",
          "colorway": [
           "#636efa",
           "#EF553B",
           "#00cc96",
           "#ab63fa",
           "#FFA15A",
           "#19d3f3",
           "#FF6692",
           "#B6E880",
           "#FF97FF",
           "#FECB52"
          ],
          "font": {
           "color": "#2a3f5f"
          },
          "hovermode": "closest",
          "hoverlabel": {
           "align": "left"
          },
          "paper_bgcolor": "white",
          "plot_bgcolor": "#E5ECF6",
          "polar": {
           "bgcolor": "#E5ECF6",
           "angularaxis": {
            "gridcolor": "white",
            "linecolor": "white",
            "ticks": ""
           },
           "radialaxis": {
            "gridcolor": "white",
            "linecolor": "white",
            "ticks": ""
           }
          },
          "ternary": {
           "bgcolor": "#E5ECF6",
           "aaxis": {
            "gridcolor": "white",
            "linecolor": "white",
            "ticks": ""
           },
           "baxis": {
            "gridcolor": "white",
            "linecolor": "white",
            "ticks": ""
           },
           "caxis": {
            "gridcolor": "white",
            "linecolor": "white",
            "ticks": ""
           }
          },
          "coloraxis": {
           "colorbar": {
            "outlinewidth": 0,
            "ticks": ""
           }
          },
          "colorscale": {
           "sequential": [
            [
             0.0,
             "#0d0887"
            ],
            [
             0.1111111111111111,
             "#46039f"
            ],
            [
             0.2222222222222222,
             "#7201a8"
            ],
            [
             0.3333333333333333,
             "#9c179e"
            ],
            [
             0.4444444444444444,
             "#bd3786"
            ],
            [
             0.5555555555555556,
             "#d8576b"
            ],
            [
             0.6666666666666666,
             "#ed7953"
            ],
            [
             0.7777777777777778,
             "#fb9f3a"
            ],
            [
             0.8888888888888888,
             "#fdca26"
            ],
            [
             1.0,
             "#f0f921"
            ]
           ],
           "sequentialminus": [
            [
             0.0,
             "#0d0887"
            ],
            [
             0.1111111111111111,
             "#46039f"
            ],
            [
             0.2222222222222222,
             "#7201a8"
            ],
            [
             0.3333333333333333,
             "#9c179e"
            ],
            [
             0.4444444444444444,
             "#bd3786"
            ],
            [
             0.5555555555555556,
             "#d8576b"
            ],
            [
             0.6666666666666666,
             "#ed7953"
            ],
            [
             0.7777777777777778,
             "#fb9f3a"
            ],
            [
             0.8888888888888888,
             "#fdca26"
            ],
            [
             1.0,
             "#f0f921"
            ]
           ],
           "diverging": [
            [
             0,
             "#8e0152"
            ],
            [
             0.1,
             "#c51b7d"
            ],
            [
             0.2,
             "#de77ae"
            ],
            [
             0.3,
             "#f1b6da"
            ],
            [
             0.4,
             "#fde0ef"
            ],
            [
             0.5,
             "#f7f7f7"
            ],
            [
             0.6,
             "#e6f5d0"
            ],
            [
             0.7,
             "#b8e186"
            ],
            [
             0.8,
             "#7fbc41"
            ],
            [
             0.9,
             "#4d9221"
            ],
            [
             1,
             "#276419"
            ]
           ]
          },
          "xaxis": {
           "gridcolor": "white",
           "linecolor": "white",
           "ticks": "",
           "title": {
            "standoff": 15
           },
           "zerolinecolor": "white",
           "automargin": true,
           "zerolinewidth": 2
          },
          "yaxis": {
           "gridcolor": "white",
           "linecolor": "white",
           "ticks": "",
           "title": {
            "standoff": 15
           },
           "zerolinecolor": "white",
           "automargin": true,
           "zerolinewidth": 2
          },
          "scene": {
           "xaxis": {
            "backgroundcolor": "#E5ECF6",
            "gridcolor": "white",
            "linecolor": "white",
            "showbackground": true,
            "ticks": "",
            "zerolinecolor": "white",
            "gridwidth": 2
           },
           "yaxis": {
            "backgroundcolor": "#E5ECF6",
            "gridcolor": "white",
            "linecolor": "white",
            "showbackground": true,
            "ticks": "",
            "zerolinecolor": "white",
            "gridwidth": 2
           },
           "zaxis": {
            "backgroundcolor": "#E5ECF6",
            "gridcolor": "white",
            "linecolor": "white",
            "showbackground": true,
            "ticks": "",
            "zerolinecolor": "white",
            "gridwidth": 2
           }
          },
          "shapedefaults": {
           "line": {
            "color": "#2a3f5f"
           }
          },
          "annotationdefaults": {
           "arrowcolor": "#2a3f5f",
           "arrowhead": 0,
           "arrowwidth": 1
          },
          "geo": {
           "bgcolor": "white",
           "landcolor": "#E5ECF6",
           "subunitcolor": "white",
           "showland": true,
           "showlakes": true,
           "lakecolor": "white"
          },
          "title": {
           "x": 0.05
          },
          "mapbox": {
           "style": "light"
          }
         }
        },
        "xaxis": {},
        "yaxis": {
         "range": [
          0,
          13
         ],
         "showticklabels": false
        },
        "shapes": [
         {
          "fillcolor": "rgba(0, 204, 150,0.5)",
          "line": {
           "color": "White",
           "width": 1
          },
          "type": "rect",
          "x0": 8,
          "x1": 9,
          "xref": "x",
          "y0": 0.0,
          "y1": 1.0,
          "yref": "y"
         },
         {
          "fillcolor": "rgba(0, 204, 150,0.5)",
          "line": {
           "color": "White",
           "width": 1
          },
          "type": "rect",
          "x0": 8,
          "x1": 9,
          "xref": "x",
          "y0": 1.0,
          "y1": 2.0,
          "yref": "y"
         },
         {
          "fillcolor": "rgba(0, 204, 150,0.5)",
          "line": {
           "color": "White",
           "width": 1
          },
          "type": "rect",
          "x0": 13,
          "x1": 15,
          "xref": "x",
          "y0": 0.0,
          "y1": 1.0,
          "yref": "y"
         },
         {
          "fillcolor": "rgba(0, 204, 150,0.5)",
          "line": {
           "color": "White",
           "width": 1
          },
          "type": "rect",
          "x0": 7,
          "x1": 9,
          "xref": "x",
          "y0": 2.0,
          "y1": 3.0,
          "yref": "y"
         },
         {
          "fillcolor": "rgba(0, 204, 150,0.5)",
          "line": {
           "color": "White",
           "width": 1
          },
          "type": "rect",
          "x0": 7,
          "x1": 8,
          "xref": "x",
          "y0": 0.0,
          "y1": 1.0,
          "yref": "y"
         },
         {
          "fillcolor": "rgba(0, 204, 150,0.5)",
          "line": {
           "color": "White",
           "width": 1
          },
          "type": "rect",
          "x0": 12,
          "x1": 13,
          "xref": "x",
          "y0": 0.0,
          "y1": 1.0,
          "yref": "y"
         },
         {
          "fillcolor": "rgba(0, 204, 150,0.5)",
          "line": {
           "color": "White",
           "width": 1
          },
          "type": "rect",
          "x0": 11,
          "x1": 12,
          "xref": "x",
          "y0": 0.0,
          "y1": 1.0,
          "yref": "y"
         },
         {
          "fillcolor": "rgba(0, 204, 150,0.5)",
          "line": {
           "color": "White",
           "width": 1
          },
          "type": "rect",
          "x0": 14,
          "x1": 16,
          "xref": "x",
          "y0": 1.0,
          "y1": 2.0,
          "yref": "y"
         },
         {
          "fillcolor": "rgba(0, 204, 150,0.5)",
          "line": {
           "color": "White",
           "width": 1
          },
          "type": "rect",
          "x0": 15,
          "x1": 16,
          "xref": "x",
          "y0": 0.0,
          "y1": 1.0,
          "yref": "y"
         },
         {
          "fillcolor": "rgba(0, 204, 150,0.5)",
          "line": {
           "color": "White",
           "width": 1
          },
          "type": "rect",
          "x0": 9,
          "x1": 13,
          "xref": "x",
          "y0": 1.0,
          "y1": 2.0,
          "yref": "y"
         },
         {
          "fillcolor": "rgba(0, 204, 150,0.5)",
          "line": {
           "color": "White",
           "width": 1
          },
          "type": "rect",
          "x0": 13,
          "x1": 15,
          "xref": "x",
          "y0": 2.0,
          "y1": 3.0,
          "yref": "y"
         },
         {
          "fillcolor": "rgba(0, 204, 150,0.5)",
          "line": {
           "color": "White",
           "width": 1
          },
          "type": "rect",
          "x0": 6,
          "x1": 8,
          "xref": "x",
          "y0": 1.0,
          "y1": 2.0,
          "yref": "y"
         },
         {
          "fillcolor": "rgba(0, 204, 150,0.5)",
          "line": {
           "color": "White",
           "width": 1
          },
          "type": "rect",
          "x0": 9,
          "x1": 13,
          "xref": "x",
          "y0": 2.0,
          "y1": 3.0,
          "yref": "y"
         },
         {
          "fillcolor": "rgba(0, 204, 150,0.5)",
          "line": {
           "color": "White",
           "width": 1
          },
          "type": "rect",
          "x0": 10,
          "x1": 11,
          "xref": "x",
          "y0": 0.0,
          "y1": 1.0,
          "yref": "y"
         },
         {
          "fillcolor": "rgba(0, 204, 150,0.5)",
          "line": {
           "color": "White",
           "width": 1
          },
          "type": "rect",
          "x0": 13,
          "x1": 14,
          "xref": "x",
          "y0": 1.0,
          "y1": 2.0,
          "yref": "y"
         },
         {
          "fillcolor": "rgba(0, 204, 150,0.5)",
          "line": {
           "color": "White",
           "width": 1
          },
          "type": "rect",
          "x0": 16,
          "x1": 17,
          "xref": "x",
          "y0": 0.0,
          "y1": 1.0,
          "yref": "y"
         },
         {
          "fillcolor": "rgba(0, 204, 150,0.5)",
          "line": {
           "color": "White",
           "width": 1
          },
          "type": "rect",
          "x0": 16,
          "x1": 17,
          "xref": "x",
          "y0": 1.0,
          "y1": 2.0,
          "yref": "y"
         },
         {
          "fillcolor": "rgba(0, 204, 150,0.5)",
          "line": {
           "color": "White",
           "width": 1
          },
          "type": "rect",
          "x0": 16,
          "x1": 22,
          "xref": "x",
          "y0": 2.0,
          "y1": 3.0,
          "yref": "y"
         },
         {
          "fillcolor": "rgba(0, 204, 150,0.5)",
          "line": {
           "color": "White",
           "width": 1
          },
          "type": "rect",
          "x0": 17,
          "x1": 23,
          "xref": "x",
          "y0": 0.0,
          "y1": 1.0,
          "yref": "y"
         },
         {
          "fillcolor": "rgba(0, 204, 150,0.5)",
          "line": {
           "color": "White",
           "width": 1
          },
          "type": "rect",
          "x0": 15,
          "x1": 16,
          "xref": "x",
          "y0": 2.0,
          "y1": 3.0,
          "yref": "y"
         },
         {
          "fillcolor": "rgba(0, 204, 150,0.5)",
          "line": {
           "color": "White",
           "width": 1
          },
          "type": "rect",
          "x0": 17,
          "x1": 18,
          "xref": "x",
          "y0": 1.0,
          "y1": 2.0,
          "yref": "y"
         },
         {
          "fillcolor": "rgba(0, 204, 150,0.5)",
          "line": {
           "color": "White",
           "width": 1
          },
          "type": "rect",
          "x0": 20,
          "x1": 21,
          "xref": "x",
          "y0": 1.0,
          "y1": 2.0,
          "yref": "y"
         },
         {
          "fillcolor": "rgba(0, 204, 150,0.5)",
          "line": {
           "color": "White",
           "width": 1
          },
          "type": "rect",
          "x0": 19,
          "x1": 20,
          "xref": "x",
          "y0": 1.0,
          "y1": 2.0,
          "yref": "y"
         },
         {
          "fillcolor": "rgba(0, 204, 150,0.5)",
          "line": {
           "color": "White",
           "width": 1
          },
          "type": "rect",
          "x0": 22,
          "x1": 23,
          "xref": "x",
          "y0": 1.0,
          "y1": 2.0,
          "yref": "y"
         },
         {
          "fillcolor": "rgba(0, 204, 150,0.5)",
          "line": {
           "color": "White",
           "width": 1
          },
          "type": "rect",
          "x0": 23,
          "x1": 24,
          "xref": "x",
          "y0": 0.0,
          "y1": 1.0,
          "yref": "y"
         },
         {
          "fillcolor": "rgba(0, 204, 150,0.5)",
          "line": {
           "color": "White",
           "width": 1
          },
          "type": "rect",
          "x0": 23,
          "x1": 24,
          "xref": "x",
          "y0": 1.0,
          "y1": 2.0,
          "yref": "y"
         },
         {
          "fillcolor": "rgba(0, 204, 150,0.5)",
          "line": {
           "color": "White",
           "width": 1
          },
          "type": "rect",
          "x0": 23,
          "x1": 24,
          "xref": "x",
          "y0": 2.0,
          "y1": 3.0,
          "yref": "y"
         },
         {
          "fillcolor": "rgba(239, 85, 59,0.5)",
          "line": {
           "color": "White",
           "width": 1
          },
          "type": "rect",
          "x0": 12,
          "x1": 13,
          "xref": "x",
          "y0": 3.0,
          "y1": 4.0,
          "yref": "y"
         },
         {
          "fillcolor": "rgba(239, 85, 59,0.5)",
          "line": {
           "color": "White",
           "width": 1
          },
          "type": "rect",
          "x0": 11,
          "x1": 12,
          "xref": "x",
          "y0": 3.0,
          "y1": 4.0,
          "yref": "y"
         },
         {
          "fillcolor": "rgba(239, 85, 59,0.5)",
          "line": {
           "color": "White",
           "width": 1
          },
          "type": "rect",
          "x0": 11,
          "x1": 12,
          "xref": "x",
          "y0": 4.0,
          "y1": 5.0,
          "yref": "y"
         },
         {
          "fillcolor": "rgba(239, 85, 59,0.5)",
          "line": {
           "color": "White",
           "width": 1
          },
          "type": "rect",
          "x0": 14,
          "x1": 15,
          "xref": "x",
          "y0": 3.0,
          "y1": 4.0,
          "yref": "y"
         },
         {
          "fillcolor": "rgba(239, 85, 59,0.5)",
          "line": {
           "color": "White",
           "width": 1
          },
          "type": "rect",
          "x0": 18,
          "x1": 20,
          "xref": "x",
          "y0": 3.0,
          "y1": 4.0,
          "yref": "y"
         },
         {
          "fillcolor": "rgba(239, 85, 59,0.5)",
          "line": {
           "color": "White",
           "width": 1
          },
          "type": "rect",
          "x0": 7,
          "x1": 8,
          "xref": "x",
          "y0": 3.0,
          "y1": 4.0,
          "yref": "y"
         },
         {
          "fillcolor": "rgba(239, 85, 59,0.5)",
          "line": {
           "color": "White",
           "width": 1
          },
          "type": "rect",
          "x0": 12,
          "x1": 15,
          "xref": "x",
          "y0": 4.0,
          "y1": 5.0,
          "yref": "y"
         },
         {
          "fillcolor": "rgba(239, 85, 59,0.5)",
          "line": {
           "color": "White",
           "width": 1
          },
          "type": "rect",
          "x0": 13,
          "x1": 14,
          "xref": "x",
          "y0": 3.0,
          "y1": 4.0,
          "yref": "y"
         },
         {
          "fillcolor": "rgba(239, 85, 59,0.5)",
          "line": {
           "color": "White",
           "width": 1
          },
          "type": "rect",
          "x0": 11,
          "x1": 12,
          "xref": "x",
          "y0": 5.0,
          "y1": 6.0,
          "yref": "y"
         },
         {
          "fillcolor": "rgba(239, 85, 59,0.5)",
          "line": {
           "color": "White",
           "width": 1
          },
          "type": "rect",
          "x0": 7,
          "x1": 11,
          "xref": "x",
          "y0": 4.0,
          "y1": 5.0,
          "yref": "y"
         },
         {
          "fillcolor": "rgba(239, 85, 59,0.5)",
          "line": {
           "color": "White",
           "width": 1
          },
          "type": "rect",
          "x0": 13,
          "x1": 16,
          "xref": "x",
          "y0": 5.0,
          "y1": 6.0,
          "yref": "y"
         },
         {
          "fillcolor": "rgba(239, 85, 59,0.5)",
          "line": {
           "color": "White",
           "width": 1
          },
          "type": "rect",
          "x0": 11,
          "x1": 12,
          "xref": "x",
          "y0": 6.0,
          "y1": 7.0,
          "yref": "y"
         },
         {
          "fillcolor": "rgba(239, 85, 59,0.5)",
          "line": {
           "color": "White",
           "width": 1
          },
          "type": "rect",
          "x0": 12,
          "x1": 13,
          "xref": "x",
          "y0": 5.0,
          "y1": 6.0,
          "yref": "y"
         },
         {
          "fillcolor": "rgba(239, 85, 59,0.5)",
          "line": {
           "color": "White",
           "width": 1
          },
          "type": "rect",
          "x0": 14,
          "x1": 17,
          "xref": "x",
          "y0": 6.0,
          "y1": 7.0,
          "yref": "y"
         },
         {
          "fillcolor": "rgba(239, 85, 59,0.5)",
          "line": {
           "color": "White",
           "width": 1
          },
          "type": "rect",
          "x0": 11,
          "x1": 13,
          "xref": "x",
          "y0": 7.0,
          "y1": 8.0,
          "yref": "y"
         },
         {
          "fillcolor": "rgba(239, 85, 59,0.5)",
          "line": {
           "color": "White",
           "width": 1
          },
          "type": "rect",
          "x0": 8,
          "x1": 9,
          "xref": "x",
          "y0": 3.0,
          "y1": 4.0,
          "yref": "y"
         },
         {
          "fillcolor": "rgba(239, 85, 59,0.5)",
          "line": {
           "color": "White",
           "width": 1
          },
          "type": "rect",
          "x0": 10,
          "x1": 11,
          "xref": "x",
          "y0": 3.0,
          "y1": 4.0,
          "yref": "y"
         },
         {
          "fillcolor": "rgba(239, 85, 59,0.5)",
          "line": {
           "color": "White",
           "width": 1
          },
          "type": "rect",
          "x0": 8,
          "x1": 9,
          "xref": "x",
          "y0": 5.0,
          "y1": 6.0,
          "yref": "y"
         },
         {
          "fillcolor": "rgba(239, 85, 59,0.5)",
          "line": {
           "color": "White",
           "width": 1
          },
          "type": "rect",
          "x0": 12,
          "x1": 13,
          "xref": "x",
          "y0": 6.0,
          "y1": 7.0,
          "yref": "y"
         },
         {
          "fillcolor": "rgba(239, 85, 59,0.5)",
          "line": {
           "color": "White",
           "width": 1
          },
          "type": "rect",
          "x0": 12,
          "x1": 15,
          "xref": "x",
          "y0": 8.0,
          "y1": 9.0,
          "yref": "y"
         },
         {
          "fillcolor": "rgba(239, 85, 59,0.5)",
          "line": {
           "color": "White",
           "width": 1
          },
          "type": "rect",
          "x0": 14,
          "x1": 15,
          "xref": "x",
          "y0": 7.0,
          "y1": 8.0,
          "yref": "y"
         },
         {
          "fillcolor": "rgba(239, 85, 59,0.5)",
          "line": {
           "color": "White",
           "width": 1
          },
          "type": "rect",
          "x0": 12,
          "x1": 20,
          "xref": "x",
          "y0": 9.0,
          "y1": 10.0,
          "yref": "y"
         },
         {
          "fillcolor": "rgba(239, 85, 59,0.5)",
          "line": {
           "color": "White",
           "width": 1
          },
          "type": "rect",
          "x0": 14,
          "x1": 16,
          "xref": "x",
          "y0": 10.0,
          "y1": 11.0,
          "yref": "y"
         },
         {
          "fillcolor": "rgba(239, 85, 59,0.5)",
          "line": {
           "color": "White",
           "width": 1
          },
          "type": "rect",
          "x0": 13,
          "x1": 14,
          "xref": "x",
          "y0": 6.0,
          "y1": 7.0,
          "yref": "y"
         },
         {
          "fillcolor": "rgba(239, 85, 59,0.5)",
          "line": {
           "color": "White",
           "width": 1
          },
          "type": "rect",
          "x0": 13,
          "x1": 16,
          "xref": "x",
          "y0": 11.0,
          "y1": 12.0,
          "yref": "y"
         },
         {
          "fillcolor": "rgba(239, 85, 59,0.5)",
          "line": {
           "color": "White",
           "width": 1
          },
          "type": "rect",
          "x0": 12,
          "x1": 14,
          "xref": "x",
          "y0": 10.0,
          "y1": 11.0,
          "yref": "y"
         },
         {
          "fillcolor": "rgba(239, 85, 59,0.5)",
          "line": {
           "color": "White",
           "width": 1
          },
          "type": "rect",
          "x0": 15,
          "x1": 17,
          "xref": "x",
          "y0": 3.0,
          "y1": 4.0,
          "yref": "y"
         },
         {
          "fillcolor": "rgba(239, 85, 59,0.5)",
          "line": {
           "color": "White",
           "width": 1
          },
          "type": "rect",
          "x0": 14,
          "x1": 21,
          "xref": "x",
          "y0": 12.0,
          "y1": 13.0,
          "yref": "y"
         },
         {
          "fillcolor": "rgba(239, 85, 59,0.5)",
          "line": {
           "color": "White",
           "width": 1
          },
          "type": "rect",
          "x0": 13,
          "x1": 20,
          "xref": "x",
          "y0": 13.0,
          "y1": 14.0,
          "yref": "y"
         },
         {
          "fillcolor": "rgba(239, 85, 59,0.5)",
          "line": {
           "color": "White",
           "width": 1
          },
          "type": "rect",
          "x0": 14,
          "x1": 15,
          "xref": "x",
          "y0": 14.0,
          "y1": 15.0,
          "yref": "y"
         },
         {
          "fillcolor": "rgba(239, 85, 59,0.5)",
          "line": {
           "color": "White",
           "width": 1
          },
          "type": "rect",
          "x0": 16,
          "x1": 17,
          "xref": "x",
          "y0": 4.0,
          "y1": 5.0,
          "yref": "y"
         },
         {
          "fillcolor": "rgba(239, 85, 59,0.5)",
          "line": {
           "color": "White",
           "width": 1
          },
          "type": "rect",
          "x0": 14,
          "x1": 17,
          "xref": "x",
          "y0": 15.0,
          "y1": 16.0,
          "yref": "y"
         },
         {
          "fillcolor": "rgba(239, 85, 59,0.5)",
          "line": {
           "color": "White",
           "width": 1
          },
          "type": "rect",
          "x0": 15,
          "x1": 19,
          "xref": "x",
          "y0": 7.0,
          "y1": 8.0,
          "yref": "y"
         },
         {
          "fillcolor": "rgba(239, 85, 59,0.5)",
          "line": {
           "color": "White",
           "width": 1
          },
          "type": "rect",
          "x0": 15,
          "x1": 16,
          "xref": "x",
          "y0": 4.0,
          "y1": 5.0,
          "yref": "y"
         },
         {
          "fillcolor": "rgba(239, 85, 59,0.5)",
          "line": {
           "color": "White",
           "width": 1
          },
          "type": "rect",
          "x0": 15,
          "x1": 20,
          "xref": "x",
          "y0": 8.0,
          "y1": 9.0,
          "yref": "y"
         },
         {
          "fillcolor": "rgba(239, 85, 59,0.5)",
          "line": {
           "color": "White",
           "width": 1
          },
          "type": "rect",
          "x0": 16,
          "x1": 18,
          "xref": "x",
          "y0": 5.0,
          "y1": 6.0,
          "yref": "y"
         },
         {
          "fillcolor": "rgba(239, 85, 59,0.5)",
          "line": {
           "color": "White",
           "width": 1
          },
          "type": "rect",
          "x0": 16,
          "x1": 17,
          "xref": "x",
          "y0": 10.0,
          "y1": 11.0,
          "yref": "y"
         },
         {
          "fillcolor": "rgba(239, 85, 59,0.5)",
          "line": {
           "color": "White",
           "width": 1
          },
          "type": "rect",
          "x0": 16,
          "x1": 17,
          "xref": "x",
          "y0": 11.0,
          "y1": 12.0,
          "yref": "y"
         },
         {
          "fillcolor": "rgba(239, 85, 59,0.5)",
          "line": {
           "color": "White",
           "width": 1
          },
          "type": "rect",
          "x0": 17,
          "x1": 20,
          "xref": "x",
          "y0": 4.0,
          "y1": 5.0,
          "yref": "y"
         },
         {
          "fillcolor": "rgba(239, 85, 59,0.5)",
          "line": {
           "color": "White",
           "width": 1
          },
          "type": "rect",
          "x0": 17,
          "x1": 18,
          "xref": "x",
          "y0": 3.0,
          "y1": 4.0,
          "yref": "y"
         },
         {
          "fillcolor": "rgba(239, 85, 59,0.5)",
          "line": {
           "color": "White",
           "width": 1
          },
          "type": "rect",
          "x0": 19,
          "x1": 20,
          "xref": "x",
          "y0": 5.0,
          "y1": 6.0,
          "yref": "y"
         },
         {
          "fillcolor": "rgba(239, 85, 59,0.5)",
          "line": {
           "color": "White",
           "width": 1
          },
          "type": "rect",
          "x0": 17,
          "x1": 20,
          "xref": "x",
          "y0": 6.0,
          "y1": 7.0,
          "yref": "y"
         },
         {
          "fillcolor": "rgba(239, 85, 59,0.5)",
          "line": {
           "color": "White",
           "width": 1
          },
          "type": "rect",
          "x0": 19,
          "x1": 20,
          "xref": "x",
          "y0": 7.0,
          "y1": 8.0,
          "yref": "y"
         },
         {
          "fillcolor": "rgba(239, 85, 59,0.5)",
          "line": {
           "color": "White",
           "width": 1
          },
          "type": "rect",
          "x0": 18,
          "x1": 19,
          "xref": "x",
          "y0": 5.0,
          "y1": 6.0,
          "yref": "y"
         },
         {
          "fillcolor": "rgba(239, 85, 59,0.5)",
          "line": {
           "color": "White",
           "width": 1
          },
          "type": "rect",
          "x0": 18,
          "x1": 19,
          "xref": "x",
          "y0": 10.0,
          "y1": 11.0,
          "yref": "y"
         },
         {
          "fillcolor": "rgba(239, 85, 59,0.5)",
          "line": {
           "color": "White",
           "width": 1
          },
          "type": "rect",
          "x0": 19,
          "x1": 22,
          "xref": "x",
          "y0": 10.0,
          "y1": 11.0,
          "yref": "y"
         },
         {
          "fillcolor": "rgba(239, 85, 59,0.5)",
          "line": {
           "color": "White",
           "width": 1
          },
          "type": "rect",
          "x0": 19,
          "x1": 20,
          "xref": "x",
          "y0": 11.0,
          "y1": 12.0,
          "yref": "y"
         },
         {
          "fillcolor": "rgba(239, 85, 59,0.5)",
          "line": {
           "color": "White",
           "width": 1
          },
          "type": "rect",
          "x0": 20,
          "x1": 21,
          "xref": "x",
          "y0": 3.0,
          "y1": 4.0,
          "yref": "y"
         },
         {
          "fillcolor": "rgba(239, 85, 59,0.5)",
          "line": {
           "color": "White",
           "width": 1
          },
          "type": "rect",
          "x0": 19,
          "x1": 23,
          "xref": "x",
          "y0": 14.0,
          "y1": 15.0,
          "yref": "y"
         },
         {
          "fillcolor": "rgba(239, 85, 59,0.5)",
          "line": {
           "color": "White",
           "width": 1
          },
          "type": "rect",
          "x0": 21,
          "x1": 22,
          "xref": "x",
          "y0": 3.0,
          "y1": 4.0,
          "yref": "y"
         },
         {
          "fillcolor": "rgba(239, 85, 59,0.5)",
          "line": {
           "color": "White",
           "width": 1
          },
          "type": "rect",
          "x0": 23,
          "x1": 24,
          "xref": "x",
          "y0": 3.0,
          "y1": 4.0,
          "yref": "y"
         },
         {
          "fillcolor": "rgba(239, 85, 59,0.5)",
          "line": {
           "color": "White",
           "width": 1
          },
          "type": "rect",
          "x0": 23,
          "x1": 24,
          "xref": "x",
          "y0": 4.0,
          "y1": 5.0,
          "yref": "y"
         },
         {
          "fillcolor": "rgba(0, 204, 150,1)",
          "line": {
           "color": "White",
           "width": 1
          },
          "type": "rect",
          "x0": 8,
          "x1": 9,
          "y0": 0.0,
          "y1": 0.46323569878481247,
          "xref": "x",
          "yref": "y"
         },
         {
          "fillcolor": "rgba(0, 204, 150,1)",
          "line": {
           "color": "White",
           "width": 1
          },
          "type": "rect",
          "x0": 8,
          "x1": 9,
          "y0": 1.0,
          "y1": 1.4632356987848125,
          "xref": "x",
          "yref": "y"
         },
         {
          "fillcolor": "rgba(0, 204, 150,1)",
          "line": {
           "color": "White",
           "width": 1
          },
          "type": "rect",
          "x0": 13,
          "x1": 15,
          "y0": 0.0,
          "y1": 0.46323569878481247,
          "xref": "x",
          "yref": "y"
         },
         {
          "fillcolor": "rgba(0, 204, 150,1)",
          "line": {
           "color": "White",
           "width": 1
          },
          "type": "rect",
          "x0": 7,
          "x1": 9,
          "y0": 2.0,
          "y1": 2.4632356987848123,
          "xref": "x",
          "yref": "y"
         },
         {
          "fillcolor": "rgba(0, 204, 150,1)",
          "line": {
           "color": "White",
           "width": 1
          },
          "type": "rect",
          "x0": 7,
          "x1": 8,
          "y0": 0.0,
          "y1": 0.46323569878481247,
          "xref": "x",
          "yref": "y"
         },
         {
          "fillcolor": "rgba(0, 204, 150,1)",
          "line": {
           "color": "White",
           "width": 1
          },
          "type": "rect",
          "x0": 12,
          "x1": 13,
          "y0": 0.0,
          "y1": 0.46323569878481247,
          "xref": "x",
          "yref": "y"
         },
         {
          "fillcolor": "rgba(0, 204, 150,1)",
          "line": {
           "color": "White",
           "width": 1
          },
          "type": "rect",
          "x0": 11,
          "x1": 12,
          "y0": 0.0,
          "y1": 0.46323569878481247,
          "xref": "x",
          "yref": "y"
         },
         {
          "fillcolor": "rgba(0, 204, 150,1)",
          "line": {
           "color": "White",
           "width": 1
          },
          "type": "rect",
          "x0": 14,
          "x1": 16,
          "y0": 1.0,
          "y1": 1.4632356987848125,
          "xref": "x",
          "yref": "y"
         },
         {
          "fillcolor": "rgba(0, 204, 150,1)",
          "line": {
           "color": "White",
           "width": 1
          },
          "type": "rect",
          "x0": 15,
          "x1": 16,
          "y0": 0.0,
          "y1": 0.46323569878481247,
          "xref": "x",
          "yref": "y"
         },
         {
          "fillcolor": "rgba(0, 204, 150,1)",
          "line": {
           "color": "White",
           "width": 1
          },
          "type": "rect",
          "x0": 9,
          "x1": 13,
          "y0": 1.0,
          "y1": 1.4632356987848125,
          "xref": "x",
          "yref": "y"
         },
         {
          "fillcolor": "rgba(0, 204, 150,1)",
          "line": {
           "color": "White",
           "width": 1
          },
          "type": "rect",
          "x0": 13,
          "x1": 15,
          "y0": 2.0,
          "y1": 2.4632356987848123,
          "xref": "x",
          "yref": "y"
         },
         {
          "fillcolor": "rgba(0, 204, 150,1)",
          "line": {
           "color": "White",
           "width": 1
          },
          "type": "rect",
          "x0": 6,
          "x1": 8,
          "y0": 1.0,
          "y1": 1.4632356987848125,
          "xref": "x",
          "yref": "y"
         },
         {
          "fillcolor": "rgba(0, 204, 150,1)",
          "line": {
           "color": "White",
           "width": 1
          },
          "type": "rect",
          "x0": 9,
          "x1": 13,
          "y0": 2.0,
          "y1": 2.4632356987848123,
          "xref": "x",
          "yref": "y"
         },
         {
          "fillcolor": "rgba(0, 204, 150,1)",
          "line": {
           "color": "White",
           "width": 1
          },
          "type": "rect",
          "x0": 10,
          "x1": 11,
          "y0": 0.0,
          "y1": 0.46323569878481247,
          "xref": "x",
          "yref": "y"
         },
         {
          "fillcolor": "rgba(0, 204, 150,1)",
          "line": {
           "color": "White",
           "width": 1
          },
          "type": "rect",
          "x0": 13,
          "x1": 14,
          "y0": 1.0,
          "y1": 1.4632356987848125,
          "xref": "x",
          "yref": "y"
         },
         {
          "fillcolor": "rgba(0, 204, 150,1)",
          "line": {
           "color": "White",
           "width": 1
          },
          "type": "rect",
          "x0": 16,
          "x1": 17,
          "y0": 0.0,
          "y1": 0.46323569878481247,
          "xref": "x",
          "yref": "y"
         },
         {
          "fillcolor": "rgba(0, 204, 150,1)",
          "line": {
           "color": "White",
           "width": 1
          },
          "type": "rect",
          "x0": 16,
          "x1": 17,
          "y0": 1.0,
          "y1": 1.4632356987848125,
          "xref": "x",
          "yref": "y"
         },
         {
          "fillcolor": "rgba(0, 204, 150,1)",
          "line": {
           "color": "White",
           "width": 1
          },
          "type": "rect",
          "x0": 16,
          "x1": 22,
          "y0": 2.0,
          "y1": 2.4632356987848123,
          "xref": "x",
          "yref": "y"
         },
         {
          "fillcolor": "rgba(0, 204, 150,1)",
          "line": {
           "color": "White",
           "width": 1
          },
          "type": "rect",
          "x0": 17,
          "x1": 23,
          "y0": 0.0,
          "y1": 0.4632356987848125,
          "xref": "x",
          "yref": "y"
         },
         {
          "fillcolor": "rgba(0, 204, 150,1)",
          "line": {
           "color": "White",
           "width": 1
          },
          "type": "rect",
          "x0": 15,
          "x1": 16,
          "y0": 2.0,
          "y1": 2.4632356987848123,
          "xref": "x",
          "yref": "y"
         },
         {
          "fillcolor": "rgba(0, 204, 150,1)",
          "line": {
           "color": "White",
           "width": 1
          },
          "type": "rect",
          "x0": 17,
          "x1": 18,
          "y0": 1.0,
          "y1": 1.4632356987848125,
          "xref": "x",
          "yref": "y"
         },
         {
          "fillcolor": "rgba(0, 204, 150,1)",
          "line": {
           "color": "White",
           "width": 1
          },
          "type": "rect",
          "x0": 20,
          "x1": 21,
          "y0": 1.0,
          "y1": 1.4632356987848125,
          "xref": "x",
          "yref": "y"
         },
         {
          "fillcolor": "rgba(0, 204, 150,1)",
          "line": {
           "color": "White",
           "width": 1
          },
          "type": "rect",
          "x0": 19,
          "x1": 20,
          "y0": 1.0,
          "y1": 1.4632356987848125,
          "xref": "x",
          "yref": "y"
         },
         {
          "fillcolor": "rgba(0, 204, 150,1)",
          "line": {
           "color": "White",
           "width": 1
          },
          "type": "rect",
          "x0": 22,
          "x1": 23,
          "y0": 1.0,
          "y1": 1.4632356987848125,
          "xref": "x",
          "yref": "y"
         },
         {
          "fillcolor": "rgba(0, 204, 150,1)",
          "line": {
           "color": "White",
           "width": 1
          },
          "type": "rect",
          "x0": 23,
          "x1": 24,
          "y0": 0.0,
          "y1": 0.46323569878481247,
          "xref": "x",
          "yref": "y"
         },
         {
          "fillcolor": "rgba(0, 204, 150,1)",
          "line": {
           "color": "White",
           "width": 1
          },
          "type": "rect",
          "x0": 23,
          "x1": 24,
          "y0": 1.0,
          "y1": 1.4632356987848125,
          "xref": "x",
          "yref": "y"
         },
         {
          "fillcolor": "rgba(0, 204, 150,1)",
          "line": {
           "color": "White",
           "width": 1
          },
          "type": "rect",
          "x0": 23,
          "x1": 24,
          "y0": 2.0,
          "y1": 2.4632356987848123,
          "xref": "x",
          "yref": "y"
         }
        ],
        "margin": {
         "l": 0,
         "r": 0,
         "t": 0,
         "b": 0
        },
        "width": 800,
        "height": 400,
        "plot_bgcolor": "rgba(0, 0, 0, 0)",
        "paper_bgcolor": "rgba(0, 0, 0, 0)"
       },
       "config": {
        "plotlyServerURL": "https://plot.ly"
       }
      },
      "text/html": [
       "<div>                            <div id=\"2db922db-bc34-439c-8dad-73b13381689f\" class=\"plotly-graph-div\" style=\"height:400px; width:800px;\"></div>            <script type=\"text/javascript\">                require([\"plotly\"], function(Plotly) {                    window.PLOTLYENV=window.PLOTLYENV || {};                                    if (document.getElementById(\"2db922db-bc34-439c-8dad-73b13381689f\")) {                    Plotly.newPlot(                        \"2db922db-bc34-439c-8dad-73b13381689f\",                        [{\"fill\":\"toself\",\"mode\":\"lines\",\"name\":\"\",\"opacity\":0,\"text\":\"timestep: 1, budget: 1.1195959505999442, action: 0.8733264484321002\",\"x\":[8,9,9,8,8],\"y\":[0.0,0.0,1.0,1.0,0.0],\"type\":\"scatter\"},{\"fill\":\"toself\",\"mode\":\"lines\",\"name\":\"\",\"opacity\":0,\"text\":\"timestep: 22, budget: 1.742979002222134, action: 0.8733264484321002\",\"x\":[8,9,9,8,8],\"y\":[1.0,1.0,2.0,2.0,1.0],\"type\":\"scatter\"},{\"fill\":\"toself\",\"mode\":\"lines\",\"name\":\"\",\"opacity\":0,\"text\":\"timestep: 28, budget: 2.476104437462143, action: 0.8733264484321002\",\"x\":[13,15,15,13,13],\"y\":[0.0,0.0,1.0,1.0,0.0],\"type\":\"scatter\"},{\"fill\":\"toself\",\"mode\":\"lines\",\"name\":\"\",\"opacity\":0,\"text\":\"timestep: 32, budget: 2.825944634742748, action: 0.8733264484321002\",\"x\":[7,9,9,7,7],\"y\":[2.0,2.0,3.0,3.0,2.0],\"type\":\"scatter\"},{\"fill\":\"toself\",\"mode\":\"lines\",\"name\":\"\",\"opacity\":0,\"text\":\"timestep: 49, budget: 0.970211005867882, action: 0.8733264484321002\",\"x\":[7,8,8,7,7],\"y\":[0.0,0.0,1.0,1.0,0.0],\"type\":\"scatter\"},{\"fill\":\"toself\",\"mode\":\"lines\",\"name\":\"\",\"opacity\":0,\"text\":\"timestep: 51, budget: 0.897709638144219, action: 0.8733264484321002\",\"x\":[12,13,13,12,12],\"y\":[0.0,0.0,1.0,1.0,0.0],\"type\":\"scatter\"},{\"fill\":\"toself\",\"mode\":\"lines\",\"name\":\"\",\"opacity\":0,\"text\":\"timestep: 56, budget: 1.3496936884569708, action: 0.8733264484321002\",\"x\":[11,12,12,11,11],\"y\":[0.0,0.0,1.0,1.0,0.0],\"type\":\"scatter\"},{\"fill\":\"toself\",\"mode\":\"lines\",\"name\":\"\",\"opacity\":0,\"text\":\"timestep: 102, budget: 2.4073516070067678, action: 0.8733264484321002\",\"x\":[14,16,16,14,14],\"y\":[1.0,1.0,2.0,2.0,1.0],\"type\":\"scatter\"},{\"fill\":\"toself\",\"mode\":\"lines\",\"name\":\"\",\"opacity\":0,\"text\":\"timestep: 105, budget: 1.5648395922470189, action: 0.8733264484321002\",\"x\":[15,16,16,15,15],\"y\":[0.0,0.0,1.0,1.0,0.0],\"type\":\"scatter\"},{\"fill\":\"toself\",\"mode\":\"lines\",\"name\":\"\",\"opacity\":0,\"text\":\"timestep: 123, budget: 4.838348285211584, action: 0.8733264484321002\",\"x\":[9,13,13,9,9],\"y\":[1.0,1.0,2.0,2.0,1.0],\"type\":\"scatter\"},{\"fill\":\"toself\",\"mode\":\"lines\",\"name\":\"\",\"opacity\":0,\"text\":\"timestep: 160, budget: 2.0943510362518585, action: 0.8733264484321002\",\"x\":[13,15,15,13,13],\"y\":[2.0,2.0,3.0,3.0,2.0],\"type\":\"scatter\"},{\"fill\":\"toself\",\"mode\":\"lines\",\"name\":\"\",\"opacity\":0,\"text\":\"timestep: 161, budget: 1.895887066434752, action: 0.8733264484321002\",\"x\":[6,8,8,6,6],\"y\":[1.0,1.0,2.0,2.0,1.0],\"type\":\"scatter\"},{\"fill\":\"toself\",\"mode\":\"lines\",\"name\":\"\",\"opacity\":0,\"text\":\"timestep: 169, budget: 4.430406329196159, action: 0.8733264484321002\",\"x\":[9,13,13,9,9],\"y\":[2.0,2.0,3.0,3.0,2.0],\"type\":\"scatter\"},{\"fill\":\"toself\",\"mode\":\"lines\",\"name\":\"\",\"opacity\":0,\"text\":\"timestep: 195, budget: 1.7724783359234406, action: 0.8733264484321002\",\"x\":[10,11,11,10,10],\"y\":[0.0,0.0,1.0,1.0,0.0],\"type\":\"scatter\"},{\"fill\":\"toself\",\"mode\":\"lines\",\"name\":\"\",\"opacity\":0,\"text\":\"timestep: 220, budget: 1.478226516330889, action: 0.8733264484321002\",\"x\":[13,14,14,13,13],\"y\":[1.0,1.0,2.0,2.0,1.0],\"type\":\"scatter\"},{\"fill\":\"toself\",\"mode\":\"lines\",\"name\":\"\",\"opacity\":0,\"text\":\"timestep: 269, budget: 1.885274495733084, action: 0.8733264484321002\",\"x\":[16,17,17,16,16],\"y\":[0.0,0.0,1.0,1.0,0.0],\"type\":\"scatter\"},{\"fill\":\"toself\",\"mode\":\"lines\",\"name\":\"\",\"opacity\":0,\"text\":\"timestep: 318, budget: 1.413955154548848, action: 0.8733264484321002\",\"x\":[16,17,17,16,16],\"y\":[1.0,1.0,2.0,2.0,1.0],\"type\":\"scatter\"},{\"fill\":\"toself\",\"mode\":\"lines\",\"name\":\"\",\"opacity\":0,\"text\":\"timestep: 326, budget: 6.216570416937723, action: 0.8733264484321002\",\"x\":[16,22,22,16,16],\"y\":[2.0,2.0,3.0,3.0,2.0],\"type\":\"scatter\"},{\"fill\":\"toself\",\"mode\":\"lines\",\"name\":\"\",\"opacity\":0,\"text\":\"timestep: 328, budget: 5.935700998699732, action: 0.8733264484321002\",\"x\":[17,23,23,17,17],\"y\":[0.0,0.0,1.0,1.0,0.0],\"type\":\"scatter\"},{\"fill\":\"toself\",\"mode\":\"lines\",\"name\":\"\",\"opacity\":0,\"text\":\"timestep: 338, budget: 1.6696980625019326, action: 0.8733264484321002\",\"x\":[15,16,16,15,15],\"y\":[2.0,2.0,3.0,3.0,2.0],\"type\":\"scatter\"},{\"fill\":\"toself\",\"mode\":\"lines\",\"name\":\"\",\"opacity\":0,\"text\":\"timestep: 364, budget: 1.1959914120678603, action: 0.8733264484321002\",\"x\":[17,18,18,17,17],\"y\":[1.0,1.0,2.0,2.0,1.0],\"type\":\"scatter\"},{\"fill\":\"toself\",\"mode\":\"lines\",\"name\":\"\",\"opacity\":0,\"text\":\"timestep: 444, budget: 0.9121083801572905, action: 0.8733264484321002\",\"x\":[20,21,21,20,20],\"y\":[1.0,1.0,2.0,2.0,1.0],\"type\":\"scatter\"},{\"fill\":\"toself\",\"mode\":\"lines\",\"name\":\"\",\"opacity\":0,\"text\":\"timestep: 455, budget: 1.222412695646583, action: 0.8733264484321002\",\"x\":[19,20,20,19,19],\"y\":[1.0,1.0,2.0,2.0,1.0],\"type\":\"scatter\"},{\"fill\":\"toself\",\"mode\":\"lines\",\"name\":\"\",\"opacity\":0,\"text\":\"timestep: 550, budget: 1.3443277588507163, action: 0.8733264484321002\",\"x\":[22,23,23,22,22],\"y\":[1.0,1.0,2.0,2.0,1.0],\"type\":\"scatter\"},{\"fill\":\"toself\",\"mode\":\"lines\",\"name\":\"\",\"opacity\":0,\"text\":\"timestep: 560, budget: 1.1784389116773375, action: 0.8733264484321002\",\"x\":[23,24,24,23,23],\"y\":[0.0,0.0,1.0,1.0,0.0],\"type\":\"scatter\"},{\"fill\":\"toself\",\"mode\":\"lines\",\"name\":\"\",\"opacity\":0,\"text\":\"timestep: 570, budget: 1.3496696011969804, action: 0.8733264484321002\",\"x\":[23,24,24,23,23],\"y\":[1.0,1.0,2.0,2.0,1.0],\"type\":\"scatter\"},{\"fill\":\"toself\",\"mode\":\"lines\",\"name\":\"\",\"opacity\":0,\"text\":\"timestep: 574, budget: 1.160007534543492, action: 0.8733264484321002\",\"x\":[23,24,24,23,23],\"y\":[2.0,2.0,3.0,3.0,2.0],\"type\":\"scatter\"},{\"fill\":\"toself\",\"mode\":\"lines\",\"name\":\"\",\"opacity\":0,\"text\":\"timestep: 27, budget: 0.480913132459729, action: 0.8733264484321002\",\"x\":[12,13,13,12,12],\"y\":[3.0,3.0,4.0,4.0,3.0],\"type\":\"scatter\"},{\"fill\":\"toself\",\"mode\":\"lines\",\"name\":\"\",\"opacity\":0,\"text\":\"timestep: 50, budget: 0.3475581900790602, action: 0.8733264484321002\",\"x\":[11,12,12,11,11],\"y\":[3.0,3.0,4.0,4.0,3.0],\"type\":\"scatter\"},{\"fill\":\"toself\",\"mode\":\"lines\",\"name\":\"\",\"opacity\":0,\"text\":\"timestep: 73, budget: 0.7554757097909742, action: 0.8733264484321002\",\"x\":[11,12,12,11,11],\"y\":[4.0,4.0,5.0,5.0,4.0],\"type\":\"scatter\"},{\"fill\":\"toself\",\"mode\":\"lines\",\"name\":\"\",\"opacity\":0,\"text\":\"timestep: 85, budget: 0.4267771492632941, action: 0.8733264484321002\",\"x\":[14,15,15,14,14],\"y\":[3.0,3.0,4.0,4.0,3.0],\"type\":\"scatter\"},{\"fill\":\"toself\",\"mode\":\"lines\",\"name\":\"\",\"opacity\":0,\"text\":\"timestep: 95, budget: 1.2655249566272948, action: 0.8733264484321002\",\"x\":[18,20,20,18,18],\"y\":[3.0,3.0,4.0,4.0,3.0],\"type\":\"scatter\"},{\"fill\":\"toself\",\"mode\":\"lines\",\"name\":\"\",\"opacity\":0,\"text\":\"timestep: 101, budget: 0.630497750222799, action: 0.8733264484321002\",\"x\":[7,8,8,7,7],\"y\":[3.0,3.0,4.0,4.0,3.0],\"type\":\"scatter\"},{\"fill\":\"toself\",\"mode\":\"lines\",\"name\":\"\",\"opacity\":0,\"text\":\"timestep: 106, budget: 2.3240804205450507, action: 0.8733264484321002\",\"x\":[12,15,15,12,12],\"y\":[4.0,4.0,5.0,5.0,4.0],\"type\":\"scatter\"},{\"fill\":\"toself\",\"mode\":\"lines\",\"name\":\"\",\"opacity\":0,\"text\":\"timestep: 125, budget: 0.734001003177055, action: 0.8733264484321002\",\"x\":[13,14,14,13,13],\"y\":[3.0,3.0,4.0,4.0,3.0],\"type\":\"scatter\"},{\"fill\":\"toself\",\"mode\":\"lines\",\"name\":\"\",\"opacity\":0,\"text\":\"timestep: 156, budget: 0.2731070622991453, action: 0.8733264484321002\",\"x\":[11,12,12,11,11],\"y\":[5.0,5.0,6.0,6.0,5.0],\"type\":\"scatter\"},{\"fill\":\"toself\",\"mode\":\"lines\",\"name\":\"\",\"opacity\":0,\"text\":\"timestep: 181, budget: 5.012492124970704, action: 0.8733264484321002\",\"x\":[7,11,11,7,7],\"y\":[4.0,4.0,5.0,5.0,4.0],\"type\":\"scatter\"},{\"fill\":\"toself\",\"mode\":\"lines\",\"name\":\"\",\"opacity\":0,\"text\":\"timestep: 187, budget: 2.2098726440170866, action: 0.8733264484321002\",\"x\":[13,16,16,13,13],\"y\":[5.0,5.0,6.0,6.0,5.0],\"type\":\"scatter\"},{\"fill\":\"toself\",\"mode\":\"lines\",\"name\":\"\",\"opacity\":0,\"text\":\"timestep: 189, budget: 1.4637720076693976, action: 0.8733264484321002\",\"x\":[11,12,12,11,11],\"y\":[6.0,6.0,7.0,7.0,6.0],\"type\":\"scatter\"},{\"fill\":\"toself\",\"mode\":\"lines\",\"name\":\"\",\"opacity\":0,\"text\":\"timestep: 202, budget: 0.9086985376594536, action: 0.8733264484321002\",\"x\":[12,13,13,12,12],\"y\":[5.0,5.0,6.0,6.0,5.0],\"type\":\"scatter\"},{\"fill\":\"toself\",\"mode\":\"lines\",\"name\":\"\",\"opacity\":0,\"text\":\"timestep: 203, budget: 2.8313422828602457, action: 0.8733264484321002\",\"x\":[14,17,17,14,14],\"y\":[6.0,6.0,7.0,7.0,6.0],\"type\":\"scatter\"},{\"fill\":\"toself\",\"mode\":\"lines\",\"name\":\"\",\"opacity\":0,\"text\":\"timestep: 205, budget: 2.2642797340302065, action: 0.8733264484321002\",\"x\":[11,13,13,11,11],\"y\":[7.0,7.0,8.0,8.0,7.0],\"type\":\"scatter\"},{\"fill\":\"toself\",\"mode\":\"lines\",\"name\":\"\",\"opacity\":0,\"text\":\"timestep: 207, budget: 0.5146602516661556, action: 0.8733264484321002\",\"x\":[8,9,9,8,8],\"y\":[3.0,3.0,4.0,4.0,3.0],\"type\":\"scatter\"},{\"fill\":\"toself\",\"mode\":\"lines\",\"name\":\"\",\"opacity\":0,\"text\":\"timestep: 211, budget: 0.799111010483703, action: 0.8733264484321002\",\"x\":[10,11,11,10,10],\"y\":[3.0,3.0,4.0,4.0,3.0],\"type\":\"scatter\"},{\"fill\":\"toself\",\"mode\":\"lines\",\"name\":\"\",\"opacity\":0,\"text\":\"timestep: 214, budget: 1.8841197950955983, action: 0.8733264484321002\",\"x\":[8,9,9,8,8],\"y\":[5.0,5.0,6.0,6.0,5.0],\"type\":\"scatter\"},{\"fill\":\"toself\",\"mode\":\"lines\",\"name\":\"\",\"opacity\":0,\"text\":\"timestep: 216, budget: 1.4600598912616003, action: 0.8733264484321002\",\"x\":[12,13,13,12,12],\"y\":[6.0,6.0,7.0,7.0,6.0],\"type\":\"scatter\"},{\"fill\":\"toself\",\"mode\":\"lines\",\"name\":\"\",\"opacity\":0,\"text\":\"timestep: 233, budget: 3.265261713972795, action: 0.8733264484321002\",\"x\":[12,15,15,12,12],\"y\":[8.0,8.0,9.0,9.0,8.0],\"type\":\"scatter\"},{\"fill\":\"toself\",\"mode\":\"lines\",\"name\":\"\",\"opacity\":0,\"text\":\"timestep: 243, budget: 1.3231476262521975, action: 0.8733264484321002\",\"x\":[14,15,15,14,14],\"y\":[7.0,7.0,8.0,8.0,7.0],\"type\":\"scatter\"},{\"fill\":\"toself\",\"mode\":\"lines\",\"name\":\"\",\"opacity\":0,\"text\":\"timestep: 257, budget: 8.353029450974713, action: 0.8733264484321002\",\"x\":[12,20,20,12,12],\"y\":[9.0,9.0,10.0,10.0,9.0],\"type\":\"scatter\"},{\"fill\":\"toself\",\"mode\":\"lines\",\"name\":\"\",\"opacity\":0,\"text\":\"timestep: 268, budget: 1.6707930170539476, action: 0.8733264484321002\",\"x\":[14,16,16,14,14],\"y\":[10.0,10.0,11.0,11.0,10.0],\"type\":\"scatter\"},{\"fill\":\"toself\",\"mode\":\"lines\",\"name\":\"\",\"opacity\":0,\"text\":\"timestep: 273, budget: 0.5085628366458383, action: 0.8733264484321002\",\"x\":[13,14,14,13,13],\"y\":[6.0,6.0,7.0,7.0,6.0],\"type\":\"scatter\"},{\"fill\":\"toself\",\"mode\":\"lines\",\"name\":\"\",\"opacity\":0,\"text\":\"timestep: 289, budget: 3.004007820978236, action: 0.8733264484321002\",\"x\":[13,16,16,13,13],\"y\":[11.0,11.0,12.0,12.0,11.0],\"type\":\"scatter\"},{\"fill\":\"toself\",\"mode\":\"lines\",\"name\":\"\",\"opacity\":0,\"text\":\"timestep: 298, budget: 1.4387964320789035, action: 0.8733264484321002\",\"x\":[12,14,14,12,12],\"y\":[10.0,10.0,11.0,11.0,10.0],\"type\":\"scatter\"},{\"fill\":\"toself\",\"mode\":\"lines\",\"name\":\"\",\"opacity\":0,\"text\":\"timestep: 321, budget: 1.2228277468413755, action: 0.8733264484321002\",\"x\":[15,17,17,15,15],\"y\":[3.0,3.0,4.0,4.0,3.0],\"type\":\"scatter\"},{\"fill\":\"toself\",\"mode\":\"lines\",\"name\":\"\",\"opacity\":0,\"text\":\"timestep: 323, budget: 7.479547346147174, action: 0.8733264484321002\",\"x\":[14,21,21,14,14],\"y\":[12.0,12.0,13.0,13.0,12.0],\"type\":\"scatter\"},{\"fill\":\"toself\",\"mode\":\"lines\",\"name\":\"\",\"opacity\":0,\"text\":\"timestep: 327, budget: 6.824212456407542, action: 0.8733264484321002\",\"x\":[13,20,20,13,13],\"y\":[13.0,13.0,14.0,14.0,13.0],\"type\":\"scatter\"},{\"fill\":\"toself\",\"mode\":\"lines\",\"name\":\"\",\"opacity\":0,\"text\":\"timestep: 334, budget: 0.9230474224874738, action: 0.8733264484321002\",\"x\":[14,15,15,14,14],\"y\":[14.0,14.0,15.0,15.0,14.0],\"type\":\"scatter\"},{\"fill\":\"toself\",\"mode\":\"lines\",\"name\":\"\",\"opacity\":0,\"text\":\"timestep: 351, budget: 0.307318362704794, action: 0.8733264484321002\",\"x\":[16,17,17,16,16],\"y\":[4.0,4.0,5.0,5.0,4.0],\"type\":\"scatter\"},{\"fill\":\"toself\",\"mode\":\"lines\",\"name\":\"\",\"opacity\":0,\"text\":\"timestep: 356, budget: 3.592671711448642, action: 0.8733264484321002\",\"x\":[14,17,17,14,14],\"y\":[15.0,15.0,16.0,16.0,15.0],\"type\":\"scatter\"},{\"fill\":\"toself\",\"mode\":\"lines\",\"name\":\"\",\"opacity\":0,\"text\":\"timestep: 359, budget: 3.4252351336627207, action: 0.8733264484321002\",\"x\":[15,19,19,15,15],\"y\":[7.0,7.0,8.0,8.0,7.0],\"type\":\"scatter\"},{\"fill\":\"toself\",\"mode\":\"lines\",\"name\":\"\",\"opacity\":0,\"text\":\"timestep: 360, budget: 1.921382595141696, action: 0.8733264484321002\",\"x\":[15,16,16,15,15],\"y\":[4.0,4.0,5.0,5.0,4.0],\"type\":\"scatter\"},{\"fill\":\"toself\",\"mode\":\"lines\",\"name\":\"\",\"opacity\":0,\"text\":\"timestep: 369, budget: 4.713057794082983, action: 0.8733264484321002\",\"x\":[15,20,20,15,15],\"y\":[8.0,8.0,9.0,9.0,8.0],\"type\":\"scatter\"},{\"fill\":\"toself\",\"mode\":\"lines\",\"name\":\"\",\"opacity\":0,\"text\":\"timestep: 384, budget: 2.205188468815932, action: 0.8733264484321002\",\"x\":[16,18,18,16,16],\"y\":[5.0,5.0,6.0,6.0,5.0],\"type\":\"scatter\"},{\"fill\":\"toself\",\"mode\":\"lines\",\"name\":\"\",\"opacity\":0,\"text\":\"timestep: 387, budget: 0.2900199170489597, action: 0.8733264484321002\",\"x\":[16,17,17,16,16],\"y\":[10.0,10.0,11.0,11.0,10.0],\"type\":\"scatter\"},{\"fill\":\"toself\",\"mode\":\"lines\",\"name\":\"\",\"opacity\":0,\"text\":\"timestep: 388, budget: 0.4512148060357154, action: 0.8733264484321002\",\"x\":[16,17,17,16,16],\"y\":[11.0,11.0,12.0,12.0,11.0],\"type\":\"scatter\"},{\"fill\":\"toself\",\"mode\":\"lines\",\"name\":\"\",\"opacity\":0,\"text\":\"timestep: 406, budget: 3.396411988572347, action: 0.8733264484321002\",\"x\":[17,20,20,17,17],\"y\":[4.0,4.0,5.0,5.0,4.0],\"type\":\"scatter\"},{\"fill\":\"toself\",\"mode\":\"lines\",\"name\":\"\",\"opacity\":0,\"text\":\"timestep: 413, budget: 0.9658007008784044, action: 0.8733264484321002\",\"x\":[17,18,18,17,17],\"y\":[3.0,3.0,4.0,4.0,3.0],\"type\":\"scatter\"},{\"fill\":\"toself\",\"mode\":\"lines\",\"name\":\"\",\"opacity\":0,\"text\":\"timestep: 424, budget: 0.8476647991169902, action: 0.8733264484321002\",\"x\":[19,20,20,19,19],\"y\":[5.0,5.0,6.0,6.0,5.0],\"type\":\"scatter\"},{\"fill\":\"toself\",\"mode\":\"lines\",\"name\":\"\",\"opacity\":0,\"text\":\"timestep: 426, budget: 2.2654227648799883, action: 0.8733264484321002\",\"x\":[17,20,20,17,17],\"y\":[6.0,6.0,7.0,7.0,6.0],\"type\":\"scatter\"},{\"fill\":\"toself\",\"mode\":\"lines\",\"name\":\"\",\"opacity\":0,\"text\":\"timestep: 427, budget: 0.7868747132203686, action: 0.8733264484321002\",\"x\":[19,20,20,19,19],\"y\":[7.0,7.0,8.0,8.0,7.0],\"type\":\"scatter\"},{\"fill\":\"toself\",\"mode\":\"lines\",\"name\":\"\",\"opacity\":0,\"text\":\"timestep: 440, budget: 0.5326906159527663, action: 0.8733264484321002\",\"x\":[18,19,19,18,18],\"y\":[5.0,5.0,6.0,6.0,5.0],\"type\":\"scatter\"},{\"fill\":\"toself\",\"mode\":\"lines\",\"name\":\"\",\"opacity\":0,\"text\":\"timestep: 452, budget: 0.7135735083349068, action: 0.8733264484321002\",\"x\":[18,19,19,18,18],\"y\":[10.0,10.0,11.0,11.0,10.0],\"type\":\"scatter\"},{\"fill\":\"toself\",\"mode\":\"lines\",\"name\":\"\",\"opacity\":0,\"text\":\"timestep: 461, budget: 2.734961081342928, action: 0.8733264484321002\",\"x\":[19,22,22,19,19],\"y\":[10.0,10.0,11.0,11.0,10.0],\"type\":\"scatter\"},{\"fill\":\"toself\",\"mode\":\"lines\",\"name\":\"\",\"opacity\":0,\"text\":\"timestep: 463, budget: 1.2010867040017497, action: 0.8733264484321002\",\"x\":[19,20,20,19,19],\"y\":[11.0,11.0,12.0,12.0,11.0],\"type\":\"scatter\"},{\"fill\":\"toself\",\"mode\":\"lines\",\"name\":\"\",\"opacity\":0,\"text\":\"timestep: 466, budget: 1.5148666038064684, action: 0.8733264484321002\",\"x\":[20,21,21,20,20],\"y\":[3.0,3.0,4.0,4.0,3.0],\"type\":\"scatter\"},{\"fill\":\"toself\",\"mode\":\"lines\",\"name\":\"\",\"opacity\":0,\"text\":\"timestep: 477, budget: 4.249768196630529, action: 0.8733264484321002\",\"x\":[19,23,23,19,19],\"y\":[14.0,14.0,15.0,15.0,14.0],\"type\":\"scatter\"},{\"fill\":\"toself\",\"mode\":\"lines\",\"name\":\"\",\"opacity\":0,\"text\":\"timestep: 503, budget: 0.6334208896691593, action: 0.8733264484321002\",\"x\":[21,22,22,21,21],\"y\":[3.0,3.0,4.0,4.0,3.0],\"type\":\"scatter\"},{\"fill\":\"toself\",\"mode\":\"lines\",\"name\":\"\",\"opacity\":0,\"text\":\"timestep: 561, budget: 0.7133696675565517, action: 0.8733264484321002\",\"x\":[23,24,24,23,23],\"y\":[3.0,3.0,4.0,4.0,3.0],\"type\":\"scatter\"},{\"fill\":\"toself\",\"mode\":\"lines\",\"name\":\"\",\"opacity\":0,\"text\":\"timestep: 565, budget: 0.8442636059968742, action: 0.8733264484321002\",\"x\":[23,24,24,23,23],\"y\":[4.0,4.0,5.0,5.0,4.0],\"type\":\"scatter\"}],                        {\"template\":{\"data\":{\"histogram2dcontour\":[{\"type\":\"histogram2dcontour\",\"colorbar\":{\"outlinewidth\":0,\"ticks\":\"\"},\"colorscale\":[[0.0,\"#0d0887\"],[0.1111111111111111,\"#46039f\"],[0.2222222222222222,\"#7201a8\"],[0.3333333333333333,\"#9c179e\"],[0.4444444444444444,\"#bd3786\"],[0.5555555555555556,\"#d8576b\"],[0.6666666666666666,\"#ed7953\"],[0.7777777777777778,\"#fb9f3a\"],[0.8888888888888888,\"#fdca26\"],[1.0,\"#f0f921\"]]}],\"choropleth\":[{\"type\":\"choropleth\",\"colorbar\":{\"outlinewidth\":0,\"ticks\":\"\"}}],\"histogram2d\":[{\"type\":\"histogram2d\",\"colorbar\":{\"outlinewidth\":0,\"ticks\":\"\"},\"colorscale\":[[0.0,\"#0d0887\"],[0.1111111111111111,\"#46039f\"],[0.2222222222222222,\"#7201a8\"],[0.3333333333333333,\"#9c179e\"],[0.4444444444444444,\"#bd3786\"],[0.5555555555555556,\"#d8576b\"],[0.6666666666666666,\"#ed7953\"],[0.7777777777777778,\"#fb9f3a\"],[0.8888888888888888,\"#fdca26\"],[1.0,\"#f0f921\"]]}],\"heatmap\":[{\"type\":\"heatmap\",\"colorbar\":{\"outlinewidth\":0,\"ticks\":\"\"},\"colorscale\":[[0.0,\"#0d0887\"],[0.1111111111111111,\"#46039f\"],[0.2222222222222222,\"#7201a8\"],[0.3333333333333333,\"#9c179e\"],[0.4444444444444444,\"#bd3786\"],[0.5555555555555556,\"#d8576b\"],[0.6666666666666666,\"#ed7953\"],[0.7777777777777778,\"#fb9f3a\"],[0.8888888888888888,\"#fdca26\"],[1.0,\"#f0f921\"]]}],\"heatmapgl\":[{\"type\":\"heatmapgl\",\"colorbar\":{\"outlinewidth\":0,\"ticks\":\"\"},\"colorscale\":[[0.0,\"#0d0887\"],[0.1111111111111111,\"#46039f\"],[0.2222222222222222,\"#7201a8\"],[0.3333333333333333,\"#9c179e\"],[0.4444444444444444,\"#bd3786\"],[0.5555555555555556,\"#d8576b\"],[0.6666666666666666,\"#ed7953\"],[0.7777777777777778,\"#fb9f3a\"],[0.8888888888888888,\"#fdca26\"],[1.0,\"#f0f921\"]]}],\"contourcarpet\":[{\"type\":\"contourcarpet\",\"colorbar\":{\"outlinewidth\":0,\"ticks\":\"\"}}],\"contour\":[{\"type\":\"contour\",\"colorbar\":{\"outlinewidth\":0,\"ticks\":\"\"},\"colorscale\":[[0.0,\"#0d0887\"],[0.1111111111111111,\"#46039f\"],[0.2222222222222222,\"#7201a8\"],[0.3333333333333333,\"#9c179e\"],[0.4444444444444444,\"#bd3786\"],[0.5555555555555556,\"#d8576b\"],[0.6666666666666666,\"#ed7953\"],[0.7777777777777778,\"#fb9f3a\"],[0.8888888888888888,\"#fdca26\"],[1.0,\"#f0f921\"]]}],\"surface\":[{\"type\":\"surface\",\"colorbar\":{\"outlinewidth\":0,\"ticks\":\"\"},\"colorscale\":[[0.0,\"#0d0887\"],[0.1111111111111111,\"#46039f\"],[0.2222222222222222,\"#7201a8\"],[0.3333333333333333,\"#9c179e\"],[0.4444444444444444,\"#bd3786\"],[0.5555555555555556,\"#d8576b\"],[0.6666666666666666,\"#ed7953\"],[0.7777777777777778,\"#fb9f3a\"],[0.8888888888888888,\"#fdca26\"],[1.0,\"#f0f921\"]]}],\"mesh3d\":[{\"type\":\"mesh3d\",\"colorbar\":{\"outlinewidth\":0,\"ticks\":\"\"}}],\"scatter\":[{\"fillpattern\":{\"fillmode\":\"overlay\",\"size\":10,\"solidity\":0.2},\"type\":\"scatter\"}],\"parcoords\":[{\"type\":\"parcoords\",\"line\":{\"colorbar\":{\"outlinewidth\":0,\"ticks\":\"\"}}}],\"scatterpolargl\":[{\"type\":\"scatterpolargl\",\"marker\":{\"colorbar\":{\"outlinewidth\":0,\"ticks\":\"\"}}}],\"bar\":[{\"error_x\":{\"color\":\"#2a3f5f\"},\"error_y\":{\"color\":\"#2a3f5f\"},\"marker\":{\"line\":{\"color\":\"#E5ECF6\",\"width\":0.5},\"pattern\":{\"fillmode\":\"overlay\",\"size\":10,\"solidity\":0.2}},\"type\":\"bar\"}],\"scattergeo\":[{\"type\":\"scattergeo\",\"marker\":{\"colorbar\":{\"outlinewidth\":0,\"ticks\":\"\"}}}],\"scatterpolar\":[{\"type\":\"scatterpolar\",\"marker\":{\"colorbar\":{\"outlinewidth\":0,\"ticks\":\"\"}}}],\"histogram\":[{\"marker\":{\"pattern\":{\"fillmode\":\"overlay\",\"size\":10,\"solidity\":0.2}},\"type\":\"histogram\"}],\"scattergl\":[{\"type\":\"scattergl\",\"marker\":{\"colorbar\":{\"outlinewidth\":0,\"ticks\":\"\"}}}],\"scatter3d\":[{\"type\":\"scatter3d\",\"line\":{\"colorbar\":{\"outlinewidth\":0,\"ticks\":\"\"}},\"marker\":{\"colorbar\":{\"outlinewidth\":0,\"ticks\":\"\"}}}],\"scattermapbox\":[{\"type\":\"scattermapbox\",\"marker\":{\"colorbar\":{\"outlinewidth\":0,\"ticks\":\"\"}}}],\"scatterternary\":[{\"type\":\"scatterternary\",\"marker\":{\"colorbar\":{\"outlinewidth\":0,\"ticks\":\"\"}}}],\"scattercarpet\":[{\"type\":\"scattercarpet\",\"marker\":{\"colorbar\":{\"outlinewidth\":0,\"ticks\":\"\"}}}],\"carpet\":[{\"aaxis\":{\"endlinecolor\":\"#2a3f5f\",\"gridcolor\":\"white\",\"linecolor\":\"white\",\"minorgridcolor\":\"white\",\"startlinecolor\":\"#2a3f5f\"},\"baxis\":{\"endlinecolor\":\"#2a3f5f\",\"gridcolor\":\"white\",\"linecolor\":\"white\",\"minorgridcolor\":\"white\",\"startlinecolor\":\"#2a3f5f\"},\"type\":\"carpet\"}],\"table\":[{\"cells\":{\"fill\":{\"color\":\"#EBF0F8\"},\"line\":{\"color\":\"white\"}},\"header\":{\"fill\":{\"color\":\"#C8D4E3\"},\"line\":{\"color\":\"white\"}},\"type\":\"table\"}],\"barpolar\":[{\"marker\":{\"line\":{\"color\":\"#E5ECF6\",\"width\":0.5},\"pattern\":{\"fillmode\":\"overlay\",\"size\":10,\"solidity\":0.2}},\"type\":\"barpolar\"}],\"pie\":[{\"automargin\":true,\"type\":\"pie\"}]},\"layout\":{\"autotypenumbers\":\"strict\",\"colorway\":[\"#636efa\",\"#EF553B\",\"#00cc96\",\"#ab63fa\",\"#FFA15A\",\"#19d3f3\",\"#FF6692\",\"#B6E880\",\"#FF97FF\",\"#FECB52\"],\"font\":{\"color\":\"#2a3f5f\"},\"hovermode\":\"closest\",\"hoverlabel\":{\"align\":\"left\"},\"paper_bgcolor\":\"white\",\"plot_bgcolor\":\"#E5ECF6\",\"polar\":{\"bgcolor\":\"#E5ECF6\",\"angularaxis\":{\"gridcolor\":\"white\",\"linecolor\":\"white\",\"ticks\":\"\"},\"radialaxis\":{\"gridcolor\":\"white\",\"linecolor\":\"white\",\"ticks\":\"\"}},\"ternary\":{\"bgcolor\":\"#E5ECF6\",\"aaxis\":{\"gridcolor\":\"white\",\"linecolor\":\"white\",\"ticks\":\"\"},\"baxis\":{\"gridcolor\":\"white\",\"linecolor\":\"white\",\"ticks\":\"\"},\"caxis\":{\"gridcolor\":\"white\",\"linecolor\":\"white\",\"ticks\":\"\"}},\"coloraxis\":{\"colorbar\":{\"outlinewidth\":0,\"ticks\":\"\"}},\"colorscale\":{\"sequential\":[[0.0,\"#0d0887\"],[0.1111111111111111,\"#46039f\"],[0.2222222222222222,\"#7201a8\"],[0.3333333333333333,\"#9c179e\"],[0.4444444444444444,\"#bd3786\"],[0.5555555555555556,\"#d8576b\"],[0.6666666666666666,\"#ed7953\"],[0.7777777777777778,\"#fb9f3a\"],[0.8888888888888888,\"#fdca26\"],[1.0,\"#f0f921\"]],\"sequentialminus\":[[0.0,\"#0d0887\"],[0.1111111111111111,\"#46039f\"],[0.2222222222222222,\"#7201a8\"],[0.3333333333333333,\"#9c179e\"],[0.4444444444444444,\"#bd3786\"],[0.5555555555555556,\"#d8576b\"],[0.6666666666666666,\"#ed7953\"],[0.7777777777777778,\"#fb9f3a\"],[0.8888888888888888,\"#fdca26\"],[1.0,\"#f0f921\"]],\"diverging\":[[0,\"#8e0152\"],[0.1,\"#c51b7d\"],[0.2,\"#de77ae\"],[0.3,\"#f1b6da\"],[0.4,\"#fde0ef\"],[0.5,\"#f7f7f7\"],[0.6,\"#e6f5d0\"],[0.7,\"#b8e186\"],[0.8,\"#7fbc41\"],[0.9,\"#4d9221\"],[1,\"#276419\"]]},\"xaxis\":{\"gridcolor\":\"white\",\"linecolor\":\"white\",\"ticks\":\"\",\"title\":{\"standoff\":15},\"zerolinecolor\":\"white\",\"automargin\":true,\"zerolinewidth\":2},\"yaxis\":{\"gridcolor\":\"white\",\"linecolor\":\"white\",\"ticks\":\"\",\"title\":{\"standoff\":15},\"zerolinecolor\":\"white\",\"automargin\":true,\"zerolinewidth\":2},\"scene\":{\"xaxis\":{\"backgroundcolor\":\"#E5ECF6\",\"gridcolor\":\"white\",\"linecolor\":\"white\",\"showbackground\":true,\"ticks\":\"\",\"zerolinecolor\":\"white\",\"gridwidth\":2},\"yaxis\":{\"backgroundcolor\":\"#E5ECF6\",\"gridcolor\":\"white\",\"linecolor\":\"white\",\"showbackground\":true,\"ticks\":\"\",\"zerolinecolor\":\"white\",\"gridwidth\":2},\"zaxis\":{\"backgroundcolor\":\"#E5ECF6\",\"gridcolor\":\"white\",\"linecolor\":\"white\",\"showbackground\":true,\"ticks\":\"\",\"zerolinecolor\":\"white\",\"gridwidth\":2}},\"shapedefaults\":{\"line\":{\"color\":\"#2a3f5f\"}},\"annotationdefaults\":{\"arrowcolor\":\"#2a3f5f\",\"arrowhead\":0,\"arrowwidth\":1},\"geo\":{\"bgcolor\":\"white\",\"landcolor\":\"#E5ECF6\",\"subunitcolor\":\"white\",\"showland\":true,\"showlakes\":true,\"lakecolor\":\"white\"},\"title\":{\"x\":0.05},\"mapbox\":{\"style\":\"light\"}}},\"xaxis\":{},\"yaxis\":{\"range\":[0,13],\"showticklabels\":false},\"shapes\":[{\"fillcolor\":\"rgba(0, 204, 150,0.5)\",\"line\":{\"color\":\"White\",\"width\":1},\"type\":\"rect\",\"x0\":8,\"x1\":9,\"xref\":\"x\",\"y0\":0.0,\"y1\":1.0,\"yref\":\"y\"},{\"fillcolor\":\"rgba(0, 204, 150,0.5)\",\"line\":{\"color\":\"White\",\"width\":1},\"type\":\"rect\",\"x0\":8,\"x1\":9,\"xref\":\"x\",\"y0\":1.0,\"y1\":2.0,\"yref\":\"y\"},{\"fillcolor\":\"rgba(0, 204, 150,0.5)\",\"line\":{\"color\":\"White\",\"width\":1},\"type\":\"rect\",\"x0\":13,\"x1\":15,\"xref\":\"x\",\"y0\":0.0,\"y1\":1.0,\"yref\":\"y\"},{\"fillcolor\":\"rgba(0, 204, 150,0.5)\",\"line\":{\"color\":\"White\",\"width\":1},\"type\":\"rect\",\"x0\":7,\"x1\":9,\"xref\":\"x\",\"y0\":2.0,\"y1\":3.0,\"yref\":\"y\"},{\"fillcolor\":\"rgba(0, 204, 150,0.5)\",\"line\":{\"color\":\"White\",\"width\":1},\"type\":\"rect\",\"x0\":7,\"x1\":8,\"xref\":\"x\",\"y0\":0.0,\"y1\":1.0,\"yref\":\"y\"},{\"fillcolor\":\"rgba(0, 204, 150,0.5)\",\"line\":{\"color\":\"White\",\"width\":1},\"type\":\"rect\",\"x0\":12,\"x1\":13,\"xref\":\"x\",\"y0\":0.0,\"y1\":1.0,\"yref\":\"y\"},{\"fillcolor\":\"rgba(0, 204, 150,0.5)\",\"line\":{\"color\":\"White\",\"width\":1},\"type\":\"rect\",\"x0\":11,\"x1\":12,\"xref\":\"x\",\"y0\":0.0,\"y1\":1.0,\"yref\":\"y\"},{\"fillcolor\":\"rgba(0, 204, 150,0.5)\",\"line\":{\"color\":\"White\",\"width\":1},\"type\":\"rect\",\"x0\":14,\"x1\":16,\"xref\":\"x\",\"y0\":1.0,\"y1\":2.0,\"yref\":\"y\"},{\"fillcolor\":\"rgba(0, 204, 150,0.5)\",\"line\":{\"color\":\"White\",\"width\":1},\"type\":\"rect\",\"x0\":15,\"x1\":16,\"xref\":\"x\",\"y0\":0.0,\"y1\":1.0,\"yref\":\"y\"},{\"fillcolor\":\"rgba(0, 204, 150,0.5)\",\"line\":{\"color\":\"White\",\"width\":1},\"type\":\"rect\",\"x0\":9,\"x1\":13,\"xref\":\"x\",\"y0\":1.0,\"y1\":2.0,\"yref\":\"y\"},{\"fillcolor\":\"rgba(0, 204, 150,0.5)\",\"line\":{\"color\":\"White\",\"width\":1},\"type\":\"rect\",\"x0\":13,\"x1\":15,\"xref\":\"x\",\"y0\":2.0,\"y1\":3.0,\"yref\":\"y\"},{\"fillcolor\":\"rgba(0, 204, 150,0.5)\",\"line\":{\"color\":\"White\",\"width\":1},\"type\":\"rect\",\"x0\":6,\"x1\":8,\"xref\":\"x\",\"y0\":1.0,\"y1\":2.0,\"yref\":\"y\"},{\"fillcolor\":\"rgba(0, 204, 150,0.5)\",\"line\":{\"color\":\"White\",\"width\":1},\"type\":\"rect\",\"x0\":9,\"x1\":13,\"xref\":\"x\",\"y0\":2.0,\"y1\":3.0,\"yref\":\"y\"},{\"fillcolor\":\"rgba(0, 204, 150,0.5)\",\"line\":{\"color\":\"White\",\"width\":1},\"type\":\"rect\",\"x0\":10,\"x1\":11,\"xref\":\"x\",\"y0\":0.0,\"y1\":1.0,\"yref\":\"y\"},{\"fillcolor\":\"rgba(0, 204, 150,0.5)\",\"line\":{\"color\":\"White\",\"width\":1},\"type\":\"rect\",\"x0\":13,\"x1\":14,\"xref\":\"x\",\"y0\":1.0,\"y1\":2.0,\"yref\":\"y\"},{\"fillcolor\":\"rgba(0, 204, 150,0.5)\",\"line\":{\"color\":\"White\",\"width\":1},\"type\":\"rect\",\"x0\":16,\"x1\":17,\"xref\":\"x\",\"y0\":0.0,\"y1\":1.0,\"yref\":\"y\"},{\"fillcolor\":\"rgba(0, 204, 150,0.5)\",\"line\":{\"color\":\"White\",\"width\":1},\"type\":\"rect\",\"x0\":16,\"x1\":17,\"xref\":\"x\",\"y0\":1.0,\"y1\":2.0,\"yref\":\"y\"},{\"fillcolor\":\"rgba(0, 204, 150,0.5)\",\"line\":{\"color\":\"White\",\"width\":1},\"type\":\"rect\",\"x0\":16,\"x1\":22,\"xref\":\"x\",\"y0\":2.0,\"y1\":3.0,\"yref\":\"y\"},{\"fillcolor\":\"rgba(0, 204, 150,0.5)\",\"line\":{\"color\":\"White\",\"width\":1},\"type\":\"rect\",\"x0\":17,\"x1\":23,\"xref\":\"x\",\"y0\":0.0,\"y1\":1.0,\"yref\":\"y\"},{\"fillcolor\":\"rgba(0, 204, 150,0.5)\",\"line\":{\"color\":\"White\",\"width\":1},\"type\":\"rect\",\"x0\":15,\"x1\":16,\"xref\":\"x\",\"y0\":2.0,\"y1\":3.0,\"yref\":\"y\"},{\"fillcolor\":\"rgba(0, 204, 150,0.5)\",\"line\":{\"color\":\"White\",\"width\":1},\"type\":\"rect\",\"x0\":17,\"x1\":18,\"xref\":\"x\",\"y0\":1.0,\"y1\":2.0,\"yref\":\"y\"},{\"fillcolor\":\"rgba(0, 204, 150,0.5)\",\"line\":{\"color\":\"White\",\"width\":1},\"type\":\"rect\",\"x0\":20,\"x1\":21,\"xref\":\"x\",\"y0\":1.0,\"y1\":2.0,\"yref\":\"y\"},{\"fillcolor\":\"rgba(0, 204, 150,0.5)\",\"line\":{\"color\":\"White\",\"width\":1},\"type\":\"rect\",\"x0\":19,\"x1\":20,\"xref\":\"x\",\"y0\":1.0,\"y1\":2.0,\"yref\":\"y\"},{\"fillcolor\":\"rgba(0, 204, 150,0.5)\",\"line\":{\"color\":\"White\",\"width\":1},\"type\":\"rect\",\"x0\":22,\"x1\":23,\"xref\":\"x\",\"y0\":1.0,\"y1\":2.0,\"yref\":\"y\"},{\"fillcolor\":\"rgba(0, 204, 150,0.5)\",\"line\":{\"color\":\"White\",\"width\":1},\"type\":\"rect\",\"x0\":23,\"x1\":24,\"xref\":\"x\",\"y0\":0.0,\"y1\":1.0,\"yref\":\"y\"},{\"fillcolor\":\"rgba(0, 204, 150,0.5)\",\"line\":{\"color\":\"White\",\"width\":1},\"type\":\"rect\",\"x0\":23,\"x1\":24,\"xref\":\"x\",\"y0\":1.0,\"y1\":2.0,\"yref\":\"y\"},{\"fillcolor\":\"rgba(0, 204, 150,0.5)\",\"line\":{\"color\":\"White\",\"width\":1},\"type\":\"rect\",\"x0\":23,\"x1\":24,\"xref\":\"x\",\"y0\":2.0,\"y1\":3.0,\"yref\":\"y\"},{\"fillcolor\":\"rgba(239, 85, 59,0.5)\",\"line\":{\"color\":\"White\",\"width\":1},\"type\":\"rect\",\"x0\":12,\"x1\":13,\"xref\":\"x\",\"y0\":3.0,\"y1\":4.0,\"yref\":\"y\"},{\"fillcolor\":\"rgba(239, 85, 59,0.5)\",\"line\":{\"color\":\"White\",\"width\":1},\"type\":\"rect\",\"x0\":11,\"x1\":12,\"xref\":\"x\",\"y0\":3.0,\"y1\":4.0,\"yref\":\"y\"},{\"fillcolor\":\"rgba(239, 85, 59,0.5)\",\"line\":{\"color\":\"White\",\"width\":1},\"type\":\"rect\",\"x0\":11,\"x1\":12,\"xref\":\"x\",\"y0\":4.0,\"y1\":5.0,\"yref\":\"y\"},{\"fillcolor\":\"rgba(239, 85, 59,0.5)\",\"line\":{\"color\":\"White\",\"width\":1},\"type\":\"rect\",\"x0\":14,\"x1\":15,\"xref\":\"x\",\"y0\":3.0,\"y1\":4.0,\"yref\":\"y\"},{\"fillcolor\":\"rgba(239, 85, 59,0.5)\",\"line\":{\"color\":\"White\",\"width\":1},\"type\":\"rect\",\"x0\":18,\"x1\":20,\"xref\":\"x\",\"y0\":3.0,\"y1\":4.0,\"yref\":\"y\"},{\"fillcolor\":\"rgba(239, 85, 59,0.5)\",\"line\":{\"color\":\"White\",\"width\":1},\"type\":\"rect\",\"x0\":7,\"x1\":8,\"xref\":\"x\",\"y0\":3.0,\"y1\":4.0,\"yref\":\"y\"},{\"fillcolor\":\"rgba(239, 85, 59,0.5)\",\"line\":{\"color\":\"White\",\"width\":1},\"type\":\"rect\",\"x0\":12,\"x1\":15,\"xref\":\"x\",\"y0\":4.0,\"y1\":5.0,\"yref\":\"y\"},{\"fillcolor\":\"rgba(239, 85, 59,0.5)\",\"line\":{\"color\":\"White\",\"width\":1},\"type\":\"rect\",\"x0\":13,\"x1\":14,\"xref\":\"x\",\"y0\":3.0,\"y1\":4.0,\"yref\":\"y\"},{\"fillcolor\":\"rgba(239, 85, 59,0.5)\",\"line\":{\"color\":\"White\",\"width\":1},\"type\":\"rect\",\"x0\":11,\"x1\":12,\"xref\":\"x\",\"y0\":5.0,\"y1\":6.0,\"yref\":\"y\"},{\"fillcolor\":\"rgba(239, 85, 59,0.5)\",\"line\":{\"color\":\"White\",\"width\":1},\"type\":\"rect\",\"x0\":7,\"x1\":11,\"xref\":\"x\",\"y0\":4.0,\"y1\":5.0,\"yref\":\"y\"},{\"fillcolor\":\"rgba(239, 85, 59,0.5)\",\"line\":{\"color\":\"White\",\"width\":1},\"type\":\"rect\",\"x0\":13,\"x1\":16,\"xref\":\"x\",\"y0\":5.0,\"y1\":6.0,\"yref\":\"y\"},{\"fillcolor\":\"rgba(239, 85, 59,0.5)\",\"line\":{\"color\":\"White\",\"width\":1},\"type\":\"rect\",\"x0\":11,\"x1\":12,\"xref\":\"x\",\"y0\":6.0,\"y1\":7.0,\"yref\":\"y\"},{\"fillcolor\":\"rgba(239, 85, 59,0.5)\",\"line\":{\"color\":\"White\",\"width\":1},\"type\":\"rect\",\"x0\":12,\"x1\":13,\"xref\":\"x\",\"y0\":5.0,\"y1\":6.0,\"yref\":\"y\"},{\"fillcolor\":\"rgba(239, 85, 59,0.5)\",\"line\":{\"color\":\"White\",\"width\":1},\"type\":\"rect\",\"x0\":14,\"x1\":17,\"xref\":\"x\",\"y0\":6.0,\"y1\":7.0,\"yref\":\"y\"},{\"fillcolor\":\"rgba(239, 85, 59,0.5)\",\"line\":{\"color\":\"White\",\"width\":1},\"type\":\"rect\",\"x0\":11,\"x1\":13,\"xref\":\"x\",\"y0\":7.0,\"y1\":8.0,\"yref\":\"y\"},{\"fillcolor\":\"rgba(239, 85, 59,0.5)\",\"line\":{\"color\":\"White\",\"width\":1},\"type\":\"rect\",\"x0\":8,\"x1\":9,\"xref\":\"x\",\"y0\":3.0,\"y1\":4.0,\"yref\":\"y\"},{\"fillcolor\":\"rgba(239, 85, 59,0.5)\",\"line\":{\"color\":\"White\",\"width\":1},\"type\":\"rect\",\"x0\":10,\"x1\":11,\"xref\":\"x\",\"y0\":3.0,\"y1\":4.0,\"yref\":\"y\"},{\"fillcolor\":\"rgba(239, 85, 59,0.5)\",\"line\":{\"color\":\"White\",\"width\":1},\"type\":\"rect\",\"x0\":8,\"x1\":9,\"xref\":\"x\",\"y0\":5.0,\"y1\":6.0,\"yref\":\"y\"},{\"fillcolor\":\"rgba(239, 85, 59,0.5)\",\"line\":{\"color\":\"White\",\"width\":1},\"type\":\"rect\",\"x0\":12,\"x1\":13,\"xref\":\"x\",\"y0\":6.0,\"y1\":7.0,\"yref\":\"y\"},{\"fillcolor\":\"rgba(239, 85, 59,0.5)\",\"line\":{\"color\":\"White\",\"width\":1},\"type\":\"rect\",\"x0\":12,\"x1\":15,\"xref\":\"x\",\"y0\":8.0,\"y1\":9.0,\"yref\":\"y\"},{\"fillcolor\":\"rgba(239, 85, 59,0.5)\",\"line\":{\"color\":\"White\",\"width\":1},\"type\":\"rect\",\"x0\":14,\"x1\":15,\"xref\":\"x\",\"y0\":7.0,\"y1\":8.0,\"yref\":\"y\"},{\"fillcolor\":\"rgba(239, 85, 59,0.5)\",\"line\":{\"color\":\"White\",\"width\":1},\"type\":\"rect\",\"x0\":12,\"x1\":20,\"xref\":\"x\",\"y0\":9.0,\"y1\":10.0,\"yref\":\"y\"},{\"fillcolor\":\"rgba(239, 85, 59,0.5)\",\"line\":{\"color\":\"White\",\"width\":1},\"type\":\"rect\",\"x0\":14,\"x1\":16,\"xref\":\"x\",\"y0\":10.0,\"y1\":11.0,\"yref\":\"y\"},{\"fillcolor\":\"rgba(239, 85, 59,0.5)\",\"line\":{\"color\":\"White\",\"width\":1},\"type\":\"rect\",\"x0\":13,\"x1\":14,\"xref\":\"x\",\"y0\":6.0,\"y1\":7.0,\"yref\":\"y\"},{\"fillcolor\":\"rgba(239, 85, 59,0.5)\",\"line\":{\"color\":\"White\",\"width\":1},\"type\":\"rect\",\"x0\":13,\"x1\":16,\"xref\":\"x\",\"y0\":11.0,\"y1\":12.0,\"yref\":\"y\"},{\"fillcolor\":\"rgba(239, 85, 59,0.5)\",\"line\":{\"color\":\"White\",\"width\":1},\"type\":\"rect\",\"x0\":12,\"x1\":14,\"xref\":\"x\",\"y0\":10.0,\"y1\":11.0,\"yref\":\"y\"},{\"fillcolor\":\"rgba(239, 85, 59,0.5)\",\"line\":{\"color\":\"White\",\"width\":1},\"type\":\"rect\",\"x0\":15,\"x1\":17,\"xref\":\"x\",\"y0\":3.0,\"y1\":4.0,\"yref\":\"y\"},{\"fillcolor\":\"rgba(239, 85, 59,0.5)\",\"line\":{\"color\":\"White\",\"width\":1},\"type\":\"rect\",\"x0\":14,\"x1\":21,\"xref\":\"x\",\"y0\":12.0,\"y1\":13.0,\"yref\":\"y\"},{\"fillcolor\":\"rgba(239, 85, 59,0.5)\",\"line\":{\"color\":\"White\",\"width\":1},\"type\":\"rect\",\"x0\":13,\"x1\":20,\"xref\":\"x\",\"y0\":13.0,\"y1\":14.0,\"yref\":\"y\"},{\"fillcolor\":\"rgba(239, 85, 59,0.5)\",\"line\":{\"color\":\"White\",\"width\":1},\"type\":\"rect\",\"x0\":14,\"x1\":15,\"xref\":\"x\",\"y0\":14.0,\"y1\":15.0,\"yref\":\"y\"},{\"fillcolor\":\"rgba(239, 85, 59,0.5)\",\"line\":{\"color\":\"White\",\"width\":1},\"type\":\"rect\",\"x0\":16,\"x1\":17,\"xref\":\"x\",\"y0\":4.0,\"y1\":5.0,\"yref\":\"y\"},{\"fillcolor\":\"rgba(239, 85, 59,0.5)\",\"line\":{\"color\":\"White\",\"width\":1},\"type\":\"rect\",\"x0\":14,\"x1\":17,\"xref\":\"x\",\"y0\":15.0,\"y1\":16.0,\"yref\":\"y\"},{\"fillcolor\":\"rgba(239, 85, 59,0.5)\",\"line\":{\"color\":\"White\",\"width\":1},\"type\":\"rect\",\"x0\":15,\"x1\":19,\"xref\":\"x\",\"y0\":7.0,\"y1\":8.0,\"yref\":\"y\"},{\"fillcolor\":\"rgba(239, 85, 59,0.5)\",\"line\":{\"color\":\"White\",\"width\":1},\"type\":\"rect\",\"x0\":15,\"x1\":16,\"xref\":\"x\",\"y0\":4.0,\"y1\":5.0,\"yref\":\"y\"},{\"fillcolor\":\"rgba(239, 85, 59,0.5)\",\"line\":{\"color\":\"White\",\"width\":1},\"type\":\"rect\",\"x0\":15,\"x1\":20,\"xref\":\"x\",\"y0\":8.0,\"y1\":9.0,\"yref\":\"y\"},{\"fillcolor\":\"rgba(239, 85, 59,0.5)\",\"line\":{\"color\":\"White\",\"width\":1},\"type\":\"rect\",\"x0\":16,\"x1\":18,\"xref\":\"x\",\"y0\":5.0,\"y1\":6.0,\"yref\":\"y\"},{\"fillcolor\":\"rgba(239, 85, 59,0.5)\",\"line\":{\"color\":\"White\",\"width\":1},\"type\":\"rect\",\"x0\":16,\"x1\":17,\"xref\":\"x\",\"y0\":10.0,\"y1\":11.0,\"yref\":\"y\"},{\"fillcolor\":\"rgba(239, 85, 59,0.5)\",\"line\":{\"color\":\"White\",\"width\":1},\"type\":\"rect\",\"x0\":16,\"x1\":17,\"xref\":\"x\",\"y0\":11.0,\"y1\":12.0,\"yref\":\"y\"},{\"fillcolor\":\"rgba(239, 85, 59,0.5)\",\"line\":{\"color\":\"White\",\"width\":1},\"type\":\"rect\",\"x0\":17,\"x1\":20,\"xref\":\"x\",\"y0\":4.0,\"y1\":5.0,\"yref\":\"y\"},{\"fillcolor\":\"rgba(239, 85, 59,0.5)\",\"line\":{\"color\":\"White\",\"width\":1},\"type\":\"rect\",\"x0\":17,\"x1\":18,\"xref\":\"x\",\"y0\":3.0,\"y1\":4.0,\"yref\":\"y\"},{\"fillcolor\":\"rgba(239, 85, 59,0.5)\",\"line\":{\"color\":\"White\",\"width\":1},\"type\":\"rect\",\"x0\":19,\"x1\":20,\"xref\":\"x\",\"y0\":5.0,\"y1\":6.0,\"yref\":\"y\"},{\"fillcolor\":\"rgba(239, 85, 59,0.5)\",\"line\":{\"color\":\"White\",\"width\":1},\"type\":\"rect\",\"x0\":17,\"x1\":20,\"xref\":\"x\",\"y0\":6.0,\"y1\":7.0,\"yref\":\"y\"},{\"fillcolor\":\"rgba(239, 85, 59,0.5)\",\"line\":{\"color\":\"White\",\"width\":1},\"type\":\"rect\",\"x0\":19,\"x1\":20,\"xref\":\"x\",\"y0\":7.0,\"y1\":8.0,\"yref\":\"y\"},{\"fillcolor\":\"rgba(239, 85, 59,0.5)\",\"line\":{\"color\":\"White\",\"width\":1},\"type\":\"rect\",\"x0\":18,\"x1\":19,\"xref\":\"x\",\"y0\":5.0,\"y1\":6.0,\"yref\":\"y\"},{\"fillcolor\":\"rgba(239, 85, 59,0.5)\",\"line\":{\"color\":\"White\",\"width\":1},\"type\":\"rect\",\"x0\":18,\"x1\":19,\"xref\":\"x\",\"y0\":10.0,\"y1\":11.0,\"yref\":\"y\"},{\"fillcolor\":\"rgba(239, 85, 59,0.5)\",\"line\":{\"color\":\"White\",\"width\":1},\"type\":\"rect\",\"x0\":19,\"x1\":22,\"xref\":\"x\",\"y0\":10.0,\"y1\":11.0,\"yref\":\"y\"},{\"fillcolor\":\"rgba(239, 85, 59,0.5)\",\"line\":{\"color\":\"White\",\"width\":1},\"type\":\"rect\",\"x0\":19,\"x1\":20,\"xref\":\"x\",\"y0\":11.0,\"y1\":12.0,\"yref\":\"y\"},{\"fillcolor\":\"rgba(239, 85, 59,0.5)\",\"line\":{\"color\":\"White\",\"width\":1},\"type\":\"rect\",\"x0\":20,\"x1\":21,\"xref\":\"x\",\"y0\":3.0,\"y1\":4.0,\"yref\":\"y\"},{\"fillcolor\":\"rgba(239, 85, 59,0.5)\",\"line\":{\"color\":\"White\",\"width\":1},\"type\":\"rect\",\"x0\":19,\"x1\":23,\"xref\":\"x\",\"y0\":14.0,\"y1\":15.0,\"yref\":\"y\"},{\"fillcolor\":\"rgba(239, 85, 59,0.5)\",\"line\":{\"color\":\"White\",\"width\":1},\"type\":\"rect\",\"x0\":21,\"x1\":22,\"xref\":\"x\",\"y0\":3.0,\"y1\":4.0,\"yref\":\"y\"},{\"fillcolor\":\"rgba(239, 85, 59,0.5)\",\"line\":{\"color\":\"White\",\"width\":1},\"type\":\"rect\",\"x0\":23,\"x1\":24,\"xref\":\"x\",\"y0\":3.0,\"y1\":4.0,\"yref\":\"y\"},{\"fillcolor\":\"rgba(239, 85, 59,0.5)\",\"line\":{\"color\":\"White\",\"width\":1},\"type\":\"rect\",\"x0\":23,\"x1\":24,\"xref\":\"x\",\"y0\":4.0,\"y1\":5.0,\"yref\":\"y\"},{\"fillcolor\":\"rgba(0, 204, 150,1)\",\"line\":{\"color\":\"White\",\"width\":1},\"type\":\"rect\",\"x0\":8,\"x1\":9,\"y0\":0.0,\"y1\":0.46323569878481247,\"xref\":\"x\",\"yref\":\"y\"},{\"fillcolor\":\"rgba(0, 204, 150,1)\",\"line\":{\"color\":\"White\",\"width\":1},\"type\":\"rect\",\"x0\":8,\"x1\":9,\"y0\":1.0,\"y1\":1.4632356987848125,\"xref\":\"x\",\"yref\":\"y\"},{\"fillcolor\":\"rgba(0, 204, 150,1)\",\"line\":{\"color\":\"White\",\"width\":1},\"type\":\"rect\",\"x0\":13,\"x1\":15,\"y0\":0.0,\"y1\":0.46323569878481247,\"xref\":\"x\",\"yref\":\"y\"},{\"fillcolor\":\"rgba(0, 204, 150,1)\",\"line\":{\"color\":\"White\",\"width\":1},\"type\":\"rect\",\"x0\":7,\"x1\":9,\"y0\":2.0,\"y1\":2.4632356987848123,\"xref\":\"x\",\"yref\":\"y\"},{\"fillcolor\":\"rgba(0, 204, 150,1)\",\"line\":{\"color\":\"White\",\"width\":1},\"type\":\"rect\",\"x0\":7,\"x1\":8,\"y0\":0.0,\"y1\":0.46323569878481247,\"xref\":\"x\",\"yref\":\"y\"},{\"fillcolor\":\"rgba(0, 204, 150,1)\",\"line\":{\"color\":\"White\",\"width\":1},\"type\":\"rect\",\"x0\":12,\"x1\":13,\"y0\":0.0,\"y1\":0.46323569878481247,\"xref\":\"x\",\"yref\":\"y\"},{\"fillcolor\":\"rgba(0, 204, 150,1)\",\"line\":{\"color\":\"White\",\"width\":1},\"type\":\"rect\",\"x0\":11,\"x1\":12,\"y0\":0.0,\"y1\":0.46323569878481247,\"xref\":\"x\",\"yref\":\"y\"},{\"fillcolor\":\"rgba(0, 204, 150,1)\",\"line\":{\"color\":\"White\",\"width\":1},\"type\":\"rect\",\"x0\":14,\"x1\":16,\"y0\":1.0,\"y1\":1.4632356987848125,\"xref\":\"x\",\"yref\":\"y\"},{\"fillcolor\":\"rgba(0, 204, 150,1)\",\"line\":{\"color\":\"White\",\"width\":1},\"type\":\"rect\",\"x0\":15,\"x1\":16,\"y0\":0.0,\"y1\":0.46323569878481247,\"xref\":\"x\",\"yref\":\"y\"},{\"fillcolor\":\"rgba(0, 204, 150,1)\",\"line\":{\"color\":\"White\",\"width\":1},\"type\":\"rect\",\"x0\":9,\"x1\":13,\"y0\":1.0,\"y1\":1.4632356987848125,\"xref\":\"x\",\"yref\":\"y\"},{\"fillcolor\":\"rgba(0, 204, 150,1)\",\"line\":{\"color\":\"White\",\"width\":1},\"type\":\"rect\",\"x0\":13,\"x1\":15,\"y0\":2.0,\"y1\":2.4632356987848123,\"xref\":\"x\",\"yref\":\"y\"},{\"fillcolor\":\"rgba(0, 204, 150,1)\",\"line\":{\"color\":\"White\",\"width\":1},\"type\":\"rect\",\"x0\":6,\"x1\":8,\"y0\":1.0,\"y1\":1.4632356987848125,\"xref\":\"x\",\"yref\":\"y\"},{\"fillcolor\":\"rgba(0, 204, 150,1)\",\"line\":{\"color\":\"White\",\"width\":1},\"type\":\"rect\",\"x0\":9,\"x1\":13,\"y0\":2.0,\"y1\":2.4632356987848123,\"xref\":\"x\",\"yref\":\"y\"},{\"fillcolor\":\"rgba(0, 204, 150,1)\",\"line\":{\"color\":\"White\",\"width\":1},\"type\":\"rect\",\"x0\":10,\"x1\":11,\"y0\":0.0,\"y1\":0.46323569878481247,\"xref\":\"x\",\"yref\":\"y\"},{\"fillcolor\":\"rgba(0, 204, 150,1)\",\"line\":{\"color\":\"White\",\"width\":1},\"type\":\"rect\",\"x0\":13,\"x1\":14,\"y0\":1.0,\"y1\":1.4632356987848125,\"xref\":\"x\",\"yref\":\"y\"},{\"fillcolor\":\"rgba(0, 204, 150,1)\",\"line\":{\"color\":\"White\",\"width\":1},\"type\":\"rect\",\"x0\":16,\"x1\":17,\"y0\":0.0,\"y1\":0.46323569878481247,\"xref\":\"x\",\"yref\":\"y\"},{\"fillcolor\":\"rgba(0, 204, 150,1)\",\"line\":{\"color\":\"White\",\"width\":1},\"type\":\"rect\",\"x0\":16,\"x1\":17,\"y0\":1.0,\"y1\":1.4632356987848125,\"xref\":\"x\",\"yref\":\"y\"},{\"fillcolor\":\"rgba(0, 204, 150,1)\",\"line\":{\"color\":\"White\",\"width\":1},\"type\":\"rect\",\"x0\":16,\"x1\":22,\"y0\":2.0,\"y1\":2.4632356987848123,\"xref\":\"x\",\"yref\":\"y\"},{\"fillcolor\":\"rgba(0, 204, 150,1)\",\"line\":{\"color\":\"White\",\"width\":1},\"type\":\"rect\",\"x0\":17,\"x1\":23,\"y0\":0.0,\"y1\":0.4632356987848125,\"xref\":\"x\",\"yref\":\"y\"},{\"fillcolor\":\"rgba(0, 204, 150,1)\",\"line\":{\"color\":\"White\",\"width\":1},\"type\":\"rect\",\"x0\":15,\"x1\":16,\"y0\":2.0,\"y1\":2.4632356987848123,\"xref\":\"x\",\"yref\":\"y\"},{\"fillcolor\":\"rgba(0, 204, 150,1)\",\"line\":{\"color\":\"White\",\"width\":1},\"type\":\"rect\",\"x0\":17,\"x1\":18,\"y0\":1.0,\"y1\":1.4632356987848125,\"xref\":\"x\",\"yref\":\"y\"},{\"fillcolor\":\"rgba(0, 204, 150,1)\",\"line\":{\"color\":\"White\",\"width\":1},\"type\":\"rect\",\"x0\":20,\"x1\":21,\"y0\":1.0,\"y1\":1.4632356987848125,\"xref\":\"x\",\"yref\":\"y\"},{\"fillcolor\":\"rgba(0, 204, 150,1)\",\"line\":{\"color\":\"White\",\"width\":1},\"type\":\"rect\",\"x0\":19,\"x1\":20,\"y0\":1.0,\"y1\":1.4632356987848125,\"xref\":\"x\",\"yref\":\"y\"},{\"fillcolor\":\"rgba(0, 204, 150,1)\",\"line\":{\"color\":\"White\",\"width\":1},\"type\":\"rect\",\"x0\":22,\"x1\":23,\"y0\":1.0,\"y1\":1.4632356987848125,\"xref\":\"x\",\"yref\":\"y\"},{\"fillcolor\":\"rgba(0, 204, 150,1)\",\"line\":{\"color\":\"White\",\"width\":1},\"type\":\"rect\",\"x0\":23,\"x1\":24,\"y0\":0.0,\"y1\":0.46323569878481247,\"xref\":\"x\",\"yref\":\"y\"},{\"fillcolor\":\"rgba(0, 204, 150,1)\",\"line\":{\"color\":\"White\",\"width\":1},\"type\":\"rect\",\"x0\":23,\"x1\":24,\"y0\":1.0,\"y1\":1.4632356987848125,\"xref\":\"x\",\"yref\":\"y\"},{\"fillcolor\":\"rgba(0, 204, 150,1)\",\"line\":{\"color\":\"White\",\"width\":1},\"type\":\"rect\",\"x0\":23,\"x1\":24,\"y0\":2.0,\"y1\":2.4632356987848123,\"xref\":\"x\",\"yref\":\"y\"}],\"margin\":{\"l\":0,\"r\":0,\"t\":0,\"b\":0},\"width\":800,\"height\":400,\"plot_bgcolor\":\"rgba(0, 0, 0, 0)\",\"paper_bgcolor\":\"rgba(0, 0, 0, 0)\"},                        {\"responsive\": true}                    ).then(function(){\n",
       "                            \n",
       "var gd = document.getElementById('2db922db-bc34-439c-8dad-73b13381689f');\n",
       "var x = new MutationObserver(function (mutations, observer) {{\n",
       "        var display = window.getComputedStyle(gd).display;\n",
       "        if (!display || display === 'none') {{\n",
       "            console.log([gd, 'removed!']);\n",
       "            Plotly.purge(gd);\n",
       "            observer.disconnect();\n",
       "        }}\n",
       "}});\n",
       "\n",
       "// Listen for the removal of the full notebook cells\n",
       "var notebookContainer = gd.closest('#notebook-container');\n",
       "if (notebookContainer) {{\n",
       "    x.observe(notebookContainer, {childList: true});\n",
       "}}\n",
       "\n",
       "// Listen for the clearing of the current output cell\n",
       "var outputEl = gd.closest('.output');\n",
       "if (outputEl) {{\n",
       "    x.observe(outputEl, {childList: true});\n",
       "}}\n",
       "\n",
       "                        })                };                });            </script>        </div>"
      ]
     },
     "metadata": {},
     "output_type": "display_data"
    }
   ],
   "execution_count": 45
  },
  {
   "metadata": {},
   "cell_type": "markdown",
   "source": "# Preparing the plot",
   "id": "2168fa000f5e2ebc"
  },
  {
   "metadata": {
    "ExecuteTime": {
     "end_time": "2024-09-24T15:26:07.981125Z",
     "start_time": "2024-09-24T15:26:07.489552Z"
    }
   },
   "cell_type": "code",
   "source": "sh = prepare_simhistory(df, tdf, 7, \"Flatrate\", 72)",
   "id": "d284a01167c143e8",
   "outputs": [
    {
     "data": {
      "text/plain": [
       "79"
      ]
     },
     "execution_count": 72,
     "metadata": {},
     "output_type": "execute_result"
    }
   ],
   "execution_count": 72
  },
  {
   "metadata": {
    "ExecuteTime": {
     "end_time": "2024-09-24T13:22:10.068144Z",
     "start_time": "2024-09-24T13:22:09.989150Z"
    }
   },
   "cell_type": "code",
   "source": [
    "textwidth = 514 # https://tex.stackexchange.com/a/678738/45744\n",
    "img_width = textwidth/2\n",
    "img_height = (img_width/6)*4 # 6:4 aspect ratio"
   ],
   "id": "b119111d05bbb6dd",
   "outputs": [],
   "execution_count": 46
  },
  {
   "metadata": {
    "ExecuteTime": {
     "end_time": "2024-09-24T13:34:59.528055Z",
     "start_time": "2024-09-24T13:34:54.565976Z"
    }
   },
   "cell_type": "code",
   "source": [
    "sh = prepare_simhistory(df, tdf, 7, \"Flatrate\", 72)\n",
    "_, _, alloc = allocation_from_simhistory(sh)\n",
    "\n",
    "fig = go.Figure()\n",
    "# Set axes properties\n",
    "# fig.update_xaxes(range=[0, 24],\n",
    "#                  showgrid=False\n",
    "#                  )\n",
    "y_range = int(alloc.allocation_row.max()) + 1\n",
    "fig.update_yaxes(range=[0, y_range])\n",
    "y_offset = 0\n",
    "fig = add_product_boxes(fig, alloc, y_offset=y_offset, fillcolor='rgba(99, 110, 250, 0.5)')\n",
    "fig.update_shapes(dict(xref='x', yref='y'))\n",
    "fig.update_layout(\n",
    "    width=img_width,  \n",
    "    height=img_height,\n",
    "    plot_bgcolor='rgba(0, 0, 0, 0)',  # Transparent background inside the plot\n",
    "    paper_bgcolor='rgba(0, 0, 0, 0)',  # Transparent background outside the plot\n",
    "    margin=dict(l=0, r=0, t=0, b=0),  # Adjust margins to make space for border\n",
    "    xaxis=dict(showticklabels=True, dtick=2, range=[6,24]),\n",
    "    yaxis=dict(showticklabels=False),\n",
    "    # Optional: Add border around the entire plot area\n",
    "    # shapes=[dict(\n",
    "    #     type='rect',\n",
    "    #     x0=0, y0=0, x1=1, y1=1,\n",
    "    #     xref='paper', yref='paper',\n",
    "    #     line=dict(color='black', width=1)\n",
    "    # )]\n",
    ")\n",
    "fig.show()\n",
    "fig.write_image(FIGROOT/\"trace_analysis\"/\"trace_analysis-trace.pdf\")"
   ],
   "id": "f12b97a5551a04a9",
   "outputs": [
    {
     "data": {
      "application/vnd.plotly.v1+json": {
       "data": [
        {
         "fill": "toself",
         "mode": "lines",
         "name": "",
         "opacity": 0,
         "text": "timestep: 1, budget: 1.1195959505999442, action: 0.8733264484321002",
         "x": [
          8,
          9,
          9,
          8,
          8
         ],
         "y": [
          0.0,
          0.0,
          1.0,
          1.0,
          0.0
         ],
         "type": "scatter"
        },
        {
         "fill": "toself",
         "mode": "lines",
         "name": "",
         "opacity": 0,
         "text": "timestep: 22, budget: 1.742979002222134, action: 0.8733264484321002",
         "x": [
          8,
          9,
          9,
          8,
          8
         ],
         "y": [
          1.0,
          1.0,
          2.0,
          2.0,
          1.0
         ],
         "type": "scatter"
        },
        {
         "fill": "toself",
         "mode": "lines",
         "name": "",
         "opacity": 0,
         "text": "timestep: 27, budget: 0.480913132459729, action: 0.8733264484321002",
         "x": [
          12,
          13,
          13,
          12,
          12
         ],
         "y": [
          0.0,
          0.0,
          1.0,
          1.0,
          0.0
         ],
         "type": "scatter"
        },
        {
         "fill": "toself",
         "mode": "lines",
         "name": "",
         "opacity": 0,
         "text": "timestep: 28, budget: 2.476104437462143, action: 0.8733264484321002",
         "x": [
          13,
          15,
          15,
          13,
          13
         ],
         "y": [
          0.0,
          0.0,
          1.0,
          1.0,
          0.0
         ],
         "type": "scatter"
        },
        {
         "fill": "toself",
         "mode": "lines",
         "name": "",
         "opacity": 0,
         "text": "timestep: 32, budget: 2.825944634742748, action: 0.8733264484321002",
         "x": [
          7,
          9,
          9,
          7,
          7
         ],
         "y": [
          2.0,
          2.0,
          3.0,
          3.0,
          2.0
         ],
         "type": "scatter"
        },
        {
         "fill": "toself",
         "mode": "lines",
         "name": "",
         "opacity": 0,
         "text": "timestep: 49, budget: 0.970211005867882, action: 0.8733264484321002",
         "x": [
          7,
          8,
          8,
          7,
          7
         ],
         "y": [
          0.0,
          0.0,
          1.0,
          1.0,
          0.0
         ],
         "type": "scatter"
        },
        {
         "fill": "toself",
         "mode": "lines",
         "name": "",
         "opacity": 0,
         "text": "timestep: 50, budget: 0.3475581900790602, action: 0.8733264484321002",
         "x": [
          11,
          12,
          12,
          11,
          11
         ],
         "y": [
          0.0,
          0.0,
          1.0,
          1.0,
          0.0
         ],
         "type": "scatter"
        },
        {
         "fill": "toself",
         "mode": "lines",
         "name": "",
         "opacity": 0,
         "text": "timestep: 51, budget: 0.897709638144219, action: 0.8733264484321002",
         "x": [
          12,
          13,
          13,
          12,
          12
         ],
         "y": [
          1.0,
          1.0,
          2.0,
          2.0,
          1.0
         ],
         "type": "scatter"
        },
        {
         "fill": "toself",
         "mode": "lines",
         "name": "",
         "opacity": 0,
         "text": "timestep: 56, budget: 1.3496936884569708, action: 0.8733264484321002",
         "x": [
          11,
          12,
          12,
          11,
          11
         ],
         "y": [
          1.0,
          1.0,
          2.0,
          2.0,
          1.0
         ],
         "type": "scatter"
        },
        {
         "fill": "toself",
         "mode": "lines",
         "name": "",
         "opacity": 0,
         "text": "timestep: 73, budget: 0.7554757097909742, action: 0.8733264484321002",
         "x": [
          11,
          12,
          12,
          11,
          11
         ],
         "y": [
          2.0,
          2.0,
          3.0,
          3.0,
          2.0
         ],
         "type": "scatter"
        },
        {
         "fill": "toself",
         "mode": "lines",
         "name": "",
         "opacity": 0,
         "text": "timestep: 85, budget: 0.4267771492632941, action: 0.8733264484321002",
         "x": [
          14,
          15,
          15,
          14,
          14
         ],
         "y": [
          1.0,
          1.0,
          2.0,
          2.0,
          1.0
         ],
         "type": "scatter"
        },
        {
         "fill": "toself",
         "mode": "lines",
         "name": "",
         "opacity": 0,
         "text": "timestep: 95, budget: 1.2655249566272948, action: 0.8733264484321002",
         "x": [
          18,
          20,
          20,
          18,
          18
         ],
         "y": [
          0.0,
          0.0,
          1.0,
          1.0,
          0.0
         ],
         "type": "scatter"
        },
        {
         "fill": "toself",
         "mode": "lines",
         "name": "",
         "opacity": 0,
         "text": "timestep: 101, budget: 0.630497750222799, action: 0.8733264484321002",
         "x": [
          7,
          8,
          8,
          7,
          7
         ],
         "y": [
          1.0,
          1.0,
          2.0,
          2.0,
          1.0
         ],
         "type": "scatter"
        },
        {
         "fill": "toself",
         "mode": "lines",
         "name": "",
         "opacity": 0,
         "text": "timestep: 102, budget: 2.4073516070067678, action: 0.8733264484321002",
         "x": [
          14,
          16,
          16,
          14,
          14
         ],
         "y": [
          2.0,
          2.0,
          3.0,
          3.0,
          2.0
         ],
         "type": "scatter"
        },
        {
         "fill": "toself",
         "mode": "lines",
         "name": "",
         "opacity": 0,
         "text": "timestep: 105, budget: 1.5648395922470189, action: 0.8733264484321002",
         "x": [
          15,
          16,
          16,
          15,
          15
         ],
         "y": [
          0.0,
          0.0,
          1.0,
          1.0,
          0.0
         ],
         "type": "scatter"
        },
        {
         "fill": "toself",
         "mode": "lines",
         "name": "",
         "opacity": 0,
         "text": "timestep: 106, budget: 2.3240804205450507, action: 0.8733264484321002",
         "x": [
          12,
          15,
          15,
          12,
          12
         ],
         "y": [
          3.0,
          3.0,
          4.0,
          4.0,
          3.0
         ],
         "type": "scatter"
        },
        {
         "fill": "toself",
         "mode": "lines",
         "name": "",
         "opacity": 0,
         "text": "timestep: 123, budget: 4.838348285211584, action: 0.8733264484321002",
         "x": [
          9,
          13,
          13,
          9,
          9
         ],
         "y": [
          4.0,
          4.0,
          5.0,
          5.0,
          4.0
         ],
         "type": "scatter"
        },
        {
         "fill": "toself",
         "mode": "lines",
         "name": "",
         "opacity": 0,
         "text": "timestep: 125, budget: 0.734001003177055, action: 0.8733264484321002",
         "x": [
          13,
          14,
          14,
          13,
          13
         ],
         "y": [
          1.0,
          1.0,
          2.0,
          2.0,
          1.0
         ],
         "type": "scatter"
        },
        {
         "fill": "toself",
         "mode": "lines",
         "name": "",
         "opacity": 0,
         "text": "timestep: 156, budget: 0.2731070622991453, action: 0.8733264484321002",
         "x": [
          11,
          12,
          12,
          11,
          11
         ],
         "y": [
          3.0,
          3.0,
          4.0,
          4.0,
          3.0
         ],
         "type": "scatter"
        },
        {
         "fill": "toself",
         "mode": "lines",
         "name": "",
         "opacity": 0,
         "text": "timestep: 160, budget: 2.0943510362518585, action: 0.8733264484321002",
         "x": [
          13,
          15,
          15,
          13,
          13
         ],
         "y": [
          4.0,
          4.0,
          5.0,
          5.0,
          4.0
         ],
         "type": "scatter"
        },
        {
         "fill": "toself",
         "mode": "lines",
         "name": "",
         "opacity": 0,
         "text": "timestep: 161, budget: 1.895887066434752, action: 0.8733264484321002",
         "x": [
          6,
          8,
          8,
          6,
          6
         ],
         "y": [
          3.0,
          3.0,
          4.0,
          4.0,
          3.0
         ],
         "type": "scatter"
        },
        {
         "fill": "toself",
         "mode": "lines",
         "name": "",
         "opacity": 0,
         "text": "timestep: 169, budget: 4.430406329196159, action: 0.8733264484321002",
         "x": [
          9,
          13,
          13,
          9,
          9
         ],
         "y": [
          5.0,
          5.0,
          6.0,
          6.0,
          5.0
         ],
         "type": "scatter"
        },
        {
         "fill": "toself",
         "mode": "lines",
         "name": "",
         "opacity": 0,
         "text": "timestep: 181, budget: 5.012492124970704, action: 0.8733264484321002",
         "x": [
          7,
          11,
          11,
          7,
          7
         ],
         "y": [
          6.0,
          6.0,
          7.0,
          7.0,
          6.0
         ],
         "type": "scatter"
        },
        {
         "fill": "toself",
         "mode": "lines",
         "name": "",
         "opacity": 0,
         "text": "timestep: 187, budget: 2.2098726440170866, action: 0.8733264484321002",
         "x": [
          13,
          16,
          16,
          13,
          13
         ],
         "y": [
          5.0,
          5.0,
          6.0,
          6.0,
          5.0
         ],
         "type": "scatter"
        },
        {
         "fill": "toself",
         "mode": "lines",
         "name": "",
         "opacity": 0,
         "text": "timestep: 189, budget: 1.4637720076693976, action: 0.8733264484321002",
         "x": [
          11,
          12,
          12,
          11,
          11
         ],
         "y": [
          6.0,
          6.0,
          7.0,
          7.0,
          6.0
         ],
         "type": "scatter"
        },
        {
         "fill": "toself",
         "mode": "lines",
         "name": "",
         "opacity": 0,
         "text": "timestep: 195, budget: 1.7724783359234406, action: 0.8733264484321002",
         "x": [
          10,
          11,
          11,
          10,
          10
         ],
         "y": [
          0.0,
          0.0,
          1.0,
          1.0,
          0.0
         ],
         "type": "scatter"
        },
        {
         "fill": "toself",
         "mode": "lines",
         "name": "",
         "opacity": 0,
         "text": "timestep: 202, budget: 0.9086985376594536, action: 0.8733264484321002",
         "x": [
          12,
          13,
          13,
          12,
          12
         ],
         "y": [
          2.0,
          2.0,
          3.0,
          3.0,
          2.0
         ],
         "type": "scatter"
        },
        {
         "fill": "toself",
         "mode": "lines",
         "name": "",
         "opacity": 0,
         "text": "timestep: 203, budget: 2.8313422828602457, action: 0.8733264484321002",
         "x": [
          14,
          17,
          17,
          14,
          14
         ],
         "y": [
          6.0,
          6.0,
          7.0,
          7.0,
          6.0
         ],
         "type": "scatter"
        },
        {
         "fill": "toself",
         "mode": "lines",
         "name": "",
         "opacity": 0,
         "text": "timestep: 205, budget: 2.2642797340302065, action: 0.8733264484321002",
         "x": [
          11,
          13,
          13,
          11,
          11
         ],
         "y": [
          7.0,
          7.0,
          8.0,
          8.0,
          7.0
         ],
         "type": "scatter"
        },
        {
         "fill": "toself",
         "mode": "lines",
         "name": "",
         "opacity": 0,
         "text": "timestep: 207, budget: 0.5146602516661556, action: 0.8733264484321002",
         "x": [
          8,
          9,
          9,
          8,
          8
         ],
         "y": [
          3.0,
          3.0,
          4.0,
          4.0,
          3.0
         ],
         "type": "scatter"
        },
        {
         "fill": "toself",
         "mode": "lines",
         "name": "",
         "opacity": 0,
         "text": "timestep: 211, budget: 0.799111010483703, action: 0.8733264484321002",
         "x": [
          10,
          11,
          11,
          10,
          10
         ],
         "y": [
          1.0,
          1.0,
          2.0,
          2.0,
          1.0
         ],
         "type": "scatter"
        },
        {
         "fill": "toself",
         "mode": "lines",
         "name": "",
         "opacity": 0,
         "text": "timestep: 214, budget: 1.8841197950955983, action: 0.8733264484321002",
         "x": [
          8,
          9,
          9,
          8,
          8
         ],
         "y": [
          4.0,
          4.0,
          5.0,
          5.0,
          4.0
         ],
         "type": "scatter"
        },
        {
         "fill": "toself",
         "mode": "lines",
         "name": "",
         "opacity": 0,
         "text": "timestep: 216, budget: 1.4600598912616003, action: 0.8733264484321002",
         "x": [
          12,
          13,
          13,
          12,
          12
         ],
         "y": [
          6.0,
          6.0,
          7.0,
          7.0,
          6.0
         ],
         "type": "scatter"
        },
        {
         "fill": "toself",
         "mode": "lines",
         "name": "",
         "opacity": 0,
         "text": "timestep: 220, budget: 1.478226516330889, action: 0.8733264484321002",
         "x": [
          13,
          14,
          14,
          13,
          13
         ],
         "y": [
          2.0,
          2.0,
          3.0,
          3.0,
          2.0
         ],
         "type": "scatter"
        },
        {
         "fill": "toself",
         "mode": "lines",
         "name": "",
         "opacity": 0,
         "text": "timestep: 233, budget: 3.265261713972795, action: 0.8733264484321002",
         "x": [
          12,
          15,
          15,
          12,
          12
         ],
         "y": [
          8.0,
          8.0,
          9.0,
          9.0,
          8.0
         ],
         "type": "scatter"
        },
        {
         "fill": "toself",
         "mode": "lines",
         "name": "",
         "opacity": 0,
         "text": "timestep: 243, budget: 1.3231476262521975, action: 0.8733264484321002",
         "x": [
          14,
          15,
          15,
          14,
          14
         ],
         "y": [
          7.0,
          7.0,
          8.0,
          8.0,
          7.0
         ],
         "type": "scatter"
        },
        {
         "fill": "toself",
         "mode": "lines",
         "name": "",
         "opacity": 0,
         "text": "timestep: 257, budget: 8.353029450974713, action: 0.8733264484321002",
         "x": [
          12,
          20,
          20,
          12,
          12
         ],
         "y": [
          9.0,
          9.0,
          10.0,
          10.0,
          9.0
         ],
         "type": "scatter"
        },
        {
         "fill": "toself",
         "mode": "lines",
         "name": "",
         "opacity": 0,
         "text": "timestep: 268, budget: 1.6707930170539476, action: 0.8733264484321002",
         "x": [
          14,
          16,
          16,
          14,
          14
         ],
         "y": [
          10.0,
          10.0,
          11.0,
          11.0,
          10.0
         ],
         "type": "scatter"
        },
        {
         "fill": "toself",
         "mode": "lines",
         "name": "",
         "opacity": 0,
         "text": "timestep: 269, budget: 1.885274495733084, action: 0.8733264484321002",
         "x": [
          16,
          17,
          17,
          16,
          16
         ],
         "y": [
          0.0,
          0.0,
          1.0,
          1.0,
          0.0
         ],
         "type": "scatter"
        },
        {
         "fill": "toself",
         "mode": "lines",
         "name": "",
         "opacity": 0,
         "text": "timestep: 273, budget: 0.5085628366458383, action: 0.8733264484321002",
         "x": [
          13,
          14,
          14,
          13,
          13
         ],
         "y": [
          6.0,
          6.0,
          7.0,
          7.0,
          6.0
         ],
         "type": "scatter"
        },
        {
         "fill": "toself",
         "mode": "lines",
         "name": "",
         "opacity": 0,
         "text": "timestep: 289, budget: 3.004007820978236, action: 0.8733264484321002",
         "x": [
          13,
          16,
          16,
          13,
          13
         ],
         "y": [
          11.0,
          11.0,
          12.0,
          12.0,
          11.0
         ],
         "type": "scatter"
        },
        {
         "fill": "toself",
         "mode": "lines",
         "name": "",
         "opacity": 0,
         "text": "timestep: 298, budget: 1.4387964320789035, action: 0.8733264484321002",
         "x": [
          12,
          14,
          14,
          12,
          12
         ],
         "y": [
          10.0,
          10.0,
          11.0,
          11.0,
          10.0
         ],
         "type": "scatter"
        },
        {
         "fill": "toself",
         "mode": "lines",
         "name": "",
         "opacity": 0,
         "text": "timestep: 318, budget: 1.413955154548848, action: 0.8733264484321002",
         "x": [
          16,
          17,
          17,
          16,
          16
         ],
         "y": [
          1.0,
          1.0,
          2.0,
          2.0,
          1.0
         ],
         "type": "scatter"
        },
        {
         "fill": "toself",
         "mode": "lines",
         "name": "",
         "opacity": 0,
         "text": "timestep: 321, budget: 1.2228277468413755, action: 0.8733264484321002",
         "x": [
          15,
          17,
          17,
          15,
          15
         ],
         "y": [
          3.0,
          3.0,
          4.0,
          4.0,
          3.0
         ],
         "type": "scatter"
        },
        {
         "fill": "toself",
         "mode": "lines",
         "name": "",
         "opacity": 0,
         "text": "timestep: 323, budget: 7.479547346147174, action: 0.8733264484321002",
         "x": [
          14,
          21,
          21,
          14,
          14
         ],
         "y": [
          12.0,
          12.0,
          13.0,
          13.0,
          12.0
         ],
         "type": "scatter"
        },
        {
         "fill": "toself",
         "mode": "lines",
         "name": "",
         "opacity": 0,
         "text": "timestep: 326, budget: 6.216570416937723, action: 0.8733264484321002",
         "x": [
          16,
          22,
          22,
          16,
          16
         ],
         "y": [
          2.0,
          2.0,
          3.0,
          3.0,
          2.0
         ],
         "type": "scatter"
        },
        {
         "fill": "toself",
         "mode": "lines",
         "name": "",
         "opacity": 0,
         "text": "timestep: 327, budget: 6.824212456407542, action: 0.8733264484321002",
         "x": [
          13,
          20,
          20,
          13,
          13
         ],
         "y": [
          13.0,
          13.0,
          14.0,
          14.0,
          13.0
         ],
         "type": "scatter"
        },
        {
         "fill": "toself",
         "mode": "lines",
         "name": "",
         "opacity": 0,
         "text": "timestep: 328, budget: 5.935700998699732, action: 0.8733264484321002",
         "x": [
          17,
          23,
          23,
          17,
          17
         ],
         "y": [
          1.0,
          1.0,
          2.0,
          2.0,
          1.0
         ],
         "type": "scatter"
        },
        {
         "fill": "toself",
         "mode": "lines",
         "name": "",
         "opacity": 0,
         "text": "timestep: 334, budget: 0.9230474224874738, action: 0.8733264484321002",
         "x": [
          14,
          15,
          15,
          14,
          14
         ],
         "y": [
          14.0,
          14.0,
          15.0,
          15.0,
          14.0
         ],
         "type": "scatter"
        },
        {
         "fill": "toself",
         "mode": "lines",
         "name": "",
         "opacity": 0,
         "text": "timestep: 338, budget: 1.6696980625019326, action: 0.8733264484321002",
         "x": [
          15,
          16,
          16,
          15,
          15
         ],
         "y": [
          1.0,
          1.0,
          2.0,
          2.0,
          1.0
         ],
         "type": "scatter"
        },
        {
         "fill": "toself",
         "mode": "lines",
         "name": "",
         "opacity": 0,
         "text": "timestep: 351, budget: 0.307318362704794, action: 0.8733264484321002",
         "x": [
          16,
          17,
          17,
          16,
          16
         ],
         "y": [
          4.0,
          4.0,
          5.0,
          5.0,
          4.0
         ],
         "type": "scatter"
        },
        {
         "fill": "toself",
         "mode": "lines",
         "name": "",
         "opacity": 0,
         "text": "timestep: 356, budget: 3.592671711448642, action: 0.8733264484321002",
         "x": [
          14,
          17,
          17,
          14,
          14
         ],
         "y": [
          15.0,
          15.0,
          16.0,
          16.0,
          15.0
         ],
         "type": "scatter"
        },
        {
         "fill": "toself",
         "mode": "lines",
         "name": "",
         "opacity": 0,
         "text": "timestep: 359, budget: 3.4252351336627207, action: 0.8733264484321002",
         "x": [
          15,
          19,
          19,
          15,
          15
         ],
         "y": [
          7.0,
          7.0,
          8.0,
          8.0,
          7.0
         ],
         "type": "scatter"
        },
        {
         "fill": "toself",
         "mode": "lines",
         "name": "",
         "opacity": 0,
         "text": "timestep: 360, budget: 1.921382595141696, action: 0.8733264484321002",
         "x": [
          15,
          16,
          16,
          15,
          15
         ],
         "y": [
          4.0,
          4.0,
          5.0,
          5.0,
          4.0
         ],
         "type": "scatter"
        },
        {
         "fill": "toself",
         "mode": "lines",
         "name": "",
         "opacity": 0,
         "text": "timestep: 364, budget: 1.1959914120678603, action: 0.8733264484321002",
         "x": [
          17,
          18,
          18,
          17,
          17
         ],
         "y": [
          0.0,
          0.0,
          1.0,
          1.0,
          0.0
         ],
         "type": "scatter"
        },
        {
         "fill": "toself",
         "mode": "lines",
         "name": "",
         "opacity": 0,
         "text": "timestep: 369, budget: 4.713057794082983, action: 0.8733264484321002",
         "x": [
          15,
          20,
          20,
          15,
          15
         ],
         "y": [
          8.0,
          8.0,
          9.0,
          9.0,
          8.0
         ],
         "type": "scatter"
        },
        {
         "fill": "toself",
         "mode": "lines",
         "name": "",
         "opacity": 0,
         "text": "timestep: 384, budget: 2.205188468815932, action: 0.8733264484321002",
         "x": [
          16,
          18,
          18,
          16,
          16
         ],
         "y": [
          5.0,
          5.0,
          6.0,
          6.0,
          5.0
         ],
         "type": "scatter"
        },
        {
         "fill": "toself",
         "mode": "lines",
         "name": "",
         "opacity": 0,
         "text": "timestep: 387, budget: 0.2900199170489597, action: 0.8733264484321002",
         "x": [
          16,
          17,
          17,
          16,
          16
         ],
         "y": [
          10.0,
          10.0,
          11.0,
          11.0,
          10.0
         ],
         "type": "scatter"
        },
        {
         "fill": "toself",
         "mode": "lines",
         "name": "",
         "opacity": 0,
         "text": "timestep: 388, budget: 0.4512148060357154, action: 0.8733264484321002",
         "x": [
          16,
          17,
          17,
          16,
          16
         ],
         "y": [
          11.0,
          11.0,
          12.0,
          12.0,
          11.0
         ],
         "type": "scatter"
        },
        {
         "fill": "toself",
         "mode": "lines",
         "name": "",
         "opacity": 0,
         "text": "timestep: 406, budget: 3.396411988572347, action: 0.8733264484321002",
         "x": [
          17,
          20,
          20,
          17,
          17
         ],
         "y": [
          3.0,
          3.0,
          4.0,
          4.0,
          3.0
         ],
         "type": "scatter"
        },
        {
         "fill": "toself",
         "mode": "lines",
         "name": "",
         "opacity": 0,
         "text": "timestep: 413, budget: 0.9658007008784044, action: 0.8733264484321002",
         "x": [
          17,
          18,
          18,
          17,
          17
         ],
         "y": [
          4.0,
          4.0,
          5.0,
          5.0,
          4.0
         ],
         "type": "scatter"
        },
        {
         "fill": "toself",
         "mode": "lines",
         "name": "",
         "opacity": 0,
         "text": "timestep: 424, budget: 0.8476647991169902, action: 0.8733264484321002",
         "x": [
          19,
          20,
          20,
          19,
          19
         ],
         "y": [
          4.0,
          4.0,
          5.0,
          5.0,
          4.0
         ],
         "type": "scatter"
        },
        {
         "fill": "toself",
         "mode": "lines",
         "name": "",
         "opacity": 0,
         "text": "timestep: 426, budget: 2.2654227648799883, action: 0.8733264484321002",
         "x": [
          17,
          20,
          20,
          17,
          17
         ],
         "y": [
          6.0,
          6.0,
          7.0,
          7.0,
          6.0
         ],
         "type": "scatter"
        },
        {
         "fill": "toself",
         "mode": "lines",
         "name": "",
         "opacity": 0,
         "text": "timestep: 427, budget: 0.7868747132203686, action: 0.8733264484321002",
         "x": [
          19,
          20,
          20,
          19,
          19
         ],
         "y": [
          5.0,
          5.0,
          6.0,
          6.0,
          5.0
         ],
         "type": "scatter"
        },
        {
         "fill": "toself",
         "mode": "lines",
         "name": "",
         "opacity": 0,
         "text": "timestep: 440, budget: 0.5326906159527663, action: 0.8733264484321002",
         "x": [
          18,
          19,
          19,
          18,
          18
         ],
         "y": [
          4.0,
          4.0,
          5.0,
          5.0,
          4.0
         ],
         "type": "scatter"
        },
        {
         "fill": "toself",
         "mode": "lines",
         "name": "",
         "opacity": 0,
         "text": "timestep: 444, budget: 0.9121083801572905, action: 0.8733264484321002",
         "x": [
          20,
          21,
          21,
          20,
          20
         ],
         "y": [
          0.0,
          0.0,
          1.0,
          1.0,
          0.0
         ],
         "type": "scatter"
        },
        {
         "fill": "toself",
         "mode": "lines",
         "name": "",
         "opacity": 0,
         "text": "timestep: 452, budget: 0.7135735083349068, action: 0.8733264484321002",
         "x": [
          18,
          19,
          19,
          18,
          18
         ],
         "y": [
          5.0,
          5.0,
          6.0,
          6.0,
          5.0
         ],
         "type": "scatter"
        },
        {
         "fill": "toself",
         "mode": "lines",
         "name": "",
         "opacity": 0,
         "text": "timestep: 455, budget: 1.222412695646583, action: 0.8733264484321002",
         "x": [
          19,
          20,
          20,
          19,
          19
         ],
         "y": [
          7.0,
          7.0,
          8.0,
          8.0,
          7.0
         ],
         "type": "scatter"
        },
        {
         "fill": "toself",
         "mode": "lines",
         "name": "",
         "opacity": 0,
         "text": "timestep: 461, budget: 2.734961081342928, action: 0.8733264484321002",
         "x": [
          19,
          22,
          22,
          19,
          19
         ],
         "y": [
          10.0,
          10.0,
          11.0,
          11.0,
          10.0
         ],
         "type": "scatter"
        },
        {
         "fill": "toself",
         "mode": "lines",
         "name": "",
         "opacity": 0,
         "text": "timestep: 463, budget: 1.2010867040017497, action: 0.8733264484321002",
         "x": [
          19,
          20,
          20,
          19,
          19
         ],
         "y": [
          11.0,
          11.0,
          12.0,
          12.0,
          11.0
         ],
         "type": "scatter"
        },
        {
         "fill": "toself",
         "mode": "lines",
         "name": "",
         "opacity": 0,
         "text": "timestep: 466, budget: 1.5148666038064684, action: 0.8733264484321002",
         "x": [
          20,
          21,
          21,
          20,
          20
         ],
         "y": [
          3.0,
          3.0,
          4.0,
          4.0,
          3.0
         ],
         "type": "scatter"
        },
        {
         "fill": "toself",
         "mode": "lines",
         "name": "",
         "opacity": 0,
         "text": "timestep: 477, budget: 4.249768196630529, action: 0.8733264484321002",
         "x": [
          19,
          23,
          23,
          19,
          19
         ],
         "y": [
          14.0,
          14.0,
          15.0,
          15.0,
          14.0
         ],
         "type": "scatter"
        },
        {
         "fill": "toself",
         "mode": "lines",
         "name": "",
         "opacity": 0,
         "text": "timestep: 503, budget: 0.6334208896691593, action: 0.8733264484321002",
         "x": [
          21,
          22,
          22,
          21,
          21
         ],
         "y": [
          0.0,
          0.0,
          1.0,
          1.0,
          0.0
         ],
         "type": "scatter"
        },
        {
         "fill": "toself",
         "mode": "lines",
         "name": "",
         "opacity": 0,
         "text": "timestep: 550, budget: 1.3443277588507163, action: 0.8733264484321002",
         "x": [
          22,
          23,
          23,
          22,
          22
         ],
         "y": [
          0.0,
          0.0,
          1.0,
          1.0,
          0.0
         ],
         "type": "scatter"
        },
        {
         "fill": "toself",
         "mode": "lines",
         "name": "",
         "opacity": 0,
         "text": "timestep: 560, budget: 1.1784389116773375, action: 0.8733264484321002",
         "x": [
          23,
          24,
          24,
          23,
          23
         ],
         "y": [
          0.0,
          0.0,
          1.0,
          1.0,
          0.0
         ],
         "type": "scatter"
        },
        {
         "fill": "toself",
         "mode": "lines",
         "name": "",
         "opacity": 0,
         "text": "timestep: 561, budget: 0.7133696675565517, action: 0.8733264484321002",
         "x": [
          23,
          24,
          24,
          23,
          23
         ],
         "y": [
          1.0,
          1.0,
          2.0,
          2.0,
          1.0
         ],
         "type": "scatter"
        },
        {
         "fill": "toself",
         "mode": "lines",
         "name": "",
         "opacity": 0,
         "text": "timestep: 565, budget: 0.8442636059968742, action: 0.8733264484321002",
         "x": [
          23,
          24,
          24,
          23,
          23
         ],
         "y": [
          2.0,
          2.0,
          3.0,
          3.0,
          2.0
         ],
         "type": "scatter"
        },
        {
         "fill": "toself",
         "mode": "lines",
         "name": "",
         "opacity": 0,
         "text": "timestep: 570, budget: 1.3496696011969804, action: 0.8733264484321002",
         "x": [
          23,
          24,
          24,
          23,
          23
         ],
         "y": [
          3.0,
          3.0,
          4.0,
          4.0,
          3.0
         ],
         "type": "scatter"
        },
        {
         "fill": "toself",
         "mode": "lines",
         "name": "",
         "opacity": 0,
         "text": "timestep: 574, budget: 1.160007534543492, action: 0.8733264484321002",
         "x": [
          23,
          24,
          24,
          23,
          23
         ],
         "y": [
          4.0,
          4.0,
          5.0,
          5.0,
          4.0
         ],
         "type": "scatter"
        }
       ],
       "layout": {
        "template": {
         "data": {
          "histogram2dcontour": [
           {
            "type": "histogram2dcontour",
            "colorbar": {
             "outlinewidth": 0,
             "ticks": ""
            },
            "colorscale": [
             [
              0.0,
              "#0d0887"
             ],
             [
              0.1111111111111111,
              "#46039f"
             ],
             [
              0.2222222222222222,
              "#7201a8"
             ],
             [
              0.3333333333333333,
              "#9c179e"
             ],
             [
              0.4444444444444444,
              "#bd3786"
             ],
             [
              0.5555555555555556,
              "#d8576b"
             ],
             [
              0.6666666666666666,
              "#ed7953"
             ],
             [
              0.7777777777777778,
              "#fb9f3a"
             ],
             [
              0.8888888888888888,
              "#fdca26"
             ],
             [
              1.0,
              "#f0f921"
             ]
            ]
           }
          ],
          "choropleth": [
           {
            "type": "choropleth",
            "colorbar": {
             "outlinewidth": 0,
             "ticks": ""
            }
           }
          ],
          "histogram2d": [
           {
            "type": "histogram2d",
            "colorbar": {
             "outlinewidth": 0,
             "ticks": ""
            },
            "colorscale": [
             [
              0.0,
              "#0d0887"
             ],
             [
              0.1111111111111111,
              "#46039f"
             ],
             [
              0.2222222222222222,
              "#7201a8"
             ],
             [
              0.3333333333333333,
              "#9c179e"
             ],
             [
              0.4444444444444444,
              "#bd3786"
             ],
             [
              0.5555555555555556,
              "#d8576b"
             ],
             [
              0.6666666666666666,
              "#ed7953"
             ],
             [
              0.7777777777777778,
              "#fb9f3a"
             ],
             [
              0.8888888888888888,
              "#fdca26"
             ],
             [
              1.0,
              "#f0f921"
             ]
            ]
           }
          ],
          "heatmap": [
           {
            "type": "heatmap",
            "colorbar": {
             "outlinewidth": 0,
             "ticks": ""
            },
            "colorscale": [
             [
              0.0,
              "#0d0887"
             ],
             [
              0.1111111111111111,
              "#46039f"
             ],
             [
              0.2222222222222222,
              "#7201a8"
             ],
             [
              0.3333333333333333,
              "#9c179e"
             ],
             [
              0.4444444444444444,
              "#bd3786"
             ],
             [
              0.5555555555555556,
              "#d8576b"
             ],
             [
              0.6666666666666666,
              "#ed7953"
             ],
             [
              0.7777777777777778,
              "#fb9f3a"
             ],
             [
              0.8888888888888888,
              "#fdca26"
             ],
             [
              1.0,
              "#f0f921"
             ]
            ]
           }
          ],
          "heatmapgl": [
           {
            "type": "heatmapgl",
            "colorbar": {
             "outlinewidth": 0,
             "ticks": ""
            },
            "colorscale": [
             [
              0.0,
              "#0d0887"
             ],
             [
              0.1111111111111111,
              "#46039f"
             ],
             [
              0.2222222222222222,
              "#7201a8"
             ],
             [
              0.3333333333333333,
              "#9c179e"
             ],
             [
              0.4444444444444444,
              "#bd3786"
             ],
             [
              0.5555555555555556,
              "#d8576b"
             ],
             [
              0.6666666666666666,
              "#ed7953"
             ],
             [
              0.7777777777777778,
              "#fb9f3a"
             ],
             [
              0.8888888888888888,
              "#fdca26"
             ],
             [
              1.0,
              "#f0f921"
             ]
            ]
           }
          ],
          "contourcarpet": [
           {
            "type": "contourcarpet",
            "colorbar": {
             "outlinewidth": 0,
             "ticks": ""
            }
           }
          ],
          "contour": [
           {
            "type": "contour",
            "colorbar": {
             "outlinewidth": 0,
             "ticks": ""
            },
            "colorscale": [
             [
              0.0,
              "#0d0887"
             ],
             [
              0.1111111111111111,
              "#46039f"
             ],
             [
              0.2222222222222222,
              "#7201a8"
             ],
             [
              0.3333333333333333,
              "#9c179e"
             ],
             [
              0.4444444444444444,
              "#bd3786"
             ],
             [
              0.5555555555555556,
              "#d8576b"
             ],
             [
              0.6666666666666666,
              "#ed7953"
             ],
             [
              0.7777777777777778,
              "#fb9f3a"
             ],
             [
              0.8888888888888888,
              "#fdca26"
             ],
             [
              1.0,
              "#f0f921"
             ]
            ]
           }
          ],
          "surface": [
           {
            "type": "surface",
            "colorbar": {
             "outlinewidth": 0,
             "ticks": ""
            },
            "colorscale": [
             [
              0.0,
              "#0d0887"
             ],
             [
              0.1111111111111111,
              "#46039f"
             ],
             [
              0.2222222222222222,
              "#7201a8"
             ],
             [
              0.3333333333333333,
              "#9c179e"
             ],
             [
              0.4444444444444444,
              "#bd3786"
             ],
             [
              0.5555555555555556,
              "#d8576b"
             ],
             [
              0.6666666666666666,
              "#ed7953"
             ],
             [
              0.7777777777777778,
              "#fb9f3a"
             ],
             [
              0.8888888888888888,
              "#fdca26"
             ],
             [
              1.0,
              "#f0f921"
             ]
            ]
           }
          ],
          "mesh3d": [
           {
            "type": "mesh3d",
            "colorbar": {
             "outlinewidth": 0,
             "ticks": ""
            }
           }
          ],
          "scatter": [
           {
            "fillpattern": {
             "fillmode": "overlay",
             "size": 10,
             "solidity": 0.2
            },
            "type": "scatter"
           }
          ],
          "parcoords": [
           {
            "type": "parcoords",
            "line": {
             "colorbar": {
              "outlinewidth": 0,
              "ticks": ""
             }
            }
           }
          ],
          "scatterpolargl": [
           {
            "type": "scatterpolargl",
            "marker": {
             "colorbar": {
              "outlinewidth": 0,
              "ticks": ""
             }
            }
           }
          ],
          "bar": [
           {
            "error_x": {
             "color": "#2a3f5f"
            },
            "error_y": {
             "color": "#2a3f5f"
            },
            "marker": {
             "line": {
              "color": "#E5ECF6",
              "width": 0.5
             },
             "pattern": {
              "fillmode": "overlay",
              "size": 10,
              "solidity": 0.2
             }
            },
            "type": "bar"
           }
          ],
          "scattergeo": [
           {
            "type": "scattergeo",
            "marker": {
             "colorbar": {
              "outlinewidth": 0,
              "ticks": ""
             }
            }
           }
          ],
          "scatterpolar": [
           {
            "type": "scatterpolar",
            "marker": {
             "colorbar": {
              "outlinewidth": 0,
              "ticks": ""
             }
            }
           }
          ],
          "histogram": [
           {
            "marker": {
             "pattern": {
              "fillmode": "overlay",
              "size": 10,
              "solidity": 0.2
             }
            },
            "type": "histogram"
           }
          ],
          "scattergl": [
           {
            "type": "scattergl",
            "marker": {
             "colorbar": {
              "outlinewidth": 0,
              "ticks": ""
             }
            }
           }
          ],
          "scatter3d": [
           {
            "type": "scatter3d",
            "line": {
             "colorbar": {
              "outlinewidth": 0,
              "ticks": ""
             }
            },
            "marker": {
             "colorbar": {
              "outlinewidth": 0,
              "ticks": ""
             }
            }
           }
          ],
          "scattermapbox": [
           {
            "type": "scattermapbox",
            "marker": {
             "colorbar": {
              "outlinewidth": 0,
              "ticks": ""
             }
            }
           }
          ],
          "scatterternary": [
           {
            "type": "scatterternary",
            "marker": {
             "colorbar": {
              "outlinewidth": 0,
              "ticks": ""
             }
            }
           }
          ],
          "scattercarpet": [
           {
            "type": "scattercarpet",
            "marker": {
             "colorbar": {
              "outlinewidth": 0,
              "ticks": ""
             }
            }
           }
          ],
          "carpet": [
           {
            "aaxis": {
             "endlinecolor": "#2a3f5f",
             "gridcolor": "white",
             "linecolor": "white",
             "minorgridcolor": "white",
             "startlinecolor": "#2a3f5f"
            },
            "baxis": {
             "endlinecolor": "#2a3f5f",
             "gridcolor": "white",
             "linecolor": "white",
             "minorgridcolor": "white",
             "startlinecolor": "#2a3f5f"
            },
            "type": "carpet"
           }
          ],
          "table": [
           {
            "cells": {
             "fill": {
              "color": "#EBF0F8"
             },
             "line": {
              "color": "white"
             }
            },
            "header": {
             "fill": {
              "color": "#C8D4E3"
             },
             "line": {
              "color": "white"
             }
            },
            "type": "table"
           }
          ],
          "barpolar": [
           {
            "marker": {
             "line": {
              "color": "#E5ECF6",
              "width": 0.5
             },
             "pattern": {
              "fillmode": "overlay",
              "size": 10,
              "solidity": 0.2
             }
            },
            "type": "barpolar"
           }
          ],
          "pie": [
           {
            "automargin": true,
            "type": "pie"
           }
          ]
         },
         "layout": {
          "autotypenumbers": "strict",
          "colorway": [
           "#636efa",
           "#EF553B",
           "#00cc96",
           "#ab63fa",
           "#FFA15A",
           "#19d3f3",
           "#FF6692",
           "#B6E880",
           "#FF97FF",
           "#FECB52"
          ],
          "font": {
           "color": "#2a3f5f"
          },
          "hovermode": "closest",
          "hoverlabel": {
           "align": "left"
          },
          "paper_bgcolor": "white",
          "plot_bgcolor": "#E5ECF6",
          "polar": {
           "bgcolor": "#E5ECF6",
           "angularaxis": {
            "gridcolor": "white",
            "linecolor": "white",
            "ticks": ""
           },
           "radialaxis": {
            "gridcolor": "white",
            "linecolor": "white",
            "ticks": ""
           }
          },
          "ternary": {
           "bgcolor": "#E5ECF6",
           "aaxis": {
            "gridcolor": "white",
            "linecolor": "white",
            "ticks": ""
           },
           "baxis": {
            "gridcolor": "white",
            "linecolor": "white",
            "ticks": ""
           },
           "caxis": {
            "gridcolor": "white",
            "linecolor": "white",
            "ticks": ""
           }
          },
          "coloraxis": {
           "colorbar": {
            "outlinewidth": 0,
            "ticks": ""
           }
          },
          "colorscale": {
           "sequential": [
            [
             0.0,
             "#0d0887"
            ],
            [
             0.1111111111111111,
             "#46039f"
            ],
            [
             0.2222222222222222,
             "#7201a8"
            ],
            [
             0.3333333333333333,
             "#9c179e"
            ],
            [
             0.4444444444444444,
             "#bd3786"
            ],
            [
             0.5555555555555556,
             "#d8576b"
            ],
            [
             0.6666666666666666,
             "#ed7953"
            ],
            [
             0.7777777777777778,
             "#fb9f3a"
            ],
            [
             0.8888888888888888,
             "#fdca26"
            ],
            [
             1.0,
             "#f0f921"
            ]
           ],
           "sequentialminus": [
            [
             0.0,
             "#0d0887"
            ],
            [
             0.1111111111111111,
             "#46039f"
            ],
            [
             0.2222222222222222,
             "#7201a8"
            ],
            [
             0.3333333333333333,
             "#9c179e"
            ],
            [
             0.4444444444444444,
             "#bd3786"
            ],
            [
             0.5555555555555556,
             "#d8576b"
            ],
            [
             0.6666666666666666,
             "#ed7953"
            ],
            [
             0.7777777777777778,
             "#fb9f3a"
            ],
            [
             0.8888888888888888,
             "#fdca26"
            ],
            [
             1.0,
             "#f0f921"
            ]
           ],
           "diverging": [
            [
             0,
             "#8e0152"
            ],
            [
             0.1,
             "#c51b7d"
            ],
            [
             0.2,
             "#de77ae"
            ],
            [
             0.3,
             "#f1b6da"
            ],
            [
             0.4,
             "#fde0ef"
            ],
            [
             0.5,
             "#f7f7f7"
            ],
            [
             0.6,
             "#e6f5d0"
            ],
            [
             0.7,
             "#b8e186"
            ],
            [
             0.8,
             "#7fbc41"
            ],
            [
             0.9,
             "#4d9221"
            ],
            [
             1,
             "#276419"
            ]
           ]
          },
          "xaxis": {
           "gridcolor": "white",
           "linecolor": "white",
           "ticks": "",
           "title": {
            "standoff": 15
           },
           "zerolinecolor": "white",
           "automargin": true,
           "zerolinewidth": 2
          },
          "yaxis": {
           "gridcolor": "white",
           "linecolor": "white",
           "ticks": "",
           "title": {
            "standoff": 15
           },
           "zerolinecolor": "white",
           "automargin": true,
           "zerolinewidth": 2
          },
          "scene": {
           "xaxis": {
            "backgroundcolor": "#E5ECF6",
            "gridcolor": "white",
            "linecolor": "white",
            "showbackground": true,
            "ticks": "",
            "zerolinecolor": "white",
            "gridwidth": 2
           },
           "yaxis": {
            "backgroundcolor": "#E5ECF6",
            "gridcolor": "white",
            "linecolor": "white",
            "showbackground": true,
            "ticks": "",
            "zerolinecolor": "white",
            "gridwidth": 2
           },
           "zaxis": {
            "backgroundcolor": "#E5ECF6",
            "gridcolor": "white",
            "linecolor": "white",
            "showbackground": true,
            "ticks": "",
            "zerolinecolor": "white",
            "gridwidth": 2
           }
          },
          "shapedefaults": {
           "line": {
            "color": "#2a3f5f"
           }
          },
          "annotationdefaults": {
           "arrowcolor": "#2a3f5f",
           "arrowhead": 0,
           "arrowwidth": 1
          },
          "geo": {
           "bgcolor": "white",
           "landcolor": "#E5ECF6",
           "subunitcolor": "white",
           "showland": true,
           "showlakes": true,
           "lakecolor": "white"
          },
          "title": {
           "x": 0.05
          },
          "mapbox": {
           "style": "light"
          }
         }
        },
        "yaxis": {
         "range": [
          0,
          16
         ],
         "showticklabels": false
        },
        "shapes": [
         {
          "fillcolor": "rgba(99, 110, 250, 0.5)",
          "line": {
           "color": "White",
           "width": 1
          },
          "type": "rect",
          "x0": 8,
          "x1": 9,
          "y0": 0.0,
          "y1": 1.0,
          "xref": "x",
          "yref": "y"
         },
         {
          "fillcolor": "rgba(99, 110, 250, 0.5)",
          "line": {
           "color": "White",
           "width": 1
          },
          "type": "rect",
          "x0": 8,
          "x1": 9,
          "y0": 1.0,
          "y1": 2.0,
          "xref": "x",
          "yref": "y"
         },
         {
          "fillcolor": "rgba(99, 110, 250, 0.5)",
          "line": {
           "color": "White",
           "width": 1
          },
          "type": "rect",
          "x0": 12,
          "x1": 13,
          "y0": 0.0,
          "y1": 1.0,
          "xref": "x",
          "yref": "y"
         },
         {
          "fillcolor": "rgba(99, 110, 250, 0.5)",
          "line": {
           "color": "White",
           "width": 1
          },
          "type": "rect",
          "x0": 13,
          "x1": 15,
          "y0": 0.0,
          "y1": 1.0,
          "xref": "x",
          "yref": "y"
         },
         {
          "fillcolor": "rgba(99, 110, 250, 0.5)",
          "line": {
           "color": "White",
           "width": 1
          },
          "type": "rect",
          "x0": 7,
          "x1": 9,
          "y0": 2.0,
          "y1": 3.0,
          "xref": "x",
          "yref": "y"
         },
         {
          "fillcolor": "rgba(99, 110, 250, 0.5)",
          "line": {
           "color": "White",
           "width": 1
          },
          "type": "rect",
          "x0": 7,
          "x1": 8,
          "y0": 0.0,
          "y1": 1.0,
          "xref": "x",
          "yref": "y"
         },
         {
          "fillcolor": "rgba(99, 110, 250, 0.5)",
          "line": {
           "color": "White",
           "width": 1
          },
          "type": "rect",
          "x0": 11,
          "x1": 12,
          "y0": 0.0,
          "y1": 1.0,
          "xref": "x",
          "yref": "y"
         },
         {
          "fillcolor": "rgba(99, 110, 250, 0.5)",
          "line": {
           "color": "White",
           "width": 1
          },
          "type": "rect",
          "x0": 12,
          "x1": 13,
          "y0": 1.0,
          "y1": 2.0,
          "xref": "x",
          "yref": "y"
         },
         {
          "fillcolor": "rgba(99, 110, 250, 0.5)",
          "line": {
           "color": "White",
           "width": 1
          },
          "type": "rect",
          "x0": 11,
          "x1": 12,
          "y0": 1.0,
          "y1": 2.0,
          "xref": "x",
          "yref": "y"
         },
         {
          "fillcolor": "rgba(99, 110, 250, 0.5)",
          "line": {
           "color": "White",
           "width": 1
          },
          "type": "rect",
          "x0": 11,
          "x1": 12,
          "y0": 2.0,
          "y1": 3.0,
          "xref": "x",
          "yref": "y"
         },
         {
          "fillcolor": "rgba(99, 110, 250, 0.5)",
          "line": {
           "color": "White",
           "width": 1
          },
          "type": "rect",
          "x0": 14,
          "x1": 15,
          "y0": 1.0,
          "y1": 2.0,
          "xref": "x",
          "yref": "y"
         },
         {
          "fillcolor": "rgba(99, 110, 250, 0.5)",
          "line": {
           "color": "White",
           "width": 1
          },
          "type": "rect",
          "x0": 18,
          "x1": 20,
          "y0": 0.0,
          "y1": 1.0,
          "xref": "x",
          "yref": "y"
         },
         {
          "fillcolor": "rgba(99, 110, 250, 0.5)",
          "line": {
           "color": "White",
           "width": 1
          },
          "type": "rect",
          "x0": 7,
          "x1": 8,
          "y0": 1.0,
          "y1": 2.0,
          "xref": "x",
          "yref": "y"
         },
         {
          "fillcolor": "rgba(99, 110, 250, 0.5)",
          "line": {
           "color": "White",
           "width": 1
          },
          "type": "rect",
          "x0": 14,
          "x1": 16,
          "y0": 2.0,
          "y1": 3.0,
          "xref": "x",
          "yref": "y"
         },
         {
          "fillcolor": "rgba(99, 110, 250, 0.5)",
          "line": {
           "color": "White",
           "width": 1
          },
          "type": "rect",
          "x0": 15,
          "x1": 16,
          "y0": 0.0,
          "y1": 1.0,
          "xref": "x",
          "yref": "y"
         },
         {
          "fillcolor": "rgba(99, 110, 250, 0.5)",
          "line": {
           "color": "White",
           "width": 1
          },
          "type": "rect",
          "x0": 12,
          "x1": 15,
          "y0": 3.0,
          "y1": 4.0,
          "xref": "x",
          "yref": "y"
         },
         {
          "fillcolor": "rgba(99, 110, 250, 0.5)",
          "line": {
           "color": "White",
           "width": 1
          },
          "type": "rect",
          "x0": 9,
          "x1": 13,
          "y0": 4.0,
          "y1": 5.0,
          "xref": "x",
          "yref": "y"
         },
         {
          "fillcolor": "rgba(99, 110, 250, 0.5)",
          "line": {
           "color": "White",
           "width": 1
          },
          "type": "rect",
          "x0": 13,
          "x1": 14,
          "y0": 1.0,
          "y1": 2.0,
          "xref": "x",
          "yref": "y"
         },
         {
          "fillcolor": "rgba(99, 110, 250, 0.5)",
          "line": {
           "color": "White",
           "width": 1
          },
          "type": "rect",
          "x0": 11,
          "x1": 12,
          "y0": 3.0,
          "y1": 4.0,
          "xref": "x",
          "yref": "y"
         },
         {
          "fillcolor": "rgba(99, 110, 250, 0.5)",
          "line": {
           "color": "White",
           "width": 1
          },
          "type": "rect",
          "x0": 13,
          "x1": 15,
          "y0": 4.0,
          "y1": 5.0,
          "xref": "x",
          "yref": "y"
         },
         {
          "fillcolor": "rgba(99, 110, 250, 0.5)",
          "line": {
           "color": "White",
           "width": 1
          },
          "type": "rect",
          "x0": 6,
          "x1": 8,
          "y0": 3.0,
          "y1": 4.0,
          "xref": "x",
          "yref": "y"
         },
         {
          "fillcolor": "rgba(99, 110, 250, 0.5)",
          "line": {
           "color": "White",
           "width": 1
          },
          "type": "rect",
          "x0": 9,
          "x1": 13,
          "y0": 5.0,
          "y1": 6.0,
          "xref": "x",
          "yref": "y"
         },
         {
          "fillcolor": "rgba(99, 110, 250, 0.5)",
          "line": {
           "color": "White",
           "width": 1
          },
          "type": "rect",
          "x0": 7,
          "x1": 11,
          "y0": 6.0,
          "y1": 7.0,
          "xref": "x",
          "yref": "y"
         },
         {
          "fillcolor": "rgba(99, 110, 250, 0.5)",
          "line": {
           "color": "White",
           "width": 1
          },
          "type": "rect",
          "x0": 13,
          "x1": 16,
          "y0": 5.0,
          "y1": 6.0,
          "xref": "x",
          "yref": "y"
         },
         {
          "fillcolor": "rgba(99, 110, 250, 0.5)",
          "line": {
           "color": "White",
           "width": 1
          },
          "type": "rect",
          "x0": 11,
          "x1": 12,
          "y0": 6.0,
          "y1": 7.0,
          "xref": "x",
          "yref": "y"
         },
         {
          "fillcolor": "rgba(99, 110, 250, 0.5)",
          "line": {
           "color": "White",
           "width": 1
          },
          "type": "rect",
          "x0": 10,
          "x1": 11,
          "y0": 0.0,
          "y1": 1.0,
          "xref": "x",
          "yref": "y"
         },
         {
          "fillcolor": "rgba(99, 110, 250, 0.5)",
          "line": {
           "color": "White",
           "width": 1
          },
          "type": "rect",
          "x0": 12,
          "x1": 13,
          "y0": 2.0,
          "y1": 3.0,
          "xref": "x",
          "yref": "y"
         },
         {
          "fillcolor": "rgba(99, 110, 250, 0.5)",
          "line": {
           "color": "White",
           "width": 1
          },
          "type": "rect",
          "x0": 14,
          "x1": 17,
          "y0": 6.0,
          "y1": 7.0,
          "xref": "x",
          "yref": "y"
         },
         {
          "fillcolor": "rgba(99, 110, 250, 0.5)",
          "line": {
           "color": "White",
           "width": 1
          },
          "type": "rect",
          "x0": 11,
          "x1": 13,
          "y0": 7.0,
          "y1": 8.0,
          "xref": "x",
          "yref": "y"
         },
         {
          "fillcolor": "rgba(99, 110, 250, 0.5)",
          "line": {
           "color": "White",
           "width": 1
          },
          "type": "rect",
          "x0": 8,
          "x1": 9,
          "y0": 3.0,
          "y1": 4.0,
          "xref": "x",
          "yref": "y"
         },
         {
          "fillcolor": "rgba(99, 110, 250, 0.5)",
          "line": {
           "color": "White",
           "width": 1
          },
          "type": "rect",
          "x0": 10,
          "x1": 11,
          "y0": 1.0,
          "y1": 2.0,
          "xref": "x",
          "yref": "y"
         },
         {
          "fillcolor": "rgba(99, 110, 250, 0.5)",
          "line": {
           "color": "White",
           "width": 1
          },
          "type": "rect",
          "x0": 8,
          "x1": 9,
          "y0": 4.0,
          "y1": 5.0,
          "xref": "x",
          "yref": "y"
         },
         {
          "fillcolor": "rgba(99, 110, 250, 0.5)",
          "line": {
           "color": "White",
           "width": 1
          },
          "type": "rect",
          "x0": 12,
          "x1": 13,
          "y0": 6.0,
          "y1": 7.0,
          "xref": "x",
          "yref": "y"
         },
         {
          "fillcolor": "rgba(99, 110, 250, 0.5)",
          "line": {
           "color": "White",
           "width": 1
          },
          "type": "rect",
          "x0": 13,
          "x1": 14,
          "y0": 2.0,
          "y1": 3.0,
          "xref": "x",
          "yref": "y"
         },
         {
          "fillcolor": "rgba(99, 110, 250, 0.5)",
          "line": {
           "color": "White",
           "width": 1
          },
          "type": "rect",
          "x0": 12,
          "x1": 15,
          "y0": 8.0,
          "y1": 9.0,
          "xref": "x",
          "yref": "y"
         },
         {
          "fillcolor": "rgba(99, 110, 250, 0.5)",
          "line": {
           "color": "White",
           "width": 1
          },
          "type": "rect",
          "x0": 14,
          "x1": 15,
          "y0": 7.0,
          "y1": 8.0,
          "xref": "x",
          "yref": "y"
         },
         {
          "fillcolor": "rgba(99, 110, 250, 0.5)",
          "line": {
           "color": "White",
           "width": 1
          },
          "type": "rect",
          "x0": 12,
          "x1": 20,
          "y0": 9.0,
          "y1": 10.0,
          "xref": "x",
          "yref": "y"
         },
         {
          "fillcolor": "rgba(99, 110, 250, 0.5)",
          "line": {
           "color": "White",
           "width": 1
          },
          "type": "rect",
          "x0": 14,
          "x1": 16,
          "y0": 10.0,
          "y1": 11.0,
          "xref": "x",
          "yref": "y"
         },
         {
          "fillcolor": "rgba(99, 110, 250, 0.5)",
          "line": {
           "color": "White",
           "width": 1
          },
          "type": "rect",
          "x0": 16,
          "x1": 17,
          "y0": 0.0,
          "y1": 1.0,
          "xref": "x",
          "yref": "y"
         },
         {
          "fillcolor": "rgba(99, 110, 250, 0.5)",
          "line": {
           "color": "White",
           "width": 1
          },
          "type": "rect",
          "x0": 13,
          "x1": 14,
          "y0": 6.0,
          "y1": 7.0,
          "xref": "x",
          "yref": "y"
         },
         {
          "fillcolor": "rgba(99, 110, 250, 0.5)",
          "line": {
           "color": "White",
           "width": 1
          },
          "type": "rect",
          "x0": 13,
          "x1": 16,
          "y0": 11.0,
          "y1": 12.0,
          "xref": "x",
          "yref": "y"
         },
         {
          "fillcolor": "rgba(99, 110, 250, 0.5)",
          "line": {
           "color": "White",
           "width": 1
          },
          "type": "rect",
          "x0": 12,
          "x1": 14,
          "y0": 10.0,
          "y1": 11.0,
          "xref": "x",
          "yref": "y"
         },
         {
          "fillcolor": "rgba(99, 110, 250, 0.5)",
          "line": {
           "color": "White",
           "width": 1
          },
          "type": "rect",
          "x0": 16,
          "x1": 17,
          "y0": 1.0,
          "y1": 2.0,
          "xref": "x",
          "yref": "y"
         },
         {
          "fillcolor": "rgba(99, 110, 250, 0.5)",
          "line": {
           "color": "White",
           "width": 1
          },
          "type": "rect",
          "x0": 15,
          "x1": 17,
          "y0": 3.0,
          "y1": 4.0,
          "xref": "x",
          "yref": "y"
         },
         {
          "fillcolor": "rgba(99, 110, 250, 0.5)",
          "line": {
           "color": "White",
           "width": 1
          },
          "type": "rect",
          "x0": 14,
          "x1": 21,
          "y0": 12.0,
          "y1": 13.0,
          "xref": "x",
          "yref": "y"
         },
         {
          "fillcolor": "rgba(99, 110, 250, 0.5)",
          "line": {
           "color": "White",
           "width": 1
          },
          "type": "rect",
          "x0": 16,
          "x1": 22,
          "y0": 2.0,
          "y1": 3.0,
          "xref": "x",
          "yref": "y"
         },
         {
          "fillcolor": "rgba(99, 110, 250, 0.5)",
          "line": {
           "color": "White",
           "width": 1
          },
          "type": "rect",
          "x0": 13,
          "x1": 20,
          "y0": 13.0,
          "y1": 14.0,
          "xref": "x",
          "yref": "y"
         },
         {
          "fillcolor": "rgba(99, 110, 250, 0.5)",
          "line": {
           "color": "White",
           "width": 1
          },
          "type": "rect",
          "x0": 17,
          "x1": 23,
          "y0": 1.0,
          "y1": 2.0,
          "xref": "x",
          "yref": "y"
         },
         {
          "fillcolor": "rgba(99, 110, 250, 0.5)",
          "line": {
           "color": "White",
           "width": 1
          },
          "type": "rect",
          "x0": 14,
          "x1": 15,
          "y0": 14.0,
          "y1": 15.0,
          "xref": "x",
          "yref": "y"
         },
         {
          "fillcolor": "rgba(99, 110, 250, 0.5)",
          "line": {
           "color": "White",
           "width": 1
          },
          "type": "rect",
          "x0": 15,
          "x1": 16,
          "y0": 1.0,
          "y1": 2.0,
          "xref": "x",
          "yref": "y"
         },
         {
          "fillcolor": "rgba(99, 110, 250, 0.5)",
          "line": {
           "color": "White",
           "width": 1
          },
          "type": "rect",
          "x0": 16,
          "x1": 17,
          "y0": 4.0,
          "y1": 5.0,
          "xref": "x",
          "yref": "y"
         },
         {
          "fillcolor": "rgba(99, 110, 250, 0.5)",
          "line": {
           "color": "White",
           "width": 1
          },
          "type": "rect",
          "x0": 14,
          "x1": 17,
          "y0": 15.0,
          "y1": 16.0,
          "xref": "x",
          "yref": "y"
         },
         {
          "fillcolor": "rgba(99, 110, 250, 0.5)",
          "line": {
           "color": "White",
           "width": 1
          },
          "type": "rect",
          "x0": 15,
          "x1": 19,
          "y0": 7.0,
          "y1": 8.0,
          "xref": "x",
          "yref": "y"
         },
         {
          "fillcolor": "rgba(99, 110, 250, 0.5)",
          "line": {
           "color": "White",
           "width": 1
          },
          "type": "rect",
          "x0": 15,
          "x1": 16,
          "y0": 4.0,
          "y1": 5.0,
          "xref": "x",
          "yref": "y"
         },
         {
          "fillcolor": "rgba(99, 110, 250, 0.5)",
          "line": {
           "color": "White",
           "width": 1
          },
          "type": "rect",
          "x0": 17,
          "x1": 18,
          "y0": 0.0,
          "y1": 1.0,
          "xref": "x",
          "yref": "y"
         },
         {
          "fillcolor": "rgba(99, 110, 250, 0.5)",
          "line": {
           "color": "White",
           "width": 1
          },
          "type": "rect",
          "x0": 15,
          "x1": 20,
          "y0": 8.0,
          "y1": 9.0,
          "xref": "x",
          "yref": "y"
         },
         {
          "fillcolor": "rgba(99, 110, 250, 0.5)",
          "line": {
           "color": "White",
           "width": 1
          },
          "type": "rect",
          "x0": 16,
          "x1": 18,
          "y0": 5.0,
          "y1": 6.0,
          "xref": "x",
          "yref": "y"
         },
         {
          "fillcolor": "rgba(99, 110, 250, 0.5)",
          "line": {
           "color": "White",
           "width": 1
          },
          "type": "rect",
          "x0": 16,
          "x1": 17,
          "y0": 10.0,
          "y1": 11.0,
          "xref": "x",
          "yref": "y"
         },
         {
          "fillcolor": "rgba(99, 110, 250, 0.5)",
          "line": {
           "color": "White",
           "width": 1
          },
          "type": "rect",
          "x0": 16,
          "x1": 17,
          "y0": 11.0,
          "y1": 12.0,
          "xref": "x",
          "yref": "y"
         },
         {
          "fillcolor": "rgba(99, 110, 250, 0.5)",
          "line": {
           "color": "White",
           "width": 1
          },
          "type": "rect",
          "x0": 17,
          "x1": 20,
          "y0": 3.0,
          "y1": 4.0,
          "xref": "x",
          "yref": "y"
         },
         {
          "fillcolor": "rgba(99, 110, 250, 0.5)",
          "line": {
           "color": "White",
           "width": 1
          },
          "type": "rect",
          "x0": 17,
          "x1": 18,
          "y0": 4.0,
          "y1": 5.0,
          "xref": "x",
          "yref": "y"
         },
         {
          "fillcolor": "rgba(99, 110, 250, 0.5)",
          "line": {
           "color": "White",
           "width": 1
          },
          "type": "rect",
          "x0": 19,
          "x1": 20,
          "y0": 4.0,
          "y1": 5.0,
          "xref": "x",
          "yref": "y"
         },
         {
          "fillcolor": "rgba(99, 110, 250, 0.5)",
          "line": {
           "color": "White",
           "width": 1
          },
          "type": "rect",
          "x0": 17,
          "x1": 20,
          "y0": 6.0,
          "y1": 7.0,
          "xref": "x",
          "yref": "y"
         },
         {
          "fillcolor": "rgba(99, 110, 250, 0.5)",
          "line": {
           "color": "White",
           "width": 1
          },
          "type": "rect",
          "x0": 19,
          "x1": 20,
          "y0": 5.0,
          "y1": 6.0,
          "xref": "x",
          "yref": "y"
         },
         {
          "fillcolor": "rgba(99, 110, 250, 0.5)",
          "line": {
           "color": "White",
           "width": 1
          },
          "type": "rect",
          "x0": 18,
          "x1": 19,
          "y0": 4.0,
          "y1": 5.0,
          "xref": "x",
          "yref": "y"
         },
         {
          "fillcolor": "rgba(99, 110, 250, 0.5)",
          "line": {
           "color": "White",
           "width": 1
          },
          "type": "rect",
          "x0": 20,
          "x1": 21,
          "y0": 0.0,
          "y1": 1.0,
          "xref": "x",
          "yref": "y"
         },
         {
          "fillcolor": "rgba(99, 110, 250, 0.5)",
          "line": {
           "color": "White",
           "width": 1
          },
          "type": "rect",
          "x0": 18,
          "x1": 19,
          "y0": 5.0,
          "y1": 6.0,
          "xref": "x",
          "yref": "y"
         },
         {
          "fillcolor": "rgba(99, 110, 250, 0.5)",
          "line": {
           "color": "White",
           "width": 1
          },
          "type": "rect",
          "x0": 19,
          "x1": 20,
          "y0": 7.0,
          "y1": 8.0,
          "xref": "x",
          "yref": "y"
         },
         {
          "fillcolor": "rgba(99, 110, 250, 0.5)",
          "line": {
           "color": "White",
           "width": 1
          },
          "type": "rect",
          "x0": 19,
          "x1": 22,
          "y0": 10.0,
          "y1": 11.0,
          "xref": "x",
          "yref": "y"
         },
         {
          "fillcolor": "rgba(99, 110, 250, 0.5)",
          "line": {
           "color": "White",
           "width": 1
          },
          "type": "rect",
          "x0": 19,
          "x1": 20,
          "y0": 11.0,
          "y1": 12.0,
          "xref": "x",
          "yref": "y"
         },
         {
          "fillcolor": "rgba(99, 110, 250, 0.5)",
          "line": {
           "color": "White",
           "width": 1
          },
          "type": "rect",
          "x0": 20,
          "x1": 21,
          "y0": 3.0,
          "y1": 4.0,
          "xref": "x",
          "yref": "y"
         },
         {
          "fillcolor": "rgba(99, 110, 250, 0.5)",
          "line": {
           "color": "White",
           "width": 1
          },
          "type": "rect",
          "x0": 19,
          "x1": 23,
          "y0": 14.0,
          "y1": 15.0,
          "xref": "x",
          "yref": "y"
         },
         {
          "fillcolor": "rgba(99, 110, 250, 0.5)",
          "line": {
           "color": "White",
           "width": 1
          },
          "type": "rect",
          "x0": 21,
          "x1": 22,
          "y0": 0.0,
          "y1": 1.0,
          "xref": "x",
          "yref": "y"
         },
         {
          "fillcolor": "rgba(99, 110, 250, 0.5)",
          "line": {
           "color": "White",
           "width": 1
          },
          "type": "rect",
          "x0": 22,
          "x1": 23,
          "y0": 0.0,
          "y1": 1.0,
          "xref": "x",
          "yref": "y"
         },
         {
          "fillcolor": "rgba(99, 110, 250, 0.5)",
          "line": {
           "color": "White",
           "width": 1
          },
          "type": "rect",
          "x0": 23,
          "x1": 24,
          "y0": 0.0,
          "y1": 1.0,
          "xref": "x",
          "yref": "y"
         },
         {
          "fillcolor": "rgba(99, 110, 250, 0.5)",
          "line": {
           "color": "White",
           "width": 1
          },
          "type": "rect",
          "x0": 23,
          "x1": 24,
          "y0": 1.0,
          "y1": 2.0,
          "xref": "x",
          "yref": "y"
         },
         {
          "fillcolor": "rgba(99, 110, 250, 0.5)",
          "line": {
           "color": "White",
           "width": 1
          },
          "type": "rect",
          "x0": 23,
          "x1": 24,
          "y0": 2.0,
          "y1": 3.0,
          "xref": "x",
          "yref": "y"
         },
         {
          "fillcolor": "rgba(99, 110, 250, 0.5)",
          "line": {
           "color": "White",
           "width": 1
          },
          "type": "rect",
          "x0": 23,
          "x1": 24,
          "y0": 3.0,
          "y1": 4.0,
          "xref": "x",
          "yref": "y"
         },
         {
          "fillcolor": "rgba(99, 110, 250, 0.5)",
          "line": {
           "color": "White",
           "width": 1
          },
          "type": "rect",
          "x0": 23,
          "x1": 24,
          "y0": 4.0,
          "y1": 5.0,
          "xref": "x",
          "yref": "y"
         }
        ],
        "margin": {
         "l": 0,
         "r": 0,
         "t": 0,
         "b": 0
        },
        "xaxis": {
         "showticklabels": true,
         "dtick": 2,
         "range": [
          6,
          24
         ]
        },
        "width": 257.0,
        "height": 171.33333333333334,
        "plot_bgcolor": "rgba(0, 0, 0, 0)",
        "paper_bgcolor": "rgba(0, 0, 0, 0)"
       },
       "config": {
        "plotlyServerURL": "https://plot.ly"
       }
      },
      "text/html": [
       "<div>                            <div id=\"451cd8ae-9186-4e04-8c58-a9cb2a75725d\" class=\"plotly-graph-div\" style=\"height:171.33333333333334px; width:257.0px;\"></div>            <script type=\"text/javascript\">                require([\"plotly\"], function(Plotly) {                    window.PLOTLYENV=window.PLOTLYENV || {};                                    if (document.getElementById(\"451cd8ae-9186-4e04-8c58-a9cb2a75725d\")) {                    Plotly.newPlot(                        \"451cd8ae-9186-4e04-8c58-a9cb2a75725d\",                        [{\"fill\":\"toself\",\"mode\":\"lines\",\"name\":\"\",\"opacity\":0,\"text\":\"timestep: 1, budget: 1.1195959505999442, action: 0.8733264484321002\",\"x\":[8,9,9,8,8],\"y\":[0.0,0.0,1.0,1.0,0.0],\"type\":\"scatter\"},{\"fill\":\"toself\",\"mode\":\"lines\",\"name\":\"\",\"opacity\":0,\"text\":\"timestep: 22, budget: 1.742979002222134, action: 0.8733264484321002\",\"x\":[8,9,9,8,8],\"y\":[1.0,1.0,2.0,2.0,1.0],\"type\":\"scatter\"},{\"fill\":\"toself\",\"mode\":\"lines\",\"name\":\"\",\"opacity\":0,\"text\":\"timestep: 27, budget: 0.480913132459729, action: 0.8733264484321002\",\"x\":[12,13,13,12,12],\"y\":[0.0,0.0,1.0,1.0,0.0],\"type\":\"scatter\"},{\"fill\":\"toself\",\"mode\":\"lines\",\"name\":\"\",\"opacity\":0,\"text\":\"timestep: 28, budget: 2.476104437462143, action: 0.8733264484321002\",\"x\":[13,15,15,13,13],\"y\":[0.0,0.0,1.0,1.0,0.0],\"type\":\"scatter\"},{\"fill\":\"toself\",\"mode\":\"lines\",\"name\":\"\",\"opacity\":0,\"text\":\"timestep: 32, budget: 2.825944634742748, action: 0.8733264484321002\",\"x\":[7,9,9,7,7],\"y\":[2.0,2.0,3.0,3.0,2.0],\"type\":\"scatter\"},{\"fill\":\"toself\",\"mode\":\"lines\",\"name\":\"\",\"opacity\":0,\"text\":\"timestep: 49, budget: 0.970211005867882, action: 0.8733264484321002\",\"x\":[7,8,8,7,7],\"y\":[0.0,0.0,1.0,1.0,0.0],\"type\":\"scatter\"},{\"fill\":\"toself\",\"mode\":\"lines\",\"name\":\"\",\"opacity\":0,\"text\":\"timestep: 50, budget: 0.3475581900790602, action: 0.8733264484321002\",\"x\":[11,12,12,11,11],\"y\":[0.0,0.0,1.0,1.0,0.0],\"type\":\"scatter\"},{\"fill\":\"toself\",\"mode\":\"lines\",\"name\":\"\",\"opacity\":0,\"text\":\"timestep: 51, budget: 0.897709638144219, action: 0.8733264484321002\",\"x\":[12,13,13,12,12],\"y\":[1.0,1.0,2.0,2.0,1.0],\"type\":\"scatter\"},{\"fill\":\"toself\",\"mode\":\"lines\",\"name\":\"\",\"opacity\":0,\"text\":\"timestep: 56, budget: 1.3496936884569708, action: 0.8733264484321002\",\"x\":[11,12,12,11,11],\"y\":[1.0,1.0,2.0,2.0,1.0],\"type\":\"scatter\"},{\"fill\":\"toself\",\"mode\":\"lines\",\"name\":\"\",\"opacity\":0,\"text\":\"timestep: 73, budget: 0.7554757097909742, action: 0.8733264484321002\",\"x\":[11,12,12,11,11],\"y\":[2.0,2.0,3.0,3.0,2.0],\"type\":\"scatter\"},{\"fill\":\"toself\",\"mode\":\"lines\",\"name\":\"\",\"opacity\":0,\"text\":\"timestep: 85, budget: 0.4267771492632941, action: 0.8733264484321002\",\"x\":[14,15,15,14,14],\"y\":[1.0,1.0,2.0,2.0,1.0],\"type\":\"scatter\"},{\"fill\":\"toself\",\"mode\":\"lines\",\"name\":\"\",\"opacity\":0,\"text\":\"timestep: 95, budget: 1.2655249566272948, action: 0.8733264484321002\",\"x\":[18,20,20,18,18],\"y\":[0.0,0.0,1.0,1.0,0.0],\"type\":\"scatter\"},{\"fill\":\"toself\",\"mode\":\"lines\",\"name\":\"\",\"opacity\":0,\"text\":\"timestep: 101, budget: 0.630497750222799, action: 0.8733264484321002\",\"x\":[7,8,8,7,7],\"y\":[1.0,1.0,2.0,2.0,1.0],\"type\":\"scatter\"},{\"fill\":\"toself\",\"mode\":\"lines\",\"name\":\"\",\"opacity\":0,\"text\":\"timestep: 102, budget: 2.4073516070067678, action: 0.8733264484321002\",\"x\":[14,16,16,14,14],\"y\":[2.0,2.0,3.0,3.0,2.0],\"type\":\"scatter\"},{\"fill\":\"toself\",\"mode\":\"lines\",\"name\":\"\",\"opacity\":0,\"text\":\"timestep: 105, budget: 1.5648395922470189, action: 0.8733264484321002\",\"x\":[15,16,16,15,15],\"y\":[0.0,0.0,1.0,1.0,0.0],\"type\":\"scatter\"},{\"fill\":\"toself\",\"mode\":\"lines\",\"name\":\"\",\"opacity\":0,\"text\":\"timestep: 106, budget: 2.3240804205450507, action: 0.8733264484321002\",\"x\":[12,15,15,12,12],\"y\":[3.0,3.0,4.0,4.0,3.0],\"type\":\"scatter\"},{\"fill\":\"toself\",\"mode\":\"lines\",\"name\":\"\",\"opacity\":0,\"text\":\"timestep: 123, budget: 4.838348285211584, action: 0.8733264484321002\",\"x\":[9,13,13,9,9],\"y\":[4.0,4.0,5.0,5.0,4.0],\"type\":\"scatter\"},{\"fill\":\"toself\",\"mode\":\"lines\",\"name\":\"\",\"opacity\":0,\"text\":\"timestep: 125, budget: 0.734001003177055, action: 0.8733264484321002\",\"x\":[13,14,14,13,13],\"y\":[1.0,1.0,2.0,2.0,1.0],\"type\":\"scatter\"},{\"fill\":\"toself\",\"mode\":\"lines\",\"name\":\"\",\"opacity\":0,\"text\":\"timestep: 156, budget: 0.2731070622991453, action: 0.8733264484321002\",\"x\":[11,12,12,11,11],\"y\":[3.0,3.0,4.0,4.0,3.0],\"type\":\"scatter\"},{\"fill\":\"toself\",\"mode\":\"lines\",\"name\":\"\",\"opacity\":0,\"text\":\"timestep: 160, budget: 2.0943510362518585, action: 0.8733264484321002\",\"x\":[13,15,15,13,13],\"y\":[4.0,4.0,5.0,5.0,4.0],\"type\":\"scatter\"},{\"fill\":\"toself\",\"mode\":\"lines\",\"name\":\"\",\"opacity\":0,\"text\":\"timestep: 161, budget: 1.895887066434752, action: 0.8733264484321002\",\"x\":[6,8,8,6,6],\"y\":[3.0,3.0,4.0,4.0,3.0],\"type\":\"scatter\"},{\"fill\":\"toself\",\"mode\":\"lines\",\"name\":\"\",\"opacity\":0,\"text\":\"timestep: 169, budget: 4.430406329196159, action: 0.8733264484321002\",\"x\":[9,13,13,9,9],\"y\":[5.0,5.0,6.0,6.0,5.0],\"type\":\"scatter\"},{\"fill\":\"toself\",\"mode\":\"lines\",\"name\":\"\",\"opacity\":0,\"text\":\"timestep: 181, budget: 5.012492124970704, action: 0.8733264484321002\",\"x\":[7,11,11,7,7],\"y\":[6.0,6.0,7.0,7.0,6.0],\"type\":\"scatter\"},{\"fill\":\"toself\",\"mode\":\"lines\",\"name\":\"\",\"opacity\":0,\"text\":\"timestep: 187, budget: 2.2098726440170866, action: 0.8733264484321002\",\"x\":[13,16,16,13,13],\"y\":[5.0,5.0,6.0,6.0,5.0],\"type\":\"scatter\"},{\"fill\":\"toself\",\"mode\":\"lines\",\"name\":\"\",\"opacity\":0,\"text\":\"timestep: 189, budget: 1.4637720076693976, action: 0.8733264484321002\",\"x\":[11,12,12,11,11],\"y\":[6.0,6.0,7.0,7.0,6.0],\"type\":\"scatter\"},{\"fill\":\"toself\",\"mode\":\"lines\",\"name\":\"\",\"opacity\":0,\"text\":\"timestep: 195, budget: 1.7724783359234406, action: 0.8733264484321002\",\"x\":[10,11,11,10,10],\"y\":[0.0,0.0,1.0,1.0,0.0],\"type\":\"scatter\"},{\"fill\":\"toself\",\"mode\":\"lines\",\"name\":\"\",\"opacity\":0,\"text\":\"timestep: 202, budget: 0.9086985376594536, action: 0.8733264484321002\",\"x\":[12,13,13,12,12],\"y\":[2.0,2.0,3.0,3.0,2.0],\"type\":\"scatter\"},{\"fill\":\"toself\",\"mode\":\"lines\",\"name\":\"\",\"opacity\":0,\"text\":\"timestep: 203, budget: 2.8313422828602457, action: 0.8733264484321002\",\"x\":[14,17,17,14,14],\"y\":[6.0,6.0,7.0,7.0,6.0],\"type\":\"scatter\"},{\"fill\":\"toself\",\"mode\":\"lines\",\"name\":\"\",\"opacity\":0,\"text\":\"timestep: 205, budget: 2.2642797340302065, action: 0.8733264484321002\",\"x\":[11,13,13,11,11],\"y\":[7.0,7.0,8.0,8.0,7.0],\"type\":\"scatter\"},{\"fill\":\"toself\",\"mode\":\"lines\",\"name\":\"\",\"opacity\":0,\"text\":\"timestep: 207, budget: 0.5146602516661556, action: 0.8733264484321002\",\"x\":[8,9,9,8,8],\"y\":[3.0,3.0,4.0,4.0,3.0],\"type\":\"scatter\"},{\"fill\":\"toself\",\"mode\":\"lines\",\"name\":\"\",\"opacity\":0,\"text\":\"timestep: 211, budget: 0.799111010483703, action: 0.8733264484321002\",\"x\":[10,11,11,10,10],\"y\":[1.0,1.0,2.0,2.0,1.0],\"type\":\"scatter\"},{\"fill\":\"toself\",\"mode\":\"lines\",\"name\":\"\",\"opacity\":0,\"text\":\"timestep: 214, budget: 1.8841197950955983, action: 0.8733264484321002\",\"x\":[8,9,9,8,8],\"y\":[4.0,4.0,5.0,5.0,4.0],\"type\":\"scatter\"},{\"fill\":\"toself\",\"mode\":\"lines\",\"name\":\"\",\"opacity\":0,\"text\":\"timestep: 216, budget: 1.4600598912616003, action: 0.8733264484321002\",\"x\":[12,13,13,12,12],\"y\":[6.0,6.0,7.0,7.0,6.0],\"type\":\"scatter\"},{\"fill\":\"toself\",\"mode\":\"lines\",\"name\":\"\",\"opacity\":0,\"text\":\"timestep: 220, budget: 1.478226516330889, action: 0.8733264484321002\",\"x\":[13,14,14,13,13],\"y\":[2.0,2.0,3.0,3.0,2.0],\"type\":\"scatter\"},{\"fill\":\"toself\",\"mode\":\"lines\",\"name\":\"\",\"opacity\":0,\"text\":\"timestep: 233, budget: 3.265261713972795, action: 0.8733264484321002\",\"x\":[12,15,15,12,12],\"y\":[8.0,8.0,9.0,9.0,8.0],\"type\":\"scatter\"},{\"fill\":\"toself\",\"mode\":\"lines\",\"name\":\"\",\"opacity\":0,\"text\":\"timestep: 243, budget: 1.3231476262521975, action: 0.8733264484321002\",\"x\":[14,15,15,14,14],\"y\":[7.0,7.0,8.0,8.0,7.0],\"type\":\"scatter\"},{\"fill\":\"toself\",\"mode\":\"lines\",\"name\":\"\",\"opacity\":0,\"text\":\"timestep: 257, budget: 8.353029450974713, action: 0.8733264484321002\",\"x\":[12,20,20,12,12],\"y\":[9.0,9.0,10.0,10.0,9.0],\"type\":\"scatter\"},{\"fill\":\"toself\",\"mode\":\"lines\",\"name\":\"\",\"opacity\":0,\"text\":\"timestep: 268, budget: 1.6707930170539476, action: 0.8733264484321002\",\"x\":[14,16,16,14,14],\"y\":[10.0,10.0,11.0,11.0,10.0],\"type\":\"scatter\"},{\"fill\":\"toself\",\"mode\":\"lines\",\"name\":\"\",\"opacity\":0,\"text\":\"timestep: 269, budget: 1.885274495733084, action: 0.8733264484321002\",\"x\":[16,17,17,16,16],\"y\":[0.0,0.0,1.0,1.0,0.0],\"type\":\"scatter\"},{\"fill\":\"toself\",\"mode\":\"lines\",\"name\":\"\",\"opacity\":0,\"text\":\"timestep: 273, budget: 0.5085628366458383, action: 0.8733264484321002\",\"x\":[13,14,14,13,13],\"y\":[6.0,6.0,7.0,7.0,6.0],\"type\":\"scatter\"},{\"fill\":\"toself\",\"mode\":\"lines\",\"name\":\"\",\"opacity\":0,\"text\":\"timestep: 289, budget: 3.004007820978236, action: 0.8733264484321002\",\"x\":[13,16,16,13,13],\"y\":[11.0,11.0,12.0,12.0,11.0],\"type\":\"scatter\"},{\"fill\":\"toself\",\"mode\":\"lines\",\"name\":\"\",\"opacity\":0,\"text\":\"timestep: 298, budget: 1.4387964320789035, action: 0.8733264484321002\",\"x\":[12,14,14,12,12],\"y\":[10.0,10.0,11.0,11.0,10.0],\"type\":\"scatter\"},{\"fill\":\"toself\",\"mode\":\"lines\",\"name\":\"\",\"opacity\":0,\"text\":\"timestep: 318, budget: 1.413955154548848, action: 0.8733264484321002\",\"x\":[16,17,17,16,16],\"y\":[1.0,1.0,2.0,2.0,1.0],\"type\":\"scatter\"},{\"fill\":\"toself\",\"mode\":\"lines\",\"name\":\"\",\"opacity\":0,\"text\":\"timestep: 321, budget: 1.2228277468413755, action: 0.8733264484321002\",\"x\":[15,17,17,15,15],\"y\":[3.0,3.0,4.0,4.0,3.0],\"type\":\"scatter\"},{\"fill\":\"toself\",\"mode\":\"lines\",\"name\":\"\",\"opacity\":0,\"text\":\"timestep: 323, budget: 7.479547346147174, action: 0.8733264484321002\",\"x\":[14,21,21,14,14],\"y\":[12.0,12.0,13.0,13.0,12.0],\"type\":\"scatter\"},{\"fill\":\"toself\",\"mode\":\"lines\",\"name\":\"\",\"opacity\":0,\"text\":\"timestep: 326, budget: 6.216570416937723, action: 0.8733264484321002\",\"x\":[16,22,22,16,16],\"y\":[2.0,2.0,3.0,3.0,2.0],\"type\":\"scatter\"},{\"fill\":\"toself\",\"mode\":\"lines\",\"name\":\"\",\"opacity\":0,\"text\":\"timestep: 327, budget: 6.824212456407542, action: 0.8733264484321002\",\"x\":[13,20,20,13,13],\"y\":[13.0,13.0,14.0,14.0,13.0],\"type\":\"scatter\"},{\"fill\":\"toself\",\"mode\":\"lines\",\"name\":\"\",\"opacity\":0,\"text\":\"timestep: 328, budget: 5.935700998699732, action: 0.8733264484321002\",\"x\":[17,23,23,17,17],\"y\":[1.0,1.0,2.0,2.0,1.0],\"type\":\"scatter\"},{\"fill\":\"toself\",\"mode\":\"lines\",\"name\":\"\",\"opacity\":0,\"text\":\"timestep: 334, budget: 0.9230474224874738, action: 0.8733264484321002\",\"x\":[14,15,15,14,14],\"y\":[14.0,14.0,15.0,15.0,14.0],\"type\":\"scatter\"},{\"fill\":\"toself\",\"mode\":\"lines\",\"name\":\"\",\"opacity\":0,\"text\":\"timestep: 338, budget: 1.6696980625019326, action: 0.8733264484321002\",\"x\":[15,16,16,15,15],\"y\":[1.0,1.0,2.0,2.0,1.0],\"type\":\"scatter\"},{\"fill\":\"toself\",\"mode\":\"lines\",\"name\":\"\",\"opacity\":0,\"text\":\"timestep: 351, budget: 0.307318362704794, action: 0.8733264484321002\",\"x\":[16,17,17,16,16],\"y\":[4.0,4.0,5.0,5.0,4.0],\"type\":\"scatter\"},{\"fill\":\"toself\",\"mode\":\"lines\",\"name\":\"\",\"opacity\":0,\"text\":\"timestep: 356, budget: 3.592671711448642, action: 0.8733264484321002\",\"x\":[14,17,17,14,14],\"y\":[15.0,15.0,16.0,16.0,15.0],\"type\":\"scatter\"},{\"fill\":\"toself\",\"mode\":\"lines\",\"name\":\"\",\"opacity\":0,\"text\":\"timestep: 359, budget: 3.4252351336627207, action: 0.8733264484321002\",\"x\":[15,19,19,15,15],\"y\":[7.0,7.0,8.0,8.0,7.0],\"type\":\"scatter\"},{\"fill\":\"toself\",\"mode\":\"lines\",\"name\":\"\",\"opacity\":0,\"text\":\"timestep: 360, budget: 1.921382595141696, action: 0.8733264484321002\",\"x\":[15,16,16,15,15],\"y\":[4.0,4.0,5.0,5.0,4.0],\"type\":\"scatter\"},{\"fill\":\"toself\",\"mode\":\"lines\",\"name\":\"\",\"opacity\":0,\"text\":\"timestep: 364, budget: 1.1959914120678603, action: 0.8733264484321002\",\"x\":[17,18,18,17,17],\"y\":[0.0,0.0,1.0,1.0,0.0],\"type\":\"scatter\"},{\"fill\":\"toself\",\"mode\":\"lines\",\"name\":\"\",\"opacity\":0,\"text\":\"timestep: 369, budget: 4.713057794082983, action: 0.8733264484321002\",\"x\":[15,20,20,15,15],\"y\":[8.0,8.0,9.0,9.0,8.0],\"type\":\"scatter\"},{\"fill\":\"toself\",\"mode\":\"lines\",\"name\":\"\",\"opacity\":0,\"text\":\"timestep: 384, budget: 2.205188468815932, action: 0.8733264484321002\",\"x\":[16,18,18,16,16],\"y\":[5.0,5.0,6.0,6.0,5.0],\"type\":\"scatter\"},{\"fill\":\"toself\",\"mode\":\"lines\",\"name\":\"\",\"opacity\":0,\"text\":\"timestep: 387, budget: 0.2900199170489597, action: 0.8733264484321002\",\"x\":[16,17,17,16,16],\"y\":[10.0,10.0,11.0,11.0,10.0],\"type\":\"scatter\"},{\"fill\":\"toself\",\"mode\":\"lines\",\"name\":\"\",\"opacity\":0,\"text\":\"timestep: 388, budget: 0.4512148060357154, action: 0.8733264484321002\",\"x\":[16,17,17,16,16],\"y\":[11.0,11.0,12.0,12.0,11.0],\"type\":\"scatter\"},{\"fill\":\"toself\",\"mode\":\"lines\",\"name\":\"\",\"opacity\":0,\"text\":\"timestep: 406, budget: 3.396411988572347, action: 0.8733264484321002\",\"x\":[17,20,20,17,17],\"y\":[3.0,3.0,4.0,4.0,3.0],\"type\":\"scatter\"},{\"fill\":\"toself\",\"mode\":\"lines\",\"name\":\"\",\"opacity\":0,\"text\":\"timestep: 413, budget: 0.9658007008784044, action: 0.8733264484321002\",\"x\":[17,18,18,17,17],\"y\":[4.0,4.0,5.0,5.0,4.0],\"type\":\"scatter\"},{\"fill\":\"toself\",\"mode\":\"lines\",\"name\":\"\",\"opacity\":0,\"text\":\"timestep: 424, budget: 0.8476647991169902, action: 0.8733264484321002\",\"x\":[19,20,20,19,19],\"y\":[4.0,4.0,5.0,5.0,4.0],\"type\":\"scatter\"},{\"fill\":\"toself\",\"mode\":\"lines\",\"name\":\"\",\"opacity\":0,\"text\":\"timestep: 426, budget: 2.2654227648799883, action: 0.8733264484321002\",\"x\":[17,20,20,17,17],\"y\":[6.0,6.0,7.0,7.0,6.0],\"type\":\"scatter\"},{\"fill\":\"toself\",\"mode\":\"lines\",\"name\":\"\",\"opacity\":0,\"text\":\"timestep: 427, budget: 0.7868747132203686, action: 0.8733264484321002\",\"x\":[19,20,20,19,19],\"y\":[5.0,5.0,6.0,6.0,5.0],\"type\":\"scatter\"},{\"fill\":\"toself\",\"mode\":\"lines\",\"name\":\"\",\"opacity\":0,\"text\":\"timestep: 440, budget: 0.5326906159527663, action: 0.8733264484321002\",\"x\":[18,19,19,18,18],\"y\":[4.0,4.0,5.0,5.0,4.0],\"type\":\"scatter\"},{\"fill\":\"toself\",\"mode\":\"lines\",\"name\":\"\",\"opacity\":0,\"text\":\"timestep: 444, budget: 0.9121083801572905, action: 0.8733264484321002\",\"x\":[20,21,21,20,20],\"y\":[0.0,0.0,1.0,1.0,0.0],\"type\":\"scatter\"},{\"fill\":\"toself\",\"mode\":\"lines\",\"name\":\"\",\"opacity\":0,\"text\":\"timestep: 452, budget: 0.7135735083349068, action: 0.8733264484321002\",\"x\":[18,19,19,18,18],\"y\":[5.0,5.0,6.0,6.0,5.0],\"type\":\"scatter\"},{\"fill\":\"toself\",\"mode\":\"lines\",\"name\":\"\",\"opacity\":0,\"text\":\"timestep: 455, budget: 1.222412695646583, action: 0.8733264484321002\",\"x\":[19,20,20,19,19],\"y\":[7.0,7.0,8.0,8.0,7.0],\"type\":\"scatter\"},{\"fill\":\"toself\",\"mode\":\"lines\",\"name\":\"\",\"opacity\":0,\"text\":\"timestep: 461, budget: 2.734961081342928, action: 0.8733264484321002\",\"x\":[19,22,22,19,19],\"y\":[10.0,10.0,11.0,11.0,10.0],\"type\":\"scatter\"},{\"fill\":\"toself\",\"mode\":\"lines\",\"name\":\"\",\"opacity\":0,\"text\":\"timestep: 463, budget: 1.2010867040017497, action: 0.8733264484321002\",\"x\":[19,20,20,19,19],\"y\":[11.0,11.0,12.0,12.0,11.0],\"type\":\"scatter\"},{\"fill\":\"toself\",\"mode\":\"lines\",\"name\":\"\",\"opacity\":0,\"text\":\"timestep: 466, budget: 1.5148666038064684, action: 0.8733264484321002\",\"x\":[20,21,21,20,20],\"y\":[3.0,3.0,4.0,4.0,3.0],\"type\":\"scatter\"},{\"fill\":\"toself\",\"mode\":\"lines\",\"name\":\"\",\"opacity\":0,\"text\":\"timestep: 477, budget: 4.249768196630529, action: 0.8733264484321002\",\"x\":[19,23,23,19,19],\"y\":[14.0,14.0,15.0,15.0,14.0],\"type\":\"scatter\"},{\"fill\":\"toself\",\"mode\":\"lines\",\"name\":\"\",\"opacity\":0,\"text\":\"timestep: 503, budget: 0.6334208896691593, action: 0.8733264484321002\",\"x\":[21,22,22,21,21],\"y\":[0.0,0.0,1.0,1.0,0.0],\"type\":\"scatter\"},{\"fill\":\"toself\",\"mode\":\"lines\",\"name\":\"\",\"opacity\":0,\"text\":\"timestep: 550, budget: 1.3443277588507163, action: 0.8733264484321002\",\"x\":[22,23,23,22,22],\"y\":[0.0,0.0,1.0,1.0,0.0],\"type\":\"scatter\"},{\"fill\":\"toself\",\"mode\":\"lines\",\"name\":\"\",\"opacity\":0,\"text\":\"timestep: 560, budget: 1.1784389116773375, action: 0.8733264484321002\",\"x\":[23,24,24,23,23],\"y\":[0.0,0.0,1.0,1.0,0.0],\"type\":\"scatter\"},{\"fill\":\"toself\",\"mode\":\"lines\",\"name\":\"\",\"opacity\":0,\"text\":\"timestep: 561, budget: 0.7133696675565517, action: 0.8733264484321002\",\"x\":[23,24,24,23,23],\"y\":[1.0,1.0,2.0,2.0,1.0],\"type\":\"scatter\"},{\"fill\":\"toself\",\"mode\":\"lines\",\"name\":\"\",\"opacity\":0,\"text\":\"timestep: 565, budget: 0.8442636059968742, action: 0.8733264484321002\",\"x\":[23,24,24,23,23],\"y\":[2.0,2.0,3.0,3.0,2.0],\"type\":\"scatter\"},{\"fill\":\"toself\",\"mode\":\"lines\",\"name\":\"\",\"opacity\":0,\"text\":\"timestep: 570, budget: 1.3496696011969804, action: 0.8733264484321002\",\"x\":[23,24,24,23,23],\"y\":[3.0,3.0,4.0,4.0,3.0],\"type\":\"scatter\"},{\"fill\":\"toself\",\"mode\":\"lines\",\"name\":\"\",\"opacity\":0,\"text\":\"timestep: 574, budget: 1.160007534543492, action: 0.8733264484321002\",\"x\":[23,24,24,23,23],\"y\":[4.0,4.0,5.0,5.0,4.0],\"type\":\"scatter\"}],                        {\"template\":{\"data\":{\"histogram2dcontour\":[{\"type\":\"histogram2dcontour\",\"colorbar\":{\"outlinewidth\":0,\"ticks\":\"\"},\"colorscale\":[[0.0,\"#0d0887\"],[0.1111111111111111,\"#46039f\"],[0.2222222222222222,\"#7201a8\"],[0.3333333333333333,\"#9c179e\"],[0.4444444444444444,\"#bd3786\"],[0.5555555555555556,\"#d8576b\"],[0.6666666666666666,\"#ed7953\"],[0.7777777777777778,\"#fb9f3a\"],[0.8888888888888888,\"#fdca26\"],[1.0,\"#f0f921\"]]}],\"choropleth\":[{\"type\":\"choropleth\",\"colorbar\":{\"outlinewidth\":0,\"ticks\":\"\"}}],\"histogram2d\":[{\"type\":\"histogram2d\",\"colorbar\":{\"outlinewidth\":0,\"ticks\":\"\"},\"colorscale\":[[0.0,\"#0d0887\"],[0.1111111111111111,\"#46039f\"],[0.2222222222222222,\"#7201a8\"],[0.3333333333333333,\"#9c179e\"],[0.4444444444444444,\"#bd3786\"],[0.5555555555555556,\"#d8576b\"],[0.6666666666666666,\"#ed7953\"],[0.7777777777777778,\"#fb9f3a\"],[0.8888888888888888,\"#fdca26\"],[1.0,\"#f0f921\"]]}],\"heatmap\":[{\"type\":\"heatmap\",\"colorbar\":{\"outlinewidth\":0,\"ticks\":\"\"},\"colorscale\":[[0.0,\"#0d0887\"],[0.1111111111111111,\"#46039f\"],[0.2222222222222222,\"#7201a8\"],[0.3333333333333333,\"#9c179e\"],[0.4444444444444444,\"#bd3786\"],[0.5555555555555556,\"#d8576b\"],[0.6666666666666666,\"#ed7953\"],[0.7777777777777778,\"#fb9f3a\"],[0.8888888888888888,\"#fdca26\"],[1.0,\"#f0f921\"]]}],\"heatmapgl\":[{\"type\":\"heatmapgl\",\"colorbar\":{\"outlinewidth\":0,\"ticks\":\"\"},\"colorscale\":[[0.0,\"#0d0887\"],[0.1111111111111111,\"#46039f\"],[0.2222222222222222,\"#7201a8\"],[0.3333333333333333,\"#9c179e\"],[0.4444444444444444,\"#bd3786\"],[0.5555555555555556,\"#d8576b\"],[0.6666666666666666,\"#ed7953\"],[0.7777777777777778,\"#fb9f3a\"],[0.8888888888888888,\"#fdca26\"],[1.0,\"#f0f921\"]]}],\"contourcarpet\":[{\"type\":\"contourcarpet\",\"colorbar\":{\"outlinewidth\":0,\"ticks\":\"\"}}],\"contour\":[{\"type\":\"contour\",\"colorbar\":{\"outlinewidth\":0,\"ticks\":\"\"},\"colorscale\":[[0.0,\"#0d0887\"],[0.1111111111111111,\"#46039f\"],[0.2222222222222222,\"#7201a8\"],[0.3333333333333333,\"#9c179e\"],[0.4444444444444444,\"#bd3786\"],[0.5555555555555556,\"#d8576b\"],[0.6666666666666666,\"#ed7953\"],[0.7777777777777778,\"#fb9f3a\"],[0.8888888888888888,\"#fdca26\"],[1.0,\"#f0f921\"]]}],\"surface\":[{\"type\":\"surface\",\"colorbar\":{\"outlinewidth\":0,\"ticks\":\"\"},\"colorscale\":[[0.0,\"#0d0887\"],[0.1111111111111111,\"#46039f\"],[0.2222222222222222,\"#7201a8\"],[0.3333333333333333,\"#9c179e\"],[0.4444444444444444,\"#bd3786\"],[0.5555555555555556,\"#d8576b\"],[0.6666666666666666,\"#ed7953\"],[0.7777777777777778,\"#fb9f3a\"],[0.8888888888888888,\"#fdca26\"],[1.0,\"#f0f921\"]]}],\"mesh3d\":[{\"type\":\"mesh3d\",\"colorbar\":{\"outlinewidth\":0,\"ticks\":\"\"}}],\"scatter\":[{\"fillpattern\":{\"fillmode\":\"overlay\",\"size\":10,\"solidity\":0.2},\"type\":\"scatter\"}],\"parcoords\":[{\"type\":\"parcoords\",\"line\":{\"colorbar\":{\"outlinewidth\":0,\"ticks\":\"\"}}}],\"scatterpolargl\":[{\"type\":\"scatterpolargl\",\"marker\":{\"colorbar\":{\"outlinewidth\":0,\"ticks\":\"\"}}}],\"bar\":[{\"error_x\":{\"color\":\"#2a3f5f\"},\"error_y\":{\"color\":\"#2a3f5f\"},\"marker\":{\"line\":{\"color\":\"#E5ECF6\",\"width\":0.5},\"pattern\":{\"fillmode\":\"overlay\",\"size\":10,\"solidity\":0.2}},\"type\":\"bar\"}],\"scattergeo\":[{\"type\":\"scattergeo\",\"marker\":{\"colorbar\":{\"outlinewidth\":0,\"ticks\":\"\"}}}],\"scatterpolar\":[{\"type\":\"scatterpolar\",\"marker\":{\"colorbar\":{\"outlinewidth\":0,\"ticks\":\"\"}}}],\"histogram\":[{\"marker\":{\"pattern\":{\"fillmode\":\"overlay\",\"size\":10,\"solidity\":0.2}},\"type\":\"histogram\"}],\"scattergl\":[{\"type\":\"scattergl\",\"marker\":{\"colorbar\":{\"outlinewidth\":0,\"ticks\":\"\"}}}],\"scatter3d\":[{\"type\":\"scatter3d\",\"line\":{\"colorbar\":{\"outlinewidth\":0,\"ticks\":\"\"}},\"marker\":{\"colorbar\":{\"outlinewidth\":0,\"ticks\":\"\"}}}],\"scattermapbox\":[{\"type\":\"scattermapbox\",\"marker\":{\"colorbar\":{\"outlinewidth\":0,\"ticks\":\"\"}}}],\"scatterternary\":[{\"type\":\"scatterternary\",\"marker\":{\"colorbar\":{\"outlinewidth\":0,\"ticks\":\"\"}}}],\"scattercarpet\":[{\"type\":\"scattercarpet\",\"marker\":{\"colorbar\":{\"outlinewidth\":0,\"ticks\":\"\"}}}],\"carpet\":[{\"aaxis\":{\"endlinecolor\":\"#2a3f5f\",\"gridcolor\":\"white\",\"linecolor\":\"white\",\"minorgridcolor\":\"white\",\"startlinecolor\":\"#2a3f5f\"},\"baxis\":{\"endlinecolor\":\"#2a3f5f\",\"gridcolor\":\"white\",\"linecolor\":\"white\",\"minorgridcolor\":\"white\",\"startlinecolor\":\"#2a3f5f\"},\"type\":\"carpet\"}],\"table\":[{\"cells\":{\"fill\":{\"color\":\"#EBF0F8\"},\"line\":{\"color\":\"white\"}},\"header\":{\"fill\":{\"color\":\"#C8D4E3\"},\"line\":{\"color\":\"white\"}},\"type\":\"table\"}],\"barpolar\":[{\"marker\":{\"line\":{\"color\":\"#E5ECF6\",\"width\":0.5},\"pattern\":{\"fillmode\":\"overlay\",\"size\":10,\"solidity\":0.2}},\"type\":\"barpolar\"}],\"pie\":[{\"automargin\":true,\"type\":\"pie\"}]},\"layout\":{\"autotypenumbers\":\"strict\",\"colorway\":[\"#636efa\",\"#EF553B\",\"#00cc96\",\"#ab63fa\",\"#FFA15A\",\"#19d3f3\",\"#FF6692\",\"#B6E880\",\"#FF97FF\",\"#FECB52\"],\"font\":{\"color\":\"#2a3f5f\"},\"hovermode\":\"closest\",\"hoverlabel\":{\"align\":\"left\"},\"paper_bgcolor\":\"white\",\"plot_bgcolor\":\"#E5ECF6\",\"polar\":{\"bgcolor\":\"#E5ECF6\",\"angularaxis\":{\"gridcolor\":\"white\",\"linecolor\":\"white\",\"ticks\":\"\"},\"radialaxis\":{\"gridcolor\":\"white\",\"linecolor\":\"white\",\"ticks\":\"\"}},\"ternary\":{\"bgcolor\":\"#E5ECF6\",\"aaxis\":{\"gridcolor\":\"white\",\"linecolor\":\"white\",\"ticks\":\"\"},\"baxis\":{\"gridcolor\":\"white\",\"linecolor\":\"white\",\"ticks\":\"\"},\"caxis\":{\"gridcolor\":\"white\",\"linecolor\":\"white\",\"ticks\":\"\"}},\"coloraxis\":{\"colorbar\":{\"outlinewidth\":0,\"ticks\":\"\"}},\"colorscale\":{\"sequential\":[[0.0,\"#0d0887\"],[0.1111111111111111,\"#46039f\"],[0.2222222222222222,\"#7201a8\"],[0.3333333333333333,\"#9c179e\"],[0.4444444444444444,\"#bd3786\"],[0.5555555555555556,\"#d8576b\"],[0.6666666666666666,\"#ed7953\"],[0.7777777777777778,\"#fb9f3a\"],[0.8888888888888888,\"#fdca26\"],[1.0,\"#f0f921\"]],\"sequentialminus\":[[0.0,\"#0d0887\"],[0.1111111111111111,\"#46039f\"],[0.2222222222222222,\"#7201a8\"],[0.3333333333333333,\"#9c179e\"],[0.4444444444444444,\"#bd3786\"],[0.5555555555555556,\"#d8576b\"],[0.6666666666666666,\"#ed7953\"],[0.7777777777777778,\"#fb9f3a\"],[0.8888888888888888,\"#fdca26\"],[1.0,\"#f0f921\"]],\"diverging\":[[0,\"#8e0152\"],[0.1,\"#c51b7d\"],[0.2,\"#de77ae\"],[0.3,\"#f1b6da\"],[0.4,\"#fde0ef\"],[0.5,\"#f7f7f7\"],[0.6,\"#e6f5d0\"],[0.7,\"#b8e186\"],[0.8,\"#7fbc41\"],[0.9,\"#4d9221\"],[1,\"#276419\"]]},\"xaxis\":{\"gridcolor\":\"white\",\"linecolor\":\"white\",\"ticks\":\"\",\"title\":{\"standoff\":15},\"zerolinecolor\":\"white\",\"automargin\":true,\"zerolinewidth\":2},\"yaxis\":{\"gridcolor\":\"white\",\"linecolor\":\"white\",\"ticks\":\"\",\"title\":{\"standoff\":15},\"zerolinecolor\":\"white\",\"automargin\":true,\"zerolinewidth\":2},\"scene\":{\"xaxis\":{\"backgroundcolor\":\"#E5ECF6\",\"gridcolor\":\"white\",\"linecolor\":\"white\",\"showbackground\":true,\"ticks\":\"\",\"zerolinecolor\":\"white\",\"gridwidth\":2},\"yaxis\":{\"backgroundcolor\":\"#E5ECF6\",\"gridcolor\":\"white\",\"linecolor\":\"white\",\"showbackground\":true,\"ticks\":\"\",\"zerolinecolor\":\"white\",\"gridwidth\":2},\"zaxis\":{\"backgroundcolor\":\"#E5ECF6\",\"gridcolor\":\"white\",\"linecolor\":\"white\",\"showbackground\":true,\"ticks\":\"\",\"zerolinecolor\":\"white\",\"gridwidth\":2}},\"shapedefaults\":{\"line\":{\"color\":\"#2a3f5f\"}},\"annotationdefaults\":{\"arrowcolor\":\"#2a3f5f\",\"arrowhead\":0,\"arrowwidth\":1},\"geo\":{\"bgcolor\":\"white\",\"landcolor\":\"#E5ECF6\",\"subunitcolor\":\"white\",\"showland\":true,\"showlakes\":true,\"lakecolor\":\"white\"},\"title\":{\"x\":0.05},\"mapbox\":{\"style\":\"light\"}}},\"yaxis\":{\"range\":[0,16],\"showticklabels\":false},\"shapes\":[{\"fillcolor\":\"rgba(99, 110, 250, 0.5)\",\"line\":{\"color\":\"White\",\"width\":1},\"type\":\"rect\",\"x0\":8,\"x1\":9,\"y0\":0.0,\"y1\":1.0,\"xref\":\"x\",\"yref\":\"y\"},{\"fillcolor\":\"rgba(99, 110, 250, 0.5)\",\"line\":{\"color\":\"White\",\"width\":1},\"type\":\"rect\",\"x0\":8,\"x1\":9,\"y0\":1.0,\"y1\":2.0,\"xref\":\"x\",\"yref\":\"y\"},{\"fillcolor\":\"rgba(99, 110, 250, 0.5)\",\"line\":{\"color\":\"White\",\"width\":1},\"type\":\"rect\",\"x0\":12,\"x1\":13,\"y0\":0.0,\"y1\":1.0,\"xref\":\"x\",\"yref\":\"y\"},{\"fillcolor\":\"rgba(99, 110, 250, 0.5)\",\"line\":{\"color\":\"White\",\"width\":1},\"type\":\"rect\",\"x0\":13,\"x1\":15,\"y0\":0.0,\"y1\":1.0,\"xref\":\"x\",\"yref\":\"y\"},{\"fillcolor\":\"rgba(99, 110, 250, 0.5)\",\"line\":{\"color\":\"White\",\"width\":1},\"type\":\"rect\",\"x0\":7,\"x1\":9,\"y0\":2.0,\"y1\":3.0,\"xref\":\"x\",\"yref\":\"y\"},{\"fillcolor\":\"rgba(99, 110, 250, 0.5)\",\"line\":{\"color\":\"White\",\"width\":1},\"type\":\"rect\",\"x0\":7,\"x1\":8,\"y0\":0.0,\"y1\":1.0,\"xref\":\"x\",\"yref\":\"y\"},{\"fillcolor\":\"rgba(99, 110, 250, 0.5)\",\"line\":{\"color\":\"White\",\"width\":1},\"type\":\"rect\",\"x0\":11,\"x1\":12,\"y0\":0.0,\"y1\":1.0,\"xref\":\"x\",\"yref\":\"y\"},{\"fillcolor\":\"rgba(99, 110, 250, 0.5)\",\"line\":{\"color\":\"White\",\"width\":1},\"type\":\"rect\",\"x0\":12,\"x1\":13,\"y0\":1.0,\"y1\":2.0,\"xref\":\"x\",\"yref\":\"y\"},{\"fillcolor\":\"rgba(99, 110, 250, 0.5)\",\"line\":{\"color\":\"White\",\"width\":1},\"type\":\"rect\",\"x0\":11,\"x1\":12,\"y0\":1.0,\"y1\":2.0,\"xref\":\"x\",\"yref\":\"y\"},{\"fillcolor\":\"rgba(99, 110, 250, 0.5)\",\"line\":{\"color\":\"White\",\"width\":1},\"type\":\"rect\",\"x0\":11,\"x1\":12,\"y0\":2.0,\"y1\":3.0,\"xref\":\"x\",\"yref\":\"y\"},{\"fillcolor\":\"rgba(99, 110, 250, 0.5)\",\"line\":{\"color\":\"White\",\"width\":1},\"type\":\"rect\",\"x0\":14,\"x1\":15,\"y0\":1.0,\"y1\":2.0,\"xref\":\"x\",\"yref\":\"y\"},{\"fillcolor\":\"rgba(99, 110, 250, 0.5)\",\"line\":{\"color\":\"White\",\"width\":1},\"type\":\"rect\",\"x0\":18,\"x1\":20,\"y0\":0.0,\"y1\":1.0,\"xref\":\"x\",\"yref\":\"y\"},{\"fillcolor\":\"rgba(99, 110, 250, 0.5)\",\"line\":{\"color\":\"White\",\"width\":1},\"type\":\"rect\",\"x0\":7,\"x1\":8,\"y0\":1.0,\"y1\":2.0,\"xref\":\"x\",\"yref\":\"y\"},{\"fillcolor\":\"rgba(99, 110, 250, 0.5)\",\"line\":{\"color\":\"White\",\"width\":1},\"type\":\"rect\",\"x0\":14,\"x1\":16,\"y0\":2.0,\"y1\":3.0,\"xref\":\"x\",\"yref\":\"y\"},{\"fillcolor\":\"rgba(99, 110, 250, 0.5)\",\"line\":{\"color\":\"White\",\"width\":1},\"type\":\"rect\",\"x0\":15,\"x1\":16,\"y0\":0.0,\"y1\":1.0,\"xref\":\"x\",\"yref\":\"y\"},{\"fillcolor\":\"rgba(99, 110, 250, 0.5)\",\"line\":{\"color\":\"White\",\"width\":1},\"type\":\"rect\",\"x0\":12,\"x1\":15,\"y0\":3.0,\"y1\":4.0,\"xref\":\"x\",\"yref\":\"y\"},{\"fillcolor\":\"rgba(99, 110, 250, 0.5)\",\"line\":{\"color\":\"White\",\"width\":1},\"type\":\"rect\",\"x0\":9,\"x1\":13,\"y0\":4.0,\"y1\":5.0,\"xref\":\"x\",\"yref\":\"y\"},{\"fillcolor\":\"rgba(99, 110, 250, 0.5)\",\"line\":{\"color\":\"White\",\"width\":1},\"type\":\"rect\",\"x0\":13,\"x1\":14,\"y0\":1.0,\"y1\":2.0,\"xref\":\"x\",\"yref\":\"y\"},{\"fillcolor\":\"rgba(99, 110, 250, 0.5)\",\"line\":{\"color\":\"White\",\"width\":1},\"type\":\"rect\",\"x0\":11,\"x1\":12,\"y0\":3.0,\"y1\":4.0,\"xref\":\"x\",\"yref\":\"y\"},{\"fillcolor\":\"rgba(99, 110, 250, 0.5)\",\"line\":{\"color\":\"White\",\"width\":1},\"type\":\"rect\",\"x0\":13,\"x1\":15,\"y0\":4.0,\"y1\":5.0,\"xref\":\"x\",\"yref\":\"y\"},{\"fillcolor\":\"rgba(99, 110, 250, 0.5)\",\"line\":{\"color\":\"White\",\"width\":1},\"type\":\"rect\",\"x0\":6,\"x1\":8,\"y0\":3.0,\"y1\":4.0,\"xref\":\"x\",\"yref\":\"y\"},{\"fillcolor\":\"rgba(99, 110, 250, 0.5)\",\"line\":{\"color\":\"White\",\"width\":1},\"type\":\"rect\",\"x0\":9,\"x1\":13,\"y0\":5.0,\"y1\":6.0,\"xref\":\"x\",\"yref\":\"y\"},{\"fillcolor\":\"rgba(99, 110, 250, 0.5)\",\"line\":{\"color\":\"White\",\"width\":1},\"type\":\"rect\",\"x0\":7,\"x1\":11,\"y0\":6.0,\"y1\":7.0,\"xref\":\"x\",\"yref\":\"y\"},{\"fillcolor\":\"rgba(99, 110, 250, 0.5)\",\"line\":{\"color\":\"White\",\"width\":1},\"type\":\"rect\",\"x0\":13,\"x1\":16,\"y0\":5.0,\"y1\":6.0,\"xref\":\"x\",\"yref\":\"y\"},{\"fillcolor\":\"rgba(99, 110, 250, 0.5)\",\"line\":{\"color\":\"White\",\"width\":1},\"type\":\"rect\",\"x0\":11,\"x1\":12,\"y0\":6.0,\"y1\":7.0,\"xref\":\"x\",\"yref\":\"y\"},{\"fillcolor\":\"rgba(99, 110, 250, 0.5)\",\"line\":{\"color\":\"White\",\"width\":1},\"type\":\"rect\",\"x0\":10,\"x1\":11,\"y0\":0.0,\"y1\":1.0,\"xref\":\"x\",\"yref\":\"y\"},{\"fillcolor\":\"rgba(99, 110, 250, 0.5)\",\"line\":{\"color\":\"White\",\"width\":1},\"type\":\"rect\",\"x0\":12,\"x1\":13,\"y0\":2.0,\"y1\":3.0,\"xref\":\"x\",\"yref\":\"y\"},{\"fillcolor\":\"rgba(99, 110, 250, 0.5)\",\"line\":{\"color\":\"White\",\"width\":1},\"type\":\"rect\",\"x0\":14,\"x1\":17,\"y0\":6.0,\"y1\":7.0,\"xref\":\"x\",\"yref\":\"y\"},{\"fillcolor\":\"rgba(99, 110, 250, 0.5)\",\"line\":{\"color\":\"White\",\"width\":1},\"type\":\"rect\",\"x0\":11,\"x1\":13,\"y0\":7.0,\"y1\":8.0,\"xref\":\"x\",\"yref\":\"y\"},{\"fillcolor\":\"rgba(99, 110, 250, 0.5)\",\"line\":{\"color\":\"White\",\"width\":1},\"type\":\"rect\",\"x0\":8,\"x1\":9,\"y0\":3.0,\"y1\":4.0,\"xref\":\"x\",\"yref\":\"y\"},{\"fillcolor\":\"rgba(99, 110, 250, 0.5)\",\"line\":{\"color\":\"White\",\"width\":1},\"type\":\"rect\",\"x0\":10,\"x1\":11,\"y0\":1.0,\"y1\":2.0,\"xref\":\"x\",\"yref\":\"y\"},{\"fillcolor\":\"rgba(99, 110, 250, 0.5)\",\"line\":{\"color\":\"White\",\"width\":1},\"type\":\"rect\",\"x0\":8,\"x1\":9,\"y0\":4.0,\"y1\":5.0,\"xref\":\"x\",\"yref\":\"y\"},{\"fillcolor\":\"rgba(99, 110, 250, 0.5)\",\"line\":{\"color\":\"White\",\"width\":1},\"type\":\"rect\",\"x0\":12,\"x1\":13,\"y0\":6.0,\"y1\":7.0,\"xref\":\"x\",\"yref\":\"y\"},{\"fillcolor\":\"rgba(99, 110, 250, 0.5)\",\"line\":{\"color\":\"White\",\"width\":1},\"type\":\"rect\",\"x0\":13,\"x1\":14,\"y0\":2.0,\"y1\":3.0,\"xref\":\"x\",\"yref\":\"y\"},{\"fillcolor\":\"rgba(99, 110, 250, 0.5)\",\"line\":{\"color\":\"White\",\"width\":1},\"type\":\"rect\",\"x0\":12,\"x1\":15,\"y0\":8.0,\"y1\":9.0,\"xref\":\"x\",\"yref\":\"y\"},{\"fillcolor\":\"rgba(99, 110, 250, 0.5)\",\"line\":{\"color\":\"White\",\"width\":1},\"type\":\"rect\",\"x0\":14,\"x1\":15,\"y0\":7.0,\"y1\":8.0,\"xref\":\"x\",\"yref\":\"y\"},{\"fillcolor\":\"rgba(99, 110, 250, 0.5)\",\"line\":{\"color\":\"White\",\"width\":1},\"type\":\"rect\",\"x0\":12,\"x1\":20,\"y0\":9.0,\"y1\":10.0,\"xref\":\"x\",\"yref\":\"y\"},{\"fillcolor\":\"rgba(99, 110, 250, 0.5)\",\"line\":{\"color\":\"White\",\"width\":1},\"type\":\"rect\",\"x0\":14,\"x1\":16,\"y0\":10.0,\"y1\":11.0,\"xref\":\"x\",\"yref\":\"y\"},{\"fillcolor\":\"rgba(99, 110, 250, 0.5)\",\"line\":{\"color\":\"White\",\"width\":1},\"type\":\"rect\",\"x0\":16,\"x1\":17,\"y0\":0.0,\"y1\":1.0,\"xref\":\"x\",\"yref\":\"y\"},{\"fillcolor\":\"rgba(99, 110, 250, 0.5)\",\"line\":{\"color\":\"White\",\"width\":1},\"type\":\"rect\",\"x0\":13,\"x1\":14,\"y0\":6.0,\"y1\":7.0,\"xref\":\"x\",\"yref\":\"y\"},{\"fillcolor\":\"rgba(99, 110, 250, 0.5)\",\"line\":{\"color\":\"White\",\"width\":1},\"type\":\"rect\",\"x0\":13,\"x1\":16,\"y0\":11.0,\"y1\":12.0,\"xref\":\"x\",\"yref\":\"y\"},{\"fillcolor\":\"rgba(99, 110, 250, 0.5)\",\"line\":{\"color\":\"White\",\"width\":1},\"type\":\"rect\",\"x0\":12,\"x1\":14,\"y0\":10.0,\"y1\":11.0,\"xref\":\"x\",\"yref\":\"y\"},{\"fillcolor\":\"rgba(99, 110, 250, 0.5)\",\"line\":{\"color\":\"White\",\"width\":1},\"type\":\"rect\",\"x0\":16,\"x1\":17,\"y0\":1.0,\"y1\":2.0,\"xref\":\"x\",\"yref\":\"y\"},{\"fillcolor\":\"rgba(99, 110, 250, 0.5)\",\"line\":{\"color\":\"White\",\"width\":1},\"type\":\"rect\",\"x0\":15,\"x1\":17,\"y0\":3.0,\"y1\":4.0,\"xref\":\"x\",\"yref\":\"y\"},{\"fillcolor\":\"rgba(99, 110, 250, 0.5)\",\"line\":{\"color\":\"White\",\"width\":1},\"type\":\"rect\",\"x0\":14,\"x1\":21,\"y0\":12.0,\"y1\":13.0,\"xref\":\"x\",\"yref\":\"y\"},{\"fillcolor\":\"rgba(99, 110, 250, 0.5)\",\"line\":{\"color\":\"White\",\"width\":1},\"type\":\"rect\",\"x0\":16,\"x1\":22,\"y0\":2.0,\"y1\":3.0,\"xref\":\"x\",\"yref\":\"y\"},{\"fillcolor\":\"rgba(99, 110, 250, 0.5)\",\"line\":{\"color\":\"White\",\"width\":1},\"type\":\"rect\",\"x0\":13,\"x1\":20,\"y0\":13.0,\"y1\":14.0,\"xref\":\"x\",\"yref\":\"y\"},{\"fillcolor\":\"rgba(99, 110, 250, 0.5)\",\"line\":{\"color\":\"White\",\"width\":1},\"type\":\"rect\",\"x0\":17,\"x1\":23,\"y0\":1.0,\"y1\":2.0,\"xref\":\"x\",\"yref\":\"y\"},{\"fillcolor\":\"rgba(99, 110, 250, 0.5)\",\"line\":{\"color\":\"White\",\"width\":1},\"type\":\"rect\",\"x0\":14,\"x1\":15,\"y0\":14.0,\"y1\":15.0,\"xref\":\"x\",\"yref\":\"y\"},{\"fillcolor\":\"rgba(99, 110, 250, 0.5)\",\"line\":{\"color\":\"White\",\"width\":1},\"type\":\"rect\",\"x0\":15,\"x1\":16,\"y0\":1.0,\"y1\":2.0,\"xref\":\"x\",\"yref\":\"y\"},{\"fillcolor\":\"rgba(99, 110, 250, 0.5)\",\"line\":{\"color\":\"White\",\"width\":1},\"type\":\"rect\",\"x0\":16,\"x1\":17,\"y0\":4.0,\"y1\":5.0,\"xref\":\"x\",\"yref\":\"y\"},{\"fillcolor\":\"rgba(99, 110, 250, 0.5)\",\"line\":{\"color\":\"White\",\"width\":1},\"type\":\"rect\",\"x0\":14,\"x1\":17,\"y0\":15.0,\"y1\":16.0,\"xref\":\"x\",\"yref\":\"y\"},{\"fillcolor\":\"rgba(99, 110, 250, 0.5)\",\"line\":{\"color\":\"White\",\"width\":1},\"type\":\"rect\",\"x0\":15,\"x1\":19,\"y0\":7.0,\"y1\":8.0,\"xref\":\"x\",\"yref\":\"y\"},{\"fillcolor\":\"rgba(99, 110, 250, 0.5)\",\"line\":{\"color\":\"White\",\"width\":1},\"type\":\"rect\",\"x0\":15,\"x1\":16,\"y0\":4.0,\"y1\":5.0,\"xref\":\"x\",\"yref\":\"y\"},{\"fillcolor\":\"rgba(99, 110, 250, 0.5)\",\"line\":{\"color\":\"White\",\"width\":1},\"type\":\"rect\",\"x0\":17,\"x1\":18,\"y0\":0.0,\"y1\":1.0,\"xref\":\"x\",\"yref\":\"y\"},{\"fillcolor\":\"rgba(99, 110, 250, 0.5)\",\"line\":{\"color\":\"White\",\"width\":1},\"type\":\"rect\",\"x0\":15,\"x1\":20,\"y0\":8.0,\"y1\":9.0,\"xref\":\"x\",\"yref\":\"y\"},{\"fillcolor\":\"rgba(99, 110, 250, 0.5)\",\"line\":{\"color\":\"White\",\"width\":1},\"type\":\"rect\",\"x0\":16,\"x1\":18,\"y0\":5.0,\"y1\":6.0,\"xref\":\"x\",\"yref\":\"y\"},{\"fillcolor\":\"rgba(99, 110, 250, 0.5)\",\"line\":{\"color\":\"White\",\"width\":1},\"type\":\"rect\",\"x0\":16,\"x1\":17,\"y0\":10.0,\"y1\":11.0,\"xref\":\"x\",\"yref\":\"y\"},{\"fillcolor\":\"rgba(99, 110, 250, 0.5)\",\"line\":{\"color\":\"White\",\"width\":1},\"type\":\"rect\",\"x0\":16,\"x1\":17,\"y0\":11.0,\"y1\":12.0,\"xref\":\"x\",\"yref\":\"y\"},{\"fillcolor\":\"rgba(99, 110, 250, 0.5)\",\"line\":{\"color\":\"White\",\"width\":1},\"type\":\"rect\",\"x0\":17,\"x1\":20,\"y0\":3.0,\"y1\":4.0,\"xref\":\"x\",\"yref\":\"y\"},{\"fillcolor\":\"rgba(99, 110, 250, 0.5)\",\"line\":{\"color\":\"White\",\"width\":1},\"type\":\"rect\",\"x0\":17,\"x1\":18,\"y0\":4.0,\"y1\":5.0,\"xref\":\"x\",\"yref\":\"y\"},{\"fillcolor\":\"rgba(99, 110, 250, 0.5)\",\"line\":{\"color\":\"White\",\"width\":1},\"type\":\"rect\",\"x0\":19,\"x1\":20,\"y0\":4.0,\"y1\":5.0,\"xref\":\"x\",\"yref\":\"y\"},{\"fillcolor\":\"rgba(99, 110, 250, 0.5)\",\"line\":{\"color\":\"White\",\"width\":1},\"type\":\"rect\",\"x0\":17,\"x1\":20,\"y0\":6.0,\"y1\":7.0,\"xref\":\"x\",\"yref\":\"y\"},{\"fillcolor\":\"rgba(99, 110, 250, 0.5)\",\"line\":{\"color\":\"White\",\"width\":1},\"type\":\"rect\",\"x0\":19,\"x1\":20,\"y0\":5.0,\"y1\":6.0,\"xref\":\"x\",\"yref\":\"y\"},{\"fillcolor\":\"rgba(99, 110, 250, 0.5)\",\"line\":{\"color\":\"White\",\"width\":1},\"type\":\"rect\",\"x0\":18,\"x1\":19,\"y0\":4.0,\"y1\":5.0,\"xref\":\"x\",\"yref\":\"y\"},{\"fillcolor\":\"rgba(99, 110, 250, 0.5)\",\"line\":{\"color\":\"White\",\"width\":1},\"type\":\"rect\",\"x0\":20,\"x1\":21,\"y0\":0.0,\"y1\":1.0,\"xref\":\"x\",\"yref\":\"y\"},{\"fillcolor\":\"rgba(99, 110, 250, 0.5)\",\"line\":{\"color\":\"White\",\"width\":1},\"type\":\"rect\",\"x0\":18,\"x1\":19,\"y0\":5.0,\"y1\":6.0,\"xref\":\"x\",\"yref\":\"y\"},{\"fillcolor\":\"rgba(99, 110, 250, 0.5)\",\"line\":{\"color\":\"White\",\"width\":1},\"type\":\"rect\",\"x0\":19,\"x1\":20,\"y0\":7.0,\"y1\":8.0,\"xref\":\"x\",\"yref\":\"y\"},{\"fillcolor\":\"rgba(99, 110, 250, 0.5)\",\"line\":{\"color\":\"White\",\"width\":1},\"type\":\"rect\",\"x0\":19,\"x1\":22,\"y0\":10.0,\"y1\":11.0,\"xref\":\"x\",\"yref\":\"y\"},{\"fillcolor\":\"rgba(99, 110, 250, 0.5)\",\"line\":{\"color\":\"White\",\"width\":1},\"type\":\"rect\",\"x0\":19,\"x1\":20,\"y0\":11.0,\"y1\":12.0,\"xref\":\"x\",\"yref\":\"y\"},{\"fillcolor\":\"rgba(99, 110, 250, 0.5)\",\"line\":{\"color\":\"White\",\"width\":1},\"type\":\"rect\",\"x0\":20,\"x1\":21,\"y0\":3.0,\"y1\":4.0,\"xref\":\"x\",\"yref\":\"y\"},{\"fillcolor\":\"rgba(99, 110, 250, 0.5)\",\"line\":{\"color\":\"White\",\"width\":1},\"type\":\"rect\",\"x0\":19,\"x1\":23,\"y0\":14.0,\"y1\":15.0,\"xref\":\"x\",\"yref\":\"y\"},{\"fillcolor\":\"rgba(99, 110, 250, 0.5)\",\"line\":{\"color\":\"White\",\"width\":1},\"type\":\"rect\",\"x0\":21,\"x1\":22,\"y0\":0.0,\"y1\":1.0,\"xref\":\"x\",\"yref\":\"y\"},{\"fillcolor\":\"rgba(99, 110, 250, 0.5)\",\"line\":{\"color\":\"White\",\"width\":1},\"type\":\"rect\",\"x0\":22,\"x1\":23,\"y0\":0.0,\"y1\":1.0,\"xref\":\"x\",\"yref\":\"y\"},{\"fillcolor\":\"rgba(99, 110, 250, 0.5)\",\"line\":{\"color\":\"White\",\"width\":1},\"type\":\"rect\",\"x0\":23,\"x1\":24,\"y0\":0.0,\"y1\":1.0,\"xref\":\"x\",\"yref\":\"y\"},{\"fillcolor\":\"rgba(99, 110, 250, 0.5)\",\"line\":{\"color\":\"White\",\"width\":1},\"type\":\"rect\",\"x0\":23,\"x1\":24,\"y0\":1.0,\"y1\":2.0,\"xref\":\"x\",\"yref\":\"y\"},{\"fillcolor\":\"rgba(99, 110, 250, 0.5)\",\"line\":{\"color\":\"White\",\"width\":1},\"type\":\"rect\",\"x0\":23,\"x1\":24,\"y0\":2.0,\"y1\":3.0,\"xref\":\"x\",\"yref\":\"y\"},{\"fillcolor\":\"rgba(99, 110, 250, 0.5)\",\"line\":{\"color\":\"White\",\"width\":1},\"type\":\"rect\",\"x0\":23,\"x1\":24,\"y0\":3.0,\"y1\":4.0,\"xref\":\"x\",\"yref\":\"y\"},{\"fillcolor\":\"rgba(99, 110, 250, 0.5)\",\"line\":{\"color\":\"White\",\"width\":1},\"type\":\"rect\",\"x0\":23,\"x1\":24,\"y0\":4.0,\"y1\":5.0,\"xref\":\"x\",\"yref\":\"y\"}],\"margin\":{\"l\":0,\"r\":0,\"t\":0,\"b\":0},\"xaxis\":{\"showticklabels\":true,\"dtick\":2,\"range\":[6,24]},\"width\":257.0,\"height\":171.33333333333334,\"plot_bgcolor\":\"rgba(0, 0, 0, 0)\",\"paper_bgcolor\":\"rgba(0, 0, 0, 0)\"},                        {\"responsive\": true}                    ).then(function(){\n",
       "                            \n",
       "var gd = document.getElementById('451cd8ae-9186-4e04-8c58-a9cb2a75725d');\n",
       "var x = new MutationObserver(function (mutations, observer) {{\n",
       "        var display = window.getComputedStyle(gd).display;\n",
       "        if (!display || display === 'none') {{\n",
       "            console.log([gd, 'removed!']);\n",
       "            Plotly.purge(gd);\n",
       "            observer.disconnect();\n",
       "        }}\n",
       "}});\n",
       "\n",
       "// Listen for the removal of the full notebook cells\n",
       "var notebookContainer = gd.closest('#notebook-container');\n",
       "if (notebookContainer) {{\n",
       "    x.observe(notebookContainer, {childList: true});\n",
       "}}\n",
       "\n",
       "// Listen for the clearing of the current output cell\n",
       "var outputEl = gd.closest('.output');\n",
       "if (outputEl) {{\n",
       "    x.observe(outputEl, {childList: true});\n",
       "}}\n",
       "\n",
       "                        })                };                });            </script>        </div>"
      ]
     },
     "metadata": {},
     "output_type": "display_data"
    }
   ],
   "execution_count": 67
  },
  {
   "metadata": {
    "ExecuteTime": {
     "end_time": "2024-09-24T13:32:42.610967Z",
     "start_time": "2024-09-24T13:32:40.042796Z"
    }
   },
   "cell_type": "code",
   "source": [
    "sh = prepare_simhistory(df, tdf, 7, \"Flatrate\", 72)\n",
    "alloc = sold_unsold_allocation_from_simhistory(sh)\n",
    "fig = plot_simhistory_sold_unsold(alloc[alloc.sold])\n",
    "fig = add_revenue_boxes(fig, alloc)\n",
    "fig.update_layout(\n",
    "    width=img_width,  \n",
    "    height=img_height/3,\n",
    "    xaxis=dict(showticklabels=True, dtick=2,range=[6,24]),\n",
    "    yaxis=dict(showticklabels=False),\n",
    "    margin=dict(l=0, r=0, t=0, b=0)\n",
    ")\n",
    "# save\n",
    "fig.write_image(FIGROOT/\"trace_analysis\"/\"trace_analysis-sold_flatrate.pdf\")\n",
    "fig.show()"
   ],
   "id": "9e2d5b5326259e46",
   "outputs": [
    {
     "data": {
      "application/vnd.plotly.v1+json": {
       "data": [
        {
         "fill": "toself",
         "mode": "lines",
         "name": "",
         "opacity": 0,
         "text": "timestep: 1, budget: 1.1195959505999442, action: 0.8733264484321002",
         "x": [
          8,
          9,
          9,
          8,
          8
         ],
         "y": [
          0.0,
          0.0,
          1.0,
          1.0,
          0.0
         ],
         "type": "scatter"
        },
        {
         "fill": "toself",
         "mode": "lines",
         "name": "",
         "opacity": 0,
         "text": "timestep: 22, budget: 1.742979002222134, action: 0.8733264484321002",
         "x": [
          8,
          9,
          9,
          8,
          8
         ],
         "y": [
          1.0,
          1.0,
          2.0,
          2.0,
          1.0
         ],
         "type": "scatter"
        },
        {
         "fill": "toself",
         "mode": "lines",
         "name": "",
         "opacity": 0,
         "text": "timestep: 28, budget: 2.476104437462143, action: 0.8733264484321002",
         "x": [
          13,
          15,
          15,
          13,
          13
         ],
         "y": [
          0.0,
          0.0,
          1.0,
          1.0,
          0.0
         ],
         "type": "scatter"
        },
        {
         "fill": "toself",
         "mode": "lines",
         "name": "",
         "opacity": 0,
         "text": "timestep: 32, budget: 2.825944634742748, action: 0.8733264484321002",
         "x": [
          7,
          9,
          9,
          7,
          7
         ],
         "y": [
          2.0,
          2.0,
          3.0,
          3.0,
          2.0
         ],
         "type": "scatter"
        },
        {
         "fill": "toself",
         "mode": "lines",
         "name": "",
         "opacity": 0,
         "text": "timestep: 49, budget: 0.970211005867882, action: 0.8733264484321002",
         "x": [
          7,
          8,
          8,
          7,
          7
         ],
         "y": [
          0.0,
          0.0,
          1.0,
          1.0,
          0.0
         ],
         "type": "scatter"
        },
        {
         "fill": "toself",
         "mode": "lines",
         "name": "",
         "opacity": 0,
         "text": "timestep: 51, budget: 0.897709638144219, action: 0.8733264484321002",
         "x": [
          12,
          13,
          13,
          12,
          12
         ],
         "y": [
          0.0,
          0.0,
          1.0,
          1.0,
          0.0
         ],
         "type": "scatter"
        },
        {
         "fill": "toself",
         "mode": "lines",
         "name": "",
         "opacity": 0,
         "text": "timestep: 56, budget: 1.3496936884569708, action: 0.8733264484321002",
         "x": [
          11,
          12,
          12,
          11,
          11
         ],
         "y": [
          0.0,
          0.0,
          1.0,
          1.0,
          0.0
         ],
         "type": "scatter"
        },
        {
         "fill": "toself",
         "mode": "lines",
         "name": "",
         "opacity": 0,
         "text": "timestep: 102, budget: 2.4073516070067678, action: 0.8733264484321002",
         "x": [
          14,
          16,
          16,
          14,
          14
         ],
         "y": [
          1.0,
          1.0,
          2.0,
          2.0,
          1.0
         ],
         "type": "scatter"
        },
        {
         "fill": "toself",
         "mode": "lines",
         "name": "",
         "opacity": 0,
         "text": "timestep: 105, budget: 1.5648395922470189, action: 0.8733264484321002",
         "x": [
          15,
          16,
          16,
          15,
          15
         ],
         "y": [
          0.0,
          0.0,
          1.0,
          1.0,
          0.0
         ],
         "type": "scatter"
        },
        {
         "fill": "toself",
         "mode": "lines",
         "name": "",
         "opacity": 0,
         "text": "timestep: 123, budget: 4.838348285211584, action: 0.8733264484321002",
         "x": [
          9,
          13,
          13,
          9,
          9
         ],
         "y": [
          1.0,
          1.0,
          2.0,
          2.0,
          1.0
         ],
         "type": "scatter"
        },
        {
         "fill": "toself",
         "mode": "lines",
         "name": "",
         "opacity": 0,
         "text": "timestep: 160, budget: 2.0943510362518585, action: 0.8733264484321002",
         "x": [
          13,
          15,
          15,
          13,
          13
         ],
         "y": [
          2.0,
          2.0,
          3.0,
          3.0,
          2.0
         ],
         "type": "scatter"
        },
        {
         "fill": "toself",
         "mode": "lines",
         "name": "",
         "opacity": 0,
         "text": "timestep: 161, budget: 1.895887066434752, action: 0.8733264484321002",
         "x": [
          6,
          8,
          8,
          6,
          6
         ],
         "y": [
          1.0,
          1.0,
          2.0,
          2.0,
          1.0
         ],
         "type": "scatter"
        },
        {
         "fill": "toself",
         "mode": "lines",
         "name": "",
         "opacity": 0,
         "text": "timestep: 169, budget: 4.430406329196159, action: 0.8733264484321002",
         "x": [
          9,
          13,
          13,
          9,
          9
         ],
         "y": [
          2.0,
          2.0,
          3.0,
          3.0,
          2.0
         ],
         "type": "scatter"
        },
        {
         "fill": "toself",
         "mode": "lines",
         "name": "",
         "opacity": 0,
         "text": "timestep: 195, budget: 1.7724783359234406, action: 0.8733264484321002",
         "x": [
          10,
          11,
          11,
          10,
          10
         ],
         "y": [
          0.0,
          0.0,
          1.0,
          1.0,
          0.0
         ],
         "type": "scatter"
        },
        {
         "fill": "toself",
         "mode": "lines",
         "name": "",
         "opacity": 0,
         "text": "timestep: 220, budget: 1.478226516330889, action: 0.8733264484321002",
         "x": [
          13,
          14,
          14,
          13,
          13
         ],
         "y": [
          1.0,
          1.0,
          2.0,
          2.0,
          1.0
         ],
         "type": "scatter"
        },
        {
         "fill": "toself",
         "mode": "lines",
         "name": "",
         "opacity": 0,
         "text": "timestep: 269, budget: 1.885274495733084, action: 0.8733264484321002",
         "x": [
          16,
          17,
          17,
          16,
          16
         ],
         "y": [
          0.0,
          0.0,
          1.0,
          1.0,
          0.0
         ],
         "type": "scatter"
        },
        {
         "fill": "toself",
         "mode": "lines",
         "name": "",
         "opacity": 0,
         "text": "timestep: 318, budget: 1.413955154548848, action: 0.8733264484321002",
         "x": [
          16,
          17,
          17,
          16,
          16
         ],
         "y": [
          1.0,
          1.0,
          2.0,
          2.0,
          1.0
         ],
         "type": "scatter"
        },
        {
         "fill": "toself",
         "mode": "lines",
         "name": "",
         "opacity": 0,
         "text": "timestep: 326, budget: 6.216570416937723, action: 0.8733264484321002",
         "x": [
          16,
          22,
          22,
          16,
          16
         ],
         "y": [
          2.0,
          2.0,
          3.0,
          3.0,
          2.0
         ],
         "type": "scatter"
        },
        {
         "fill": "toself",
         "mode": "lines",
         "name": "",
         "opacity": 0,
         "text": "timestep: 328, budget: 5.935700998699732, action: 0.8733264484321002",
         "x": [
          17,
          23,
          23,
          17,
          17
         ],
         "y": [
          0.0,
          0.0,
          1.0,
          1.0,
          0.0
         ],
         "type": "scatter"
        },
        {
         "fill": "toself",
         "mode": "lines",
         "name": "",
         "opacity": 0,
         "text": "timestep: 338, budget: 1.6696980625019326, action: 0.8733264484321002",
         "x": [
          15,
          16,
          16,
          15,
          15
         ],
         "y": [
          2.0,
          2.0,
          3.0,
          3.0,
          2.0
         ],
         "type": "scatter"
        },
        {
         "fill": "toself",
         "mode": "lines",
         "name": "",
         "opacity": 0,
         "text": "timestep: 364, budget: 1.1959914120678603, action: 0.8733264484321002",
         "x": [
          17,
          18,
          18,
          17,
          17
         ],
         "y": [
          1.0,
          1.0,
          2.0,
          2.0,
          1.0
         ],
         "type": "scatter"
        },
        {
         "fill": "toself",
         "mode": "lines",
         "name": "",
         "opacity": 0,
         "text": "timestep: 444, budget: 0.9121083801572905, action: 0.8733264484321002",
         "x": [
          20,
          21,
          21,
          20,
          20
         ],
         "y": [
          1.0,
          1.0,
          2.0,
          2.0,
          1.0
         ],
         "type": "scatter"
        },
        {
         "fill": "toself",
         "mode": "lines",
         "name": "",
         "opacity": 0,
         "text": "timestep: 455, budget: 1.222412695646583, action: 0.8733264484321002",
         "x": [
          19,
          20,
          20,
          19,
          19
         ],
         "y": [
          1.0,
          1.0,
          2.0,
          2.0,
          1.0
         ],
         "type": "scatter"
        },
        {
         "fill": "toself",
         "mode": "lines",
         "name": "",
         "opacity": 0,
         "text": "timestep: 550, budget: 1.3443277588507163, action: 0.8733264484321002",
         "x": [
          22,
          23,
          23,
          22,
          22
         ],
         "y": [
          1.0,
          1.0,
          2.0,
          2.0,
          1.0
         ],
         "type": "scatter"
        },
        {
         "fill": "toself",
         "mode": "lines",
         "name": "",
         "opacity": 0,
         "text": "timestep: 560, budget: 1.1784389116773375, action: 0.8733264484321002",
         "x": [
          23,
          24,
          24,
          23,
          23
         ],
         "y": [
          0.0,
          0.0,
          1.0,
          1.0,
          0.0
         ],
         "type": "scatter"
        },
        {
         "fill": "toself",
         "mode": "lines",
         "name": "",
         "opacity": 0,
         "text": "timestep: 570, budget: 1.3496696011969804, action: 0.8733264484321002",
         "x": [
          23,
          24,
          24,
          23,
          23
         ],
         "y": [
          1.0,
          1.0,
          2.0,
          2.0,
          1.0
         ],
         "type": "scatter"
        },
        {
         "fill": "toself",
         "mode": "lines",
         "name": "",
         "opacity": 0,
         "text": "timestep: 574, budget: 1.160007534543492, action: 0.8733264484321002",
         "x": [
          23,
          24,
          24,
          23,
          23
         ],
         "y": [
          2.0,
          2.0,
          3.0,
          3.0,
          2.0
         ],
         "type": "scatter"
        }
       ],
       "layout": {
        "template": {
         "data": {
          "histogram2dcontour": [
           {
            "type": "histogram2dcontour",
            "colorbar": {
             "outlinewidth": 0,
             "ticks": ""
            },
            "colorscale": [
             [
              0.0,
              "#0d0887"
             ],
             [
              0.1111111111111111,
              "#46039f"
             ],
             [
              0.2222222222222222,
              "#7201a8"
             ],
             [
              0.3333333333333333,
              "#9c179e"
             ],
             [
              0.4444444444444444,
              "#bd3786"
             ],
             [
              0.5555555555555556,
              "#d8576b"
             ],
             [
              0.6666666666666666,
              "#ed7953"
             ],
             [
              0.7777777777777778,
              "#fb9f3a"
             ],
             [
              0.8888888888888888,
              "#fdca26"
             ],
             [
              1.0,
              "#f0f921"
             ]
            ]
           }
          ],
          "choropleth": [
           {
            "type": "choropleth",
            "colorbar": {
             "outlinewidth": 0,
             "ticks": ""
            }
           }
          ],
          "histogram2d": [
           {
            "type": "histogram2d",
            "colorbar": {
             "outlinewidth": 0,
             "ticks": ""
            },
            "colorscale": [
             [
              0.0,
              "#0d0887"
             ],
             [
              0.1111111111111111,
              "#46039f"
             ],
             [
              0.2222222222222222,
              "#7201a8"
             ],
             [
              0.3333333333333333,
              "#9c179e"
             ],
             [
              0.4444444444444444,
              "#bd3786"
             ],
             [
              0.5555555555555556,
              "#d8576b"
             ],
             [
              0.6666666666666666,
              "#ed7953"
             ],
             [
              0.7777777777777778,
              "#fb9f3a"
             ],
             [
              0.8888888888888888,
              "#fdca26"
             ],
             [
              1.0,
              "#f0f921"
             ]
            ]
           }
          ],
          "heatmap": [
           {
            "type": "heatmap",
            "colorbar": {
             "outlinewidth": 0,
             "ticks": ""
            },
            "colorscale": [
             [
              0.0,
              "#0d0887"
             ],
             [
              0.1111111111111111,
              "#46039f"
             ],
             [
              0.2222222222222222,
              "#7201a8"
             ],
             [
              0.3333333333333333,
              "#9c179e"
             ],
             [
              0.4444444444444444,
              "#bd3786"
             ],
             [
              0.5555555555555556,
              "#d8576b"
             ],
             [
              0.6666666666666666,
              "#ed7953"
             ],
             [
              0.7777777777777778,
              "#fb9f3a"
             ],
             [
              0.8888888888888888,
              "#fdca26"
             ],
             [
              1.0,
              "#f0f921"
             ]
            ]
           }
          ],
          "heatmapgl": [
           {
            "type": "heatmapgl",
            "colorbar": {
             "outlinewidth": 0,
             "ticks": ""
            },
            "colorscale": [
             [
              0.0,
              "#0d0887"
             ],
             [
              0.1111111111111111,
              "#46039f"
             ],
             [
              0.2222222222222222,
              "#7201a8"
             ],
             [
              0.3333333333333333,
              "#9c179e"
             ],
             [
              0.4444444444444444,
              "#bd3786"
             ],
             [
              0.5555555555555556,
              "#d8576b"
             ],
             [
              0.6666666666666666,
              "#ed7953"
             ],
             [
              0.7777777777777778,
              "#fb9f3a"
             ],
             [
              0.8888888888888888,
              "#fdca26"
             ],
             [
              1.0,
              "#f0f921"
             ]
            ]
           }
          ],
          "contourcarpet": [
           {
            "type": "contourcarpet",
            "colorbar": {
             "outlinewidth": 0,
             "ticks": ""
            }
           }
          ],
          "contour": [
           {
            "type": "contour",
            "colorbar": {
             "outlinewidth": 0,
             "ticks": ""
            },
            "colorscale": [
             [
              0.0,
              "#0d0887"
             ],
             [
              0.1111111111111111,
              "#46039f"
             ],
             [
              0.2222222222222222,
              "#7201a8"
             ],
             [
              0.3333333333333333,
              "#9c179e"
             ],
             [
              0.4444444444444444,
              "#bd3786"
             ],
             [
              0.5555555555555556,
              "#d8576b"
             ],
             [
              0.6666666666666666,
              "#ed7953"
             ],
             [
              0.7777777777777778,
              "#fb9f3a"
             ],
             [
              0.8888888888888888,
              "#fdca26"
             ],
             [
              1.0,
              "#f0f921"
             ]
            ]
           }
          ],
          "surface": [
           {
            "type": "surface",
            "colorbar": {
             "outlinewidth": 0,
             "ticks": ""
            },
            "colorscale": [
             [
              0.0,
              "#0d0887"
             ],
             [
              0.1111111111111111,
              "#46039f"
             ],
             [
              0.2222222222222222,
              "#7201a8"
             ],
             [
              0.3333333333333333,
              "#9c179e"
             ],
             [
              0.4444444444444444,
              "#bd3786"
             ],
             [
              0.5555555555555556,
              "#d8576b"
             ],
             [
              0.6666666666666666,
              "#ed7953"
             ],
             [
              0.7777777777777778,
              "#fb9f3a"
             ],
             [
              0.8888888888888888,
              "#fdca26"
             ],
             [
              1.0,
              "#f0f921"
             ]
            ]
           }
          ],
          "mesh3d": [
           {
            "type": "mesh3d",
            "colorbar": {
             "outlinewidth": 0,
             "ticks": ""
            }
           }
          ],
          "scatter": [
           {
            "fillpattern": {
             "fillmode": "overlay",
             "size": 10,
             "solidity": 0.2
            },
            "type": "scatter"
           }
          ],
          "parcoords": [
           {
            "type": "parcoords",
            "line": {
             "colorbar": {
              "outlinewidth": 0,
              "ticks": ""
             }
            }
           }
          ],
          "scatterpolargl": [
           {
            "type": "scatterpolargl",
            "marker": {
             "colorbar": {
              "outlinewidth": 0,
              "ticks": ""
             }
            }
           }
          ],
          "bar": [
           {
            "error_x": {
             "color": "#2a3f5f"
            },
            "error_y": {
             "color": "#2a3f5f"
            },
            "marker": {
             "line": {
              "color": "#E5ECF6",
              "width": 0.5
             },
             "pattern": {
              "fillmode": "overlay",
              "size": 10,
              "solidity": 0.2
             }
            },
            "type": "bar"
           }
          ],
          "scattergeo": [
           {
            "type": "scattergeo",
            "marker": {
             "colorbar": {
              "outlinewidth": 0,
              "ticks": ""
             }
            }
           }
          ],
          "scatterpolar": [
           {
            "type": "scatterpolar",
            "marker": {
             "colorbar": {
              "outlinewidth": 0,
              "ticks": ""
             }
            }
           }
          ],
          "histogram": [
           {
            "marker": {
             "pattern": {
              "fillmode": "overlay",
              "size": 10,
              "solidity": 0.2
             }
            },
            "type": "histogram"
           }
          ],
          "scattergl": [
           {
            "type": "scattergl",
            "marker": {
             "colorbar": {
              "outlinewidth": 0,
              "ticks": ""
             }
            }
           }
          ],
          "scatter3d": [
           {
            "type": "scatter3d",
            "line": {
             "colorbar": {
              "outlinewidth": 0,
              "ticks": ""
             }
            },
            "marker": {
             "colorbar": {
              "outlinewidth": 0,
              "ticks": ""
             }
            }
           }
          ],
          "scattermapbox": [
           {
            "type": "scattermapbox",
            "marker": {
             "colorbar": {
              "outlinewidth": 0,
              "ticks": ""
             }
            }
           }
          ],
          "scatterternary": [
           {
            "type": "scatterternary",
            "marker": {
             "colorbar": {
              "outlinewidth": 0,
              "ticks": ""
             }
            }
           }
          ],
          "scattercarpet": [
           {
            "type": "scattercarpet",
            "marker": {
             "colorbar": {
              "outlinewidth": 0,
              "ticks": ""
             }
            }
           }
          ],
          "carpet": [
           {
            "aaxis": {
             "endlinecolor": "#2a3f5f",
             "gridcolor": "white",
             "linecolor": "white",
             "minorgridcolor": "white",
             "startlinecolor": "#2a3f5f"
            },
            "baxis": {
             "endlinecolor": "#2a3f5f",
             "gridcolor": "white",
             "linecolor": "white",
             "minorgridcolor": "white",
             "startlinecolor": "#2a3f5f"
            },
            "type": "carpet"
           }
          ],
          "table": [
           {
            "cells": {
             "fill": {
              "color": "#EBF0F8"
             },
             "line": {
              "color": "white"
             }
            },
            "header": {
             "fill": {
              "color": "#C8D4E3"
             },
             "line": {
              "color": "white"
             }
            },
            "type": "table"
           }
          ],
          "barpolar": [
           {
            "marker": {
             "line": {
              "color": "#E5ECF6",
              "width": 0.5
             },
             "pattern": {
              "fillmode": "overlay",
              "size": 10,
              "solidity": 0.2
             }
            },
            "type": "barpolar"
           }
          ],
          "pie": [
           {
            "automargin": true,
            "type": "pie"
           }
          ]
         },
         "layout": {
          "autotypenumbers": "strict",
          "colorway": [
           "#636efa",
           "#EF553B",
           "#00cc96",
           "#ab63fa",
           "#FFA15A",
           "#19d3f3",
           "#FF6692",
           "#B6E880",
           "#FF97FF",
           "#FECB52"
          ],
          "font": {
           "color": "#2a3f5f"
          },
          "hovermode": "closest",
          "hoverlabel": {
           "align": "left"
          },
          "paper_bgcolor": "white",
          "plot_bgcolor": "#E5ECF6",
          "polar": {
           "bgcolor": "#E5ECF6",
           "angularaxis": {
            "gridcolor": "white",
            "linecolor": "white",
            "ticks": ""
           },
           "radialaxis": {
            "gridcolor": "white",
            "linecolor": "white",
            "ticks": ""
           }
          },
          "ternary": {
           "bgcolor": "#E5ECF6",
           "aaxis": {
            "gridcolor": "white",
            "linecolor": "white",
            "ticks": ""
           },
           "baxis": {
            "gridcolor": "white",
            "linecolor": "white",
            "ticks": ""
           },
           "caxis": {
            "gridcolor": "white",
            "linecolor": "white",
            "ticks": ""
           }
          },
          "coloraxis": {
           "colorbar": {
            "outlinewidth": 0,
            "ticks": ""
           }
          },
          "colorscale": {
           "sequential": [
            [
             0.0,
             "#0d0887"
            ],
            [
             0.1111111111111111,
             "#46039f"
            ],
            [
             0.2222222222222222,
             "#7201a8"
            ],
            [
             0.3333333333333333,
             "#9c179e"
            ],
            [
             0.4444444444444444,
             "#bd3786"
            ],
            [
             0.5555555555555556,
             "#d8576b"
            ],
            [
             0.6666666666666666,
             "#ed7953"
            ],
            [
             0.7777777777777778,
             "#fb9f3a"
            ],
            [
             0.8888888888888888,
             "#fdca26"
            ],
            [
             1.0,
             "#f0f921"
            ]
           ],
           "sequentialminus": [
            [
             0.0,
             "#0d0887"
            ],
            [
             0.1111111111111111,
             "#46039f"
            ],
            [
             0.2222222222222222,
             "#7201a8"
            ],
            [
             0.3333333333333333,
             "#9c179e"
            ],
            [
             0.4444444444444444,
             "#bd3786"
            ],
            [
             0.5555555555555556,
             "#d8576b"
            ],
            [
             0.6666666666666666,
             "#ed7953"
            ],
            [
             0.7777777777777778,
             "#fb9f3a"
            ],
            [
             0.8888888888888888,
             "#fdca26"
            ],
            [
             1.0,
             "#f0f921"
            ]
           ],
           "diverging": [
            [
             0,
             "#8e0152"
            ],
            [
             0.1,
             "#c51b7d"
            ],
            [
             0.2,
             "#de77ae"
            ],
            [
             0.3,
             "#f1b6da"
            ],
            [
             0.4,
             "#fde0ef"
            ],
            [
             0.5,
             "#f7f7f7"
            ],
            [
             0.6,
             "#e6f5d0"
            ],
            [
             0.7,
             "#b8e186"
            ],
            [
             0.8,
             "#7fbc41"
            ],
            [
             0.9,
             "#4d9221"
            ],
            [
             1,
             "#276419"
            ]
           ]
          },
          "xaxis": {
           "gridcolor": "white",
           "linecolor": "white",
           "ticks": "",
           "title": {
            "standoff": 15
           },
           "zerolinecolor": "white",
           "automargin": true,
           "zerolinewidth": 2
          },
          "yaxis": {
           "gridcolor": "white",
           "linecolor": "white",
           "ticks": "",
           "title": {
            "standoff": 15
           },
           "zerolinecolor": "white",
           "automargin": true,
           "zerolinewidth": 2
          },
          "scene": {
           "xaxis": {
            "backgroundcolor": "#E5ECF6",
            "gridcolor": "white",
            "linecolor": "white",
            "showbackground": true,
            "ticks": "",
            "zerolinecolor": "white",
            "gridwidth": 2
           },
           "yaxis": {
            "backgroundcolor": "#E5ECF6",
            "gridcolor": "white",
            "linecolor": "white",
            "showbackground": true,
            "ticks": "",
            "zerolinecolor": "white",
            "gridwidth": 2
           },
           "zaxis": {
            "backgroundcolor": "#E5ECF6",
            "gridcolor": "white",
            "linecolor": "white",
            "showbackground": true,
            "ticks": "",
            "zerolinecolor": "white",
            "gridwidth": 2
           }
          },
          "shapedefaults": {
           "line": {
            "color": "#2a3f5f"
           }
          },
          "annotationdefaults": {
           "arrowcolor": "#2a3f5f",
           "arrowhead": 0,
           "arrowwidth": 1
          },
          "geo": {
           "bgcolor": "white",
           "landcolor": "#E5ECF6",
           "subunitcolor": "white",
           "showland": true,
           "showlakes": true,
           "lakecolor": "white"
          },
          "title": {
           "x": 0.05
          },
          "mapbox": {
           "style": "light"
          }
         }
        },
        "xaxis": {
         "showticklabels": true,
         "dtick": 2,
         "range": [
          6,
          24
         ]
        },
        "yaxis": {
         "range": [
          0,
          3
         ],
         "showticklabels": false
        },
        "shapes": [
         {
          "fillcolor": "rgba(0, 204, 150,0.5)",
          "line": {
           "color": "White",
           "width": 1
          },
          "type": "rect",
          "x0": 8,
          "x1": 9,
          "xref": "x",
          "y0": 0.0,
          "y1": 1.0,
          "yref": "y"
         },
         {
          "fillcolor": "rgba(0, 204, 150,0.5)",
          "line": {
           "color": "White",
           "width": 1
          },
          "type": "rect",
          "x0": 8,
          "x1": 9,
          "xref": "x",
          "y0": 1.0,
          "y1": 2.0,
          "yref": "y"
         },
         {
          "fillcolor": "rgba(0, 204, 150,0.5)",
          "line": {
           "color": "White",
           "width": 1
          },
          "type": "rect",
          "x0": 13,
          "x1": 15,
          "xref": "x",
          "y0": 0.0,
          "y1": 1.0,
          "yref": "y"
         },
         {
          "fillcolor": "rgba(0, 204, 150,0.5)",
          "line": {
           "color": "White",
           "width": 1
          },
          "type": "rect",
          "x0": 7,
          "x1": 9,
          "xref": "x",
          "y0": 2.0,
          "y1": 3.0,
          "yref": "y"
         },
         {
          "fillcolor": "rgba(0, 204, 150,0.5)",
          "line": {
           "color": "White",
           "width": 1
          },
          "type": "rect",
          "x0": 7,
          "x1": 8,
          "xref": "x",
          "y0": 0.0,
          "y1": 1.0,
          "yref": "y"
         },
         {
          "fillcolor": "rgba(0, 204, 150,0.5)",
          "line": {
           "color": "White",
           "width": 1
          },
          "type": "rect",
          "x0": 12,
          "x1": 13,
          "xref": "x",
          "y0": 0.0,
          "y1": 1.0,
          "yref": "y"
         },
         {
          "fillcolor": "rgba(0, 204, 150,0.5)",
          "line": {
           "color": "White",
           "width": 1
          },
          "type": "rect",
          "x0": 11,
          "x1": 12,
          "xref": "x",
          "y0": 0.0,
          "y1": 1.0,
          "yref": "y"
         },
         {
          "fillcolor": "rgba(0, 204, 150,0.5)",
          "line": {
           "color": "White",
           "width": 1
          },
          "type": "rect",
          "x0": 14,
          "x1": 16,
          "xref": "x",
          "y0": 1.0,
          "y1": 2.0,
          "yref": "y"
         },
         {
          "fillcolor": "rgba(0, 204, 150,0.5)",
          "line": {
           "color": "White",
           "width": 1
          },
          "type": "rect",
          "x0": 15,
          "x1": 16,
          "xref": "x",
          "y0": 0.0,
          "y1": 1.0,
          "yref": "y"
         },
         {
          "fillcolor": "rgba(0, 204, 150,0.5)",
          "line": {
           "color": "White",
           "width": 1
          },
          "type": "rect",
          "x0": 9,
          "x1": 13,
          "xref": "x",
          "y0": 1.0,
          "y1": 2.0,
          "yref": "y"
         },
         {
          "fillcolor": "rgba(0, 204, 150,0.5)",
          "line": {
           "color": "White",
           "width": 1
          },
          "type": "rect",
          "x0": 13,
          "x1": 15,
          "xref": "x",
          "y0": 2.0,
          "y1": 3.0,
          "yref": "y"
         },
         {
          "fillcolor": "rgba(0, 204, 150,0.5)",
          "line": {
           "color": "White",
           "width": 1
          },
          "type": "rect",
          "x0": 6,
          "x1": 8,
          "xref": "x",
          "y0": 1.0,
          "y1": 2.0,
          "yref": "y"
         },
         {
          "fillcolor": "rgba(0, 204, 150,0.5)",
          "line": {
           "color": "White",
           "width": 1
          },
          "type": "rect",
          "x0": 9,
          "x1": 13,
          "xref": "x",
          "y0": 2.0,
          "y1": 3.0,
          "yref": "y"
         },
         {
          "fillcolor": "rgba(0, 204, 150,0.5)",
          "line": {
           "color": "White",
           "width": 1
          },
          "type": "rect",
          "x0": 10,
          "x1": 11,
          "xref": "x",
          "y0": 0.0,
          "y1": 1.0,
          "yref": "y"
         },
         {
          "fillcolor": "rgba(0, 204, 150,0.5)",
          "line": {
           "color": "White",
           "width": 1
          },
          "type": "rect",
          "x0": 13,
          "x1": 14,
          "xref": "x",
          "y0": 1.0,
          "y1": 2.0,
          "yref": "y"
         },
         {
          "fillcolor": "rgba(0, 204, 150,0.5)",
          "line": {
           "color": "White",
           "width": 1
          },
          "type": "rect",
          "x0": 16,
          "x1": 17,
          "xref": "x",
          "y0": 0.0,
          "y1": 1.0,
          "yref": "y"
         },
         {
          "fillcolor": "rgba(0, 204, 150,0.5)",
          "line": {
           "color": "White",
           "width": 1
          },
          "type": "rect",
          "x0": 16,
          "x1": 17,
          "xref": "x",
          "y0": 1.0,
          "y1": 2.0,
          "yref": "y"
         },
         {
          "fillcolor": "rgba(0, 204, 150,0.5)",
          "line": {
           "color": "White",
           "width": 1
          },
          "type": "rect",
          "x0": 16,
          "x1": 22,
          "xref": "x",
          "y0": 2.0,
          "y1": 3.0,
          "yref": "y"
         },
         {
          "fillcolor": "rgba(0, 204, 150,0.5)",
          "line": {
           "color": "White",
           "width": 1
          },
          "type": "rect",
          "x0": 17,
          "x1": 23,
          "xref": "x",
          "y0": 0.0,
          "y1": 1.0,
          "yref": "y"
         },
         {
          "fillcolor": "rgba(0, 204, 150,0.5)",
          "line": {
           "color": "White",
           "width": 1
          },
          "type": "rect",
          "x0": 15,
          "x1": 16,
          "xref": "x",
          "y0": 2.0,
          "y1": 3.0,
          "yref": "y"
         },
         {
          "fillcolor": "rgba(0, 204, 150,0.5)",
          "line": {
           "color": "White",
           "width": 1
          },
          "type": "rect",
          "x0": 17,
          "x1": 18,
          "xref": "x",
          "y0": 1.0,
          "y1": 2.0,
          "yref": "y"
         },
         {
          "fillcolor": "rgba(0, 204, 150,0.5)",
          "line": {
           "color": "White",
           "width": 1
          },
          "type": "rect",
          "x0": 20,
          "x1": 21,
          "xref": "x",
          "y0": 1.0,
          "y1": 2.0,
          "yref": "y"
         },
         {
          "fillcolor": "rgba(0, 204, 150,0.5)",
          "line": {
           "color": "White",
           "width": 1
          },
          "type": "rect",
          "x0": 19,
          "x1": 20,
          "xref": "x",
          "y0": 1.0,
          "y1": 2.0,
          "yref": "y"
         },
         {
          "fillcolor": "rgba(0, 204, 150,0.5)",
          "line": {
           "color": "White",
           "width": 1
          },
          "type": "rect",
          "x0": 22,
          "x1": 23,
          "xref": "x",
          "y0": 1.0,
          "y1": 2.0,
          "yref": "y"
         },
         {
          "fillcolor": "rgba(0, 204, 150,0.5)",
          "line": {
           "color": "White",
           "width": 1
          },
          "type": "rect",
          "x0": 23,
          "x1": 24,
          "xref": "x",
          "y0": 0.0,
          "y1": 1.0,
          "yref": "y"
         },
         {
          "fillcolor": "rgba(0, 204, 150,0.5)",
          "line": {
           "color": "White",
           "width": 1
          },
          "type": "rect",
          "x0": 23,
          "x1": 24,
          "xref": "x",
          "y0": 1.0,
          "y1": 2.0,
          "yref": "y"
         },
         {
          "fillcolor": "rgba(0, 204, 150,0.5)",
          "line": {
           "color": "White",
           "width": 1
          },
          "type": "rect",
          "x0": 23,
          "x1": 24,
          "xref": "x",
          "y0": 2.0,
          "y1": 3.0,
          "yref": "y"
         },
         {
          "fillcolor": "rgba(0, 204, 150,1)",
          "line": {
           "color": "White",
           "width": 1
          },
          "type": "rect",
          "x0": 8,
          "x1": 9,
          "y0": 0.0,
          "y1": 0.46323569878481247,
          "xref": "x",
          "yref": "y"
         },
         {
          "fillcolor": "rgba(0, 204, 150,1)",
          "line": {
           "color": "White",
           "width": 1
          },
          "type": "rect",
          "x0": 8,
          "x1": 9,
          "y0": 1.0,
          "y1": 1.4632356987848125,
          "xref": "x",
          "yref": "y"
         },
         {
          "fillcolor": "rgba(0, 204, 150,1)",
          "line": {
           "color": "White",
           "width": 1
          },
          "type": "rect",
          "x0": 13,
          "x1": 15,
          "y0": 0.0,
          "y1": 0.46323569878481247,
          "xref": "x",
          "yref": "y"
         },
         {
          "fillcolor": "rgba(0, 204, 150,1)",
          "line": {
           "color": "White",
           "width": 1
          },
          "type": "rect",
          "x0": 7,
          "x1": 9,
          "y0": 2.0,
          "y1": 2.4632356987848123,
          "xref": "x",
          "yref": "y"
         },
         {
          "fillcolor": "rgba(0, 204, 150,1)",
          "line": {
           "color": "White",
           "width": 1
          },
          "type": "rect",
          "x0": 7,
          "x1": 8,
          "y0": 0.0,
          "y1": 0.46323569878481247,
          "xref": "x",
          "yref": "y"
         },
         {
          "fillcolor": "rgba(0, 204, 150,1)",
          "line": {
           "color": "White",
           "width": 1
          },
          "type": "rect",
          "x0": 12,
          "x1": 13,
          "y0": 0.0,
          "y1": 0.46323569878481247,
          "xref": "x",
          "yref": "y"
         },
         {
          "fillcolor": "rgba(0, 204, 150,1)",
          "line": {
           "color": "White",
           "width": 1
          },
          "type": "rect",
          "x0": 11,
          "x1": 12,
          "y0": 0.0,
          "y1": 0.46323569878481247,
          "xref": "x",
          "yref": "y"
         },
         {
          "fillcolor": "rgba(0, 204, 150,1)",
          "line": {
           "color": "White",
           "width": 1
          },
          "type": "rect",
          "x0": 14,
          "x1": 16,
          "y0": 1.0,
          "y1": 1.4632356987848125,
          "xref": "x",
          "yref": "y"
         },
         {
          "fillcolor": "rgba(0, 204, 150,1)",
          "line": {
           "color": "White",
           "width": 1
          },
          "type": "rect",
          "x0": 15,
          "x1": 16,
          "y0": 0.0,
          "y1": 0.46323569878481247,
          "xref": "x",
          "yref": "y"
         },
         {
          "fillcolor": "rgba(0, 204, 150,1)",
          "line": {
           "color": "White",
           "width": 1
          },
          "type": "rect",
          "x0": 9,
          "x1": 13,
          "y0": 1.0,
          "y1": 1.4632356987848125,
          "xref": "x",
          "yref": "y"
         },
         {
          "fillcolor": "rgba(0, 204, 150,1)",
          "line": {
           "color": "White",
           "width": 1
          },
          "type": "rect",
          "x0": 13,
          "x1": 15,
          "y0": 2.0,
          "y1": 2.4632356987848123,
          "xref": "x",
          "yref": "y"
         },
         {
          "fillcolor": "rgba(0, 204, 150,1)",
          "line": {
           "color": "White",
           "width": 1
          },
          "type": "rect",
          "x0": 6,
          "x1": 8,
          "y0": 1.0,
          "y1": 1.4632356987848125,
          "xref": "x",
          "yref": "y"
         },
         {
          "fillcolor": "rgba(0, 204, 150,1)",
          "line": {
           "color": "White",
           "width": 1
          },
          "type": "rect",
          "x0": 9,
          "x1": 13,
          "y0": 2.0,
          "y1": 2.4632356987848123,
          "xref": "x",
          "yref": "y"
         },
         {
          "fillcolor": "rgba(0, 204, 150,1)",
          "line": {
           "color": "White",
           "width": 1
          },
          "type": "rect",
          "x0": 10,
          "x1": 11,
          "y0": 0.0,
          "y1": 0.46323569878481247,
          "xref": "x",
          "yref": "y"
         },
         {
          "fillcolor": "rgba(0, 204, 150,1)",
          "line": {
           "color": "White",
           "width": 1
          },
          "type": "rect",
          "x0": 13,
          "x1": 14,
          "y0": 1.0,
          "y1": 1.4632356987848125,
          "xref": "x",
          "yref": "y"
         },
         {
          "fillcolor": "rgba(0, 204, 150,1)",
          "line": {
           "color": "White",
           "width": 1
          },
          "type": "rect",
          "x0": 16,
          "x1": 17,
          "y0": 0.0,
          "y1": 0.46323569878481247,
          "xref": "x",
          "yref": "y"
         },
         {
          "fillcolor": "rgba(0, 204, 150,1)",
          "line": {
           "color": "White",
           "width": 1
          },
          "type": "rect",
          "x0": 16,
          "x1": 17,
          "y0": 1.0,
          "y1": 1.4632356987848125,
          "xref": "x",
          "yref": "y"
         },
         {
          "fillcolor": "rgba(0, 204, 150,1)",
          "line": {
           "color": "White",
           "width": 1
          },
          "type": "rect",
          "x0": 16,
          "x1": 22,
          "y0": 2.0,
          "y1": 2.4632356987848123,
          "xref": "x",
          "yref": "y"
         },
         {
          "fillcolor": "rgba(0, 204, 150,1)",
          "line": {
           "color": "White",
           "width": 1
          },
          "type": "rect",
          "x0": 17,
          "x1": 23,
          "y0": 0.0,
          "y1": 0.4632356987848125,
          "xref": "x",
          "yref": "y"
         },
         {
          "fillcolor": "rgba(0, 204, 150,1)",
          "line": {
           "color": "White",
           "width": 1
          },
          "type": "rect",
          "x0": 15,
          "x1": 16,
          "y0": 2.0,
          "y1": 2.4632356987848123,
          "xref": "x",
          "yref": "y"
         },
         {
          "fillcolor": "rgba(0, 204, 150,1)",
          "line": {
           "color": "White",
           "width": 1
          },
          "type": "rect",
          "x0": 17,
          "x1": 18,
          "y0": 1.0,
          "y1": 1.4632356987848125,
          "xref": "x",
          "yref": "y"
         },
         {
          "fillcolor": "rgba(0, 204, 150,1)",
          "line": {
           "color": "White",
           "width": 1
          },
          "type": "rect",
          "x0": 20,
          "x1": 21,
          "y0": 1.0,
          "y1": 1.4632356987848125,
          "xref": "x",
          "yref": "y"
         },
         {
          "fillcolor": "rgba(0, 204, 150,1)",
          "line": {
           "color": "White",
           "width": 1
          },
          "type": "rect",
          "x0": 19,
          "x1": 20,
          "y0": 1.0,
          "y1": 1.4632356987848125,
          "xref": "x",
          "yref": "y"
         },
         {
          "fillcolor": "rgba(0, 204, 150,1)",
          "line": {
           "color": "White",
           "width": 1
          },
          "type": "rect",
          "x0": 22,
          "x1": 23,
          "y0": 1.0,
          "y1": 1.4632356987848125,
          "xref": "x",
          "yref": "y"
         },
         {
          "fillcolor": "rgba(0, 204, 150,1)",
          "line": {
           "color": "White",
           "width": 1
          },
          "type": "rect",
          "x0": 23,
          "x1": 24,
          "y0": 0.0,
          "y1": 0.46323569878481247,
          "xref": "x",
          "yref": "y"
         },
         {
          "fillcolor": "rgba(0, 204, 150,1)",
          "line": {
           "color": "White",
           "width": 1
          },
          "type": "rect",
          "x0": 23,
          "x1": 24,
          "y0": 1.0,
          "y1": 1.4632356987848125,
          "xref": "x",
          "yref": "y"
         },
         {
          "fillcolor": "rgba(0, 204, 150,1)",
          "line": {
           "color": "White",
           "width": 1
          },
          "type": "rect",
          "x0": 23,
          "x1": 24,
          "y0": 2.0,
          "y1": 2.4632356987848123,
          "xref": "x",
          "yref": "y"
         }
        ],
        "margin": {
         "l": 0,
         "r": 0,
         "t": 0,
         "b": 0
        },
        "width": 257.0,
        "height": 57.111111111111114,
        "plot_bgcolor": "rgba(0, 0, 0, 0)",
        "paper_bgcolor": "rgba(0, 0, 0, 0)"
       },
       "config": {
        "plotlyServerURL": "https://plot.ly"
       }
      },
      "text/html": [
       "<div>                            <div id=\"067040a9-d097-497d-9bbb-eab2bc2119bd\" class=\"plotly-graph-div\" style=\"height:57.111111111111114px; width:257.0px;\"></div>            <script type=\"text/javascript\">                require([\"plotly\"], function(Plotly) {                    window.PLOTLYENV=window.PLOTLYENV || {};                                    if (document.getElementById(\"067040a9-d097-497d-9bbb-eab2bc2119bd\")) {                    Plotly.newPlot(                        \"067040a9-d097-497d-9bbb-eab2bc2119bd\",                        [{\"fill\":\"toself\",\"mode\":\"lines\",\"name\":\"\",\"opacity\":0,\"text\":\"timestep: 1, budget: 1.1195959505999442, action: 0.8733264484321002\",\"x\":[8,9,9,8,8],\"y\":[0.0,0.0,1.0,1.0,0.0],\"type\":\"scatter\"},{\"fill\":\"toself\",\"mode\":\"lines\",\"name\":\"\",\"opacity\":0,\"text\":\"timestep: 22, budget: 1.742979002222134, action: 0.8733264484321002\",\"x\":[8,9,9,8,8],\"y\":[1.0,1.0,2.0,2.0,1.0],\"type\":\"scatter\"},{\"fill\":\"toself\",\"mode\":\"lines\",\"name\":\"\",\"opacity\":0,\"text\":\"timestep: 28, budget: 2.476104437462143, action: 0.8733264484321002\",\"x\":[13,15,15,13,13],\"y\":[0.0,0.0,1.0,1.0,0.0],\"type\":\"scatter\"},{\"fill\":\"toself\",\"mode\":\"lines\",\"name\":\"\",\"opacity\":0,\"text\":\"timestep: 32, budget: 2.825944634742748, action: 0.8733264484321002\",\"x\":[7,9,9,7,7],\"y\":[2.0,2.0,3.0,3.0,2.0],\"type\":\"scatter\"},{\"fill\":\"toself\",\"mode\":\"lines\",\"name\":\"\",\"opacity\":0,\"text\":\"timestep: 49, budget: 0.970211005867882, action: 0.8733264484321002\",\"x\":[7,8,8,7,7],\"y\":[0.0,0.0,1.0,1.0,0.0],\"type\":\"scatter\"},{\"fill\":\"toself\",\"mode\":\"lines\",\"name\":\"\",\"opacity\":0,\"text\":\"timestep: 51, budget: 0.897709638144219, action: 0.8733264484321002\",\"x\":[12,13,13,12,12],\"y\":[0.0,0.0,1.0,1.0,0.0],\"type\":\"scatter\"},{\"fill\":\"toself\",\"mode\":\"lines\",\"name\":\"\",\"opacity\":0,\"text\":\"timestep: 56, budget: 1.3496936884569708, action: 0.8733264484321002\",\"x\":[11,12,12,11,11],\"y\":[0.0,0.0,1.0,1.0,0.0],\"type\":\"scatter\"},{\"fill\":\"toself\",\"mode\":\"lines\",\"name\":\"\",\"opacity\":0,\"text\":\"timestep: 102, budget: 2.4073516070067678, action: 0.8733264484321002\",\"x\":[14,16,16,14,14],\"y\":[1.0,1.0,2.0,2.0,1.0],\"type\":\"scatter\"},{\"fill\":\"toself\",\"mode\":\"lines\",\"name\":\"\",\"opacity\":0,\"text\":\"timestep: 105, budget: 1.5648395922470189, action: 0.8733264484321002\",\"x\":[15,16,16,15,15],\"y\":[0.0,0.0,1.0,1.0,0.0],\"type\":\"scatter\"},{\"fill\":\"toself\",\"mode\":\"lines\",\"name\":\"\",\"opacity\":0,\"text\":\"timestep: 123, budget: 4.838348285211584, action: 0.8733264484321002\",\"x\":[9,13,13,9,9],\"y\":[1.0,1.0,2.0,2.0,1.0],\"type\":\"scatter\"},{\"fill\":\"toself\",\"mode\":\"lines\",\"name\":\"\",\"opacity\":0,\"text\":\"timestep: 160, budget: 2.0943510362518585, action: 0.8733264484321002\",\"x\":[13,15,15,13,13],\"y\":[2.0,2.0,3.0,3.0,2.0],\"type\":\"scatter\"},{\"fill\":\"toself\",\"mode\":\"lines\",\"name\":\"\",\"opacity\":0,\"text\":\"timestep: 161, budget: 1.895887066434752, action: 0.8733264484321002\",\"x\":[6,8,8,6,6],\"y\":[1.0,1.0,2.0,2.0,1.0],\"type\":\"scatter\"},{\"fill\":\"toself\",\"mode\":\"lines\",\"name\":\"\",\"opacity\":0,\"text\":\"timestep: 169, budget: 4.430406329196159, action: 0.8733264484321002\",\"x\":[9,13,13,9,9],\"y\":[2.0,2.0,3.0,3.0,2.0],\"type\":\"scatter\"},{\"fill\":\"toself\",\"mode\":\"lines\",\"name\":\"\",\"opacity\":0,\"text\":\"timestep: 195, budget: 1.7724783359234406, action: 0.8733264484321002\",\"x\":[10,11,11,10,10],\"y\":[0.0,0.0,1.0,1.0,0.0],\"type\":\"scatter\"},{\"fill\":\"toself\",\"mode\":\"lines\",\"name\":\"\",\"opacity\":0,\"text\":\"timestep: 220, budget: 1.478226516330889, action: 0.8733264484321002\",\"x\":[13,14,14,13,13],\"y\":[1.0,1.0,2.0,2.0,1.0],\"type\":\"scatter\"},{\"fill\":\"toself\",\"mode\":\"lines\",\"name\":\"\",\"opacity\":0,\"text\":\"timestep: 269, budget: 1.885274495733084, action: 0.8733264484321002\",\"x\":[16,17,17,16,16],\"y\":[0.0,0.0,1.0,1.0,0.0],\"type\":\"scatter\"},{\"fill\":\"toself\",\"mode\":\"lines\",\"name\":\"\",\"opacity\":0,\"text\":\"timestep: 318, budget: 1.413955154548848, action: 0.8733264484321002\",\"x\":[16,17,17,16,16],\"y\":[1.0,1.0,2.0,2.0,1.0],\"type\":\"scatter\"},{\"fill\":\"toself\",\"mode\":\"lines\",\"name\":\"\",\"opacity\":0,\"text\":\"timestep: 326, budget: 6.216570416937723, action: 0.8733264484321002\",\"x\":[16,22,22,16,16],\"y\":[2.0,2.0,3.0,3.0,2.0],\"type\":\"scatter\"},{\"fill\":\"toself\",\"mode\":\"lines\",\"name\":\"\",\"opacity\":0,\"text\":\"timestep: 328, budget: 5.935700998699732, action: 0.8733264484321002\",\"x\":[17,23,23,17,17],\"y\":[0.0,0.0,1.0,1.0,0.0],\"type\":\"scatter\"},{\"fill\":\"toself\",\"mode\":\"lines\",\"name\":\"\",\"opacity\":0,\"text\":\"timestep: 338, budget: 1.6696980625019326, action: 0.8733264484321002\",\"x\":[15,16,16,15,15],\"y\":[2.0,2.0,3.0,3.0,2.0],\"type\":\"scatter\"},{\"fill\":\"toself\",\"mode\":\"lines\",\"name\":\"\",\"opacity\":0,\"text\":\"timestep: 364, budget: 1.1959914120678603, action: 0.8733264484321002\",\"x\":[17,18,18,17,17],\"y\":[1.0,1.0,2.0,2.0,1.0],\"type\":\"scatter\"},{\"fill\":\"toself\",\"mode\":\"lines\",\"name\":\"\",\"opacity\":0,\"text\":\"timestep: 444, budget: 0.9121083801572905, action: 0.8733264484321002\",\"x\":[20,21,21,20,20],\"y\":[1.0,1.0,2.0,2.0,1.0],\"type\":\"scatter\"},{\"fill\":\"toself\",\"mode\":\"lines\",\"name\":\"\",\"opacity\":0,\"text\":\"timestep: 455, budget: 1.222412695646583, action: 0.8733264484321002\",\"x\":[19,20,20,19,19],\"y\":[1.0,1.0,2.0,2.0,1.0],\"type\":\"scatter\"},{\"fill\":\"toself\",\"mode\":\"lines\",\"name\":\"\",\"opacity\":0,\"text\":\"timestep: 550, budget: 1.3443277588507163, action: 0.8733264484321002\",\"x\":[22,23,23,22,22],\"y\":[1.0,1.0,2.0,2.0,1.0],\"type\":\"scatter\"},{\"fill\":\"toself\",\"mode\":\"lines\",\"name\":\"\",\"opacity\":0,\"text\":\"timestep: 560, budget: 1.1784389116773375, action: 0.8733264484321002\",\"x\":[23,24,24,23,23],\"y\":[0.0,0.0,1.0,1.0,0.0],\"type\":\"scatter\"},{\"fill\":\"toself\",\"mode\":\"lines\",\"name\":\"\",\"opacity\":0,\"text\":\"timestep: 570, budget: 1.3496696011969804, action: 0.8733264484321002\",\"x\":[23,24,24,23,23],\"y\":[1.0,1.0,2.0,2.0,1.0],\"type\":\"scatter\"},{\"fill\":\"toself\",\"mode\":\"lines\",\"name\":\"\",\"opacity\":0,\"text\":\"timestep: 574, budget: 1.160007534543492, action: 0.8733264484321002\",\"x\":[23,24,24,23,23],\"y\":[2.0,2.0,3.0,3.0,2.0],\"type\":\"scatter\"}],                        {\"template\":{\"data\":{\"histogram2dcontour\":[{\"type\":\"histogram2dcontour\",\"colorbar\":{\"outlinewidth\":0,\"ticks\":\"\"},\"colorscale\":[[0.0,\"#0d0887\"],[0.1111111111111111,\"#46039f\"],[0.2222222222222222,\"#7201a8\"],[0.3333333333333333,\"#9c179e\"],[0.4444444444444444,\"#bd3786\"],[0.5555555555555556,\"#d8576b\"],[0.6666666666666666,\"#ed7953\"],[0.7777777777777778,\"#fb9f3a\"],[0.8888888888888888,\"#fdca26\"],[1.0,\"#f0f921\"]]}],\"choropleth\":[{\"type\":\"choropleth\",\"colorbar\":{\"outlinewidth\":0,\"ticks\":\"\"}}],\"histogram2d\":[{\"type\":\"histogram2d\",\"colorbar\":{\"outlinewidth\":0,\"ticks\":\"\"},\"colorscale\":[[0.0,\"#0d0887\"],[0.1111111111111111,\"#46039f\"],[0.2222222222222222,\"#7201a8\"],[0.3333333333333333,\"#9c179e\"],[0.4444444444444444,\"#bd3786\"],[0.5555555555555556,\"#d8576b\"],[0.6666666666666666,\"#ed7953\"],[0.7777777777777778,\"#fb9f3a\"],[0.8888888888888888,\"#fdca26\"],[1.0,\"#f0f921\"]]}],\"heatmap\":[{\"type\":\"heatmap\",\"colorbar\":{\"outlinewidth\":0,\"ticks\":\"\"},\"colorscale\":[[0.0,\"#0d0887\"],[0.1111111111111111,\"#46039f\"],[0.2222222222222222,\"#7201a8\"],[0.3333333333333333,\"#9c179e\"],[0.4444444444444444,\"#bd3786\"],[0.5555555555555556,\"#d8576b\"],[0.6666666666666666,\"#ed7953\"],[0.7777777777777778,\"#fb9f3a\"],[0.8888888888888888,\"#fdca26\"],[1.0,\"#f0f921\"]]}],\"heatmapgl\":[{\"type\":\"heatmapgl\",\"colorbar\":{\"outlinewidth\":0,\"ticks\":\"\"},\"colorscale\":[[0.0,\"#0d0887\"],[0.1111111111111111,\"#46039f\"],[0.2222222222222222,\"#7201a8\"],[0.3333333333333333,\"#9c179e\"],[0.4444444444444444,\"#bd3786\"],[0.5555555555555556,\"#d8576b\"],[0.6666666666666666,\"#ed7953\"],[0.7777777777777778,\"#fb9f3a\"],[0.8888888888888888,\"#fdca26\"],[1.0,\"#f0f921\"]]}],\"contourcarpet\":[{\"type\":\"contourcarpet\",\"colorbar\":{\"outlinewidth\":0,\"ticks\":\"\"}}],\"contour\":[{\"type\":\"contour\",\"colorbar\":{\"outlinewidth\":0,\"ticks\":\"\"},\"colorscale\":[[0.0,\"#0d0887\"],[0.1111111111111111,\"#46039f\"],[0.2222222222222222,\"#7201a8\"],[0.3333333333333333,\"#9c179e\"],[0.4444444444444444,\"#bd3786\"],[0.5555555555555556,\"#d8576b\"],[0.6666666666666666,\"#ed7953\"],[0.7777777777777778,\"#fb9f3a\"],[0.8888888888888888,\"#fdca26\"],[1.0,\"#f0f921\"]]}],\"surface\":[{\"type\":\"surface\",\"colorbar\":{\"outlinewidth\":0,\"ticks\":\"\"},\"colorscale\":[[0.0,\"#0d0887\"],[0.1111111111111111,\"#46039f\"],[0.2222222222222222,\"#7201a8\"],[0.3333333333333333,\"#9c179e\"],[0.4444444444444444,\"#bd3786\"],[0.5555555555555556,\"#d8576b\"],[0.6666666666666666,\"#ed7953\"],[0.7777777777777778,\"#fb9f3a\"],[0.8888888888888888,\"#fdca26\"],[1.0,\"#f0f921\"]]}],\"mesh3d\":[{\"type\":\"mesh3d\",\"colorbar\":{\"outlinewidth\":0,\"ticks\":\"\"}}],\"scatter\":[{\"fillpattern\":{\"fillmode\":\"overlay\",\"size\":10,\"solidity\":0.2},\"type\":\"scatter\"}],\"parcoords\":[{\"type\":\"parcoords\",\"line\":{\"colorbar\":{\"outlinewidth\":0,\"ticks\":\"\"}}}],\"scatterpolargl\":[{\"type\":\"scatterpolargl\",\"marker\":{\"colorbar\":{\"outlinewidth\":0,\"ticks\":\"\"}}}],\"bar\":[{\"error_x\":{\"color\":\"#2a3f5f\"},\"error_y\":{\"color\":\"#2a3f5f\"},\"marker\":{\"line\":{\"color\":\"#E5ECF6\",\"width\":0.5},\"pattern\":{\"fillmode\":\"overlay\",\"size\":10,\"solidity\":0.2}},\"type\":\"bar\"}],\"scattergeo\":[{\"type\":\"scattergeo\",\"marker\":{\"colorbar\":{\"outlinewidth\":0,\"ticks\":\"\"}}}],\"scatterpolar\":[{\"type\":\"scatterpolar\",\"marker\":{\"colorbar\":{\"outlinewidth\":0,\"ticks\":\"\"}}}],\"histogram\":[{\"marker\":{\"pattern\":{\"fillmode\":\"overlay\",\"size\":10,\"solidity\":0.2}},\"type\":\"histogram\"}],\"scattergl\":[{\"type\":\"scattergl\",\"marker\":{\"colorbar\":{\"outlinewidth\":0,\"ticks\":\"\"}}}],\"scatter3d\":[{\"type\":\"scatter3d\",\"line\":{\"colorbar\":{\"outlinewidth\":0,\"ticks\":\"\"}},\"marker\":{\"colorbar\":{\"outlinewidth\":0,\"ticks\":\"\"}}}],\"scattermapbox\":[{\"type\":\"scattermapbox\",\"marker\":{\"colorbar\":{\"outlinewidth\":0,\"ticks\":\"\"}}}],\"scatterternary\":[{\"type\":\"scatterternary\",\"marker\":{\"colorbar\":{\"outlinewidth\":0,\"ticks\":\"\"}}}],\"scattercarpet\":[{\"type\":\"scattercarpet\",\"marker\":{\"colorbar\":{\"outlinewidth\":0,\"ticks\":\"\"}}}],\"carpet\":[{\"aaxis\":{\"endlinecolor\":\"#2a3f5f\",\"gridcolor\":\"white\",\"linecolor\":\"white\",\"minorgridcolor\":\"white\",\"startlinecolor\":\"#2a3f5f\"},\"baxis\":{\"endlinecolor\":\"#2a3f5f\",\"gridcolor\":\"white\",\"linecolor\":\"white\",\"minorgridcolor\":\"white\",\"startlinecolor\":\"#2a3f5f\"},\"type\":\"carpet\"}],\"table\":[{\"cells\":{\"fill\":{\"color\":\"#EBF0F8\"},\"line\":{\"color\":\"white\"}},\"header\":{\"fill\":{\"color\":\"#C8D4E3\"},\"line\":{\"color\":\"white\"}},\"type\":\"table\"}],\"barpolar\":[{\"marker\":{\"line\":{\"color\":\"#E5ECF6\",\"width\":0.5},\"pattern\":{\"fillmode\":\"overlay\",\"size\":10,\"solidity\":0.2}},\"type\":\"barpolar\"}],\"pie\":[{\"automargin\":true,\"type\":\"pie\"}]},\"layout\":{\"autotypenumbers\":\"strict\",\"colorway\":[\"#636efa\",\"#EF553B\",\"#00cc96\",\"#ab63fa\",\"#FFA15A\",\"#19d3f3\",\"#FF6692\",\"#B6E880\",\"#FF97FF\",\"#FECB52\"],\"font\":{\"color\":\"#2a3f5f\"},\"hovermode\":\"closest\",\"hoverlabel\":{\"align\":\"left\"},\"paper_bgcolor\":\"white\",\"plot_bgcolor\":\"#E5ECF6\",\"polar\":{\"bgcolor\":\"#E5ECF6\",\"angularaxis\":{\"gridcolor\":\"white\",\"linecolor\":\"white\",\"ticks\":\"\"},\"radialaxis\":{\"gridcolor\":\"white\",\"linecolor\":\"white\",\"ticks\":\"\"}},\"ternary\":{\"bgcolor\":\"#E5ECF6\",\"aaxis\":{\"gridcolor\":\"white\",\"linecolor\":\"white\",\"ticks\":\"\"},\"baxis\":{\"gridcolor\":\"white\",\"linecolor\":\"white\",\"ticks\":\"\"},\"caxis\":{\"gridcolor\":\"white\",\"linecolor\":\"white\",\"ticks\":\"\"}},\"coloraxis\":{\"colorbar\":{\"outlinewidth\":0,\"ticks\":\"\"}},\"colorscale\":{\"sequential\":[[0.0,\"#0d0887\"],[0.1111111111111111,\"#46039f\"],[0.2222222222222222,\"#7201a8\"],[0.3333333333333333,\"#9c179e\"],[0.4444444444444444,\"#bd3786\"],[0.5555555555555556,\"#d8576b\"],[0.6666666666666666,\"#ed7953\"],[0.7777777777777778,\"#fb9f3a\"],[0.8888888888888888,\"#fdca26\"],[1.0,\"#f0f921\"]],\"sequentialminus\":[[0.0,\"#0d0887\"],[0.1111111111111111,\"#46039f\"],[0.2222222222222222,\"#7201a8\"],[0.3333333333333333,\"#9c179e\"],[0.4444444444444444,\"#bd3786\"],[0.5555555555555556,\"#d8576b\"],[0.6666666666666666,\"#ed7953\"],[0.7777777777777778,\"#fb9f3a\"],[0.8888888888888888,\"#fdca26\"],[1.0,\"#f0f921\"]],\"diverging\":[[0,\"#8e0152\"],[0.1,\"#c51b7d\"],[0.2,\"#de77ae\"],[0.3,\"#f1b6da\"],[0.4,\"#fde0ef\"],[0.5,\"#f7f7f7\"],[0.6,\"#e6f5d0\"],[0.7,\"#b8e186\"],[0.8,\"#7fbc41\"],[0.9,\"#4d9221\"],[1,\"#276419\"]]},\"xaxis\":{\"gridcolor\":\"white\",\"linecolor\":\"white\",\"ticks\":\"\",\"title\":{\"standoff\":15},\"zerolinecolor\":\"white\",\"automargin\":true,\"zerolinewidth\":2},\"yaxis\":{\"gridcolor\":\"white\",\"linecolor\":\"white\",\"ticks\":\"\",\"title\":{\"standoff\":15},\"zerolinecolor\":\"white\",\"automargin\":true,\"zerolinewidth\":2},\"scene\":{\"xaxis\":{\"backgroundcolor\":\"#E5ECF6\",\"gridcolor\":\"white\",\"linecolor\":\"white\",\"showbackground\":true,\"ticks\":\"\",\"zerolinecolor\":\"white\",\"gridwidth\":2},\"yaxis\":{\"backgroundcolor\":\"#E5ECF6\",\"gridcolor\":\"white\",\"linecolor\":\"white\",\"showbackground\":true,\"ticks\":\"\",\"zerolinecolor\":\"white\",\"gridwidth\":2},\"zaxis\":{\"backgroundcolor\":\"#E5ECF6\",\"gridcolor\":\"white\",\"linecolor\":\"white\",\"showbackground\":true,\"ticks\":\"\",\"zerolinecolor\":\"white\",\"gridwidth\":2}},\"shapedefaults\":{\"line\":{\"color\":\"#2a3f5f\"}},\"annotationdefaults\":{\"arrowcolor\":\"#2a3f5f\",\"arrowhead\":0,\"arrowwidth\":1},\"geo\":{\"bgcolor\":\"white\",\"landcolor\":\"#E5ECF6\",\"subunitcolor\":\"white\",\"showland\":true,\"showlakes\":true,\"lakecolor\":\"white\"},\"title\":{\"x\":0.05},\"mapbox\":{\"style\":\"light\"}}},\"xaxis\":{\"showticklabels\":true,\"dtick\":2,\"range\":[6,24]},\"yaxis\":{\"range\":[0,3],\"showticklabels\":false},\"shapes\":[{\"fillcolor\":\"rgba(0, 204, 150,0.5)\",\"line\":{\"color\":\"White\",\"width\":1},\"type\":\"rect\",\"x0\":8,\"x1\":9,\"xref\":\"x\",\"y0\":0.0,\"y1\":1.0,\"yref\":\"y\"},{\"fillcolor\":\"rgba(0, 204, 150,0.5)\",\"line\":{\"color\":\"White\",\"width\":1},\"type\":\"rect\",\"x0\":8,\"x1\":9,\"xref\":\"x\",\"y0\":1.0,\"y1\":2.0,\"yref\":\"y\"},{\"fillcolor\":\"rgba(0, 204, 150,0.5)\",\"line\":{\"color\":\"White\",\"width\":1},\"type\":\"rect\",\"x0\":13,\"x1\":15,\"xref\":\"x\",\"y0\":0.0,\"y1\":1.0,\"yref\":\"y\"},{\"fillcolor\":\"rgba(0, 204, 150,0.5)\",\"line\":{\"color\":\"White\",\"width\":1},\"type\":\"rect\",\"x0\":7,\"x1\":9,\"xref\":\"x\",\"y0\":2.0,\"y1\":3.0,\"yref\":\"y\"},{\"fillcolor\":\"rgba(0, 204, 150,0.5)\",\"line\":{\"color\":\"White\",\"width\":1},\"type\":\"rect\",\"x0\":7,\"x1\":8,\"xref\":\"x\",\"y0\":0.0,\"y1\":1.0,\"yref\":\"y\"},{\"fillcolor\":\"rgba(0, 204, 150,0.5)\",\"line\":{\"color\":\"White\",\"width\":1},\"type\":\"rect\",\"x0\":12,\"x1\":13,\"xref\":\"x\",\"y0\":0.0,\"y1\":1.0,\"yref\":\"y\"},{\"fillcolor\":\"rgba(0, 204, 150,0.5)\",\"line\":{\"color\":\"White\",\"width\":1},\"type\":\"rect\",\"x0\":11,\"x1\":12,\"xref\":\"x\",\"y0\":0.0,\"y1\":1.0,\"yref\":\"y\"},{\"fillcolor\":\"rgba(0, 204, 150,0.5)\",\"line\":{\"color\":\"White\",\"width\":1},\"type\":\"rect\",\"x0\":14,\"x1\":16,\"xref\":\"x\",\"y0\":1.0,\"y1\":2.0,\"yref\":\"y\"},{\"fillcolor\":\"rgba(0, 204, 150,0.5)\",\"line\":{\"color\":\"White\",\"width\":1},\"type\":\"rect\",\"x0\":15,\"x1\":16,\"xref\":\"x\",\"y0\":0.0,\"y1\":1.0,\"yref\":\"y\"},{\"fillcolor\":\"rgba(0, 204, 150,0.5)\",\"line\":{\"color\":\"White\",\"width\":1},\"type\":\"rect\",\"x0\":9,\"x1\":13,\"xref\":\"x\",\"y0\":1.0,\"y1\":2.0,\"yref\":\"y\"},{\"fillcolor\":\"rgba(0, 204, 150,0.5)\",\"line\":{\"color\":\"White\",\"width\":1},\"type\":\"rect\",\"x0\":13,\"x1\":15,\"xref\":\"x\",\"y0\":2.0,\"y1\":3.0,\"yref\":\"y\"},{\"fillcolor\":\"rgba(0, 204, 150,0.5)\",\"line\":{\"color\":\"White\",\"width\":1},\"type\":\"rect\",\"x0\":6,\"x1\":8,\"xref\":\"x\",\"y0\":1.0,\"y1\":2.0,\"yref\":\"y\"},{\"fillcolor\":\"rgba(0, 204, 150,0.5)\",\"line\":{\"color\":\"White\",\"width\":1},\"type\":\"rect\",\"x0\":9,\"x1\":13,\"xref\":\"x\",\"y0\":2.0,\"y1\":3.0,\"yref\":\"y\"},{\"fillcolor\":\"rgba(0, 204, 150,0.5)\",\"line\":{\"color\":\"White\",\"width\":1},\"type\":\"rect\",\"x0\":10,\"x1\":11,\"xref\":\"x\",\"y0\":0.0,\"y1\":1.0,\"yref\":\"y\"},{\"fillcolor\":\"rgba(0, 204, 150,0.5)\",\"line\":{\"color\":\"White\",\"width\":1},\"type\":\"rect\",\"x0\":13,\"x1\":14,\"xref\":\"x\",\"y0\":1.0,\"y1\":2.0,\"yref\":\"y\"},{\"fillcolor\":\"rgba(0, 204, 150,0.5)\",\"line\":{\"color\":\"White\",\"width\":1},\"type\":\"rect\",\"x0\":16,\"x1\":17,\"xref\":\"x\",\"y0\":0.0,\"y1\":1.0,\"yref\":\"y\"},{\"fillcolor\":\"rgba(0, 204, 150,0.5)\",\"line\":{\"color\":\"White\",\"width\":1},\"type\":\"rect\",\"x0\":16,\"x1\":17,\"xref\":\"x\",\"y0\":1.0,\"y1\":2.0,\"yref\":\"y\"},{\"fillcolor\":\"rgba(0, 204, 150,0.5)\",\"line\":{\"color\":\"White\",\"width\":1},\"type\":\"rect\",\"x0\":16,\"x1\":22,\"xref\":\"x\",\"y0\":2.0,\"y1\":3.0,\"yref\":\"y\"},{\"fillcolor\":\"rgba(0, 204, 150,0.5)\",\"line\":{\"color\":\"White\",\"width\":1},\"type\":\"rect\",\"x0\":17,\"x1\":23,\"xref\":\"x\",\"y0\":0.0,\"y1\":1.0,\"yref\":\"y\"},{\"fillcolor\":\"rgba(0, 204, 150,0.5)\",\"line\":{\"color\":\"White\",\"width\":1},\"type\":\"rect\",\"x0\":15,\"x1\":16,\"xref\":\"x\",\"y0\":2.0,\"y1\":3.0,\"yref\":\"y\"},{\"fillcolor\":\"rgba(0, 204, 150,0.5)\",\"line\":{\"color\":\"White\",\"width\":1},\"type\":\"rect\",\"x0\":17,\"x1\":18,\"xref\":\"x\",\"y0\":1.0,\"y1\":2.0,\"yref\":\"y\"},{\"fillcolor\":\"rgba(0, 204, 150,0.5)\",\"line\":{\"color\":\"White\",\"width\":1},\"type\":\"rect\",\"x0\":20,\"x1\":21,\"xref\":\"x\",\"y0\":1.0,\"y1\":2.0,\"yref\":\"y\"},{\"fillcolor\":\"rgba(0, 204, 150,0.5)\",\"line\":{\"color\":\"White\",\"width\":1},\"type\":\"rect\",\"x0\":19,\"x1\":20,\"xref\":\"x\",\"y0\":1.0,\"y1\":2.0,\"yref\":\"y\"},{\"fillcolor\":\"rgba(0, 204, 150,0.5)\",\"line\":{\"color\":\"White\",\"width\":1},\"type\":\"rect\",\"x0\":22,\"x1\":23,\"xref\":\"x\",\"y0\":1.0,\"y1\":2.0,\"yref\":\"y\"},{\"fillcolor\":\"rgba(0, 204, 150,0.5)\",\"line\":{\"color\":\"White\",\"width\":1},\"type\":\"rect\",\"x0\":23,\"x1\":24,\"xref\":\"x\",\"y0\":0.0,\"y1\":1.0,\"yref\":\"y\"},{\"fillcolor\":\"rgba(0, 204, 150,0.5)\",\"line\":{\"color\":\"White\",\"width\":1},\"type\":\"rect\",\"x0\":23,\"x1\":24,\"xref\":\"x\",\"y0\":1.0,\"y1\":2.0,\"yref\":\"y\"},{\"fillcolor\":\"rgba(0, 204, 150,0.5)\",\"line\":{\"color\":\"White\",\"width\":1},\"type\":\"rect\",\"x0\":23,\"x1\":24,\"xref\":\"x\",\"y0\":2.0,\"y1\":3.0,\"yref\":\"y\"},{\"fillcolor\":\"rgba(0, 204, 150,1)\",\"line\":{\"color\":\"White\",\"width\":1},\"type\":\"rect\",\"x0\":8,\"x1\":9,\"y0\":0.0,\"y1\":0.46323569878481247,\"xref\":\"x\",\"yref\":\"y\"},{\"fillcolor\":\"rgba(0, 204, 150,1)\",\"line\":{\"color\":\"White\",\"width\":1},\"type\":\"rect\",\"x0\":8,\"x1\":9,\"y0\":1.0,\"y1\":1.4632356987848125,\"xref\":\"x\",\"yref\":\"y\"},{\"fillcolor\":\"rgba(0, 204, 150,1)\",\"line\":{\"color\":\"White\",\"width\":1},\"type\":\"rect\",\"x0\":13,\"x1\":15,\"y0\":0.0,\"y1\":0.46323569878481247,\"xref\":\"x\",\"yref\":\"y\"},{\"fillcolor\":\"rgba(0, 204, 150,1)\",\"line\":{\"color\":\"White\",\"width\":1},\"type\":\"rect\",\"x0\":7,\"x1\":9,\"y0\":2.0,\"y1\":2.4632356987848123,\"xref\":\"x\",\"yref\":\"y\"},{\"fillcolor\":\"rgba(0, 204, 150,1)\",\"line\":{\"color\":\"White\",\"width\":1},\"type\":\"rect\",\"x0\":7,\"x1\":8,\"y0\":0.0,\"y1\":0.46323569878481247,\"xref\":\"x\",\"yref\":\"y\"},{\"fillcolor\":\"rgba(0, 204, 150,1)\",\"line\":{\"color\":\"White\",\"width\":1},\"type\":\"rect\",\"x0\":12,\"x1\":13,\"y0\":0.0,\"y1\":0.46323569878481247,\"xref\":\"x\",\"yref\":\"y\"},{\"fillcolor\":\"rgba(0, 204, 150,1)\",\"line\":{\"color\":\"White\",\"width\":1},\"type\":\"rect\",\"x0\":11,\"x1\":12,\"y0\":0.0,\"y1\":0.46323569878481247,\"xref\":\"x\",\"yref\":\"y\"},{\"fillcolor\":\"rgba(0, 204, 150,1)\",\"line\":{\"color\":\"White\",\"width\":1},\"type\":\"rect\",\"x0\":14,\"x1\":16,\"y0\":1.0,\"y1\":1.4632356987848125,\"xref\":\"x\",\"yref\":\"y\"},{\"fillcolor\":\"rgba(0, 204, 150,1)\",\"line\":{\"color\":\"White\",\"width\":1},\"type\":\"rect\",\"x0\":15,\"x1\":16,\"y0\":0.0,\"y1\":0.46323569878481247,\"xref\":\"x\",\"yref\":\"y\"},{\"fillcolor\":\"rgba(0, 204, 150,1)\",\"line\":{\"color\":\"White\",\"width\":1},\"type\":\"rect\",\"x0\":9,\"x1\":13,\"y0\":1.0,\"y1\":1.4632356987848125,\"xref\":\"x\",\"yref\":\"y\"},{\"fillcolor\":\"rgba(0, 204, 150,1)\",\"line\":{\"color\":\"White\",\"width\":1},\"type\":\"rect\",\"x0\":13,\"x1\":15,\"y0\":2.0,\"y1\":2.4632356987848123,\"xref\":\"x\",\"yref\":\"y\"},{\"fillcolor\":\"rgba(0, 204, 150,1)\",\"line\":{\"color\":\"White\",\"width\":1},\"type\":\"rect\",\"x0\":6,\"x1\":8,\"y0\":1.0,\"y1\":1.4632356987848125,\"xref\":\"x\",\"yref\":\"y\"},{\"fillcolor\":\"rgba(0, 204, 150,1)\",\"line\":{\"color\":\"White\",\"width\":1},\"type\":\"rect\",\"x0\":9,\"x1\":13,\"y0\":2.0,\"y1\":2.4632356987848123,\"xref\":\"x\",\"yref\":\"y\"},{\"fillcolor\":\"rgba(0, 204, 150,1)\",\"line\":{\"color\":\"White\",\"width\":1},\"type\":\"rect\",\"x0\":10,\"x1\":11,\"y0\":0.0,\"y1\":0.46323569878481247,\"xref\":\"x\",\"yref\":\"y\"},{\"fillcolor\":\"rgba(0, 204, 150,1)\",\"line\":{\"color\":\"White\",\"width\":1},\"type\":\"rect\",\"x0\":13,\"x1\":14,\"y0\":1.0,\"y1\":1.4632356987848125,\"xref\":\"x\",\"yref\":\"y\"},{\"fillcolor\":\"rgba(0, 204, 150,1)\",\"line\":{\"color\":\"White\",\"width\":1},\"type\":\"rect\",\"x0\":16,\"x1\":17,\"y0\":0.0,\"y1\":0.46323569878481247,\"xref\":\"x\",\"yref\":\"y\"},{\"fillcolor\":\"rgba(0, 204, 150,1)\",\"line\":{\"color\":\"White\",\"width\":1},\"type\":\"rect\",\"x0\":16,\"x1\":17,\"y0\":1.0,\"y1\":1.4632356987848125,\"xref\":\"x\",\"yref\":\"y\"},{\"fillcolor\":\"rgba(0, 204, 150,1)\",\"line\":{\"color\":\"White\",\"width\":1},\"type\":\"rect\",\"x0\":16,\"x1\":22,\"y0\":2.0,\"y1\":2.4632356987848123,\"xref\":\"x\",\"yref\":\"y\"},{\"fillcolor\":\"rgba(0, 204, 150,1)\",\"line\":{\"color\":\"White\",\"width\":1},\"type\":\"rect\",\"x0\":17,\"x1\":23,\"y0\":0.0,\"y1\":0.4632356987848125,\"xref\":\"x\",\"yref\":\"y\"},{\"fillcolor\":\"rgba(0, 204, 150,1)\",\"line\":{\"color\":\"White\",\"width\":1},\"type\":\"rect\",\"x0\":15,\"x1\":16,\"y0\":2.0,\"y1\":2.4632356987848123,\"xref\":\"x\",\"yref\":\"y\"},{\"fillcolor\":\"rgba(0, 204, 150,1)\",\"line\":{\"color\":\"White\",\"width\":1},\"type\":\"rect\",\"x0\":17,\"x1\":18,\"y0\":1.0,\"y1\":1.4632356987848125,\"xref\":\"x\",\"yref\":\"y\"},{\"fillcolor\":\"rgba(0, 204, 150,1)\",\"line\":{\"color\":\"White\",\"width\":1},\"type\":\"rect\",\"x0\":20,\"x1\":21,\"y0\":1.0,\"y1\":1.4632356987848125,\"xref\":\"x\",\"yref\":\"y\"},{\"fillcolor\":\"rgba(0, 204, 150,1)\",\"line\":{\"color\":\"White\",\"width\":1},\"type\":\"rect\",\"x0\":19,\"x1\":20,\"y0\":1.0,\"y1\":1.4632356987848125,\"xref\":\"x\",\"yref\":\"y\"},{\"fillcolor\":\"rgba(0, 204, 150,1)\",\"line\":{\"color\":\"White\",\"width\":1},\"type\":\"rect\",\"x0\":22,\"x1\":23,\"y0\":1.0,\"y1\":1.4632356987848125,\"xref\":\"x\",\"yref\":\"y\"},{\"fillcolor\":\"rgba(0, 204, 150,1)\",\"line\":{\"color\":\"White\",\"width\":1},\"type\":\"rect\",\"x0\":23,\"x1\":24,\"y0\":0.0,\"y1\":0.46323569878481247,\"xref\":\"x\",\"yref\":\"y\"},{\"fillcolor\":\"rgba(0, 204, 150,1)\",\"line\":{\"color\":\"White\",\"width\":1},\"type\":\"rect\",\"x0\":23,\"x1\":24,\"y0\":1.0,\"y1\":1.4632356987848125,\"xref\":\"x\",\"yref\":\"y\"},{\"fillcolor\":\"rgba(0, 204, 150,1)\",\"line\":{\"color\":\"White\",\"width\":1},\"type\":\"rect\",\"x0\":23,\"x1\":24,\"y0\":2.0,\"y1\":2.4632356987848123,\"xref\":\"x\",\"yref\":\"y\"}],\"margin\":{\"l\":0,\"r\":0,\"t\":0,\"b\":0},\"width\":257.0,\"height\":57.111111111111114,\"plot_bgcolor\":\"rgba(0, 0, 0, 0)\",\"paper_bgcolor\":\"rgba(0, 0, 0, 0)\"},                        {\"responsive\": true}                    ).then(function(){\n",
       "                            \n",
       "var gd = document.getElementById('067040a9-d097-497d-9bbb-eab2bc2119bd');\n",
       "var x = new MutationObserver(function (mutations, observer) {{\n",
       "        var display = window.getComputedStyle(gd).display;\n",
       "        if (!display || display === 'none') {{\n",
       "            console.log([gd, 'removed!']);\n",
       "            Plotly.purge(gd);\n",
       "            observer.disconnect();\n",
       "        }}\n",
       "}});\n",
       "\n",
       "// Listen for the removal of the full notebook cells\n",
       "var notebookContainer = gd.closest('#notebook-container');\n",
       "if (notebookContainer) {{\n",
       "    x.observe(notebookContainer, {childList: true});\n",
       "}}\n",
       "\n",
       "// Listen for the clearing of the current output cell\n",
       "var outputEl = gd.closest('.output');\n",
       "if (outputEl) {{\n",
       "    x.observe(outputEl, {childList: true});\n",
       "}}\n",
       "\n",
       "                        })                };                });            </script>        </div>"
      ]
     },
     "metadata": {},
     "output_type": "display_data"
    }
   ],
   "execution_count": 66
  },
  {
   "metadata": {
    "ExecuteTime": {
     "end_time": "2024-09-24T13:32:36.997690Z",
     "start_time": "2024-09-24T13:32:33.966531Z"
    }
   },
   "cell_type": "code",
   "source": [
    "sh = prepare_simhistory(df, tdf, 7, \"MCTS\", 72)\n",
    "alloc = sold_unsold_allocation_from_simhistory(sh)\n",
    "fig = plot_simhistory_sold_unsold(alloc[alloc.sold])\n",
    "fig = add_revenue_boxes(fig, alloc)\n",
    "fig.update_layout(\n",
    "    width=img_width,  \n",
    "    height=img_height/3,\n",
    "    xaxis=dict(showticklabels=True, dtick=2, range=[6,24]),\n",
    "    yaxis=dict(showticklabels=False),\n",
    "    margin=dict(l=0, r=0, t=0, b=0)\n",
    ")\n",
    "# save\n",
    "fig.write_image(FIGROOT/\"trace_analysis\"/\"trace_analysis-sold_mcts.pdf\")\n",
    "fig.show()"
   ],
   "id": "dd368f78108acecd",
   "outputs": [
    {
     "data": {
      "application/vnd.plotly.v1+json": {
       "data": [
        {
         "fill": "toself",
         "mode": "lines",
         "name": "",
         "opacity": 0,
         "text": "timestep: 1, budget: 1.1195959505999442, action: 0.8073397667962161",
         "x": [
          8,
          9,
          9,
          8,
          8
         ],
         "y": [
          0.0,
          0.0,
          1.0,
          1.0,
          0.0
         ],
         "type": "scatter"
        },
        {
         "fill": "toself",
         "mode": "lines",
         "name": "",
         "opacity": 0,
         "text": "timestep: 22, budget: 1.742979002222134, action: 0.7377997436459796",
         "x": [
          8,
          9,
          9,
          8,
          8
         ],
         "y": [
          1.0,
          1.0,
          2.0,
          2.0,
          1.0
         ],
         "type": "scatter"
        },
        {
         "fill": "toself",
         "mode": "lines",
         "name": "",
         "opacity": 0,
         "text": "timestep: 28, budget: 2.476104437462143, action: 1.062830673427537",
         "x": [
          13,
          15,
          15,
          13,
          13
         ],
         "y": [
          0.0,
          0.0,
          1.0,
          1.0,
          0.0
         ],
         "type": "scatter"
        },
        {
         "fill": "toself",
         "mode": "lines",
         "name": "",
         "opacity": 0,
         "text": "timestep: 32, budget: 2.825944634742748, action: 0.937169326572463",
         "x": [
          7,
          9,
          9,
          7,
          7
         ],
         "y": [
          2.0,
          2.0,
          3.0,
          3.0,
          2.0
         ],
         "type": "scatter"
        },
        {
         "fill": "toself",
         "mode": "lines",
         "name": "",
         "opacity": 0,
         "text": "timestep: 49, budget: 0.970211005867882, action: 0.937169326572463",
         "x": [
          7,
          8,
          8,
          7,
          7
         ],
         "y": [
          0.0,
          0.0,
          1.0,
          1.0,
          0.0
         ],
         "type": "scatter"
        },
        {
         "fill": "toself",
         "mode": "lines",
         "name": "",
         "opacity": 0,
         "text": "timestep: 56, budget: 1.3496936884569708, action: 1.0",
         "x": [
          11,
          12,
          12,
          11,
          11
         ],
         "y": [
          0.0,
          0.0,
          1.0,
          1.0,
          0.0
         ],
         "type": "scatter"
        },
        {
         "fill": "toself",
         "mode": "lines",
         "name": "",
         "opacity": 0,
         "text": "timestep: 101, budget: 0.630497750222799, action: 0.5791893832135429",
         "x": [
          7,
          8,
          8,
          7,
          7
         ],
         "y": [
          1.0,
          1.0,
          2.0,
          2.0,
          1.0
         ],
         "type": "scatter"
        },
        {
         "fill": "toself",
         "mode": "lines",
         "name": "",
         "opacity": 0,
         "text": "timestep: 102, budget: 2.4073516070067678, action: 1.1266735515678998",
         "x": [
          14,
          16,
          16,
          14,
          14
         ],
         "y": [
          1.0,
          1.0,
          2.0,
          2.0,
          1.0
         ],
         "type": "scatter"
        },
        {
         "fill": "toself",
         "mode": "lines",
         "name": "",
         "opacity": 0,
         "text": "timestep: 105, budget: 1.5648395922470189, action: 1.518216694746895",
         "x": [
          15,
          16,
          16,
          15,
          15
         ],
         "y": [
          0.0,
          0.0,
          1.0,
          1.0,
          0.0
         ],
         "type": "scatter"
        },
        {
         "fill": "toself",
         "mode": "lines",
         "name": "",
         "opacity": 0,
         "text": "timestep: 123, budget: 4.838348285211584, action: 0.8733264484321002",
         "x": [
          9,
          13,
          13,
          9,
          9
         ],
         "y": [
          1.0,
          1.0,
          2.0,
          2.0,
          1.0
         ],
         "type": "scatter"
        },
        {
         "fill": "toself",
         "mode": "lines",
         "name": "",
         "opacity": 0,
         "text": "timestep: 169, budget: 4.430406329196159, action: 0.8733264484321002",
         "x": [
          9,
          13,
          13,
          9,
          9
         ],
         "y": [
          2.0,
          2.0,
          3.0,
          3.0,
          2.0
         ],
         "type": "scatter"
        },
        {
         "fill": "toself",
         "mode": "lines",
         "name": "",
         "opacity": 0,
         "text": "timestep: 195, budget: 1.7724783359234406, action: 1.1266735515678998",
         "x": [
          10,
          11,
          11,
          10,
          10
         ],
         "y": [
          0.0,
          0.0,
          1.0,
          1.0,
          0.0
         ],
         "type": "scatter"
        },
        {
         "fill": "toself",
         "mode": "lines",
         "name": "",
         "opacity": 0,
         "text": "timestep: 216, budget: 1.4600598912616003, action: 1.1266735515678998",
         "x": [
          12,
          13,
          13,
          12,
          12
         ],
         "y": [
          0.0,
          0.0,
          1.0,
          1.0,
          0.0
         ],
         "type": "scatter"
        },
        {
         "fill": "toself",
         "mode": "lines",
         "name": "",
         "opacity": 0,
         "text": "timestep: 220, budget: 1.478226516330889, action: 1.1266735515678998",
         "x": [
          13,
          14,
          14,
          13,
          13
         ],
         "y": [
          1.0,
          1.0,
          2.0,
          2.0,
          1.0
         ],
         "type": "scatter"
        },
        {
         "fill": "toself",
         "mode": "lines",
         "name": "",
         "opacity": 0,
         "text": "timestep: 269, budget: 1.885274495733084, action: 1.518216694746895",
         "x": [
          16,
          17,
          17,
          16,
          16
         ],
         "y": [
          0.0,
          0.0,
          1.0,
          1.0,
          0.0
         ],
         "type": "scatter"
        },
        {
         "fill": "toself",
         "mode": "lines",
         "name": "",
         "opacity": 0,
         "text": "timestep: 289, budget: 3.004007820978236, action: 0.8733264484321002",
         "x": [
          13,
          16,
          16,
          13,
          13
         ],
         "y": [
          2.0,
          2.0,
          3.0,
          3.0,
          2.0
         ],
         "type": "scatter"
        },
        {
         "fill": "toself",
         "mode": "lines",
         "name": "",
         "opacity": 0,
         "text": "timestep: 318, budget: 1.413955154548848, action: 1.2622002563540202",
         "x": [
          16,
          17,
          17,
          16,
          16
         ],
         "y": [
          1.0,
          1.0,
          2.0,
          2.0,
          1.0
         ],
         "type": "scatter"
        },
        {
         "fill": "toself",
         "mode": "lines",
         "name": "",
         "opacity": 0,
         "text": "timestep: 326, budget: 6.216570416937723, action: 0.8733264484321002",
         "x": [
          16,
          22,
          22,
          16,
          16
         ],
         "y": [
          2.0,
          2.0,
          3.0,
          3.0,
          2.0
         ],
         "type": "scatter"
        },
        {
         "fill": "toself",
         "mode": "lines",
         "name": "",
         "opacity": 0,
         "text": "timestep: 328, budget: 5.935700998699732, action: 0.8733264484321002",
         "x": [
          17,
          23,
          23,
          17,
          17
         ],
         "y": [
          0.0,
          0.0,
          1.0,
          1.0,
          0.0
         ],
         "type": "scatter"
        },
        {
         "fill": "toself",
         "mode": "lines",
         "name": "",
         "opacity": 0,
         "text": "timestep: 406, budget: 3.396411988572347, action: 0.937169326572463",
         "x": [
          17,
          20,
          20,
          17,
          17
         ],
         "y": [
          1.0,
          1.0,
          2.0,
          2.0,
          1.0
         ],
         "type": "scatter"
        },
        {
         "fill": "toself",
         "mode": "lines",
         "name": "",
         "opacity": 0,
         "text": "timestep: 466, budget: 1.5148666038064684, action: 1.0",
         "x": [
          20,
          21,
          21,
          20,
          20
         ],
         "y": [
          1.0,
          1.0,
          2.0,
          2.0,
          1.0
         ],
         "type": "scatter"
        },
        {
         "fill": "toself",
         "mode": "lines",
         "name": "",
         "opacity": 0,
         "text": "timestep: 550, budget: 1.3443277588507163, action: 0.8073397667962161",
         "x": [
          22,
          23,
          23,
          22,
          22
         ],
         "y": [
          1.0,
          1.0,
          2.0,
          2.0,
          1.0
         ],
         "type": "scatter"
        },
        {
         "fill": "toself",
         "mode": "lines",
         "name": "",
         "opacity": 0,
         "text": "timestep: 560, budget: 1.1784389116773375, action: 0.937169326572463",
         "x": [
          23,
          24,
          24,
          23,
          23
         ],
         "y": [
          0.0,
          0.0,
          1.0,
          1.0,
          0.0
         ],
         "type": "scatter"
        },
        {
         "fill": "toself",
         "mode": "lines",
         "name": "",
         "opacity": 0,
         "text": "timestep: 570, budget: 1.3496696011969804, action: 0.8073397667962161",
         "x": [
          23,
          24,
          24,
          23,
          23
         ],
         "y": [
          1.0,
          1.0,
          2.0,
          2.0,
          1.0
         ],
         "type": "scatter"
        },
        {
         "fill": "toself",
         "mode": "lines",
         "name": "",
         "opacity": 0,
         "text": "timestep: 574, budget: 1.160007534543492, action: 1.0",
         "x": [
          23,
          24,
          24,
          23,
          23
         ],
         "y": [
          2.0,
          2.0,
          3.0,
          3.0,
          2.0
         ],
         "type": "scatter"
        }
       ],
       "layout": {
        "template": {
         "data": {
          "histogram2dcontour": [
           {
            "type": "histogram2dcontour",
            "colorbar": {
             "outlinewidth": 0,
             "ticks": ""
            },
            "colorscale": [
             [
              0.0,
              "#0d0887"
             ],
             [
              0.1111111111111111,
              "#46039f"
             ],
             [
              0.2222222222222222,
              "#7201a8"
             ],
             [
              0.3333333333333333,
              "#9c179e"
             ],
             [
              0.4444444444444444,
              "#bd3786"
             ],
             [
              0.5555555555555556,
              "#d8576b"
             ],
             [
              0.6666666666666666,
              "#ed7953"
             ],
             [
              0.7777777777777778,
              "#fb9f3a"
             ],
             [
              0.8888888888888888,
              "#fdca26"
             ],
             [
              1.0,
              "#f0f921"
             ]
            ]
           }
          ],
          "choropleth": [
           {
            "type": "choropleth",
            "colorbar": {
             "outlinewidth": 0,
             "ticks": ""
            }
           }
          ],
          "histogram2d": [
           {
            "type": "histogram2d",
            "colorbar": {
             "outlinewidth": 0,
             "ticks": ""
            },
            "colorscale": [
             [
              0.0,
              "#0d0887"
             ],
             [
              0.1111111111111111,
              "#46039f"
             ],
             [
              0.2222222222222222,
              "#7201a8"
             ],
             [
              0.3333333333333333,
              "#9c179e"
             ],
             [
              0.4444444444444444,
              "#bd3786"
             ],
             [
              0.5555555555555556,
              "#d8576b"
             ],
             [
              0.6666666666666666,
              "#ed7953"
             ],
             [
              0.7777777777777778,
              "#fb9f3a"
             ],
             [
              0.8888888888888888,
              "#fdca26"
             ],
             [
              1.0,
              "#f0f921"
             ]
            ]
           }
          ],
          "heatmap": [
           {
            "type": "heatmap",
            "colorbar": {
             "outlinewidth": 0,
             "ticks": ""
            },
            "colorscale": [
             [
              0.0,
              "#0d0887"
             ],
             [
              0.1111111111111111,
              "#46039f"
             ],
             [
              0.2222222222222222,
              "#7201a8"
             ],
             [
              0.3333333333333333,
              "#9c179e"
             ],
             [
              0.4444444444444444,
              "#bd3786"
             ],
             [
              0.5555555555555556,
              "#d8576b"
             ],
             [
              0.6666666666666666,
              "#ed7953"
             ],
             [
              0.7777777777777778,
              "#fb9f3a"
             ],
             [
              0.8888888888888888,
              "#fdca26"
             ],
             [
              1.0,
              "#f0f921"
             ]
            ]
           }
          ],
          "heatmapgl": [
           {
            "type": "heatmapgl",
            "colorbar": {
             "outlinewidth": 0,
             "ticks": ""
            },
            "colorscale": [
             [
              0.0,
              "#0d0887"
             ],
             [
              0.1111111111111111,
              "#46039f"
             ],
             [
              0.2222222222222222,
              "#7201a8"
             ],
             [
              0.3333333333333333,
              "#9c179e"
             ],
             [
              0.4444444444444444,
              "#bd3786"
             ],
             [
              0.5555555555555556,
              "#d8576b"
             ],
             [
              0.6666666666666666,
              "#ed7953"
             ],
             [
              0.7777777777777778,
              "#fb9f3a"
             ],
             [
              0.8888888888888888,
              "#fdca26"
             ],
             [
              1.0,
              "#f0f921"
             ]
            ]
           }
          ],
          "contourcarpet": [
           {
            "type": "contourcarpet",
            "colorbar": {
             "outlinewidth": 0,
             "ticks": ""
            }
           }
          ],
          "contour": [
           {
            "type": "contour",
            "colorbar": {
             "outlinewidth": 0,
             "ticks": ""
            },
            "colorscale": [
             [
              0.0,
              "#0d0887"
             ],
             [
              0.1111111111111111,
              "#46039f"
             ],
             [
              0.2222222222222222,
              "#7201a8"
             ],
             [
              0.3333333333333333,
              "#9c179e"
             ],
             [
              0.4444444444444444,
              "#bd3786"
             ],
             [
              0.5555555555555556,
              "#d8576b"
             ],
             [
              0.6666666666666666,
              "#ed7953"
             ],
             [
              0.7777777777777778,
              "#fb9f3a"
             ],
             [
              0.8888888888888888,
              "#fdca26"
             ],
             [
              1.0,
              "#f0f921"
             ]
            ]
           }
          ],
          "surface": [
           {
            "type": "surface",
            "colorbar": {
             "outlinewidth": 0,
             "ticks": ""
            },
            "colorscale": [
             [
              0.0,
              "#0d0887"
             ],
             [
              0.1111111111111111,
              "#46039f"
             ],
             [
              0.2222222222222222,
              "#7201a8"
             ],
             [
              0.3333333333333333,
              "#9c179e"
             ],
             [
              0.4444444444444444,
              "#bd3786"
             ],
             [
              0.5555555555555556,
              "#d8576b"
             ],
             [
              0.6666666666666666,
              "#ed7953"
             ],
             [
              0.7777777777777778,
              "#fb9f3a"
             ],
             [
              0.8888888888888888,
              "#fdca26"
             ],
             [
              1.0,
              "#f0f921"
             ]
            ]
           }
          ],
          "mesh3d": [
           {
            "type": "mesh3d",
            "colorbar": {
             "outlinewidth": 0,
             "ticks": ""
            }
           }
          ],
          "scatter": [
           {
            "fillpattern": {
             "fillmode": "overlay",
             "size": 10,
             "solidity": 0.2
            },
            "type": "scatter"
           }
          ],
          "parcoords": [
           {
            "type": "parcoords",
            "line": {
             "colorbar": {
              "outlinewidth": 0,
              "ticks": ""
             }
            }
           }
          ],
          "scatterpolargl": [
           {
            "type": "scatterpolargl",
            "marker": {
             "colorbar": {
              "outlinewidth": 0,
              "ticks": ""
             }
            }
           }
          ],
          "bar": [
           {
            "error_x": {
             "color": "#2a3f5f"
            },
            "error_y": {
             "color": "#2a3f5f"
            },
            "marker": {
             "line": {
              "color": "#E5ECF6",
              "width": 0.5
             },
             "pattern": {
              "fillmode": "overlay",
              "size": 10,
              "solidity": 0.2
             }
            },
            "type": "bar"
           }
          ],
          "scattergeo": [
           {
            "type": "scattergeo",
            "marker": {
             "colorbar": {
              "outlinewidth": 0,
              "ticks": ""
             }
            }
           }
          ],
          "scatterpolar": [
           {
            "type": "scatterpolar",
            "marker": {
             "colorbar": {
              "outlinewidth": 0,
              "ticks": ""
             }
            }
           }
          ],
          "histogram": [
           {
            "marker": {
             "pattern": {
              "fillmode": "overlay",
              "size": 10,
              "solidity": 0.2
             }
            },
            "type": "histogram"
           }
          ],
          "scattergl": [
           {
            "type": "scattergl",
            "marker": {
             "colorbar": {
              "outlinewidth": 0,
              "ticks": ""
             }
            }
           }
          ],
          "scatter3d": [
           {
            "type": "scatter3d",
            "line": {
             "colorbar": {
              "outlinewidth": 0,
              "ticks": ""
             }
            },
            "marker": {
             "colorbar": {
              "outlinewidth": 0,
              "ticks": ""
             }
            }
           }
          ],
          "scattermapbox": [
           {
            "type": "scattermapbox",
            "marker": {
             "colorbar": {
              "outlinewidth": 0,
              "ticks": ""
             }
            }
           }
          ],
          "scatterternary": [
           {
            "type": "scatterternary",
            "marker": {
             "colorbar": {
              "outlinewidth": 0,
              "ticks": ""
             }
            }
           }
          ],
          "scattercarpet": [
           {
            "type": "scattercarpet",
            "marker": {
             "colorbar": {
              "outlinewidth": 0,
              "ticks": ""
             }
            }
           }
          ],
          "carpet": [
           {
            "aaxis": {
             "endlinecolor": "#2a3f5f",
             "gridcolor": "white",
             "linecolor": "white",
             "minorgridcolor": "white",
             "startlinecolor": "#2a3f5f"
            },
            "baxis": {
             "endlinecolor": "#2a3f5f",
             "gridcolor": "white",
             "linecolor": "white",
             "minorgridcolor": "white",
             "startlinecolor": "#2a3f5f"
            },
            "type": "carpet"
           }
          ],
          "table": [
           {
            "cells": {
             "fill": {
              "color": "#EBF0F8"
             },
             "line": {
              "color": "white"
             }
            },
            "header": {
             "fill": {
              "color": "#C8D4E3"
             },
             "line": {
              "color": "white"
             }
            },
            "type": "table"
           }
          ],
          "barpolar": [
           {
            "marker": {
             "line": {
              "color": "#E5ECF6",
              "width": 0.5
             },
             "pattern": {
              "fillmode": "overlay",
              "size": 10,
              "solidity": 0.2
             }
            },
            "type": "barpolar"
           }
          ],
          "pie": [
           {
            "automargin": true,
            "type": "pie"
           }
          ]
         },
         "layout": {
          "autotypenumbers": "strict",
          "colorway": [
           "#636efa",
           "#EF553B",
           "#00cc96",
           "#ab63fa",
           "#FFA15A",
           "#19d3f3",
           "#FF6692",
           "#B6E880",
           "#FF97FF",
           "#FECB52"
          ],
          "font": {
           "color": "#2a3f5f"
          },
          "hovermode": "closest",
          "hoverlabel": {
           "align": "left"
          },
          "paper_bgcolor": "white",
          "plot_bgcolor": "#E5ECF6",
          "polar": {
           "bgcolor": "#E5ECF6",
           "angularaxis": {
            "gridcolor": "white",
            "linecolor": "white",
            "ticks": ""
           },
           "radialaxis": {
            "gridcolor": "white",
            "linecolor": "white",
            "ticks": ""
           }
          },
          "ternary": {
           "bgcolor": "#E5ECF6",
           "aaxis": {
            "gridcolor": "white",
            "linecolor": "white",
            "ticks": ""
           },
           "baxis": {
            "gridcolor": "white",
            "linecolor": "white",
            "ticks": ""
           },
           "caxis": {
            "gridcolor": "white",
            "linecolor": "white",
            "ticks": ""
           }
          },
          "coloraxis": {
           "colorbar": {
            "outlinewidth": 0,
            "ticks": ""
           }
          },
          "colorscale": {
           "sequential": [
            [
             0.0,
             "#0d0887"
            ],
            [
             0.1111111111111111,
             "#46039f"
            ],
            [
             0.2222222222222222,
             "#7201a8"
            ],
            [
             0.3333333333333333,
             "#9c179e"
            ],
            [
             0.4444444444444444,
             "#bd3786"
            ],
            [
             0.5555555555555556,
             "#d8576b"
            ],
            [
             0.6666666666666666,
             "#ed7953"
            ],
            [
             0.7777777777777778,
             "#fb9f3a"
            ],
            [
             0.8888888888888888,
             "#fdca26"
            ],
            [
             1.0,
             "#f0f921"
            ]
           ],
           "sequentialminus": [
            [
             0.0,
             "#0d0887"
            ],
            [
             0.1111111111111111,
             "#46039f"
            ],
            [
             0.2222222222222222,
             "#7201a8"
            ],
            [
             0.3333333333333333,
             "#9c179e"
            ],
            [
             0.4444444444444444,
             "#bd3786"
            ],
            [
             0.5555555555555556,
             "#d8576b"
            ],
            [
             0.6666666666666666,
             "#ed7953"
            ],
            [
             0.7777777777777778,
             "#fb9f3a"
            ],
            [
             0.8888888888888888,
             "#fdca26"
            ],
            [
             1.0,
             "#f0f921"
            ]
           ],
           "diverging": [
            [
             0,
             "#8e0152"
            ],
            [
             0.1,
             "#c51b7d"
            ],
            [
             0.2,
             "#de77ae"
            ],
            [
             0.3,
             "#f1b6da"
            ],
            [
             0.4,
             "#fde0ef"
            ],
            [
             0.5,
             "#f7f7f7"
            ],
            [
             0.6,
             "#e6f5d0"
            ],
            [
             0.7,
             "#b8e186"
            ],
            [
             0.8,
             "#7fbc41"
            ],
            [
             0.9,
             "#4d9221"
            ],
            [
             1,
             "#276419"
            ]
           ]
          },
          "xaxis": {
           "gridcolor": "white",
           "linecolor": "white",
           "ticks": "",
           "title": {
            "standoff": 15
           },
           "zerolinecolor": "white",
           "automargin": true,
           "zerolinewidth": 2
          },
          "yaxis": {
           "gridcolor": "white",
           "linecolor": "white",
           "ticks": "",
           "title": {
            "standoff": 15
           },
           "zerolinecolor": "white",
           "automargin": true,
           "zerolinewidth": 2
          },
          "scene": {
           "xaxis": {
            "backgroundcolor": "#E5ECF6",
            "gridcolor": "white",
            "linecolor": "white",
            "showbackground": true,
            "ticks": "",
            "zerolinecolor": "white",
            "gridwidth": 2
           },
           "yaxis": {
            "backgroundcolor": "#E5ECF6",
            "gridcolor": "white",
            "linecolor": "white",
            "showbackground": true,
            "ticks": "",
            "zerolinecolor": "white",
            "gridwidth": 2
           },
           "zaxis": {
            "backgroundcolor": "#E5ECF6",
            "gridcolor": "white",
            "linecolor": "white",
            "showbackground": true,
            "ticks": "",
            "zerolinecolor": "white",
            "gridwidth": 2
           }
          },
          "shapedefaults": {
           "line": {
            "color": "#2a3f5f"
           }
          },
          "annotationdefaults": {
           "arrowcolor": "#2a3f5f",
           "arrowhead": 0,
           "arrowwidth": 1
          },
          "geo": {
           "bgcolor": "white",
           "landcolor": "#E5ECF6",
           "subunitcolor": "white",
           "showland": true,
           "showlakes": true,
           "lakecolor": "white"
          },
          "title": {
           "x": 0.05
          },
          "mapbox": {
           "style": "light"
          }
         }
        },
        "xaxis": {
         "showticklabels": true,
         "dtick": 2,
         "range": [
          6,
          24
         ]
        },
        "yaxis": {
         "range": [
          0,
          3
         ],
         "showticklabels": false
        },
        "shapes": [
         {
          "fillcolor": "rgba(0, 204, 150,0.5)",
          "line": {
           "color": "White",
           "width": 1
          },
          "type": "rect",
          "x0": 8,
          "x1": 9,
          "xref": "x",
          "y0": 0.0,
          "y1": 1.0,
          "yref": "y"
         },
         {
          "fillcolor": "rgba(0, 204, 150,0.5)",
          "line": {
           "color": "White",
           "width": 1
          },
          "type": "rect",
          "x0": 8,
          "x1": 9,
          "xref": "x",
          "y0": 1.0,
          "y1": 2.0,
          "yref": "y"
         },
         {
          "fillcolor": "rgba(0, 204, 150,0.5)",
          "line": {
           "color": "White",
           "width": 1
          },
          "type": "rect",
          "x0": 13,
          "x1": 15,
          "xref": "x",
          "y0": 0.0,
          "y1": 1.0,
          "yref": "y"
         },
         {
          "fillcolor": "rgba(0, 204, 150,0.5)",
          "line": {
           "color": "White",
           "width": 1
          },
          "type": "rect",
          "x0": 7,
          "x1": 9,
          "xref": "x",
          "y0": 2.0,
          "y1": 3.0,
          "yref": "y"
         },
         {
          "fillcolor": "rgba(0, 204, 150,0.5)",
          "line": {
           "color": "White",
           "width": 1
          },
          "type": "rect",
          "x0": 7,
          "x1": 8,
          "xref": "x",
          "y0": 0.0,
          "y1": 1.0,
          "yref": "y"
         },
         {
          "fillcolor": "rgba(0, 204, 150,0.5)",
          "line": {
           "color": "White",
           "width": 1
          },
          "type": "rect",
          "x0": 11,
          "x1": 12,
          "xref": "x",
          "y0": 0.0,
          "y1": 1.0,
          "yref": "y"
         },
         {
          "fillcolor": "rgba(0, 204, 150,0.5)",
          "line": {
           "color": "White",
           "width": 1
          },
          "type": "rect",
          "x0": 7,
          "x1": 8,
          "xref": "x",
          "y0": 1.0,
          "y1": 2.0,
          "yref": "y"
         },
         {
          "fillcolor": "rgba(0, 204, 150,0.5)",
          "line": {
           "color": "White",
           "width": 1
          },
          "type": "rect",
          "x0": 14,
          "x1": 16,
          "xref": "x",
          "y0": 1.0,
          "y1": 2.0,
          "yref": "y"
         },
         {
          "fillcolor": "rgba(0, 204, 150,0.5)",
          "line": {
           "color": "White",
           "width": 1
          },
          "type": "rect",
          "x0": 15,
          "x1": 16,
          "xref": "x",
          "y0": 0.0,
          "y1": 1.0,
          "yref": "y"
         },
         {
          "fillcolor": "rgba(0, 204, 150,0.5)",
          "line": {
           "color": "White",
           "width": 1
          },
          "type": "rect",
          "x0": 9,
          "x1": 13,
          "xref": "x",
          "y0": 1.0,
          "y1": 2.0,
          "yref": "y"
         },
         {
          "fillcolor": "rgba(0, 204, 150,0.5)",
          "line": {
           "color": "White",
           "width": 1
          },
          "type": "rect",
          "x0": 9,
          "x1": 13,
          "xref": "x",
          "y0": 2.0,
          "y1": 3.0,
          "yref": "y"
         },
         {
          "fillcolor": "rgba(0, 204, 150,0.5)",
          "line": {
           "color": "White",
           "width": 1
          },
          "type": "rect",
          "x0": 10,
          "x1": 11,
          "xref": "x",
          "y0": 0.0,
          "y1": 1.0,
          "yref": "y"
         },
         {
          "fillcolor": "rgba(0, 204, 150,0.5)",
          "line": {
           "color": "White",
           "width": 1
          },
          "type": "rect",
          "x0": 12,
          "x1": 13,
          "xref": "x",
          "y0": 0.0,
          "y1": 1.0,
          "yref": "y"
         },
         {
          "fillcolor": "rgba(0, 204, 150,0.5)",
          "line": {
           "color": "White",
           "width": 1
          },
          "type": "rect",
          "x0": 13,
          "x1": 14,
          "xref": "x",
          "y0": 1.0,
          "y1": 2.0,
          "yref": "y"
         },
         {
          "fillcolor": "rgba(0, 204, 150,0.5)",
          "line": {
           "color": "White",
           "width": 1
          },
          "type": "rect",
          "x0": 16,
          "x1": 17,
          "xref": "x",
          "y0": 0.0,
          "y1": 1.0,
          "yref": "y"
         },
         {
          "fillcolor": "rgba(0, 204, 150,0.5)",
          "line": {
           "color": "White",
           "width": 1
          },
          "type": "rect",
          "x0": 13,
          "x1": 16,
          "xref": "x",
          "y0": 2.0,
          "y1": 3.0,
          "yref": "y"
         },
         {
          "fillcolor": "rgba(0, 204, 150,0.5)",
          "line": {
           "color": "White",
           "width": 1
          },
          "type": "rect",
          "x0": 16,
          "x1": 17,
          "xref": "x",
          "y0": 1.0,
          "y1": 2.0,
          "yref": "y"
         },
         {
          "fillcolor": "rgba(0, 204, 150,0.5)",
          "line": {
           "color": "White",
           "width": 1
          },
          "type": "rect",
          "x0": 16,
          "x1": 22,
          "xref": "x",
          "y0": 2.0,
          "y1": 3.0,
          "yref": "y"
         },
         {
          "fillcolor": "rgba(0, 204, 150,0.5)",
          "line": {
           "color": "White",
           "width": 1
          },
          "type": "rect",
          "x0": 17,
          "x1": 23,
          "xref": "x",
          "y0": 0.0,
          "y1": 1.0,
          "yref": "y"
         },
         {
          "fillcolor": "rgba(0, 204, 150,0.5)",
          "line": {
           "color": "White",
           "width": 1
          },
          "type": "rect",
          "x0": 17,
          "x1": 20,
          "xref": "x",
          "y0": 1.0,
          "y1": 2.0,
          "yref": "y"
         },
         {
          "fillcolor": "rgba(0, 204, 150,0.5)",
          "line": {
           "color": "White",
           "width": 1
          },
          "type": "rect",
          "x0": 20,
          "x1": 21,
          "xref": "x",
          "y0": 1.0,
          "y1": 2.0,
          "yref": "y"
         },
         {
          "fillcolor": "rgba(0, 204, 150,0.5)",
          "line": {
           "color": "White",
           "width": 1
          },
          "type": "rect",
          "x0": 22,
          "x1": 23,
          "xref": "x",
          "y0": 1.0,
          "y1": 2.0,
          "yref": "y"
         },
         {
          "fillcolor": "rgba(0, 204, 150,0.5)",
          "line": {
           "color": "White",
           "width": 1
          },
          "type": "rect",
          "x0": 23,
          "x1": 24,
          "xref": "x",
          "y0": 0.0,
          "y1": 1.0,
          "yref": "y"
         },
         {
          "fillcolor": "rgba(0, 204, 150,0.5)",
          "line": {
           "color": "White",
           "width": 1
          },
          "type": "rect",
          "x0": 23,
          "x1": 24,
          "xref": "x",
          "y0": 1.0,
          "y1": 2.0,
          "yref": "y"
         },
         {
          "fillcolor": "rgba(0, 204, 150,0.5)",
          "line": {
           "color": "White",
           "width": 1
          },
          "type": "rect",
          "x0": 23,
          "x1": 24,
          "xref": "x",
          "y0": 2.0,
          "y1": 3.0,
          "yref": "y"
         },
         {
          "fillcolor": "rgba(0, 204, 150,1)",
          "line": {
           "color": "White",
           "width": 1
          },
          "type": "rect",
          "x0": 8,
          "x1": 9,
          "y0": 0.0,
          "y1": 0.4282345985284674,
          "xref": "x",
          "yref": "y"
         },
         {
          "fillcolor": "rgba(0, 204, 150,1)",
          "line": {
           "color": "White",
           "width": 1
          },
          "type": "rect",
          "x0": 8,
          "x1": 9,
          "y0": 1.0,
          "y1": 1.3913487109255611,
          "xref": "x",
          "yref": "y"
         },
         {
          "fillcolor": "rgba(0, 204, 150,1)",
          "line": {
           "color": "White",
           "width": 1
          },
          "type": "rect",
          "x0": 13,
          "x1": 15,
          "y0": 0.0,
          "y1": 0.5637538065852092,
          "xref": "x",
          "yref": "y"
         },
         {
          "fillcolor": "rgba(0, 204, 150,1)",
          "line": {
           "color": "White",
           "width": 1
          },
          "type": "rect",
          "x0": 7,
          "x1": 9,
          "y0": 2.0,
          "y1": 2.4970996683472597,
          "xref": "x",
          "yref": "y"
         },
         {
          "fillcolor": "rgba(0, 204, 150,1)",
          "line": {
           "color": "White",
           "width": 1
          },
          "type": "rect",
          "x0": 7,
          "x1": 8,
          "y0": 0.0,
          "y1": 0.4970996683472595,
          "xref": "x",
          "yref": "y"
         },
         {
          "fillcolor": "rgba(0, 204, 150,1)",
          "line": {
           "color": "White",
           "width": 1
          },
          "type": "rect",
          "x0": 11,
          "x1": 12,
          "y0": 0.0,
          "y1": 0.5304267374662344,
          "xref": "x",
          "yref": "y"
         },
         {
          "fillcolor": "rgba(0, 204, 150,1)",
          "line": {
           "color": "White",
           "width": 1
          },
          "type": "rect",
          "x0": 7,
          "x1": 8,
          "y0": 1.0,
          "y1": 1.3072175349130402,
          "xref": "x",
          "yref": "y"
         },
         {
          "fillcolor": "rgba(0, 204, 150,1)",
          "line": {
           "color": "White",
           "width": 1
          },
          "type": "rect",
          "x0": 14,
          "x1": 16,
          "y0": 1.0,
          "y1": 1.5976177761476564,
          "xref": "x",
          "yref": "y"
         },
         {
          "fillcolor": "rgba(0, 204, 150,1)",
          "line": {
           "color": "White",
           "width": 1
          },
          "type": "rect",
          "x0": 15,
          "x1": 16,
          "y0": 0.0,
          "y1": 0.8053027281613654,
          "xref": "x",
          "yref": "y"
         },
         {
          "fillcolor": "rgba(0, 204, 150,1)",
          "line": {
           "color": "White",
           "width": 1
          },
          "type": "rect",
          "x0": 9,
          "x1": 13,
          "y0": 1.0,
          "y1": 1.4632356987848125,
          "xref": "x",
          "yref": "y"
         },
         {
          "fillcolor": "rgba(0, 204, 150,1)",
          "line": {
           "color": "White",
           "width": 1
          },
          "type": "rect",
          "x0": 9,
          "x1": 13,
          "y0": 2.0,
          "y1": 2.4632356987848123,
          "xref": "x",
          "yref": "y"
         },
         {
          "fillcolor": "rgba(0, 204, 150,1)",
          "line": {
           "color": "White",
           "width": 1
          },
          "type": "rect",
          "x0": 10,
          "x1": 11,
          "y0": 0.0,
          "y1": 0.5976177761476563,
          "xref": "x",
          "yref": "y"
         },
         {
          "fillcolor": "rgba(0, 204, 150,1)",
          "line": {
           "color": "White",
           "width": 1
          },
          "type": "rect",
          "x0": 12,
          "x1": 13,
          "y0": 0.0,
          "y1": 0.5976177761476563,
          "xref": "x",
          "yref": "y"
         },
         {
          "fillcolor": "rgba(0, 204, 150,1)",
          "line": {
           "color": "White",
           "width": 1
          },
          "type": "rect",
          "x0": 13,
          "x1": 14,
          "y0": 1.0,
          "y1": 1.5976177761476564,
          "xref": "x",
          "yref": "y"
         },
         {
          "fillcolor": "rgba(0, 204, 150,1)",
          "line": {
           "color": "White",
           "width": 1
          },
          "type": "rect",
          "x0": 16,
          "x1": 17,
          "y0": 0.0,
          "y1": 0.8053027281613654,
          "xref": "x",
          "yref": "y"
         },
         {
          "fillcolor": "rgba(0, 204, 150,1)",
          "line": {
           "color": "White",
           "width": 1
          },
          "type": "rect",
          "x0": 13,
          "x1": 16,
          "y0": 2.0,
          "y1": 2.4632356987848123,
          "xref": "x",
          "yref": "y"
         },
         {
          "fillcolor": "rgba(0, 204, 150,1)",
          "line": {
           "color": "White",
           "width": 1
          },
          "type": "rect",
          "x0": 16,
          "x1": 17,
          "y0": 1.0,
          "y1": 1.6695047640069076,
          "xref": "x",
          "yref": "y"
         },
         {
          "fillcolor": "rgba(0, 204, 150,1)",
          "line": {
           "color": "White",
           "width": 1
          },
          "type": "rect",
          "x0": 16,
          "x1": 22,
          "y0": 2.0,
          "y1": 2.4632356987848123,
          "xref": "x",
          "yref": "y"
         },
         {
          "fillcolor": "rgba(0, 204, 150,1)",
          "line": {
           "color": "White",
           "width": 1
          },
          "type": "rect",
          "x0": 17,
          "x1": 23,
          "y0": 0.0,
          "y1": 0.4632356987848125,
          "xref": "x",
          "yref": "y"
         },
         {
          "fillcolor": "rgba(0, 204, 150,1)",
          "line": {
           "color": "White",
           "width": 1
          },
          "type": "rect",
          "x0": 17,
          "x1": 20,
          "y0": 1.0,
          "y1": 1.4970996683472595,
          "xref": "x",
          "yref": "y"
         },
         {
          "fillcolor": "rgba(0, 204, 150,1)",
          "line": {
           "color": "White",
           "width": 1
          },
          "type": "rect",
          "x0": 20,
          "x1": 21,
          "y0": 1.0,
          "y1": 1.5304267374662344,
          "xref": "x",
          "yref": "y"
         },
         {
          "fillcolor": "rgba(0, 204, 150,1)",
          "line": {
           "color": "White",
           "width": 1
          },
          "type": "rect",
          "x0": 22,
          "x1": 23,
          "y0": 1.0,
          "y1": 1.4282345985284675,
          "xref": "x",
          "yref": "y"
         },
         {
          "fillcolor": "rgba(0, 204, 150,1)",
          "line": {
           "color": "White",
           "width": 1
          },
          "type": "rect",
          "x0": 23,
          "x1": 24,
          "y0": 0.0,
          "y1": 0.4970996683472595,
          "xref": "x",
          "yref": "y"
         },
         {
          "fillcolor": "rgba(0, 204, 150,1)",
          "line": {
           "color": "White",
           "width": 1
          },
          "type": "rect",
          "x0": 23,
          "x1": 24,
          "y0": 1.0,
          "y1": 1.4282345985284675,
          "xref": "x",
          "yref": "y"
         },
         {
          "fillcolor": "rgba(0, 204, 150,1)",
          "line": {
           "color": "White",
           "width": 1
          },
          "type": "rect",
          "x0": 23,
          "x1": 24,
          "y0": 2.0,
          "y1": 2.530426737466234,
          "xref": "x",
          "yref": "y"
         }
        ],
        "margin": {
         "l": 0,
         "r": 0,
         "t": 0,
         "b": 0
        },
        "width": 257.0,
        "height": 57.111111111111114,
        "plot_bgcolor": "rgba(0, 0, 0, 0)",
        "paper_bgcolor": "rgba(0, 0, 0, 0)"
       },
       "config": {
        "plotlyServerURL": "https://plot.ly"
       }
      },
      "text/html": [
       "<div>                            <div id=\"5639cfef-c1f0-4f8a-ba74-fd5012f3a976\" class=\"plotly-graph-div\" style=\"height:57.111111111111114px; width:257.0px;\"></div>            <script type=\"text/javascript\">                require([\"plotly\"], function(Plotly) {                    window.PLOTLYENV=window.PLOTLYENV || {};                                    if (document.getElementById(\"5639cfef-c1f0-4f8a-ba74-fd5012f3a976\")) {                    Plotly.newPlot(                        \"5639cfef-c1f0-4f8a-ba74-fd5012f3a976\",                        [{\"fill\":\"toself\",\"mode\":\"lines\",\"name\":\"\",\"opacity\":0,\"text\":\"timestep: 1, budget: 1.1195959505999442, action: 0.8073397667962161\",\"x\":[8,9,9,8,8],\"y\":[0.0,0.0,1.0,1.0,0.0],\"type\":\"scatter\"},{\"fill\":\"toself\",\"mode\":\"lines\",\"name\":\"\",\"opacity\":0,\"text\":\"timestep: 22, budget: 1.742979002222134, action: 0.7377997436459796\",\"x\":[8,9,9,8,8],\"y\":[1.0,1.0,2.0,2.0,1.0],\"type\":\"scatter\"},{\"fill\":\"toself\",\"mode\":\"lines\",\"name\":\"\",\"opacity\":0,\"text\":\"timestep: 28, budget: 2.476104437462143, action: 1.062830673427537\",\"x\":[13,15,15,13,13],\"y\":[0.0,0.0,1.0,1.0,0.0],\"type\":\"scatter\"},{\"fill\":\"toself\",\"mode\":\"lines\",\"name\":\"\",\"opacity\":0,\"text\":\"timestep: 32, budget: 2.825944634742748, action: 0.937169326572463\",\"x\":[7,9,9,7,7],\"y\":[2.0,2.0,3.0,3.0,2.0],\"type\":\"scatter\"},{\"fill\":\"toself\",\"mode\":\"lines\",\"name\":\"\",\"opacity\":0,\"text\":\"timestep: 49, budget: 0.970211005867882, action: 0.937169326572463\",\"x\":[7,8,8,7,7],\"y\":[0.0,0.0,1.0,1.0,0.0],\"type\":\"scatter\"},{\"fill\":\"toself\",\"mode\":\"lines\",\"name\":\"\",\"opacity\":0,\"text\":\"timestep: 56, budget: 1.3496936884569708, action: 1.0\",\"x\":[11,12,12,11,11],\"y\":[0.0,0.0,1.0,1.0,0.0],\"type\":\"scatter\"},{\"fill\":\"toself\",\"mode\":\"lines\",\"name\":\"\",\"opacity\":0,\"text\":\"timestep: 101, budget: 0.630497750222799, action: 0.5791893832135429\",\"x\":[7,8,8,7,7],\"y\":[1.0,1.0,2.0,2.0,1.0],\"type\":\"scatter\"},{\"fill\":\"toself\",\"mode\":\"lines\",\"name\":\"\",\"opacity\":0,\"text\":\"timestep: 102, budget: 2.4073516070067678, action: 1.1266735515678998\",\"x\":[14,16,16,14,14],\"y\":[1.0,1.0,2.0,2.0,1.0],\"type\":\"scatter\"},{\"fill\":\"toself\",\"mode\":\"lines\",\"name\":\"\",\"opacity\":0,\"text\":\"timestep: 105, budget: 1.5648395922470189, action: 1.518216694746895\",\"x\":[15,16,16,15,15],\"y\":[0.0,0.0,1.0,1.0,0.0],\"type\":\"scatter\"},{\"fill\":\"toself\",\"mode\":\"lines\",\"name\":\"\",\"opacity\":0,\"text\":\"timestep: 123, budget: 4.838348285211584, action: 0.8733264484321002\",\"x\":[9,13,13,9,9],\"y\":[1.0,1.0,2.0,2.0,1.0],\"type\":\"scatter\"},{\"fill\":\"toself\",\"mode\":\"lines\",\"name\":\"\",\"opacity\":0,\"text\":\"timestep: 169, budget: 4.430406329196159, action: 0.8733264484321002\",\"x\":[9,13,13,9,9],\"y\":[2.0,2.0,3.0,3.0,2.0],\"type\":\"scatter\"},{\"fill\":\"toself\",\"mode\":\"lines\",\"name\":\"\",\"opacity\":0,\"text\":\"timestep: 195, budget: 1.7724783359234406, action: 1.1266735515678998\",\"x\":[10,11,11,10,10],\"y\":[0.0,0.0,1.0,1.0,0.0],\"type\":\"scatter\"},{\"fill\":\"toself\",\"mode\":\"lines\",\"name\":\"\",\"opacity\":0,\"text\":\"timestep: 216, budget: 1.4600598912616003, action: 1.1266735515678998\",\"x\":[12,13,13,12,12],\"y\":[0.0,0.0,1.0,1.0,0.0],\"type\":\"scatter\"},{\"fill\":\"toself\",\"mode\":\"lines\",\"name\":\"\",\"opacity\":0,\"text\":\"timestep: 220, budget: 1.478226516330889, action: 1.1266735515678998\",\"x\":[13,14,14,13,13],\"y\":[1.0,1.0,2.0,2.0,1.0],\"type\":\"scatter\"},{\"fill\":\"toself\",\"mode\":\"lines\",\"name\":\"\",\"opacity\":0,\"text\":\"timestep: 269, budget: 1.885274495733084, action: 1.518216694746895\",\"x\":[16,17,17,16,16],\"y\":[0.0,0.0,1.0,1.0,0.0],\"type\":\"scatter\"},{\"fill\":\"toself\",\"mode\":\"lines\",\"name\":\"\",\"opacity\":0,\"text\":\"timestep: 289, budget: 3.004007820978236, action: 0.8733264484321002\",\"x\":[13,16,16,13,13],\"y\":[2.0,2.0,3.0,3.0,2.0],\"type\":\"scatter\"},{\"fill\":\"toself\",\"mode\":\"lines\",\"name\":\"\",\"opacity\":0,\"text\":\"timestep: 318, budget: 1.413955154548848, action: 1.2622002563540202\",\"x\":[16,17,17,16,16],\"y\":[1.0,1.0,2.0,2.0,1.0],\"type\":\"scatter\"},{\"fill\":\"toself\",\"mode\":\"lines\",\"name\":\"\",\"opacity\":0,\"text\":\"timestep: 326, budget: 6.216570416937723, action: 0.8733264484321002\",\"x\":[16,22,22,16,16],\"y\":[2.0,2.0,3.0,3.0,2.0],\"type\":\"scatter\"},{\"fill\":\"toself\",\"mode\":\"lines\",\"name\":\"\",\"opacity\":0,\"text\":\"timestep: 328, budget: 5.935700998699732, action: 0.8733264484321002\",\"x\":[17,23,23,17,17],\"y\":[0.0,0.0,1.0,1.0,0.0],\"type\":\"scatter\"},{\"fill\":\"toself\",\"mode\":\"lines\",\"name\":\"\",\"opacity\":0,\"text\":\"timestep: 406, budget: 3.396411988572347, action: 0.937169326572463\",\"x\":[17,20,20,17,17],\"y\":[1.0,1.0,2.0,2.0,1.0],\"type\":\"scatter\"},{\"fill\":\"toself\",\"mode\":\"lines\",\"name\":\"\",\"opacity\":0,\"text\":\"timestep: 466, budget: 1.5148666038064684, action: 1.0\",\"x\":[20,21,21,20,20],\"y\":[1.0,1.0,2.0,2.0,1.0],\"type\":\"scatter\"},{\"fill\":\"toself\",\"mode\":\"lines\",\"name\":\"\",\"opacity\":0,\"text\":\"timestep: 550, budget: 1.3443277588507163, action: 0.8073397667962161\",\"x\":[22,23,23,22,22],\"y\":[1.0,1.0,2.0,2.0,1.0],\"type\":\"scatter\"},{\"fill\":\"toself\",\"mode\":\"lines\",\"name\":\"\",\"opacity\":0,\"text\":\"timestep: 560, budget: 1.1784389116773375, action: 0.937169326572463\",\"x\":[23,24,24,23,23],\"y\":[0.0,0.0,1.0,1.0,0.0],\"type\":\"scatter\"},{\"fill\":\"toself\",\"mode\":\"lines\",\"name\":\"\",\"opacity\":0,\"text\":\"timestep: 570, budget: 1.3496696011969804, action: 0.8073397667962161\",\"x\":[23,24,24,23,23],\"y\":[1.0,1.0,2.0,2.0,1.0],\"type\":\"scatter\"},{\"fill\":\"toself\",\"mode\":\"lines\",\"name\":\"\",\"opacity\":0,\"text\":\"timestep: 574, budget: 1.160007534543492, action: 1.0\",\"x\":[23,24,24,23,23],\"y\":[2.0,2.0,3.0,3.0,2.0],\"type\":\"scatter\"}],                        {\"template\":{\"data\":{\"histogram2dcontour\":[{\"type\":\"histogram2dcontour\",\"colorbar\":{\"outlinewidth\":0,\"ticks\":\"\"},\"colorscale\":[[0.0,\"#0d0887\"],[0.1111111111111111,\"#46039f\"],[0.2222222222222222,\"#7201a8\"],[0.3333333333333333,\"#9c179e\"],[0.4444444444444444,\"#bd3786\"],[0.5555555555555556,\"#d8576b\"],[0.6666666666666666,\"#ed7953\"],[0.7777777777777778,\"#fb9f3a\"],[0.8888888888888888,\"#fdca26\"],[1.0,\"#f0f921\"]]}],\"choropleth\":[{\"type\":\"choropleth\",\"colorbar\":{\"outlinewidth\":0,\"ticks\":\"\"}}],\"histogram2d\":[{\"type\":\"histogram2d\",\"colorbar\":{\"outlinewidth\":0,\"ticks\":\"\"},\"colorscale\":[[0.0,\"#0d0887\"],[0.1111111111111111,\"#46039f\"],[0.2222222222222222,\"#7201a8\"],[0.3333333333333333,\"#9c179e\"],[0.4444444444444444,\"#bd3786\"],[0.5555555555555556,\"#d8576b\"],[0.6666666666666666,\"#ed7953\"],[0.7777777777777778,\"#fb9f3a\"],[0.8888888888888888,\"#fdca26\"],[1.0,\"#f0f921\"]]}],\"heatmap\":[{\"type\":\"heatmap\",\"colorbar\":{\"outlinewidth\":0,\"ticks\":\"\"},\"colorscale\":[[0.0,\"#0d0887\"],[0.1111111111111111,\"#46039f\"],[0.2222222222222222,\"#7201a8\"],[0.3333333333333333,\"#9c179e\"],[0.4444444444444444,\"#bd3786\"],[0.5555555555555556,\"#d8576b\"],[0.6666666666666666,\"#ed7953\"],[0.7777777777777778,\"#fb9f3a\"],[0.8888888888888888,\"#fdca26\"],[1.0,\"#f0f921\"]]}],\"heatmapgl\":[{\"type\":\"heatmapgl\",\"colorbar\":{\"outlinewidth\":0,\"ticks\":\"\"},\"colorscale\":[[0.0,\"#0d0887\"],[0.1111111111111111,\"#46039f\"],[0.2222222222222222,\"#7201a8\"],[0.3333333333333333,\"#9c179e\"],[0.4444444444444444,\"#bd3786\"],[0.5555555555555556,\"#d8576b\"],[0.6666666666666666,\"#ed7953\"],[0.7777777777777778,\"#fb9f3a\"],[0.8888888888888888,\"#fdca26\"],[1.0,\"#f0f921\"]]}],\"contourcarpet\":[{\"type\":\"contourcarpet\",\"colorbar\":{\"outlinewidth\":0,\"ticks\":\"\"}}],\"contour\":[{\"type\":\"contour\",\"colorbar\":{\"outlinewidth\":0,\"ticks\":\"\"},\"colorscale\":[[0.0,\"#0d0887\"],[0.1111111111111111,\"#46039f\"],[0.2222222222222222,\"#7201a8\"],[0.3333333333333333,\"#9c179e\"],[0.4444444444444444,\"#bd3786\"],[0.5555555555555556,\"#d8576b\"],[0.6666666666666666,\"#ed7953\"],[0.7777777777777778,\"#fb9f3a\"],[0.8888888888888888,\"#fdca26\"],[1.0,\"#f0f921\"]]}],\"surface\":[{\"type\":\"surface\",\"colorbar\":{\"outlinewidth\":0,\"ticks\":\"\"},\"colorscale\":[[0.0,\"#0d0887\"],[0.1111111111111111,\"#46039f\"],[0.2222222222222222,\"#7201a8\"],[0.3333333333333333,\"#9c179e\"],[0.4444444444444444,\"#bd3786\"],[0.5555555555555556,\"#d8576b\"],[0.6666666666666666,\"#ed7953\"],[0.7777777777777778,\"#fb9f3a\"],[0.8888888888888888,\"#fdca26\"],[1.0,\"#f0f921\"]]}],\"mesh3d\":[{\"type\":\"mesh3d\",\"colorbar\":{\"outlinewidth\":0,\"ticks\":\"\"}}],\"scatter\":[{\"fillpattern\":{\"fillmode\":\"overlay\",\"size\":10,\"solidity\":0.2},\"type\":\"scatter\"}],\"parcoords\":[{\"type\":\"parcoords\",\"line\":{\"colorbar\":{\"outlinewidth\":0,\"ticks\":\"\"}}}],\"scatterpolargl\":[{\"type\":\"scatterpolargl\",\"marker\":{\"colorbar\":{\"outlinewidth\":0,\"ticks\":\"\"}}}],\"bar\":[{\"error_x\":{\"color\":\"#2a3f5f\"},\"error_y\":{\"color\":\"#2a3f5f\"},\"marker\":{\"line\":{\"color\":\"#E5ECF6\",\"width\":0.5},\"pattern\":{\"fillmode\":\"overlay\",\"size\":10,\"solidity\":0.2}},\"type\":\"bar\"}],\"scattergeo\":[{\"type\":\"scattergeo\",\"marker\":{\"colorbar\":{\"outlinewidth\":0,\"ticks\":\"\"}}}],\"scatterpolar\":[{\"type\":\"scatterpolar\",\"marker\":{\"colorbar\":{\"outlinewidth\":0,\"ticks\":\"\"}}}],\"histogram\":[{\"marker\":{\"pattern\":{\"fillmode\":\"overlay\",\"size\":10,\"solidity\":0.2}},\"type\":\"histogram\"}],\"scattergl\":[{\"type\":\"scattergl\",\"marker\":{\"colorbar\":{\"outlinewidth\":0,\"ticks\":\"\"}}}],\"scatter3d\":[{\"type\":\"scatter3d\",\"line\":{\"colorbar\":{\"outlinewidth\":0,\"ticks\":\"\"}},\"marker\":{\"colorbar\":{\"outlinewidth\":0,\"ticks\":\"\"}}}],\"scattermapbox\":[{\"type\":\"scattermapbox\",\"marker\":{\"colorbar\":{\"outlinewidth\":0,\"ticks\":\"\"}}}],\"scatterternary\":[{\"type\":\"scatterternary\",\"marker\":{\"colorbar\":{\"outlinewidth\":0,\"ticks\":\"\"}}}],\"scattercarpet\":[{\"type\":\"scattercarpet\",\"marker\":{\"colorbar\":{\"outlinewidth\":0,\"ticks\":\"\"}}}],\"carpet\":[{\"aaxis\":{\"endlinecolor\":\"#2a3f5f\",\"gridcolor\":\"white\",\"linecolor\":\"white\",\"minorgridcolor\":\"white\",\"startlinecolor\":\"#2a3f5f\"},\"baxis\":{\"endlinecolor\":\"#2a3f5f\",\"gridcolor\":\"white\",\"linecolor\":\"white\",\"minorgridcolor\":\"white\",\"startlinecolor\":\"#2a3f5f\"},\"type\":\"carpet\"}],\"table\":[{\"cells\":{\"fill\":{\"color\":\"#EBF0F8\"},\"line\":{\"color\":\"white\"}},\"header\":{\"fill\":{\"color\":\"#C8D4E3\"},\"line\":{\"color\":\"white\"}},\"type\":\"table\"}],\"barpolar\":[{\"marker\":{\"line\":{\"color\":\"#E5ECF6\",\"width\":0.5},\"pattern\":{\"fillmode\":\"overlay\",\"size\":10,\"solidity\":0.2}},\"type\":\"barpolar\"}],\"pie\":[{\"automargin\":true,\"type\":\"pie\"}]},\"layout\":{\"autotypenumbers\":\"strict\",\"colorway\":[\"#636efa\",\"#EF553B\",\"#00cc96\",\"#ab63fa\",\"#FFA15A\",\"#19d3f3\",\"#FF6692\",\"#B6E880\",\"#FF97FF\",\"#FECB52\"],\"font\":{\"color\":\"#2a3f5f\"},\"hovermode\":\"closest\",\"hoverlabel\":{\"align\":\"left\"},\"paper_bgcolor\":\"white\",\"plot_bgcolor\":\"#E5ECF6\",\"polar\":{\"bgcolor\":\"#E5ECF6\",\"angularaxis\":{\"gridcolor\":\"white\",\"linecolor\":\"white\",\"ticks\":\"\"},\"radialaxis\":{\"gridcolor\":\"white\",\"linecolor\":\"white\",\"ticks\":\"\"}},\"ternary\":{\"bgcolor\":\"#E5ECF6\",\"aaxis\":{\"gridcolor\":\"white\",\"linecolor\":\"white\",\"ticks\":\"\"},\"baxis\":{\"gridcolor\":\"white\",\"linecolor\":\"white\",\"ticks\":\"\"},\"caxis\":{\"gridcolor\":\"white\",\"linecolor\":\"white\",\"ticks\":\"\"}},\"coloraxis\":{\"colorbar\":{\"outlinewidth\":0,\"ticks\":\"\"}},\"colorscale\":{\"sequential\":[[0.0,\"#0d0887\"],[0.1111111111111111,\"#46039f\"],[0.2222222222222222,\"#7201a8\"],[0.3333333333333333,\"#9c179e\"],[0.4444444444444444,\"#bd3786\"],[0.5555555555555556,\"#d8576b\"],[0.6666666666666666,\"#ed7953\"],[0.7777777777777778,\"#fb9f3a\"],[0.8888888888888888,\"#fdca26\"],[1.0,\"#f0f921\"]],\"sequentialminus\":[[0.0,\"#0d0887\"],[0.1111111111111111,\"#46039f\"],[0.2222222222222222,\"#7201a8\"],[0.3333333333333333,\"#9c179e\"],[0.4444444444444444,\"#bd3786\"],[0.5555555555555556,\"#d8576b\"],[0.6666666666666666,\"#ed7953\"],[0.7777777777777778,\"#fb9f3a\"],[0.8888888888888888,\"#fdca26\"],[1.0,\"#f0f921\"]],\"diverging\":[[0,\"#8e0152\"],[0.1,\"#c51b7d\"],[0.2,\"#de77ae\"],[0.3,\"#f1b6da\"],[0.4,\"#fde0ef\"],[0.5,\"#f7f7f7\"],[0.6,\"#e6f5d0\"],[0.7,\"#b8e186\"],[0.8,\"#7fbc41\"],[0.9,\"#4d9221\"],[1,\"#276419\"]]},\"xaxis\":{\"gridcolor\":\"white\",\"linecolor\":\"white\",\"ticks\":\"\",\"title\":{\"standoff\":15},\"zerolinecolor\":\"white\",\"automargin\":true,\"zerolinewidth\":2},\"yaxis\":{\"gridcolor\":\"white\",\"linecolor\":\"white\",\"ticks\":\"\",\"title\":{\"standoff\":15},\"zerolinecolor\":\"white\",\"automargin\":true,\"zerolinewidth\":2},\"scene\":{\"xaxis\":{\"backgroundcolor\":\"#E5ECF6\",\"gridcolor\":\"white\",\"linecolor\":\"white\",\"showbackground\":true,\"ticks\":\"\",\"zerolinecolor\":\"white\",\"gridwidth\":2},\"yaxis\":{\"backgroundcolor\":\"#E5ECF6\",\"gridcolor\":\"white\",\"linecolor\":\"white\",\"showbackground\":true,\"ticks\":\"\",\"zerolinecolor\":\"white\",\"gridwidth\":2},\"zaxis\":{\"backgroundcolor\":\"#E5ECF6\",\"gridcolor\":\"white\",\"linecolor\":\"white\",\"showbackground\":true,\"ticks\":\"\",\"zerolinecolor\":\"white\",\"gridwidth\":2}},\"shapedefaults\":{\"line\":{\"color\":\"#2a3f5f\"}},\"annotationdefaults\":{\"arrowcolor\":\"#2a3f5f\",\"arrowhead\":0,\"arrowwidth\":1},\"geo\":{\"bgcolor\":\"white\",\"landcolor\":\"#E5ECF6\",\"subunitcolor\":\"white\",\"showland\":true,\"showlakes\":true,\"lakecolor\":\"white\"},\"title\":{\"x\":0.05},\"mapbox\":{\"style\":\"light\"}}},\"xaxis\":{\"showticklabels\":true,\"dtick\":2,\"range\":[6,24]},\"yaxis\":{\"range\":[0,3],\"showticklabels\":false},\"shapes\":[{\"fillcolor\":\"rgba(0, 204, 150,0.5)\",\"line\":{\"color\":\"White\",\"width\":1},\"type\":\"rect\",\"x0\":8,\"x1\":9,\"xref\":\"x\",\"y0\":0.0,\"y1\":1.0,\"yref\":\"y\"},{\"fillcolor\":\"rgba(0, 204, 150,0.5)\",\"line\":{\"color\":\"White\",\"width\":1},\"type\":\"rect\",\"x0\":8,\"x1\":9,\"xref\":\"x\",\"y0\":1.0,\"y1\":2.0,\"yref\":\"y\"},{\"fillcolor\":\"rgba(0, 204, 150,0.5)\",\"line\":{\"color\":\"White\",\"width\":1},\"type\":\"rect\",\"x0\":13,\"x1\":15,\"xref\":\"x\",\"y0\":0.0,\"y1\":1.0,\"yref\":\"y\"},{\"fillcolor\":\"rgba(0, 204, 150,0.5)\",\"line\":{\"color\":\"White\",\"width\":1},\"type\":\"rect\",\"x0\":7,\"x1\":9,\"xref\":\"x\",\"y0\":2.0,\"y1\":3.0,\"yref\":\"y\"},{\"fillcolor\":\"rgba(0, 204, 150,0.5)\",\"line\":{\"color\":\"White\",\"width\":1},\"type\":\"rect\",\"x0\":7,\"x1\":8,\"xref\":\"x\",\"y0\":0.0,\"y1\":1.0,\"yref\":\"y\"},{\"fillcolor\":\"rgba(0, 204, 150,0.5)\",\"line\":{\"color\":\"White\",\"width\":1},\"type\":\"rect\",\"x0\":11,\"x1\":12,\"xref\":\"x\",\"y0\":0.0,\"y1\":1.0,\"yref\":\"y\"},{\"fillcolor\":\"rgba(0, 204, 150,0.5)\",\"line\":{\"color\":\"White\",\"width\":1},\"type\":\"rect\",\"x0\":7,\"x1\":8,\"xref\":\"x\",\"y0\":1.0,\"y1\":2.0,\"yref\":\"y\"},{\"fillcolor\":\"rgba(0, 204, 150,0.5)\",\"line\":{\"color\":\"White\",\"width\":1},\"type\":\"rect\",\"x0\":14,\"x1\":16,\"xref\":\"x\",\"y0\":1.0,\"y1\":2.0,\"yref\":\"y\"},{\"fillcolor\":\"rgba(0, 204, 150,0.5)\",\"line\":{\"color\":\"White\",\"width\":1},\"type\":\"rect\",\"x0\":15,\"x1\":16,\"xref\":\"x\",\"y0\":0.0,\"y1\":1.0,\"yref\":\"y\"},{\"fillcolor\":\"rgba(0, 204, 150,0.5)\",\"line\":{\"color\":\"White\",\"width\":1},\"type\":\"rect\",\"x0\":9,\"x1\":13,\"xref\":\"x\",\"y0\":1.0,\"y1\":2.0,\"yref\":\"y\"},{\"fillcolor\":\"rgba(0, 204, 150,0.5)\",\"line\":{\"color\":\"White\",\"width\":1},\"type\":\"rect\",\"x0\":9,\"x1\":13,\"xref\":\"x\",\"y0\":2.0,\"y1\":3.0,\"yref\":\"y\"},{\"fillcolor\":\"rgba(0, 204, 150,0.5)\",\"line\":{\"color\":\"White\",\"width\":1},\"type\":\"rect\",\"x0\":10,\"x1\":11,\"xref\":\"x\",\"y0\":0.0,\"y1\":1.0,\"yref\":\"y\"},{\"fillcolor\":\"rgba(0, 204, 150,0.5)\",\"line\":{\"color\":\"White\",\"width\":1},\"type\":\"rect\",\"x0\":12,\"x1\":13,\"xref\":\"x\",\"y0\":0.0,\"y1\":1.0,\"yref\":\"y\"},{\"fillcolor\":\"rgba(0, 204, 150,0.5)\",\"line\":{\"color\":\"White\",\"width\":1},\"type\":\"rect\",\"x0\":13,\"x1\":14,\"xref\":\"x\",\"y0\":1.0,\"y1\":2.0,\"yref\":\"y\"},{\"fillcolor\":\"rgba(0, 204, 150,0.5)\",\"line\":{\"color\":\"White\",\"width\":1},\"type\":\"rect\",\"x0\":16,\"x1\":17,\"xref\":\"x\",\"y0\":0.0,\"y1\":1.0,\"yref\":\"y\"},{\"fillcolor\":\"rgba(0, 204, 150,0.5)\",\"line\":{\"color\":\"White\",\"width\":1},\"type\":\"rect\",\"x0\":13,\"x1\":16,\"xref\":\"x\",\"y0\":2.0,\"y1\":3.0,\"yref\":\"y\"},{\"fillcolor\":\"rgba(0, 204, 150,0.5)\",\"line\":{\"color\":\"White\",\"width\":1},\"type\":\"rect\",\"x0\":16,\"x1\":17,\"xref\":\"x\",\"y0\":1.0,\"y1\":2.0,\"yref\":\"y\"},{\"fillcolor\":\"rgba(0, 204, 150,0.5)\",\"line\":{\"color\":\"White\",\"width\":1},\"type\":\"rect\",\"x0\":16,\"x1\":22,\"xref\":\"x\",\"y0\":2.0,\"y1\":3.0,\"yref\":\"y\"},{\"fillcolor\":\"rgba(0, 204, 150,0.5)\",\"line\":{\"color\":\"White\",\"width\":1},\"type\":\"rect\",\"x0\":17,\"x1\":23,\"xref\":\"x\",\"y0\":0.0,\"y1\":1.0,\"yref\":\"y\"},{\"fillcolor\":\"rgba(0, 204, 150,0.5)\",\"line\":{\"color\":\"White\",\"width\":1},\"type\":\"rect\",\"x0\":17,\"x1\":20,\"xref\":\"x\",\"y0\":1.0,\"y1\":2.0,\"yref\":\"y\"},{\"fillcolor\":\"rgba(0, 204, 150,0.5)\",\"line\":{\"color\":\"White\",\"width\":1},\"type\":\"rect\",\"x0\":20,\"x1\":21,\"xref\":\"x\",\"y0\":1.0,\"y1\":2.0,\"yref\":\"y\"},{\"fillcolor\":\"rgba(0, 204, 150,0.5)\",\"line\":{\"color\":\"White\",\"width\":1},\"type\":\"rect\",\"x0\":22,\"x1\":23,\"xref\":\"x\",\"y0\":1.0,\"y1\":2.0,\"yref\":\"y\"},{\"fillcolor\":\"rgba(0, 204, 150,0.5)\",\"line\":{\"color\":\"White\",\"width\":1},\"type\":\"rect\",\"x0\":23,\"x1\":24,\"xref\":\"x\",\"y0\":0.0,\"y1\":1.0,\"yref\":\"y\"},{\"fillcolor\":\"rgba(0, 204, 150,0.5)\",\"line\":{\"color\":\"White\",\"width\":1},\"type\":\"rect\",\"x0\":23,\"x1\":24,\"xref\":\"x\",\"y0\":1.0,\"y1\":2.0,\"yref\":\"y\"},{\"fillcolor\":\"rgba(0, 204, 150,0.5)\",\"line\":{\"color\":\"White\",\"width\":1},\"type\":\"rect\",\"x0\":23,\"x1\":24,\"xref\":\"x\",\"y0\":2.0,\"y1\":3.0,\"yref\":\"y\"},{\"fillcolor\":\"rgba(0, 204, 150,1)\",\"line\":{\"color\":\"White\",\"width\":1},\"type\":\"rect\",\"x0\":8,\"x1\":9,\"y0\":0.0,\"y1\":0.4282345985284674,\"xref\":\"x\",\"yref\":\"y\"},{\"fillcolor\":\"rgba(0, 204, 150,1)\",\"line\":{\"color\":\"White\",\"width\":1},\"type\":\"rect\",\"x0\":8,\"x1\":9,\"y0\":1.0,\"y1\":1.3913487109255611,\"xref\":\"x\",\"yref\":\"y\"},{\"fillcolor\":\"rgba(0, 204, 150,1)\",\"line\":{\"color\":\"White\",\"width\":1},\"type\":\"rect\",\"x0\":13,\"x1\":15,\"y0\":0.0,\"y1\":0.5637538065852092,\"xref\":\"x\",\"yref\":\"y\"},{\"fillcolor\":\"rgba(0, 204, 150,1)\",\"line\":{\"color\":\"White\",\"width\":1},\"type\":\"rect\",\"x0\":7,\"x1\":9,\"y0\":2.0,\"y1\":2.4970996683472597,\"xref\":\"x\",\"yref\":\"y\"},{\"fillcolor\":\"rgba(0, 204, 150,1)\",\"line\":{\"color\":\"White\",\"width\":1},\"type\":\"rect\",\"x0\":7,\"x1\":8,\"y0\":0.0,\"y1\":0.4970996683472595,\"xref\":\"x\",\"yref\":\"y\"},{\"fillcolor\":\"rgba(0, 204, 150,1)\",\"line\":{\"color\":\"White\",\"width\":1},\"type\":\"rect\",\"x0\":11,\"x1\":12,\"y0\":0.0,\"y1\":0.5304267374662344,\"xref\":\"x\",\"yref\":\"y\"},{\"fillcolor\":\"rgba(0, 204, 150,1)\",\"line\":{\"color\":\"White\",\"width\":1},\"type\":\"rect\",\"x0\":7,\"x1\":8,\"y0\":1.0,\"y1\":1.3072175349130402,\"xref\":\"x\",\"yref\":\"y\"},{\"fillcolor\":\"rgba(0, 204, 150,1)\",\"line\":{\"color\":\"White\",\"width\":1},\"type\":\"rect\",\"x0\":14,\"x1\":16,\"y0\":1.0,\"y1\":1.5976177761476564,\"xref\":\"x\",\"yref\":\"y\"},{\"fillcolor\":\"rgba(0, 204, 150,1)\",\"line\":{\"color\":\"White\",\"width\":1},\"type\":\"rect\",\"x0\":15,\"x1\":16,\"y0\":0.0,\"y1\":0.8053027281613654,\"xref\":\"x\",\"yref\":\"y\"},{\"fillcolor\":\"rgba(0, 204, 150,1)\",\"line\":{\"color\":\"White\",\"width\":1},\"type\":\"rect\",\"x0\":9,\"x1\":13,\"y0\":1.0,\"y1\":1.4632356987848125,\"xref\":\"x\",\"yref\":\"y\"},{\"fillcolor\":\"rgba(0, 204, 150,1)\",\"line\":{\"color\":\"White\",\"width\":1},\"type\":\"rect\",\"x0\":9,\"x1\":13,\"y0\":2.0,\"y1\":2.4632356987848123,\"xref\":\"x\",\"yref\":\"y\"},{\"fillcolor\":\"rgba(0, 204, 150,1)\",\"line\":{\"color\":\"White\",\"width\":1},\"type\":\"rect\",\"x0\":10,\"x1\":11,\"y0\":0.0,\"y1\":0.5976177761476563,\"xref\":\"x\",\"yref\":\"y\"},{\"fillcolor\":\"rgba(0, 204, 150,1)\",\"line\":{\"color\":\"White\",\"width\":1},\"type\":\"rect\",\"x0\":12,\"x1\":13,\"y0\":0.0,\"y1\":0.5976177761476563,\"xref\":\"x\",\"yref\":\"y\"},{\"fillcolor\":\"rgba(0, 204, 150,1)\",\"line\":{\"color\":\"White\",\"width\":1},\"type\":\"rect\",\"x0\":13,\"x1\":14,\"y0\":1.0,\"y1\":1.5976177761476564,\"xref\":\"x\",\"yref\":\"y\"},{\"fillcolor\":\"rgba(0, 204, 150,1)\",\"line\":{\"color\":\"White\",\"width\":1},\"type\":\"rect\",\"x0\":16,\"x1\":17,\"y0\":0.0,\"y1\":0.8053027281613654,\"xref\":\"x\",\"yref\":\"y\"},{\"fillcolor\":\"rgba(0, 204, 150,1)\",\"line\":{\"color\":\"White\",\"width\":1},\"type\":\"rect\",\"x0\":13,\"x1\":16,\"y0\":2.0,\"y1\":2.4632356987848123,\"xref\":\"x\",\"yref\":\"y\"},{\"fillcolor\":\"rgba(0, 204, 150,1)\",\"line\":{\"color\":\"White\",\"width\":1},\"type\":\"rect\",\"x0\":16,\"x1\":17,\"y0\":1.0,\"y1\":1.6695047640069076,\"xref\":\"x\",\"yref\":\"y\"},{\"fillcolor\":\"rgba(0, 204, 150,1)\",\"line\":{\"color\":\"White\",\"width\":1},\"type\":\"rect\",\"x0\":16,\"x1\":22,\"y0\":2.0,\"y1\":2.4632356987848123,\"xref\":\"x\",\"yref\":\"y\"},{\"fillcolor\":\"rgba(0, 204, 150,1)\",\"line\":{\"color\":\"White\",\"width\":1},\"type\":\"rect\",\"x0\":17,\"x1\":23,\"y0\":0.0,\"y1\":0.4632356987848125,\"xref\":\"x\",\"yref\":\"y\"},{\"fillcolor\":\"rgba(0, 204, 150,1)\",\"line\":{\"color\":\"White\",\"width\":1},\"type\":\"rect\",\"x0\":17,\"x1\":20,\"y0\":1.0,\"y1\":1.4970996683472595,\"xref\":\"x\",\"yref\":\"y\"},{\"fillcolor\":\"rgba(0, 204, 150,1)\",\"line\":{\"color\":\"White\",\"width\":1},\"type\":\"rect\",\"x0\":20,\"x1\":21,\"y0\":1.0,\"y1\":1.5304267374662344,\"xref\":\"x\",\"yref\":\"y\"},{\"fillcolor\":\"rgba(0, 204, 150,1)\",\"line\":{\"color\":\"White\",\"width\":1},\"type\":\"rect\",\"x0\":22,\"x1\":23,\"y0\":1.0,\"y1\":1.4282345985284675,\"xref\":\"x\",\"yref\":\"y\"},{\"fillcolor\":\"rgba(0, 204, 150,1)\",\"line\":{\"color\":\"White\",\"width\":1},\"type\":\"rect\",\"x0\":23,\"x1\":24,\"y0\":0.0,\"y1\":0.4970996683472595,\"xref\":\"x\",\"yref\":\"y\"},{\"fillcolor\":\"rgba(0, 204, 150,1)\",\"line\":{\"color\":\"White\",\"width\":1},\"type\":\"rect\",\"x0\":23,\"x1\":24,\"y0\":1.0,\"y1\":1.4282345985284675,\"xref\":\"x\",\"yref\":\"y\"},{\"fillcolor\":\"rgba(0, 204, 150,1)\",\"line\":{\"color\":\"White\",\"width\":1},\"type\":\"rect\",\"x0\":23,\"x1\":24,\"y0\":2.0,\"y1\":2.530426737466234,\"xref\":\"x\",\"yref\":\"y\"}],\"margin\":{\"l\":0,\"r\":0,\"t\":0,\"b\":0},\"width\":257.0,\"height\":57.111111111111114,\"plot_bgcolor\":\"rgba(0, 0, 0, 0)\",\"paper_bgcolor\":\"rgba(0, 0, 0, 0)\"},                        {\"responsive\": true}                    ).then(function(){\n",
       "                            \n",
       "var gd = document.getElementById('5639cfef-c1f0-4f8a-ba74-fd5012f3a976');\n",
       "var x = new MutationObserver(function (mutations, observer) {{\n",
       "        var display = window.getComputedStyle(gd).display;\n",
       "        if (!display || display === 'none') {{\n",
       "            console.log([gd, 'removed!']);\n",
       "            Plotly.purge(gd);\n",
       "            observer.disconnect();\n",
       "        }}\n",
       "}});\n",
       "\n",
       "// Listen for the removal of the full notebook cells\n",
       "var notebookContainer = gd.closest('#notebook-container');\n",
       "if (notebookContainer) {{\n",
       "    x.observe(notebookContainer, {childList: true});\n",
       "}}\n",
       "\n",
       "// Listen for the clearing of the current output cell\n",
       "var outputEl = gd.closest('.output');\n",
       "if (outputEl) {{\n",
       "    x.observe(outputEl, {childList: true});\n",
       "}}\n",
       "\n",
       "                        })                };                });            </script>        </div>"
      ]
     },
     "metadata": {},
     "output_type": "display_data"
    }
   ],
   "execution_count": 64
  },
  {
   "metadata": {
    "ExecuteTime": {
     "end_time": "2024-09-24T13:32:39.477889Z",
     "start_time": "2024-09-24T13:32:37.151334Z"
    }
   },
   "cell_type": "code",
   "source": [
    "sh = prepare_simhistory(df, tdf, 7, \"Oracle\", 72)\n",
    "alloc = sold_unsold_allocation_from_simhistory(sh)\n",
    "fig = plot_simhistory_sold_unsold(alloc[alloc.sold])\n",
    "fig = add_revenue_boxes(fig, alloc)\n",
    "fig.update_layout(\n",
    "    width=img_width,  \n",
    "    height=img_height/3,\n",
    "    xaxis=dict(showticklabels=True, dtick=2, range=[6,24]),\n",
    "    yaxis=dict(showticklabels=False),\n",
    "    margin=dict(l=0, r=0, t=0, b=0)    \n",
    ")\n",
    "# save\n",
    "fig.write_image(FIGROOT/\"trace_analysis\"/\"trace_analysis-sold_oracle.pdf\")\n",
    "fig.show()"
   ],
   "id": "b3557471fb2aeab0",
   "outputs": [
    {
     "data": {
      "application/vnd.plotly.v1+json": {
       "data": [
        {
         "fill": "toself",
         "mode": "lines",
         "name": "",
         "opacity": 0,
         "text": "timestep: 22, budget: 1.742979002222134, action: 1.6407757827723002",
         "x": [
          8,
          9,
          9,
          8,
          8
         ],
         "y": [
          0.0,
          0.0,
          1.0,
          1.0,
          0.0
         ],
         "type": "scatter"
        },
        {
         "fill": "toself",
         "mode": "lines",
         "name": "",
         "opacity": 0,
         "text": "timestep: 28, budget: 2.476104437462143, action: 1.192660233203784",
         "x": [
          13,
          15,
          15,
          13,
          13
         ],
         "y": [
          0.0,
          0.0,
          1.0,
          1.0,
          0.0
         ],
         "type": "scatter"
        },
        {
         "fill": "toself",
         "mode": "lines",
         "name": "",
         "opacity": 0,
         "text": "timestep: 32, budget: 2.825944634742748, action: 1.3372448750980408",
         "x": [
          7,
          9,
          9,
          7,
          7
         ],
         "y": [
          1.0,
          1.0,
          2.0,
          2.0,
          1.0
         ],
         "type": "scatter"
        },
        {
         "fill": "toself",
         "mode": "lines",
         "name": "",
         "opacity": 0,
         "text": "timestep: 105, budget: 1.5648395922470189, action: 1.518216694746895",
         "x": [
          15,
          16,
          16,
          15,
          15
         ],
         "y": [
          0.0,
          0.0,
          1.0,
          1.0,
          0.0
         ],
         "type": "scatter"
        },
        {
         "fill": "toself",
         "mode": "lines",
         "name": "",
         "opacity": 0,
         "text": "timestep: 123, budget: 4.838348285211584, action: 1.192660233203784",
         "x": [
          9,
          13,
          13,
          9,
          9
         ],
         "y": [
          0.0,
          0.0,
          1.0,
          1.0,
          0.0
         ],
         "type": "scatter"
        },
        {
         "fill": "toself",
         "mode": "lines",
         "name": "",
         "opacity": 0,
         "text": "timestep: 160, budget: 2.0943510362518585, action: 1.0",
         "x": [
          13,
          15,
          15,
          13,
          13
         ],
         "y": [
          1.0,
          1.0,
          2.0,
          2.0,
          1.0
         ],
         "type": "scatter"
        },
        {
         "fill": "toself",
         "mode": "lines",
         "name": "",
         "opacity": 0,
         "text": "timestep: 161, budget: 1.895887066434752, action: 0.937169326572463",
         "x": [
          6,
          8,
          8,
          6,
          6
         ],
         "y": [
          0.0,
          0.0,
          1.0,
          1.0,
          0.0
         ],
         "type": "scatter"
        },
        {
         "fill": "toself",
         "mode": "lines",
         "name": "",
         "opacity": 0,
         "text": "timestep: 169, budget: 4.430406329196159, action: 1.062830673427537",
         "x": [
          9,
          13,
          13,
          9,
          9
         ],
         "y": [
          1.0,
          1.0,
          2.0,
          2.0,
          1.0
         ],
         "type": "scatter"
        },
        {
         "fill": "toself",
         "mode": "lines",
         "name": "",
         "opacity": 0,
         "text": "timestep: 181, budget: 5.012492124970704, action: 1.192660233203784",
         "x": [
          7,
          11,
          11,
          7,
          7
         ],
         "y": [
          2.0,
          2.0,
          3.0,
          3.0,
          2.0
         ],
         "type": "scatter"
        },
        {
         "fill": "toself",
         "mode": "lines",
         "name": "",
         "opacity": 0,
         "text": "timestep: 189, budget: 1.4637720076693976, action: 1.4208106167864571",
         "x": [
          11,
          12,
          12,
          11,
          11
         ],
         "y": [
          2.0,
          2.0,
          3.0,
          3.0,
          2.0
         ],
         "type": "scatter"
        },
        {
         "fill": "toself",
         "mode": "lines",
         "name": "",
         "opacity": 0,
         "text": "timestep: 216, budget: 1.4600598912616003, action: 1.4208106167864571",
         "x": [
          12,
          13,
          13,
          12,
          12
         ],
         "y": [
          2.0,
          2.0,
          3.0,
          3.0,
          2.0
         ],
         "type": "scatter"
        },
        {
         "fill": "toself",
         "mode": "lines",
         "name": "",
         "opacity": 0,
         "text": "timestep: 220, budget: 1.478226516330889, action: 1.4208106167864571",
         "x": [
          13,
          14,
          14,
          13,
          13
         ],
         "y": [
          2.0,
          2.0,
          3.0,
          3.0,
          2.0
         ],
         "type": "scatter"
        },
        {
         "fill": "toself",
         "mode": "lines",
         "name": "",
         "opacity": 0,
         "text": "timestep: 243, budget: 1.3231476262521975, action: 1.2622002563540202",
         "x": [
          14,
          15,
          15,
          14,
          14
         ],
         "y": [
          2.0,
          2.0,
          3.0,
          3.0,
          2.0
         ],
         "type": "scatter"
        },
        {
         "fill": "toself",
         "mode": "lines",
         "name": "",
         "opacity": 0,
         "text": "timestep: 269, budget: 1.885274495733084, action: 1.6407757827723002",
         "x": [
          16,
          17,
          17,
          16,
          16
         ],
         "y": [
          0.0,
          0.0,
          1.0,
          1.0,
          0.0
         ],
         "type": "scatter"
        },
        {
         "fill": "toself",
         "mode": "lines",
         "name": "",
         "opacity": 0,
         "text": "timestep: 318, budget: 1.413955154548848, action: 1.3372448750980408",
         "x": [
          16,
          17,
          17,
          16,
          16
         ],
         "y": [
          1.0,
          1.0,
          2.0,
          2.0,
          1.0
         ],
         "type": "scatter"
        },
        {
         "fill": "toself",
         "mode": "lines",
         "name": "",
         "opacity": 0,
         "text": "timestep: 328, budget: 5.935700998699732, action: 0.937169326572463",
         "x": [
          17,
          23,
          23,
          17,
          17
         ],
         "y": [
          0.0,
          0.0,
          1.0,
          1.0,
          0.0
         ],
         "type": "scatter"
        },
        {
         "fill": "toself",
         "mode": "lines",
         "name": "",
         "opacity": 0,
         "text": "timestep: 338, budget: 1.6696980625019326, action: 1.6407757827723002",
         "x": [
          15,
          16,
          16,
          15,
          15
         ],
         "y": [
          1.0,
          1.0,
          2.0,
          2.0,
          1.0
         ],
         "type": "scatter"
        },
        {
         "fill": "toself",
         "mode": "lines",
         "name": "",
         "opacity": 0,
         "text": "timestep: 360, budget: 1.921382595141696, action: 1.6407757827723002",
         "x": [
          15,
          16,
          16,
          15,
          15
         ],
         "y": [
          2.0,
          2.0,
          3.0,
          3.0,
          2.0
         ],
         "type": "scatter"
        },
        {
         "fill": "toself",
         "mode": "lines",
         "name": "",
         "opacity": 0,
         "text": "timestep: 384, budget: 2.205188468815932, action: 1.062830673427537",
         "x": [
          16,
          18,
          18,
          16,
          16
         ],
         "y": [
          2.0,
          2.0,
          3.0,
          3.0,
          2.0
         ],
         "type": "scatter"
        },
        {
         "fill": "toself",
         "mode": "lines",
         "name": "",
         "opacity": 0,
         "text": "timestep: 406, budget: 3.396411988572347, action: 1.1266735515678998",
         "x": [
          17,
          20,
          20,
          17,
          17
         ],
         "y": [
          1.0,
          1.0,
          2.0,
          2.0,
          1.0
         ],
         "type": "scatter"
        },
        {
         "fill": "toself",
         "mode": "lines",
         "name": "",
         "opacity": 0,
         "text": "timestep: 452, budget: 0.7135735083349068, action: 0.6627551249019591",
         "x": [
          18,
          19,
          19,
          18,
          18
         ],
         "y": [
          2.0,
          2.0,
          3.0,
          3.0,
          2.0
         ],
         "type": "scatter"
        },
        {
         "fill": "toself",
         "mode": "lines",
         "name": "",
         "opacity": 0,
         "text": "timestep: 466, budget: 1.5148666038064684, action: 1.4208106167864571",
         "x": [
          20,
          21,
          21,
          20,
          20
         ],
         "y": [
          1.0,
          1.0,
          2.0,
          2.0,
          1.0
         ],
         "type": "scatter"
        },
        {
         "fill": "toself",
         "mode": "lines",
         "name": "",
         "opacity": 0,
         "text": "timestep: 477, budget: 4.249768196630529, action: 1.0",
         "x": [
          19,
          23,
          23,
          19,
          19
         ],
         "y": [
          2.0,
          2.0,
          3.0,
          3.0,
          2.0
         ],
         "type": "scatter"
        },
        {
         "fill": "toself",
         "mode": "lines",
         "name": "",
         "opacity": 0,
         "text": "timestep: 503, budget: 0.6334208896691593, action: 0.5791893832135429",
         "x": [
          21,
          22,
          22,
          21,
          21
         ],
         "y": [
          1.0,
          1.0,
          2.0,
          2.0,
          1.0
         ],
         "type": "scatter"
        },
        {
         "fill": "toself",
         "mode": "lines",
         "name": "",
         "opacity": 0,
         "text": "timestep: 550, budget: 1.3443277588507163, action: 1.3372448750980408",
         "x": [
          22,
          23,
          23,
          22,
          22
         ],
         "y": [
          1.0,
          1.0,
          2.0,
          2.0,
          1.0
         ],
         "type": "scatter"
        },
        {
         "fill": "toself",
         "mode": "lines",
         "name": "",
         "opacity": 0,
         "text": "timestep: 560, budget: 1.1784389116773375, action: 1.1266735515678998",
         "x": [
          23,
          24,
          24,
          23,
          23
         ],
         "y": [
          0.0,
          0.0,
          1.0,
          1.0,
          0.0
         ],
         "type": "scatter"
        },
        {
         "fill": "toself",
         "mode": "lines",
         "name": "",
         "opacity": 0,
         "text": "timestep: 570, budget: 1.3496696011969804, action: 1.3372448750980408",
         "x": [
          23,
          24,
          24,
          23,
          23
         ],
         "y": [
          1.0,
          1.0,
          2.0,
          2.0,
          1.0
         ],
         "type": "scatter"
        },
        {
         "fill": "toself",
         "mode": "lines",
         "name": "",
         "opacity": 0,
         "text": "timestep: 574, budget: 1.160007534543492, action: 1.1266735515678998",
         "x": [
          23,
          24,
          24,
          23,
          23
         ],
         "y": [
          2.0,
          2.0,
          3.0,
          3.0,
          2.0
         ],
         "type": "scatter"
        }
       ],
       "layout": {
        "template": {
         "data": {
          "histogram2dcontour": [
           {
            "type": "histogram2dcontour",
            "colorbar": {
             "outlinewidth": 0,
             "ticks": ""
            },
            "colorscale": [
             [
              0.0,
              "#0d0887"
             ],
             [
              0.1111111111111111,
              "#46039f"
             ],
             [
              0.2222222222222222,
              "#7201a8"
             ],
             [
              0.3333333333333333,
              "#9c179e"
             ],
             [
              0.4444444444444444,
              "#bd3786"
             ],
             [
              0.5555555555555556,
              "#d8576b"
             ],
             [
              0.6666666666666666,
              "#ed7953"
             ],
             [
              0.7777777777777778,
              "#fb9f3a"
             ],
             [
              0.8888888888888888,
              "#fdca26"
             ],
             [
              1.0,
              "#f0f921"
             ]
            ]
           }
          ],
          "choropleth": [
           {
            "type": "choropleth",
            "colorbar": {
             "outlinewidth": 0,
             "ticks": ""
            }
           }
          ],
          "histogram2d": [
           {
            "type": "histogram2d",
            "colorbar": {
             "outlinewidth": 0,
             "ticks": ""
            },
            "colorscale": [
             [
              0.0,
              "#0d0887"
             ],
             [
              0.1111111111111111,
              "#46039f"
             ],
             [
              0.2222222222222222,
              "#7201a8"
             ],
             [
              0.3333333333333333,
              "#9c179e"
             ],
             [
              0.4444444444444444,
              "#bd3786"
             ],
             [
              0.5555555555555556,
              "#d8576b"
             ],
             [
              0.6666666666666666,
              "#ed7953"
             ],
             [
              0.7777777777777778,
              "#fb9f3a"
             ],
             [
              0.8888888888888888,
              "#fdca26"
             ],
             [
              1.0,
              "#f0f921"
             ]
            ]
           }
          ],
          "heatmap": [
           {
            "type": "heatmap",
            "colorbar": {
             "outlinewidth": 0,
             "ticks": ""
            },
            "colorscale": [
             [
              0.0,
              "#0d0887"
             ],
             [
              0.1111111111111111,
              "#46039f"
             ],
             [
              0.2222222222222222,
              "#7201a8"
             ],
             [
              0.3333333333333333,
              "#9c179e"
             ],
             [
              0.4444444444444444,
              "#bd3786"
             ],
             [
              0.5555555555555556,
              "#d8576b"
             ],
             [
              0.6666666666666666,
              "#ed7953"
             ],
             [
              0.7777777777777778,
              "#fb9f3a"
             ],
             [
              0.8888888888888888,
              "#fdca26"
             ],
             [
              1.0,
              "#f0f921"
             ]
            ]
           }
          ],
          "heatmapgl": [
           {
            "type": "heatmapgl",
            "colorbar": {
             "outlinewidth": 0,
             "ticks": ""
            },
            "colorscale": [
             [
              0.0,
              "#0d0887"
             ],
             [
              0.1111111111111111,
              "#46039f"
             ],
             [
              0.2222222222222222,
              "#7201a8"
             ],
             [
              0.3333333333333333,
              "#9c179e"
             ],
             [
              0.4444444444444444,
              "#bd3786"
             ],
             [
              0.5555555555555556,
              "#d8576b"
             ],
             [
              0.6666666666666666,
              "#ed7953"
             ],
             [
              0.7777777777777778,
              "#fb9f3a"
             ],
             [
              0.8888888888888888,
              "#fdca26"
             ],
             [
              1.0,
              "#f0f921"
             ]
            ]
           }
          ],
          "contourcarpet": [
           {
            "type": "contourcarpet",
            "colorbar": {
             "outlinewidth": 0,
             "ticks": ""
            }
           }
          ],
          "contour": [
           {
            "type": "contour",
            "colorbar": {
             "outlinewidth": 0,
             "ticks": ""
            },
            "colorscale": [
             [
              0.0,
              "#0d0887"
             ],
             [
              0.1111111111111111,
              "#46039f"
             ],
             [
              0.2222222222222222,
              "#7201a8"
             ],
             [
              0.3333333333333333,
              "#9c179e"
             ],
             [
              0.4444444444444444,
              "#bd3786"
             ],
             [
              0.5555555555555556,
              "#d8576b"
             ],
             [
              0.6666666666666666,
              "#ed7953"
             ],
             [
              0.7777777777777778,
              "#fb9f3a"
             ],
             [
              0.8888888888888888,
              "#fdca26"
             ],
             [
              1.0,
              "#f0f921"
             ]
            ]
           }
          ],
          "surface": [
           {
            "type": "surface",
            "colorbar": {
             "outlinewidth": 0,
             "ticks": ""
            },
            "colorscale": [
             [
              0.0,
              "#0d0887"
             ],
             [
              0.1111111111111111,
              "#46039f"
             ],
             [
              0.2222222222222222,
              "#7201a8"
             ],
             [
              0.3333333333333333,
              "#9c179e"
             ],
             [
              0.4444444444444444,
              "#bd3786"
             ],
             [
              0.5555555555555556,
              "#d8576b"
             ],
             [
              0.6666666666666666,
              "#ed7953"
             ],
             [
              0.7777777777777778,
              "#fb9f3a"
             ],
             [
              0.8888888888888888,
              "#fdca26"
             ],
             [
              1.0,
              "#f0f921"
             ]
            ]
           }
          ],
          "mesh3d": [
           {
            "type": "mesh3d",
            "colorbar": {
             "outlinewidth": 0,
             "ticks": ""
            }
           }
          ],
          "scatter": [
           {
            "fillpattern": {
             "fillmode": "overlay",
             "size": 10,
             "solidity": 0.2
            },
            "type": "scatter"
           }
          ],
          "parcoords": [
           {
            "type": "parcoords",
            "line": {
             "colorbar": {
              "outlinewidth": 0,
              "ticks": ""
             }
            }
           }
          ],
          "scatterpolargl": [
           {
            "type": "scatterpolargl",
            "marker": {
             "colorbar": {
              "outlinewidth": 0,
              "ticks": ""
             }
            }
           }
          ],
          "bar": [
           {
            "error_x": {
             "color": "#2a3f5f"
            },
            "error_y": {
             "color": "#2a3f5f"
            },
            "marker": {
             "line": {
              "color": "#E5ECF6",
              "width": 0.5
             },
             "pattern": {
              "fillmode": "overlay",
              "size": 10,
              "solidity": 0.2
             }
            },
            "type": "bar"
           }
          ],
          "scattergeo": [
           {
            "type": "scattergeo",
            "marker": {
             "colorbar": {
              "outlinewidth": 0,
              "ticks": ""
             }
            }
           }
          ],
          "scatterpolar": [
           {
            "type": "scatterpolar",
            "marker": {
             "colorbar": {
              "outlinewidth": 0,
              "ticks": ""
             }
            }
           }
          ],
          "histogram": [
           {
            "marker": {
             "pattern": {
              "fillmode": "overlay",
              "size": 10,
              "solidity": 0.2
             }
            },
            "type": "histogram"
           }
          ],
          "scattergl": [
           {
            "type": "scattergl",
            "marker": {
             "colorbar": {
              "outlinewidth": 0,
              "ticks": ""
             }
            }
           }
          ],
          "scatter3d": [
           {
            "type": "scatter3d",
            "line": {
             "colorbar": {
              "outlinewidth": 0,
              "ticks": ""
             }
            },
            "marker": {
             "colorbar": {
              "outlinewidth": 0,
              "ticks": ""
             }
            }
           }
          ],
          "scattermapbox": [
           {
            "type": "scattermapbox",
            "marker": {
             "colorbar": {
              "outlinewidth": 0,
              "ticks": ""
             }
            }
           }
          ],
          "scatterternary": [
           {
            "type": "scatterternary",
            "marker": {
             "colorbar": {
              "outlinewidth": 0,
              "ticks": ""
             }
            }
           }
          ],
          "scattercarpet": [
           {
            "type": "scattercarpet",
            "marker": {
             "colorbar": {
              "outlinewidth": 0,
              "ticks": ""
             }
            }
           }
          ],
          "carpet": [
           {
            "aaxis": {
             "endlinecolor": "#2a3f5f",
             "gridcolor": "white",
             "linecolor": "white",
             "minorgridcolor": "white",
             "startlinecolor": "#2a3f5f"
            },
            "baxis": {
             "endlinecolor": "#2a3f5f",
             "gridcolor": "white",
             "linecolor": "white",
             "minorgridcolor": "white",
             "startlinecolor": "#2a3f5f"
            },
            "type": "carpet"
           }
          ],
          "table": [
           {
            "cells": {
             "fill": {
              "color": "#EBF0F8"
             },
             "line": {
              "color": "white"
             }
            },
            "header": {
             "fill": {
              "color": "#C8D4E3"
             },
             "line": {
              "color": "white"
             }
            },
            "type": "table"
           }
          ],
          "barpolar": [
           {
            "marker": {
             "line": {
              "color": "#E5ECF6",
              "width": 0.5
             },
             "pattern": {
              "fillmode": "overlay",
              "size": 10,
              "solidity": 0.2
             }
            },
            "type": "barpolar"
           }
          ],
          "pie": [
           {
            "automargin": true,
            "type": "pie"
           }
          ]
         },
         "layout": {
          "autotypenumbers": "strict",
          "colorway": [
           "#636efa",
           "#EF553B",
           "#00cc96",
           "#ab63fa",
           "#FFA15A",
           "#19d3f3",
           "#FF6692",
           "#B6E880",
           "#FF97FF",
           "#FECB52"
          ],
          "font": {
           "color": "#2a3f5f"
          },
          "hovermode": "closest",
          "hoverlabel": {
           "align": "left"
          },
          "paper_bgcolor": "white",
          "plot_bgcolor": "#E5ECF6",
          "polar": {
           "bgcolor": "#E5ECF6",
           "angularaxis": {
            "gridcolor": "white",
            "linecolor": "white",
            "ticks": ""
           },
           "radialaxis": {
            "gridcolor": "white",
            "linecolor": "white",
            "ticks": ""
           }
          },
          "ternary": {
           "bgcolor": "#E5ECF6",
           "aaxis": {
            "gridcolor": "white",
            "linecolor": "white",
            "ticks": ""
           },
           "baxis": {
            "gridcolor": "white",
            "linecolor": "white",
            "ticks": ""
           },
           "caxis": {
            "gridcolor": "white",
            "linecolor": "white",
            "ticks": ""
           }
          },
          "coloraxis": {
           "colorbar": {
            "outlinewidth": 0,
            "ticks": ""
           }
          },
          "colorscale": {
           "sequential": [
            [
             0.0,
             "#0d0887"
            ],
            [
             0.1111111111111111,
             "#46039f"
            ],
            [
             0.2222222222222222,
             "#7201a8"
            ],
            [
             0.3333333333333333,
             "#9c179e"
            ],
            [
             0.4444444444444444,
             "#bd3786"
            ],
            [
             0.5555555555555556,
             "#d8576b"
            ],
            [
             0.6666666666666666,
             "#ed7953"
            ],
            [
             0.7777777777777778,
             "#fb9f3a"
            ],
            [
             0.8888888888888888,
             "#fdca26"
            ],
            [
             1.0,
             "#f0f921"
            ]
           ],
           "sequentialminus": [
            [
             0.0,
             "#0d0887"
            ],
            [
             0.1111111111111111,
             "#46039f"
            ],
            [
             0.2222222222222222,
             "#7201a8"
            ],
            [
             0.3333333333333333,
             "#9c179e"
            ],
            [
             0.4444444444444444,
             "#bd3786"
            ],
            [
             0.5555555555555556,
             "#d8576b"
            ],
            [
             0.6666666666666666,
             "#ed7953"
            ],
            [
             0.7777777777777778,
             "#fb9f3a"
            ],
            [
             0.8888888888888888,
             "#fdca26"
            ],
            [
             1.0,
             "#f0f921"
            ]
           ],
           "diverging": [
            [
             0,
             "#8e0152"
            ],
            [
             0.1,
             "#c51b7d"
            ],
            [
             0.2,
             "#de77ae"
            ],
            [
             0.3,
             "#f1b6da"
            ],
            [
             0.4,
             "#fde0ef"
            ],
            [
             0.5,
             "#f7f7f7"
            ],
            [
             0.6,
             "#e6f5d0"
            ],
            [
             0.7,
             "#b8e186"
            ],
            [
             0.8,
             "#7fbc41"
            ],
            [
             0.9,
             "#4d9221"
            ],
            [
             1,
             "#276419"
            ]
           ]
          },
          "xaxis": {
           "gridcolor": "white",
           "linecolor": "white",
           "ticks": "",
           "title": {
            "standoff": 15
           },
           "zerolinecolor": "white",
           "automargin": true,
           "zerolinewidth": 2
          },
          "yaxis": {
           "gridcolor": "white",
           "linecolor": "white",
           "ticks": "",
           "title": {
            "standoff": 15
           },
           "zerolinecolor": "white",
           "automargin": true,
           "zerolinewidth": 2
          },
          "scene": {
           "xaxis": {
            "backgroundcolor": "#E5ECF6",
            "gridcolor": "white",
            "linecolor": "white",
            "showbackground": true,
            "ticks": "",
            "zerolinecolor": "white",
            "gridwidth": 2
           },
           "yaxis": {
            "backgroundcolor": "#E5ECF6",
            "gridcolor": "white",
            "linecolor": "white",
            "showbackground": true,
            "ticks": "",
            "zerolinecolor": "white",
            "gridwidth": 2
           },
           "zaxis": {
            "backgroundcolor": "#E5ECF6",
            "gridcolor": "white",
            "linecolor": "white",
            "showbackground": true,
            "ticks": "",
            "zerolinecolor": "white",
            "gridwidth": 2
           }
          },
          "shapedefaults": {
           "line": {
            "color": "#2a3f5f"
           }
          },
          "annotationdefaults": {
           "arrowcolor": "#2a3f5f",
           "arrowhead": 0,
           "arrowwidth": 1
          },
          "geo": {
           "bgcolor": "white",
           "landcolor": "#E5ECF6",
           "subunitcolor": "white",
           "showland": true,
           "showlakes": true,
           "lakecolor": "white"
          },
          "title": {
           "x": 0.05
          },
          "mapbox": {
           "style": "light"
          }
         }
        },
        "xaxis": {
         "showticklabels": true,
         "dtick": 2,
         "range": [
          6,
          24
         ]
        },
        "yaxis": {
         "range": [
          0,
          3
         ],
         "showticklabels": false
        },
        "shapes": [
         {
          "fillcolor": "rgba(0, 204, 150,0.5)",
          "line": {
           "color": "White",
           "width": 1
          },
          "type": "rect",
          "x0": 8,
          "x1": 9,
          "xref": "x",
          "y0": 0.0,
          "y1": 1.0,
          "yref": "y"
         },
         {
          "fillcolor": "rgba(0, 204, 150,0.5)",
          "line": {
           "color": "White",
           "width": 1
          },
          "type": "rect",
          "x0": 13,
          "x1": 15,
          "xref": "x",
          "y0": 0.0,
          "y1": 1.0,
          "yref": "y"
         },
         {
          "fillcolor": "rgba(0, 204, 150,0.5)",
          "line": {
           "color": "White",
           "width": 1
          },
          "type": "rect",
          "x0": 7,
          "x1": 9,
          "xref": "x",
          "y0": 1.0,
          "y1": 2.0,
          "yref": "y"
         },
         {
          "fillcolor": "rgba(0, 204, 150,0.5)",
          "line": {
           "color": "White",
           "width": 1
          },
          "type": "rect",
          "x0": 15,
          "x1": 16,
          "xref": "x",
          "y0": 0.0,
          "y1": 1.0,
          "yref": "y"
         },
         {
          "fillcolor": "rgba(0, 204, 150,0.5)",
          "line": {
           "color": "White",
           "width": 1
          },
          "type": "rect",
          "x0": 9,
          "x1": 13,
          "xref": "x",
          "y0": 0.0,
          "y1": 1.0,
          "yref": "y"
         },
         {
          "fillcolor": "rgba(0, 204, 150,0.5)",
          "line": {
           "color": "White",
           "width": 1
          },
          "type": "rect",
          "x0": 13,
          "x1": 15,
          "xref": "x",
          "y0": 1.0,
          "y1": 2.0,
          "yref": "y"
         },
         {
          "fillcolor": "rgba(0, 204, 150,0.5)",
          "line": {
           "color": "White",
           "width": 1
          },
          "type": "rect",
          "x0": 6,
          "x1": 8,
          "xref": "x",
          "y0": 0.0,
          "y1": 1.0,
          "yref": "y"
         },
         {
          "fillcolor": "rgba(0, 204, 150,0.5)",
          "line": {
           "color": "White",
           "width": 1
          },
          "type": "rect",
          "x0": 9,
          "x1": 13,
          "xref": "x",
          "y0": 1.0,
          "y1": 2.0,
          "yref": "y"
         },
         {
          "fillcolor": "rgba(0, 204, 150,0.5)",
          "line": {
           "color": "White",
           "width": 1
          },
          "type": "rect",
          "x0": 7,
          "x1": 11,
          "xref": "x",
          "y0": 2.0,
          "y1": 3.0,
          "yref": "y"
         },
         {
          "fillcolor": "rgba(0, 204, 150,0.5)",
          "line": {
           "color": "White",
           "width": 1
          },
          "type": "rect",
          "x0": 11,
          "x1": 12,
          "xref": "x",
          "y0": 2.0,
          "y1": 3.0,
          "yref": "y"
         },
         {
          "fillcolor": "rgba(0, 204, 150,0.5)",
          "line": {
           "color": "White",
           "width": 1
          },
          "type": "rect",
          "x0": 12,
          "x1": 13,
          "xref": "x",
          "y0": 2.0,
          "y1": 3.0,
          "yref": "y"
         },
         {
          "fillcolor": "rgba(0, 204, 150,0.5)",
          "line": {
           "color": "White",
           "width": 1
          },
          "type": "rect",
          "x0": 13,
          "x1": 14,
          "xref": "x",
          "y0": 2.0,
          "y1": 3.0,
          "yref": "y"
         },
         {
          "fillcolor": "rgba(0, 204, 150,0.5)",
          "line": {
           "color": "White",
           "width": 1
          },
          "type": "rect",
          "x0": 14,
          "x1": 15,
          "xref": "x",
          "y0": 2.0,
          "y1": 3.0,
          "yref": "y"
         },
         {
          "fillcolor": "rgba(0, 204, 150,0.5)",
          "line": {
           "color": "White",
           "width": 1
          },
          "type": "rect",
          "x0": 16,
          "x1": 17,
          "xref": "x",
          "y0": 0.0,
          "y1": 1.0,
          "yref": "y"
         },
         {
          "fillcolor": "rgba(0, 204, 150,0.5)",
          "line": {
           "color": "White",
           "width": 1
          },
          "type": "rect",
          "x0": 16,
          "x1": 17,
          "xref": "x",
          "y0": 1.0,
          "y1": 2.0,
          "yref": "y"
         },
         {
          "fillcolor": "rgba(0, 204, 150,0.5)",
          "line": {
           "color": "White",
           "width": 1
          },
          "type": "rect",
          "x0": 17,
          "x1": 23,
          "xref": "x",
          "y0": 0.0,
          "y1": 1.0,
          "yref": "y"
         },
         {
          "fillcolor": "rgba(0, 204, 150,0.5)",
          "line": {
           "color": "White",
           "width": 1
          },
          "type": "rect",
          "x0": 15,
          "x1": 16,
          "xref": "x",
          "y0": 1.0,
          "y1": 2.0,
          "yref": "y"
         },
         {
          "fillcolor": "rgba(0, 204, 150,0.5)",
          "line": {
           "color": "White",
           "width": 1
          },
          "type": "rect",
          "x0": 15,
          "x1": 16,
          "xref": "x",
          "y0": 2.0,
          "y1": 3.0,
          "yref": "y"
         },
         {
          "fillcolor": "rgba(0, 204, 150,0.5)",
          "line": {
           "color": "White",
           "width": 1
          },
          "type": "rect",
          "x0": 16,
          "x1": 18,
          "xref": "x",
          "y0": 2.0,
          "y1": 3.0,
          "yref": "y"
         },
         {
          "fillcolor": "rgba(0, 204, 150,0.5)",
          "line": {
           "color": "White",
           "width": 1
          },
          "type": "rect",
          "x0": 17,
          "x1": 20,
          "xref": "x",
          "y0": 1.0,
          "y1": 2.0,
          "yref": "y"
         },
         {
          "fillcolor": "rgba(0, 204, 150,0.5)",
          "line": {
           "color": "White",
           "width": 1
          },
          "type": "rect",
          "x0": 18,
          "x1": 19,
          "xref": "x",
          "y0": 2.0,
          "y1": 3.0,
          "yref": "y"
         },
         {
          "fillcolor": "rgba(0, 204, 150,0.5)",
          "line": {
           "color": "White",
           "width": 1
          },
          "type": "rect",
          "x0": 20,
          "x1": 21,
          "xref": "x",
          "y0": 1.0,
          "y1": 2.0,
          "yref": "y"
         },
         {
          "fillcolor": "rgba(0, 204, 150,0.5)",
          "line": {
           "color": "White",
           "width": 1
          },
          "type": "rect",
          "x0": 19,
          "x1": 23,
          "xref": "x",
          "y0": 2.0,
          "y1": 3.0,
          "yref": "y"
         },
         {
          "fillcolor": "rgba(0, 204, 150,0.5)",
          "line": {
           "color": "White",
           "width": 1
          },
          "type": "rect",
          "x0": 21,
          "x1": 22,
          "xref": "x",
          "y0": 1.0,
          "y1": 2.0,
          "yref": "y"
         },
         {
          "fillcolor": "rgba(0, 204, 150,0.5)",
          "line": {
           "color": "White",
           "width": 1
          },
          "type": "rect",
          "x0": 22,
          "x1": 23,
          "xref": "x",
          "y0": 1.0,
          "y1": 2.0,
          "yref": "y"
         },
         {
          "fillcolor": "rgba(0, 204, 150,0.5)",
          "line": {
           "color": "White",
           "width": 1
          },
          "type": "rect",
          "x0": 23,
          "x1": 24,
          "xref": "x",
          "y0": 0.0,
          "y1": 1.0,
          "yref": "y"
         },
         {
          "fillcolor": "rgba(0, 204, 150,0.5)",
          "line": {
           "color": "White",
           "width": 1
          },
          "type": "rect",
          "x0": 23,
          "x1": 24,
          "xref": "x",
          "y0": 1.0,
          "y1": 2.0,
          "yref": "y"
         },
         {
          "fillcolor": "rgba(0, 204, 150,0.5)",
          "line": {
           "color": "White",
           "width": 1
          },
          "type": "rect",
          "x0": 23,
          "x1": 24,
          "xref": "x",
          "y0": 2.0,
          "y1": 3.0,
          "yref": "y"
         },
         {
          "fillcolor": "rgba(0, 204, 150,1)",
          "line": {
           "color": "White",
           "width": 1
          },
          "type": "rect",
          "x0": 8,
          "x1": 9,
          "y0": 0.0,
          "y1": 0.8539557852356303,
          "xref": "x",
          "yref": "y"
         },
         {
          "fillcolor": "rgba(0, 204, 150,1)",
          "line": {
           "color": "White",
           "width": 1
          },
          "type": "rect",
          "x0": 13,
          "x1": 15,
          "y0": 0.0,
          "y1": 0.6207302159494313,
          "xref": "x",
          "yref": "y"
         },
         {
          "fillcolor": "rgba(0, 204, 150,1)",
          "line": {
           "color": "White",
           "width": 1
          },
          "type": "rect",
          "x0": 7,
          "x1": 9,
          "y0": 1.0,
          "y1": 1.6959805290624188,
          "xref": "x",
          "yref": "y"
         },
         {
          "fillcolor": "rgba(0, 204, 150,1)",
          "line": {
           "color": "White",
           "width": 1
          },
          "type": "rect",
          "x0": 15,
          "x1": 16,
          "y0": 0.0,
          "y1": 0.7901688599583317,
          "xref": "x",
          "yref": "y"
         },
         {
          "fillcolor": "rgba(0, 204, 150,1)",
          "line": {
           "color": "White",
           "width": 1
          },
          "type": "rect",
          "x0": 9,
          "x1": 13,
          "y0": 0.0,
          "y1": 0.6207302159494313,
          "xref": "x",
          "yref": "y"
         },
         {
          "fillcolor": "rgba(0, 204, 150,1)",
          "line": {
           "color": "White",
           "width": 1
          },
          "type": "rect",
          "x0": 13,
          "x1": 15,
          "y0": 1.0,
          "y1": 1.5204585502796506,
          "xref": "x",
          "yref": "y"
         },
         {
          "fillcolor": "rgba(0, 204, 150,1)",
          "line": {
           "color": "White",
           "width": 1
          },
          "type": "rect",
          "x0": 6,
          "x1": 8,
          "y0": 0.0,
          "y1": 0.48775778907446055,
          "xref": "x",
          "yref": "y"
         },
         {
          "fillcolor": "rgba(0, 204, 150,1)",
          "line": {
           "color": "White",
           "width": 1
          },
          "type": "rect",
          "x0": 9,
          "x1": 13,
          "y0": 1.0,
          "y1": 1.5531593114848405,
          "xref": "x",
          "yref": "y"
         },
         {
          "fillcolor": "rgba(0, 204, 150,1)",
          "line": {
           "color": "White",
           "width": 1
          },
          "type": "rect",
          "x0": 7,
          "x1": 11,
          "y0": 2.0,
          "y1": 2.6207302159494312,
          "xref": "x",
          "yref": "y"
         },
         {
          "fillcolor": "rgba(0, 204, 150,1)",
          "line": {
           "color": "White",
           "width": 1
          },
          "type": "rect",
          "x0": 11,
          "x1": 12,
          "y0": 2.0,
          "y1": 2.739473033834616,
          "xref": "x",
          "yref": "y"
         },
         {
          "fillcolor": "rgba(0, 204, 150,1)",
          "line": {
           "color": "White",
           "width": 1
          },
          "type": "rect",
          "x0": 12,
          "x1": 13,
          "y0": 2.0,
          "y1": 2.739473033834616,
          "xref": "x",
          "yref": "y"
         },
         {
          "fillcolor": "rgba(0, 204, 150,1)",
          "line": {
           "color": "White",
           "width": 1
          },
          "type": "rect",
          "x0": 13,
          "x1": 14,
          "y0": 2.0,
          "y1": 2.739473033834616,
          "xref": "x",
          "yref": "y"
         },
         {
          "fillcolor": "rgba(0, 204, 150,1)",
          "line": {
           "color": "White",
           "width": 1
          },
          "type": "rect",
          "x0": 14,
          "x1": 15,
          "y0": 2.0,
          "y1": 2.656922915584617,
          "xref": "x",
          "yref": "y"
         },
         {
          "fillcolor": "rgba(0, 204, 150,1)",
          "line": {
           "color": "White",
           "width": 1
          },
          "type": "rect",
          "x0": 16,
          "x1": 17,
          "y0": 0.0,
          "y1": 0.8539557852356303,
          "xref": "x",
          "yref": "y"
         },
         {
          "fillcolor": "rgba(0, 204, 150,1)",
          "line": {
           "color": "White",
           "width": 1
          },
          "type": "rect",
          "x0": 16,
          "x1": 17,
          "y0": 1.0,
          "y1": 1.6959805290624188,
          "xref": "x",
          "yref": "y"
         },
         {
          "fillcolor": "rgba(0, 204, 150,1)",
          "line": {
           "color": "White",
           "width": 1
          },
          "type": "rect",
          "x0": 17,
          "x1": 23,
          "y0": 0.0,
          "y1": 0.4877577890744605,
          "xref": "x",
          "yref": "y"
         },
         {
          "fillcolor": "rgba(0, 204, 150,1)",
          "line": {
           "color": "White",
           "width": 1
          },
          "type": "rect",
          "x0": 15,
          "x1": 16,
          "y0": 1.0,
          "y1": 1.8539557852356303,
          "xref": "x",
          "yref": "y"
         },
         {
          "fillcolor": "rgba(0, 204, 150,1)",
          "line": {
           "color": "White",
           "width": 1
          },
          "type": "rect",
          "x0": 15,
          "x1": 16,
          "y0": 2.0,
          "y1": 2.8539557852356303,
          "xref": "x",
          "yref": "y"
         },
         {
          "fillcolor": "rgba(0, 204, 150,1)",
          "line": {
           "color": "White",
           "width": 1
          },
          "type": "rect",
          "x0": 16,
          "x1": 18,
          "y0": 2.0,
          "y1": 2.5531593114848405,
          "xref": "x",
          "yref": "y"
         },
         {
          "fillcolor": "rgba(0, 204, 150,1)",
          "line": {
           "color": "White",
           "width": 1
          },
          "type": "rect",
          "x0": 17,
          "x1": 20,
          "y0": 1.0,
          "y1": 1.5863868832874544,
          "xref": "x",
          "yref": "y"
         },
         {
          "fillcolor": "rgba(0, 204, 150,1)",
          "line": {
           "color": "White",
           "width": 1
          },
          "type": "rect",
          "x0": 18,
          "x1": 19,
          "y0": 2.0,
          "y1": 2.3449365714968824,
          "xref": "x",
          "yref": "y"
         },
         {
          "fillcolor": "rgba(0, 204, 150,1)",
          "line": {
           "color": "White",
           "width": 1
          },
          "type": "rect",
          "x0": 20,
          "x1": 21,
          "y0": 1.0,
          "y1": 1.7394730338346158,
          "xref": "x",
          "yref": "y"
         },
         {
          "fillcolor": "rgba(0, 204, 150,1)",
          "line": {
           "color": "White",
           "width": 1
          },
          "type": "rect",
          "x0": 19,
          "x1": 23,
          "y0": 2.0,
          "y1": 2.520458550279651,
          "xref": "x",
          "yref": "y"
         },
         {
          "fillcolor": "rgba(0, 204, 150,1)",
          "line": {
           "color": "White",
           "width": 1
          },
          "type": "rect",
          "x0": 21,
          "x1": 22,
          "y0": 1.0,
          "y1": 1.3014440667246856,
          "xref": "x",
          "yref": "y"
         },
         {
          "fillcolor": "rgba(0, 204, 150,1)",
          "line": {
           "color": "White",
           "width": 1
          },
          "type": "rect",
          "x0": 22,
          "x1": 23,
          "y0": 1.0,
          "y1": 1.6959805290624188,
          "xref": "x",
          "yref": "y"
         },
         {
          "fillcolor": "rgba(0, 204, 150,1)",
          "line": {
           "color": "White",
           "width": 1
          },
          "type": "rect",
          "x0": 23,
          "x1": 24,
          "y0": 0.0,
          "y1": 0.5863868832874544,
          "xref": "x",
          "yref": "y"
         },
         {
          "fillcolor": "rgba(0, 204, 150,1)",
          "line": {
           "color": "White",
           "width": 1
          },
          "type": "rect",
          "x0": 23,
          "x1": 24,
          "y0": 1.0,
          "y1": 1.6959805290624188,
          "xref": "x",
          "yref": "y"
         },
         {
          "fillcolor": "rgba(0, 204, 150,1)",
          "line": {
           "color": "White",
           "width": 1
          },
          "type": "rect",
          "x0": 23,
          "x1": 24,
          "y0": 2.0,
          "y1": 2.5863868832874544,
          "xref": "x",
          "yref": "y"
         }
        ],
        "margin": {
         "l": 0,
         "r": 0,
         "t": 0,
         "b": 0
        },
        "width": 257.0,
        "height": 57.111111111111114,
        "plot_bgcolor": "rgba(0, 0, 0, 0)",
        "paper_bgcolor": "rgba(0, 0, 0, 0)"
       },
       "config": {
        "plotlyServerURL": "https://plot.ly"
       }
      },
      "text/html": [
       "<div>                            <div id=\"dc8f0ba4-a525-4d1a-aa08-b781d4586d36\" class=\"plotly-graph-div\" style=\"height:57.111111111111114px; width:257.0px;\"></div>            <script type=\"text/javascript\">                require([\"plotly\"], function(Plotly) {                    window.PLOTLYENV=window.PLOTLYENV || {};                                    if (document.getElementById(\"dc8f0ba4-a525-4d1a-aa08-b781d4586d36\")) {                    Plotly.newPlot(                        \"dc8f0ba4-a525-4d1a-aa08-b781d4586d36\",                        [{\"fill\":\"toself\",\"mode\":\"lines\",\"name\":\"\",\"opacity\":0,\"text\":\"timestep: 22, budget: 1.742979002222134, action: 1.6407757827723002\",\"x\":[8,9,9,8,8],\"y\":[0.0,0.0,1.0,1.0,0.0],\"type\":\"scatter\"},{\"fill\":\"toself\",\"mode\":\"lines\",\"name\":\"\",\"opacity\":0,\"text\":\"timestep: 28, budget: 2.476104437462143, action: 1.192660233203784\",\"x\":[13,15,15,13,13],\"y\":[0.0,0.0,1.0,1.0,0.0],\"type\":\"scatter\"},{\"fill\":\"toself\",\"mode\":\"lines\",\"name\":\"\",\"opacity\":0,\"text\":\"timestep: 32, budget: 2.825944634742748, action: 1.3372448750980408\",\"x\":[7,9,9,7,7],\"y\":[1.0,1.0,2.0,2.0,1.0],\"type\":\"scatter\"},{\"fill\":\"toself\",\"mode\":\"lines\",\"name\":\"\",\"opacity\":0,\"text\":\"timestep: 105, budget: 1.5648395922470189, action: 1.518216694746895\",\"x\":[15,16,16,15,15],\"y\":[0.0,0.0,1.0,1.0,0.0],\"type\":\"scatter\"},{\"fill\":\"toself\",\"mode\":\"lines\",\"name\":\"\",\"opacity\":0,\"text\":\"timestep: 123, budget: 4.838348285211584, action: 1.192660233203784\",\"x\":[9,13,13,9,9],\"y\":[0.0,0.0,1.0,1.0,0.0],\"type\":\"scatter\"},{\"fill\":\"toself\",\"mode\":\"lines\",\"name\":\"\",\"opacity\":0,\"text\":\"timestep: 160, budget: 2.0943510362518585, action: 1.0\",\"x\":[13,15,15,13,13],\"y\":[1.0,1.0,2.0,2.0,1.0],\"type\":\"scatter\"},{\"fill\":\"toself\",\"mode\":\"lines\",\"name\":\"\",\"opacity\":0,\"text\":\"timestep: 161, budget: 1.895887066434752, action: 0.937169326572463\",\"x\":[6,8,8,6,6],\"y\":[0.0,0.0,1.0,1.0,0.0],\"type\":\"scatter\"},{\"fill\":\"toself\",\"mode\":\"lines\",\"name\":\"\",\"opacity\":0,\"text\":\"timestep: 169, budget: 4.430406329196159, action: 1.062830673427537\",\"x\":[9,13,13,9,9],\"y\":[1.0,1.0,2.0,2.0,1.0],\"type\":\"scatter\"},{\"fill\":\"toself\",\"mode\":\"lines\",\"name\":\"\",\"opacity\":0,\"text\":\"timestep: 181, budget: 5.012492124970704, action: 1.192660233203784\",\"x\":[7,11,11,7,7],\"y\":[2.0,2.0,3.0,3.0,2.0],\"type\":\"scatter\"},{\"fill\":\"toself\",\"mode\":\"lines\",\"name\":\"\",\"opacity\":0,\"text\":\"timestep: 189, budget: 1.4637720076693976, action: 1.4208106167864571\",\"x\":[11,12,12,11,11],\"y\":[2.0,2.0,3.0,3.0,2.0],\"type\":\"scatter\"},{\"fill\":\"toself\",\"mode\":\"lines\",\"name\":\"\",\"opacity\":0,\"text\":\"timestep: 216, budget: 1.4600598912616003, action: 1.4208106167864571\",\"x\":[12,13,13,12,12],\"y\":[2.0,2.0,3.0,3.0,2.0],\"type\":\"scatter\"},{\"fill\":\"toself\",\"mode\":\"lines\",\"name\":\"\",\"opacity\":0,\"text\":\"timestep: 220, budget: 1.478226516330889, action: 1.4208106167864571\",\"x\":[13,14,14,13,13],\"y\":[2.0,2.0,3.0,3.0,2.0],\"type\":\"scatter\"},{\"fill\":\"toself\",\"mode\":\"lines\",\"name\":\"\",\"opacity\":0,\"text\":\"timestep: 243, budget: 1.3231476262521975, action: 1.2622002563540202\",\"x\":[14,15,15,14,14],\"y\":[2.0,2.0,3.0,3.0,2.0],\"type\":\"scatter\"},{\"fill\":\"toself\",\"mode\":\"lines\",\"name\":\"\",\"opacity\":0,\"text\":\"timestep: 269, budget: 1.885274495733084, action: 1.6407757827723002\",\"x\":[16,17,17,16,16],\"y\":[0.0,0.0,1.0,1.0,0.0],\"type\":\"scatter\"},{\"fill\":\"toself\",\"mode\":\"lines\",\"name\":\"\",\"opacity\":0,\"text\":\"timestep: 318, budget: 1.413955154548848, action: 1.3372448750980408\",\"x\":[16,17,17,16,16],\"y\":[1.0,1.0,2.0,2.0,1.0],\"type\":\"scatter\"},{\"fill\":\"toself\",\"mode\":\"lines\",\"name\":\"\",\"opacity\":0,\"text\":\"timestep: 328, budget: 5.935700998699732, action: 0.937169326572463\",\"x\":[17,23,23,17,17],\"y\":[0.0,0.0,1.0,1.0,0.0],\"type\":\"scatter\"},{\"fill\":\"toself\",\"mode\":\"lines\",\"name\":\"\",\"opacity\":0,\"text\":\"timestep: 338, budget: 1.6696980625019326, action: 1.6407757827723002\",\"x\":[15,16,16,15,15],\"y\":[1.0,1.0,2.0,2.0,1.0],\"type\":\"scatter\"},{\"fill\":\"toself\",\"mode\":\"lines\",\"name\":\"\",\"opacity\":0,\"text\":\"timestep: 360, budget: 1.921382595141696, action: 1.6407757827723002\",\"x\":[15,16,16,15,15],\"y\":[2.0,2.0,3.0,3.0,2.0],\"type\":\"scatter\"},{\"fill\":\"toself\",\"mode\":\"lines\",\"name\":\"\",\"opacity\":0,\"text\":\"timestep: 384, budget: 2.205188468815932, action: 1.062830673427537\",\"x\":[16,18,18,16,16],\"y\":[2.0,2.0,3.0,3.0,2.0],\"type\":\"scatter\"},{\"fill\":\"toself\",\"mode\":\"lines\",\"name\":\"\",\"opacity\":0,\"text\":\"timestep: 406, budget: 3.396411988572347, action: 1.1266735515678998\",\"x\":[17,20,20,17,17],\"y\":[1.0,1.0,2.0,2.0,1.0],\"type\":\"scatter\"},{\"fill\":\"toself\",\"mode\":\"lines\",\"name\":\"\",\"opacity\":0,\"text\":\"timestep: 452, budget: 0.7135735083349068, action: 0.6627551249019591\",\"x\":[18,19,19,18,18],\"y\":[2.0,2.0,3.0,3.0,2.0],\"type\":\"scatter\"},{\"fill\":\"toself\",\"mode\":\"lines\",\"name\":\"\",\"opacity\":0,\"text\":\"timestep: 466, budget: 1.5148666038064684, action: 1.4208106167864571\",\"x\":[20,21,21,20,20],\"y\":[1.0,1.0,2.0,2.0,1.0],\"type\":\"scatter\"},{\"fill\":\"toself\",\"mode\":\"lines\",\"name\":\"\",\"opacity\":0,\"text\":\"timestep: 477, budget: 4.249768196630529, action: 1.0\",\"x\":[19,23,23,19,19],\"y\":[2.0,2.0,3.0,3.0,2.0],\"type\":\"scatter\"},{\"fill\":\"toself\",\"mode\":\"lines\",\"name\":\"\",\"opacity\":0,\"text\":\"timestep: 503, budget: 0.6334208896691593, action: 0.5791893832135429\",\"x\":[21,22,22,21,21],\"y\":[1.0,1.0,2.0,2.0,1.0],\"type\":\"scatter\"},{\"fill\":\"toself\",\"mode\":\"lines\",\"name\":\"\",\"opacity\":0,\"text\":\"timestep: 550, budget: 1.3443277588507163, action: 1.3372448750980408\",\"x\":[22,23,23,22,22],\"y\":[1.0,1.0,2.0,2.0,1.0],\"type\":\"scatter\"},{\"fill\":\"toself\",\"mode\":\"lines\",\"name\":\"\",\"opacity\":0,\"text\":\"timestep: 560, budget: 1.1784389116773375, action: 1.1266735515678998\",\"x\":[23,24,24,23,23],\"y\":[0.0,0.0,1.0,1.0,0.0],\"type\":\"scatter\"},{\"fill\":\"toself\",\"mode\":\"lines\",\"name\":\"\",\"opacity\":0,\"text\":\"timestep: 570, budget: 1.3496696011969804, action: 1.3372448750980408\",\"x\":[23,24,24,23,23],\"y\":[1.0,1.0,2.0,2.0,1.0],\"type\":\"scatter\"},{\"fill\":\"toself\",\"mode\":\"lines\",\"name\":\"\",\"opacity\":0,\"text\":\"timestep: 574, budget: 1.160007534543492, action: 1.1266735515678998\",\"x\":[23,24,24,23,23],\"y\":[2.0,2.0,3.0,3.0,2.0],\"type\":\"scatter\"}],                        {\"template\":{\"data\":{\"histogram2dcontour\":[{\"type\":\"histogram2dcontour\",\"colorbar\":{\"outlinewidth\":0,\"ticks\":\"\"},\"colorscale\":[[0.0,\"#0d0887\"],[0.1111111111111111,\"#46039f\"],[0.2222222222222222,\"#7201a8\"],[0.3333333333333333,\"#9c179e\"],[0.4444444444444444,\"#bd3786\"],[0.5555555555555556,\"#d8576b\"],[0.6666666666666666,\"#ed7953\"],[0.7777777777777778,\"#fb9f3a\"],[0.8888888888888888,\"#fdca26\"],[1.0,\"#f0f921\"]]}],\"choropleth\":[{\"type\":\"choropleth\",\"colorbar\":{\"outlinewidth\":0,\"ticks\":\"\"}}],\"histogram2d\":[{\"type\":\"histogram2d\",\"colorbar\":{\"outlinewidth\":0,\"ticks\":\"\"},\"colorscale\":[[0.0,\"#0d0887\"],[0.1111111111111111,\"#46039f\"],[0.2222222222222222,\"#7201a8\"],[0.3333333333333333,\"#9c179e\"],[0.4444444444444444,\"#bd3786\"],[0.5555555555555556,\"#d8576b\"],[0.6666666666666666,\"#ed7953\"],[0.7777777777777778,\"#fb9f3a\"],[0.8888888888888888,\"#fdca26\"],[1.0,\"#f0f921\"]]}],\"heatmap\":[{\"type\":\"heatmap\",\"colorbar\":{\"outlinewidth\":0,\"ticks\":\"\"},\"colorscale\":[[0.0,\"#0d0887\"],[0.1111111111111111,\"#46039f\"],[0.2222222222222222,\"#7201a8\"],[0.3333333333333333,\"#9c179e\"],[0.4444444444444444,\"#bd3786\"],[0.5555555555555556,\"#d8576b\"],[0.6666666666666666,\"#ed7953\"],[0.7777777777777778,\"#fb9f3a\"],[0.8888888888888888,\"#fdca26\"],[1.0,\"#f0f921\"]]}],\"heatmapgl\":[{\"type\":\"heatmapgl\",\"colorbar\":{\"outlinewidth\":0,\"ticks\":\"\"},\"colorscale\":[[0.0,\"#0d0887\"],[0.1111111111111111,\"#46039f\"],[0.2222222222222222,\"#7201a8\"],[0.3333333333333333,\"#9c179e\"],[0.4444444444444444,\"#bd3786\"],[0.5555555555555556,\"#d8576b\"],[0.6666666666666666,\"#ed7953\"],[0.7777777777777778,\"#fb9f3a\"],[0.8888888888888888,\"#fdca26\"],[1.0,\"#f0f921\"]]}],\"contourcarpet\":[{\"type\":\"contourcarpet\",\"colorbar\":{\"outlinewidth\":0,\"ticks\":\"\"}}],\"contour\":[{\"type\":\"contour\",\"colorbar\":{\"outlinewidth\":0,\"ticks\":\"\"},\"colorscale\":[[0.0,\"#0d0887\"],[0.1111111111111111,\"#46039f\"],[0.2222222222222222,\"#7201a8\"],[0.3333333333333333,\"#9c179e\"],[0.4444444444444444,\"#bd3786\"],[0.5555555555555556,\"#d8576b\"],[0.6666666666666666,\"#ed7953\"],[0.7777777777777778,\"#fb9f3a\"],[0.8888888888888888,\"#fdca26\"],[1.0,\"#f0f921\"]]}],\"surface\":[{\"type\":\"surface\",\"colorbar\":{\"outlinewidth\":0,\"ticks\":\"\"},\"colorscale\":[[0.0,\"#0d0887\"],[0.1111111111111111,\"#46039f\"],[0.2222222222222222,\"#7201a8\"],[0.3333333333333333,\"#9c179e\"],[0.4444444444444444,\"#bd3786\"],[0.5555555555555556,\"#d8576b\"],[0.6666666666666666,\"#ed7953\"],[0.7777777777777778,\"#fb9f3a\"],[0.8888888888888888,\"#fdca26\"],[1.0,\"#f0f921\"]]}],\"mesh3d\":[{\"type\":\"mesh3d\",\"colorbar\":{\"outlinewidth\":0,\"ticks\":\"\"}}],\"scatter\":[{\"fillpattern\":{\"fillmode\":\"overlay\",\"size\":10,\"solidity\":0.2},\"type\":\"scatter\"}],\"parcoords\":[{\"type\":\"parcoords\",\"line\":{\"colorbar\":{\"outlinewidth\":0,\"ticks\":\"\"}}}],\"scatterpolargl\":[{\"type\":\"scatterpolargl\",\"marker\":{\"colorbar\":{\"outlinewidth\":0,\"ticks\":\"\"}}}],\"bar\":[{\"error_x\":{\"color\":\"#2a3f5f\"},\"error_y\":{\"color\":\"#2a3f5f\"},\"marker\":{\"line\":{\"color\":\"#E5ECF6\",\"width\":0.5},\"pattern\":{\"fillmode\":\"overlay\",\"size\":10,\"solidity\":0.2}},\"type\":\"bar\"}],\"scattergeo\":[{\"type\":\"scattergeo\",\"marker\":{\"colorbar\":{\"outlinewidth\":0,\"ticks\":\"\"}}}],\"scatterpolar\":[{\"type\":\"scatterpolar\",\"marker\":{\"colorbar\":{\"outlinewidth\":0,\"ticks\":\"\"}}}],\"histogram\":[{\"marker\":{\"pattern\":{\"fillmode\":\"overlay\",\"size\":10,\"solidity\":0.2}},\"type\":\"histogram\"}],\"scattergl\":[{\"type\":\"scattergl\",\"marker\":{\"colorbar\":{\"outlinewidth\":0,\"ticks\":\"\"}}}],\"scatter3d\":[{\"type\":\"scatter3d\",\"line\":{\"colorbar\":{\"outlinewidth\":0,\"ticks\":\"\"}},\"marker\":{\"colorbar\":{\"outlinewidth\":0,\"ticks\":\"\"}}}],\"scattermapbox\":[{\"type\":\"scattermapbox\",\"marker\":{\"colorbar\":{\"outlinewidth\":0,\"ticks\":\"\"}}}],\"scatterternary\":[{\"type\":\"scatterternary\",\"marker\":{\"colorbar\":{\"outlinewidth\":0,\"ticks\":\"\"}}}],\"scattercarpet\":[{\"type\":\"scattercarpet\",\"marker\":{\"colorbar\":{\"outlinewidth\":0,\"ticks\":\"\"}}}],\"carpet\":[{\"aaxis\":{\"endlinecolor\":\"#2a3f5f\",\"gridcolor\":\"white\",\"linecolor\":\"white\",\"minorgridcolor\":\"white\",\"startlinecolor\":\"#2a3f5f\"},\"baxis\":{\"endlinecolor\":\"#2a3f5f\",\"gridcolor\":\"white\",\"linecolor\":\"white\",\"minorgridcolor\":\"white\",\"startlinecolor\":\"#2a3f5f\"},\"type\":\"carpet\"}],\"table\":[{\"cells\":{\"fill\":{\"color\":\"#EBF0F8\"},\"line\":{\"color\":\"white\"}},\"header\":{\"fill\":{\"color\":\"#C8D4E3\"},\"line\":{\"color\":\"white\"}},\"type\":\"table\"}],\"barpolar\":[{\"marker\":{\"line\":{\"color\":\"#E5ECF6\",\"width\":0.5},\"pattern\":{\"fillmode\":\"overlay\",\"size\":10,\"solidity\":0.2}},\"type\":\"barpolar\"}],\"pie\":[{\"automargin\":true,\"type\":\"pie\"}]},\"layout\":{\"autotypenumbers\":\"strict\",\"colorway\":[\"#636efa\",\"#EF553B\",\"#00cc96\",\"#ab63fa\",\"#FFA15A\",\"#19d3f3\",\"#FF6692\",\"#B6E880\",\"#FF97FF\",\"#FECB52\"],\"font\":{\"color\":\"#2a3f5f\"},\"hovermode\":\"closest\",\"hoverlabel\":{\"align\":\"left\"},\"paper_bgcolor\":\"white\",\"plot_bgcolor\":\"#E5ECF6\",\"polar\":{\"bgcolor\":\"#E5ECF6\",\"angularaxis\":{\"gridcolor\":\"white\",\"linecolor\":\"white\",\"ticks\":\"\"},\"radialaxis\":{\"gridcolor\":\"white\",\"linecolor\":\"white\",\"ticks\":\"\"}},\"ternary\":{\"bgcolor\":\"#E5ECF6\",\"aaxis\":{\"gridcolor\":\"white\",\"linecolor\":\"white\",\"ticks\":\"\"},\"baxis\":{\"gridcolor\":\"white\",\"linecolor\":\"white\",\"ticks\":\"\"},\"caxis\":{\"gridcolor\":\"white\",\"linecolor\":\"white\",\"ticks\":\"\"}},\"coloraxis\":{\"colorbar\":{\"outlinewidth\":0,\"ticks\":\"\"}},\"colorscale\":{\"sequential\":[[0.0,\"#0d0887\"],[0.1111111111111111,\"#46039f\"],[0.2222222222222222,\"#7201a8\"],[0.3333333333333333,\"#9c179e\"],[0.4444444444444444,\"#bd3786\"],[0.5555555555555556,\"#d8576b\"],[0.6666666666666666,\"#ed7953\"],[0.7777777777777778,\"#fb9f3a\"],[0.8888888888888888,\"#fdca26\"],[1.0,\"#f0f921\"]],\"sequentialminus\":[[0.0,\"#0d0887\"],[0.1111111111111111,\"#46039f\"],[0.2222222222222222,\"#7201a8\"],[0.3333333333333333,\"#9c179e\"],[0.4444444444444444,\"#bd3786\"],[0.5555555555555556,\"#d8576b\"],[0.6666666666666666,\"#ed7953\"],[0.7777777777777778,\"#fb9f3a\"],[0.8888888888888888,\"#fdca26\"],[1.0,\"#f0f921\"]],\"diverging\":[[0,\"#8e0152\"],[0.1,\"#c51b7d\"],[0.2,\"#de77ae\"],[0.3,\"#f1b6da\"],[0.4,\"#fde0ef\"],[0.5,\"#f7f7f7\"],[0.6,\"#e6f5d0\"],[0.7,\"#b8e186\"],[0.8,\"#7fbc41\"],[0.9,\"#4d9221\"],[1,\"#276419\"]]},\"xaxis\":{\"gridcolor\":\"white\",\"linecolor\":\"white\",\"ticks\":\"\",\"title\":{\"standoff\":15},\"zerolinecolor\":\"white\",\"automargin\":true,\"zerolinewidth\":2},\"yaxis\":{\"gridcolor\":\"white\",\"linecolor\":\"white\",\"ticks\":\"\",\"title\":{\"standoff\":15},\"zerolinecolor\":\"white\",\"automargin\":true,\"zerolinewidth\":2},\"scene\":{\"xaxis\":{\"backgroundcolor\":\"#E5ECF6\",\"gridcolor\":\"white\",\"linecolor\":\"white\",\"showbackground\":true,\"ticks\":\"\",\"zerolinecolor\":\"white\",\"gridwidth\":2},\"yaxis\":{\"backgroundcolor\":\"#E5ECF6\",\"gridcolor\":\"white\",\"linecolor\":\"white\",\"showbackground\":true,\"ticks\":\"\",\"zerolinecolor\":\"white\",\"gridwidth\":2},\"zaxis\":{\"backgroundcolor\":\"#E5ECF6\",\"gridcolor\":\"white\",\"linecolor\":\"white\",\"showbackground\":true,\"ticks\":\"\",\"zerolinecolor\":\"white\",\"gridwidth\":2}},\"shapedefaults\":{\"line\":{\"color\":\"#2a3f5f\"}},\"annotationdefaults\":{\"arrowcolor\":\"#2a3f5f\",\"arrowhead\":0,\"arrowwidth\":1},\"geo\":{\"bgcolor\":\"white\",\"landcolor\":\"#E5ECF6\",\"subunitcolor\":\"white\",\"showland\":true,\"showlakes\":true,\"lakecolor\":\"white\"},\"title\":{\"x\":0.05},\"mapbox\":{\"style\":\"light\"}}},\"xaxis\":{\"showticklabels\":true,\"dtick\":2,\"range\":[6,24]},\"yaxis\":{\"range\":[0,3],\"showticklabels\":false},\"shapes\":[{\"fillcolor\":\"rgba(0, 204, 150,0.5)\",\"line\":{\"color\":\"White\",\"width\":1},\"type\":\"rect\",\"x0\":8,\"x1\":9,\"xref\":\"x\",\"y0\":0.0,\"y1\":1.0,\"yref\":\"y\"},{\"fillcolor\":\"rgba(0, 204, 150,0.5)\",\"line\":{\"color\":\"White\",\"width\":1},\"type\":\"rect\",\"x0\":13,\"x1\":15,\"xref\":\"x\",\"y0\":0.0,\"y1\":1.0,\"yref\":\"y\"},{\"fillcolor\":\"rgba(0, 204, 150,0.5)\",\"line\":{\"color\":\"White\",\"width\":1},\"type\":\"rect\",\"x0\":7,\"x1\":9,\"xref\":\"x\",\"y0\":1.0,\"y1\":2.0,\"yref\":\"y\"},{\"fillcolor\":\"rgba(0, 204, 150,0.5)\",\"line\":{\"color\":\"White\",\"width\":1},\"type\":\"rect\",\"x0\":15,\"x1\":16,\"xref\":\"x\",\"y0\":0.0,\"y1\":1.0,\"yref\":\"y\"},{\"fillcolor\":\"rgba(0, 204, 150,0.5)\",\"line\":{\"color\":\"White\",\"width\":1},\"type\":\"rect\",\"x0\":9,\"x1\":13,\"xref\":\"x\",\"y0\":0.0,\"y1\":1.0,\"yref\":\"y\"},{\"fillcolor\":\"rgba(0, 204, 150,0.5)\",\"line\":{\"color\":\"White\",\"width\":1},\"type\":\"rect\",\"x0\":13,\"x1\":15,\"xref\":\"x\",\"y0\":1.0,\"y1\":2.0,\"yref\":\"y\"},{\"fillcolor\":\"rgba(0, 204, 150,0.5)\",\"line\":{\"color\":\"White\",\"width\":1},\"type\":\"rect\",\"x0\":6,\"x1\":8,\"xref\":\"x\",\"y0\":0.0,\"y1\":1.0,\"yref\":\"y\"},{\"fillcolor\":\"rgba(0, 204, 150,0.5)\",\"line\":{\"color\":\"White\",\"width\":1},\"type\":\"rect\",\"x0\":9,\"x1\":13,\"xref\":\"x\",\"y0\":1.0,\"y1\":2.0,\"yref\":\"y\"},{\"fillcolor\":\"rgba(0, 204, 150,0.5)\",\"line\":{\"color\":\"White\",\"width\":1},\"type\":\"rect\",\"x0\":7,\"x1\":11,\"xref\":\"x\",\"y0\":2.0,\"y1\":3.0,\"yref\":\"y\"},{\"fillcolor\":\"rgba(0, 204, 150,0.5)\",\"line\":{\"color\":\"White\",\"width\":1},\"type\":\"rect\",\"x0\":11,\"x1\":12,\"xref\":\"x\",\"y0\":2.0,\"y1\":3.0,\"yref\":\"y\"},{\"fillcolor\":\"rgba(0, 204, 150,0.5)\",\"line\":{\"color\":\"White\",\"width\":1},\"type\":\"rect\",\"x0\":12,\"x1\":13,\"xref\":\"x\",\"y0\":2.0,\"y1\":3.0,\"yref\":\"y\"},{\"fillcolor\":\"rgba(0, 204, 150,0.5)\",\"line\":{\"color\":\"White\",\"width\":1},\"type\":\"rect\",\"x0\":13,\"x1\":14,\"xref\":\"x\",\"y0\":2.0,\"y1\":3.0,\"yref\":\"y\"},{\"fillcolor\":\"rgba(0, 204, 150,0.5)\",\"line\":{\"color\":\"White\",\"width\":1},\"type\":\"rect\",\"x0\":14,\"x1\":15,\"xref\":\"x\",\"y0\":2.0,\"y1\":3.0,\"yref\":\"y\"},{\"fillcolor\":\"rgba(0, 204, 150,0.5)\",\"line\":{\"color\":\"White\",\"width\":1},\"type\":\"rect\",\"x0\":16,\"x1\":17,\"xref\":\"x\",\"y0\":0.0,\"y1\":1.0,\"yref\":\"y\"},{\"fillcolor\":\"rgba(0, 204, 150,0.5)\",\"line\":{\"color\":\"White\",\"width\":1},\"type\":\"rect\",\"x0\":16,\"x1\":17,\"xref\":\"x\",\"y0\":1.0,\"y1\":2.0,\"yref\":\"y\"},{\"fillcolor\":\"rgba(0, 204, 150,0.5)\",\"line\":{\"color\":\"White\",\"width\":1},\"type\":\"rect\",\"x0\":17,\"x1\":23,\"xref\":\"x\",\"y0\":0.0,\"y1\":1.0,\"yref\":\"y\"},{\"fillcolor\":\"rgba(0, 204, 150,0.5)\",\"line\":{\"color\":\"White\",\"width\":1},\"type\":\"rect\",\"x0\":15,\"x1\":16,\"xref\":\"x\",\"y0\":1.0,\"y1\":2.0,\"yref\":\"y\"},{\"fillcolor\":\"rgba(0, 204, 150,0.5)\",\"line\":{\"color\":\"White\",\"width\":1},\"type\":\"rect\",\"x0\":15,\"x1\":16,\"xref\":\"x\",\"y0\":2.0,\"y1\":3.0,\"yref\":\"y\"},{\"fillcolor\":\"rgba(0, 204, 150,0.5)\",\"line\":{\"color\":\"White\",\"width\":1},\"type\":\"rect\",\"x0\":16,\"x1\":18,\"xref\":\"x\",\"y0\":2.0,\"y1\":3.0,\"yref\":\"y\"},{\"fillcolor\":\"rgba(0, 204, 150,0.5)\",\"line\":{\"color\":\"White\",\"width\":1},\"type\":\"rect\",\"x0\":17,\"x1\":20,\"xref\":\"x\",\"y0\":1.0,\"y1\":2.0,\"yref\":\"y\"},{\"fillcolor\":\"rgba(0, 204, 150,0.5)\",\"line\":{\"color\":\"White\",\"width\":1},\"type\":\"rect\",\"x0\":18,\"x1\":19,\"xref\":\"x\",\"y0\":2.0,\"y1\":3.0,\"yref\":\"y\"},{\"fillcolor\":\"rgba(0, 204, 150,0.5)\",\"line\":{\"color\":\"White\",\"width\":1},\"type\":\"rect\",\"x0\":20,\"x1\":21,\"xref\":\"x\",\"y0\":1.0,\"y1\":2.0,\"yref\":\"y\"},{\"fillcolor\":\"rgba(0, 204, 150,0.5)\",\"line\":{\"color\":\"White\",\"width\":1},\"type\":\"rect\",\"x0\":19,\"x1\":23,\"xref\":\"x\",\"y0\":2.0,\"y1\":3.0,\"yref\":\"y\"},{\"fillcolor\":\"rgba(0, 204, 150,0.5)\",\"line\":{\"color\":\"White\",\"width\":1},\"type\":\"rect\",\"x0\":21,\"x1\":22,\"xref\":\"x\",\"y0\":1.0,\"y1\":2.0,\"yref\":\"y\"},{\"fillcolor\":\"rgba(0, 204, 150,0.5)\",\"line\":{\"color\":\"White\",\"width\":1},\"type\":\"rect\",\"x0\":22,\"x1\":23,\"xref\":\"x\",\"y0\":1.0,\"y1\":2.0,\"yref\":\"y\"},{\"fillcolor\":\"rgba(0, 204, 150,0.5)\",\"line\":{\"color\":\"White\",\"width\":1},\"type\":\"rect\",\"x0\":23,\"x1\":24,\"xref\":\"x\",\"y0\":0.0,\"y1\":1.0,\"yref\":\"y\"},{\"fillcolor\":\"rgba(0, 204, 150,0.5)\",\"line\":{\"color\":\"White\",\"width\":1},\"type\":\"rect\",\"x0\":23,\"x1\":24,\"xref\":\"x\",\"y0\":1.0,\"y1\":2.0,\"yref\":\"y\"},{\"fillcolor\":\"rgba(0, 204, 150,0.5)\",\"line\":{\"color\":\"White\",\"width\":1},\"type\":\"rect\",\"x0\":23,\"x1\":24,\"xref\":\"x\",\"y0\":2.0,\"y1\":3.0,\"yref\":\"y\"},{\"fillcolor\":\"rgba(0, 204, 150,1)\",\"line\":{\"color\":\"White\",\"width\":1},\"type\":\"rect\",\"x0\":8,\"x1\":9,\"y0\":0.0,\"y1\":0.8539557852356303,\"xref\":\"x\",\"yref\":\"y\"},{\"fillcolor\":\"rgba(0, 204, 150,1)\",\"line\":{\"color\":\"White\",\"width\":1},\"type\":\"rect\",\"x0\":13,\"x1\":15,\"y0\":0.0,\"y1\":0.6207302159494313,\"xref\":\"x\",\"yref\":\"y\"},{\"fillcolor\":\"rgba(0, 204, 150,1)\",\"line\":{\"color\":\"White\",\"width\":1},\"type\":\"rect\",\"x0\":7,\"x1\":9,\"y0\":1.0,\"y1\":1.6959805290624188,\"xref\":\"x\",\"yref\":\"y\"},{\"fillcolor\":\"rgba(0, 204, 150,1)\",\"line\":{\"color\":\"White\",\"width\":1},\"type\":\"rect\",\"x0\":15,\"x1\":16,\"y0\":0.0,\"y1\":0.7901688599583317,\"xref\":\"x\",\"yref\":\"y\"},{\"fillcolor\":\"rgba(0, 204, 150,1)\",\"line\":{\"color\":\"White\",\"width\":1},\"type\":\"rect\",\"x0\":9,\"x1\":13,\"y0\":0.0,\"y1\":0.6207302159494313,\"xref\":\"x\",\"yref\":\"y\"},{\"fillcolor\":\"rgba(0, 204, 150,1)\",\"line\":{\"color\":\"White\",\"width\":1},\"type\":\"rect\",\"x0\":13,\"x1\":15,\"y0\":1.0,\"y1\":1.5204585502796506,\"xref\":\"x\",\"yref\":\"y\"},{\"fillcolor\":\"rgba(0, 204, 150,1)\",\"line\":{\"color\":\"White\",\"width\":1},\"type\":\"rect\",\"x0\":6,\"x1\":8,\"y0\":0.0,\"y1\":0.48775778907446055,\"xref\":\"x\",\"yref\":\"y\"},{\"fillcolor\":\"rgba(0, 204, 150,1)\",\"line\":{\"color\":\"White\",\"width\":1},\"type\":\"rect\",\"x0\":9,\"x1\":13,\"y0\":1.0,\"y1\":1.5531593114848405,\"xref\":\"x\",\"yref\":\"y\"},{\"fillcolor\":\"rgba(0, 204, 150,1)\",\"line\":{\"color\":\"White\",\"width\":1},\"type\":\"rect\",\"x0\":7,\"x1\":11,\"y0\":2.0,\"y1\":2.6207302159494312,\"xref\":\"x\",\"yref\":\"y\"},{\"fillcolor\":\"rgba(0, 204, 150,1)\",\"line\":{\"color\":\"White\",\"width\":1},\"type\":\"rect\",\"x0\":11,\"x1\":12,\"y0\":2.0,\"y1\":2.739473033834616,\"xref\":\"x\",\"yref\":\"y\"},{\"fillcolor\":\"rgba(0, 204, 150,1)\",\"line\":{\"color\":\"White\",\"width\":1},\"type\":\"rect\",\"x0\":12,\"x1\":13,\"y0\":2.0,\"y1\":2.739473033834616,\"xref\":\"x\",\"yref\":\"y\"},{\"fillcolor\":\"rgba(0, 204, 150,1)\",\"line\":{\"color\":\"White\",\"width\":1},\"type\":\"rect\",\"x0\":13,\"x1\":14,\"y0\":2.0,\"y1\":2.739473033834616,\"xref\":\"x\",\"yref\":\"y\"},{\"fillcolor\":\"rgba(0, 204, 150,1)\",\"line\":{\"color\":\"White\",\"width\":1},\"type\":\"rect\",\"x0\":14,\"x1\":15,\"y0\":2.0,\"y1\":2.656922915584617,\"xref\":\"x\",\"yref\":\"y\"},{\"fillcolor\":\"rgba(0, 204, 150,1)\",\"line\":{\"color\":\"White\",\"width\":1},\"type\":\"rect\",\"x0\":16,\"x1\":17,\"y0\":0.0,\"y1\":0.8539557852356303,\"xref\":\"x\",\"yref\":\"y\"},{\"fillcolor\":\"rgba(0, 204, 150,1)\",\"line\":{\"color\":\"White\",\"width\":1},\"type\":\"rect\",\"x0\":16,\"x1\":17,\"y0\":1.0,\"y1\":1.6959805290624188,\"xref\":\"x\",\"yref\":\"y\"},{\"fillcolor\":\"rgba(0, 204, 150,1)\",\"line\":{\"color\":\"White\",\"width\":1},\"type\":\"rect\",\"x0\":17,\"x1\":23,\"y0\":0.0,\"y1\":0.4877577890744605,\"xref\":\"x\",\"yref\":\"y\"},{\"fillcolor\":\"rgba(0, 204, 150,1)\",\"line\":{\"color\":\"White\",\"width\":1},\"type\":\"rect\",\"x0\":15,\"x1\":16,\"y0\":1.0,\"y1\":1.8539557852356303,\"xref\":\"x\",\"yref\":\"y\"},{\"fillcolor\":\"rgba(0, 204, 150,1)\",\"line\":{\"color\":\"White\",\"width\":1},\"type\":\"rect\",\"x0\":15,\"x1\":16,\"y0\":2.0,\"y1\":2.8539557852356303,\"xref\":\"x\",\"yref\":\"y\"},{\"fillcolor\":\"rgba(0, 204, 150,1)\",\"line\":{\"color\":\"White\",\"width\":1},\"type\":\"rect\",\"x0\":16,\"x1\":18,\"y0\":2.0,\"y1\":2.5531593114848405,\"xref\":\"x\",\"yref\":\"y\"},{\"fillcolor\":\"rgba(0, 204, 150,1)\",\"line\":{\"color\":\"White\",\"width\":1},\"type\":\"rect\",\"x0\":17,\"x1\":20,\"y0\":1.0,\"y1\":1.5863868832874544,\"xref\":\"x\",\"yref\":\"y\"},{\"fillcolor\":\"rgba(0, 204, 150,1)\",\"line\":{\"color\":\"White\",\"width\":1},\"type\":\"rect\",\"x0\":18,\"x1\":19,\"y0\":2.0,\"y1\":2.3449365714968824,\"xref\":\"x\",\"yref\":\"y\"},{\"fillcolor\":\"rgba(0, 204, 150,1)\",\"line\":{\"color\":\"White\",\"width\":1},\"type\":\"rect\",\"x0\":20,\"x1\":21,\"y0\":1.0,\"y1\":1.7394730338346158,\"xref\":\"x\",\"yref\":\"y\"},{\"fillcolor\":\"rgba(0, 204, 150,1)\",\"line\":{\"color\":\"White\",\"width\":1},\"type\":\"rect\",\"x0\":19,\"x1\":23,\"y0\":2.0,\"y1\":2.520458550279651,\"xref\":\"x\",\"yref\":\"y\"},{\"fillcolor\":\"rgba(0, 204, 150,1)\",\"line\":{\"color\":\"White\",\"width\":1},\"type\":\"rect\",\"x0\":21,\"x1\":22,\"y0\":1.0,\"y1\":1.3014440667246856,\"xref\":\"x\",\"yref\":\"y\"},{\"fillcolor\":\"rgba(0, 204, 150,1)\",\"line\":{\"color\":\"White\",\"width\":1},\"type\":\"rect\",\"x0\":22,\"x1\":23,\"y0\":1.0,\"y1\":1.6959805290624188,\"xref\":\"x\",\"yref\":\"y\"},{\"fillcolor\":\"rgba(0, 204, 150,1)\",\"line\":{\"color\":\"White\",\"width\":1},\"type\":\"rect\",\"x0\":23,\"x1\":24,\"y0\":0.0,\"y1\":0.5863868832874544,\"xref\":\"x\",\"yref\":\"y\"},{\"fillcolor\":\"rgba(0, 204, 150,1)\",\"line\":{\"color\":\"White\",\"width\":1},\"type\":\"rect\",\"x0\":23,\"x1\":24,\"y0\":1.0,\"y1\":1.6959805290624188,\"xref\":\"x\",\"yref\":\"y\"},{\"fillcolor\":\"rgba(0, 204, 150,1)\",\"line\":{\"color\":\"White\",\"width\":1},\"type\":\"rect\",\"x0\":23,\"x1\":24,\"y0\":2.0,\"y1\":2.5863868832874544,\"xref\":\"x\",\"yref\":\"y\"}],\"margin\":{\"l\":0,\"r\":0,\"t\":0,\"b\":0},\"width\":257.0,\"height\":57.111111111111114,\"plot_bgcolor\":\"rgba(0, 0, 0, 0)\",\"paper_bgcolor\":\"rgba(0, 0, 0, 0)\"},                        {\"responsive\": true}                    ).then(function(){\n",
       "                            \n",
       "var gd = document.getElementById('dc8f0ba4-a525-4d1a-aa08-b781d4586d36');\n",
       "var x = new MutationObserver(function (mutations, observer) {{\n",
       "        var display = window.getComputedStyle(gd).display;\n",
       "        if (!display || display === 'none') {{\n",
       "            console.log([gd, 'removed!']);\n",
       "            Plotly.purge(gd);\n",
       "            observer.disconnect();\n",
       "        }}\n",
       "}});\n",
       "\n",
       "// Listen for the removal of the full notebook cells\n",
       "var notebookContainer = gd.closest('#notebook-container');\n",
       "if (notebookContainer) {{\n",
       "    x.observe(notebookContainer, {childList: true});\n",
       "}}\n",
       "\n",
       "// Listen for the clearing of the current output cell\n",
       "var outputEl = gd.closest('.output');\n",
       "if (outputEl) {{\n",
       "    x.observe(outputEl, {childList: true});\n",
       "}}\n",
       "\n",
       "                        })                };                });            </script>        </div>"
      ]
     },
     "metadata": {},
     "output_type": "display_data"
    }
   ],
   "execution_count": 65
  },
  {
   "metadata": {
    "ExecuteTime": {
     "end_time": "2024-09-24T13:25:55.010606Z",
     "start_time": "2024-09-24T13:25:54.927601Z"
    }
   },
   "cell_type": "code",
   "source": "img_height",
   "id": "29fac653edc7278",
   "outputs": [
    {
     "data": {
      "text/plain": [
       "171.33333333333334"
      ]
     },
     "execution_count": 54,
     "metadata": {},
     "output_type": "execute_result"
    }
   ],
   "execution_count": 54
  },
  {
   "metadata": {
    "ExecuteTime": {
     "end_time": "2024-09-24T15:22:14.660584Z",
     "start_time": "2024-09-24T15:22:14.352876Z"
    }
   },
   "cell_type": "code",
   "source": "72/24",
   "id": "961e542e84aeb3a1",
   "outputs": [
    {
     "data": {
      "text/plain": [
       "3.0"
      ]
     },
     "execution_count": 68,
     "metadata": {},
     "output_type": "execute_result"
    }
   ],
   "execution_count": 68
  },
  {
   "metadata": {},
   "cell_type": "code",
   "outputs": [],
   "execution_count": null,
   "source": "",
   "id": "8a922ed3081f7b35"
  }
 ],
 "metadata": {
  "kernelspec": {
   "display_name": "Python 3",
   "language": "python",
   "name": "python3"
  },
  "language_info": {
   "codemirror_mode": {
    "name": "ipython",
    "version": 2
   },
   "file_extension": ".py",
   "mimetype": "text/x-python",
   "name": "python",
   "nbconvert_exporter": "python",
   "pygments_lexer": "ipython2",
   "version": "2.7.6"
  }
 },
 "nbformat": 4,
 "nbformat_minor": 5
}
