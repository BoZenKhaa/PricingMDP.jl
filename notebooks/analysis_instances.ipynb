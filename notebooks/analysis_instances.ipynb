{
 "cells": [
  {
   "cell_type": "code",
   "execution_count": 38,
   "metadata": {},
   "outputs": [
    {
     "data": {
      "text/plain": [
       "200"
      ]
     },
     "execution_count": 38,
     "metadata": {},
     "output_type": "execute_result"
    }
   ],
   "source": [
    "using PMDPs\n",
    "using Test\n",
    "using POMDPSimulators\n",
    "\n",
    "using StaticArrays\n",
    "using POMDPs\n",
    "using MCTS, DiscreteValueIteration\n",
    "using StatsBase\n",
    "using Plots\n",
    "using POMDPSimulators\n",
    "using D3Trees\n",
    "using POMDPPolicies\n",
    "using POMDPLinter\n",
    "using Random, RandomNumbers\n",
    "using DataFrames\n",
    "# using CSV\n",
    "# using CSVFiles\n",
    "using BSON\n",
    "using POMDPSimulators\n",
    "\n",
    "using DrWatson\n",
    "using Distributions\n",
    "using BeliefUpdaters\n",
    "\n",
    "using Plots\n",
    "using Latexify\n",
    "\n",
    "using TableView\n",
    "using StatsBase\n",
    "\n",
    "ENV[\"COLUMNS\"]=200"
   ]
  },
  {
   "cell_type": "markdown",
   "metadata": {},
   "source": [
    "# Plan\n",
    "I want to get a table at the end.\n"
   ]
  },
  {
   "cell_type": "code",
   "execution_count": 2,
   "metadata": {},
   "outputs": [
    {
     "data": {
      "text/plain": [
       "\"Expected demand\""
      ]
     },
     "execution_count": 2,
     "metadata": {},
     "output_type": "execute_result"
    }
   ],
   "source": [
    "plot_size = ((1+sqrt(5))/2, 1).*100 .*3\n",
    "label_demand = \"Expected number of requests (λ)\"\n",
    "label_demand = \"Expected demand\""
   ]
  },
  {
   "cell_type": "code",
   "execution_count": 3,
   "metadata": {},
   "outputs": [],
   "source": [
    "# res = DrWatson.collect_results(joinpath(datadir(), \"results\", \"linear_problem\"));"
   ]
  },
  {
   "cell_type": "code",
   "execution_count": 31,
   "metadata": {},
   "outputs": [
    {
     "name": "stdout",
     "output_type": "stream",
     "text": [
      "fhvi_N=10_T=10_c=3_expected_res=3_nᵣ=3_objective=revenue_res_budget_μ=5.bson\n",
      "fhvi_N=10_T=10_c=3_expected_res=3_nᵣ=3_objective=utilization_res_budget_μ=5.bson\n",
      "flatrate_N=10_T=10_c=3_expected_res=3_nᵣ=3_objective=revenue_res_budget_μ=5.bson\n",
      "flatrate_N=10_T=10_c=3_expected_res=3_nᵣ=3_objective=utilization_res_budget_μ=5.bson\n",
      "hindsight_N=10_T=10_c=3_expected_res=3_nᵣ=3_objective=revenue_res_budget_μ=5.bson\n",
      "hindsight_N=10_T=10_c=3_expected_res=3_nᵣ=3_objective=utilization_res_budget_μ=5.bson\n",
      "mctsdpw_N=10_T=10_c=3_expected_res=3_nᵣ=3_objective=revenue_res_budget_μ=5.bson\n",
      "mctsdpw_N=10_T=10_c=3_expected_res=3_nᵣ=3_objective=utilization_res_budget_μ=5.bson\n",
      "mctsvanilla_N=10_T=10_c=3_expected_res=3_nᵣ=3_objective=revenue_res_budget_μ=5.bson\n",
      "mctsvanilla_N=10_T=10_c=3_expected_res=3_nᵣ=3_objective=utilization_res_budget_μ=5.bson\n",
      "vi_N=10_T=10_c=3_expected_res=3_nᵣ=3_objective=revenue_res_budget_μ=5.bson\n",
      "vi_N=10_T=10_c=3_expected_res=3_nᵣ=3_objective=utilization_res_budget_μ=5.bson\n"
     ]
    }
   ],
   "source": [
    "res_folder = joinpath(datadir(), \"results\", \"test\", \"linear_problem\")\n",
    "res_files = readdir(res_folder)\n",
    "    \n",
    "res = BSON.load(joinpath(res_folder,res_files[2]))\n",
    "for r in res_files\n",
    "    println(r)\n",
    "end"
   ]
  },
  {
   "cell_type": "code",
   "execution_count": 32,
   "metadata": {},
   "outputs": [
    {
     "data": {
      "text/plain": [
       "res2row (generic function with 1 method)"
      ]
     },
     "execution_count": 32,
     "metadata": {},
     "output_type": "execute_result"
    }
   ],
   "source": [
    "function res2row(res)\n",
    "    row_dfs = []\n",
    "    \n",
    "    # process pp_params into df with single row\n",
    "    row = DataFrame(res[:pp_params])\n",
    "    push!(row_dfs, row)\n",
    "    \n",
    "    # process agg: move evry row from \"description\" into single dataframe of one row\n",
    "    agg = select(res[:agg], [:variable, :mean, :median, :min, :max])\n",
    "    for row in eachrow(agg)\n",
    "        v = string(row.variable)\n",
    "        row = DataFrame(row[2:end])\n",
    "        rename!(s-> s*\"_$v\", row)\n",
    "        push!(row_dfs, row)\n",
    "    end\n",
    "    \n",
    "    # compact dfs into single row\n",
    "    df = hcat(row_dfs...)\n",
    "    \n",
    "    # add method\n",
    "    method = string(first(res[:results]).name)*\"_\"*res[:method_info]\n",
    "    insertcols!(df, 1, :method=>method)\n",
    "    \n",
    "    # add objective\n",
    "    if haskey(res[:pp_params], :objective)\n",
    "        objective = string(res[:pp_params][:objective])\n",
    "    else\n",
    "        objective = :revenue\n",
    "    end\n",
    "    if !(\"objective\" in names(df))\n",
    "#         df.objective = objective\n",
    "        insertcols!(df, 2, :objective=>objective)\n",
    "    end\n",
    "    \n",
    "    # add n_traces\n",
    "    insertcols!(df, 2, :N=>res[:N])\n",
    "end\n",
    "\n",
    "# res_folder = joinpath(datadir(), \"results\", \"graph_problem\")\n",
    "# res_files = readdir(res_folder)\n",
    "    \n",
    "# res = BSON.load(joinpath(res_folder,res_files[1]))\n",
    "\n",
    "# res2row(res)"
   ]
  },
  {
   "cell_type": "markdown",
   "metadata": {},
   "source": [
    "## Linear problems"
   ]
  },
  {
   "cell_type": "code",
   "execution_count": 61,
   "metadata": {},
   "outputs": [
    {
     "name": "stdout",
     "output_type": "stream",
     "text": [
      "search: \u001b[0m\u001b[1mg\u001b[22m\u001b[0m\u001b[1me\u001b[22m\u001b[0m\u001b[1mt\u001b[22m\u001b[0m\u001b[1mf\u001b[22m\u001b[0m\u001b[1mi\u001b[22m\u001b[0m\u001b[1me\u001b[22m\u001b[0m\u001b[1ml\u001b[22m\u001b[0m\u001b[1md\u001b[22m\n",
      "\n"
     ]
    },
    {
     "data": {
      "text/latex": [
       "\\begin{verbatim}\n",
       "getfield(value, name::Symbol)\n",
       "getfield(value, i::Int)\n",
       "\\end{verbatim}\n",
       "Extract a field from a composite \\texttt{value} by name or position. See also \\href{@ref Base.getproperty}{\\texttt{getproperty}} and \\href{@ref}{\\texttt{fieldnames}}.\n",
       "\n",
       "\\section{Examples}\n",
       "\\begin{verbatim}\n",
       "julia> a = 1//2\n",
       "1//2\n",
       "\n",
       "julia> getfield(a, :num)\n",
       "1\n",
       "\n",
       "julia> a.num\n",
       "1\n",
       "\n",
       "julia> getfield(a, 1)\n",
       "1\n",
       "\\end{verbatim}\n"
      ],
      "text/markdown": [
       "```\n",
       "getfield(value, name::Symbol)\n",
       "getfield(value, i::Int)\n",
       "```\n",
       "\n",
       "Extract a field from a composite `value` by name or position. See also [`getproperty`](@ref Base.getproperty) and [`fieldnames`](@ref).\n",
       "\n",
       "# Examples\n",
       "\n",
       "```jldoctest\n",
       "julia> a = 1//2\n",
       "1//2\n",
       "\n",
       "julia> getfield(a, :num)\n",
       "1\n",
       "\n",
       "julia> a.num\n",
       "1\n",
       "\n",
       "julia> getfield(a, 1)\n",
       "1\n",
       "```\n"
      ],
      "text/plain": [
       "\u001b[36m  getfield(value, name::Symbol)\u001b[39m\n",
       "\u001b[36m  getfield(value, i::Int)\u001b[39m\n",
       "\n",
       "  Extract a field from a composite \u001b[36mvalue\u001b[39m by name or position. See also \u001b[36mgetproperty\u001b[39m and \u001b[36mfieldnames\u001b[39m.\n",
       "\n",
       "\u001b[1m  Examples\u001b[22m\n",
       "\u001b[1m  ≡≡≡≡≡≡≡≡≡≡\u001b[22m\n",
       "\n",
       "\u001b[36m  julia> a = 1//2\u001b[39m\n",
       "\u001b[36m  1//2\u001b[39m\n",
       "\u001b[36m  \u001b[39m\n",
       "\u001b[36m  julia> getfield(a, :num)\u001b[39m\n",
       "\u001b[36m  1\u001b[39m\n",
       "\u001b[36m  \u001b[39m\n",
       "\u001b[36m  julia> a.num\u001b[39m\n",
       "\u001b[36m  1\u001b[39m\n",
       "\u001b[36m  \u001b[39m\n",
       "\u001b[36m  julia> getfield(a, 1)\u001b[39m\n",
       "\u001b[36m  1\u001b[39m"
      ]
     },
     "execution_count": 61,
     "metadata": {},
     "output_type": "execute_result"
    }
   ],
   "source": [
    "?getfield"
   ]
  },
  {
   "cell_type": "code",
   "execution_count": 64,
   "metadata": {},
   "outputs": [
    {
     "data": {
      "text/plain": [
       "Dict{Symbol,Any} with 22 entries:\n",
       "  :n_iterations         => 100\n",
       "  :check_repeat_action  => true\n",
       "  :max_time             => 1.0\n",
       "  :k_action             => 10.0\n",
       "  :keep_tree            => true\n",
       "  :check_repeat_state   => true\n",
       "  :tree_in_info         => false\n",
       "  :alpha_action         => 0.5\n",
       "  :exploration_constant => 40.0\n",
       "  :show_progress        => false\n",
       "  :default_action       => ExceptionRethrow()\n",
       "  :rng                  => Xorshift128Plus(0x8b580c4f7bf31cd7, 0x5b05aab05350b0f1)\n",
       "  :k_state              => 10.0\n",
       "  :alpha_state          => 0.5\n",
       "  :enable_action_pw     => true\n",
       "  :init_N               => 0\n",
       "  :estimate_value       => RolloutEstimator(RandomSolver(Xorshift128Plus(0x8b580c4f7bf31cd7, 0x5b05aab05350b0f1)))\n",
       "  :reset_callback       => #9\n",
       "  :next_action          => RandomActionGenerator{Xorshift128Plus}(Xorshift128Plus(0x8b580c4f7bf31cd7, 0x5b05aab05350b0f1))\n",
       "  :depth                => 50\n",
       "  :enable_state_pw      => false\n",
       "  :init_Q               => 0.0"
      ]
     },
     "execution_count": 64,
     "metadata": {},
     "output_type": "execute_result"
    }
   ],
   "source": [
    "res = BSON.load(joinpath(res_folder,res_files[7]))\n",
    "s = res[:kwargs][:mcts_solver]\n",
    "Dict([fn=>getfield(s, fn) for fn in fieldnames(typeof(s))])\n",
    "# s.depth"
   ]
  },
  {
   "cell_type": "code",
   "execution_count": 40,
   "metadata": {},
   "outputs": [],
   "source": [
    "res_folder = joinpath(datadir(), \"results\", \"test\", \"linear_problem\")\n",
    "res_files = readdir(res_folder)\n",
    "\n",
    "rows = []\n",
    "for res_file in res_files\n",
    "    if res_file[end-4:end]==\".bson\"\n",
    "        res = BSON.load(joinpath(res_folder,res_file))\n",
    "#         display(res_file)\n",
    "#         display(res)\n",
    "        row = res2row(res)\n",
    "#         display(row)\n",
    "        push!(rows, row)\n",
    "    end\n",
    "end\n",
    "\n",
    "results = vcat(rows...);\n",
    "# sort!(results, [:method, :expected_res]);"
   ]
  },
  {
   "cell_type": "code",
   "execution_count": 37,
   "metadata": {},
   "outputs": [
    {
     "data": {
      "text/html": [
       "<table class=\"data-frame\"><thead><tr><th></th><th>method</th><th>N</th><th>T</th><th>c</th><th>res_budget_μ</th><th>objective</th><th>nᵣ</th><th>expected_res</th><th>mean_r</th><th>median_r</th><th>min_r</th><th>max_r</th><th>mean_u</th><th>median_u</th><th>min_u</th><th>max_u</th><th>mean_nₛ</th><th>median_nₛ</th><th>min_nₛ</th><th>max_nₛ</th><th>mean_nᵣ</th><th>median_nᵣ</th></tr><tr><th></th><th>String</th><th>Int64</th><th>Int64</th><th>Int64</th><th>Float64</th><th>Symbol</th><th>Int64</th><th>Float64</th><th>Float64</th><th>Float64</th><th>Any</th><th>Any</th><th>Float64</th><th>Float64</th><th>Any</th><th>Any</th><th>Float64</th><th>Float64</th><th>Any</th><th>Any</th><th>Float64</th><th>Float64</th></tr></thead><tbody><p>12 rows × 24 columns (omitted printing of 2 columns)</p><tr><th>1</th><td>fhvi_</td><td>10</td><td>10</td><td>3</td><td>5.0</td><td>revenue</td><td>3</td><td>3.0</td><td>10.25</td><td>8.75</td><td>0.0</td><td>22.5</td><td>2.4</td><td>2.0</td><td>0</td><td>5</td><td>1.6</td><td>1.5</td><td>0</td><td>4</td><td>2.8</td><td>2.0</td></tr><tr><th>2</th><td>fhvi_</td><td>10</td><td>10</td><td>3</td><td>5.0</td><td>utilization</td><td>3</td><td>3.0</td><td>3.6</td><td>3.0</td><td>1.0</td><td>8.0</td><td>3.6</td><td>3.0</td><td>1</td><td>8</td><td>2.4</td><td>2.0</td><td>1</td><td>6</td><td>2.8</td><td>2.0</td></tr><tr><th>3</th><td>flatrate_</td><td>10</td><td>10</td><td>3</td><td>5.0</td><td>revenue</td><td>3</td><td>3.0</td><td>8.0</td><td>7.5</td><td>0.0</td><td>20.0</td><td>2.4</td><td>2.0</td><td>0</td><td>5</td><td>1.6</td><td>1.5</td><td>0</td><td>4</td><td>2.8</td><td>2.0</td></tr><tr><th>4</th><td>flatrate_</td><td>10</td><td>10</td><td>3</td><td>5.0</td><td>utilization</td><td>3</td><td>3.0</td><td>3.3</td><td>3.0</td><td>0.0</td><td>7.0</td><td>3.3</td><td>3.0</td><td>0</td><td>7</td><td>2.1</td><td>2.0</td><td>0</td><td>5</td><td>2.8</td><td>2.0</td></tr><tr><th>5</th><td>hindsight_</td><td>10</td><td>10</td><td>3</td><td>5.0</td><td>revenue</td><td>3</td><td>3.0</td><td>13.5</td><td>10.0</td><td>5.0</td><td>32.5</td><td>2.8</td><td>2.5</td><td>1</td><td>6</td><td>1.9</td><td>2.0</td><td>1</td><td>4</td><td>2.8</td><td>2.0</td></tr><tr><th>6</th><td>hindsight_</td><td>10</td><td>10</td><td>3</td><td>5.0</td><td>utilization</td><td>3</td><td>3.0</td><td>3.6</td><td>3.0</td><td>1.0</td><td>8.0</td><td>3.6</td><td>3.0</td><td>1</td><td>8</td><td>2.4</td><td>2.0</td><td>1</td><td>6</td><td>2.8</td><td>2.0</td></tr><tr><th>7</th><td>mcts_dpw</td><td>10</td><td>10</td><td>3</td><td>5.0</td><td>revenue</td><td>3</td><td>3.0</td><td>8.75</td><td>6.25</td><td>0.0</td><td>27.5</td><td>2.0</td><td>1.5</td><td>0</td><td>5</td><td>1.4</td><td>1.5</td><td>0</td><td>4</td><td>2.8</td><td>2.0</td></tr><tr><th>8</th><td>mcts_dpw</td><td>10</td><td>10</td><td>3</td><td>5.0</td><td>utilization</td><td>3</td><td>3.0</td><td>3.1</td><td>2.5</td><td>0.0</td><td>8.0</td><td>3.1</td><td>2.5</td><td>0</td><td>8</td><td>2.1</td><td>2.0</td><td>0</td><td>6</td><td>2.8</td><td>2.0</td></tr><tr><th>9</th><td>mcts_vanilla</td><td>10</td><td>10</td><td>3</td><td>5.0</td><td>revenue</td><td>3</td><td>3.0</td><td>9.25</td><td>6.25</td><td>2.5</td><td>20.0</td><td>2.4</td><td>2.0</td><td>1</td><td>5</td><td>1.6</td><td>1.0</td><td>1</td><td>4</td><td>2.8</td><td>2.0</td></tr><tr><th>10</th><td>mcts_vanilla</td><td>10</td><td>10</td><td>3</td><td>5.0</td><td>utilization</td><td>3</td><td>3.0</td><td>3.6</td><td>3.0</td><td>1.0</td><td>8.0</td><td>3.6</td><td>3.0</td><td>1</td><td>8</td><td>2.4</td><td>2.0</td><td>1</td><td>6</td><td>2.8</td><td>2.0</td></tr><tr><th>11</th><td>vi_</td><td>10</td><td>10</td><td>3</td><td>5.0</td><td>revenue</td><td>3</td><td>3.0</td><td>10.25</td><td>8.75</td><td>0.0</td><td>22.5</td><td>2.4</td><td>2.0</td><td>0</td><td>5</td><td>1.6</td><td>1.5</td><td>0</td><td>4</td><td>2.8</td><td>2.0</td></tr><tr><th>12</th><td>vi_</td><td>10</td><td>10</td><td>3</td><td>5.0</td><td>utilization</td><td>3</td><td>3.0</td><td>3.6</td><td>3.0</td><td>1.0</td><td>8.0</td><td>3.6</td><td>3.0</td><td>1</td><td>8</td><td>2.4</td><td>2.0</td><td>1</td><td>6</td><td>2.8</td><td>2.0</td></tr></tbody></table>"
      ],
      "text/latex": [
       "\\begin{tabular}{r|ccccccccccccccccccccccc}\n",
       "\t& method & N & T & c & res\\_budget\\_μ & objective & nᵣ & expected\\_res & mean\\_r & median\\_r & min\\_r & max\\_r & mean\\_u & median\\_u & min\\_u & max\\_u & mean\\_nₛ & median\\_nₛ & min\\_nₛ & max\\_nₛ & mean\\_nᵣ & median\\_nᵣ & \\\\\n",
       "\t\\hline\n",
       "\t& String & Int64 & Int64 & Int64 & Float64 & Symbol & Int64 & Float64 & Float64 & Float64 & Any & Any & Float64 & Float64 & Any & Any & Float64 & Float64 & Any & Any & Float64 & Float64 & \\\\\n",
       "\t\\hline\n",
       "\t1 & fhvi\\_ & 10 & 10 & 3 & 5.0 & revenue & 3 & 3.0 & 10.25 & 8.75 & 0.0 & 22.5 & 2.4 & 2.0 & 0 & 5 & 1.6 & 1.5 & 0 & 4 & 2.8 & 2.0 & $\\dots$ \\\\\n",
       "\t2 & fhvi\\_ & 10 & 10 & 3 & 5.0 & utilization & 3 & 3.0 & 3.6 & 3.0 & 1.0 & 8.0 & 3.6 & 3.0 & 1 & 8 & 2.4 & 2.0 & 1 & 6 & 2.8 & 2.0 & $\\dots$ \\\\\n",
       "\t3 & flatrate\\_ & 10 & 10 & 3 & 5.0 & revenue & 3 & 3.0 & 8.0 & 7.5 & 0.0 & 20.0 & 2.4 & 2.0 & 0 & 5 & 1.6 & 1.5 & 0 & 4 & 2.8 & 2.0 & $\\dots$ \\\\\n",
       "\t4 & flatrate\\_ & 10 & 10 & 3 & 5.0 & utilization & 3 & 3.0 & 3.3 & 3.0 & 0.0 & 7.0 & 3.3 & 3.0 & 0 & 7 & 2.1 & 2.0 & 0 & 5 & 2.8 & 2.0 & $\\dots$ \\\\\n",
       "\t5 & hindsight\\_ & 10 & 10 & 3 & 5.0 & revenue & 3 & 3.0 & 13.5 & 10.0 & 5.0 & 32.5 & 2.8 & 2.5 & 1 & 6 & 1.9 & 2.0 & 1 & 4 & 2.8 & 2.0 & $\\dots$ \\\\\n",
       "\t6 & hindsight\\_ & 10 & 10 & 3 & 5.0 & utilization & 3 & 3.0 & 3.6 & 3.0 & 1.0 & 8.0 & 3.6 & 3.0 & 1 & 8 & 2.4 & 2.0 & 1 & 6 & 2.8 & 2.0 & $\\dots$ \\\\\n",
       "\t7 & mcts\\_dpw & 10 & 10 & 3 & 5.0 & revenue & 3 & 3.0 & 8.75 & 6.25 & 0.0 & 27.5 & 2.0 & 1.5 & 0 & 5 & 1.4 & 1.5 & 0 & 4 & 2.8 & 2.0 & $\\dots$ \\\\\n",
       "\t8 & mcts\\_dpw & 10 & 10 & 3 & 5.0 & utilization & 3 & 3.0 & 3.1 & 2.5 & 0.0 & 8.0 & 3.1 & 2.5 & 0 & 8 & 2.1 & 2.0 & 0 & 6 & 2.8 & 2.0 & $\\dots$ \\\\\n",
       "\t9 & mcts\\_vanilla & 10 & 10 & 3 & 5.0 & revenue & 3 & 3.0 & 9.25 & 6.25 & 2.5 & 20.0 & 2.4 & 2.0 & 1 & 5 & 1.6 & 1.0 & 1 & 4 & 2.8 & 2.0 & $\\dots$ \\\\\n",
       "\t10 & mcts\\_vanilla & 10 & 10 & 3 & 5.0 & utilization & 3 & 3.0 & 3.6 & 3.0 & 1.0 & 8.0 & 3.6 & 3.0 & 1 & 8 & 2.4 & 2.0 & 1 & 6 & 2.8 & 2.0 & $\\dots$ \\\\\n",
       "\t11 & vi\\_ & 10 & 10 & 3 & 5.0 & revenue & 3 & 3.0 & 10.25 & 8.75 & 0.0 & 22.5 & 2.4 & 2.0 & 0 & 5 & 1.6 & 1.5 & 0 & 4 & 2.8 & 2.0 & $\\dots$ \\\\\n",
       "\t12 & vi\\_ & 10 & 10 & 3 & 5.0 & utilization & 3 & 3.0 & 3.6 & 3.0 & 1.0 & 8.0 & 3.6 & 3.0 & 1 & 8 & 2.4 & 2.0 & 1 & 6 & 2.8 & 2.0 & $\\dots$ \\\\\n",
       "\\end{tabular}\n"
      ],
      "text/plain": [
       "\u001b[1m12×24 DataFrame\u001b[0m\n",
       "\u001b[1m Row \u001b[0m│\u001b[1m method       \u001b[0m\u001b[1m N     \u001b[0m\u001b[1m T     \u001b[0m\u001b[1m c     \u001b[0m\u001b[1m res_budget_μ \u001b[0m\u001b[1m objective   \u001b[0m\u001b[1m nᵣ    \u001b[0m\u001b[1m expected_res \u001b[0m\u001b[1m mean_r  \u001b[0m\u001b[1m median_r \u001b[0m\u001b[1m min_r \u001b[0m\u001b[1m max_r \u001b[0m\u001b[1m mean_u  \u001b[0m\u001b[1m median_u \u001b[0m\u001b[1m min_u \u001b[0m\u001b[1m max_u \u001b[0m\u001b[1m mean_nₛ \u001b[0m\u001b[1m median_nₛ \u001b[0m\u001b[1m min_nₛ \u001b[0m\u001b[1m max_nₛ \u001b[0m\u001b[1m mean_n\u001b[0m ⋯\n",
       "\u001b[1m     \u001b[0m│\u001b[90m String       \u001b[0m\u001b[90m Int64 \u001b[0m\u001b[90m Int64 \u001b[0m\u001b[90m Int64 \u001b[0m\u001b[90m Float64      \u001b[0m\u001b[90m Symbol      \u001b[0m\u001b[90m Int64 \u001b[0m\u001b[90m Float64      \u001b[0m\u001b[90m Float64 \u001b[0m\u001b[90m Float64  \u001b[0m\u001b[90m Any   \u001b[0m\u001b[90m Any   \u001b[0m\u001b[90m Float64 \u001b[0m\u001b[90m Float64  \u001b[0m\u001b[90m Any   \u001b[0m\u001b[90m Any   \u001b[0m\u001b[90m Float64 \u001b[0m\u001b[90m Float64   \u001b[0m\u001b[90m Any    \u001b[0m\u001b[90m Any    \u001b[0m\u001b[90m Float6\u001b[0m ⋯\n",
       "─────┼──────────────────────────────────────────────────────────────────────────────────────────────────────────────────────────────────────────────────────────────────────────────────────────────────\n",
       "   1 │ fhvi_            10     10      3           5.0  revenue          3           3.0    10.25      8.75  0.0    22.5       2.4       2.0  0      5          1.6        1.5  0       4           2. ⋯\n",
       "   2 │ fhvi_            10     10      3           5.0  utilization      3           3.0     3.6       3.0   1.0    8.0        3.6       3.0  1      8          2.4        2.0  1       6           2.\n",
       "   3 │ flatrate_        10     10      3           5.0  revenue          3           3.0     8.0       7.5   0.0    20.0       2.4       2.0  0      5          1.6        1.5  0       4           2.\n",
       "   4 │ flatrate_        10     10      3           5.0  utilization      3           3.0     3.3       3.0   0.0    7.0        3.3       3.0  0      7          2.1        2.0  0       5           2.\n",
       "   5 │ hindsight_       10     10      3           5.0  revenue          3           3.0    13.5      10.0   5.0    32.5       2.8       2.5  1      6          1.9        2.0  1       4           2. ⋯\n",
       "   6 │ hindsight_       10     10      3           5.0  utilization      3           3.0     3.6       3.0   1.0    8.0        3.6       3.0  1      8          2.4        2.0  1       6           2.\n",
       "   7 │ mcts_dpw         10     10      3           5.0  revenue          3           3.0     8.75      6.25  0.0    27.5       2.0       1.5  0      5          1.4        1.5  0       4           2.\n",
       "   8 │ mcts_dpw         10     10      3           5.0  utilization      3           3.0     3.1       2.5   0.0    8.0        3.1       2.5  0      8          2.1        2.0  0       6           2.\n",
       "   9 │ mcts_vanilla     10     10      3           5.0  revenue          3           3.0     9.25      6.25  2.5    20.0       2.4       2.0  1      5          1.6        1.0  1       4           2. ⋯\n",
       "  10 │ mcts_vanilla     10     10      3           5.0  utilization      3           3.0     3.6       3.0   1.0    8.0        3.6       3.0  1      8          2.4        2.0  1       6           2.\n",
       "  11 │ vi_              10     10      3           5.0  revenue          3           3.0    10.25      8.75  0.0    22.5       2.4       2.0  0      5          1.6        1.5  0       4           2.\n",
       "  12 │ vi_              10     10      3           5.0  utilization      3           3.0     3.6       3.0   1.0    8.0        3.6       3.0  1      8          2.4        2.0  1       6           2.\n",
       "\u001b[36m                                                                                                                                                                                       4 columns omitted\u001b[0m"
      ]
     },
     "execution_count": 37,
     "metadata": {},
     "output_type": "execute_result"
    }
   ],
   "source": [
    "results"
   ]
  },
  {
   "cell_type": "code",
   "execution_count": 36,
   "metadata": {},
   "outputs": [
    {
     "data": {
      "text/html": [
       "<table class=\"data-frame\"><thead><tr><th></th><th>method</th><th>N</th><th>objective</th><th>mean_r</th><th>mean_u</th><th>objective_1</th><th>mean_r_1</th><th>mean_u_1</th></tr><tr><th></th><th>String?</th><th>Int64?</th><th>Symbol?</th><th>Float64?</th><th>Float64?</th><th>Symbol?</th><th>Float64?</th><th>Float64?</th></tr></thead><tbody><p>6 rows × 8 columns</p><tr><th>1</th><td>flatrate_</td><td>10</td><td>revenue</td><td>8.0</td><td>2.4</td><td>utilization</td><td>3.3</td><td>3.3</td></tr><tr><th>2</th><td>mcts_dpw</td><td>10</td><td>revenue</td><td>8.75</td><td>2.0</td><td>utilization</td><td>3.1</td><td>3.1</td></tr><tr><th>3</th><td>mcts_vanilla</td><td>10</td><td>revenue</td><td>9.25</td><td>2.4</td><td>utilization</td><td>3.6</td><td>3.6</td></tr><tr><th>4</th><td>vi_</td><td>10</td><td>revenue</td><td>10.25</td><td>2.4</td><td>utilization</td><td>3.6</td><td>3.6</td></tr><tr><th>5</th><td>fhvi_</td><td>10</td><td>revenue</td><td>10.25</td><td>2.4</td><td>utilization</td><td>3.6</td><td>3.6</td></tr><tr><th>6</th><td>hindsight_</td><td>10</td><td>revenue</td><td>13.5</td><td>2.8</td><td>utilization</td><td>3.6</td><td>3.6</td></tr></tbody></table>"
      ],
      "text/latex": [
       "\\begin{tabular}{r|cccccccc}\n",
       "\t& method & N & objective & mean\\_r & mean\\_u & objective\\_1 & mean\\_r\\_1 & mean\\_u\\_1\\\\\n",
       "\t\\hline\n",
       "\t& String? & Int64? & Symbol? & Float64? & Float64? & Symbol? & Float64? & Float64?\\\\\n",
       "\t\\hline\n",
       "\t1 & flatrate\\_ & 10 & revenue & 8.0 & 2.4 & utilization & 3.3 & 3.3 \\\\\n",
       "\t2 & mcts\\_dpw & 10 & revenue & 8.75 & 2.0 & utilization & 3.1 & 3.1 \\\\\n",
       "\t3 & mcts\\_vanilla & 10 & revenue & 9.25 & 2.4 & utilization & 3.6 & 3.6 \\\\\n",
       "\t4 & vi\\_ & 10 & revenue & 10.25 & 2.4 & utilization & 3.6 & 3.6 \\\\\n",
       "\t5 & fhvi\\_ & 10 & revenue & 10.25 & 2.4 & utilization & 3.6 & 3.6 \\\\\n",
       "\t6 & hindsight\\_ & 10 & revenue & 13.5 & 2.8 & utilization & 3.6 & 3.6 \\\\\n",
       "\\end{tabular}\n"
      ],
      "text/plain": [
       "\u001b[1m6×8 DataFrame\u001b[0m\n",
       "\u001b[1m Row \u001b[0m│\u001b[1m method       \u001b[0m\u001b[1m N      \u001b[0m\u001b[1m objective \u001b[0m\u001b[1m mean_r   \u001b[0m\u001b[1m mean_u   \u001b[0m\u001b[1m objective_1 \u001b[0m\u001b[1m mean_r_1 \u001b[0m\u001b[1m mean_u_1 \u001b[0m\n",
       "\u001b[1m     \u001b[0m│\u001b[90m String?      \u001b[0m\u001b[90m Int64? \u001b[0m\u001b[90m Symbol?   \u001b[0m\u001b[90m Float64? \u001b[0m\u001b[90m Float64? \u001b[0m\u001b[90m Symbol?     \u001b[0m\u001b[90m Float64? \u001b[0m\u001b[90m Float64? \u001b[0m\n",
       "─────┼──────────────────────────────────────────────────────────────────────────────────────\n",
       "   1 │ flatrate_         10  revenue        8.0        2.4  utilization       3.3       3.3\n",
       "   2 │ mcts_dpw          10  revenue        8.75       2.0  utilization       3.1       3.1\n",
       "   3 │ mcts_vanilla      10  revenue        9.25       2.4  utilization       3.6       3.6\n",
       "   4 │ vi_               10  revenue       10.25       2.4  utilization       3.6       3.6\n",
       "   5 │ fhvi_             10  revenue       10.25       2.4  utilization       3.6       3.6\n",
       "   6 │ hindsight_        10  revenue       13.5        2.8  utilization       3.6       3.6"
      ]
     },
     "execution_count": 36,
     "metadata": {},
     "output_type": "execute_result"
    }
   ],
   "source": [
    "df10 = filter(:N => N->N==10, results)\n",
    "gps = groupby(df10, [:objective])\n",
    "\n",
    "restable = outerjoin([select(gr, [:method, :N, :objective, :mean_r, :mean_u]) for gr in gps]...; on=[:method, :N], makeunique=true)\n",
    "restable = restable[[2,4,5,6,1,3], :]"
   ]
  },
  {
   "cell_type": "code",
   "execution_count": 16,
   "metadata": {},
   "outputs": [
    {
     "ename": "LoadError",
     "evalue": "MethodError: no method matching outerjoin(::DataFrame; on=[:method, :N, :objective], makeunique=true)\nClosest candidates are:\n  outerjoin(::AbstractDataFrame, !Matched::AbstractDataFrame; on, makeunique, indicator, validate, renamecols, matchmissing) at /home/mrkos/.julia/packages/DataFrames/oQ5c7/src/abstractdataframe/join.jl:997\n  outerjoin(::AbstractDataFrame, !Matched::AbstractDataFrame, !Matched::AbstractDataFrame...; on, makeunique, validate, matchmissing) at /home/mrkos/.julia/packages/DataFrames/oQ5c7/src/abstractdataframe/join.jl:1015",
     "output_type": "error",
     "traceback": [
      "MethodError: no method matching outerjoin(::DataFrame; on=[:method, :N, :objective], makeunique=true)\nClosest candidates are:\n  outerjoin(::AbstractDataFrame, !Matched::AbstractDataFrame; on, makeunique, indicator, validate, renamecols, matchmissing) at /home/mrkos/.julia/packages/DataFrames/oQ5c7/src/abstractdataframe/join.jl:997\n  outerjoin(::AbstractDataFrame, !Matched::AbstractDataFrame, !Matched::AbstractDataFrame...; on, makeunique, validate, matchmissing) at /home/mrkos/.julia/packages/DataFrames/oQ5c7/src/abstractdataframe/join.jl:1015",
      "",
      "Stacktrace:",
      " [1] top-level scope at In[16]:5",
      " [2] include_string(::Function, ::Module, ::String, ::String) at ./loading.jl:1091"
     ]
    }
   ],
   "source": [
    "df10 = filter(:N => N->N==10, results)\n",
    "# df10 = results\n",
    "gps = groupby(df10, [:T, :c, :nᵣ])\n",
    "\n",
    "restable = outerjoin([select(gr, [:method, :N, :objective, :mean_r, :mean_u]) for gr in gps]...; on=[:method, :N, :objective], makeunique=true)\n",
    "# restable = restable[[1,4,3,5,2], :]\n",
    "restable = coalesce.(restable, 0) # replace missing values with 0"
   ]
  },
  {
   "cell_type": "code",
   "execution_count": 70,
   "metadata": {},
   "outputs": [
    {
     "data": {
      "text/latex": [
       "\\begin{tabular}{ccccc}\n",
       "$method$ & $mean_{r}$ & $mean_{r\\_1}$ & $mean_{r\\_2}$ & $mean_{r\\_3}$\\\\\n",
       "$flatrate_{}$ & $6.75$ & $91.5$ & $883.5$ & $4092.0$\\\\\n",
       "$mcts_{vanilla}$ & $4.75$ & $154.75$ & $1172.25$ & $5450.5$\\\\\n",
       "$mcts_{dpw}$ & $7.5$ & $151.0$ & $1208.0$ & $5470.75$\\\\\n",
       "$vi_{}$ & $8.0$ & $0.0$ & $0.0$ & $0.0$\\\\\n",
       "$hindsight_{}$ & $12.25$ & $227.5$ & $1930.25$ & $9056.25$\\\\\n",
       "\\end{tabular}\n"
      ],
      "text/plain": [
       "L\"\\begin{tabular}{ccccc}\n",
       "$method$ & $mean_{r}$ & $mean_{r\\_1}$ & $mean_{r\\_2}$ & $mean_{r\\_3}$\\\\\n",
       "$flatrate_{}$ & $6.75$ & $91.5$ & $883.5$ & $4092.0$\\\\\n",
       "$mcts_{vanilla}$ & $4.75$ & $154.75$ & $1172.25$ & $5450.5$\\\\\n",
       "$mcts_{dpw}$ & $7.5$ & $151.0$ & $1208.0$ & $5470.75$\\\\\n",
       "$vi_{}$ & $8.0$ & $0.0$ & $0.0$ & $0.0$\\\\\n",
       "$hindsight_{}$ & $12.25$ & $227.5$ & $1930.25$ & $9056.25$\\\\\n",
       "\\end{tabular}\n",
       "\""
      ]
     },
     "execution_count": 70,
     "metadata": {},
     "output_type": "execute_result"
    }
   ],
   "source": [
    "latexify(restable; env=:tabular)"
   ]
  },
  {
   "cell_type": "markdown",
   "metadata": {},
   "source": [
    "## Graph problems"
   ]
  },
  {
   "cell_type": "code",
   "execution_count": 170,
   "metadata": {},
   "outputs": [
    {
     "data": {
      "text/html": [
       "<table class=\"data-frame\"><thead><tr><th></th><th>method</th><th>N</th><th>NE</th><th>NP</th><th>NV</th><th>T</th><th>c</th><th>expected_res</th><th>objective</th><th>res_budget_μ</th><th>seed</th><th>mean_r</th><th>median_r</th><th>min_r</th><th>max_r</th><th>mean_u</th><th>median_u</th><th>min_u</th><th>max_u</th><th>mean_nₛ</th><th>median_nₛ</th><th>min_nₛ</th></tr><tr><th></th><th>String</th><th>Int64</th><th>Int64</th><th>Int64</th><th>Int64</th><th>Int64</th><th>Int64</th><th>Float64</th><th>Symbol</th><th>Float64</th><th>Int64</th><th>Float64</th><th>Float64</th><th>Any</th><th>Any</th><th>Float64</th><th>Float64</th><th>Any</th><th>Any</th><th>Float64</th><th>Float64</th><th>Any</th></tr></thead><tbody><p>22 rows × 27 columns (omitted printing of 5 columns)</p><tr><th>1</th><td>flatrate_</td><td>100</td><td>8</td><td>20</td><td>5</td><td>100</td><td>5</td><td>80.0</td><td>utilization</td><td>5.0</td><td>1</td><td>74.3</td><td>70.0</td><td>50.0</td><td>100.0</td><td>21.07</td><td>21.0</td><td>15</td><td>26</td><td>7.43</td><td>7.0</td><td>5</td></tr><tr><th>2</th><td>flatrate_</td><td>10</td><td>8</td><td>20</td><td>5</td><td>100</td><td>5</td><td>80.0</td><td>utilization</td><td>5.0</td><td>1</td><td>81.0</td><td>80.0</td><td>60.0</td><td>100.0</td><td>23.0</td><td>24.0</td><td>19</td><td>24</td><td>8.1</td><td>8.0</td><td>6</td></tr><tr><th>3</th><td>flatrate_</td><td>10</td><td>8</td><td>20</td><td>5</td><td>100</td><td>5</td><td>80.0</td><td>revenue</td><td>5.0</td><td>1</td><td>79.0</td><td>80.0</td><td>60.0</td><td>100.0</td><td>22.5</td><td>23.0</td><td>19</td><td>25</td><td>7.9</td><td>8.0</td><td>6</td></tr><tr><th>4</th><td>flatrate_</td><td>10</td><td>20</td><td>50</td><td>8</td><td>1000</td><td>10</td><td>400.0</td><td>utilization</td><td>5.0</td><td>1</td><td>418.5</td><td>412.5</td><td>390.0</td><td>480.0</td><td>118.2</td><td>118.0</td><td>104</td><td>131</td><td>27.9</td><td>27.5</td><td>26</td></tr><tr><th>5</th><td>flatrate_</td><td>10</td><td>20</td><td>50</td><td>8</td><td>1000</td><td>10</td><td>400.0</td><td>revenue</td><td>5.0</td><td>1</td><td>421.5</td><td>412.5</td><td>390.0</td><td>480.0</td><td>118.5</td><td>118.0</td><td>104</td><td>134</td><td>28.1</td><td>27.5</td><td>26</td></tr><tr><th>6</th><td>flatrate_</td><td>10</td><td>30</td><td>100</td><td>15</td><td>1000</td><td>10</td><td>600.0</td><td>utilization</td><td>5.0</td><td>1</td><td>462.5</td><td>456.25</td><td>387.5</td><td>525.0</td><td>135.4</td><td>137.0</td><td>117</td><td>152</td><td>37.0</td><td>36.5</td><td>31</td></tr><tr><th>7</th><td>flatrate_</td><td>10</td><td>30</td><td>100</td><td>15</td><td>1000</td><td>10</td><td>600.0</td><td>revenue</td><td>5.0</td><td>1</td><td>461.25</td><td>456.25</td><td>387.5</td><td>525.0</td><td>135.1</td><td>137.0</td><td>117</td><td>152</td><td>36.9</td><td>36.5</td><td>31</td></tr><tr><th>8</th><td>flatrate_</td><td>10</td><td>45</td><td>100</td><td>30</td><td>1000</td><td>10</td><td>900.0</td><td>utilization</td><td>5.0</td><td>1</td><td>717.0</td><td>712.5</td><td>645.0</td><td>855.0</td><td>226.0</td><td>230.5</td><td>199</td><td>247</td><td>47.8</td><td>47.5</td><td>43</td></tr><tr><th>9</th><td>flatrate_</td><td>10</td><td>45</td><td>100</td><td>30</td><td>1000</td><td>10</td><td>900.0</td><td>revenue</td><td>5.0</td><td>1</td><td>711.0</td><td>705.0</td><td>645.0</td><td>855.0</td><td>224.5</td><td>227.5</td><td>199</td><td>248</td><td>47.4</td><td>47.0</td><td>43</td></tr><tr><th>10</th><td>hindsight_</td><td>100</td><td>8</td><td>20</td><td>5</td><td>100</td><td>5</td><td>80.0</td><td>utilization</td><td>5.0</td><td>1</td><td>145.725</td><td>147.5</td><td>115.0</td><td>182.5</td><td>28.85</td><td>29.0</td><td>22</td><td>34</td><td>12.45</td><td>12.0</td><td>8</td></tr><tr><th>11</th><td>hindsight_</td><td>10</td><td>8</td><td>20</td><td>5</td><td>100</td><td>5</td><td>80.0</td><td>utilization</td><td>5.0</td><td>1</td><td>154.0</td><td>153.75</td><td>142.5</td><td>167.5</td><td>29.2</td><td>29.0</td><td>27</td><td>32</td><td>12.6</td><td>12.5</td><td>11</td></tr><tr><th>12</th><td>hindsight_</td><td>10</td><td>20</td><td>50</td><td>8</td><td>1000</td><td>10</td><td>400.0</td><td>utilization</td><td>5.0</td><td>1</td><td>771.0</td><td>771.25</td><td>702.5</td><td>835.0</td><td>155.9</td><td>155.5</td><td>146</td><td>167</td><td>41.4</td><td>41.5</td><td>38</td></tr><tr><th>13</th><td>hindsight_</td><td>10</td><td>30</td><td>100</td><td>15</td><td>1000</td><td>10</td><td>600.0</td><td>utilization</td><td>5.0</td><td>1</td><td>907.25</td><td>915.0</td><td>837.5</td><td>965.0</td><td>180.5</td><td>180.5</td><td>172</td><td>194</td><td>54.5</td><td>53.5</td><td>49</td></tr><tr><th>14</th><td>hindsight_</td><td>10</td><td>45</td><td>100</td><td>30</td><td>1000</td><td>10</td><td>900.0</td><td>utilization</td><td>5.0</td><td>1</td><td>1478.5</td><td>1478.75</td><td>1415.0</td><td>1550.0</td><td>294.3</td><td>293.5</td><td>286</td><td>304</td><td>78.9</td><td>79.5</td><td>72</td></tr><tr><th>15</th><td>mcts_dpw</td><td>10</td><td>8</td><td>20</td><td>5</td><td>100</td><td>5</td><td>80.0</td><td>utilization</td><td>5.0</td><td>1</td><td>101.75</td><td>100.0</td><td>72.5</td><td>120.0</td><td>23.8</td><td>23.0</td><td>21</td><td>27</td><td>9.3</td><td>9.0</td><td>7</td></tr><tr><th>16</th><td>mcts_dpw</td><td>10</td><td>20</td><td>50</td><td>8</td><td>1000</td><td>10</td><td>400.0</td><td>utilization</td><td>5.0</td><td>1</td><td>465.25</td><td>471.25</td><td>350.0</td><td>540.0</td><td>122.9</td><td>123.0</td><td>106</td><td>140</td><td>31.5</td><td>31.0</td><td>27</td></tr><tr><th>17</th><td>mcts_dpw</td><td>10</td><td>30</td><td>100</td><td>15</td><td>1000</td><td>10</td><td>600.0</td><td>utilization</td><td>5.0</td><td>1</td><td>519.75</td><td>528.75</td><td>457.5</td><td>590.0</td><td>137.1</td><td>136.5</td><td>122</td><td>152</td><td>39.5</td><td>39.5</td><td>36</td></tr><tr><th>18</th><td>mcts_dpw</td><td>10</td><td>45</td><td>100</td><td>30</td><td>1000</td><td>10</td><td>900.0</td><td>utilization</td><td>5.0</td><td>1</td><td>873.25</td><td>901.25</td><td>780.0</td><td>950.0</td><td>232.3</td><td>234.0</td><td>216</td><td>248</td><td>56.6</td><td>57.0</td><td>52</td></tr><tr><th>19</th><td>mcts_vanilla</td><td>10</td><td>8</td><td>20</td><td>5</td><td>100</td><td>5</td><td>80.0</td><td>utilization</td><td>5.0</td><td>1</td><td>99.25</td><td>98.75</td><td>85.0</td><td>107.5</td><td>24.7</td><td>25.0</td><td>22</td><td>27</td><td>9.5</td><td>10.0</td><td>7</td></tr><tr><th>20</th><td>mcts_vanilla</td><td>10</td><td>20</td><td>50</td><td>8</td><td>1000</td><td>10</td><td>400.0</td><td>utilization</td><td>5.0</td><td>1</td><td>453.75</td><td>463.75</td><td>375.0</td><td>517.5</td><td>124.1</td><td>126.5</td><td>98</td><td>141</td><td>31.2</td><td>31.0</td><td>24</td></tr><tr><th>21</th><td>mcts_vanilla</td><td>10</td><td>30</td><td>100</td><td>15</td><td>1000</td><td>10</td><td>600.0</td><td>utilization</td><td>5.0</td><td>1</td><td>528.75</td><td>522.5</td><td>490.0</td><td>595.0</td><td>145.2</td><td>144.0</td><td>134</td><td>158</td><td>41.2</td><td>41.0</td><td>36</td></tr><tr><th>22</th><td>mcts_vanilla</td><td>10</td><td>45</td><td>100</td><td>30</td><td>1000</td><td>10</td><td>900.0</td><td>utilization</td><td>5.0</td><td>1</td><td>839.5</td><td>853.75</td><td>750.0</td><td>905.0</td><td>235.5</td><td>238.5</td><td>213</td><td>253</td><td>57.2</td><td>57.5</td><td>52</td></tr></tbody></table>"
      ],
      "text/latex": [
       "\\begin{tabular}{r|ccccccccccccccccccccccc}\n",
       "\t& method & N & NE & NP & NV & T & c & expected\\_res & objective & res\\_budget\\_μ & seed & mean\\_r & median\\_r & min\\_r & max\\_r & mean\\_u & median\\_u & min\\_u & max\\_u & mean\\_nₛ & median\\_nₛ & min\\_nₛ & \\\\\n",
       "\t\\hline\n",
       "\t& String & Int64 & Int64 & Int64 & Int64 & Int64 & Int64 & Float64 & Symbol & Float64 & Int64 & Float64 & Float64 & Any & Any & Float64 & Float64 & Any & Any & Float64 & Float64 & Any & \\\\\n",
       "\t\\hline\n",
       "\t1 & flatrate\\_ & 100 & 8 & 20 & 5 & 100 & 5 & 80.0 & utilization & 5.0 & 1 & 74.3 & 70.0 & 50.0 & 100.0 & 21.07 & 21.0 & 15 & 26 & 7.43 & 7.0 & 5 & $\\dots$ \\\\\n",
       "\t2 & flatrate\\_ & 10 & 8 & 20 & 5 & 100 & 5 & 80.0 & utilization & 5.0 & 1 & 81.0 & 80.0 & 60.0 & 100.0 & 23.0 & 24.0 & 19 & 24 & 8.1 & 8.0 & 6 & $\\dots$ \\\\\n",
       "\t3 & flatrate\\_ & 10 & 8 & 20 & 5 & 100 & 5 & 80.0 & revenue & 5.0 & 1 & 79.0 & 80.0 & 60.0 & 100.0 & 22.5 & 23.0 & 19 & 25 & 7.9 & 8.0 & 6 & $\\dots$ \\\\\n",
       "\t4 & flatrate\\_ & 10 & 20 & 50 & 8 & 1000 & 10 & 400.0 & utilization & 5.0 & 1 & 418.5 & 412.5 & 390.0 & 480.0 & 118.2 & 118.0 & 104 & 131 & 27.9 & 27.5 & 26 & $\\dots$ \\\\\n",
       "\t5 & flatrate\\_ & 10 & 20 & 50 & 8 & 1000 & 10 & 400.0 & revenue & 5.0 & 1 & 421.5 & 412.5 & 390.0 & 480.0 & 118.5 & 118.0 & 104 & 134 & 28.1 & 27.5 & 26 & $\\dots$ \\\\\n",
       "\t6 & flatrate\\_ & 10 & 30 & 100 & 15 & 1000 & 10 & 600.0 & utilization & 5.0 & 1 & 462.5 & 456.25 & 387.5 & 525.0 & 135.4 & 137.0 & 117 & 152 & 37.0 & 36.5 & 31 & $\\dots$ \\\\\n",
       "\t7 & flatrate\\_ & 10 & 30 & 100 & 15 & 1000 & 10 & 600.0 & revenue & 5.0 & 1 & 461.25 & 456.25 & 387.5 & 525.0 & 135.1 & 137.0 & 117 & 152 & 36.9 & 36.5 & 31 & $\\dots$ \\\\\n",
       "\t8 & flatrate\\_ & 10 & 45 & 100 & 30 & 1000 & 10 & 900.0 & utilization & 5.0 & 1 & 717.0 & 712.5 & 645.0 & 855.0 & 226.0 & 230.5 & 199 & 247 & 47.8 & 47.5 & 43 & $\\dots$ \\\\\n",
       "\t9 & flatrate\\_ & 10 & 45 & 100 & 30 & 1000 & 10 & 900.0 & revenue & 5.0 & 1 & 711.0 & 705.0 & 645.0 & 855.0 & 224.5 & 227.5 & 199 & 248 & 47.4 & 47.0 & 43 & $\\dots$ \\\\\n",
       "\t10 & hindsight\\_ & 100 & 8 & 20 & 5 & 100 & 5 & 80.0 & utilization & 5.0 & 1 & 145.725 & 147.5 & 115.0 & 182.5 & 28.85 & 29.0 & 22 & 34 & 12.45 & 12.0 & 8 & $\\dots$ \\\\\n",
       "\t11 & hindsight\\_ & 10 & 8 & 20 & 5 & 100 & 5 & 80.0 & utilization & 5.0 & 1 & 154.0 & 153.75 & 142.5 & 167.5 & 29.2 & 29.0 & 27 & 32 & 12.6 & 12.5 & 11 & $\\dots$ \\\\\n",
       "\t12 & hindsight\\_ & 10 & 20 & 50 & 8 & 1000 & 10 & 400.0 & utilization & 5.0 & 1 & 771.0 & 771.25 & 702.5 & 835.0 & 155.9 & 155.5 & 146 & 167 & 41.4 & 41.5 & 38 & $\\dots$ \\\\\n",
       "\t13 & hindsight\\_ & 10 & 30 & 100 & 15 & 1000 & 10 & 600.0 & utilization & 5.0 & 1 & 907.25 & 915.0 & 837.5 & 965.0 & 180.5 & 180.5 & 172 & 194 & 54.5 & 53.5 & 49 & $\\dots$ \\\\\n",
       "\t14 & hindsight\\_ & 10 & 45 & 100 & 30 & 1000 & 10 & 900.0 & utilization & 5.0 & 1 & 1478.5 & 1478.75 & 1415.0 & 1550.0 & 294.3 & 293.5 & 286 & 304 & 78.9 & 79.5 & 72 & $\\dots$ \\\\\n",
       "\t15 & mcts\\_dpw & 10 & 8 & 20 & 5 & 100 & 5 & 80.0 & utilization & 5.0 & 1 & 101.75 & 100.0 & 72.5 & 120.0 & 23.8 & 23.0 & 21 & 27 & 9.3 & 9.0 & 7 & $\\dots$ \\\\\n",
       "\t16 & mcts\\_dpw & 10 & 20 & 50 & 8 & 1000 & 10 & 400.0 & utilization & 5.0 & 1 & 465.25 & 471.25 & 350.0 & 540.0 & 122.9 & 123.0 & 106 & 140 & 31.5 & 31.0 & 27 & $\\dots$ \\\\\n",
       "\t17 & mcts\\_dpw & 10 & 30 & 100 & 15 & 1000 & 10 & 600.0 & utilization & 5.0 & 1 & 519.75 & 528.75 & 457.5 & 590.0 & 137.1 & 136.5 & 122 & 152 & 39.5 & 39.5 & 36 & $\\dots$ \\\\\n",
       "\t18 & mcts\\_dpw & 10 & 45 & 100 & 30 & 1000 & 10 & 900.0 & utilization & 5.0 & 1 & 873.25 & 901.25 & 780.0 & 950.0 & 232.3 & 234.0 & 216 & 248 & 56.6 & 57.0 & 52 & $\\dots$ \\\\\n",
       "\t19 & mcts\\_vanilla & 10 & 8 & 20 & 5 & 100 & 5 & 80.0 & utilization & 5.0 & 1 & 99.25 & 98.75 & 85.0 & 107.5 & 24.7 & 25.0 & 22 & 27 & 9.5 & 10.0 & 7 & $\\dots$ \\\\\n",
       "\t20 & mcts\\_vanilla & 10 & 20 & 50 & 8 & 1000 & 10 & 400.0 & utilization & 5.0 & 1 & 453.75 & 463.75 & 375.0 & 517.5 & 124.1 & 126.5 & 98 & 141 & 31.2 & 31.0 & 24 & $\\dots$ \\\\\n",
       "\t21 & mcts\\_vanilla & 10 & 30 & 100 & 15 & 1000 & 10 & 600.0 & utilization & 5.0 & 1 & 528.75 & 522.5 & 490.0 & 595.0 & 145.2 & 144.0 & 134 & 158 & 41.2 & 41.0 & 36 & $\\dots$ \\\\\n",
       "\t22 & mcts\\_vanilla & 10 & 45 & 100 & 30 & 1000 & 10 & 900.0 & utilization & 5.0 & 1 & 839.5 & 853.75 & 750.0 & 905.0 & 235.5 & 238.5 & 213 & 253 & 57.2 & 57.5 & 52 & $\\dots$ \\\\\n",
       "\\end{tabular}\n"
      ],
      "text/plain": [
       "\u001b[1m22×27 DataFrame\u001b[0m\n",
       "\u001b[1m Row \u001b[0m│\u001b[1m method       \u001b[0m\u001b[1m N     \u001b[0m\u001b[1m NE    \u001b[0m\u001b[1m NP    \u001b[0m\u001b[1m NV    \u001b[0m\u001b[1m T     \u001b[0m\u001b[1m c     \u001b[0m\u001b[1m expected_res \u001b[0m\u001b[1m objective   \u001b[0m\u001b[1m res_budget_μ \u001b[0m\u001b[1m seed  \u001b[0m\u001b[1m mean_r   \u001b[0m\u001b[1m median_r \u001b[0m\u001b[1m min_r  \u001b[0m\u001b[1m max_r  \u001b[0m\u001b[1m mean_u  \u001b[0m\u001b[1m median_u \u001b[0m\u001b[1m min_u \u001b[0m\u001b[1m max_u \u001b[0m\u001b[1m mean_nₛ \u001b[0m\u001b[1m median_nₛ\u001b[0m ⋯\n",
       "\u001b[1m     \u001b[0m│\u001b[90m String       \u001b[0m\u001b[90m Int64 \u001b[0m\u001b[90m Int64 \u001b[0m\u001b[90m Int64 \u001b[0m\u001b[90m Int64 \u001b[0m\u001b[90m Int64 \u001b[0m\u001b[90m Int64 \u001b[0m\u001b[90m Float64      \u001b[0m\u001b[90m Symbol      \u001b[0m\u001b[90m Float64      \u001b[0m\u001b[90m Int64 \u001b[0m\u001b[90m Float64  \u001b[0m\u001b[90m Float64  \u001b[0m\u001b[90m Any    \u001b[0m\u001b[90m Any    \u001b[0m\u001b[90m Float64 \u001b[0m\u001b[90m Float64  \u001b[0m\u001b[90m Any   \u001b[0m\u001b[90m Any   \u001b[0m\u001b[90m Float64 \u001b[0m\u001b[90m Float64  \u001b[0m ⋯\n",
       "─────┼──────────────────────────────────────────────────────────────────────────────────────────────────────────────────────────────────────────────────────────────────────────────────────────────────\n",
       "   1 │ flatrate_       100      8     20      5    100      5          80.0  utilization           5.0      1    74.3       70.0   50.0    100.0     21.07      21.0  15     26        7.43        7.0 ⋯\n",
       "   2 │ flatrate_        10      8     20      5    100      5          80.0  utilization           5.0      1    81.0       80.0   60.0    100.0     23.0       24.0  19     24        8.1         8.0\n",
       "   3 │ flatrate_        10      8     20      5    100      5          80.0  revenue               5.0      1    79.0       80.0   60.0    100.0     22.5       23.0  19     25        7.9         8.0\n",
       "   4 │ flatrate_        10     20     50      8   1000     10         400.0  utilization           5.0      1   418.5      412.5   390.0   480.0    118.2      118.0  104    131      27.9        27.5\n",
       "   5 │ flatrate_        10     20     50      8   1000     10         400.0  revenue               5.0      1   421.5      412.5   390.0   480.0    118.5      118.0  104    134      28.1        27.5 ⋯\n",
       "   6 │ flatrate_        10     30    100     15   1000     10         600.0  utilization           5.0      1   462.5      456.25  387.5   525.0    135.4      137.0  117    152      37.0        36.5\n",
       "   7 │ flatrate_        10     30    100     15   1000     10         600.0  revenue               5.0      1   461.25     456.25  387.5   525.0    135.1      137.0  117    152      36.9        36.5\n",
       "   8 │ flatrate_        10     45    100     30   1000     10         900.0  utilization           5.0      1   717.0      712.5   645.0   855.0    226.0      230.5  199    247      47.8        47.5\n",
       "   9 │ flatrate_        10     45    100     30   1000     10         900.0  revenue               5.0      1   711.0      705.0   645.0   855.0    224.5      227.5  199    248      47.4        47.0 ⋯\n",
       "  10 │ hindsight_      100      8     20      5    100      5          80.0  utilization           5.0      1   145.725    147.5   115.0   182.5     28.85      29.0  22     34       12.45       12.0\n",
       "  11 │ hindsight_       10      8     20      5    100      5          80.0  utilization           5.0      1   154.0      153.75  142.5   167.5     29.2       29.0  27     32       12.6        12.5\n",
       "  12 │ hindsight_       10     20     50      8   1000     10         400.0  utilization           5.0      1   771.0      771.25  702.5   835.0    155.9      155.5  146    167      41.4        41.5\n",
       "  13 │ hindsight_       10     30    100     15   1000     10         600.0  utilization           5.0      1   907.25     915.0   837.5   965.0    180.5      180.5  172    194      54.5        53.5 ⋯\n",
       "  14 │ hindsight_       10     45    100     30   1000     10         900.0  utilization           5.0      1  1478.5     1478.75  1415.0  1550.0   294.3      293.5  286    304      78.9        79.5\n",
       "  15 │ mcts_dpw         10      8     20      5    100      5          80.0  utilization           5.0      1   101.75     100.0   72.5    120.0     23.8       23.0  21     27        9.3         9.0\n",
       "  16 │ mcts_dpw         10     20     50      8   1000     10         400.0  utilization           5.0      1   465.25     471.25  350.0   540.0    122.9      123.0  106    140      31.5        31.0\n",
       "  17 │ mcts_dpw         10     30    100     15   1000     10         600.0  utilization           5.0      1   519.75     528.75  457.5   590.0    137.1      136.5  122    152      39.5        39.5 ⋯\n",
       "  18 │ mcts_dpw         10     45    100     30   1000     10         900.0  utilization           5.0      1   873.25     901.25  780.0   950.0    232.3      234.0  216    248      56.6        57.0\n",
       "  19 │ mcts_vanilla     10      8     20      5    100      5          80.0  utilization           5.0      1    99.25      98.75  85.0    107.5     24.7       25.0  22     27        9.5        10.0\n",
       "  20 │ mcts_vanilla     10     20     50      8   1000     10         400.0  utilization           5.0      1   453.75     463.75  375.0   517.5    124.1      126.5  98     141      31.2        31.0\n",
       "  21 │ mcts_vanilla     10     30    100     15   1000     10         600.0  utilization           5.0      1   528.75     522.5   490.0   595.0    145.2      144.0  134    158      41.2        41.0 ⋯\n",
       "  22 │ mcts_vanilla     10     45    100     30   1000     10         900.0  utilization           5.0      1   839.5      853.75  750.0   905.0    235.5      238.5  213    253      57.2        57.5\n",
       "\u001b[36m                                                                                                                                                                                       6 columns omitted\u001b[0m"
      ]
     },
     "execution_count": 170,
     "metadata": {},
     "output_type": "execute_result"
    }
   ],
   "source": [
    "res_folder = joinpath(datadir(), \"results\", \"individual\", \"graph_problem\")\n",
    "res_files = readdir(res_folder)\n",
    "rows = []\n",
    "for res_file in res_files\n",
    "    if res_file[end-4:end]==\".bson\"\n",
    "        res = BSON.load(joinpath(res_folder,res_file))\n",
    "        row = res2row(res)\n",
    "        push!(rows, row)\n",
    "    end\n",
    "end\n",
    "\n",
    "results = vcat(rows...);\n",
    "sort!(results, [:method, :expected_res]);\n",
    "\n",
    "results"
   ]
  },
  {
   "cell_type": "code",
   "execution_count": 173,
   "metadata": {},
   "outputs": [
    {
     "data": {
      "text/html": [
       "<table class=\"data-frame\"><thead><tr><th></th><th>method</th><th>N</th><th>objective</th><th>mean_r</th><th>mean_u</th><th>mean_r_1</th><th>mean_u_1</th><th>mean_r_2</th><th>mean_u_2</th><th>mean_r_3</th><th>mean_u_3</th></tr><tr><th></th><th>String?</th><th>Int64?</th><th>Symbol?</th><th>Float64?</th><th>Float64?</th><th>Float64?</th><th>Float64?</th><th>Float64?</th><th>Float64?</th><th>Float64?</th><th>Float64?</th></tr></thead><tbody><p>5 rows × 11 columns</p><tr><th>1</th><td>flatrate_</td><td>10</td><td>utilization</td><td>81.0</td><td>23.0</td><td>418.5</td><td>118.2</td><td>462.5</td><td>135.4</td><td>717.0</td><td>226.0</td></tr><tr><th>2</th><td>flatrate_</td><td>10</td><td>revenue</td><td>79.0</td><td>22.5</td><td>421.5</td><td>118.5</td><td>461.25</td><td>135.1</td><td>711.0</td><td>224.5</td></tr><tr><th>3</th><td>hindsight_</td><td>10</td><td>utilization</td><td>154.0</td><td>29.2</td><td>771.0</td><td>155.9</td><td>907.25</td><td>180.5</td><td>1478.5</td><td>294.3</td></tr><tr><th>4</th><td>mcts_dpw</td><td>10</td><td>utilization</td><td>101.75</td><td>23.8</td><td>465.25</td><td>122.9</td><td>519.75</td><td>137.1</td><td>873.25</td><td>232.3</td></tr><tr><th>5</th><td>mcts_vanilla</td><td>10</td><td>utilization</td><td>99.25</td><td>24.7</td><td>453.75</td><td>124.1</td><td>528.75</td><td>145.2</td><td>839.5</td><td>235.5</td></tr></tbody></table>"
      ],
      "text/latex": [
       "\\begin{tabular}{r|ccccccccccc}\n",
       "\t& method & N & objective & mean\\_r & mean\\_u & mean\\_r\\_1 & mean\\_u\\_1 & mean\\_r\\_2 & mean\\_u\\_2 & mean\\_r\\_3 & mean\\_u\\_3\\\\\n",
       "\t\\hline\n",
       "\t& String? & Int64? & Symbol? & Float64? & Float64? & Float64? & Float64? & Float64? & Float64? & Float64? & Float64?\\\\\n",
       "\t\\hline\n",
       "\t1 & flatrate\\_ & 10 & utilization & 81.0 & 23.0 & 418.5 & 118.2 & 462.5 & 135.4 & 717.0 & 226.0 \\\\\n",
       "\t2 & flatrate\\_ & 10 & revenue & 79.0 & 22.5 & 421.5 & 118.5 & 461.25 & 135.1 & 711.0 & 224.5 \\\\\n",
       "\t3 & hindsight\\_ & 10 & utilization & 154.0 & 29.2 & 771.0 & 155.9 & 907.25 & 180.5 & 1478.5 & 294.3 \\\\\n",
       "\t4 & mcts\\_dpw & 10 & utilization & 101.75 & 23.8 & 465.25 & 122.9 & 519.75 & 137.1 & 873.25 & 232.3 \\\\\n",
       "\t5 & mcts\\_vanilla & 10 & utilization & 99.25 & 24.7 & 453.75 & 124.1 & 528.75 & 145.2 & 839.5 & 235.5 \\\\\n",
       "\\end{tabular}\n"
      ],
      "text/plain": [
       "\u001b[1m5×11 DataFrame\u001b[0m\n",
       "\u001b[1m Row \u001b[0m│\u001b[1m method       \u001b[0m\u001b[1m N      \u001b[0m\u001b[1m objective   \u001b[0m\u001b[1m mean_r   \u001b[0m\u001b[1m mean_u   \u001b[0m\u001b[1m mean_r_1 \u001b[0m\u001b[1m mean_u_1 \u001b[0m\u001b[1m mean_r_2 \u001b[0m\u001b[1m mean_u_2 \u001b[0m\u001b[1m mean_r_3 \u001b[0m\u001b[1m mean_u_3 \u001b[0m\n",
       "\u001b[1m     \u001b[0m│\u001b[90m String?      \u001b[0m\u001b[90m Int64? \u001b[0m\u001b[90m Symbol?     \u001b[0m\u001b[90m Float64? \u001b[0m\u001b[90m Float64? \u001b[0m\u001b[90m Float64? \u001b[0m\u001b[90m Float64? \u001b[0m\u001b[90m Float64? \u001b[0m\u001b[90m Float64? \u001b[0m\u001b[90m Float64? \u001b[0m\u001b[90m Float64? \u001b[0m\n",
       "─────┼───────────────────────────────────────────────────────────────────────────────────────────────────────────────────\n",
       "   1 │ flatrate_         10  utilization     81.0       23.0    418.5      118.2    462.5      135.4    717.0      226.0\n",
       "   2 │ flatrate_         10  revenue         79.0       22.5    421.5      118.5    461.25     135.1    711.0      224.5\n",
       "   3 │ hindsight_        10  utilization    154.0       29.2    771.0      155.9    907.25     180.5   1478.5      294.3\n",
       "   4 │ mcts_dpw          10  utilization    101.75      23.8    465.25     122.9    519.75     137.1    873.25     232.3\n",
       "   5 │ mcts_vanilla      10  utilization     99.25      24.7    453.75     124.1    528.75     145.2    839.5      235.5"
      ]
     },
     "execution_count": 173,
     "metadata": {},
     "output_type": "execute_result"
    }
   ],
   "source": [
    "df10 = filter(:N => N->N==10, results)\n",
    "gps = groupby(df10, [:T, :c, :NE, :NV])\n",
    "\n",
    "# gr = gps[1]\n",
    "# gr[!, :mean_r]\n",
    "restable = outerjoin([select(gr, [:method, :N, :objective, :mean_r, :mean_u]) for gr in gps]...; on=[:method, :N, :objective], makeunique=true)\n",
    "# restable = restable[[1,4,3,2], :]\n",
    "\n",
    "# latexify(restable; env=:tabular)"
   ]
  },
  {
   "cell_type": "markdown",
   "metadata": {},
   "source": [
    "## Bus problems"
   ]
  },
  {
   "cell_type": "code",
   "execution_count": 134,
   "metadata": {},
   "outputs": [
    {
     "data": {
      "text/html": [
       "<table class=\"data-frame\"><thead><tr><th></th><th>method</th><th>N</th><th>T</th><th>c</th><th>expected_requests</th><th>nᵣ</th><th>objective</th><th>res_budget_μ</th><th>mean_r</th><th>median_r</th><th>min_r</th><th>max_r</th><th>mean_u</th><th>median_u</th><th>min_u</th><th>max_u</th><th>mean_nₛ</th><th>median_nₛ</th><th>min_nₛ</th><th>max_nₛ</th><th>mean_nᵣ</th><th>median_nᵣ</th></tr><tr><th></th><th>String</th><th>Int64</th><th>Int64</th><th>Int64</th><th>Int64</th><th>Int64</th><th>Symbol</th><th>Float64</th><th>Float64</th><th>Float64</th><th>Any</th><th>Any</th><th>Float64</th><th>Float64</th><th>Any</th><th>Any</th><th>Float64</th><th>Float64</th><th>Any</th><th>Any</th><th>Float64</th><th>Float64</th></tr></thead><tbody><p>11 rows × 24 columns (omitted printing of 2 columns)</p><tr><th>1</th><td>flatrate_</td><td>10</td><td>1000</td><td>55</td><td>80</td><td>3</td><td>revenue</td><td>5.0</td><td>405.75</td><td>405.0</td><td>375.0</td><td>442.5</td><td>127.4</td><td>129.0</td><td>114</td><td>139</td><td>54.1</td><td>54.0</td><td>50</td><td>59</td><td>80.0</td><td>80.0</td></tr><tr><th>2</th><td>flatrate_</td><td>10</td><td>1000</td><td>55</td><td>80</td><td>3</td><td>revenue</td><td>5.0</td><td>408.75</td><td>408.75</td><td>382.5</td><td>442.5</td><td>128.0</td><td>131.5</td><td>114</td><td>140</td><td>54.5</td><td>54.5</td><td>51</td><td>59</td><td>80.0</td><td>80.0</td></tr><tr><th>3</th><td>flatrate_</td><td>10</td><td>2000</td><td>55</td><td>160</td><td>3</td><td>revenue</td><td>5.0</td><td>452.25</td><td>457.5</td><td>427.5</td><td>472.5</td><td>137.8</td><td>136.0</td><td>134</td><td>147</td><td>60.3</td><td>61.0</td><td>57</td><td>63</td><td>160.0</td><td>160.0</td></tr><tr><th>4</th><td>hindsight_</td><td>10</td><td>1000</td><td>55</td><td>80</td><td>3</td><td>revenue</td><td>5.0</td><td>661.5</td><td>656.25</td><td>630.0</td><td>702.5</td><td>141.3</td><td>143.0</td><td>133</td><td>147</td><td>66.9</td><td>67.0</td><td>63</td><td>69</td><td>80.0</td><td>80.0</td></tr><tr><th>5</th><td>hindsight_</td><td>10</td><td>1000</td><td>55</td><td>80</td><td>3</td><td>revenue</td><td>5.0</td><td>646.25</td><td>646.25</td><td>592.5</td><td>690.0</td><td>140.5</td><td>141.5</td><td>132</td><td>148</td><td>65.9</td><td>66.0</td><td>61</td><td>68</td><td>80.0</td><td>80.0</td></tr><tr><th>6</th><td>hindsight_</td><td>10</td><td>2000</td><td>55</td><td>160</td><td>3</td><td>revenue</td><td>5.0</td><td>851.25</td><td>851.25</td><td>807.5</td><td>875.0</td><td>163.5</td><td>165.0</td><td>157</td><td>165</td><td>72.2</td><td>72.5</td><td>67</td><td>76</td><td>159.3</td><td>160.0</td></tr><tr><th>7</th><td>mcts_dpw</td><td>10</td><td>1000</td><td>55</td><td>80</td><td>3</td><td>revenue</td><td>5.0</td><td>333.0</td><td>337.5</td><td>272.5</td><td>382.5</td><td>94.0</td><td>95.0</td><td>79</td><td>113</td><td>42.4</td><td>41.5</td><td>34</td><td>50</td><td>80.0</td><td>80.0</td></tr><tr><th>8</th><td>mcts_dpw</td><td>10</td><td>1000</td><td>55</td><td>80</td><td>3</td><td>revenue</td><td>5.0</td><td>328.0</td><td>325.0</td><td>277.5</td><td>417.5</td><td>94.6</td><td>93.0</td><td>83</td><td>111</td><td>42.0</td><td>41.0</td><td>39</td><td>48</td><td>80.0</td><td>80.0</td></tr><tr><th>9</th><td>mcts_dpw</td><td>10</td><td>2000</td><td>55</td><td>160</td><td>3</td><td>revenue</td><td>5.0</td><td>518.75</td><td>520.0</td><td>480.0</td><td>560.0</td><td>143.4</td><td>142.0</td><td>136</td><td>152</td><td>65.7</td><td>65.5</td><td>61</td><td>72</td><td>160.0</td><td>160.0</td></tr><tr><th>10</th><td>mcts_vanilla</td><td>10</td><td>1000</td><td>55</td><td>80</td><td>3</td><td>revenue</td><td>5.0</td><td>327.75</td><td>317.5</td><td>255.0</td><td>415.0</td><td>94.4</td><td>93.0</td><td>84</td><td>108</td><td>41.9</td><td>41.0</td><td>38</td><td>46</td><td>80.0</td><td>80.0</td></tr><tr><th>11</th><td>mcts_vanilla</td><td>10</td><td>2000</td><td>55</td><td>160</td><td>3</td><td>revenue</td><td>5.0</td><td>503.25</td><td>511.25</td><td>467.5</td><td>527.5</td><td>144.5</td><td>144.5</td><td>137</td><td>150</td><td>67.4</td><td>68.0</td><td>63</td><td>70</td><td>160.0</td><td>160.0</td></tr></tbody></table>"
      ],
      "text/latex": [
       "\\begin{tabular}{r|ccccccccccccccccccccccc}\n",
       "\t& method & N & T & c & expected\\_requests & nᵣ & objective & res\\_budget\\_μ & mean\\_r & median\\_r & min\\_r & max\\_r & mean\\_u & median\\_u & min\\_u & max\\_u & mean\\_nₛ & median\\_nₛ & min\\_nₛ & max\\_nₛ & mean\\_nᵣ & median\\_nᵣ & \\\\\n",
       "\t\\hline\n",
       "\t& String & Int64 & Int64 & Int64 & Int64 & Int64 & Symbol & Float64 & Float64 & Float64 & Any & Any & Float64 & Float64 & Any & Any & Float64 & Float64 & Any & Any & Float64 & Float64 & \\\\\n",
       "\t\\hline\n",
       "\t1 & flatrate\\_ & 10 & 1000 & 55 & 80 & 3 & revenue & 5.0 & 405.75 & 405.0 & 375.0 & 442.5 & 127.4 & 129.0 & 114 & 139 & 54.1 & 54.0 & 50 & 59 & 80.0 & 80.0 & $\\dots$ \\\\\n",
       "\t2 & flatrate\\_ & 10 & 1000 & 55 & 80 & 3 & revenue & 5.0 & 408.75 & 408.75 & 382.5 & 442.5 & 128.0 & 131.5 & 114 & 140 & 54.5 & 54.5 & 51 & 59 & 80.0 & 80.0 & $\\dots$ \\\\\n",
       "\t3 & flatrate\\_ & 10 & 2000 & 55 & 160 & 3 & revenue & 5.0 & 452.25 & 457.5 & 427.5 & 472.5 & 137.8 & 136.0 & 134 & 147 & 60.3 & 61.0 & 57 & 63 & 160.0 & 160.0 & $\\dots$ \\\\\n",
       "\t4 & hindsight\\_ & 10 & 1000 & 55 & 80 & 3 & revenue & 5.0 & 661.5 & 656.25 & 630.0 & 702.5 & 141.3 & 143.0 & 133 & 147 & 66.9 & 67.0 & 63 & 69 & 80.0 & 80.0 & $\\dots$ \\\\\n",
       "\t5 & hindsight\\_ & 10 & 1000 & 55 & 80 & 3 & revenue & 5.0 & 646.25 & 646.25 & 592.5 & 690.0 & 140.5 & 141.5 & 132 & 148 & 65.9 & 66.0 & 61 & 68 & 80.0 & 80.0 & $\\dots$ \\\\\n",
       "\t6 & hindsight\\_ & 10 & 2000 & 55 & 160 & 3 & revenue & 5.0 & 851.25 & 851.25 & 807.5 & 875.0 & 163.5 & 165.0 & 157 & 165 & 72.2 & 72.5 & 67 & 76 & 159.3 & 160.0 & $\\dots$ \\\\\n",
       "\t7 & mcts\\_dpw & 10 & 1000 & 55 & 80 & 3 & revenue & 5.0 & 333.0 & 337.5 & 272.5 & 382.5 & 94.0 & 95.0 & 79 & 113 & 42.4 & 41.5 & 34 & 50 & 80.0 & 80.0 & $\\dots$ \\\\\n",
       "\t8 & mcts\\_dpw & 10 & 1000 & 55 & 80 & 3 & revenue & 5.0 & 328.0 & 325.0 & 277.5 & 417.5 & 94.6 & 93.0 & 83 & 111 & 42.0 & 41.0 & 39 & 48 & 80.0 & 80.0 & $\\dots$ \\\\\n",
       "\t9 & mcts\\_dpw & 10 & 2000 & 55 & 160 & 3 & revenue & 5.0 & 518.75 & 520.0 & 480.0 & 560.0 & 143.4 & 142.0 & 136 & 152 & 65.7 & 65.5 & 61 & 72 & 160.0 & 160.0 & $\\dots$ \\\\\n",
       "\t10 & mcts\\_vanilla & 10 & 1000 & 55 & 80 & 3 & revenue & 5.0 & 327.75 & 317.5 & 255.0 & 415.0 & 94.4 & 93.0 & 84 & 108 & 41.9 & 41.0 & 38 & 46 & 80.0 & 80.0 & $\\dots$ \\\\\n",
       "\t11 & mcts\\_vanilla & 10 & 2000 & 55 & 160 & 3 & revenue & 5.0 & 503.25 & 511.25 & 467.5 & 527.5 & 144.5 & 144.5 & 137 & 150 & 67.4 & 68.0 & 63 & 70 & 160.0 & 160.0 & $\\dots$ \\\\\n",
       "\\end{tabular}\n"
      ],
      "text/plain": [
       "\u001b[1m11×24 DataFrame\u001b[0m\n",
       "\u001b[1m Row \u001b[0m│\u001b[1m method       \u001b[0m\u001b[1m N     \u001b[0m\u001b[1m T     \u001b[0m\u001b[1m c     \u001b[0m\u001b[1m expected_requests \u001b[0m\u001b[1m nᵣ    \u001b[0m\u001b[1m objective \u001b[0m\u001b[1m res_budget_μ \u001b[0m\u001b[1m mean_r  \u001b[0m\u001b[1m median_r \u001b[0m\u001b[1m min_r \u001b[0m\u001b[1m max_r \u001b[0m\u001b[1m mean_u  \u001b[0m\u001b[1m median_u \u001b[0m\u001b[1m min_u \u001b[0m\u001b[1m max_u \u001b[0m\u001b[1m mean_nₛ \u001b[0m\u001b[1m median_nₛ \u001b[0m\u001b[1m min_nₛ \u001b[0m\u001b[1m max_nₛ \u001b[0m\u001b[1m mea\u001b[0m ⋯\n",
       "\u001b[1m     \u001b[0m│\u001b[90m String       \u001b[0m\u001b[90m Int64 \u001b[0m\u001b[90m Int64 \u001b[0m\u001b[90m Int64 \u001b[0m\u001b[90m Int64             \u001b[0m\u001b[90m Int64 \u001b[0m\u001b[90m Symbol    \u001b[0m\u001b[90m Float64      \u001b[0m\u001b[90m Float64 \u001b[0m\u001b[90m Float64  \u001b[0m\u001b[90m Any   \u001b[0m\u001b[90m Any   \u001b[0m\u001b[90m Float64 \u001b[0m\u001b[90m Float64  \u001b[0m\u001b[90m Any   \u001b[0m\u001b[90m Any   \u001b[0m\u001b[90m Float64 \u001b[0m\u001b[90m Float64   \u001b[0m\u001b[90m Any    \u001b[0m\u001b[90m Any    \u001b[0m\u001b[90m Flo\u001b[0m ⋯\n",
       "─────┼──────────────────────────────────────────────────────────────────────────────────────────────────────────────────────────────────────────────────────────────────────────────────────────────────\n",
       "   1 │ flatrate_        10   1000     55                 80      3  revenue             5.0   405.75    405.0   375.0  442.5    127.4     129.0  114    139       54.1       54.0  50      59          ⋯\n",
       "   2 │ flatrate_        10   1000     55                 80      3  revenue             5.0   408.75    408.75  382.5  442.5    128.0     131.5  114    140       54.5       54.5  51      59\n",
       "   3 │ flatrate_        10   2000     55                160      3  revenue             5.0   452.25    457.5   427.5  472.5    137.8     136.0  134    147       60.3       61.0  57      63        1\n",
       "   4 │ hindsight_       10   1000     55                 80      3  revenue             5.0   661.5     656.25  630.0  702.5    141.3     143.0  133    147       66.9       67.0  63      69\n",
       "   5 │ hindsight_       10   1000     55                 80      3  revenue             5.0   646.25    646.25  592.5  690.0    140.5     141.5  132    148       65.9       66.0  61      68          ⋯\n",
       "   6 │ hindsight_       10   2000     55                160      3  revenue             5.0   851.25    851.25  807.5  875.0    163.5     165.0  157    165       72.2       72.5  67      76        1\n",
       "   7 │ mcts_dpw         10   1000     55                 80      3  revenue             5.0   333.0     337.5   272.5  382.5     94.0      95.0  79     113       42.4       41.5  34      50\n",
       "   8 │ mcts_dpw         10   1000     55                 80      3  revenue             5.0   328.0     325.0   277.5  417.5     94.6      93.0  83     111       42.0       41.0  39      48\n",
       "   9 │ mcts_dpw         10   2000     55                160      3  revenue             5.0   518.75    520.0   480.0  560.0    143.4     142.0  136    152       65.7       65.5  61      72        1 ⋯\n",
       "  10 │ mcts_vanilla     10   1000     55                 80      3  revenue             5.0   327.75    317.5   255.0  415.0     94.4      93.0  84     108       41.9       41.0  38      46\n",
       "  11 │ mcts_vanilla     10   2000     55                160      3  revenue             5.0   503.25    511.25  467.5  527.5    144.5     144.5  137    150       67.4       68.0  63      70        1\n",
       "\u001b[36m                                                                                                                                                                                       4 columns omitted\u001b[0m"
      ]
     },
     "execution_count": 134,
     "metadata": {},
     "output_type": "execute_result"
    }
   ],
   "source": [
    "res_folder = joinpath(datadir(), \"results\", \"individual\", \"bus_problem\")\n",
    "res_files = readdir(res_folder)\n",
    "rows = []\n",
    "for res_file in res_files\n",
    "    if res_file[end-4:end]==\".bson\"\n",
    "        res = BSON.load(joinpath(res_folder,res_file))\n",
    "        row = res2row(res)\n",
    "        push!(rows, row)\n",
    "    end\n",
    "end\n",
    "\n",
    "results = vcat(rows...);\n",
    "sort!(results, [:method, :expected_requests]);\n",
    "\n",
    "results"
   ]
  },
  {
   "cell_type": "code",
   "execution_count": 137,
   "metadata": {},
   "outputs": [
    {
     "data": {
      "text/html": [
       "<table class=\"data-frame\"><thead><tr><th></th><th>method</th><th>N</th><th>T</th><th>c</th><th>expected_requests</th><th>nᵣ</th><th>objective</th><th>res_budget_μ</th><th>mean_r</th><th>median_r</th><th>min_r</th><th>max_r</th><th>mean_u</th><th>median_u</th><th>min_u</th><th>max_u</th><th>mean_nₛ</th><th>median_nₛ</th><th>min_nₛ</th><th>max_nₛ</th><th>mean_nᵣ</th><th>median_nᵣ</th></tr><tr><th></th><th>String</th><th>Int64</th><th>Int64</th><th>Int64</th><th>Int64</th><th>Int64</th><th>Symbol</th><th>Float64</th><th>Float64</th><th>Float64</th><th>Any</th><th>Any</th><th>Float64</th><th>Float64</th><th>Any</th><th>Any</th><th>Float64</th><th>Float64</th><th>Any</th><th>Any</th><th>Float64</th><th>Float64</th></tr></thead><tbody><p>4 rows × 24 columns (omitted printing of 2 columns)</p><tr><th>1</th><td>flatrate_</td><td>10</td><td>2000</td><td>55</td><td>160</td><td>3</td><td>revenue</td><td>5.0</td><td>452.25</td><td>457.5</td><td>427.5</td><td>472.5</td><td>137.8</td><td>136.0</td><td>134</td><td>147</td><td>60.3</td><td>61.0</td><td>57</td><td>63</td><td>160.0</td><td>160.0</td></tr><tr><th>2</th><td>hindsight_</td><td>10</td><td>2000</td><td>55</td><td>160</td><td>3</td><td>revenue</td><td>5.0</td><td>851.25</td><td>851.25</td><td>807.5</td><td>875.0</td><td>163.5</td><td>165.0</td><td>157</td><td>165</td><td>72.2</td><td>72.5</td><td>67</td><td>76</td><td>159.3</td><td>160.0</td></tr><tr><th>3</th><td>mcts_dpw</td><td>10</td><td>2000</td><td>55</td><td>160</td><td>3</td><td>revenue</td><td>5.0</td><td>518.75</td><td>520.0</td><td>480.0</td><td>560.0</td><td>143.4</td><td>142.0</td><td>136</td><td>152</td><td>65.7</td><td>65.5</td><td>61</td><td>72</td><td>160.0</td><td>160.0</td></tr><tr><th>4</th><td>mcts_vanilla</td><td>10</td><td>2000</td><td>55</td><td>160</td><td>3</td><td>revenue</td><td>5.0</td><td>503.25</td><td>511.25</td><td>467.5</td><td>527.5</td><td>144.5</td><td>144.5</td><td>137</td><td>150</td><td>67.4</td><td>68.0</td><td>63</td><td>70</td><td>160.0</td><td>160.0</td></tr></tbody></table>"
      ],
      "text/latex": [
       "\\begin{tabular}{r|ccccccccccccccccccccccc}\n",
       "\t& method & N & T & c & expected\\_requests & nᵣ & objective & res\\_budget\\_μ & mean\\_r & median\\_r & min\\_r & max\\_r & mean\\_u & median\\_u & min\\_u & max\\_u & mean\\_nₛ & median\\_nₛ & min\\_nₛ & max\\_nₛ & mean\\_nᵣ & median\\_nᵣ & \\\\\n",
       "\t\\hline\n",
       "\t& String & Int64 & Int64 & Int64 & Int64 & Int64 & Symbol & Float64 & Float64 & Float64 & Any & Any & Float64 & Float64 & Any & Any & Float64 & Float64 & Any & Any & Float64 & Float64 & \\\\\n",
       "\t\\hline\n",
       "\t1 & flatrate\\_ & 10 & 2000 & 55 & 160 & 3 & revenue & 5.0 & 452.25 & 457.5 & 427.5 & 472.5 & 137.8 & 136.0 & 134 & 147 & 60.3 & 61.0 & 57 & 63 & 160.0 & 160.0 & $\\dots$ \\\\\n",
       "\t2 & hindsight\\_ & 10 & 2000 & 55 & 160 & 3 & revenue & 5.0 & 851.25 & 851.25 & 807.5 & 875.0 & 163.5 & 165.0 & 157 & 165 & 72.2 & 72.5 & 67 & 76 & 159.3 & 160.0 & $\\dots$ \\\\\n",
       "\t3 & mcts\\_dpw & 10 & 2000 & 55 & 160 & 3 & revenue & 5.0 & 518.75 & 520.0 & 480.0 & 560.0 & 143.4 & 142.0 & 136 & 152 & 65.7 & 65.5 & 61 & 72 & 160.0 & 160.0 & $\\dots$ \\\\\n",
       "\t4 & mcts\\_vanilla & 10 & 2000 & 55 & 160 & 3 & revenue & 5.0 & 503.25 & 511.25 & 467.5 & 527.5 & 144.5 & 144.5 & 137 & 150 & 67.4 & 68.0 & 63 & 70 & 160.0 & 160.0 & $\\dots$ \\\\\n",
       "\\end{tabular}\n"
      ],
      "text/plain": [
       "\u001b[1m4×24 DataFrame\u001b[0m\n",
       "\u001b[1m Row \u001b[0m│\u001b[1m method       \u001b[0m\u001b[1m N     \u001b[0m\u001b[1m T     \u001b[0m\u001b[1m c     \u001b[0m\u001b[1m expected_requests \u001b[0m\u001b[1m nᵣ    \u001b[0m\u001b[1m objective \u001b[0m\u001b[1m res_budget_μ \u001b[0m\u001b[1m mean_r  \u001b[0m\u001b[1m median_r \u001b[0m\u001b[1m min_r \u001b[0m\u001b[1m max_r \u001b[0m\u001b[1m mean_u  \u001b[0m\u001b[1m median_u \u001b[0m\u001b[1m min_u \u001b[0m\u001b[1m max_u \u001b[0m\u001b[1m mean_nₛ \u001b[0m\u001b[1m median_nₛ \u001b[0m\u001b[1m min_nₛ \u001b[0m\u001b[1m max_nₛ \u001b[0m\u001b[1m mea\u001b[0m ⋯\n",
       "\u001b[1m     \u001b[0m│\u001b[90m String       \u001b[0m\u001b[90m Int64 \u001b[0m\u001b[90m Int64 \u001b[0m\u001b[90m Int64 \u001b[0m\u001b[90m Int64             \u001b[0m\u001b[90m Int64 \u001b[0m\u001b[90m Symbol    \u001b[0m\u001b[90m Float64      \u001b[0m\u001b[90m Float64 \u001b[0m\u001b[90m Float64  \u001b[0m\u001b[90m Any   \u001b[0m\u001b[90m Any   \u001b[0m\u001b[90m Float64 \u001b[0m\u001b[90m Float64  \u001b[0m\u001b[90m Any   \u001b[0m\u001b[90m Any   \u001b[0m\u001b[90m Float64 \u001b[0m\u001b[90m Float64   \u001b[0m\u001b[90m Any    \u001b[0m\u001b[90m Any    \u001b[0m\u001b[90m Flo\u001b[0m ⋯\n",
       "─────┼──────────────────────────────────────────────────────────────────────────────────────────────────────────────────────────────────────────────────────────────────────────────────────────────────\n",
       "   1 │ flatrate_        10   2000     55                160      3  revenue             5.0   452.25    457.5   427.5  472.5    137.8     136.0  134    147       60.3       61.0  57      63        1 ⋯\n",
       "   2 │ hindsight_       10   2000     55                160      3  revenue             5.0   851.25    851.25  807.5  875.0    163.5     165.0  157    165       72.2       72.5  67      76        1\n",
       "   3 │ mcts_dpw         10   2000     55                160      3  revenue             5.0   518.75    520.0   480.0  560.0    143.4     142.0  136    152       65.7       65.5  61      72        1\n",
       "   4 │ mcts_vanilla     10   2000     55                160      3  revenue             5.0   503.25    511.25  467.5  527.5    144.5     144.5  137    150       67.4       68.0  63      70        1\n",
       "\u001b[36m                                                                                                                                                                                       4 columns omitted\u001b[0m"
      ]
     },
     "execution_count": 137,
     "metadata": {},
     "output_type": "execute_result"
    }
   ],
   "source": [
    "df10"
   ]
  },
  {
   "cell_type": "code",
   "execution_count": 138,
   "metadata": {},
   "outputs": [
    {
     "data": {
      "text/html": [
       "<table class=\"data-frame\"><thead><tr><th></th><th>method</th><th>mean_r</th></tr><tr><th></th><th>String</th><th>Float64</th></tr></thead><tbody><p>4 rows × 2 columns</p><tr><th>1</th><td>flatrate_</td><td>452.25</td></tr><tr><th>2</th><td>mcts_vanilla</td><td>503.25</td></tr><tr><th>3</th><td>mcts_dpw</td><td>518.75</td></tr><tr><th>4</th><td>hindsight_</td><td>851.25</td></tr></tbody></table>"
      ],
      "text/latex": [
       "\\begin{tabular}{r|cc}\n",
       "\t& method & mean\\_r\\\\\n",
       "\t\\hline\n",
       "\t& String & Float64\\\\\n",
       "\t\\hline\n",
       "\t1 & flatrate\\_ & 452.25 \\\\\n",
       "\t2 & mcts\\_vanilla & 503.25 \\\\\n",
       "\t3 & mcts\\_dpw & 518.75 \\\\\n",
       "\t4 & hindsight\\_ & 851.25 \\\\\n",
       "\\end{tabular}\n"
      ],
      "text/plain": [
       "\u001b[1m4×2 DataFrame\u001b[0m\n",
       "\u001b[1m Row \u001b[0m│\u001b[1m method       \u001b[0m\u001b[1m mean_r  \u001b[0m\n",
       "\u001b[1m     \u001b[0m│\u001b[90m String       \u001b[0m\u001b[90m Float64 \u001b[0m\n",
       "─────┼───────────────────────\n",
       "   1 │ flatrate_      452.25\n",
       "   2 │ mcts_vanilla   503.25\n",
       "   3 │ mcts_dpw       518.75\n",
       "   4 │ hindsight_     851.25"
      ]
     },
     "metadata": {},
     "output_type": "display_data"
    },
    {
     "data": {
      "text/latex": [
       "\\begin{tabular}{cc}\n",
       "$method$ & $mean_{r}$\\\\\n",
       "$flatrate_{}$ & $452.25$\\\\\n",
       "$mcts_{vanilla}$ & $503.25$\\\\\n",
       "$mcts_{dpw}$ & $518.75$\\\\\n",
       "$hindsight_{}$ & $851.25$\\\\\n",
       "\\end{tabular}\n"
      ],
      "text/plain": [
       "L\"\\begin{tabular}{cc}\n",
       "$method$ & $mean_{r}$\\\\\n",
       "$flatrate_{}$ & $452.25$\\\\\n",
       "$mcts_{vanilla}$ & $503.25$\\\\\n",
       "$mcts_{dpw}$ & $518.75$\\\\\n",
       "$hindsight_{}$ & $851.25$\\\\\n",
       "\\end{tabular}\n",
       "\""
      ]
     },
     "execution_count": 138,
     "metadata": {},
     "output_type": "execute_result"
    }
   ],
   "source": [
    "df10 = filter(:expected_requests => N->N==160, results)\n",
    "gps = groupby(df10, [:T, :c])\n",
    "\n",
    "gr = gps[1]\n",
    "gr[!, :mean_r]\n",
    "# restable = outerjoin([select(gr, [:method, :mean_r]) for gr in gps]...;on=:method, makeunique=true)\n",
    "restable = select(df10, [:method, :mean_r])\n",
    "restable = restable[[1,4,3,2], :]\n",
    "\n",
    "display(restable)\n",
    "latexify(restable; env=:tabular)"
   ]
  },
  {
   "cell_type": "markdown",
   "metadata": {},
   "source": [
    "## plots"
   ]
  },
  {
   "cell_type": "code",
   "execution_count": 14,
   "metadata": {},
   "outputs": [],
   "source": [
    "grps = groupby(results, :method);"
   ]
  },
  {
   "cell_type": "code",
   "execution_count": 12,
   "metadata": {},
   "outputs": [
    {
     "data": {
      "image/svg+xml": [
       "<?xml version=\"1.0\" encoding=\"utf-8\"?>\n",
       "<svg xmlns=\"http://www.w3.org/2000/svg\" xmlns:xlink=\"http://www.w3.org/1999/xlink\" width=\"600\" height=\"400\" viewBox=\"0 0 2400 1600\">\n",
       "<defs>\n",
       "  <clipPath id=\"clip6800\">\n",
       "    <rect x=\"0\" y=\"0\" width=\"2400\" height=\"1600\"/>\n",
       "  </clipPath>\n",
       "</defs>\n",
       "<path clip-path=\"url(#clip6800)\" d=\"\n",
       "M0 1600 L2400 1600 L2400 0 L0 0  Z\n",
       "  \" fill=\"#ffffff\" fill-rule=\"evenodd\" fill-opacity=\"1\"/>\n",
       "<defs>\n",
       "  <clipPath id=\"clip6801\">\n",
       "    <rect x=\"480\" y=\"0\" width=\"1681\" height=\"1600\"/>\n",
       "  </clipPath>\n",
       "</defs>\n",
       "<path clip-path=\"url(#clip6800)\" d=\"\n",
       "M189.978 1486.45 L2352.76 1486.45 L2352.76 47.2441 L189.978 47.2441  Z\n",
       "  \" fill=\"#ffffff\" fill-rule=\"evenodd\" fill-opacity=\"1\"/>\n",
       "<defs>\n",
       "  <clipPath id=\"clip6802\">\n",
       "    <rect x=\"189\" y=\"47\" width=\"2164\" height=\"1440\"/>\n",
       "  </clipPath>\n",
       "</defs>\n",
       "<polyline clip-path=\"url(#clip6802)\" style=\"stroke:#000000; stroke-width:2; stroke-opacity:0.1; fill:none\" points=\"\n",
       "  606.033,1486.45 606.033,47.2441 \n",
       "  \"/>\n",
       "<polyline clip-path=\"url(#clip6802)\" style=\"stroke:#000000; stroke-width:2; stroke-opacity:0.1; fill:none\" points=\"\n",
       "  1049.59,1486.45 1049.59,47.2441 \n",
       "  \"/>\n",
       "<polyline clip-path=\"url(#clip6802)\" style=\"stroke:#000000; stroke-width:2; stroke-opacity:0.1; fill:none\" points=\"\n",
       "  1493.14,1486.45 1493.14,47.2441 \n",
       "  \"/>\n",
       "<polyline clip-path=\"url(#clip6802)\" style=\"stroke:#000000; stroke-width:2; stroke-opacity:0.1; fill:none\" points=\"\n",
       "  1936.7,1486.45 1936.7,47.2441 \n",
       "  \"/>\n",
       "<polyline clip-path=\"url(#clip6802)\" style=\"stroke:#000000; stroke-width:2; stroke-opacity:0.1; fill:none\" points=\"\n",
       "  189.978,1187.21 2352.76,1187.21 \n",
       "  \"/>\n",
       "<polyline clip-path=\"url(#clip6802)\" style=\"stroke:#000000; stroke-width:2; stroke-opacity:0.1; fill:none\" points=\"\n",
       "  189.978,828.181 2352.76,828.181 \n",
       "  \"/>\n",
       "<polyline clip-path=\"url(#clip6802)\" style=\"stroke:#000000; stroke-width:2; stroke-opacity:0.1; fill:none\" points=\"\n",
       "  189.978,469.149 2352.76,469.149 \n",
       "  \"/>\n",
       "<polyline clip-path=\"url(#clip6802)\" style=\"stroke:#000000; stroke-width:2; stroke-opacity:0.1; fill:none\" points=\"\n",
       "  189.978,110.117 2352.76,110.117 \n",
       "  \"/>\n",
       "<polyline clip-path=\"url(#clip6800)\" style=\"stroke:#000000; stroke-width:4; stroke-opacity:1; fill:none\" points=\"\n",
       "  189.978,1486.45 2352.76,1486.45 \n",
       "  \"/>\n",
       "<polyline clip-path=\"url(#clip6800)\" style=\"stroke:#000000; stroke-width:4; stroke-opacity:1; fill:none\" points=\"\n",
       "  189.978,1486.45 189.978,47.2441 \n",
       "  \"/>\n",
       "<polyline clip-path=\"url(#clip6800)\" style=\"stroke:#000000; stroke-width:4; stroke-opacity:1; fill:none\" points=\"\n",
       "  606.033,1486.45 606.033,1469.18 \n",
       "  \"/>\n",
       "<polyline clip-path=\"url(#clip6800)\" style=\"stroke:#000000; stroke-width:4; stroke-opacity:1; fill:none\" points=\"\n",
       "  1049.59,1486.45 1049.59,1469.18 \n",
       "  \"/>\n",
       "<polyline clip-path=\"url(#clip6800)\" style=\"stroke:#000000; stroke-width:4; stroke-opacity:1; fill:none\" points=\"\n",
       "  1493.14,1486.45 1493.14,1469.18 \n",
       "  \"/>\n",
       "<polyline clip-path=\"url(#clip6800)\" style=\"stroke:#000000; stroke-width:4; stroke-opacity:1; fill:none\" points=\"\n",
       "  1936.7,1486.45 1936.7,1469.18 \n",
       "  \"/>\n",
       "<polyline clip-path=\"url(#clip6800)\" style=\"stroke:#000000; stroke-width:4; stroke-opacity:1; fill:none\" points=\"\n",
       "  189.978,1187.21 215.931,1187.21 \n",
       "  \"/>\n",
       "<polyline clip-path=\"url(#clip6800)\" style=\"stroke:#000000; stroke-width:4; stroke-opacity:1; fill:none\" points=\"\n",
       "  189.978,828.181 215.931,828.181 \n",
       "  \"/>\n",
       "<polyline clip-path=\"url(#clip6800)\" style=\"stroke:#000000; stroke-width:4; stroke-opacity:1; fill:none\" points=\"\n",
       "  189.978,469.149 215.931,469.149 \n",
       "  \"/>\n",
       "<polyline clip-path=\"url(#clip6800)\" style=\"stroke:#000000; stroke-width:4; stroke-opacity:1; fill:none\" points=\"\n",
       "  189.978,110.117 215.931,110.117 \n",
       "  \"/>\n",
       "<path clip-path=\"url(#clip6800)\" d=\"M 0 0 M574.17 1535.98 L590.489 1535.98 L590.489 1539.92 L568.545 1539.92 L568.545 1535.98 Q571.207 1533.23 575.79 1528.6 Q580.397 1523.95 581.577 1522.61 Q583.823 1520.08 584.702 1518.35 Q585.605 1516.59 585.605 1514.9 Q585.605 1512.14 583.66 1510.41 Q581.739 1508.67 578.637 1508.67 Q576.438 1508.67 573.985 1509.43 Q571.554 1510.2 568.776 1511.75 L568.776 1507.03 Q571.6 1505.89 574.054 1505.31 Q576.508 1504.73 578.545 1504.73 Q583.915 1504.73 587.11 1507.42 Q590.304 1510.11 590.304 1514.6 Q590.304 1516.73 589.494 1518.65 Q588.707 1520.54 586.6 1523.14 Q586.022 1523.81 582.92 1527.03 Q579.818 1530.22 574.17 1535.98 Z\" fill=\"#000000\" fill-rule=\"evenodd\" fill-opacity=\"1\" /><path clip-path=\"url(#clip6800)\" d=\"M 0 0 M595.605 1505.36 L613.961 1505.36 L613.961 1509.3 L599.887 1509.3 L599.887 1517.77 Q600.906 1517.42 601.924 1517.26 Q602.943 1517.07 603.961 1517.07 Q609.748 1517.07 613.128 1520.24 Q616.508 1523.42 616.508 1528.83 Q616.508 1534.41 613.035 1537.51 Q609.563 1540.59 603.244 1540.59 Q601.068 1540.59 598.799 1540.22 Q596.554 1539.85 594.147 1539.11 L594.147 1534.41 Q596.23 1535.54 598.452 1536.1 Q600.674 1536.66 603.151 1536.66 Q607.156 1536.66 609.494 1534.55 Q611.832 1532.44 611.832 1528.83 Q611.832 1525.22 609.494 1523.11 Q607.156 1521.01 603.151 1521.01 Q601.276 1521.01 599.401 1521.42 Q597.549 1521.84 595.605 1522.72 L595.605 1505.36 Z\" fill=\"#000000\" fill-rule=\"evenodd\" fill-opacity=\"1\" /><path clip-path=\"url(#clip6800)\" d=\"M 0 0 M631.577 1508.44 Q627.966 1508.44 626.137 1512 Q624.332 1515.55 624.332 1522.67 Q624.332 1529.78 626.137 1533.35 Q627.966 1536.89 631.577 1536.89 Q635.211 1536.89 637.017 1533.35 Q638.845 1529.78 638.845 1522.67 Q638.845 1515.55 637.017 1512 Q635.211 1508.44 631.577 1508.44 M631.577 1504.73 Q637.387 1504.73 640.443 1509.34 Q643.521 1513.92 643.521 1522.67 Q643.521 1531.4 640.443 1536.01 Q637.387 1540.59 631.577 1540.59 Q625.767 1540.59 622.688 1536.01 Q619.633 1531.4 619.633 1522.67 Q619.633 1513.92 622.688 1509.34 Q625.767 1504.73 631.577 1504.73 Z\" fill=\"#000000\" fill-rule=\"evenodd\" fill-opacity=\"1\" /><path clip-path=\"url(#clip6800)\" d=\"M 0 0 M1012.85 1505.36 L1031.21 1505.36 L1031.21 1509.3 L1017.14 1509.3 L1017.14 1517.77 Q1018.15 1517.42 1019.17 1517.26 Q1020.19 1517.07 1021.21 1517.07 Q1027 1517.07 1030.38 1520.24 Q1033.76 1523.42 1033.76 1528.83 Q1033.76 1534.41 1030.28 1537.51 Q1026.81 1540.59 1020.49 1540.59 Q1018.32 1540.59 1016.05 1540.22 Q1013.8 1539.85 1011.39 1539.11 L1011.39 1534.41 Q1013.48 1535.54 1015.7 1536.1 Q1017.92 1536.66 1020.4 1536.66 Q1024.4 1536.66 1026.74 1534.55 Q1029.08 1532.44 1029.08 1528.83 Q1029.08 1525.22 1026.74 1523.11 Q1024.4 1521.01 1020.4 1521.01 Q1018.52 1521.01 1016.65 1521.42 Q1014.8 1521.84 1012.85 1522.72 L1012.85 1505.36 Z\" fill=\"#000000\" fill-rule=\"evenodd\" fill-opacity=\"1\" /><path clip-path=\"url(#clip6800)\" d=\"M 0 0 M1048.82 1508.44 Q1045.21 1508.44 1043.39 1512 Q1041.58 1515.55 1041.58 1522.67 Q1041.58 1529.78 1043.39 1533.35 Q1045.21 1536.89 1048.82 1536.89 Q1052.46 1536.89 1054.26 1533.35 Q1056.09 1529.78 1056.09 1522.67 Q1056.09 1515.55 1054.26 1512 Q1052.46 1508.44 1048.82 1508.44 M1048.82 1504.73 Q1054.64 1504.73 1057.69 1509.34 Q1060.77 1513.92 1060.77 1522.67 Q1060.77 1531.4 1057.69 1536.01 Q1054.64 1540.59 1048.82 1540.59 Q1043.01 1540.59 1039.94 1536.01 Q1036.88 1531.4 1036.88 1522.67 Q1036.88 1513.92 1039.94 1509.34 Q1043.01 1504.73 1048.82 1504.73 Z\" fill=\"#000000\" fill-rule=\"evenodd\" fill-opacity=\"1\" /><path clip-path=\"url(#clip6800)\" d=\"M 0 0 M1075.84 1508.44 Q1072.23 1508.44 1070.4 1512 Q1068.59 1515.55 1068.59 1522.67 Q1068.59 1529.78 1070.4 1533.35 Q1072.23 1536.89 1075.84 1536.89 Q1079.47 1536.89 1081.28 1533.35 Q1083.11 1529.78 1083.11 1522.67 Q1083.11 1515.55 1081.28 1512 Q1079.47 1508.44 1075.84 1508.44 M1075.84 1504.73 Q1081.65 1504.73 1084.7 1509.34 Q1087.78 1513.92 1087.78 1522.67 Q1087.78 1531.4 1084.7 1536.01 Q1081.65 1540.59 1075.84 1540.59 Q1070.03 1540.59 1066.95 1536.01 Q1063.89 1531.4 1063.89 1522.67 Q1063.89 1513.92 1066.95 1509.34 Q1070.03 1504.73 1075.84 1504.73 Z\" fill=\"#000000\" fill-rule=\"evenodd\" fill-opacity=\"1\" /><path clip-path=\"url(#clip6800)\" d=\"M 0 0 M1455.52 1505.36 L1477.74 1505.36 L1477.74 1507.35 L1465.19 1539.92 L1460.31 1539.92 L1472.11 1509.3 L1455.52 1509.3 L1455.52 1505.36 Z\" fill=\"#000000\" fill-rule=\"evenodd\" fill-opacity=\"1\" /><path clip-path=\"url(#clip6800)\" d=\"M 0 0 M1482.86 1505.36 L1501.21 1505.36 L1501.21 1509.3 L1487.14 1509.3 L1487.14 1517.77 Q1488.16 1517.42 1489.17 1517.26 Q1490.19 1517.07 1491.21 1517.07 Q1497 1517.07 1500.38 1520.24 Q1503.76 1523.42 1503.76 1528.83 Q1503.76 1534.41 1500.29 1537.51 Q1496.81 1540.59 1490.49 1540.59 Q1488.32 1540.59 1486.05 1540.22 Q1483.8 1539.85 1481.4 1539.11 L1481.4 1534.41 Q1483.48 1535.54 1485.7 1536.1 Q1487.92 1536.66 1490.4 1536.66 Q1494.41 1536.66 1496.74 1534.55 Q1499.08 1532.44 1499.08 1528.83 Q1499.08 1525.22 1496.74 1523.11 Q1494.41 1521.01 1490.4 1521.01 Q1488.53 1521.01 1486.65 1521.42 Q1484.8 1521.84 1482.86 1522.72 L1482.86 1505.36 Z\" fill=\"#000000\" fill-rule=\"evenodd\" fill-opacity=\"1\" /><path clip-path=\"url(#clip6800)\" d=\"M 0 0 M1518.83 1508.44 Q1515.22 1508.44 1513.39 1512 Q1511.58 1515.55 1511.58 1522.67 Q1511.58 1529.78 1513.39 1533.35 Q1515.22 1536.89 1518.83 1536.89 Q1522.46 1536.89 1524.27 1533.35 Q1526.1 1529.78 1526.1 1522.67 Q1526.1 1515.55 1524.27 1512 Q1522.46 1508.44 1518.83 1508.44 M1518.83 1504.73 Q1524.64 1504.73 1527.69 1509.34 Q1530.77 1513.92 1530.77 1522.67 Q1530.77 1531.4 1527.69 1536.01 Q1524.64 1540.59 1518.83 1540.59 Q1513.02 1540.59 1509.94 1536.01 Q1506.88 1531.4 1506.88 1522.67 Q1506.88 1513.92 1509.94 1509.34 Q1513.02 1504.73 1518.83 1504.73 Z\" fill=\"#000000\" fill-rule=\"evenodd\" fill-opacity=\"1\" /><path clip-path=\"url(#clip6800)\" d=\"M 0 0 M1886.56 1535.98 L1894.2 1535.98 L1894.2 1509.62 L1885.89 1511.29 L1885.89 1507.03 L1894.15 1505.36 L1898.83 1505.36 L1898.83 1535.98 L1906.47 1535.98 L1906.47 1539.92 L1886.56 1539.92 L1886.56 1535.98 Z\" fill=\"#000000\" fill-rule=\"evenodd\" fill-opacity=\"1\" /><path clip-path=\"url(#clip6800)\" d=\"M 0 0 M1921.54 1508.44 Q1917.93 1508.44 1916.1 1512 Q1914.29 1515.55 1914.29 1522.67 Q1914.29 1529.78 1916.1 1533.35 Q1917.93 1536.89 1921.54 1536.89 Q1925.17 1536.89 1926.98 1533.35 Q1928.81 1529.78 1928.81 1522.67 Q1928.81 1515.55 1926.98 1512 Q1925.17 1508.44 1921.54 1508.44 M1921.54 1504.73 Q1927.35 1504.73 1930.4 1509.34 Q1933.48 1513.92 1933.48 1522.67 Q1933.48 1531.4 1930.4 1536.01 Q1927.35 1540.59 1921.54 1540.59 Q1915.73 1540.59 1912.65 1536.01 Q1909.59 1531.4 1909.59 1522.67 Q1909.59 1513.92 1912.65 1509.34 Q1915.73 1504.73 1921.54 1504.73 Z\" fill=\"#000000\" fill-rule=\"evenodd\" fill-opacity=\"1\" /><path clip-path=\"url(#clip6800)\" d=\"M 0 0 M1948.55 1508.44 Q1944.94 1508.44 1943.11 1512 Q1941.31 1515.55 1941.31 1522.67 Q1941.31 1529.78 1943.11 1533.35 Q1944.94 1536.89 1948.55 1536.89 Q1952.19 1536.89 1953.99 1533.35 Q1955.82 1529.78 1955.82 1522.67 Q1955.82 1515.55 1953.99 1512 Q1952.19 1508.44 1948.55 1508.44 M1948.55 1504.73 Q1954.36 1504.73 1957.42 1509.34 Q1960.5 1513.92 1960.5 1522.67 Q1960.5 1531.4 1957.42 1536.01 Q1954.36 1540.59 1948.55 1540.59 Q1942.74 1540.59 1939.66 1536.01 Q1936.61 1531.4 1936.61 1522.67 Q1936.61 1513.92 1939.66 1509.34 Q1942.74 1504.73 1948.55 1504.73 Z\" fill=\"#000000\" fill-rule=\"evenodd\" fill-opacity=\"1\" /><path clip-path=\"url(#clip6800)\" d=\"M 0 0 M1975.57 1508.44 Q1971.95 1508.44 1970.13 1512 Q1968.32 1515.55 1968.32 1522.67 Q1968.32 1529.78 1970.13 1533.35 Q1971.95 1536.89 1975.57 1536.89 Q1979.2 1536.89 1981.01 1533.35 Q1982.83 1529.78 1982.83 1522.67 Q1982.83 1515.55 1981.01 1512 Q1979.2 1508.44 1975.57 1508.44 M1975.57 1504.73 Q1981.38 1504.73 1984.43 1509.34 Q1987.51 1513.92 1987.51 1522.67 Q1987.51 1531.4 1984.43 1536.01 Q1981.38 1540.59 1975.57 1540.59 Q1969.76 1540.59 1966.68 1536.01 Q1963.62 1531.4 1963.62 1522.67 Q1963.62 1513.92 1966.68 1509.34 Q1969.76 1504.73 1975.57 1504.73 Z\" fill=\"#000000\" fill-rule=\"evenodd\" fill-opacity=\"1\" /><path clip-path=\"url(#clip6800)\" d=\"M 0 0 M91.0475 1169.93 L109.404 1169.93 L109.404 1173.87 L95.3299 1173.87 L95.3299 1182.34 Q96.3484 1181.99 97.3669 1181.83 Q98.3855 1181.65 99.404 1181.65 Q105.191 1181.65 108.571 1184.82 Q111.95 1187.99 111.95 1193.4 Q111.95 1198.98 108.478 1202.09 Q105.006 1205.16 98.6864 1205.16 Q96.5105 1205.16 94.242 1204.79 Q91.9966 1204.42 89.5892 1203.68 L89.5892 1198.98 Q91.6725 1200.12 93.8947 1200.67 Q96.1169 1201.23 98.5938 1201.23 Q102.598 1201.23 104.936 1199.12 Q107.274 1197.02 107.274 1193.4 Q107.274 1189.79 104.936 1187.69 Q102.598 1185.58 98.5938 1185.58 Q96.7188 1185.58 94.8438 1186 Q92.992 1186.41 91.0475 1187.29 L91.0475 1169.93 Z\" fill=\"#000000\" fill-rule=\"evenodd\" fill-opacity=\"1\" /><path clip-path=\"url(#clip6800)\" d=\"M 0 0 M127.02 1173.01 Q123.408 1173.01 121.58 1176.58 Q119.774 1180.12 119.774 1187.25 Q119.774 1194.35 121.58 1197.92 Q123.408 1201.46 127.02 1201.46 Q130.654 1201.46 132.459 1197.92 Q134.288 1194.35 134.288 1187.25 Q134.288 1180.12 132.459 1176.58 Q130.654 1173.01 127.02 1173.01 M127.02 1169.31 Q132.83 1169.31 135.885 1173.91 Q138.964 1178.5 138.964 1187.25 Q138.964 1195.97 135.885 1200.58 Q132.83 1205.16 127.02 1205.16 Q121.209 1205.16 118.131 1200.58 Q115.075 1195.97 115.075 1187.25 Q115.075 1178.5 118.131 1173.91 Q121.209 1169.31 127.02 1169.31 Z\" fill=\"#000000\" fill-rule=\"evenodd\" fill-opacity=\"1\" /><path clip-path=\"url(#clip6800)\" d=\"M 0 0 M154.033 1173.01 Q150.422 1173.01 148.594 1176.58 Q146.788 1180.12 146.788 1187.25 Q146.788 1194.35 148.594 1197.92 Q150.422 1201.46 154.033 1201.46 Q157.668 1201.46 159.473 1197.92 Q161.302 1194.35 161.302 1187.25 Q161.302 1180.12 159.473 1176.58 Q157.668 1173.01 154.033 1173.01 M154.033 1169.31 Q159.843 1169.31 162.899 1173.91 Q165.978 1178.5 165.978 1187.25 Q165.978 1195.97 162.899 1200.58 Q159.843 1205.16 154.033 1205.16 Q148.223 1205.16 145.144 1200.58 Q142.089 1195.97 142.089 1187.25 Q142.089 1178.5 145.144 1173.91 Q148.223 1169.31 154.033 1169.31 Z\" fill=\"#000000\" fill-rule=\"evenodd\" fill-opacity=\"1\" /><path clip-path=\"url(#clip6800)\" d=\"M 0 0 M65.0292 841.525 L72.668 841.525 L72.668 815.16 L64.3579 816.827 L64.3579 812.567 L72.6217 810.901 L77.2976 810.901 L77.2976 841.525 L84.9365 841.525 L84.9365 845.461 L65.0292 845.461 L65.0292 841.525 Z\" fill=\"#000000\" fill-rule=\"evenodd\" fill-opacity=\"1\" /><path clip-path=\"url(#clip6800)\" d=\"M 0 0 M100.006 813.979 Q96.3947 813.979 94.566 817.544 Q92.7605 821.086 92.7605 828.215 Q92.7605 835.322 94.566 838.887 Q96.3947 842.428 100.006 842.428 Q103.64 842.428 105.446 838.887 Q107.274 835.322 107.274 828.215 Q107.274 821.086 105.446 817.544 Q103.64 813.979 100.006 813.979 M100.006 810.276 Q105.816 810.276 108.872 814.882 Q111.95 819.465 111.95 828.215 Q111.95 836.942 108.872 841.549 Q105.816 846.132 100.006 846.132 Q94.1957 846.132 91.117 841.549 Q88.0614 836.942 88.0614 828.215 Q88.0614 819.465 91.117 814.882 Q94.1957 810.276 100.006 810.276 Z\" fill=\"#000000\" fill-rule=\"evenodd\" fill-opacity=\"1\" /><path clip-path=\"url(#clip6800)\" d=\"M 0 0 M127.02 813.979 Q123.408 813.979 121.58 817.544 Q119.774 821.086 119.774 828.215 Q119.774 835.322 121.58 838.887 Q123.408 842.428 127.02 842.428 Q130.654 842.428 132.459 838.887 Q134.288 835.322 134.288 828.215 Q134.288 821.086 132.459 817.544 Q130.654 813.979 127.02 813.979 M127.02 810.276 Q132.83 810.276 135.885 814.882 Q138.964 819.465 138.964 828.215 Q138.964 836.942 135.885 841.549 Q132.83 846.132 127.02 846.132 Q121.209 846.132 118.131 841.549 Q115.075 836.942 115.075 828.215 Q115.075 819.465 118.131 814.882 Q121.209 810.276 127.02 810.276 Z\" fill=\"#000000\" fill-rule=\"evenodd\" fill-opacity=\"1\" /><path clip-path=\"url(#clip6800)\" d=\"M 0 0 M154.033 813.979 Q150.422 813.979 148.594 817.544 Q146.788 821.086 146.788 828.215 Q146.788 835.322 148.594 838.887 Q150.422 842.428 154.033 842.428 Q157.668 842.428 159.473 838.887 Q161.302 835.322 161.302 828.215 Q161.302 821.086 159.473 817.544 Q157.668 813.979 154.033 813.979 M154.033 810.276 Q159.843 810.276 162.899 814.882 Q165.978 819.465 165.978 828.215 Q165.978 836.942 162.899 841.549 Q159.843 846.132 154.033 846.132 Q148.223 846.132 145.144 841.549 Q142.089 836.942 142.089 828.215 Q142.089 819.465 145.144 814.882 Q148.223 810.276 154.033 810.276 Z\" fill=\"#000000\" fill-rule=\"evenodd\" fill-opacity=\"1\" /><path clip-path=\"url(#clip6800)\" d=\"M 0 0 M66.0245 482.493 L73.6634 482.493 L73.6634 456.128 L65.3532 457.794 L65.3532 453.535 L73.6171 451.869 L78.293 451.869 L78.293 482.493 L85.9318 482.493 L85.9318 486.429 L66.0245 486.429 L66.0245 482.493 Z\" fill=\"#000000\" fill-rule=\"evenodd\" fill-opacity=\"1\" /><path clip-path=\"url(#clip6800)\" d=\"M 0 0 M91.0475 451.869 L109.404 451.869 L109.404 455.804 L95.3299 455.804 L95.3299 464.276 Q96.3484 463.929 97.3669 463.767 Q98.3855 463.582 99.404 463.582 Q105.191 463.582 108.571 466.753 Q111.95 469.924 111.95 475.341 Q111.95 480.919 108.478 484.021 Q105.006 487.1 98.6864 487.1 Q96.5105 487.1 94.242 486.73 Q91.9966 486.359 89.5892 485.618 L89.5892 480.919 Q91.6725 482.054 93.8947 482.609 Q96.1169 483.165 98.5938 483.165 Q102.598 483.165 104.936 481.058 Q107.274 478.952 107.274 475.341 Q107.274 471.73 104.936 469.623 Q102.598 467.517 98.5938 467.517 Q96.7188 467.517 94.8438 467.933 Q92.992 468.35 91.0475 469.23 L91.0475 451.869 Z\" fill=\"#000000\" fill-rule=\"evenodd\" fill-opacity=\"1\" /><path clip-path=\"url(#clip6800)\" d=\"M 0 0 M127.02 454.947 Q123.408 454.947 121.58 458.512 Q119.774 462.054 119.774 469.183 Q119.774 476.29 121.58 479.855 Q123.408 483.396 127.02 483.396 Q130.654 483.396 132.459 479.855 Q134.288 476.29 134.288 469.183 Q134.288 462.054 132.459 458.512 Q130.654 454.947 127.02 454.947 M127.02 451.244 Q132.83 451.244 135.885 455.85 Q138.964 460.433 138.964 469.183 Q138.964 477.91 135.885 482.517 Q132.83 487.1 127.02 487.1 Q121.209 487.1 118.131 482.517 Q115.075 477.91 115.075 469.183 Q115.075 460.433 118.131 455.85 Q121.209 451.244 127.02 451.244 Z\" fill=\"#000000\" fill-rule=\"evenodd\" fill-opacity=\"1\" /><path clip-path=\"url(#clip6800)\" d=\"M 0 0 M154.033 454.947 Q150.422 454.947 148.594 458.512 Q146.788 462.054 146.788 469.183 Q146.788 476.29 148.594 479.855 Q150.422 483.396 154.033 483.396 Q157.668 483.396 159.473 479.855 Q161.302 476.29 161.302 469.183 Q161.302 462.054 159.473 458.512 Q157.668 454.947 154.033 454.947 M154.033 451.244 Q159.843 451.244 162.899 455.85 Q165.978 460.433 165.978 469.183 Q165.978 477.91 162.899 482.517 Q159.843 487.1 154.033 487.1 Q148.223 487.1 145.144 482.517 Q142.089 477.91 142.089 469.183 Q142.089 460.433 145.144 455.85 Q148.223 451.244 154.033 451.244 Z\" fill=\"#000000\" fill-rule=\"evenodd\" fill-opacity=\"1\" /><path clip-path=\"url(#clip6800)\" d=\"M 0 0 M68.6171 123.461 L84.9365 123.461 L84.9365 127.397 L62.9921 127.397 L62.9921 123.461 Q65.6541 120.707 70.2375 116.077 Q74.8439 111.424 76.0245 110.082 Q78.2698 107.559 79.1494 105.823 Q80.0522 104.063 80.0522 102.374 Q80.0522 99.619 78.1078 97.8829 Q76.1865 96.1468 73.0847 96.1468 Q70.8856 96.1468 68.4319 96.9106 Q66.0014 97.6745 63.2236 99.2254 L63.2236 94.5032 Q66.0477 93.369 68.5014 92.7903 Q70.955 92.2116 72.9921 92.2116 Q78.3624 92.2116 81.5568 94.8968 Q84.7513 97.5819 84.7513 102.073 Q84.7513 104.202 83.9411 106.124 Q83.1541 108.022 81.0476 110.614 Q80.4689 111.286 77.367 114.503 Q74.2652 117.698 68.6171 123.461 Z\" fill=\"#000000\" fill-rule=\"evenodd\" fill-opacity=\"1\" /><path clip-path=\"url(#clip6800)\" d=\"M 0 0 M100.006 95.9153 Q96.3947 95.9153 94.566 99.4801 Q92.7605 103.022 92.7605 110.151 Q92.7605 117.258 94.566 120.823 Q96.3947 124.364 100.006 124.364 Q103.64 124.364 105.446 120.823 Q107.274 117.258 107.274 110.151 Q107.274 103.022 105.446 99.4801 Q103.64 95.9153 100.006 95.9153 M100.006 92.2116 Q105.816 92.2116 108.872 96.818 Q111.95 101.401 111.95 110.151 Q111.95 118.878 108.872 123.485 Q105.816 128.068 100.006 128.068 Q94.1957 128.068 91.117 123.485 Q88.0614 118.878 88.0614 110.151 Q88.0614 101.401 91.117 96.818 Q94.1957 92.2116 100.006 92.2116 Z\" fill=\"#000000\" fill-rule=\"evenodd\" fill-opacity=\"1\" /><path clip-path=\"url(#clip6800)\" d=\"M 0 0 M127.02 95.9153 Q123.408 95.9153 121.58 99.4801 Q119.774 103.022 119.774 110.151 Q119.774 117.258 121.58 120.823 Q123.408 124.364 127.02 124.364 Q130.654 124.364 132.459 120.823 Q134.288 117.258 134.288 110.151 Q134.288 103.022 132.459 99.4801 Q130.654 95.9153 127.02 95.9153 M127.02 92.2116 Q132.83 92.2116 135.885 96.818 Q138.964 101.401 138.964 110.151 Q138.964 118.878 135.885 123.485 Q132.83 128.068 127.02 128.068 Q121.209 128.068 118.131 123.485 Q115.075 118.878 115.075 110.151 Q115.075 101.401 118.131 96.818 Q121.209 92.2116 127.02 92.2116 Z\" fill=\"#000000\" fill-rule=\"evenodd\" fill-opacity=\"1\" /><path clip-path=\"url(#clip6800)\" d=\"M 0 0 M154.033 95.9153 Q150.422 95.9153 148.594 99.4801 Q146.788 103.022 146.788 110.151 Q146.788 117.258 148.594 120.823 Q150.422 124.364 154.033 124.364 Q157.668 124.364 159.473 120.823 Q161.302 117.258 161.302 110.151 Q161.302 103.022 159.473 99.4801 Q157.668 95.9153 154.033 95.9153 M154.033 92.2116 Q159.843 92.2116 162.899 96.818 Q165.978 101.401 165.978 110.151 Q165.978 118.878 162.899 123.485 Q159.843 128.068 154.033 128.068 Q148.223 128.068 145.144 123.485 Q142.089 118.878 142.089 110.151 Q142.089 101.401 145.144 96.818 Q148.223 92.2116 154.033 92.2116 Z\" fill=\"#000000\" fill-rule=\"evenodd\" fill-opacity=\"1\" /><polyline clip-path=\"url(#clip6802)\" style=\"stroke:#009af9; stroke-width:4; stroke-opacity:1; fill:none\" points=\"\n",
       "  251.188,1445.72 339.9,1378.7 428.611,1324.24 517.322,1227.9 606.033,1158.49 694.744,1056.17 783.455,943.071 872.167,959.826 960.878,928.71 1049.59,943.071 \n",
       "  1138.3,928.71 1227.01,896.995 1315.72,866.477 1404.43,935.89 1493.14,930.505 1581.86,861.69 1670.57,913.75 1759.28,885.626 1847.99,947.26 1936.7,907.168 \n",
       "  2025.41,838.353 2114.12,856.903 2202.83,867.674 2291.55,832.968 \n",
       "  \"/>\n",
       "<polyline clip-path=\"url(#clip6802)\" style=\"stroke:#e26f46; stroke-width:4; stroke-opacity:1; fill:none\" points=\"\n",
       "  251.188,1343.39 339.9,1175.84 428.611,1031.03 517.322,824.59 606.033,731.84 694.744,619.344 783.455,475.132 872.167,311.773 960.878,317.757 1049.59,360.242 \n",
       "  1138.3,265.099 1227.01,217.228 1315.72,213.637 1404.43,224.408 1493.14,227.4 1581.86,161.578 1670.57,137.044 1759.28,153.799 1847.99,197.481 1936.7,160.381 \n",
       "  2025.41,142.429 2114.12,87.9763 2202.83,89.1731 2291.55,105.329 \n",
       "  \"/>\n",
       "<polyline clip-path=\"url(#clip6802)\" style=\"stroke:#3da44d; stroke-width:4; stroke-opacity:1; fill:none\" points=\"\n",
       "  251.188,1429.56 339.9,1363.74 428.611,1274.58 517.322,1144.73 606.033,1078.9 694.744,1008.3 783.455,910.758 872.167,830.574 960.878,767.145 1049.59,794.073 \n",
       "  1138.3,767.744 1227.01,686.961 1315.72,646.271 1404.43,740.816 1493.14,716.881 1581.86,649.861 1670.57,610.966 1759.28,653.452 1847.99,753.981 1936.7,653.452 \n",
       "  2025.41,649.861 2114.12,615.753 2202.83,608.573 2291.55,622.336 \n",
       "  \"/>\n",
       "<path clip-path=\"url(#clip6800)\" d=\"\n",
       "M1858.14 372.684 L2280.76 372.684 L2280.76 130.764 L1858.14 130.764  Z\n",
       "  \" fill=\"#ffffff\" fill-rule=\"evenodd\" fill-opacity=\"1\"/>\n",
       "<polyline clip-path=\"url(#clip6800)\" style=\"stroke:#000000; stroke-width:4; stroke-opacity:1; fill:none\" points=\"\n",
       "  1858.14,372.684 2280.76,372.684 2280.76,130.764 1858.14,130.764 1858.14,372.684 \n",
       "  \"/>\n",
       "<polyline clip-path=\"url(#clip6800)\" style=\"stroke:#009af9; stroke-width:4; stroke-opacity:1; fill:none\" points=\"\n",
       "  1882.14,191.244 2026.14,191.244 \n",
       "  \"/>\n",
       "<path clip-path=\"url(#clip6800)\" d=\"M 0 0 M2066.65 172.506 L2066.65 176.047 L2062.57 176.047 Q2060.28 176.047 2059.38 176.973 Q2058.5 177.899 2058.5 180.307 L2058.5 182.598 L2065.51 182.598 L2065.51 185.908 L2058.5 185.908 L2058.5 208.524 L2054.22 208.524 L2054.22 185.908 L2050.14 185.908 L2050.14 182.598 L2054.22 182.598 L2054.22 180.793 Q2054.22 176.464 2056.23 174.496 Q2058.24 172.506 2062.62 172.506 L2066.65 172.506 Z\" fill=\"#000000\" fill-rule=\"evenodd\" fill-opacity=\"1\" /><path clip-path=\"url(#clip6800)\" d=\"M 0 0 M2071.11 172.506 L2075.37 172.506 L2075.37 208.524 L2071.11 208.524 L2071.11 172.506 Z\" fill=\"#000000\" fill-rule=\"evenodd\" fill-opacity=\"1\" /><path clip-path=\"url(#clip6800)\" d=\"M 0 0 M2091.62 195.492 Q2086.46 195.492 2084.47 196.672 Q2082.48 197.853 2082.48 200.7 Q2082.48 202.969 2083.96 204.311 Q2085.47 205.631 2088.03 205.631 Q2091.58 205.631 2093.71 203.131 Q2095.86 200.607 2095.86 196.441 L2095.86 195.492 L2091.62 195.492 M2100.12 193.733 L2100.12 208.524 L2095.86 208.524 L2095.86 204.589 Q2094.4 206.95 2092.22 208.084 Q2090.05 209.195 2086.9 209.195 Q2082.92 209.195 2080.56 206.973 Q2078.22 204.728 2078.22 200.978 Q2078.22 196.603 2081.14 194.381 Q2084.08 192.158 2089.89 192.158 L2095.86 192.158 L2095.86 191.742 Q2095.86 188.802 2093.91 187.205 Q2091.99 185.584 2088.5 185.584 Q2086.28 185.584 2084.17 186.117 Q2082.06 186.649 2080.12 187.714 L2080.12 183.779 Q2082.46 182.876 2084.65 182.436 Q2086.85 181.973 2088.94 181.973 Q2094.56 181.973 2097.34 184.89 Q2100.12 187.807 2100.12 193.733 Z\" fill=\"#000000\" fill-rule=\"evenodd\" fill-opacity=\"1\" /><path clip-path=\"url(#clip6800)\" d=\"M 0 0 M2108.8 175.237 L2108.8 182.598 L2117.57 182.598 L2117.57 185.908 L2108.8 185.908 L2108.8 199.982 Q2108.8 203.154 2109.65 204.057 Q2110.53 204.959 2113.2 204.959 L2117.57 204.959 L2117.57 208.524 L2113.2 208.524 Q2108.27 208.524 2106.39 206.695 Q2104.52 204.844 2104.52 199.982 L2104.52 185.908 L2101.39 185.908 L2101.39 182.598 L2104.52 182.598 L2104.52 175.237 L2108.8 175.237 Z\" fill=\"#000000\" fill-rule=\"evenodd\" fill-opacity=\"1\" /><path clip-path=\"url(#clip6800)\" d=\"M 0 0 M2137.06 186.58 Q2136.34 186.163 2135.49 185.978 Q2134.65 185.77 2133.64 185.77 Q2130.02 185.77 2128.08 188.131 Q2126.16 190.469 2126.16 194.867 L2126.16 208.524 L2121.88 208.524 L2121.88 182.598 L2126.16 182.598 L2126.16 186.626 Q2127.5 184.265 2129.65 183.131 Q2131.81 181.973 2134.89 181.973 Q2135.33 181.973 2135.86 182.043 Q2136.39 182.089 2137.04 182.205 L2137.06 186.58 Z\" fill=\"#000000\" fill-rule=\"evenodd\" fill-opacity=\"1\" /><path clip-path=\"url(#clip6800)\" d=\"M 0 0 M2153.31 195.492 Q2148.15 195.492 2146.16 196.672 Q2144.17 197.853 2144.17 200.7 Q2144.17 202.969 2145.65 204.311 Q2147.15 205.631 2149.72 205.631 Q2153.27 205.631 2155.4 203.131 Q2157.55 200.607 2157.55 196.441 L2157.55 195.492 L2153.31 195.492 M2161.81 193.733 L2161.81 208.524 L2157.55 208.524 L2157.55 204.589 Q2156.09 206.95 2153.91 208.084 Q2151.74 209.195 2148.59 209.195 Q2144.61 209.195 2142.25 206.973 Q2139.91 204.728 2139.91 200.978 Q2139.91 196.603 2142.83 194.381 Q2145.77 192.158 2151.58 192.158 L2157.55 192.158 L2157.55 191.742 Q2157.55 188.802 2155.6 187.205 Q2153.68 185.584 2150.19 185.584 Q2147.96 185.584 2145.86 186.117 Q2143.75 186.649 2141.81 187.714 L2141.81 183.779 Q2144.15 182.876 2146.34 182.436 Q2148.54 181.973 2150.63 181.973 Q2156.25 181.973 2159.03 184.89 Q2161.81 187.807 2161.81 193.733 Z\" fill=\"#000000\" fill-rule=\"evenodd\" fill-opacity=\"1\" /><path clip-path=\"url(#clip6800)\" d=\"M 0 0 M2170.49 175.237 L2170.49 182.598 L2179.26 182.598 L2179.26 185.908 L2170.49 185.908 L2170.49 199.982 Q2170.49 203.154 2171.34 204.057 Q2172.22 204.959 2174.89 204.959 L2179.26 204.959 L2179.26 208.524 L2174.89 208.524 Q2169.96 208.524 2168.08 206.695 Q2166.21 204.844 2166.21 199.982 L2166.21 185.908 L2163.08 185.908 L2163.08 182.598 L2166.21 182.598 L2166.21 175.237 L2170.49 175.237 Z\" fill=\"#000000\" fill-rule=\"evenodd\" fill-opacity=\"1\" /><path clip-path=\"url(#clip6800)\" d=\"M 0 0 M2205.9 194.496 L2205.9 196.58 L2186.32 196.58 Q2186.6 200.978 2188.96 203.293 Q2191.34 205.584 2195.58 205.584 Q2198.03 205.584 2200.33 204.982 Q2202.64 204.381 2204.91 203.177 L2204.91 207.205 Q2202.62 208.177 2200.21 208.686 Q2197.8 209.195 2195.33 209.195 Q2189.12 209.195 2185.49 205.584 Q2181.88 201.973 2181.88 195.816 Q2181.88 189.45 2185.3 185.723 Q2188.75 181.973 2194.58 181.973 Q2199.82 181.973 2202.85 185.353 Q2205.9 188.709 2205.9 194.496 M2201.64 193.246 Q2201.6 189.751 2199.68 187.668 Q2197.78 185.584 2194.63 185.584 Q2191.07 185.584 2188.91 187.598 Q2186.78 189.612 2186.46 193.27 L2201.64 193.246 Z\" fill=\"#000000\" fill-rule=\"evenodd\" fill-opacity=\"1\" /><polyline clip-path=\"url(#clip6800)\" style=\"stroke:#e26f46; stroke-width:4; stroke-opacity:1; fill:none\" points=\"\n",
       "  1882.14,251.724 2026.14,251.724 \n",
       "  \"/>\n",
       "<path clip-path=\"url(#clip6800)\" d=\"M 0 0 M2071.85 253.356 L2071.85 269.004 L2067.59 269.004 L2067.59 253.495 Q2067.59 249.814 2066.16 247.986 Q2064.72 246.157 2061.85 246.157 Q2058.4 246.157 2056.41 248.356 Q2054.42 250.555 2054.42 254.351 L2054.42 269.004 L2050.14 269.004 L2050.14 232.986 L2054.42 232.986 L2054.42 247.106 Q2055.95 244.768 2058.01 243.611 Q2060.09 242.453 2062.8 242.453 Q2067.27 242.453 2069.56 245.231 Q2071.85 247.986 2071.85 253.356 Z\" fill=\"#000000\" fill-rule=\"evenodd\" fill-opacity=\"1\" /><path clip-path=\"url(#clip6800)\" d=\"M 0 0 M2076.32 243.078 L2080.58 243.078 L2080.58 269.004 L2076.32 269.004 L2076.32 243.078 M2076.32 232.986 L2080.58 232.986 L2080.58 238.379 L2076.32 238.379 L2076.32 232.986 Z\" fill=\"#000000\" fill-rule=\"evenodd\" fill-opacity=\"1\" /><path clip-path=\"url(#clip6800)\" d=\"M 0 0 M2106.6 253.356 L2106.6 269.004 L2102.34 269.004 L2102.34 253.495 Q2102.34 249.814 2100.9 247.986 Q2099.47 246.157 2096.6 246.157 Q2093.15 246.157 2091.16 248.356 Q2089.17 250.555 2089.17 254.351 L2089.17 269.004 L2084.89 269.004 L2084.89 243.078 L2089.17 243.078 L2089.17 247.106 Q2090.7 244.768 2092.76 243.611 Q2094.84 242.453 2097.55 242.453 Q2102.02 242.453 2104.31 245.231 Q2106.6 247.986 2106.6 253.356 Z\" fill=\"#000000\" fill-rule=\"evenodd\" fill-opacity=\"1\" /><path clip-path=\"url(#clip6800)\" d=\"M 0 0 M2128.13 247.013 L2128.13 232.986 L2132.39 232.986 L2132.39 269.004 L2128.13 269.004 L2128.13 265.115 Q2126.78 267.43 2124.72 268.564 Q2122.69 269.675 2119.82 269.675 Q2115.12 269.675 2112.15 265.925 Q2109.21 262.175 2109.21 256.064 Q2109.21 249.953 2112.15 246.203 Q2115.12 242.453 2119.82 242.453 Q2122.69 242.453 2124.72 243.588 Q2126.78 244.699 2128.13 247.013 M2113.61 256.064 Q2113.61 260.763 2115.53 263.449 Q2117.48 266.111 2120.86 266.111 Q2124.24 266.111 2126.18 263.449 Q2128.13 260.763 2128.13 256.064 Q2128.13 251.365 2126.18 248.703 Q2124.24 246.018 2120.86 246.018 Q2117.48 246.018 2115.53 248.703 Q2113.61 251.365 2113.61 256.064 Z\" fill=\"#000000\" fill-rule=\"evenodd\" fill-opacity=\"1\" /><path clip-path=\"url(#clip6800)\" d=\"M 0 0 M2153.38 243.842 L2153.38 247.87 Q2151.58 246.944 2149.63 246.481 Q2147.69 246.018 2145.6 246.018 Q2142.43 246.018 2140.84 246.99 Q2139.26 247.963 2139.26 249.907 Q2139.26 251.388 2140.4 252.245 Q2141.53 253.078 2144.96 253.842 L2146.41 254.166 Q2150.95 255.138 2152.85 256.921 Q2154.77 258.68 2154.77 261.851 Q2154.77 265.462 2151.9 267.569 Q2149.05 269.675 2144.05 269.675 Q2141.97 269.675 2139.7 269.259 Q2137.46 268.865 2134.96 268.055 L2134.96 263.657 Q2137.32 264.884 2139.61 265.509 Q2141.9 266.111 2144.15 266.111 Q2147.15 266.111 2148.77 265.092 Q2150.4 264.05 2150.4 262.175 Q2150.4 260.439 2149.21 259.513 Q2148.06 258.587 2144.1 257.731 L2142.62 257.384 Q2138.66 256.55 2136.9 254.838 Q2135.14 253.101 2135.14 250.092 Q2135.14 246.435 2137.73 244.444 Q2140.33 242.453 2145.09 242.453 Q2147.46 242.453 2149.54 242.801 Q2151.62 243.148 2153.38 243.842 Z\" fill=\"#000000\" fill-rule=\"evenodd\" fill-opacity=\"1\" /><path clip-path=\"url(#clip6800)\" d=\"M 0 0 M2159.24 243.078 L2163.5 243.078 L2163.5 269.004 L2159.24 269.004 L2159.24 243.078 M2159.24 232.986 L2163.5 232.986 L2163.5 238.379 L2159.24 238.379 L2159.24 232.986 Z\" fill=\"#000000\" fill-rule=\"evenodd\" fill-opacity=\"1\" /><path clip-path=\"url(#clip6800)\" d=\"M 0 0 M2185.02 255.74 Q2185.02 251.111 2183.1 248.564 Q2181.21 246.018 2177.76 246.018 Q2174.33 246.018 2172.41 248.564 Q2170.51 251.111 2170.51 255.74 Q2170.51 260.347 2172.41 262.893 Q2174.33 265.439 2177.76 265.439 Q2181.21 265.439 2183.1 262.893 Q2185.02 260.347 2185.02 255.74 M2189.28 265.787 Q2189.28 272.407 2186.34 275.624 Q2183.4 278.865 2177.34 278.865 Q2175.09 278.865 2173.1 278.518 Q2171.11 278.194 2169.24 277.499 L2169.24 273.356 Q2171.11 274.374 2172.94 274.861 Q2174.77 275.347 2176.67 275.347 Q2180.86 275.347 2182.94 273.148 Q2185.02 270.972 2185.02 266.55 L2185.02 264.444 Q2183.71 266.736 2181.65 267.87 Q2179.58 269.004 2176.71 269.004 Q2171.95 269.004 2169.03 265.37 Q2166.11 261.736 2166.11 255.74 Q2166.11 249.722 2169.03 246.088 Q2171.95 242.453 2176.71 242.453 Q2179.58 242.453 2181.65 243.588 Q2183.71 244.722 2185.02 247.013 L2185.02 243.078 L2189.28 243.078 L2189.28 265.787 Z\" fill=\"#000000\" fill-rule=\"evenodd\" fill-opacity=\"1\" /><path clip-path=\"url(#clip6800)\" d=\"M 0 0 M2215.3 253.356 L2215.3 269.004 L2211.04 269.004 L2211.04 253.495 Q2211.04 249.814 2209.61 247.986 Q2208.17 246.157 2205.3 246.157 Q2201.85 246.157 2199.86 248.356 Q2197.87 250.555 2197.87 254.351 L2197.87 269.004 L2193.59 269.004 L2193.59 232.986 L2197.87 232.986 L2197.87 247.106 Q2199.4 244.768 2201.46 243.611 Q2203.54 242.453 2206.25 242.453 Q2210.72 242.453 2213.01 245.231 Q2215.3 247.986 2215.3 253.356 Z\" fill=\"#000000\" fill-rule=\"evenodd\" fill-opacity=\"1\" /><path clip-path=\"url(#clip6800)\" d=\"M 0 0 M2223.98 235.717 L2223.98 243.078 L2232.76 243.078 L2232.76 246.388 L2223.98 246.388 L2223.98 260.462 Q2223.98 263.634 2224.84 264.537 Q2225.72 265.439 2228.38 265.439 L2232.76 265.439 L2232.76 269.004 L2228.38 269.004 Q2223.45 269.004 2221.58 267.175 Q2219.7 265.324 2219.7 260.462 L2219.7 246.388 L2216.58 246.388 L2216.58 243.078 L2219.7 243.078 L2219.7 235.717 L2223.98 235.717 Z\" fill=\"#000000\" fill-rule=\"evenodd\" fill-opacity=\"1\" /><polyline clip-path=\"url(#clip6800)\" style=\"stroke:#3da44d; stroke-width:4; stroke-opacity:1; fill:none\" points=\"\n",
       "  1882.14,312.204 2026.14,312.204 \n",
       "  \"/>\n",
       "<path clip-path=\"url(#clip6800)\" d=\"M 0 0 M2070.49 308.535 Q2072.09 305.665 2074.31 304.299 Q2076.53 302.933 2079.54 302.933 Q2083.59 302.933 2085.79 305.781 Q2087.99 308.605 2087.99 313.836 L2087.99 329.484 L2083.71 329.484 L2083.71 313.975 Q2083.71 310.248 2082.39 308.443 Q2081.07 306.637 2078.36 306.637 Q2075.05 306.637 2073.13 308.836 Q2071.21 311.035 2071.21 314.831 L2071.21 329.484 L2066.92 329.484 L2066.92 313.975 Q2066.92 310.225 2065.6 308.443 Q2064.28 306.637 2061.53 306.637 Q2058.27 306.637 2056.34 308.859 Q2054.42 311.058 2054.42 314.831 L2054.42 329.484 L2050.14 329.484 L2050.14 303.558 L2054.42 303.558 L2054.42 307.586 Q2055.88 305.202 2057.92 304.068 Q2059.96 302.933 2062.76 302.933 Q2065.58 302.933 2067.55 304.368 Q2069.54 305.804 2070.49 308.535 Z\" fill=\"#000000\" fill-rule=\"evenodd\" fill-opacity=\"1\" /><path clip-path=\"url(#clip6800)\" d=\"M 0 0 M2111.11 304.554 L2111.11 308.535 Q2109.31 307.54 2107.48 307.054 Q2105.67 306.544 2103.82 306.544 Q2099.68 306.544 2097.39 309.183 Q2095.09 311.799 2095.09 316.544 Q2095.09 321.29 2097.39 323.929 Q2099.68 326.544 2103.82 326.544 Q2105.67 326.544 2107.48 326.058 Q2109.31 325.549 2111.11 324.554 L2111.11 328.489 Q2109.33 329.322 2107.41 329.739 Q2105.51 330.155 2103.36 330.155 Q2097.5 330.155 2094.05 326.475 Q2090.6 322.794 2090.6 316.544 Q2090.6 310.202 2094.08 306.568 Q2097.57 302.933 2103.64 302.933 Q2105.6 302.933 2107.48 303.35 Q2109.35 303.743 2111.11 304.554 Z\" fill=\"#000000\" fill-rule=\"evenodd\" fill-opacity=\"1\" /><path clip-path=\"url(#clip6800)\" d=\"M 0 0 M2119.79 296.197 L2119.79 303.558 L2128.57 303.558 L2128.57 306.868 L2119.79 306.868 L2119.79 320.942 Q2119.79 324.114 2120.65 325.017 Q2121.53 325.919 2124.19 325.919 L2128.57 325.919 L2128.57 329.484 L2124.19 329.484 Q2119.26 329.484 2117.39 327.655 Q2115.51 325.804 2115.51 320.942 L2115.51 306.868 L2112.39 306.868 L2112.39 303.558 L2115.51 303.558 L2115.51 296.197 L2119.79 296.197 Z\" fill=\"#000000\" fill-rule=\"evenodd\" fill-opacity=\"1\" /><path clip-path=\"url(#clip6800)\" d=\"M 0 0 M2149.56 304.322 L2149.56 308.35 Q2147.76 307.424 2145.81 306.961 Q2143.87 306.498 2141.78 306.498 Q2138.61 306.498 2137.02 307.47 Q2135.44 308.443 2135.44 310.387 Q2135.44 311.868 2136.58 312.725 Q2137.71 313.558 2141.14 314.322 L2142.59 314.646 Q2147.13 315.618 2149.03 317.401 Q2150.95 319.16 2150.95 322.331 Q2150.95 325.942 2148.08 328.049 Q2145.23 330.155 2140.23 330.155 Q2138.15 330.155 2135.88 329.739 Q2133.64 329.345 2131.14 328.535 L2131.14 324.137 Q2133.5 325.364 2135.79 325.989 Q2138.08 326.591 2140.33 326.591 Q2143.34 326.591 2144.96 325.572 Q2146.58 324.53 2146.58 322.655 Q2146.58 320.919 2145.4 319.993 Q2144.24 319.067 2140.28 318.211 L2138.8 317.864 Q2134.84 317.03 2133.08 315.318 Q2131.32 313.581 2131.32 310.572 Q2131.32 306.915 2133.91 304.924 Q2136.51 302.933 2141.27 302.933 Q2143.64 302.933 2145.72 303.281 Q2147.8 303.628 2149.56 304.322 Z\" fill=\"#000000\" fill-rule=\"evenodd\" fill-opacity=\"1\" /></svg>\n"
      ]
     },
     "execution_count": 12,
     "metadata": {},
     "output_type": "execute_result"
    }
   ],
   "source": [
    "plot()\n",
    "for gr in grps\n",
    "    plot!(gr.expected_res, gr.mean_r, label=first(gr).method)\n",
    "end\n",
    "plot!()"
   ]
  },
  {
   "cell_type": "code",
   "execution_count": 13,
   "metadata": {},
   "outputs": [
    {
     "ename": "LoadError",
     "evalue": "UndefVarError: edf1 not defined",
     "output_type": "error",
     "traceback": [
      "UndefVarError: edf1 not defined",
      "",
      "Stacktrace:",
      " [1] top-level scope at In[13]:1",
      " [2] include_string(::Function, ::Module, ::String, ::String) at ./loading.jl:1091"
     ]
    }
   ],
   "source": [
    "plot(edf1[!, x_param], edf1.r_mc,\n",
    "    xlabel = label_demand,\n",
    "    ylabel = \"Utilization\",\n",
    "    label = \"MCTS\",\n",
    "    m=(3, :circle), \n",
    "    size=plot_size,\n",
    "    legend=:topleft\n",
    ")\n",
    "plot!(edf1[!, x_param], edf1.r_vi,  m=(3, :square, :black), line=(:black), label=\"VI\")\n",
    "plot!(edf1[!, x_param], edf1.r_flat,  m=(3, :dtriangle, :red), line=(:red), label=\"flat-rate\")\n",
    "plot!(edf1[!, x_param], edf1.r_hind,  m=(3, :utriangle, :green), line=(:green), label=\"hindsight\")\n"
   ]
  }
 ],
 "metadata": {
  "@webio": {
   "lastCommId": null,
   "lastKernelId": null
  },
  "kernelspec": {
   "display_name": "Julia 1.5.3",
   "language": "julia",
   "name": "julia-1.5"
  },
  "language_info": {
   "file_extension": ".jl",
   "mimetype": "application/julia",
   "name": "julia",
   "version": "1.5.3"
  },
  "toc": {
   "base_numbering": 1,
   "nav_menu": {},
   "number_sections": true,
   "sideBar": true,
   "skip_h1_title": false,
   "title_cell": "Table of Contents",
   "title_sidebar": "Contents",
   "toc_cell": false,
   "toc_position": {},
   "toc_section_display": true,
   "toc_window_display": false
  }
 },
 "nbformat": 4,
 "nbformat_minor": 4
}
