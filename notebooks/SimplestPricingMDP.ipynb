{
 "cells": [
  {
   "cell_type": "markdown",
   "metadata": {},
   "source": [
    "# MDP Playground"
   ]
  },
  {
   "cell_type": "code",
   "execution_count": 5,
   "metadata": {},
   "outputs": [],
   "source": [
    "using POMDPs\n",
    "using Random, Distributions\n",
    "using POMDPModelTools\n",
    "using POMDPSimulators\n",
    "using POMDPPolicies\n",
    "using POMDPModels\n",
    "using StaticArrays\n",
    "using BeliefUpdaters\n",
    "using Printf\n",
    "using Random\n",
    "using MCTS\n",
    "using DiscreteValueIteration"
   ]
  },
  {
   "cell_type": "code",
   "execution_count": 6,
   "metadata": {},
   "outputs": [
    {
     "name": "stderr",
     "output_type": "stream",
     "text": [
      "\u001b[32m\u001b[1m Activating\u001b[22m\u001b[39m environment at `C:\\Users\\Honza\\.julia\\dev\\PricingMDP\\Project.toml`\n"
     ]
    }
   ],
   "source": [
    "] activate .."
   ]
  },
  {
   "cell_type": "code",
   "execution_count": 7,
   "metadata": {},
   "outputs": [],
   "source": [
    "using PricingMDP.SimplestPricingMDP"
   ]
  },
  {
   "cell_type": "markdown",
   "metadata": {},
   "source": [
    "## Define MDP"
   ]
  },
  {
   "cell_type": "code",
   "execution_count": 8,
   "metadata": {},
   "outputs": [
    {
     "name": "stdout",
     "output_type": "stream",
     "text": [
      "INFO: POMDPs.jl requirements for \u001b[34msolve(::SparseValueIterationSolver, ::MDP)\u001b[39m and dependencies. ([✔] = implemented correctly; [X] = not implemented; [?] = could not determine)\n",
      "\n",
      "For \u001b[34msolve(::SparseValueIterationSolver, ::MDP)\u001b[39m:\n",
      "\u001b[32m  [✔] discount(::SPMDP)\u001b[39m\n",
      "\u001b[31m  [X] transition(::SPMDP, ::SArray{Tuple{2}Int6412}, ::Float64)\u001b[39m\n",
      "\u001b[31m  [X] reward(::SPMDP, ::SArray{Tuple{2}Int6412}, ::Float64, ::SArray{Tuple{2}Int6412})\u001b[39m\n",
      "\u001b[31m  [X] stateindex(::SPMDP, ::SArray{Tuple{2}Int6412})\u001b[39m\n",
      "\u001b[31m  [X] actionindex(::SPMDP, ::Float64)\u001b[39m\n",
      "\u001b[32m  [✔] actions(::SPMDP, ::SArray{Tuple{2}Int6412})\u001b[39m\n",
      "\u001b[33m  WARNING: Some requirements may not be shown because a MethodError was thrown.\u001b[39m\n",
      "For \u001b[34mordered_states(::Union{MDP,POMDP})\u001b[39m (in solve(::SparseValueIterationSolver, ::MDP)):\n",
      "\u001b[31m  [X] states(::SPMDP)\u001b[39m\n",
      "\u001b[33m  WARNING: Some requirements may not be shown because a MethodError was thrown.\u001b[39m\n",
      "For \u001b[34mordered_actions(::Union{MDP,POMDP})\u001b[39m (in solve(::SparseValueIterationSolver, ::MDP)):\n",
      "\u001b[32m  [✔] actions(::SPMDP)\u001b[39m\n",
      "\u001b[32m  [✔] length(::Tuple{Int64Int64Int64})\u001b[39m\n",
      "Note: Missing methods are often due to incorrect importing. You must explicitly import POMDPs functions to add new methods.\n",
      "\n",
      "Throwing the first exception (from processing \u001b[34msolve(::SparseValueIterationSolver, ::MDP)\u001b[39m"
     ]
    },
    {
     "ename": "MethodError",
     "evalue": "MethodError: no method matching states(::SPMDP)\nClosest candidates are:\n  states(::Union{MDP, POMDP}, !Matched::Any) at C:\\Users\\Honza\\.julia\\packages\\POMDPs\\0djkf\\src\\space.jl:26\n  states(!Matched::TigerPOMDP) at C:\\Users\\Honza\\.julia\\packages\\POMDPModels\\EBkc5\\src\\TigerPOMDPs.jl:10\n  states(!Matched::SimpleGridWorld) at C:\\Users\\Honza\\.julia\\packages\\POMDPModels\\EBkc5\\src\\gridworld.jl:30\n  ...",
     "output_type": "error",
     "traceback": [
      "MethodError: no method matching states(::SPMDP)\nClosest candidates are:\n  states(::Union{MDP, POMDP}, !Matched::Any) at C:\\Users\\Honza\\.julia\\packages\\POMDPs\\0djkf\\src\\space.jl:26\n  states(!Matched::TigerPOMDP) at C:\\Users\\Honza\\.julia\\packages\\POMDPModels\\EBkc5\\src\\TigerPOMDPs.jl:10\n  states(!Matched::SimpleGridWorld) at C:\\Users\\Honza\\.julia\\packages\\POMDPModels\\EBkc5\\src\\gridworld.jl:30\n  ...",
      "",
      "Stacktrace:",
      " [1] show_requirements(::RequirementSet) at C:\\Users\\Honza\\.julia\\packages\\POMDPs\\0djkf\\src\\requirements_interface.jl:202",
      " [2] requirements_info(::SparseValueIterationSolver, ::SPMDP) at C:\\Users\\Honza\\.julia\\packages\\POMDPs\\0djkf\\src\\requirements_interface.jl:143",
      " [3] top-level scope at C:\\Users\\Honza\\.julia\\packages\\POMDPs\\0djkf\\src\\requirements_interface.jl:121",
      " [4] top-level scope at In[8]:1"
     ]
    },
    {
     "name": "stdout",
     "output_type": "stream",
     "text": [
      " requirements):\n",
      "\n"
     ]
    }
   ],
   "source": [
    "@requirements_info SparseValueIterationSolver() SimplestPricingMDP.SPMDP(1, 0, 0.5, 0.3, 30)"
   ]
  },
  {
   "cell_type": "code",
   "execution_count": 12,
   "metadata": {},
   "outputs": [
    {
     "data": {
      "text/html": [
       "@requirements_info(__source__::<b>LineNumberNode</b>, __module__::<b>Module</b>, exprs...) in POMDPs at <a href=\"file://C:/Users/Honza/.julia/packages/POMDPs/0djkf/src/requirements_interface.jl\" target=\"_blank\">C:\\Users\\Honza\\.julia\\packages\\POMDPs\\0djkf\\src\\requirements_interface.jl:120</a>"
      ],
      "text/plain": [
       "@requirements_info(__source__::LineNumberNode, __module__::Module, exprs...) in POMDPs at C:\\Users\\Honza\\.julia\\packages\\POMDPs\\0djkf\\src\\requirements_interface.jl:120"
      ]
     },
     "execution_count": 12,
     "metadata": {},
     "output_type": "execute_result"
    }
   ],
   "source": [
    "@which @requirements_info"
   ]
  },
  {
   "cell_type": "code",
   "execution_count": 13,
   "metadata": {},
   "outputs": [
    {
     "name": "stdout",
     "output_type": "stream",
     "text": [
      "Since MCTS is an online solver, most of the computation occurs in `action(policy, state)`. In order to view the requirements for this function, please, supply a state as the third argument to `requirements_info`, e.g.\n",
      "\n",
      "    @requirements_info MCTSSolver() SPMDP() SArray{Tuple{2},Int64,1,2}()\n",
      "\n",
      "    \n"
     ]
    }
   ],
   "source": [
    "@requirements_info MCTSSolver() SimplestPricingMDP.SPMDP() "
   ]
  },
  {
   "cell_type": "markdown",
   "metadata": {},
   "source": [
    "## Simulate"
   ]
  },
  {
   "cell_type": "code",
   "execution_count": 37,
   "metadata": {},
   "outputs": [
    {
     "data": {
      "text/plain": [
       "Main.SimplestPricingMDP.PricingMDP(1.0, 0.0, 0.5, 0.3, 30)"
      ]
     },
     "execution_count": 37,
     "metadata": {},
     "output_type": "execute_result"
    }
   ],
   "source": [
    "m"
   ]
  },
  {
   "cell_type": "code",
   "execution_count": 84,
   "metadata": {},
   "outputs": [],
   "source": [
    "using POMDPSimulators\n",
    "using POMDPTools"
   ]
  },
  {
   "cell_type": "code",
   "execution_count": 85,
   "metadata": {},
   "outputs": [
    {
     "name": "stdout",
     "output_type": "stream",
     "text": [
      "s = [0, 5]\n",
      "a = 1\n",
      "r = 0\n",
      "\n",
      "s = [1, 5]\n",
      "a = 1\n",
      "r = 1\n",
      "\n",
      "s = [2, 4]\n",
      "a = 1\n",
      "r = 0\n",
      "\n",
      "s = [3, 4]\n",
      "a = 1\n",
      "r = 0\n",
      "\n",
      "s = [4, 4]\n",
      "a = 1\n",
      "r = 1\n",
      "\n",
      "s = [5, 3]\n",
      "a = 1\n",
      "r = 1\n",
      "\n",
      "s = [6, 2]\n",
      "a = 1\n",
      "r = 1\n",
      "\n",
      "s = [7, 1]\n",
      "a = 1\n",
      "r = 0\n",
      "\n",
      "s = [8, 1]\n",
      "a = 1\n",
      "r = 0\n",
      "\n",
      "s = [9, 1]\n",
      "a = 1\n",
      "r = 0\n",
      "\n",
      "s = [10, 1]\n",
      "a = 1\n",
      "r = 0\n",
      "\n",
      "s = [11, 1]\n",
      "a = 1\n",
      "r = 1\n",
      "\n",
      "s = [12, 0]\n",
      "a = 1\n",
      "r = 0\n",
      "\n",
      "s = [12, 0]\n",
      "a = 1\n",
      "r = 0\n",
      "\n",
      "s = [12, 0]\n",
      "a = 1\n",
      "r = 0\n",
      "\n",
      "s = [12, 0]\n",
      "a = 1\n",
      "r = 0\n",
      "\n",
      "s = [12, 0]\n",
      "a = 1\n",
      "r = 0\n",
      "\n",
      "s = [12, 0]\n",
      "a = 1\n",
      "r = 0\n",
      "\n",
      "s = [12, 0]\n",
      "a = 1\n",
      "r = 0\n",
      "\n",
      "s = [12, 0]\n",
      "a = 1\n",
      "r = 0\n",
      "\n",
      "s = [12, 0]\n",
      "a = 1\n",
      "r = 0\n",
      "\n",
      "s = [12, 0]\n",
      "a = 1\n",
      "r = 0\n",
      "\n",
      "s = [12, 0]\n",
      "a = 1\n",
      "r = 0\n",
      "\n",
      "s = [12, 0]\n",
      "a = 1\n",
      "r = 0\n",
      "\n",
      "s = [12, 0]\n",
      "a = 1\n",
      "r = 0\n",
      "\n",
      "s = [12, 0]\n",
      "a = 1\n",
      "r = 0\n",
      "\n",
      "s = [12, 0]\n",
      "a = 1\n",
      "r = 0\n",
      "\n",
      "s = [12, 0]\n",
      "a = 1\n",
      "r = 0\n",
      "\n",
      "s = [12, 0]\n",
      "a = 1\n",
      "r = 0\n",
      "\n",
      "s = [12, 0]\n",
      "a = 1\n",
      "r = 0\n",
      "\n",
      "total_r = 5\n"
     ]
    },
    {
     "data": {
      "text/plain": [
       "5"
      ]
     },
     "execution_count": 85,
     "metadata": {},
     "output_type": "execute_result"
    }
   ],
   "source": [
    "m = PricingMDP()\n",
    "policy = FunctionPolicy(s->1)\n",
    "# policy = FunctionPolicy(s->action(planner, s))\n",
    "total_r = 0\n",
    "\n",
    "for (s, a, r) in stepthrough(m, policy, \"s,a,r\", max_steps=30)\n",
    "    @show s\n",
    "    @show a\n",
    "    @show r\n",
    "    total_r+=r\n",
    "    println()\n",
    "end\n",
    "\n",
    "@show total_r"
   ]
  },
  {
   "cell_type": "code",
   "execution_count": 25,
   "metadata": {},
   "outputs": [],
   "source": [
    "rng = MersenneTwister(1234);"
   ]
  },
  {
   "cell_type": "code",
   "execution_count": 23,
   "metadata": {},
   "outputs": [
    {
     "ename": "LoadError",
     "evalue": "syntax: space required before \"?\" operator",
     "output_type": "error",
     "traceback": [
      "syntax: space required before \"?\" operator",
      ""
     ]
    }
   ],
   "source": [
    "rng?"
   ]
  },
  {
   "cell_type": "code",
   "execution_count": 26,
   "metadata": {},
   "outputs": [
    {
     "data": {
      "text/plain": [
       "1"
      ]
     },
     "execution_count": 26,
     "metadata": {},
     "output_type": "execute_result"
    }
   ],
   "source": [
    "rand(rng, (0,1))"
   ]
  },
  {
   "cell_type": "code",
   "execution_count": 37,
   "metadata": {},
   "outputs": [
    {
     "data": {
      "text/plain": [
       "Normal{Float64}(μ=0.49511238024062015, σ=0.9891076696274528)"
      ]
     },
     "execution_count": 37,
     "metadata": {},
     "output_type": "execute_result"
    }
   ],
   "source": [
    "d = Normal(0.5, 1.)\n",
    "fit(Normal, rand(d, 100))"
   ]
  },
  {
   "cell_type": "code",
   "execution_count": 48,
   "metadata": {},
   "outputs": [
    {
     "data": {
      "text/plain": [
       "2"
      ]
     },
     "execution_count": 48,
     "metadata": {},
     "output_type": "execute_result"
    }
   ],
   "source": [
    "d1 = Categorical([0.3,0.7])\n",
    "rand(rng, d1)"
   ]
  },
  {
   "cell_type": "code",
   "execution_count": 47,
   "metadata": {},
   "outputs": [
    {
     "name": "stdout",
     "output_type": "stream",
     "text": [
      "search: \u001b[0m\u001b[1mr\u001b[22m\u001b[0m\u001b[1ma\u001b[22m\u001b[0m\u001b[1mn\u001b[22m\u001b[0m\u001b[1md\u001b[22m \u001b[0m\u001b[1mr\u001b[22m\u001b[0m\u001b[1ma\u001b[22m\u001b[0m\u001b[1mn\u001b[22m\u001b[0m\u001b[1md\u001b[22mn \u001b[0m\u001b[1mr\u001b[22m\u001b[0m\u001b[1ma\u001b[22m\u001b[0m\u001b[1mn\u001b[22m\u001b[0m\u001b[1md\u001b[22m! \u001b[0m\u001b[1mr\u001b[22m\u001b[0m\u001b[1ma\u001b[22m\u001b[0m\u001b[1mn\u001b[22m\u001b[0m\u001b[1md\u001b[22mn! \u001b[0m\u001b[1mr\u001b[22m\u001b[0m\u001b[1ma\u001b[22m\u001b[0m\u001b[1mn\u001b[22m\u001b[0m\u001b[1md\u001b[22mexp \u001b[0m\u001b[1mR\u001b[22m\u001b[0m\u001b[1ma\u001b[22m\u001b[0m\u001b[1mn\u001b[22m\u001b[0m\u001b[1md\u001b[22mom \u001b[0m\u001b[1mr\u001b[22m\u001b[0m\u001b[1ma\u001b[22m\u001b[0m\u001b[1mn\u001b[22m\u001b[0m\u001b[1md\u001b[22mperm \u001b[0m\u001b[1mr\u001b[22m\u001b[0m\u001b[1ma\u001b[22m\u001b[0m\u001b[1mn\u001b[22m\u001b[0m\u001b[1md\u001b[22mexp! \u001b[0m\u001b[1mr\u001b[22m\u001b[0m\u001b[1ma\u001b[22m\u001b[0m\u001b[1mn\u001b[22m\u001b[0m\u001b[1md\u001b[22mperm!\n",
      "\n"
     ]
    },
    {
     "data": {
      "text/latex": [
       "\\begin{verbatim}\n",
       "rand([rng=GLOBAL_RNG], [S], [dims...])\n",
       "\\end{verbatim}\n",
       "Pick a random element or array of random elements from the set of values specified by \\texttt{S}; \\texttt{S} can be\n",
       "\n",
       "\\begin{itemize}\n",
       "\\item an indexable collection (for example \\texttt{1:9} or \\texttt{('x', \"y\", :z)}),\n",
       "\n",
       "\n",
       "\\item an \\texttt{AbstractDict} or \\texttt{AbstractSet} object,\n",
       "\n",
       "\n",
       "\\item a string (considered as a collection of characters), or\n",
       "\n",
       "\n",
       "\\item a type: the set of values to pick from is then equivalent to \\texttt{typemin(S):typemax(S)} for integers (this is not applicable to \\href{@ref}{\\texttt{BigInt}}), to $[0, 1)$ for floating point numbers and to $[0, 1)+i[0, 1)]$ for complex floating point numbers;\n",
       "\n",
       "\\end{itemize}\n",
       "\\texttt{S} defaults to \\href{@ref}{\\texttt{Float64}}. When only one argument is passed besides the optional \\texttt{rng} and is a \\texttt{Tuple}, it is interpreted as a collection of values (\\texttt{S}) and not as \\texttt{dims}.\n",
       "\n",
       "\\begin{quote}\n",
       "\\textbf{compat}\n",
       "\n",
       "Julia 1.1\n",
       "\n",
       "Support for \\texttt{S} as a tuple requires at least Julia 1.1.\n",
       "\n",
       "\\end{quote}\n",
       "\\section{Examples}\n",
       "\\begin{verbatim}\n",
       "julia> rand(Int, 2)\n",
       "2-element Array{Int64,1}:\n",
       " 1339893410598768192\n",
       " 1575814717733606317\n",
       "\n",
       "julia> using Random\n",
       "\n",
       "julia> rand(MersenneTwister(0), Dict(1=>2, 3=>4))\n",
       "1=>2\n",
       "\n",
       "julia> rand((2, 3))\n",
       "3\n",
       "\n",
       "julia> rand(Float64, (2, 3))\n",
       "2×3 Array{Float64,2}:\n",
       " 0.999717  0.0143835  0.540787\n",
       " 0.696556  0.783855   0.938235\n",
       "\\end{verbatim}\n",
       "\\begin{quote}\n",
       "\\textbf{note}\n",
       "\n",
       "Note\n",
       "\n",
       "The complexity of \\texttt{rand(rng, s::Union\\{AbstractDict,AbstractSet\\})} is linear in the length of \\texttt{s}, unless an optimized method with constant complexity is available, which is the case for \\texttt{Dict}, \\texttt{Set} and \\texttt{BitSet}. For more than a few calls, use \\texttt{rand(rng, collect(s))} instead, or either \\texttt{rand(rng, Dict(s))} or \\texttt{rand(rng, Set(s))} as appropriate.\n",
       "\n",
       "\\end{quote}\n",
       "\\rule{\\textwidth}{1pt}\n",
       "\\begin{verbatim}\n",
       "rand([rng::AbstractRNG,] s::Sampleable)\n",
       "\\end{verbatim}\n",
       "Generate one sample for \\texttt{s}.\n",
       "\n",
       "\\begin{verbatim}\n",
       "rand([rng::AbstractRNG,] s::Sampleable, n::Int)\n",
       "\\end{verbatim}\n",
       "Generate \\texttt{n} samples from \\texttt{s}. The form of the returned object depends on the variate form of \\texttt{s}:\n",
       "\n",
       "\\begin{itemize}\n",
       "\\item When \\texttt{s} is univariate, it returns a vector of length \\texttt{n}.\n",
       "\n",
       "\n",
       "\\item When \\texttt{s} is multivariate, it returns a matrix with \\texttt{n} columns.\n",
       "\n",
       "\n",
       "\\item When \\texttt{s} is matrix-variate, it returns an array, where each element is a sample matrix.\n",
       "\n",
       "rand([rng::AbstractRNG,] s::Sampleable, dim1::Int, dim2::Int...)   rand([rng::AbstractRNG,] s::Sampleable, dims::Dims)\n",
       "\n",
       "\\end{itemize}\n",
       "Generate an array of samples from \\texttt{s} whose shape is determined by the given dimensions.\n",
       "\n",
       "\\rule{\\textwidth}{1pt}\n",
       "\\begin{verbatim}\n",
       "rand(rng::AbstractRNG, d::UnivariateDistribution)\n",
       "\\end{verbatim}\n",
       "Generate a scalar sample from \\texttt{d}. The general fallback is \\texttt{quantile(d, rand())}.\n",
       "\n",
       "\\rule{\\textwidth}{1pt}\n",
       "\\begin{verbatim}\n",
       "rand(rng, d)\n",
       "\\end{verbatim}\n",
       "Extract a sample from the p-Generalized Gaussian distribution 'd'. The sampling procedure is implemented from from [1]. [1]  Gonzalez-Farias, G., Molina, J. A. D., \\& Rodríguez-Dagnino, R. M. (2009). Efficiency of the approximated shape parameter estimator in the generalized Gaussian distribution. IEEE Transactions on Vehicular Technology, 58(8), 4214-4223.\n",
       "\n",
       "\\rule{\\textwidth}{1pt}\n",
       "\\begin{verbatim}\n",
       "rand(::AbstractRNG, ::Distributions.AbstractMvNormal)\n",
       "\\end{verbatim}\n",
       "Sample a random vector from the provided multi-variate normal distribution.\n",
       "\n",
       "\\rule{\\textwidth}{1pt}\n",
       "\\begin{verbatim}\n",
       "rand(::AbstractRNG, ::Sampleable)\n",
       "\\end{verbatim}\n",
       "Samples from the sampler and returns the result.\n",
       "\n",
       "\\rule{\\textwidth}{1pt}\n",
       "\\begin{verbatim}\n",
       "rand(d::Union{UnivariateMixture, MultivariateMixture})\n",
       "\\end{verbatim}\n",
       "Draw a sample from the mixture model \\texttt{d}.\n",
       "\n",
       "\\begin{verbatim}\n",
       "rand(d::Union{UnivariateMixture, MultivariateMixture}, n)\n",
       "\\end{verbatim}\n",
       "Draw \\texttt{n} samples from \\texttt{d}.\n",
       "\n",
       "\\rule{\\textwidth}{1pt}\n",
       "\\begin{verbatim}\n",
       "rand(rng::AbstractRNG, d::Any)\n",
       "\\end{verbatim}\n",
       "Return a random element from distribution or space \\texttt{d}.\n",
       "\n",
       "If \\texttt{d} is a state or transition distribution, the sample will be a state; if \\texttt{d} is an action distribution, the sample will be an action or if \\texttt{d} is an observation distribution, the sample will be an observation.\n",
       "\n"
      ],
      "text/markdown": [
       "```\n",
       "rand([rng=GLOBAL_RNG], [S], [dims...])\n",
       "```\n",
       "\n",
       "Pick a random element or array of random elements from the set of values specified by `S`; `S` can be\n",
       "\n",
       "  * an indexable collection (for example `1:9` or `('x', \"y\", :z)`),\n",
       "  * an `AbstractDict` or `AbstractSet` object,\n",
       "  * a string (considered as a collection of characters), or\n",
       "  * a type: the set of values to pick from is then equivalent to `typemin(S):typemax(S)` for integers (this is not applicable to [`BigInt`](@ref)), to $[0, 1)$ for floating point numbers and to $[0, 1)+i[0, 1)]$ for complex floating point numbers;\n",
       "\n",
       "`S` defaults to [`Float64`](@ref). When only one argument is passed besides the optional `rng` and is a `Tuple`, it is interpreted as a collection of values (`S`) and not as `dims`.\n",
       "\n",
       "!!! compat \"Julia 1.1\"\n",
       "    Support for `S` as a tuple requires at least Julia 1.1.\n",
       "\n",
       "\n",
       "# Examples\n",
       "\n",
       "```julia-repl\n",
       "julia> rand(Int, 2)\n",
       "2-element Array{Int64,1}:\n",
       " 1339893410598768192\n",
       " 1575814717733606317\n",
       "\n",
       "julia> using Random\n",
       "\n",
       "julia> rand(MersenneTwister(0), Dict(1=>2, 3=>4))\n",
       "1=>2\n",
       "\n",
       "julia> rand((2, 3))\n",
       "3\n",
       "\n",
       "julia> rand(Float64, (2, 3))\n",
       "2×3 Array{Float64,2}:\n",
       " 0.999717  0.0143835  0.540787\n",
       " 0.696556  0.783855   0.938235\n",
       "```\n",
       "\n",
       "!!! note\n",
       "    The complexity of `rand(rng, s::Union{AbstractDict,AbstractSet})` is linear in the length of `s`, unless an optimized method with constant complexity is available, which is the case for `Dict`, `Set` and `BitSet`. For more than a few calls, use `rand(rng, collect(s))` instead, or either `rand(rng, Dict(s))` or `rand(rng, Set(s))` as appropriate.\n",
       "\n",
       "\n",
       "---\n",
       "\n",
       "```\n",
       "rand([rng::AbstractRNG,] s::Sampleable)\n",
       "```\n",
       "\n",
       "Generate one sample for `s`.\n",
       "\n",
       "```\n",
       "rand([rng::AbstractRNG,] s::Sampleable, n::Int)\n",
       "```\n",
       "\n",
       "Generate `n` samples from `s`. The form of the returned object depends on the variate form of `s`:\n",
       "\n",
       "  * When `s` is univariate, it returns a vector of length `n`.\n",
       "  * When `s` is multivariate, it returns a matrix with `n` columns.\n",
       "  * When `s` is matrix-variate, it returns an array, where each element is a sample matrix.\n",
       "\n",
       "    rand([rng::AbstractRNG,] s::Sampleable, dim1::Int, dim2::Int...)   rand([rng::AbstractRNG,] s::Sampleable, dims::Dims)\n",
       "\n",
       "Generate an array of samples from `s` whose shape is determined by the given dimensions.\n",
       "\n",
       "---\n",
       "\n",
       "```\n",
       "rand(rng::AbstractRNG, d::UnivariateDistribution)\n",
       "```\n",
       "\n",
       "Generate a scalar sample from `d`. The general fallback is `quantile(d, rand())`.\n",
       "\n",
       "---\n",
       "\n",
       "```\n",
       "rand(rng, d)\n",
       "```\n",
       "\n",
       "Extract a sample from the p-Generalized Gaussian distribution 'd'. The sampling procedure is implemented from from [1]. [1]  Gonzalez-Farias, G., Molina, J. A. D., & Rodríguez-Dagnino, R. M. (2009). Efficiency of the approximated shape parameter estimator in the generalized Gaussian distribution. IEEE Transactions on Vehicular Technology, 58(8), 4214-4223.\n",
       "\n",
       "---\n",
       "\n",
       "```\n",
       "rand(::AbstractRNG, ::Distributions.AbstractMvNormal)\n",
       "```\n",
       "\n",
       "Sample a random vector from the provided multi-variate normal distribution.\n",
       "\n",
       "---\n",
       "\n",
       "```\n",
       "rand(::AbstractRNG, ::Sampleable)\n",
       "```\n",
       "\n",
       "Samples from the sampler and returns the result.\n",
       "\n",
       "---\n",
       "\n",
       "```\n",
       "rand(d::Union{UnivariateMixture, MultivariateMixture})\n",
       "```\n",
       "\n",
       "Draw a sample from the mixture model `d`.\n",
       "\n",
       "```\n",
       "rand(d::Union{UnivariateMixture, MultivariateMixture}, n)\n",
       "```\n",
       "\n",
       "Draw `n` samples from `d`.\n",
       "\n",
       "---\n",
       "\n",
       "```\n",
       "rand(rng::AbstractRNG, d::Any)\n",
       "```\n",
       "\n",
       "Return a random element from distribution or space `d`.\n",
       "\n",
       "If `d` is a state or transition distribution, the sample will be a state; if `d` is an action distribution, the sample will be an action or if `d` is an observation distribution, the sample will be an observation.\n"
      ],
      "text/plain": [
       "\u001b[36m  rand([rng=GLOBAL_RNG], [S], [dims...])\u001b[39m\n",
       "\n",
       "  Pick a random element or array of random elements from the set of values\n",
       "  specified by \u001b[36mS\u001b[39m; \u001b[36mS\u001b[39m can be\n",
       "\n",
       "    •    an indexable collection (for example \u001b[36m1:9\u001b[39m or \u001b[36m('x', \"y\", :z)\u001b[39m),\n",
       "\n",
       "    •    an \u001b[36mAbstractDict\u001b[39m or \u001b[36mAbstractSet\u001b[39m object,\n",
       "\n",
       "    •    a string (considered as a collection of characters), or\n",
       "\n",
       "    •    a type: the set of values to pick from is then equivalent to\n",
       "        \u001b[36mtypemin(S):typemax(S)\u001b[39m for integers (this is not applicable to\n",
       "        \u001b[36mBigInt\u001b[39m), to \u001b[35m[0, 1)\u001b[39m for floating point numbers and to \u001b[35m[0, 1)+i[0,\n",
       "        1)]\u001b[39m for complex floating point numbers;\n",
       "\n",
       "  \u001b[36mS\u001b[39m defaults to \u001b[36mFloat64\u001b[39m. When only one argument is passed besides the optional\n",
       "  \u001b[36mrng\u001b[39m and is a \u001b[36mTuple\u001b[39m, it is interpreted as a collection of values (\u001b[36mS\u001b[39m) and not\n",
       "  as \u001b[36mdims\u001b[39m.\n",
       "\n",
       "\u001b[39m\u001b[1m  │ \u001b[22m\u001b[39m\u001b[1mJulia 1.1\u001b[22m\n",
       "\u001b[39m\u001b[1m  │\u001b[22m\n",
       "\u001b[39m\u001b[1m  │\u001b[22m  Support for \u001b[36mS\u001b[39m as a tuple requires at least Julia 1.1.\n",
       "\n",
       "\u001b[1m  Examples\u001b[22m\n",
       "\u001b[1m  ≡≡≡≡≡≡≡≡≡≡\u001b[22m\n",
       "\n",
       "\u001b[36m  julia> rand(Int, 2)\u001b[39m\n",
       "\u001b[36m  2-element Array{Int64,1}:\u001b[39m\n",
       "\u001b[36m   1339893410598768192\u001b[39m\n",
       "\u001b[36m   1575814717733606317\u001b[39m\n",
       "\u001b[36m  \u001b[39m\n",
       "\u001b[36m  julia> using Random\u001b[39m\n",
       "\u001b[36m  \u001b[39m\n",
       "\u001b[36m  julia> rand(MersenneTwister(0), Dict(1=>2, 3=>4))\u001b[39m\n",
       "\u001b[36m  1=>2\u001b[39m\n",
       "\u001b[36m  \u001b[39m\n",
       "\u001b[36m  julia> rand((2, 3))\u001b[39m\n",
       "\u001b[36m  3\u001b[39m\n",
       "\u001b[36m  \u001b[39m\n",
       "\u001b[36m  julia> rand(Float64, (2, 3))\u001b[39m\n",
       "\u001b[36m  2×3 Array{Float64,2}:\u001b[39m\n",
       "\u001b[36m   0.999717  0.0143835  0.540787\u001b[39m\n",
       "\u001b[36m   0.696556  0.783855   0.938235\u001b[39m\n",
       "\n",
       "\u001b[36m\u001b[1m  │ \u001b[22m\u001b[39m\u001b[36m\u001b[1mNote\u001b[22m\u001b[39m\n",
       "\u001b[36m\u001b[1m  │\u001b[22m\u001b[39m\n",
       "\u001b[36m\u001b[1m  │\u001b[22m\u001b[39m  The complexity of \u001b[36mrand(rng, s::Union{AbstractDict,AbstractSet})\u001b[39m is\n",
       "\u001b[36m\u001b[1m  │\u001b[22m\u001b[39m  linear in the length of \u001b[36ms\u001b[39m, unless an optimized method with\n",
       "\u001b[36m\u001b[1m  │\u001b[22m\u001b[39m  constant complexity is available, which is the case for \u001b[36mDict\u001b[39m, \u001b[36mSet\u001b[39m\n",
       "\u001b[36m\u001b[1m  │\u001b[22m\u001b[39m  and \u001b[36mBitSet\u001b[39m. For more than a few calls, use \u001b[36mrand(rng, collect(s))\u001b[39m\n",
       "\u001b[36m\u001b[1m  │\u001b[22m\u001b[39m  instead, or either \u001b[36mrand(rng, Dict(s))\u001b[39m or \u001b[36mrand(rng, Set(s))\u001b[39m as\n",
       "\u001b[36m\u001b[1m  │\u001b[22m\u001b[39m  appropriate.\n",
       "\n",
       "  ────────────────────────────────────────────────────────────────────────────\n",
       "\n",
       "\u001b[36m  rand([rng::AbstractRNG,] s::Sampleable)\u001b[39m\n",
       "\n",
       "  Generate one sample for \u001b[36ms\u001b[39m.\n",
       "\n",
       "\u001b[36m  rand([rng::AbstractRNG,] s::Sampleable, n::Int)\u001b[39m\n",
       "\n",
       "  Generate \u001b[36mn\u001b[39m samples from \u001b[36ms\u001b[39m. The form of the returned object depends on the\n",
       "  variate form of \u001b[36ms\u001b[39m:\n",
       "\n",
       "    •    When \u001b[36ms\u001b[39m is univariate, it returns a vector of length \u001b[36mn\u001b[39m.\n",
       "\n",
       "    •    When \u001b[36ms\u001b[39m is multivariate, it returns a matrix with \u001b[36mn\u001b[39m columns.\n",
       "\n",
       "    •    When \u001b[36ms\u001b[39m is matrix-variate, it returns an array, where each element\n",
       "        is a sample matrix.\n",
       "      \n",
       "        rand([rng::AbstractRNG,] s::Sampleable, dim1::Int, dim2::Int...)\n",
       "        rand([rng::AbstractRNG,] s::Sampleable, dims::Dims)\n",
       "\n",
       "  Generate an array of samples from \u001b[36ms\u001b[39m whose shape is determined by the given\n",
       "  dimensions.\n",
       "\n",
       "  ────────────────────────────────────────────────────────────────────────────\n",
       "\n",
       "\u001b[36m  rand(rng::AbstractRNG, d::UnivariateDistribution)\u001b[39m\n",
       "\n",
       "  Generate a scalar sample from \u001b[36md\u001b[39m. The general fallback is \u001b[36mquantile(d,\n",
       "  rand())\u001b[39m.\n",
       "\n",
       "  ────────────────────────────────────────────────────────────────────────────\n",
       "\n",
       "\u001b[36m  rand(rng, d)\u001b[39m\n",
       "\n",
       "  Extract a sample from the p-Generalized Gaussian distribution 'd'. The\n",
       "  sampling procedure is implemented from from [1]. [1] Gonzalez-Farias, G.,\n",
       "  Molina, J. A. D., & Rodríguez-Dagnino, R. M. (2009). Efficiency of the\n",
       "  approximated shape parameter estimator in the generalized Gaussian\n",
       "  distribution. IEEE Transactions on Vehicular Technology, 58(8), 4214-4223.\n",
       "\n",
       "  ────────────────────────────────────────────────────────────────────────────\n",
       "\n",
       "\u001b[36m  rand(::AbstractRNG, ::Distributions.AbstractMvNormal)\u001b[39m\n",
       "\n",
       "  Sample a random vector from the provided multi-variate normal distribution.\n",
       "\n",
       "  ────────────────────────────────────────────────────────────────────────────\n",
       "\n",
       "\u001b[36m  rand(::AbstractRNG, ::Sampleable)\u001b[39m\n",
       "\n",
       "  Samples from the sampler and returns the result.\n",
       "\n",
       "  ────────────────────────────────────────────────────────────────────────────\n",
       "\n",
       "\u001b[36m  rand(d::Union{UnivariateMixture, MultivariateMixture})\u001b[39m\n",
       "\n",
       "  Draw a sample from the mixture model \u001b[36md\u001b[39m.\n",
       "\n",
       "\u001b[36m  rand(d::Union{UnivariateMixture, MultivariateMixture}, n)\u001b[39m\n",
       "\n",
       "  Draw \u001b[36mn\u001b[39m samples from \u001b[36md\u001b[39m.\n",
       "\n",
       "  ────────────────────────────────────────────────────────────────────────────\n",
       "\n",
       "\u001b[36m  rand(rng::AbstractRNG, d::Any)\u001b[39m\n",
       "\n",
       "  Return a random element from distribution or space \u001b[36md\u001b[39m.\n",
       "\n",
       "  If \u001b[36md\u001b[39m is a state or transition distribution, the sample will be a state; if \u001b[36md\u001b[39m\n",
       "  is an action distribution, the sample will be an action or if \u001b[36md\u001b[39m is an\n",
       "  observation distribution, the sample will be an observation."
      ]
     },
     "execution_count": 47,
     "metadata": {},
     "output_type": "execute_result"
    }
   ],
   "source": [
    "?rand"
   ]
  },
  {
   "cell_type": "code",
   "execution_count": null,
   "metadata": {},
   "outputs": [],
   "source": []
  }
 ],
 "metadata": {
  "kernelspec": {
   "display_name": "Julia 1.4.2",
   "language": "julia",
   "name": "julia-1.4"
  },
  "language_info": {
   "file_extension": ".jl",
   "mimetype": "application/julia",
   "name": "julia",
   "version": "1.4.2"
  }
 },
 "nbformat": 4,
 "nbformat_minor": 4
}
