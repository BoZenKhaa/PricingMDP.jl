{
 "cells": [
  {
   "cell_type": "code",
   "execution_count": 1,
   "metadata": {},
   "outputs": [
    {
     "name": "stderr",
     "output_type": "stream",
     "text": [
      "┌ Info: Precompiling PMDPs [970633d0-fc35-4d62-9bcd-e74aee58f016]\n",
      "└ @ Base loading.jl:1278\n",
      "┌ Warning: Module OrderedCollections with build ID 151762432771501 is missing from the cache.\n",
      "│ This may mean OrderedCollections [bac558e1-5e72-5ebc-8fee-abe8a469f55d] does not support precompilation but is imported by a module that does.\n",
      "└ @ Base loading.jl:1017\n",
      "┌ Warning: Module OrderedCollections with build ID 151762432771501 is missing from the cache.\n",
      "│ This may mean OrderedCollections [bac558e1-5e72-5ebc-8fee-abe8a469f55d] does not support precompilation but is imported by a module that does.\n",
      "└ @ Base loading.jl:1017\n",
      "┌ Warning: Module OrderedCollections with build ID 151762432771501 is missing from the cache.\n",
      "│ This may mean OrderedCollections [bac558e1-5e72-5ebc-8fee-abe8a469f55d] does not support precompilation but is imported by a module that does.\n",
      "└ @ Base loading.jl:1017\n",
      "┌ Warning: Module OrderedCollections with build ID 151762432771501 is missing from the cache.\n",
      "│ This may mean OrderedCollections [bac558e1-5e72-5ebc-8fee-abe8a469f55d] does not support precompilation but is imported by a module that does.\n",
      "└ @ Base loading.jl:1017\n",
      "┌ Warning: Module OrderedCollections with build ID 151762432771501 is missing from the cache.\n",
      "│ This may mean OrderedCollections [bac558e1-5e72-5ebc-8fee-abe8a469f55d] does not support precompilation but is imported by a module that does.\n",
      "└ @ Base loading.jl:1017\n",
      "┌ Warning: Module OrderedCollections with build ID 151762432771501 is missing from the cache.\n",
      "│ This may mean OrderedCollections [bac558e1-5e72-5ebc-8fee-abe8a469f55d] does not support precompilation but is imported by a module that does.\n",
      "└ @ Base loading.jl:1017\n",
      "┌ Warning: Module OrderedCollections with build ID 151762432771501 is missing from the cache.\n",
      "│ This may mean OrderedCollections [bac558e1-5e72-5ebc-8fee-abe8a469f55d] does not support precompilation but is imported by a module that does.\n",
      "└ @ Base loading.jl:1017\n",
      "┌ Warning: Module OrderedCollections with build ID 151762432771501 is missing from the cache.\n",
      "│ This may mean OrderedCollections [bac558e1-5e72-5ebc-8fee-abe8a469f55d] does not support precompilation but is imported by a module that does.\n",
      "└ @ Base loading.jl:1017\n",
      "┌ Warning: Module OrderedCollections with build ID 151762432771501 is missing from the cache.\n",
      "│ This may mean OrderedCollections [bac558e1-5e72-5ebc-8fee-abe8a469f55d] does not support precompilation but is imported by a module that does.\n",
      "└ @ Base loading.jl:1017\n",
      "┌ Warning: Module OrderedCollections with build ID 151762432771501 is missing from the cache.\n",
      "│ This may mean OrderedCollections [bac558e1-5e72-5ebc-8fee-abe8a469f55d] does not support precompilation but is imported by a module that does.\n",
      "└ @ Base loading.jl:1017\n",
      "┌ Warning: Module OrderedCollections with build ID 151762432771501 is missing from the cache.\n",
      "│ This may mean OrderedCollections [bac558e1-5e72-5ebc-8fee-abe8a469f55d] does not support precompilation but is imported by a module that does.\n",
      "└ @ Base loading.jl:1017\n",
      "┌ Warning: Module OrderedCollections with build ID 151762432771501 is missing from the cache.\n",
      "│ This may mean OrderedCollections [bac558e1-5e72-5ebc-8fee-abe8a469f55d] does not support precompilation but is imported by a module that does.\n",
      "└ @ Base loading.jl:1017\n",
      "┌ Warning: Module OrderedCollections with build ID 151762432771501 is missing from the cache.\n",
      "│ This may mean OrderedCollections [bac558e1-5e72-5ebc-8fee-abe8a469f55d] does not support precompilation but is imported by a module that does.\n",
      "└ @ Base loading.jl:1017\n",
      "┌ Warning: Module OrderedCollections with build ID 151762432771501 is missing from the cache.\n",
      "│ This may mean OrderedCollections [bac558e1-5e72-5ebc-8fee-abe8a469f55d] does not support precompilation but is imported by a module that does.\n",
      "└ @ Base loading.jl:1017\n",
      "┌ Warning: Module OrderedCollections with build ID 151762432771501 is missing from the cache.\n",
      "│ This may mean OrderedCollections [bac558e1-5e72-5ebc-8fee-abe8a469f55d] does not support precompilation but is imported by a module that does.\n",
      "└ @ Base loading.jl:1017\n",
      "┌ Warning: Module OrderedCollections with build ID 151762432771501 is missing from the cache.\n",
      "│ This may mean OrderedCollections [bac558e1-5e72-5ebc-8fee-abe8a469f55d] does not support precompilation but is imported by a module that does.\n",
      "└ @ Base loading.jl:1017\n",
      "┌ Info: Skipping precompilation since __precompile__(false). Importing PMDPs [970633d0-fc35-4d62-9bcd-e74aee58f016].\n",
      "└ @ Base loading.jl:1034\n",
      "┌ Info: Precompiling POMDPs [a93abf59-7444-517b-a68a-c42f96afdd7d]\n",
      "└ @ Base loading.jl:1278\n",
      "┌ Warning: Module OrderedCollections with build ID 151762432771501 is missing from the cache.\n",
      "│ This may mean OrderedCollections [bac558e1-5e72-5ebc-8fee-abe8a469f55d] does not support precompilation but is imported by a module that does.\n",
      "└ @ Base loading.jl:1017\n",
      "┌ Warning: Module OrderedCollections with build ID 151762432771501 is missing from the cache.\n",
      "│ This may mean OrderedCollections [bac558e1-5e72-5ebc-8fee-abe8a469f55d] does not support precompilation but is imported by a module that does.\n",
      "└ @ Base loading.jl:1017\n",
      "┌ Warning: Module OrderedCollections with build ID 151762432771501 is missing from the cache.\n",
      "│ This may mean OrderedCollections [bac558e1-5e72-5ebc-8fee-abe8a469f55d] does not support precompilation but is imported by a module that does.\n",
      "└ @ Base loading.jl:1017\n",
      "┌ Warning: Module OrderedCollections with build ID 151762432771501 is missing from the cache.\n",
      "│ This may mean OrderedCollections [bac558e1-5e72-5ebc-8fee-abe8a469f55d] does not support precompilation but is imported by a module that does.\n",
      "└ @ Base loading.jl:1017\n",
      "┌ Warning: Module OrderedCollections with build ID 151762432771501 is missing from the cache.\n",
      "│ This may mean OrderedCollections [bac558e1-5e72-5ebc-8fee-abe8a469f55d] does not support precompilation but is imported by a module that does.\n",
      "└ @ Base loading.jl:1017\n",
      "┌ Warning: Module OrderedCollections with build ID 151762432771501 is missing from the cache.\n",
      "│ This may mean OrderedCollections [bac558e1-5e72-5ebc-8fee-abe8a469f55d] does not support precompilation but is imported by a module that does.\n",
      "└ @ Base loading.jl:1017\n",
      "┌ Warning: Module OrderedCollections with build ID 151762432771501 is missing from the cache.\n",
      "│ This may mean OrderedCollections [bac558e1-5e72-5ebc-8fee-abe8a469f55d] does not support precompilation but is imported by a module that does.\n",
      "└ @ Base loading.jl:1017\n",
      "┌ Warning: Module OrderedCollections with build ID 151762432771501 is missing from the cache.\n",
      "│ This may mean OrderedCollections [bac558e1-5e72-5ebc-8fee-abe8a469f55d] does not support precompilation but is imported by a module that does.\n",
      "└ @ Base loading.jl:1017\n",
      "┌ Info: Skipping precompilation since __precompile__(false). Importing POMDPs [a93abf59-7444-517b-a68a-c42f96afdd7d].\n",
      "└ @ Base loading.jl:1034\n",
      "┌ Info: Precompiling Distributions [31c24e10-a181-5473-b8eb-7969acd0382f]\n",
      "└ @ Base loading.jl:1278\n",
      "┌ Warning: Module OrderedCollections with build ID 151762432771501 is missing from the cache.\n",
      "│ This may mean OrderedCollections [bac558e1-5e72-5ebc-8fee-abe8a469f55d] does not support precompilation but is imported by a module that does.\n",
      "└ @ Base loading.jl:1017\n",
      "┌ Warning: Module OrderedCollections with build ID 151762432771501 is missing from the cache.\n",
      "│ This may mean OrderedCollections [bac558e1-5e72-5ebc-8fee-abe8a469f55d] does not support precompilation but is imported by a module that does.\n",
      "└ @ Base loading.jl:1017\n",
      "┌ Warning: Module OrderedCollections with build ID 151762432771501 is missing from the cache.\n",
      "│ This may mean OrderedCollections [bac558e1-5e72-5ebc-8fee-abe8a469f55d] does not support precompilation but is imported by a module that does.\n",
      "└ @ Base loading.jl:1017\n",
      "┌ Warning: Module OrderedCollections with build ID 151762432771501 is missing from the cache.\n",
      "│ This may mean OrderedCollections [bac558e1-5e72-5ebc-8fee-abe8a469f55d] does not support precompilation but is imported by a module that does.\n",
      "└ @ Base loading.jl:1017\n",
      "┌ Info: Skipping precompilation since __precompile__(false). Importing Distributions [31c24e10-a181-5473-b8eb-7969acd0382f].\n",
      "└ @ Base loading.jl:1034\n",
      "┌ Info: Precompiling StatsBase [2913bbd2-ae8a-5f71-8c99-4fb6c76f3a91]\n",
      "└ @ Base loading.jl:1278\n",
      "┌ Warning: Module OrderedCollections with build ID 151762432771501 is missing from the cache.\n",
      "│ This may mean OrderedCollections [bac558e1-5e72-5ebc-8fee-abe8a469f55d] does not support precompilation but is imported by a module that does.\n",
      "└ @ Base loading.jl:1017\n",
      "┌ Warning: Module OrderedCollections with build ID 151762432771501 is missing from the cache.\n",
      "│ This may mean OrderedCollections [bac558e1-5e72-5ebc-8fee-abe8a469f55d] does not support precompilation but is imported by a module that does.\n",
      "└ @ Base loading.jl:1017\n",
      "┌ Info: Skipping precompilation since __precompile__(false). Importing StatsBase [2913bbd2-ae8a-5f71-8c99-4fb6c76f3a91].\n",
      "└ @ Base loading.jl:1034\n",
      "┌ Info: Precompiling DataStructures [864edb3b-99cc-5e75-8d2d-829cb0a9cfe8]\n",
      "└ @ Base loading.jl:1278\n",
      "┌ Warning: Module OrderedCollections with build ID 151762432771501 is missing from the cache.\n",
      "│ This may mean OrderedCollections [bac558e1-5e72-5ebc-8fee-abe8a469f55d] does not support precompilation but is imported by a module that does.\n",
      "└ @ Base loading.jl:1017\n",
      "┌ Info: Skipping precompilation since __precompile__(false). Importing DataStructures [864edb3b-99cc-5e75-8d2d-829cb0a9cfe8].\n",
      "└ @ Base loading.jl:1034\n",
      "┌ Info: Precompiling SortingAlgorithms [a2af1166-a08f-5f64-846c-94a0d3cef48c]\n",
      "└ @ Base loading.jl:1278\n",
      "┌ Warning: Module DataStructures with build ID 77091512785429 is missing from the cache.\n",
      "│ This may mean DataStructures [864edb3b-99cc-5e75-8d2d-829cb0a9cfe8] does not support precompilation but is imported by a module that does.\n",
      "└ @ Base loading.jl:1017\n",
      "┌ Info: Skipping precompilation since __precompile__(false). Importing SortingAlgorithms [a2af1166-a08f-5f64-846c-94a0d3cef48c].\n",
      "└ @ Base loading.jl:1034\n",
      "┌ Info: Precompiling QuadGK [1fd47b50-473d-5c70-9696-f719f8f3bcdc]\n",
      "└ @ Base loading.jl:1278\n",
      "┌ Warning: Module DataStructures with build ID 77091512785429 is missing from the cache.\n",
      "│ This may mean DataStructures [864edb3b-99cc-5e75-8d2d-829cb0a9cfe8] does not support precompilation but is imported by a module that does.\n",
      "└ @ Base loading.jl:1017\n",
      "┌ Info: Skipping precompilation since __precompile__(false). Importing QuadGK [1fd47b50-473d-5c70-9696-f719f8f3bcdc].\n",
      "└ @ Base loading.jl:1034\n",
      "┌ Info: Precompiling LightGraphs [093fc24a-ae57-5d10-9952-331d41423f4d]\n",
      "└ @ Base loading.jl:1278\n",
      "┌ Warning: Module DataStructures with build ID 77091512785429 is missing from the cache.\n",
      "│ This may mean DataStructures [864edb3b-99cc-5e75-8d2d-829cb0a9cfe8] does not support precompilation but is imported by a module that does.\n",
      "└ @ Base loading.jl:1017\n",
      "┌ Info: Skipping precompilation since __precompile__(false). Importing LightGraphs [093fc24a-ae57-5d10-9952-331d41423f4d].\n",
      "└ @ Base loading.jl:1034\n",
      "┌ Info: Precompiling POMDPModelTools [08074719-1b2a-587c-a292-00f91cc44415]\n",
      "└ @ Base loading.jl:1278\n",
      "┌ Warning: Module POMDPs with build ID 77086861996125 is missing from the cache.\n",
      "│ This may mean POMDPs [a93abf59-7444-517b-a68a-c42f96afdd7d] does not support precompilation but is imported by a module that does.\n",
      "└ @ Base loading.jl:1017\n",
      "┌ Info: Skipping precompilation since __precompile__(false). Importing POMDPModelTools [08074719-1b2a-587c-a292-00f91cc44415].\n",
      "└ @ Base loading.jl:1034\n",
      "┌ Info: Precompiling UnicodePlots [b8865327-cd53-5732-bb35-84acbb429228]\n",
      "└ @ Base loading.jl:1278\n",
      "┌ Warning: Module StatsBase with build ID 77091007687327 is missing from the cache.\n",
      "│ This may mean StatsBase [2913bbd2-ae8a-5f71-8c99-4fb6c76f3a91] does not support precompilation but is imported by a module that does.\n",
      "└ @ Base loading.jl:1017\n",
      "┌ Info: Skipping precompilation since __precompile__(false). Importing UnicodePlots [b8865327-cd53-5732-bb35-84acbb429228].\n",
      "└ @ Base loading.jl:1034\n",
      "┌ Info: Precompiling POMDPSimulators [e0d0a172-29c6-5d4e-96d0-f262df5d01fd]\n",
      "└ @ Base loading.jl:1278\n",
      "┌ Warning: Module POMDPs with build ID 77086861996125 is missing from the cache.\n",
      "│ This may mean POMDPs [a93abf59-7444-517b-a68a-c42f96afdd7d] does not support precompilation but is imported by a module that does.\n",
      "└ @ Base loading.jl:1017\n",
      "┌ Info: Skipping precompilation since __precompile__(false). Importing POMDPSimulators [e0d0a172-29c6-5d4e-96d0-f262df5d01fd].\n",
      "└ @ Base loading.jl:1034\n",
      "┌ Info: Precompiling DataFrames [a93c6f00-e57d-5684-b7b6-d8193f3e46c0]\n",
      "└ @ Base loading.jl:1278\n",
      "┌ Warning: Module SortingAlgorithms with build ID 77093915007031 is missing from the cache.\n",
      "│ This may mean SortingAlgorithms [a2af1166-a08f-5f64-846c-94a0d3cef48c] does not support precompilation but is imported by a module that does.\n",
      "└ @ Base loading.jl:1017\n",
      "┌ Info: Skipping precompilation since __precompile__(false). Importing DataFrames [a93c6f00-e57d-5684-b7b6-d8193f3e46c0].\n",
      "└ @ Base loading.jl:1034\n",
      "┌ Info: Precompiling POMDPPolicies [182e52fb-cfd0-5e46-8c26-fd0667c990f4]\n",
      "└ @ Base loading.jl:1278\n",
      "┌ Warning: Module StatsBase with build ID 77091007687327 is missing from the cache.\n",
      "│ This may mean StatsBase [2913bbd2-ae8a-5f71-8c99-4fb6c76f3a91] does not support precompilation but is imported by a module that does.\n",
      "└ @ Base loading.jl:1017\n",
      "┌ Info: Skipping precompilation since __precompile__(false). Importing POMDPPolicies [182e52fb-cfd0-5e46-8c26-fd0667c990f4].\n",
      "└ @ Base loading.jl:1034\n",
      "┌ Info: Precompiling Parameters [d96e819e-fc66-5662-9728-84c9c7592b0a]\n",
      "└ @ Base loading.jl:1278\n",
      "┌ Warning: Module OrderedCollections with build ID 151762432771501 is missing from the cache.\n",
      "│ This may mean OrderedCollections [bac558e1-5e72-5ebc-8fee-abe8a469f55d] does not support precompilation but is imported by a module that does.\n",
      "└ @ Base loading.jl:1017\n",
      "┌ Info: Skipping precompilation since __precompile__(false). Importing Parameters [d96e819e-fc66-5662-9728-84c9c7592b0a].\n",
      "└ @ Base loading.jl:1034\n",
      "┌ Info: Precompiling BeliefUpdaters [8bb6e9a1-7d73-552c-a44a-e5dc5634aac4]\n",
      "└ @ Base loading.jl:1278\n",
      "┌ Warning: Module POMDPs with build ID 77086861996125 is missing from the cache.\n",
      "│ This may mean POMDPs [a93abf59-7444-517b-a68a-c42f96afdd7d] does not support precompilation but is imported by a module that does.\n",
      "└ @ Base loading.jl:1017\n",
      "┌ Info: Skipping precompilation since __precompile__(false). Importing BeliefUpdaters [8bb6e9a1-7d73-552c-a44a-e5dc5634aac4].\n",
      "└ @ Base loading.jl:1034\n",
      "┌ Info: Precompiling MCTS [e12ccd36-dcad-5f33-8774-9175229e7b33]\n",
      "└ @ Base loading.jl:1278\n",
      "┌ Warning: Module POMDPs with build ID 77086861996125 is missing from the cache.\n",
      "│ This may mean POMDPs [a93abf59-7444-517b-a68a-c42f96afdd7d] does not support precompilation but is imported by a module that does.\n",
      "└ @ Base loading.jl:1017\n",
      "┌ Info: Skipping precompilation since __precompile__(false). Importing MCTS [e12ccd36-dcad-5f33-8774-9175229e7b33].\n",
      "└ @ Base loading.jl:1034\n",
      "┌ Info: Precompiling DiscreteValueIteration [4b033969-44f6-5439-a48b-c11fa3648068]\n",
      "└ @ Base loading.jl:1278\n",
      "┌ Warning: Module POMDPs with build ID 77086861996125 is missing from the cache.\n",
      "│ This may mean POMDPs [a93abf59-7444-517b-a68a-c42f96afdd7d] does not support precompilation but is imported by a module that does.\n",
      "└ @ Base loading.jl:1017\n",
      "┌ Info: Skipping precompilation since __precompile__(false). Importing DiscreteValueIteration [4b033969-44f6-5439-a48b-c11fa3648068].\n",
      "└ @ Base loading.jl:1034\n",
      "┌ Info: Precompiling Gurobi [2e9cd046-0924-5485-92f1-d5272153d98b]\n",
      "└ @ Base loading.jl:1278\n",
      "┌ Warning: Module OrderedCollections with build ID 151762432771501 is missing from the cache.\n",
      "│ This may mean OrderedCollections [bac558e1-5e72-5ebc-8fee-abe8a469f55d] does not support precompilation but is imported by a module that does.\n",
      "└ @ Base loading.jl:1017\n",
      "┌ Warning: Module OrderedCollections with build ID 151762432771501 is missing from the cache.\n",
      "│ This may mean OrderedCollections [bac558e1-5e72-5ebc-8fee-abe8a469f55d] does not support precompilation but is imported by a module that does.\n",
      "└ @ Base loading.jl:1017\n",
      "┌ Info: Skipping precompilation since __precompile__(false). Importing Gurobi [2e9cd046-0924-5485-92f1-d5272153d98b].\n",
      "└ @ Base loading.jl:1034\n",
      "┌ Info: Precompiling MathOptInterface [b8f27783-ece8-5eb3-8dc8-9495eed66fee]\n",
      "└ @ Base loading.jl:1278\n",
      "┌ Warning: Module OrderedCollections with build ID 151762432771501 is missing from the cache.\n",
      "│ This may mean OrderedCollections [bac558e1-5e72-5ebc-8fee-abe8a469f55d] does not support precompilation but is imported by a module that does.\n",
      "└ @ Base loading.jl:1017\n",
      "┌ Info: Skipping precompilation since __precompile__(false). Importing MathOptInterface [b8f27783-ece8-5eb3-8dc8-9495eed66fee].\n",
      "└ @ Base loading.jl:1034\n",
      "┌ Info: Precompiling FiniteHorizonPOMDPs [8a13bbfe-798e-11e9-2f1c-eba9ee5ef093]\n",
      "└ @ Base loading.jl:1278\n",
      "┌ Warning: Module POMDPs with build ID 77086861996125 is missing from the cache.\n",
      "│ This may mean POMDPs [a93abf59-7444-517b-a68a-c42f96afdd7d] does not support precompilation but is imported by a module that does.\n",
      "└ @ Base loading.jl:1017\n",
      "┌ Info: Skipping precompilation since __precompile__(false). Importing FiniteHorizonPOMDPs [8a13bbfe-798e-11e9-2f1c-eba9ee5ef093].\n",
      "└ @ Base loading.jl:1034\n",
      "┌ Info: Precompiling GLPK [60bf3e95-4087-53dc-ae20-288a0d20c6a6]\n",
      "└ @ Base loading.jl:1278\n",
      "┌ Warning: Module MathOptInterface with build ID 77163018721807 is missing from the cache.\n",
      "│ This may mean MathOptInterface [b8f27783-ece8-5eb3-8dc8-9495eed66fee] does not support precompilation but is imported by a module that does.\n",
      "└ @ Base loading.jl:1017\n",
      "┌ Info: Skipping precompilation since __precompile__(false). Importing GLPK [60bf3e95-4087-53dc-ae20-288a0d20c6a6].\n",
      "└ @ Base loading.jl:1034\n",
      "┌ Info: Precompiling JuMP [4076af6c-e467-56ae-b986-b466b2749572]\n",
      "└ @ Base loading.jl:1278\n",
      "┌ Warning: Module MathOptInterface with build ID 77163018721807 is missing from the cache.\n",
      "│ This may mean MathOptInterface [b8f27783-ece8-5eb3-8dc8-9495eed66fee] does not support precompilation but is imported by a module that does.\n",
      "└ @ Base loading.jl:1017\n",
      "┌ Info: Skipping precompilation since __precompile__(false). Importing JuMP [4076af6c-e467-56ae-b986-b466b2749572].\n",
      "└ @ Base loading.jl:1034\n",
      "┌ Info: Precompiling Plots [91a5bcdd-55d7-5caf-9e0b-520d859cae80]\n",
      "└ @ Base loading.jl:1278\n",
      "┌ Warning: Module StatsBase with build ID 77091007687327 is missing from the cache.\n",
      "│ This may mean StatsBase [2913bbd2-ae8a-5f71-8c99-4fb6c76f3a91] does not support precompilation but is imported by a module that does.\n",
      "└ @ Base loading.jl:1017\n",
      "┌ Info: Skipping precompilation since __precompile__(false). Importing Plots [91a5bcdd-55d7-5caf-9e0b-520d859cae80].\n",
      "└ @ Base loading.jl:1034\n"
     ]
    }
   ],
   "source": [
    "using PMDPs\n",
    "using Test\n",
    "using POMDPSimulators\n",
    "\n",
    "using StaticArrays\n",
    "using POMDPs\n",
    "using MCTS, DiscreteValueIteration\n",
    "using StatsBase\n",
    "using Plots\n",
    "using POMDPSimulators\n",
    "using D3Trees\n",
    "using POMDPPolicies\n",
    "using POMDPLinter\n",
    "using Random\n",
    "using DataFrames\n",
    "# using CSV\n",
    "# using CSVFiles\n",
    "using BSON\n",
    "using POMDPSimulators\n",
    "\n",
    "using DrWatson\n",
    "using Distributions\n",
    "using BeliefUpdaters\n",
    "\n",
    "using Plots\n",
    "using Latexify"
   ]
  },
  {
   "cell_type": "markdown",
   "metadata": {},
   "source": [
    "# Plan\n",
    "\n",
    "Graphs I want:\n",
    "\n",
    "- big:\n",
    " - demand-revenue\n",
    " - n_iter-revenue %tohle asi ne.\n",
    "\n",
    "- small:\n",
    " - demand-revenue\n",
    " - demand-utilization\n"
   ]
  },
  {
   "cell_type": "code",
   "execution_count": 3,
   "metadata": {},
   "outputs": [
    {
     "data": {
      "text/plain": [
       "\"Expected demand\""
      ]
     },
     "execution_count": 3,
     "metadata": {},
     "output_type": "execute_result"
    }
   ],
   "source": [
    "plot_size = ((1+sqrt(5))/2, 1).*100 .*3\n",
    "label_demand = \"Expected number of requests (λ)\"\n",
    "label_demand = \"Expected demand\""
   ]
  },
  {
   "cell_type": "code",
   "execution_count": 4,
   "metadata": {},
   "outputs": [],
   "source": [
    "# res = DrWatson.collect_results(joinpath(datadir(), \"results\", \"linear_problem\"));"
   ]
  },
  {
   "cell_type": "code",
   "execution_count": 5,
   "metadata": {},
   "outputs": [
    {
     "data": {
      "text/plain": [
       "Dict{Any,Any} with 5 entries:\n",
       "  :pp_params        => Dict{Symbol,Any}(:T=>10,:c=>3,:res_budget_μ=>5.0,:nᵣ=>3,…\n",
       "  :agg              => \u001b[1m4×7 DataFrame\u001b[0m…\n",
       "  :(string(method)) => \"fhvi\"\n",
       "  :results          => \u001b[1m1×8 DataFrame\u001b[0m…\n",
       "  :(data[:name])    => \"linear_problem\""
      ]
     },
     "execution_count": 5,
     "metadata": {},
     "output_type": "execute_result"
    }
   ],
   "source": [
    "res_folder = joinpath(datadir(), \"results\", \"linear_problem\")\n",
    "res_files = readdir(res_folder)\n",
    "    \n",
    "res = BSON.load(joinpath(res_folder,res_files[1]))"
   ]
  },
  {
   "cell_type": "code",
   "execution_count": 6,
   "metadata": {},
   "outputs": [
    {
     "data": {
      "text/html": [
       "<table class=\"data-frame\"><thead><tr><th></th><th>method</th><th>NE</th><th>NP</th><th>NV</th><th>T</th><th>c</th><th>expected_res</th><th>res_budget_μ</th><th>seed</th></tr><tr><th></th><th>Symbol</th><th>Int64</th><th>Int64</th><th>Int64</th><th>Int64</th><th>Int64</th><th>Float64</th><th>Float64</th><th>Int64</th></tr></thead><tbody><p>1 rows × 25 columns (omitted printing of 16 columns)</p><tr><th>1</th><td>flatrate</td><td>20</td><td>50</td><td>8</td><td>1000</td><td>10</td><td>400.0</td><td>5.0</td><td>1</td></tr></tbody></table>"
      ],
      "text/latex": [
       "\\begin{tabular}{r|cccccccccc}\n",
       "\t& method & NE & NP & NV & T & c & expected\\_res & res\\_budget\\_μ & seed & \\\\\n",
       "\t\\hline\n",
       "\t& Symbol & Int64 & Int64 & Int64 & Int64 & Int64 & Float64 & Float64 & Int64 & \\\\\n",
       "\t\\hline\n",
       "\t1 & flatrate & 20 & 50 & 8 & 1000 & 10 & 400.0 & 5.0 & 1 & $\\dots$ \\\\\n",
       "\\end{tabular}\n"
      ],
      "text/plain": [
       "\u001b[1m1×25 DataFrame\u001b[0m\n",
       "\u001b[1m Row \u001b[0m│\u001b[1m method   \u001b[0m\u001b[1m NE    \u001b[0m\u001b[1m NP    \u001b[0m\u001b[1m NV    \u001b[0m\u001b[1m T     \u001b[0m\u001b[1m c     \u001b[0m\u001b[1m expected_res \u001b[0m\u001b[1m res_budget_μ\u001b[0m ⋯\n",
       "\u001b[1m     \u001b[0m│\u001b[90m Symbol   \u001b[0m\u001b[90m Int64 \u001b[0m\u001b[90m Int64 \u001b[0m\u001b[90m Int64 \u001b[0m\u001b[90m Int64 \u001b[0m\u001b[90m Int64 \u001b[0m\u001b[90m Float64      \u001b[0m\u001b[90m Float64     \u001b[0m ⋯\n",
       "─────┼──────────────────────────────────────────────────────────────────────────\n",
       "   1 │ flatrate     20     50      8   1000     10         400.0           5.0 ⋯\n",
       "\u001b[36m                                                              17 columns omitted\u001b[0m"
      ]
     },
     "execution_count": 6,
     "metadata": {},
     "output_type": "execute_result"
    }
   ],
   "source": [
    "function res2row(res)\n",
    "    row_dfs = []\n",
    "    \n",
    "    # process pp_params into df with single row\n",
    "    row = DataFrame(res[:pp_params])\n",
    "    push!(row_dfs, row)\n",
    "    \n",
    "    # process agg: move evry row from \"description\" into single dataframe of one row\n",
    "    agg = select(res[:agg], [:variable, :mean, :median, :min, :max])\n",
    "    for row in eachrow(agg)\n",
    "        v = string(row.variable)\n",
    "        row = DataFrame(row[2:end])\n",
    "        rename!(s-> s*\"_$v\", row)\n",
    "        push!(row_dfs, row)\n",
    "    end\n",
    "    \n",
    "    # compact dfs into single row\n",
    "    df = hcat(row_dfs...)\n",
    "    \n",
    "    # add method name\n",
    "    method = first(res[:results]).name\n",
    "    insertcols!(df, 1, :method=>method)\n",
    "end\n",
    "\n",
    "res_folder = joinpath(datadir(), \"results\", \"graph_problem\")\n",
    "res_files = readdir(res_folder)\n",
    "    \n",
    "res = BSON.load(joinpath(res_folder,res_files[1]))\n",
    "\n",
    "res2row(res)"
   ]
  },
  {
   "cell_type": "code",
   "execution_count": 7,
   "metadata": {},
   "outputs": [],
   "source": [
    "res_folder = joinpath(datadir(), \"results\", \"linear_problem\")\n",
    "res_files = readdir(res_folder)\n",
    "\n",
    "rows = []\n",
    "for res_file in res_files\n",
    "    res = BSON.load(joinpath(res_folder,res_file))\n",
    "    row = res2row(res)\n",
    "    push!(rows, row)\n",
    "end\n",
    "\n",
    "results = vcat(rows...);\n",
    "sort!(results, [:method, :expected_res]);"
   ]
  },
  {
   "cell_type": "code",
   "execution_count": 8,
   "metadata": {},
   "outputs": [
    {
     "data": {
      "text/html": [
       "<table class=\"data-frame\"><thead><tr><th></th><th>method</th><th>T</th><th>c</th><th>expected_res</th><th>nᵣ</th><th>res_budget_μ</th><th>mean_r</th><th>median_r</th><th>min_r</th></tr><tr><th></th><th>Symbol</th><th>Int64</th><th>Int64</th><th>Float64</th><th>Int64</th><th>Float64</th><th>Float64</th><th>Float64</th><th>Any</th></tr></thead><tbody><p>83 rows × 22 columns (omitted printing of 13 columns)</p><tr><th>1</th><td>fhvi</td><td>10</td><td>3</td><td>3.0</td><td>3</td><td>5.0</td><td>17.5</td><td>17.5</td><td>17.5</td></tr><tr><th>2</th><td>flatrate</td><td>1000</td><td>40</td><td>50.0</td><td>10</td><td>5.0</td><td>140.0</td><td>160.0</td><td>40.0</td></tr><tr><th>3</th><td>flatrate</td><td>1000</td><td>40</td><td>100.0</td><td>10</td><td>5.0</td><td>233.333</td><td>280.0</td><td>105.0</td></tr><tr><th>4</th><td>flatrate</td><td>1000</td><td>40</td><td>150.0</td><td>10</td><td>5.0</td><td>309.167</td><td>332.5</td><td>192.5</td></tr><tr><th>5</th><td>flatrate</td><td>1000</td><td>40</td><td>200.0</td><td>10</td><td>5.0</td><td>443.333</td><td>490.0</td><td>332.5</td></tr><tr><th>6</th><td>flatrate</td><td>1000</td><td>40</td><td>250.0</td><td>10</td><td>5.0</td><td>540.0</td><td>500.0</td><td>440.0</td></tr><tr><th>7</th><td>flatrate</td><td>1000</td><td>40</td><td>300.0</td><td>10</td><td>5.0</td><td>682.5</td><td>682.5</td><td>595.0</td></tr><tr><th>8</th><td>flatrate</td><td>1000</td><td>40</td><td>350.0</td><td>10</td><td>5.0</td><td>840.0</td><td>820.0</td><td>760.0</td></tr><tr><th>9</th><td>flatrate</td><td>1000</td><td>40</td><td>400.0</td><td>10</td><td>5.0</td><td>816.667</td><td>805.0</td><td>787.5</td></tr><tr><th>10</th><td>flatrate</td><td>1000</td><td>40</td><td>450.0</td><td>10</td><td>5.0</td><td>860.0</td><td>840.0</td><td>840.0</td></tr><tr><th>11</th><td>flatrate</td><td>1000</td><td>40</td><td>500.0</td><td>10</td><td>5.0</td><td>840.0</td><td>840.0</td><td>840.0</td></tr><tr><th>12</th><td>flatrate</td><td>1000</td><td>40</td><td>550.0</td><td>10</td><td>5.0</td><td>860.0</td><td>885.0</td><td>795.0</td></tr><tr><th>13</th><td>flatrate</td><td>1000</td><td>40</td><td>600.0</td><td>10</td><td>5.0</td><td>904.167</td><td>910.0</td><td>875.0</td></tr><tr><th>14</th><td>flatrate</td><td>1000</td><td>40</td><td>650.0</td><td>10</td><td>5.0</td><td>946.667</td><td>960.0</td><td>900.0</td></tr><tr><th>15</th><td>flatrate</td><td>1000</td><td>40</td><td>700.0</td><td>10</td><td>5.0</td><td>850.0</td><td>840.0</td><td>795.0</td></tr><tr><th>16</th><td>flatrate</td><td>1000</td><td>40</td><td>750.0</td><td>10</td><td>5.0</td><td>857.5</td><td>840.0</td><td>840.0</td></tr><tr><th>17</th><td>flatrate</td><td>1000</td><td>40</td><td>800.0</td><td>10</td><td>5.0</td><td>892.5</td><td>892.5</td><td>892.5</td></tr><tr><th>18</th><td>flatrate</td><td>1000</td><td>40</td><td>800.0</td><td>10</td><td>5.0</td><td>953.333</td><td>960.0</td><td>940.0</td></tr><tr><th>19</th><td>flatrate</td><td>1000</td><td>40</td><td>850.0</td><td>10</td><td>5.0</td><td>880.833</td><td>875.0</td><td>857.5</td></tr><tr><th>20</th><td>flatrate</td><td>1000</td><td>40</td><td>900.0</td><td>10</td><td>5.0</td><td>920.0</td><td>920.0</td><td>900.0</td></tr><tr><th>21</th><td>flatrate</td><td>1000</td><td>40</td><td>950.0</td><td>10</td><td>5.0</td><td>834.167</td><td>840.0</td><td>822.5</td></tr><tr><th>22</th><td>flatrate</td><td>1000</td><td>40</td><td>1000.0</td><td>10</td><td>5.0</td><td>890.0</td><td>900.0</td><td>870.0</td></tr><tr><th>23</th><td>flatrate</td><td>1000</td><td>40</td><td>1050.0</td><td>10</td><td>5.0</td><td>985.833</td><td>945.0</td><td>927.5</td></tr><tr><th>24</th><td>flatrate</td><td>1000</td><td>40</td><td>1100.0</td><td>10</td><td>5.0</td><td>960.0</td><td>940.0</td><td>940.0</td></tr><tr><th>25</th><td>flatrate</td><td>1000</td><td>40</td><td>1150.0</td><td>10</td><td>5.0</td><td>945.0</td><td>960.0</td><td>870.0</td></tr><tr><th>26</th><td>flatrate</td><td>1000</td><td>40</td><td>1200.0</td><td>10</td><td>5.0</td><td>993.333</td><td>980.0</td><td>980.0</td></tr><tr><th>27</th><td>flatrate</td><td>1000</td><td>40</td><td>4000.0</td><td>50</td><td>5.0</td><td>4287.5</td><td>4287.5</td><td>4287.5</td></tr><tr><th>28</th><td>hindsight</td><td>1000</td><td>40</td><td>50.0</td><td>10</td><td>5.0</td><td>282.5</td><td>312.5</td><td>120.0</td></tr><tr><th>29</th><td>hindsight</td><td>1000</td><td>40</td><td>100.0</td><td>10</td><td>5.0</td><td>515.833</td><td>487.5</td><td>410.0</td></tr><tr><th>30</th><td>hindsight</td><td>1000</td><td>40</td><td>150.0</td><td>10</td><td>5.0</td><td>717.5</td><td>727.5</td><td>497.5</td></tr><tr><th>&vellip;</th><td>&vellip;</td><td>&vellip;</td><td>&vellip;</td><td>&vellip;</td><td>&vellip;</td><td>&vellip;</td><td>&vellip;</td><td>&vellip;</td><td>&vellip;</td></tr></tbody></table>"
      ],
      "text/latex": [
       "\\begin{tabular}{r|cccccccccc}\n",
       "\t& method & T & c & expected\\_res & nᵣ & res\\_budget\\_μ & mean\\_r & median\\_r & min\\_r & \\\\\n",
       "\t\\hline\n",
       "\t& Symbol & Int64 & Int64 & Float64 & Int64 & Float64 & Float64 & Float64 & Any & \\\\\n",
       "\t\\hline\n",
       "\t1 & fhvi & 10 & 3 & 3.0 & 3 & 5.0 & 17.5 & 17.5 & 17.5 & $\\dots$ \\\\\n",
       "\t2 & flatrate & 1000 & 40 & 50.0 & 10 & 5.0 & 140.0 & 160.0 & 40.0 & $\\dots$ \\\\\n",
       "\t3 & flatrate & 1000 & 40 & 100.0 & 10 & 5.0 & 233.333 & 280.0 & 105.0 & $\\dots$ \\\\\n",
       "\t4 & flatrate & 1000 & 40 & 150.0 & 10 & 5.0 & 309.167 & 332.5 & 192.5 & $\\dots$ \\\\\n",
       "\t5 & flatrate & 1000 & 40 & 200.0 & 10 & 5.0 & 443.333 & 490.0 & 332.5 & $\\dots$ \\\\\n",
       "\t6 & flatrate & 1000 & 40 & 250.0 & 10 & 5.0 & 540.0 & 500.0 & 440.0 & $\\dots$ \\\\\n",
       "\t7 & flatrate & 1000 & 40 & 300.0 & 10 & 5.0 & 682.5 & 682.5 & 595.0 & $\\dots$ \\\\\n",
       "\t8 & flatrate & 1000 & 40 & 350.0 & 10 & 5.0 & 840.0 & 820.0 & 760.0 & $\\dots$ \\\\\n",
       "\t9 & flatrate & 1000 & 40 & 400.0 & 10 & 5.0 & 816.667 & 805.0 & 787.5 & $\\dots$ \\\\\n",
       "\t10 & flatrate & 1000 & 40 & 450.0 & 10 & 5.0 & 860.0 & 840.0 & 840.0 & $\\dots$ \\\\\n",
       "\t11 & flatrate & 1000 & 40 & 500.0 & 10 & 5.0 & 840.0 & 840.0 & 840.0 & $\\dots$ \\\\\n",
       "\t12 & flatrate & 1000 & 40 & 550.0 & 10 & 5.0 & 860.0 & 885.0 & 795.0 & $\\dots$ \\\\\n",
       "\t13 & flatrate & 1000 & 40 & 600.0 & 10 & 5.0 & 904.167 & 910.0 & 875.0 & $\\dots$ \\\\\n",
       "\t14 & flatrate & 1000 & 40 & 650.0 & 10 & 5.0 & 946.667 & 960.0 & 900.0 & $\\dots$ \\\\\n",
       "\t15 & flatrate & 1000 & 40 & 700.0 & 10 & 5.0 & 850.0 & 840.0 & 795.0 & $\\dots$ \\\\\n",
       "\t16 & flatrate & 1000 & 40 & 750.0 & 10 & 5.0 & 857.5 & 840.0 & 840.0 & $\\dots$ \\\\\n",
       "\t17 & flatrate & 1000 & 40 & 800.0 & 10 & 5.0 & 892.5 & 892.5 & 892.5 & $\\dots$ \\\\\n",
       "\t18 & flatrate & 1000 & 40 & 800.0 & 10 & 5.0 & 953.333 & 960.0 & 940.0 & $\\dots$ \\\\\n",
       "\t19 & flatrate & 1000 & 40 & 850.0 & 10 & 5.0 & 880.833 & 875.0 & 857.5 & $\\dots$ \\\\\n",
       "\t20 & flatrate & 1000 & 40 & 900.0 & 10 & 5.0 & 920.0 & 920.0 & 900.0 & $\\dots$ \\\\\n",
       "\t21 & flatrate & 1000 & 40 & 950.0 & 10 & 5.0 & 834.167 & 840.0 & 822.5 & $\\dots$ \\\\\n",
       "\t22 & flatrate & 1000 & 40 & 1000.0 & 10 & 5.0 & 890.0 & 900.0 & 870.0 & $\\dots$ \\\\\n",
       "\t23 & flatrate & 1000 & 40 & 1050.0 & 10 & 5.0 & 985.833 & 945.0 & 927.5 & $\\dots$ \\\\\n",
       "\t24 & flatrate & 1000 & 40 & 1100.0 & 10 & 5.0 & 960.0 & 940.0 & 940.0 & $\\dots$ \\\\\n",
       "\t25 & flatrate & 1000 & 40 & 1150.0 & 10 & 5.0 & 945.0 & 960.0 & 870.0 & $\\dots$ \\\\\n",
       "\t26 & flatrate & 1000 & 40 & 1200.0 & 10 & 5.0 & 993.333 & 980.0 & 980.0 & $\\dots$ \\\\\n",
       "\t27 & flatrate & 1000 & 40 & 4000.0 & 50 & 5.0 & 4287.5 & 4287.5 & 4287.5 & $\\dots$ \\\\\n",
       "\t28 & hindsight & 1000 & 40 & 50.0 & 10 & 5.0 & 282.5 & 312.5 & 120.0 & $\\dots$ \\\\\n",
       "\t29 & hindsight & 1000 & 40 & 100.0 & 10 & 5.0 & 515.833 & 487.5 & 410.0 & $\\dots$ \\\\\n",
       "\t30 & hindsight & 1000 & 40 & 150.0 & 10 & 5.0 & 717.5 & 727.5 & 497.5 & $\\dots$ \\\\\n",
       "\t$\\dots$ & $\\dots$ & $\\dots$ & $\\dots$ & $\\dots$ & $\\dots$ & $\\dots$ & $\\dots$ & $\\dots$ & $\\dots$ &  \\\\\n",
       "\\end{tabular}\n"
      ],
      "text/plain": [
       "\u001b[1m83×22 DataFrame\u001b[0m\n",
       "\u001b[1m Row \u001b[0m│\u001b[1m method   \u001b[0m\u001b[1m T     \u001b[0m\u001b[1m c     \u001b[0m\u001b[1m expected_res \u001b[0m\u001b[1m nᵣ    \u001b[0m\u001b[1m res_budget_μ \u001b[0m\u001b[1m mean_r   \u001b[0m\u001b[1m me\u001b[0m ⋯\n",
       "\u001b[1m     \u001b[0m│\u001b[90m Symbol   \u001b[0m\u001b[90m Int64 \u001b[0m\u001b[90m Int64 \u001b[0m\u001b[90m Float64      \u001b[0m\u001b[90m Int64 \u001b[0m\u001b[90m Float64      \u001b[0m\u001b[90m Float64  \u001b[0m\u001b[90m Fl\u001b[0m ⋯\n",
       "─────┼──────────────────────────────────────────────────────────────────────────\n",
       "   1 │ fhvi         10      3           3.0      3           5.0    17.5       ⋯\n",
       "   2 │ flatrate   1000     40          50.0     10           5.0   140.0\n",
       "   3 │ flatrate   1000     40         100.0     10           5.0   233.333\n",
       "   4 │ flatrate   1000     40         150.0     10           5.0   309.167\n",
       "   5 │ flatrate   1000     40         200.0     10           5.0   443.333     ⋯\n",
       "   6 │ flatrate   1000     40         250.0     10           5.0   540.0\n",
       "   7 │ flatrate   1000     40         300.0     10           5.0   682.5\n",
       "   8 │ flatrate   1000     40         350.0     10           5.0   840.0\n",
       "   9 │ flatrate   1000     40         400.0     10           5.0   816.667     ⋯\n",
       "  10 │ flatrate   1000     40         450.0     10           5.0   860.0\n",
       "  11 │ flatrate   1000     40         500.0     10           5.0   840.0\n",
       "  ⋮  │    ⋮        ⋮      ⋮         ⋮          ⋮         ⋮           ⋮         ⋱\n",
       "  74 │ mcts       1000     40         850.0     10           5.0  1302.5\n",
       "  75 │ mcts       1000     40         900.0     10           5.0  1243.33      ⋯\n",
       "  76 │ mcts       1000     40         950.0     10           5.0  1103.33\n",
       "  77 │ mcts       1000     40        1000.0     10           5.0  1243.33\n",
       "  78 │ mcts       1000     40        1050.0     10           5.0  1248.33\n",
       "  79 │ mcts       1000     40        1100.0     10           5.0  1295.83      ⋯\n",
       "  80 │ mcts       1000     40        1150.0     10           5.0  1305.83\n",
       "  81 │ mcts       1000     40        1200.0     10           5.0  1286.67\n",
       "  82 │ mcts       1000     40        4000.0     50           5.0  5927.5\n",
       "  83 │ vi           10      3           3.0      3           5.0    17.5       ⋯\n",
       "\u001b[36m                                                  15 columns and 62 rows omitted\u001b[0m"
      ]
     },
     "execution_count": 8,
     "metadata": {},
     "output_type": "execute_result"
    }
   ],
   "source": [
    "results"
   ]
  },
  {
   "cell_type": "code",
   "execution_count": 9,
   "metadata": {},
   "outputs": [],
   "source": [
    "grps = groupby(results, :method);"
   ]
  },
  {
   "cell_type": "code",
   "execution_count": 10,
   "metadata": {},
   "outputs": [
    {
     "ename": "LoadError",
     "evalue": "ArgumentError: unsupported symbol fhvi passed to `label`",
     "output_type": "error",
     "traceback": [
      "ArgumentError: unsupported symbol fhvi passed to `label`",
      "",
      "Stacktrace:",
      " [1] label_to_string at /home/mrkos/.julia/packages/Plots/6EMd6/src/args.jl:1641 [inlined]",
      " [2] _broadcast_getindex_evalf at ./broadcast.jl:648 [inlined]",
      " [3] _broadcast_getindex at ./broadcast.jl:621 [inlined]",
      " [4] getindex at ./broadcast.jl:575 [inlined]",
      " [5] copy at ./broadcast.jl:852 [inlined]",
      " [6] materialize(::Base.Broadcast.Broadcasted{Base.Broadcast.DefaultArrayStyle{0},Nothing,typeof(Plots.label_to_string),Tuple{Base.RefValue{Symbol},Int64}}) at ./broadcast.jl:837",
      " [7] _update_series_attributes!(::RecipesPipeline.DefaultsDict, ::Plots.Plot{Plots.GRBackend}, ::Plots.Subplot{Plots.GRBackend}) at /home/mrkos/.julia/packages/Plots/6EMd6/src/args.jl:1714",
      " [8] add_series!(::Plots.Plot{Plots.GRBackend}, ::RecipesPipeline.DefaultsDict) at /home/mrkos/.julia/packages/Plots/6EMd6/src/pipeline.jl:301",
      " [9] _process_seriesrecipe(::Any, ::Any) at /home/mrkos/.julia/packages/RecipesPipeline/VEk89/src/series_recipe.jl:46",
      " [10] _process_seriesrecipes!(::Any, ::Any) at /home/mrkos/.julia/packages/RecipesPipeline/VEk89/src/series_recipe.jl:27",
      " [11] recipe_pipeline!(::Any, ::Any, ::Any) at /home/mrkos/.julia/packages/RecipesPipeline/VEk89/src/RecipesPipeline.jl:97",
      " [12] _plot!(::Plots.Plot, ::Any, ::Any) at /home/mrkos/.julia/packages/Plots/6EMd6/src/plot.jl:172",
      " [13] plot!(::Plots.Plot, ::Any, ::Vararg{Any,N} where N; kw::Any) at /home/mrkos/.julia/packages/Plots/6EMd6/src/plot.jl:162",
      " [14] plot!(::Any, ::Vararg{Any,N} where N; kw::Any) at /home/mrkos/.julia/packages/Plots/6EMd6/src/plot.jl:153",
      " [15] top-level scope at ./In[10]:3",
      " [16] include_string(::Function, ::Module, ::String, ::String) at ./loading.jl:1091"
     ]
    }
   ],
   "source": [
    "plot()\n",
    "for gr in grps\n",
    "    plot!(gr.expected_res, gr.mean_r, label=first(gr).method)\n",
    "end\n",
    "plot!()"
   ]
  },
  {
   "cell_type": "code",
   "execution_count": 11,
   "metadata": {},
   "outputs": [
    {
     "ename": "LoadError",
     "evalue": "UndefVarError: edf1 not defined",
     "output_type": "error",
     "traceback": [
      "UndefVarError: edf1 not defined",
      "",
      "Stacktrace:",
      " [1] top-level scope at In[11]:1",
      " [2] include_string(::Function, ::Module, ::String, ::String) at ./loading.jl:1091"
     ]
    }
   ],
   "source": [
    "plot(edf1[!, x_param], edf1.r_mc,\n",
    "    xlabel = label_demand,\n",
    "    ylabel = \"Utilization\",\n",
    "    label = \"MCTS\",\n",
    "    m=(3, :circle), \n",
    "    size=plot_size,\n",
    "    legend=:topleft\n",
    ")\n",
    "plot!(edf1[!, x_param], edf1.r_vi,  m=(3, :square, :black), line=(:black), label=\"VI\")\n",
    "plot!(edf1[!, x_param], edf1.r_flat,  m=(3, :dtriangle, :red), line=(:red), label=\"flat-rate\")\n",
    "plot!(edf1[!, x_param], edf1.r_hind,  m=(3, :utriangle, :green), line=(:green), label=\"hindsight\")\n"
   ]
  },
  {
   "cell_type": "markdown",
   "metadata": {},
   "source": [
    "# Old Code"
   ]
  },
  {
   "cell_type": "code",
   "execution_count": 12,
   "metadata": {},
   "outputs": [
    {
     "data": {
      "text/plain": [
       "get_param (generic function with 1 method)"
      ]
     },
     "execution_count": 12,
     "metadata": {},
     "output_type": "execute_result"
    }
   ],
   "source": [
    "function get_result(df::DataFrame, c::Symbol, method::Symbol)\n",
    "    [nt[method] for nt in df[!, c]]\n",
    "end\n",
    "\n",
    "function get_param(df::DataFrame, pt::Symbol, p::Symbol)\n",
    "    [d[pt][p] for d in df[!, :params]]\n",
    "end"
   ]
  },
  {
   "cell_type": "markdown",
   "metadata": {},
   "source": [
    "# Experiment with varying n_iterations"
   ]
  },
  {
   "cell_type": "code",
   "execution_count": 13,
   "metadata": {},
   "outputs": [
    {
     "name": "stderr",
     "output_type": "stream",
     "text": [
      "┌ Info: Scanning folder /home/mrkos/projects/PMDPs/data/sims/exp_n_iter for result files.\n",
      "└ @ DrWatson /home/mrkos/.julia/packages/DrWatson/NuoB0/src/result_collection.jl:88\n"
     ]
    },
    {
     "ename": "LoadError",
     "evalue": "SystemError: unable to read directory /home/mrkos/projects/PMDPs/data/sims/exp_n_iter: No such file or directory",
     "output_type": "error",
     "traceback": [
      "SystemError: unable to read directory /home/mrkos/projects/PMDPs/data/sims/exp_n_iter: No such file or directory",
      "",
      "Stacktrace:",
      " [1] walkdir(::String; topdown::Bool, follow_symlinks::Bool, onerror::typeof(throw)) at ./file.jl:0",
      " [2] walkdir at ./file.jl:872 [inlined]",
      " [3] collect_results!(::String, ::String; valid_filetypes::Array{String,1}, subfolders::Bool, rpath::Nothing, verbose::Bool, newfile::Bool, kwargs::Base.Iterators.Pairs{Symbol,Array{Symbol,1},Tuple{Symbol},NamedTuple{(:white_list,),Tuple{Array{Symbol,1}}}}) at /home/mrkos/.julia/packages/DrWatson/NuoB0/src/result_collection.jl:92",
      " [4] #collect_results#74 at /home/mrkos/.julia/packages/DrWatson/NuoB0/src/result_collection.jl:188 [inlined]",
      " [5] top-level scope at In[13]:10",
      " [6] include_string(::Function, ::Module, ::String, ::String) at ./loading.jl:1091"
     ]
    }
   ],
   "source": [
    "# mdp_dir = readdir(datadir(\"sims\"))[2]\n",
    "# exp = readdir(datadir(\"sims\", mdp_dir))[1]\n",
    "# # res = wload(datadir(\"sims\", mdp_dir, exp))\n",
    "# mdp_dir\n",
    "\n",
    "# mdp_dir = readdir(datadir(\"sims\"))[2]\n",
    "# exp = readdir(datadir(\"sims\", mdp_dir))[1]\n",
    "# # res = wload(datadir(\"sims\", mdp_dir, exp))\n",
    "\n",
    "df = collect_results(\n",
    "    datadir(\"sims\", \"exp_n_iter\");\n",
    "    white_list = [:r, :u, :t, :params], subfolders=true\n",
    ")"
   ]
  },
  {
   "cell_type": "code",
   "execution_count": 14,
   "metadata": {},
   "outputs": [
    {
     "ename": "LoadError",
     "evalue": "UndefVarError: df not defined",
     "output_type": "error",
     "traceback": [
      "UndefVarError: df not defined",
      "",
      "Stacktrace:",
      " [1] top-level scope at In[14]:1",
      " [2] include_string(::Function, ::Module, ::String, ::String) at ./loading.jl:1091"
     ]
    }
   ],
   "source": [
    "r_flat =  get_result(df, :r, :flat)\n",
    "r_mc=get_result(df, :r, :mc)\n",
    "r_hind =get_result(df, :r, :hind);\n",
    "\n",
    "n_runs = get_param(df, :exp, :n_runs)\n",
    "n_iterations = get_param(df, :mcts, :n_iterations) \n",
    "depth = get_param(df, :mcts, :depth);\n",
    "\n",
    "mdf = DataFrame(@dict r_flat r_mc r_hind n_runs n_iterations depth )\n",
    "\n",
    "sort!(mdf)"
   ]
  },
  {
   "cell_type": "code",
   "execution_count": 15,
   "metadata": {},
   "outputs": [
    {
     "ename": "LoadError",
     "evalue": "UndefVarError: mdf not defined",
     "output_type": "error",
     "traceback": [
      "UndefVarError: mdf not defined",
      "",
      "Stacktrace:",
      " [1] top-level scope at In[15]:1",
      " [2] include_string(::Function, ::Module, ::String, ::String) at ./loading.jl:1091"
     ]
    }
   ],
   "source": [
    "edf1 = mdf\n",
    "sort!(edf1)\n",
    "x_param = :n_iterations\n",
    "label_n_iter = \"MCTS Iterations\"\n",
    "\n",
    "plot(edf1[!, x_param], edf1.r_mc,\n",
    "    xlabel = label_n_iter,\n",
    "    ylabel = \"Revenue\",\n",
    "    label = \"MCTS\",\n",
    "    m=(3, :circle), \n",
    "    size=plot_size,\n",
    "    legend=:topleft\n",
    ")\n",
    "plot!(edf1[!, x_param], edf1.r_flat[1]*ones(length(edf1.r_mc)),  m=(3, :dtriangle), line=(:red), label=\"flat-rate\")\n",
    "plot!(edf1[!, x_param], edf1.r_hind[1]*ones(length(edf1.r_mc)),  m=(3, :utriangle), line=(:green), label=\"hindsight\")"
   ]
  },
  {
   "cell_type": "code",
   "execution_count": 16,
   "metadata": {},
   "outputs": [
    {
     "ename": "LoadError",
     "evalue": "UndefVarError: mdf not defined",
     "output_type": "error",
     "traceback": [
      "UndefVarError: mdf not defined",
      "",
      "Stacktrace:",
      " [1] top-level scope at In[16]:1",
      " [2] include_string(::Function, ::Module, ::String, ::String) at ./loading.jl:1091"
     ]
    }
   ],
   "source": [
    "save(datadir(\"exp_pro\", \"exp_big_niter.csv\"), mdf)"
   ]
  },
  {
   "cell_type": "code",
   "execution_count": 17,
   "metadata": {},
   "outputs": [],
   "source": [
    "savefig(papersdir(\"paper_AAMAS2021_MCTS_pricing\", \"fig\", \"plt_big_niter.pdf\"))"
   ]
  },
  {
   "cell_type": "code",
   "execution_count": 18,
   "metadata": {},
   "outputs": [
    {
     "ename": "LoadError",
     "evalue": "UndefVarError: mdf not defined",
     "output_type": "error",
     "traceback": [
      "UndefVarError: mdf not defined",
      "",
      "Stacktrace:",
      " [1] top-level scope at In[18]:1",
      " [2] include_string(::Function, ::Module, ::String, ::String) at ./loading.jl:1091"
     ]
    }
   ],
   "source": [
    "filter(row -> row.n_iterations==50000, mdf)"
   ]
  },
  {
   "cell_type": "markdown",
   "metadata": {},
   "source": [
    "# Varying demand - BIG"
   ]
  },
  {
   "cell_type": "code",
   "execution_count": 47,
   "metadata": {},
   "outputs": [
    {
     "name": "stderr",
     "output_type": "stream",
     "text": [
      "┌ Info: Scanning folder C:\\Users\\Honza\\scth\\projects\\julia\\PricingMDP\\data\\sims\\exp_demand for result files.\n",
      "└ @ DrWatson C:\\Users\\Honza\\.julia\\packages\\DrWatson\\YmBBf\\src\\result_collection.jl:88\n",
      "Error encountered while loading \"C:\\\\Users\\\\Honza\\\\scth\\\\projects\\\\julia\\\\PricingMDP\\\\data\\\\sims\\\\exp_demand\\\\c_init=30_n_edges=10_1d2d82f12adbd23e\\\\n_runs=10_save=stats_vi=false_depth=100_exploration_constant=40_keep_tree=true_n_iterations=10000.bson\".\n",
      "\n",
      "Fatal error:\n"
     ]
    },
    {
     "ename": "ErrorException",
     "evalue": "invalid struct allocation",
     "output_type": "error",
     "traceback": [
      "invalid struct allocation",
      "",
      "Stacktrace:",
      " [1] handle_error(::ErrorException, ::FileIO.File{FileIO.DataFormat{:BSON}}) at C:\\Users\\Honza\\.julia\\packages\\FileIO\\wN5rD\\src\\error_handling.jl:82",
      " [2] handle_exceptions(::Array{Any,1}, ::String) at C:\\Users\\Honza\\.julia\\packages\\FileIO\\wN5rD\\src\\error_handling.jl:77",
      " [3] load(::FileIO.Formatted; options::Base.Iterators.Pairs{Union{},Union{},Tuple{},NamedTuple{(),Tuple{}}}) at C:\\Users\\Honza\\.julia\\packages\\FileIO\\wN5rD\\src\\loadsave.jl:207",
      " [4] load at C:\\Users\\Honza\\.julia\\packages\\FileIO\\wN5rD\\src\\loadsave.jl:184 [inlined]",
      " [5] #load#14 at C:\\Users\\Honza\\.julia\\packages\\FileIO\\wN5rD\\src\\loadsave.jl:133 [inlined]",
      " [6] load at C:\\Users\\Honza\\.julia\\packages\\FileIO\\wN5rD\\src\\loadsave.jl:133 [inlined]",
      " [7] #wload#21 at C:\\Users\\Honza\\.julia\\packages\\DrWatson\\YmBBf\\src\\DrWatson.jl:39 [inlined]",
      " [8] wload at C:\\Users\\Honza\\.julia\\packages\\DrWatson\\YmBBf\\src\\DrWatson.jl:39 [inlined]",
      " [9] collect_results!(::String, ::String; valid_filetypes::Array{String,1}, subfolders::Bool, rpath::Nothing, verbose::Bool, newfile::Bool, kwargs::Base.Iterators.Pairs{Symbol,Array{Symbol,1},Tuple{Symbol},NamedTuple{(:white_list,),Tuple{Array{Symbol,1}}}}) at C:\\Users\\Honza\\.julia\\packages\\DrWatson\\YmBBf\\src\\result_collection.jl:110",
      " [10] #collect_results#63 at C:\\Users\\Honza\\.julia\\packages\\DrWatson\\YmBBf\\src\\result_collection.jl:188 [inlined]",
      " [11] top-level scope at In[47]:1"
     ]
    }
   ],
   "source": [
    "df = collect_results( datadir(\"sims\", \"exp_demand\");\n",
    "    white_list = [:r, :u, :t, :params], subfolders=true)"
   ]
  },
  {
   "cell_type": "code",
   "execution_count": 123,
   "metadata": {},
   "outputs": [
    {
     "data": {
      "text/html": [
       "<table class=\"data-frame\"><thead><tr><th></th><th>demand</th><th>n_iterations</th><th>n_runs</th><th>r_flat</th><th>r_hind</th><th>r_mc</th></tr><tr><th></th><th>Float64</th><th>Int64</th><th>Int64</th><th>Float64</th><th>Float64</th><th>Float64</th></tr></thead><tbody><p>10 rows × 6 columns</p><tr><th>1</th><td>5.0</td><td>10000</td><td>10</td><td>333.0</td><td>740.7</td><td>387.1</td></tr><tr><th>2</th><td>10.0</td><td>10000</td><td>10</td><td>639.9</td><td>1349.7</td><td>682.3</td></tr><tr><th>3</th><td>15.0</td><td>10000</td><td>10</td><td>851.5</td><td>1853.2</td><td>909.5</td></tr><tr><th>4</th><td>20.0</td><td>10000</td><td>10</td><td>1025.0</td><td>2330.7</td><td>1204.6</td></tr><tr><th>5</th><td>25.0</td><td>10000</td><td>10</td><td>1236.7</td><td>2816.9</td><td>1463.9</td></tr><tr><th>6</th><td>30.0</td><td>10000</td><td>10</td><td>1465.1</td><td>3302.9</td><td>1724.9</td></tr><tr><th>7</th><td>35.0</td><td>10000</td><td>10</td><td>1648.5</td><td>3741.9</td><td>1942.2</td></tr><tr><th>8</th><td>40.0</td><td>10000</td><td>10</td><td>1854.9</td><td>4096.2</td><td>2172.1</td></tr><tr><th>9</th><td>45.0</td><td>10000</td><td>10</td><td>2052.0</td><td>4478.3</td><td>2406.5</td></tr><tr><th>10</th><td>50.0</td><td>10000</td><td>10</td><td>2152.5</td><td>4705.8</td><td>2542.2</td></tr></tbody></table>"
      ],
      "text/latex": [
       "\\begin{tabular}{r|cccccc}\n",
       "\t& demand & n\\_iterations & n\\_runs & r\\_flat & r\\_hind & r\\_mc\\\\\n",
       "\t\\hline\n",
       "\t& Float64 & Int64 & Int64 & Float64 & Float64 & Float64\\\\\n",
       "\t\\hline\n",
       "\t1 & 5.0 & 10000 & 10 & 333.0 & 740.7 & 387.1 \\\\\n",
       "\t2 & 10.0 & 10000 & 10 & 639.9 & 1349.7 & 682.3 \\\\\n",
       "\t3 & 15.0 & 10000 & 10 & 851.5 & 1853.2 & 909.5 \\\\\n",
       "\t4 & 20.0 & 10000 & 10 & 1025.0 & 2330.7 & 1204.6 \\\\\n",
       "\t5 & 25.0 & 10000 & 10 & 1236.7 & 2816.9 & 1463.9 \\\\\n",
       "\t6 & 30.0 & 10000 & 10 & 1465.1 & 3302.9 & 1724.9 \\\\\n",
       "\t7 & 35.0 & 10000 & 10 & 1648.5 & 3741.9 & 1942.2 \\\\\n",
       "\t8 & 40.0 & 10000 & 10 & 1854.9 & 4096.2 & 2172.1 \\\\\n",
       "\t9 & 45.0 & 10000 & 10 & 2052.0 & 4478.3 & 2406.5 \\\\\n",
       "\t10 & 50.0 & 10000 & 10 & 2152.5 & 4705.8 & 2542.2 \\\\\n",
       "\\end{tabular}\n"
      ],
      "text/plain": [
       "10×6 DataFrame\n",
       "│ Row │ demand  │ n_iterations │ n_runs │ r_flat  │ r_hind  │ r_mc    │\n",
       "│     │ \u001b[90mFloat64\u001b[39m │ \u001b[90mInt64\u001b[39m        │ \u001b[90mInt64\u001b[39m  │ \u001b[90mFloat64\u001b[39m │ \u001b[90mFloat64\u001b[39m │ \u001b[90mFloat64\u001b[39m │\n",
       "├─────┼─────────┼──────────────┼────────┼─────────┼─────────┼─────────┤\n",
       "│ 1   │ 5.0     │ 10000        │ 10     │ 333.0   │ 740.7   │ 387.1   │\n",
       "│ 2   │ 10.0    │ 10000        │ 10     │ 639.9   │ 1349.7  │ 682.3   │\n",
       "│ 3   │ 15.0    │ 10000        │ 10     │ 851.5   │ 1853.2  │ 909.5   │\n",
       "│ 4   │ 20.0    │ 10000        │ 10     │ 1025.0  │ 2330.7  │ 1204.6  │\n",
       "│ 5   │ 25.0    │ 10000        │ 10     │ 1236.7  │ 2816.9  │ 1463.9  │\n",
       "│ 6   │ 30.0    │ 10000        │ 10     │ 1465.1  │ 3302.9  │ 1724.9  │\n",
       "│ 7   │ 35.0    │ 10000        │ 10     │ 1648.5  │ 3741.9  │ 1942.2  │\n",
       "│ 8   │ 40.0    │ 10000        │ 10     │ 1854.9  │ 4096.2  │ 2172.1  │\n",
       "│ 9   │ 45.0    │ 10000        │ 10     │ 2052.0  │ 4478.3  │ 2406.5  │\n",
       "│ 10  │ 50.0    │ 10000        │ 10     │ 2152.5  │ 4705.8  │ 2542.2  │"
      ]
     },
     "execution_count": 123,
     "metadata": {},
     "output_type": "execute_result"
    }
   ],
   "source": [
    "r_flat =  get_result(df, :r, :flat)\n",
    "r_mc=get_result(df, :r, :mc)\n",
    "r_hind =get_result(df, :r, :hind);\n",
    "\n",
    "n_runs = get_param(df, :exp, :n_runs)\n",
    "n_iterations = get_param(df, :mcts, :n_iterations) \n",
    "demand = map(sum, get_param(df, :mdp, :demand))\n",
    "\n",
    "mdf = DataFrame(@dict r_flat r_mc r_hind n_runs n_iterations demand )\n",
    "sort!(mdf)"
   ]
  },
  {
   "cell_type": "code",
   "execution_count": 6,
   "metadata": {},
   "outputs": [
    {
     "data": {
      "text/html": [
       "<table class=\"data-frame\"><thead><tr><th></th><th>demand</th><th>n_iterations</th><th>n_runs</th><th>r_flat</th><th>r_hind</th><th>r_mc</th></tr><tr><th></th><th>Float64</th><th>Int64</th><th>Int64</th><th>Float64</th><th>Float64</th><th>Float64</th></tr></thead><tbody><p>10 rows × 6 columns</p><tr><th>1</th><td>5.0</td><td>10000</td><td>10</td><td>333.0</td><td>740.7</td><td>387.1</td></tr><tr><th>2</th><td>10.0</td><td>10000</td><td>10</td><td>639.9</td><td>1349.7</td><td>682.3</td></tr><tr><th>3</th><td>15.0</td><td>10000</td><td>10</td><td>851.5</td><td>1853.2</td><td>909.5</td></tr><tr><th>4</th><td>20.0</td><td>10000</td><td>10</td><td>1025.0</td><td>2330.7</td><td>1204.6</td></tr><tr><th>5</th><td>25.0</td><td>10000</td><td>10</td><td>1236.7</td><td>2816.9</td><td>1463.9</td></tr><tr><th>6</th><td>30.0</td><td>10000</td><td>10</td><td>1465.1</td><td>3302.9</td><td>1724.9</td></tr><tr><th>7</th><td>35.0</td><td>10000</td><td>10</td><td>1648.5</td><td>3741.9</td><td>1942.2</td></tr><tr><th>8</th><td>40.0</td><td>10000</td><td>10</td><td>1854.9</td><td>4096.2</td><td>2172.1</td></tr><tr><th>9</th><td>45.0</td><td>10000</td><td>10</td><td>2052.0</td><td>4478.3</td><td>2406.5</td></tr><tr><th>10</th><td>50.0</td><td>10000</td><td>10</td><td>2152.5</td><td>4705.8</td><td>2542.2</td></tr></tbody></table>"
      ],
      "text/latex": [
       "\\begin{tabular}{r|cccccc}\n",
       "\t& demand & n\\_iterations & n\\_runs & r\\_flat & r\\_hind & r\\_mc\\\\\n",
       "\t\\hline\n",
       "\t& Float64 & Int64 & Int64 & Float64 & Float64 & Float64\\\\\n",
       "\t\\hline\n",
       "\t1 & 5.0 & 10000 & 10 & 333.0 & 740.7 & 387.1 \\\\\n",
       "\t2 & 10.0 & 10000 & 10 & 639.9 & 1349.7 & 682.3 \\\\\n",
       "\t3 & 15.0 & 10000 & 10 & 851.5 & 1853.2 & 909.5 \\\\\n",
       "\t4 & 20.0 & 10000 & 10 & 1025.0 & 2330.7 & 1204.6 \\\\\n",
       "\t5 & 25.0 & 10000 & 10 & 1236.7 & 2816.9 & 1463.9 \\\\\n",
       "\t6 & 30.0 & 10000 & 10 & 1465.1 & 3302.9 & 1724.9 \\\\\n",
       "\t7 & 35.0 & 10000 & 10 & 1648.5 & 3741.9 & 1942.2 \\\\\n",
       "\t8 & 40.0 & 10000 & 10 & 1854.9 & 4096.2 & 2172.1 \\\\\n",
       "\t9 & 45.0 & 10000 & 10 & 2052.0 & 4478.3 & 2406.5 \\\\\n",
       "\t10 & 50.0 & 10000 & 10 & 2152.5 & 4705.8 & 2542.2 \\\\\n",
       "\\end{tabular}\n"
      ],
      "text/plain": [
       "10×6 DataFrame\n",
       "│ Row │ demand  │ n_iterations │ n_runs │ r_flat  │ r_hind  │ r_mc    │\n",
       "│     │ \u001b[90mFloat64\u001b[39m │ \u001b[90mInt64\u001b[39m        │ \u001b[90mInt64\u001b[39m  │ \u001b[90mFloat64\u001b[39m │ \u001b[90mFloat64\u001b[39m │ \u001b[90mFloat64\u001b[39m │\n",
       "├─────┼─────────┼──────────────┼────────┼─────────┼─────────┼─────────┤\n",
       "│ 1   │ 5.0     │ 10000        │ 10     │ 333.0   │ 740.7   │ 387.1   │\n",
       "│ 2   │ 10.0    │ 10000        │ 10     │ 639.9   │ 1349.7  │ 682.3   │\n",
       "│ 3   │ 15.0    │ 10000        │ 10     │ 851.5   │ 1853.2  │ 909.5   │\n",
       "│ 4   │ 20.0    │ 10000        │ 10     │ 1025.0  │ 2330.7  │ 1204.6  │\n",
       "│ 5   │ 25.0    │ 10000        │ 10     │ 1236.7  │ 2816.9  │ 1463.9  │\n",
       "│ 6   │ 30.0    │ 10000        │ 10     │ 1465.1  │ 3302.9  │ 1724.9  │\n",
       "│ 7   │ 35.0    │ 10000        │ 10     │ 1648.5  │ 3741.9  │ 1942.2  │\n",
       "│ 8   │ 40.0    │ 10000        │ 10     │ 1854.9  │ 4096.2  │ 2172.1  │\n",
       "│ 9   │ 45.0    │ 10000        │ 10     │ 2052.0  │ 4478.3  │ 2406.5  │\n",
       "│ 10  │ 50.0    │ 10000        │ 10     │ 2152.5  │ 4705.8  │ 2542.2  │"
      ]
     },
     "execution_count": 6,
     "metadata": {},
     "output_type": "execute_result"
    }
   ],
   "source": [
    "mdf = CSV.read(datadir(\"exp_pro\", \"exp_big_d_r.csv\"), DataFrame; delim=\";\")"
   ]
  },
  {
   "cell_type": "code",
   "execution_count": 7,
   "metadata": {},
   "outputs": [
    {
     "data": {
      "image/svg+xml": [
       "<?xml version=\"1.0\" encoding=\"utf-8\"?>\n",
       "<svg xmlns=\"http://www.w3.org/2000/svg\" xmlns:xlink=\"http://www.w3.org/1999/xlink\" width=\"485.5\" height=\"300\" viewBox=\"0 0 1942 1200\">\n",
       "<defs>\n",
       "  <clipPath id=\"clip570\">\n",
       "    <rect x=\"0\" y=\"0\" width=\"1942\" height=\"1200\"/>\n",
       "  </clipPath>\n",
       "</defs>\n",
       "<path clip-path=\"url(#clip570)\" d=\"\n",
       "M0 1200 L1942 1200 L1942 0 L0 0  Z\n",
       "  \" fill=\"#ffffff\" fill-rule=\"evenodd\" fill-opacity=\"1\"/>\n",
       "<defs>\n",
       "  <clipPath id=\"clip571\">\n",
       "    <rect x=\"388\" y=\"0\" width=\"1360\" height=\"1200\"/>\n",
       "  </clipPath>\n",
       "</defs>\n",
       "<path clip-path=\"url(#clip570)\" d=\"\n",
       "M248.482 1033.17 L1894.75 1033.17 L1894.75 47.2441 L248.482 47.2441  Z\n",
       "  \" fill=\"#ffffff\" fill-rule=\"evenodd\" fill-opacity=\"1\"/>\n",
       "<defs>\n",
       "  <clipPath id=\"clip572\">\n",
       "    <rect x=\"248\" y=\"47\" width=\"1647\" height=\"987\"/>\n",
       "  </clipPath>\n",
       "</defs>\n",
       "<polyline clip-path=\"url(#clip572)\" style=\"stroke:#000000; stroke-width:2; stroke-opacity:0.1; fill:none\" points=\"\n",
       "  467.639,1033.17 467.639,47.2441 \n",
       "  \"/>\n",
       "<polyline clip-path=\"url(#clip572)\" style=\"stroke:#000000; stroke-width:2; stroke-opacity:0.1; fill:none\" points=\"\n",
       "  812.768,1033.17 812.768,47.2441 \n",
       "  \"/>\n",
       "<polyline clip-path=\"url(#clip572)\" style=\"stroke:#000000; stroke-width:2; stroke-opacity:0.1; fill:none\" points=\"\n",
       "  1157.9,1033.17 1157.9,47.2441 \n",
       "  \"/>\n",
       "<polyline clip-path=\"url(#clip572)\" style=\"stroke:#000000; stroke-width:2; stroke-opacity:0.1; fill:none\" points=\"\n",
       "  1503.03,1033.17 1503.03,47.2441 \n",
       "  \"/>\n",
       "<polyline clip-path=\"url(#clip572)\" style=\"stroke:#000000; stroke-width:2; stroke-opacity:0.1; fill:none\" points=\"\n",
       "  1848.15,1033.17 1848.15,47.2441 \n",
       "  \"/>\n",
       "<polyline clip-path=\"url(#clip570)\" style=\"stroke:#000000; stroke-width:4; stroke-opacity:1; fill:none\" points=\"\n",
       "  248.482,1033.17 1894.75,1033.17 \n",
       "  \"/>\n",
       "<polyline clip-path=\"url(#clip570)\" style=\"stroke:#000000; stroke-width:4; stroke-opacity:1; fill:none\" points=\"\n",
       "  467.639,1033.17 467.639,1021.34 \n",
       "  \"/>\n",
       "<polyline clip-path=\"url(#clip570)\" style=\"stroke:#000000; stroke-width:4; stroke-opacity:1; fill:none\" points=\"\n",
       "  812.768,1033.17 812.768,1021.34 \n",
       "  \"/>\n",
       "<polyline clip-path=\"url(#clip570)\" style=\"stroke:#000000; stroke-width:4; stroke-opacity:1; fill:none\" points=\"\n",
       "  1157.9,1033.17 1157.9,1021.34 \n",
       "  \"/>\n",
       "<polyline clip-path=\"url(#clip570)\" style=\"stroke:#000000; stroke-width:4; stroke-opacity:1; fill:none\" points=\"\n",
       "  1503.03,1033.17 1503.03,1021.34 \n",
       "  \"/>\n",
       "<polyline clip-path=\"url(#clip570)\" style=\"stroke:#000000; stroke-width:4; stroke-opacity:1; fill:none\" points=\"\n",
       "  1848.15,1033.17 1848.15,1021.34 \n",
       "  \"/>\n",
       "<path clip-path=\"url(#clip570)\" d=\"M 0 0 M444.51 1086.24 L452.15 1086.24 L452.15 1059.87 L443.839 1061.54 L443.839 1057.28 L452.104 1055.61 L456.781 1055.61 L456.781 1086.24 L464.421 1086.24 L464.421 1090.17 L444.51 1090.17 L444.51 1086.24 Z\" fill=\"#000000\" fill-rule=\"evenodd\" fill-opacity=\"1\" /><path clip-path=\"url(#clip570)\" d=\"M 0 0 M479.493 1058.69 Q475.881 1058.69 474.052 1062.26 Q472.246 1065.8 472.246 1072.93 Q472.246 1080.03 474.052 1083.6 Q475.881 1087.14 479.493 1087.14 Q483.128 1087.14 484.934 1083.6 Q486.763 1080.03 486.763 1072.93 Q486.763 1065.8 484.934 1062.26 Q483.128 1058.69 479.493 1058.69 M479.493 1054.99 Q485.304 1054.99 488.36 1059.59 Q491.44 1064.18 491.44 1072.93 Q491.44 1081.65 488.36 1086.26 Q485.304 1090.84 479.493 1090.84 Q473.682 1090.84 470.603 1086.26 Q467.547 1081.65 467.547 1072.93 Q467.547 1064.18 470.603 1059.59 Q473.682 1054.99 479.493 1054.99 Z\" fill=\"#000000\" fill-rule=\"evenodd\" fill-opacity=\"1\" /><path clip-path=\"url(#clip570)\" d=\"M 0 0 M793.91 1086.24 L810.233 1086.24 L810.233 1090.17 L788.284 1090.17 L788.284 1086.24 Q790.947 1083.48 795.531 1078.85 Q800.138 1074.2 801.319 1072.86 Q803.565 1070.33 804.445 1068.6 Q805.348 1066.84 805.348 1065.15 Q805.348 1062.39 803.403 1060.66 Q801.481 1058.92 798.379 1058.92 Q796.179 1058.92 793.725 1059.69 Q791.294 1060.45 788.516 1062 L788.516 1057.28 Q791.341 1056.15 793.795 1055.57 Q796.249 1054.99 798.286 1054.99 Q803.658 1054.99 806.853 1057.67 Q810.048 1060.36 810.048 1064.85 Q810.048 1066.98 809.237 1068.9 Q808.45 1070.8 806.343 1073.39 Q805.764 1074.06 802.662 1077.28 Q799.56 1080.47 793.91 1086.24 Z\" fill=\"#000000\" fill-rule=\"evenodd\" fill-opacity=\"1\" /><path clip-path=\"url(#clip570)\" d=\"M 0 0 M825.305 1058.69 Q821.693 1058.69 819.864 1062.26 Q818.058 1065.8 818.058 1072.93 Q818.058 1080.03 819.864 1083.6 Q821.693 1087.14 825.305 1087.14 Q828.94 1087.14 830.746 1083.6 Q832.575 1080.03 832.575 1072.93 Q832.575 1065.8 830.746 1062.26 Q828.94 1058.69 825.305 1058.69 M825.305 1054.99 Q831.116 1054.99 834.172 1059.59 Q837.252 1064.18 837.252 1072.93 Q837.252 1081.65 834.172 1086.26 Q831.116 1090.84 825.305 1090.84 Q819.494 1090.84 816.415 1086.26 Q813.358 1081.65 813.358 1072.93 Q813.358 1064.18 816.415 1059.59 Q819.494 1054.99 825.305 1054.99 Z\" fill=\"#000000\" fill-rule=\"evenodd\" fill-opacity=\"1\" /><path clip-path=\"url(#clip570)\" d=\"M 0 0 M1148.64 1071.54 Q1151.99 1072.26 1153.87 1074.52 Q1155.77 1076.79 1155.77 1080.13 Q1155.77 1085.24 1152.25 1088.04 Q1148.73 1090.84 1142.25 1090.84 Q1140.07 1090.84 1137.75 1090.4 Q1135.46 1089.99 1133.01 1089.13 L1133.01 1084.62 Q1134.95 1085.75 1137.27 1086.33 Q1139.58 1086.91 1142.11 1086.91 Q1146.51 1086.91 1148.8 1085.17 Q1151.11 1083.44 1151.11 1080.13 Q1151.11 1077.07 1148.96 1075.36 Q1146.83 1073.62 1143.01 1073.62 L1138.98 1073.62 L1138.98 1069.78 L1143.2 1069.78 Q1146.64 1069.78 1148.47 1068.41 Q1150.3 1067.02 1150.3 1064.43 Q1150.3 1061.77 1148.4 1060.36 Q1146.53 1058.92 1143.01 1058.92 Q1141.09 1058.92 1138.89 1059.34 Q1136.69 1059.76 1134.05 1060.64 L1134.05 1056.47 Q1136.71 1055.73 1139.03 1055.36 Q1141.37 1054.99 1143.43 1054.99 Q1148.75 1054.99 1151.85 1057.42 Q1154.96 1059.83 1154.96 1063.95 Q1154.96 1066.82 1153.31 1068.81 Q1151.67 1070.77 1148.64 1071.54 Z\" fill=\"#000000\" fill-rule=\"evenodd\" fill-opacity=\"1\" /><path clip-path=\"url(#clip570)\" d=\"M 0 0 M1170.84 1058.69 Q1167.23 1058.69 1165.4 1062.26 Q1163.59 1065.8 1163.59 1072.93 Q1163.59 1080.03 1165.4 1083.6 Q1167.23 1087.14 1170.84 1087.14 Q1174.47 1087.14 1176.28 1083.6 Q1178.11 1080.03 1178.11 1072.93 Q1178.11 1065.8 1176.28 1062.26 Q1174.47 1058.69 1170.84 1058.69 M1170.84 1054.99 Q1176.65 1054.99 1179.71 1059.59 Q1182.79 1064.18 1182.79 1072.93 Q1182.79 1081.65 1179.71 1086.26 Q1176.65 1090.84 1170.84 1090.84 Q1165.03 1090.84 1161.95 1086.26 Q1158.89 1081.65 1158.89 1072.93 Q1158.89 1064.18 1161.95 1059.59 Q1165.03 1054.99 1170.84 1054.99 Z\" fill=\"#000000\" fill-rule=\"evenodd\" fill-opacity=\"1\" /><path clip-path=\"url(#clip570)\" d=\"M 0 0 M1492.53 1059.69 L1480.72 1078.14 L1492.53 1078.14 L1492.53 1059.69 M1491.3 1055.61 L1497.18 1055.61 L1497.18 1078.14 L1502.11 1078.14 L1502.11 1082.02 L1497.18 1082.02 L1497.18 1090.17 L1492.53 1090.17 L1492.53 1082.02 L1476.92 1082.02 L1476.92 1077.51 L1491.3 1055.61 Z\" fill=\"#000000\" fill-rule=\"evenodd\" fill-opacity=\"1\" /><path clip-path=\"url(#clip570)\" d=\"M 0 0 M1517.18 1058.69 Q1513.57 1058.69 1511.74 1062.26 Q1509.94 1065.8 1509.94 1072.93 Q1509.94 1080.03 1511.74 1083.6 Q1513.57 1087.14 1517.18 1087.14 Q1520.82 1087.14 1522.62 1083.6 Q1524.45 1080.03 1524.45 1072.93 Q1524.45 1065.8 1522.62 1062.26 Q1520.82 1058.69 1517.18 1058.69 M1517.18 1054.99 Q1522.99 1054.99 1526.05 1059.59 Q1529.13 1064.18 1529.13 1072.93 Q1529.13 1081.65 1526.05 1086.26 Q1522.99 1090.84 1517.18 1090.84 Q1511.37 1090.84 1508.29 1086.26 Q1505.24 1081.65 1505.24 1072.93 Q1505.24 1064.18 1508.29 1059.59 Q1511.37 1054.99 1517.18 1054.99 Z\" fill=\"#000000\" fill-rule=\"evenodd\" fill-opacity=\"1\" /><path clip-path=\"url(#clip570)\" d=\"M 0 0 M1824.92 1055.61 L1843.28 1055.61 L1843.28 1059.55 L1829.2 1059.55 L1829.2 1068.02 Q1830.22 1067.67 1831.24 1067.51 Q1832.26 1067.33 1833.28 1067.33 Q1839.07 1067.33 1842.45 1070.5 Q1845.83 1073.67 1845.83 1079.08 Q1845.83 1084.66 1842.36 1087.77 Q1838.88 1090.84 1832.56 1090.84 Q1830.39 1090.84 1828.12 1090.47 Q1825.87 1090.1 1823.46 1089.36 L1823.46 1084.66 Q1825.55 1085.8 1827.77 1086.35 Q1829.99 1086.91 1832.47 1086.91 Q1836.47 1086.91 1838.81 1084.8 Q1841.15 1082.7 1841.15 1079.08 Q1841.15 1075.47 1838.81 1073.37 Q1836.47 1071.26 1832.47 1071.26 Q1830.59 1071.26 1828.72 1071.68 Q1826.87 1072.09 1824.92 1072.97 L1824.92 1055.61 Z\" fill=\"#000000\" fill-rule=\"evenodd\" fill-opacity=\"1\" /><path clip-path=\"url(#clip570)\" d=\"M 0 0 M1860.9 1058.69 Q1857.29 1058.69 1855.46 1062.26 Q1853.65 1065.8 1853.65 1072.93 Q1853.65 1080.03 1855.46 1083.6 Q1857.29 1087.14 1860.9 1087.14 Q1864.54 1087.14 1866.34 1083.6 Q1868.17 1080.03 1868.17 1072.93 Q1868.17 1065.8 1866.34 1062.26 Q1864.54 1058.69 1860.9 1058.69 M1860.9 1054.99 Q1866.71 1054.99 1869.77 1059.59 Q1872.85 1064.18 1872.85 1072.93 Q1872.85 1081.65 1869.77 1086.26 Q1866.71 1090.84 1860.9 1090.84 Q1855.09 1090.84 1852.01 1086.26 Q1848.95 1081.65 1848.95 1072.93 Q1848.95 1064.18 1852.01 1059.59 Q1855.09 1054.99 1860.9 1054.99 Z\" fill=\"#000000\" fill-rule=\"evenodd\" fill-opacity=\"1\" /><path clip-path=\"url(#clip570)\" d=\"M 0 0 M808.853 1113.93 L838.905 1113.93 L838.905 1119.34 L815.284 1119.34 L815.284 1133.41 L837.918 1133.41 L837.918 1138.82 L815.284 1138.82 L815.284 1156.04 L839.478 1156.04 L839.478 1161.45 L808.853 1161.45 L808.853 1113.93 Z\" fill=\"#000000\" fill-rule=\"evenodd\" fill-opacity=\"1\" /><path clip-path=\"url(#clip570)\" d=\"M 0 0 M875.26 1125.8 L862.367 1143.15 L875.929 1161.45 L869.02 1161.45 L858.642 1147.44 L848.264 1161.45 L841.356 1161.45 L855.204 1142.8 L842.534 1125.8 L849.442 1125.8 L858.897 1138.5 L868.352 1125.8 L875.26 1125.8 Z\" fill=\"#000000\" fill-rule=\"evenodd\" fill-opacity=\"1\" /><path clip-path=\"url(#clip570)\" d=\"M 0 0 M887.739 1156.1 L887.739 1175.01 L881.85 1175.01 L881.85 1125.8 L887.739 1125.8 L887.739 1131.21 Q889.585 1128.03 892.387 1126.5 Q895.22 1124.94 899.136 1124.94 Q905.63 1124.94 909.673 1130.1 Q913.748 1135.25 913.748 1143.66 Q913.748 1152.06 909.673 1157.21 Q905.63 1162.37 899.136 1162.37 Q895.22 1162.37 892.387 1160.84 Q889.585 1159.28 887.739 1156.1 M907.667 1143.66 Q907.667 1137.19 904.993 1133.53 Q902.351 1129.84 897.703 1129.84 Q893.055 1129.84 890.381 1133.53 Q887.739 1137.19 887.739 1143.66 Q887.739 1150.12 890.381 1153.81 Q893.055 1157.47 897.703 1157.47 Q902.351 1157.47 904.993 1153.81 Q907.667 1150.12 907.667 1143.66 Z\" fill=\"#000000\" fill-rule=\"evenodd\" fill-opacity=\"1\" /><path clip-path=\"url(#clip570)\" d=\"M 0 0 M950.389 1142.16 L950.389 1145.02 L923.457 1145.02 Q923.839 1151.07 927.086 1154.25 Q930.365 1157.41 936.191 1157.41 Q939.566 1157.41 942.717 1156.58 Q945.901 1155.75 949.02 1154.1 L949.02 1159.63 Q945.869 1160.97 942.558 1161.67 Q939.247 1162.37 935.841 1162.37 Q927.309 1162.37 922.311 1157.41 Q917.345 1152.44 917.345 1143.97 Q917.345 1135.22 922.057 1130.1 Q926.8 1124.94 934.822 1124.94 Q942.017 1124.94 946.187 1129.59 Q950.389 1134.2 950.389 1142.16 M944.532 1140.44 Q944.468 1135.63 941.826 1132.77 Q939.215 1129.91 934.886 1129.91 Q929.983 1129.91 927.023 1132.67 Q924.094 1135.44 923.648 1140.47 L944.532 1140.44 Z\" fill=\"#000000\" fill-rule=\"evenodd\" fill-opacity=\"1\" /><path clip-path=\"url(#clip570)\" d=\"M 0 0 M982.192 1127.17 L982.192 1132.64 Q979.709 1131.27 977.194 1130.61 Q974.711 1129.91 972.164 1129.91 Q966.466 1129.91 963.314 1133.53 Q960.162 1137.13 960.162 1143.66 Q960.162 1150.18 963.314 1153.81 Q966.466 1157.41 972.164 1157.41 Q974.711 1157.41 977.194 1156.74 Q979.709 1156.04 982.192 1154.67 L982.192 1160.08 Q979.741 1161.23 977.098 1161.8 Q974.488 1162.37 971.527 1162.37 Q963.473 1162.37 958.73 1157.31 Q953.987 1152.25 953.987 1143.66 Q953.987 1134.93 958.762 1129.94 Q963.569 1124.94 971.909 1124.94 Q974.615 1124.94 977.194 1125.51 Q979.772 1126.05 982.192 1127.17 Z\" fill=\"#000000\" fill-rule=\"evenodd\" fill-opacity=\"1\" /><path clip-path=\"url(#clip570)\" d=\"M 0 0 M994.13 1115.68 L994.13 1125.8 L1006.19 1125.8 L1006.19 1130.35 L994.13 1130.35 L994.13 1149.7 Q994.13 1154.06 995.308 1155.3 Q996.517 1156.55 1000.18 1156.55 L1006.19 1156.55 L1006.19 1161.45 L1000.18 1161.45 Q993.398 1161.45 990.819 1158.93 Q988.24 1156.39 988.24 1149.7 L988.24 1130.35 L983.943 1130.35 L983.943 1125.8 L988.24 1125.8 L988.24 1115.68 L994.13 1115.68 Z\" fill=\"#000000\" fill-rule=\"evenodd\" fill-opacity=\"1\" /><path clip-path=\"url(#clip570)\" d=\"M 0 0 M1042.84 1142.16 L1042.84 1145.02 L1015.9 1145.02 Q1016.29 1151.07 1019.53 1154.25 Q1022.81 1157.41 1028.64 1157.41 Q1032.01 1157.41 1035.16 1156.58 Q1038.35 1155.75 1041.47 1154.1 L1041.47 1159.63 Q1038.32 1160.97 1035.01 1161.67 Q1031.69 1162.37 1028.29 1162.37 Q1019.76 1162.37 1014.76 1157.41 Q1009.79 1152.44 1009.79 1143.97 Q1009.79 1135.22 1014.5 1130.1 Q1019.25 1124.94 1027.27 1124.94 Q1034.46 1124.94 1038.63 1129.59 Q1042.84 1134.2 1042.84 1142.16 M1036.98 1140.44 Q1036.92 1135.63 1034.27 1132.77 Q1031.66 1129.91 1027.33 1129.91 Q1022.43 1129.91 1019.47 1132.67 Q1016.54 1135.44 1016.1 1140.47 L1036.98 1140.44 Z\" fill=\"#000000\" fill-rule=\"evenodd\" fill-opacity=\"1\" /><path clip-path=\"url(#clip570)\" d=\"M 0 0 M1072.44 1131.21 L1072.44 1111.92 L1078.3 1111.92 L1078.3 1161.45 L1072.44 1161.45 L1072.44 1156.1 Q1070.6 1159.28 1067.76 1160.84 Q1064.96 1162.37 1061.01 1162.37 Q1054.55 1162.37 1050.48 1157.21 Q1046.43 1152.06 1046.43 1143.66 Q1046.43 1135.25 1050.48 1130.1 Q1054.55 1124.94 1061.01 1124.94 Q1064.96 1124.94 1067.76 1126.5 Q1070.6 1128.03 1072.44 1131.21 M1052.48 1143.66 Q1052.48 1150.12 1055.12 1153.81 Q1057.8 1157.47 1062.45 1157.47 Q1067.09 1157.47 1069.77 1153.81 Q1072.44 1150.12 1072.44 1143.66 Q1072.44 1137.19 1069.77 1133.53 Q1067.09 1129.84 1062.45 1129.84 Q1057.8 1129.84 1055.12 1133.53 Q1052.48 1137.19 1052.48 1143.66 Z\" fill=\"#000000\" fill-rule=\"evenodd\" fill-opacity=\"1\" /><path clip-path=\"url(#clip570)\" d=\"M 0 0 M1128.63 1131.21 L1128.63 1111.92 L1134.49 1111.92 L1134.49 1161.45 L1128.63 1161.45 L1128.63 1156.1 Q1126.78 1159.28 1123.95 1160.84 Q1121.15 1162.37 1117.2 1162.37 Q1110.74 1162.37 1106.66 1157.21 Q1102.62 1152.06 1102.62 1143.66 Q1102.62 1135.25 1106.66 1130.1 Q1110.74 1124.94 1117.2 1124.94 Q1121.15 1124.94 1123.95 1126.5 Q1126.78 1128.03 1128.63 1131.21 M1108.67 1143.66 Q1108.67 1150.12 1111.31 1153.81 Q1113.99 1157.47 1118.63 1157.47 Q1123.28 1157.47 1125.96 1153.81 Q1128.63 1150.12 1128.63 1143.66 Q1128.63 1137.19 1125.96 1133.53 Q1123.28 1129.84 1118.63 1129.84 Q1113.99 1129.84 1111.31 1133.53 Q1108.67 1137.19 1108.67 1143.66 Z\" fill=\"#000000\" fill-rule=\"evenodd\" fill-opacity=\"1\" /><path clip-path=\"url(#clip570)\" d=\"M 0 0 M1171.13 1142.16 L1171.13 1145.02 L1144.2 1145.02 Q1144.58 1151.07 1147.83 1154.25 Q1151.11 1157.41 1156.93 1157.41 Q1160.31 1157.41 1163.46 1156.58 Q1166.64 1155.75 1169.76 1154.1 L1169.76 1159.63 Q1166.61 1160.97 1163.3 1161.67 Q1159.99 1162.37 1156.58 1162.37 Q1148.05 1162.37 1143.05 1157.41 Q1138.08 1152.44 1138.08 1143.97 Q1138.08 1135.22 1142.8 1130.1 Q1147.54 1124.94 1155.56 1124.94 Q1162.76 1124.94 1166.93 1129.59 Q1171.13 1134.2 1171.13 1142.16 M1165.27 1140.44 Q1165.21 1135.63 1162.57 1132.77 Q1159.96 1129.91 1155.63 1129.91 Q1150.72 1129.91 1147.76 1132.67 Q1144.83 1135.44 1144.39 1140.47 L1165.27 1140.44 Z\" fill=\"#000000\" fill-rule=\"evenodd\" fill-opacity=\"1\" /><path clip-path=\"url(#clip570)\" d=\"M 0 0 M1205.03 1132.64 Q1207.23 1128.7 1210.29 1126.82 Q1213.34 1124.94 1217.48 1124.94 Q1223.05 1124.94 1226.08 1128.86 Q1229.1 1132.74 1229.1 1139.93 L1229.1 1161.45 L1223.21 1161.45 L1223.21 1140.12 Q1223.21 1135 1221.4 1132.52 Q1219.58 1130.03 1215.86 1130.03 Q1211.3 1130.03 1208.66 1133.06 Q1206.02 1136.08 1206.02 1141.3 L1206.02 1161.45 L1200.13 1161.45 L1200.13 1140.12 Q1200.13 1134.97 1198.32 1132.52 Q1196.5 1130.03 1192.71 1130.03 Q1188.22 1130.03 1185.58 1133.09 Q1182.94 1136.11 1182.94 1141.3 L1182.94 1161.45 L1177.05 1161.45 L1177.05 1125.8 L1182.94 1125.8 L1182.94 1131.34 Q1184.95 1128.06 1187.75 1126.5 Q1190.55 1124.94 1194.4 1124.94 Q1198.28 1124.94 1200.99 1126.91 Q1203.73 1128.89 1205.03 1132.64 Z\" fill=\"#000000\" fill-rule=\"evenodd\" fill-opacity=\"1\" /><path clip-path=\"url(#clip570)\" d=\"M 0 0 M1251.45 1143.53 Q1244.35 1143.53 1241.61 1145.15 Q1238.87 1146.77 1238.87 1150.69 Q1238.87 1153.81 1240.91 1155.66 Q1242.98 1157.47 1246.51 1157.47 Q1251.38 1157.47 1254.31 1154.03 Q1257.27 1150.56 1257.27 1144.83 L1257.27 1143.53 L1251.45 1143.53 M1263.13 1141.11 L1263.13 1161.45 L1257.27 1161.45 L1257.27 1156.04 Q1255.27 1159.28 1252.28 1160.84 Q1249.28 1162.37 1244.95 1162.37 Q1239.48 1162.37 1236.23 1159.32 Q1233.02 1156.23 1233.02 1151.07 Q1233.02 1145.06 1237.03 1142 Q1241.07 1138.95 1249.06 1138.95 L1257.27 1138.95 L1257.27 1138.37 Q1257.27 1134.33 1254.6 1132.13 Q1251.96 1129.91 1247.15 1129.91 Q1244.09 1129.91 1241.2 1130.64 Q1238.3 1131.37 1235.63 1132.83 L1235.63 1127.42 Q1238.84 1126.18 1241.87 1125.58 Q1244.89 1124.94 1247.75 1124.94 Q1255.49 1124.94 1259.31 1128.95 Q1263.13 1132.96 1263.13 1141.11 Z\" fill=\"#000000\" fill-rule=\"evenodd\" fill-opacity=\"1\" /><path clip-path=\"url(#clip570)\" d=\"M 0 0 M1298.91 1139.93 L1298.91 1161.45 L1293.05 1161.45 L1293.05 1140.12 Q1293.05 1135.06 1291.08 1132.55 Q1289.11 1130.03 1285.16 1130.03 Q1280.42 1130.03 1277.68 1133.06 Q1274.94 1136.08 1274.94 1141.3 L1274.94 1161.45 L1269.05 1161.45 L1269.05 1125.8 L1274.94 1125.8 L1274.94 1131.34 Q1277.04 1128.12 1279.88 1126.53 Q1282.74 1124.94 1286.47 1124.94 Q1292.61 1124.94 1295.76 1128.76 Q1298.91 1132.55 1298.91 1139.93 Z\" fill=\"#000000\" fill-rule=\"evenodd\" fill-opacity=\"1\" /><path clip-path=\"url(#clip570)\" d=\"M 0 0 M1328.52 1131.21 L1328.52 1111.92 L1334.38 1111.92 L1334.38 1161.45 L1328.52 1161.45 L1328.52 1156.1 Q1326.67 1159.28 1323.84 1160.84 Q1321.04 1162.37 1317.09 1162.37 Q1310.63 1162.37 1306.55 1157.21 Q1302.51 1152.06 1302.51 1143.66 Q1302.51 1135.25 1306.55 1130.1 Q1310.63 1124.94 1317.09 1124.94 Q1321.04 1124.94 1323.84 1126.5 Q1326.67 1128.03 1328.52 1131.21 M1308.56 1143.66 Q1308.56 1150.12 1311.2 1153.81 Q1313.87 1157.47 1318.52 1157.47 Q1323.17 1157.47 1325.84 1153.81 Q1328.52 1150.12 1328.52 1143.66 Q1328.52 1137.19 1325.84 1133.53 Q1323.17 1129.84 1318.52 1129.84 Q1313.87 1129.84 1311.2 1133.53 Q1308.56 1137.19 1308.56 1143.66 Z\" fill=\"#000000\" fill-rule=\"evenodd\" fill-opacity=\"1\" /><polyline clip-path=\"url(#clip572)\" style=\"stroke:#000000; stroke-width:2; stroke-opacity:0.1; fill:none\" points=\"\n",
       "  248.482,863.39 1894.75,863.39 \n",
       "  \"/>\n",
       "<polyline clip-path=\"url(#clip572)\" style=\"stroke:#000000; stroke-width:2; stroke-opacity:0.1; fill:none\" points=\"\n",
       "  248.482,650.685 1894.75,650.685 \n",
       "  \"/>\n",
       "<polyline clip-path=\"url(#clip572)\" style=\"stroke:#000000; stroke-width:2; stroke-opacity:0.1; fill:none\" points=\"\n",
       "  248.482,437.98 1894.75,437.98 \n",
       "  \"/>\n",
       "<polyline clip-path=\"url(#clip572)\" style=\"stroke:#000000; stroke-width:2; stroke-opacity:0.1; fill:none\" points=\"\n",
       "  248.482,225.275 1894.75,225.275 \n",
       "  \"/>\n",
       "<polyline clip-path=\"url(#clip570)\" style=\"stroke:#000000; stroke-width:4; stroke-opacity:1; fill:none\" points=\"\n",
       "  248.482,1033.17 248.482,47.2441 \n",
       "  \"/>\n",
       "<polyline clip-path=\"url(#clip570)\" style=\"stroke:#000000; stroke-width:4; stroke-opacity:1; fill:none\" points=\"\n",
       "  248.482,863.39 268.237,863.39 \n",
       "  \"/>\n",
       "<polyline clip-path=\"url(#clip570)\" style=\"stroke:#000000; stroke-width:4; stroke-opacity:1; fill:none\" points=\"\n",
       "  248.482,650.685 268.237,650.685 \n",
       "  \"/>\n",
       "<polyline clip-path=\"url(#clip570)\" style=\"stroke:#000000; stroke-width:4; stroke-opacity:1; fill:none\" points=\"\n",
       "  248.482,437.98 268.237,437.98 \n",
       "  \"/>\n",
       "<polyline clip-path=\"url(#clip570)\" style=\"stroke:#000000; stroke-width:4; stroke-opacity:1; fill:none\" points=\"\n",
       "  248.482,225.275 268.237,225.275 \n",
       "  \"/>\n",
       "<path clip-path=\"url(#clip570)\" d=\"M 0 0 M118.385 876.735 L126.025 876.735 L126.025 850.369 L117.714 852.036 L117.714 847.776 L125.979 846.11 L130.656 846.11 L130.656 876.735 L138.296 876.735 L138.296 880.67 L118.385 880.67 L118.385 876.735 Z\" fill=\"#000000\" fill-rule=\"evenodd\" fill-opacity=\"1\" /><path clip-path=\"url(#clip570)\" d=\"M 0 0 M153.368 849.188 Q149.756 849.188 147.927 852.753 Q146.122 856.295 146.122 863.424 Q146.122 870.531 147.927 874.096 Q149.756 877.637 153.368 877.637 Q157.003 877.637 158.809 874.096 Q160.638 870.531 160.638 863.424 Q160.638 856.295 158.809 852.753 Q157.003 849.188 153.368 849.188 M153.368 845.485 Q159.179 845.485 162.236 850.091 Q165.315 854.675 165.315 863.424 Q165.315 872.151 162.236 876.758 Q159.179 881.341 153.368 881.341 Q147.557 881.341 144.478 876.758 Q141.422 872.151 141.422 863.424 Q141.422 854.675 144.478 850.091 Q147.557 845.485 153.368 845.485 Z\" fill=\"#000000\" fill-rule=\"evenodd\" fill-opacity=\"1\" /><path clip-path=\"url(#clip570)\" d=\"M 0 0 M180.387 849.188 Q176.775 849.188 174.946 852.753 Q173.14 856.295 173.14 863.424 Q173.14 870.531 174.946 874.096 Q176.775 877.637 180.387 877.637 Q184.022 877.637 185.828 874.096 Q187.657 870.531 187.657 863.424 Q187.657 856.295 185.828 852.753 Q184.022 849.188 180.387 849.188 M180.387 845.485 Q186.198 845.485 189.254 850.091 Q192.334 854.675 192.334 863.424 Q192.334 872.151 189.254 876.758 Q186.198 881.341 180.387 881.341 Q174.576 881.341 171.496 876.758 Q168.44 872.151 168.44 863.424 Q168.44 854.675 171.496 850.091 Q174.576 845.485 180.387 845.485 Z\" fill=\"#000000\" fill-rule=\"evenodd\" fill-opacity=\"1\" /><path clip-path=\"url(#clip570)\" d=\"M 0 0 M207.406 849.188 Q203.794 849.188 201.965 852.753 Q200.159 856.295 200.159 863.424 Q200.159 870.531 201.965 874.096 Q203.794 877.637 207.406 877.637 Q211.041 877.637 212.846 874.096 Q214.676 870.531 214.676 863.424 Q214.676 856.295 212.846 852.753 Q211.041 849.188 207.406 849.188 M207.406 845.485 Q213.217 845.485 216.273 850.091 Q219.352 854.675 219.352 863.424 Q219.352 872.151 216.273 876.758 Q213.217 881.341 207.406 881.341 Q201.594 881.341 198.515 876.758 Q195.459 872.151 195.459 863.424 Q195.459 854.675 198.515 850.091 Q201.594 845.485 207.406 845.485 Z\" fill=\"#000000\" fill-rule=\"evenodd\" fill-opacity=\"1\" /><path clip-path=\"url(#clip570)\" d=\"M 0 0 M121.974 664.03 L138.296 664.03 L138.296 667.965 L116.348 667.965 L116.348 664.03 Q119.01 661.275 123.594 656.645 Q128.202 651.993 129.382 650.65 Q131.628 648.127 132.508 646.391 Q133.411 644.632 133.411 642.942 Q133.411 640.187 131.466 638.451 Q129.544 636.715 126.442 636.715 Q124.243 636.715 121.788 637.479 Q119.357 638.243 116.579 639.794 L116.579 635.071 Q119.404 633.937 121.858 633.358 Q124.312 632.78 126.349 632.78 Q131.721 632.78 134.916 635.465 Q138.111 638.15 138.111 642.641 Q138.111 644.77 137.3 646.692 Q136.513 648.59 134.406 651.182 Q133.828 651.854 130.725 655.071 Q127.623 658.266 121.974 664.03 Z\" fill=\"#000000\" fill-rule=\"evenodd\" fill-opacity=\"1\" /><path clip-path=\"url(#clip570)\" d=\"M 0 0 M153.368 636.483 Q149.756 636.483 147.927 640.048 Q146.122 643.59 146.122 650.719 Q146.122 657.826 147.927 661.391 Q149.756 664.932 153.368 664.932 Q157.003 664.932 158.809 661.391 Q160.638 657.826 160.638 650.719 Q160.638 643.59 158.809 640.048 Q157.003 636.483 153.368 636.483 M153.368 632.78 Q159.179 632.78 162.236 637.386 Q165.315 641.97 165.315 650.719 Q165.315 659.446 162.236 664.053 Q159.179 668.636 153.368 668.636 Q147.557 668.636 144.478 664.053 Q141.422 659.446 141.422 650.719 Q141.422 641.97 144.478 637.386 Q147.557 632.78 153.368 632.78 Z\" fill=\"#000000\" fill-rule=\"evenodd\" fill-opacity=\"1\" /><path clip-path=\"url(#clip570)\" d=\"M 0 0 M180.387 636.483 Q176.775 636.483 174.946 640.048 Q173.14 643.59 173.14 650.719 Q173.14 657.826 174.946 661.391 Q176.775 664.932 180.387 664.932 Q184.022 664.932 185.828 661.391 Q187.657 657.826 187.657 650.719 Q187.657 643.59 185.828 640.048 Q184.022 636.483 180.387 636.483 M180.387 632.78 Q186.198 632.78 189.254 637.386 Q192.334 641.97 192.334 650.719 Q192.334 659.446 189.254 664.053 Q186.198 668.636 180.387 668.636 Q174.576 668.636 171.496 664.053 Q168.44 659.446 168.44 650.719 Q168.44 641.97 171.496 637.386 Q174.576 632.78 180.387 632.78 Z\" fill=\"#000000\" fill-rule=\"evenodd\" fill-opacity=\"1\" /><path clip-path=\"url(#clip570)\" d=\"M 0 0 M207.406 636.483 Q203.794 636.483 201.965 640.048 Q200.159 643.59 200.159 650.719 Q200.159 657.826 201.965 661.391 Q203.794 664.932 207.406 664.932 Q211.041 664.932 212.846 661.391 Q214.676 657.826 214.676 650.719 Q214.676 643.59 212.846 640.048 Q211.041 636.483 207.406 636.483 M207.406 632.78 Q213.217 632.78 216.273 637.386 Q219.352 641.97 219.352 650.719 Q219.352 659.446 216.273 664.053 Q213.217 668.636 207.406 668.636 Q201.594 668.636 198.515 664.053 Q195.459 659.446 195.459 650.719 Q195.459 641.97 198.515 637.386 Q201.594 632.78 207.406 632.78 Z\" fill=\"#000000\" fill-rule=\"evenodd\" fill-opacity=\"1\" /><path clip-path=\"url(#clip570)\" d=\"M 0 0 M131.165 436.626 Q134.522 437.343 136.398 439.612 Q138.296 441.88 138.296 445.214 Q138.296 450.329 134.777 453.13 Q131.258 455.931 124.775 455.931 Q122.599 455.931 120.284 455.491 Q117.991 455.075 115.537 454.218 L115.537 449.704 Q117.482 450.839 119.797 451.417 Q122.113 451.996 124.636 451.996 Q129.035 451.996 131.327 450.26 Q133.642 448.524 133.642 445.214 Q133.642 442.158 131.489 440.445 Q129.359 438.709 125.539 438.709 L121.511 438.709 L121.511 434.866 L125.724 434.866 Q129.174 434.866 131.003 433.501 Q132.832 432.112 132.832 429.519 Q132.832 426.857 130.934 425.445 Q129.058 424.01 125.539 424.01 Q123.617 424.01 121.418 424.427 Q119.219 424.843 116.579 425.723 L116.579 421.556 Q119.242 420.816 121.557 420.445 Q123.895 420.075 125.956 420.075 Q131.281 420.075 134.383 422.505 Q137.486 424.913 137.486 429.033 Q137.486 431.903 135.842 433.894 Q134.198 435.862 131.165 436.626 Z\" fill=\"#000000\" fill-rule=\"evenodd\" fill-opacity=\"1\" /><path clip-path=\"url(#clip570)\" d=\"M 0 0 M153.368 423.778 Q149.756 423.778 147.927 427.343 Q146.122 430.885 146.122 438.014 Q146.122 445.121 147.927 448.686 Q149.756 452.227 153.368 452.227 Q157.003 452.227 158.809 448.686 Q160.638 445.121 160.638 438.014 Q160.638 430.885 158.809 427.343 Q157.003 423.778 153.368 423.778 M153.368 420.075 Q159.179 420.075 162.236 424.681 Q165.315 429.265 165.315 438.014 Q165.315 446.741 162.236 451.348 Q159.179 455.931 153.368 455.931 Q147.557 455.931 144.478 451.348 Q141.422 446.741 141.422 438.014 Q141.422 429.265 144.478 424.681 Q147.557 420.075 153.368 420.075 Z\" fill=\"#000000\" fill-rule=\"evenodd\" fill-opacity=\"1\" /><path clip-path=\"url(#clip570)\" d=\"M 0 0 M180.387 423.778 Q176.775 423.778 174.946 427.343 Q173.14 430.885 173.14 438.014 Q173.14 445.121 174.946 448.686 Q176.775 452.227 180.387 452.227 Q184.022 452.227 185.828 448.686 Q187.657 445.121 187.657 438.014 Q187.657 430.885 185.828 427.343 Q184.022 423.778 180.387 423.778 M180.387 420.075 Q186.198 420.075 189.254 424.681 Q192.334 429.265 192.334 438.014 Q192.334 446.741 189.254 451.348 Q186.198 455.931 180.387 455.931 Q174.576 455.931 171.496 451.348 Q168.44 446.741 168.44 438.014 Q168.44 429.265 171.496 424.681 Q174.576 420.075 180.387 420.075 Z\" fill=\"#000000\" fill-rule=\"evenodd\" fill-opacity=\"1\" /><path clip-path=\"url(#clip570)\" d=\"M 0 0 M207.406 423.778 Q203.794 423.778 201.965 427.343 Q200.159 430.885 200.159 438.014 Q200.159 445.121 201.965 448.686 Q203.794 452.227 207.406 452.227 Q211.041 452.227 212.846 448.686 Q214.676 445.121 214.676 438.014 Q214.676 430.885 212.846 427.343 Q211.041 423.778 207.406 423.778 M207.406 420.075 Q213.217 420.075 216.273 424.681 Q219.352 429.265 219.352 438.014 Q219.352 446.741 216.273 451.348 Q213.217 455.931 207.406 455.931 Q201.594 455.931 198.515 451.348 Q195.459 446.741 195.459 438.014 Q195.459 429.265 198.515 424.681 Q201.594 420.075 207.406 420.075 Z\" fill=\"#000000\" fill-rule=\"evenodd\" fill-opacity=\"1\" /><path clip-path=\"url(#clip570)\" d=\"M 0 0 M128.711 212.069 L116.903 230.518 L128.711 230.518 L128.711 212.069 M127.484 207.995 L133.365 207.995 L133.365 230.518 L138.296 230.518 L138.296 234.407 L133.365 234.407 L133.365 242.555 L128.711 242.555 L128.711 234.407 L113.106 234.407 L113.106 229.893 L127.484 207.995 Z\" fill=\"#000000\" fill-rule=\"evenodd\" fill-opacity=\"1\" /><path clip-path=\"url(#clip570)\" d=\"M 0 0 M153.368 211.073 Q149.756 211.073 147.927 214.638 Q146.122 218.18 146.122 225.309 Q146.122 232.416 147.927 235.981 Q149.756 239.522 153.368 239.522 Q157.003 239.522 158.809 235.981 Q160.638 232.416 160.638 225.309 Q160.638 218.18 158.809 214.638 Q157.003 211.073 153.368 211.073 M153.368 207.37 Q159.179 207.37 162.236 211.976 Q165.315 216.56 165.315 225.309 Q165.315 234.036 162.236 238.643 Q159.179 243.226 153.368 243.226 Q147.557 243.226 144.478 238.643 Q141.422 234.036 141.422 225.309 Q141.422 216.56 144.478 211.976 Q147.557 207.37 153.368 207.37 Z\" fill=\"#000000\" fill-rule=\"evenodd\" fill-opacity=\"1\" /><path clip-path=\"url(#clip570)\" d=\"M 0 0 M180.387 211.073 Q176.775 211.073 174.946 214.638 Q173.14 218.18 173.14 225.309 Q173.14 232.416 174.946 235.981 Q176.775 239.522 180.387 239.522 Q184.022 239.522 185.828 235.981 Q187.657 232.416 187.657 225.309 Q187.657 218.18 185.828 214.638 Q184.022 211.073 180.387 211.073 M180.387 207.37 Q186.198 207.37 189.254 211.976 Q192.334 216.56 192.334 225.309 Q192.334 234.036 189.254 238.643 Q186.198 243.226 180.387 243.226 Q174.576 243.226 171.496 238.643 Q168.44 234.036 168.44 225.309 Q168.44 216.56 171.496 211.976 Q174.576 207.37 180.387 207.37 Z\" fill=\"#000000\" fill-rule=\"evenodd\" fill-opacity=\"1\" /><path clip-path=\"url(#clip570)\" d=\"M 0 0 M207.406 211.073 Q203.794 211.073 201.965 214.638 Q200.159 218.18 200.159 225.309 Q200.159 232.416 201.965 235.981 Q203.794 239.522 207.406 239.522 Q211.041 239.522 212.846 235.981 Q214.676 232.416 214.676 225.309 Q214.676 218.18 212.846 214.638 Q211.041 211.073 207.406 211.073 M207.406 207.37 Q213.217 207.37 216.273 211.976 Q219.352 216.56 219.352 225.309 Q219.352 234.036 216.273 238.643 Q213.217 243.226 207.406 243.226 Q201.594 243.226 198.515 238.643 Q195.459 234.036 195.459 225.309 Q195.459 216.56 198.515 211.976 Q201.594 207.37 207.406 207.37 Z\" fill=\"#000000\" fill-rule=\"evenodd\" fill-opacity=\"1\" /><path clip-path=\"url(#clip570)\" d=\"M 0 0 M66.8536 643.569 Q67.554 641.5 69.846 639.559 Q72.1381 637.585 76.1493 635.612 L89.1377 629.087 L89.1377 635.994 L76.9451 642.073 Q72.17 644.428 70.6101 646.656 Q69.0502 648.852 69.0502 652.672 L69.0502 659.674 L89.1377 659.674 L89.1377 666.104 L41.6089 666.104 L41.6089 651.59 Q41.6089 643.442 45.0152 639.431 Q48.4215 635.421 55.2977 635.421 Q59.7864 635.421 62.747 637.522 Q65.7076 639.59 66.8536 643.569 M46.8934 659.674 L63.7657 659.674 L63.7657 651.59 Q63.7657 646.943 61.6328 644.587 Q59.468 642.2 55.2977 642.2 Q51.1274 642.2 49.0263 644.587 Q46.8934 646.943 46.8934 651.59 L46.8934 659.674 Z\" fill=\"#000000\" fill-rule=\"evenodd\" fill-opacity=\"1\" /><path clip-path=\"url(#clip570)\" d=\"M 0 0 M69.846 595.381 L72.7111 595.381 L72.7111 622.307 Q78.7597 621.926 81.9431 618.679 Q85.0947 615.401 85.0947 609.576 Q85.0947 606.202 84.267 603.051 Q83.4393 599.868 81.7839 596.749 L87.3231 596.749 Q88.6602 599.9 89.3605 603.21 Q90.0609 606.521 90.0609 609.926 Q90.0609 618.456 85.0947 623.453 Q80.1286 628.419 71.6606 628.419 Q62.9061 628.419 57.7808 623.708 Q52.6236 618.966 52.6236 610.945 Q52.6236 603.751 57.2714 599.582 Q61.8874 595.381 69.846 595.381 M68.127 601.237 Q63.32 601.301 60.4549 603.942 Q57.5898 606.552 57.5898 610.881 Q57.5898 615.783 60.3594 618.743 Q63.129 621.671 68.1588 622.117 L68.127 601.237 Z\" fill=\"#000000\" fill-rule=\"evenodd\" fill-opacity=\"1\" /><path clip-path=\"url(#clip570)\" d=\"M 0 0 M53.4831 593.439 L53.4831 587.232 L83.4075 576.092 L53.4831 564.952 L53.4831 558.746 L89.1377 572.114 L89.1377 580.071 L53.4831 593.439 Z\" fill=\"#000000\" fill-rule=\"evenodd\" fill-opacity=\"1\" /><path clip-path=\"url(#clip570)\" d=\"M 0 0 M69.846 522.111 L72.7111 522.111 L72.7111 549.038 Q78.7597 548.656 81.9431 545.41 Q85.0947 542.131 85.0947 536.307 Q85.0947 532.933 84.267 529.782 Q83.4393 526.599 81.7839 523.48 L87.3231 523.48 Q88.6602 526.631 89.3605 529.941 Q90.0609 533.251 90.0609 536.657 Q90.0609 545.187 85.0947 550.184 Q80.1286 555.149 71.6606 555.149 Q62.9061 555.149 57.7808 550.439 Q52.6236 545.696 52.6236 537.675 Q52.6236 530.482 57.2714 526.313 Q61.8874 522.111 69.846 522.111 M68.127 527.968 Q63.32 528.031 60.4549 530.673 Q57.5898 533.283 57.5898 537.612 Q57.5898 542.513 60.3594 545.473 Q63.129 548.402 68.1588 548.847 L68.127 527.968 Z\" fill=\"#000000\" fill-rule=\"evenodd\" fill-opacity=\"1\" /><path clip-path=\"url(#clip570)\" d=\"M 0 0 M67.6176 486.336 L89.1377 486.336 L89.1377 492.192 L67.8086 492.192 Q62.747 492.192 60.232 494.166 Q57.7171 496.139 57.7171 500.086 Q57.7171 504.828 60.7414 507.566 Q63.7657 510.303 68.9865 510.303 L89.1377 510.303 L89.1377 516.191 L53.4831 516.191 L53.4831 510.303 L59.0223 510.303 Q55.8071 508.202 54.2153 505.369 Q52.6236 502.505 52.6236 498.781 Q52.6236 492.638 56.4437 489.487 Q60.232 486.336 67.6176 486.336 Z\" fill=\"#000000\" fill-rule=\"evenodd\" fill-opacity=\"1\" /><path clip-path=\"url(#clip570)\" d=\"M 0 0 M75.0669 480.798 L53.4831 480.798 L53.4831 474.941 L74.844 474.941 Q79.9057 474.941 82.4525 472.968 Q84.9674 470.995 84.9674 467.048 Q84.9674 462.305 81.9431 459.568 Q78.9189 456.799 73.698 456.799 L53.4831 456.799 L53.4831 450.943 L89.1377 450.943 L89.1377 456.799 L83.6622 456.799 Q86.9093 458.932 88.501 461.764 Q90.0609 464.565 90.0609 468.289 Q90.0609 474.432 86.2408 477.615 Q82.4206 480.798 75.0669 480.798 M52.6236 466.061 L52.6236 466.061 Z\" fill=\"#000000\" fill-rule=\"evenodd\" fill-opacity=\"1\" /><path clip-path=\"url(#clip570)\" d=\"M 0 0 M69.846 414.308 L72.7111 414.308 L72.7111 441.235 Q78.7597 440.853 81.9431 437.607 Q85.0947 434.328 85.0947 428.504 Q85.0947 425.13 84.267 421.979 Q83.4393 418.796 81.7839 415.677 L87.3231 415.677 Q88.6602 418.828 89.3605 422.138 Q90.0609 425.448 90.0609 428.854 Q90.0609 437.384 85.0947 442.381 Q80.1286 447.346 71.6606 447.346 Q62.9061 447.346 57.7808 442.635 Q52.6236 437.893 52.6236 429.872 Q52.6236 422.679 57.2714 418.509 Q61.8874 414.308 69.846 414.308 M68.127 420.164 Q63.32 420.228 60.4549 422.87 Q57.5898 425.48 57.5898 429.809 Q57.5898 434.71 60.3594 437.67 Q63.129 440.598 68.1588 441.044 L68.127 420.164 Z\" fill=\"#000000\" fill-rule=\"evenodd\" fill-opacity=\"1\" /><polyline clip-path=\"url(#clip572)\" style=\"stroke:#009af9; stroke-width:4; stroke-opacity:1; fill:none\" points=\"\n",
       "  295.075,993.757 467.639,930.966 640.204,882.64 812.768,819.87 985.332,764.716 1157.9,709.2 1330.46,662.979 1503.03,614.078 1675.59,564.22 1848.15,535.356 \n",
       "  \n",
       "  \"/>\n",
       "<circle clip-path=\"url(#clip572)\" cx=\"295.075\" cy=\"993.757\" r=\"10\" fill=\"#009af9\" fill-rule=\"evenodd\" fill-opacity=\"1\" stroke=\"#000000\" stroke-opacity=\"1\" stroke-width=\"2.4\"/>\n",
       "<circle clip-path=\"url(#clip572)\" cx=\"467.639\" cy=\"930.966\" r=\"10\" fill=\"#009af9\" fill-rule=\"evenodd\" fill-opacity=\"1\" stroke=\"#000000\" stroke-opacity=\"1\" stroke-width=\"2.4\"/>\n",
       "<circle clip-path=\"url(#clip572)\" cx=\"640.204\" cy=\"882.64\" r=\"10\" fill=\"#009af9\" fill-rule=\"evenodd\" fill-opacity=\"1\" stroke=\"#000000\" stroke-opacity=\"1\" stroke-width=\"2.4\"/>\n",
       "<circle clip-path=\"url(#clip572)\" cx=\"812.768\" cy=\"819.87\" r=\"10\" fill=\"#009af9\" fill-rule=\"evenodd\" fill-opacity=\"1\" stroke=\"#000000\" stroke-opacity=\"1\" stroke-width=\"2.4\"/>\n",
       "<circle clip-path=\"url(#clip572)\" cx=\"985.332\" cy=\"764.716\" r=\"10\" fill=\"#009af9\" fill-rule=\"evenodd\" fill-opacity=\"1\" stroke=\"#000000\" stroke-opacity=\"1\" stroke-width=\"2.4\"/>\n",
       "<circle clip-path=\"url(#clip572)\" cx=\"1157.9\" cy=\"709.2\" r=\"10\" fill=\"#009af9\" fill-rule=\"evenodd\" fill-opacity=\"1\" stroke=\"#000000\" stroke-opacity=\"1\" stroke-width=\"2.4\"/>\n",
       "<circle clip-path=\"url(#clip572)\" cx=\"1330.46\" cy=\"662.979\" r=\"10\" fill=\"#009af9\" fill-rule=\"evenodd\" fill-opacity=\"1\" stroke=\"#000000\" stroke-opacity=\"1\" stroke-width=\"2.4\"/>\n",
       "<circle clip-path=\"url(#clip572)\" cx=\"1503.03\" cy=\"614.078\" r=\"10\" fill=\"#009af9\" fill-rule=\"evenodd\" fill-opacity=\"1\" stroke=\"#000000\" stroke-opacity=\"1\" stroke-width=\"2.4\"/>\n",
       "<circle clip-path=\"url(#clip572)\" cx=\"1675.59\" cy=\"564.22\" r=\"10\" fill=\"#009af9\" fill-rule=\"evenodd\" fill-opacity=\"1\" stroke=\"#000000\" stroke-opacity=\"1\" stroke-width=\"2.4\"/>\n",
       "<circle clip-path=\"url(#clip572)\" cx=\"1848.15\" cy=\"535.356\" r=\"10\" fill=\"#009af9\" fill-rule=\"evenodd\" fill-opacity=\"1\" stroke=\"#000000\" stroke-opacity=\"1\" stroke-width=\"2.4\"/>\n",
       "<polyline clip-path=\"url(#clip572)\" style=\"stroke:#ff0000; stroke-width:4; stroke-opacity:1; fill:none\" points=\"\n",
       "  295.075,1005.26 467.639,939.985 640.204,894.976 812.768,858.072 985.332,813.042 1157.9,764.461 1330.46,725.451 1503.03,681.548 1675.59,639.624 1848.15,618.247 \n",
       "  \n",
       "  \"/>\n",
       "<path clip-path=\"url(#clip572)\" d=\"M307.075 993.264 L283.075 993.264 L295.075 1017.26 L307.075 993.264 Z\" fill=\"#e26f46\" fill-rule=\"evenodd\" fill-opacity=\"1\" stroke=\"#000000\" stroke-opacity=\"1\" stroke-width=\"2.4\"/>\n",
       "<path clip-path=\"url(#clip572)\" d=\"M479.639 927.985 L455.639 927.985 L467.639 951.985 L479.639 927.985 Z\" fill=\"#e26f46\" fill-rule=\"evenodd\" fill-opacity=\"1\" stroke=\"#000000\" stroke-opacity=\"1\" stroke-width=\"2.4\"/>\n",
       "<path clip-path=\"url(#clip572)\" d=\"M652.204 882.976 L628.204 882.976 L640.204 906.976 L652.204 882.976 Z\" fill=\"#e26f46\" fill-rule=\"evenodd\" fill-opacity=\"1\" stroke=\"#000000\" stroke-opacity=\"1\" stroke-width=\"2.4\"/>\n",
       "<path clip-path=\"url(#clip572)\" d=\"M824.768 846.072 L800.768 846.072 L812.768 870.072 L824.768 846.072 Z\" fill=\"#e26f46\" fill-rule=\"evenodd\" fill-opacity=\"1\" stroke=\"#000000\" stroke-opacity=\"1\" stroke-width=\"2.4\"/>\n",
       "<path clip-path=\"url(#clip572)\" d=\"M997.332 801.042 L973.332 801.042 L985.332 825.042 L997.332 801.042 Z\" fill=\"#e26f46\" fill-rule=\"evenodd\" fill-opacity=\"1\" stroke=\"#000000\" stroke-opacity=\"1\" stroke-width=\"2.4\"/>\n",
       "<path clip-path=\"url(#clip572)\" d=\"M1169.9 752.461 L1145.9 752.461 L1157.9 776.461 L1169.9 752.461 Z\" fill=\"#e26f46\" fill-rule=\"evenodd\" fill-opacity=\"1\" stroke=\"#000000\" stroke-opacity=\"1\" stroke-width=\"2.4\"/>\n",
       "<path clip-path=\"url(#clip572)\" d=\"M1342.46 713.451 L1318.46 713.451 L1330.46 737.451 L1342.46 713.451 Z\" fill=\"#e26f46\" fill-rule=\"evenodd\" fill-opacity=\"1\" stroke=\"#000000\" stroke-opacity=\"1\" stroke-width=\"2.4\"/>\n",
       "<path clip-path=\"url(#clip572)\" d=\"M1515.03 669.548 L1491.03 669.548 L1503.03 693.548 L1515.03 669.548 Z\" fill=\"#e26f46\" fill-rule=\"evenodd\" fill-opacity=\"1\" stroke=\"#000000\" stroke-opacity=\"1\" stroke-width=\"2.4\"/>\n",
       "<path clip-path=\"url(#clip572)\" d=\"M1687.59 627.624 L1663.59 627.624 L1675.59 651.624 L1687.59 627.624 Z\" fill=\"#e26f46\" fill-rule=\"evenodd\" fill-opacity=\"1\" stroke=\"#000000\" stroke-opacity=\"1\" stroke-width=\"2.4\"/>\n",
       "<path clip-path=\"url(#clip572)\" d=\"M1860.15 606.247 L1836.15 606.247 L1848.15 630.247 L1860.15 606.247 Z\" fill=\"#e26f46\" fill-rule=\"evenodd\" fill-opacity=\"1\" stroke=\"#000000\" stroke-opacity=\"1\" stroke-width=\"2.4\"/>\n",
       "<polyline clip-path=\"url(#clip572)\" style=\"stroke:#008000; stroke-width:4; stroke-opacity:1; fill:none\" points=\"\n",
       "  295.075,918.544 467.639,789.007 640.204,681.91 812.768,580.343 985.332,476.926 1157.9,373.551 1330.46,280.174 1503.03,204.813 1675.59,123.538 1848.15,75.1476 \n",
       "  \n",
       "  \"/>\n",
       "<path clip-path=\"url(#clip572)\" d=\"M295.075 906.544 L283.075 930.544 L307.075 930.544 L295.075 906.544 Z\" fill=\"#3da44d\" fill-rule=\"evenodd\" fill-opacity=\"1\" stroke=\"#000000\" stroke-opacity=\"1\" stroke-width=\"2.4\"/>\n",
       "<path clip-path=\"url(#clip572)\" d=\"M467.639 777.007 L455.639 801.007 L479.639 801.007 L467.639 777.007 Z\" fill=\"#3da44d\" fill-rule=\"evenodd\" fill-opacity=\"1\" stroke=\"#000000\" stroke-opacity=\"1\" stroke-width=\"2.4\"/>\n",
       "<path clip-path=\"url(#clip572)\" d=\"M640.204 669.91 L628.204 693.91 L652.204 693.91 L640.204 669.91 Z\" fill=\"#3da44d\" fill-rule=\"evenodd\" fill-opacity=\"1\" stroke=\"#000000\" stroke-opacity=\"1\" stroke-width=\"2.4\"/>\n",
       "<path clip-path=\"url(#clip572)\" d=\"M812.768 568.343 L800.768 592.343 L824.768 592.343 L812.768 568.343 Z\" fill=\"#3da44d\" fill-rule=\"evenodd\" fill-opacity=\"1\" stroke=\"#000000\" stroke-opacity=\"1\" stroke-width=\"2.4\"/>\n",
       "<path clip-path=\"url(#clip572)\" d=\"M985.332 464.926 L973.332 488.926 L997.332 488.926 L985.332 464.926 Z\" fill=\"#3da44d\" fill-rule=\"evenodd\" fill-opacity=\"1\" stroke=\"#000000\" stroke-opacity=\"1\" stroke-width=\"2.4\"/>\n",
       "<path clip-path=\"url(#clip572)\" d=\"M1157.9 361.551 L1145.9 385.551 L1169.9 385.551 L1157.9 361.551 Z\" fill=\"#3da44d\" fill-rule=\"evenodd\" fill-opacity=\"1\" stroke=\"#000000\" stroke-opacity=\"1\" stroke-width=\"2.4\"/>\n",
       "<path clip-path=\"url(#clip572)\" d=\"M1330.46 268.174 L1318.46 292.174 L1342.46 292.174 L1330.46 268.174 Z\" fill=\"#3da44d\" fill-rule=\"evenodd\" fill-opacity=\"1\" stroke=\"#000000\" stroke-opacity=\"1\" stroke-width=\"2.4\"/>\n",
       "<path clip-path=\"url(#clip572)\" d=\"M1503.03 192.813 L1491.03 216.813 L1515.03 216.813 L1503.03 192.813 Z\" fill=\"#3da44d\" fill-rule=\"evenodd\" fill-opacity=\"1\" stroke=\"#000000\" stroke-opacity=\"1\" stroke-width=\"2.4\"/>\n",
       "<path clip-path=\"url(#clip572)\" d=\"M1675.59 111.538 L1663.59 135.538 L1687.59 135.538 L1675.59 111.538 Z\" fill=\"#3da44d\" fill-rule=\"evenodd\" fill-opacity=\"1\" stroke=\"#000000\" stroke-opacity=\"1\" stroke-width=\"2.4\"/>\n",
       "<path clip-path=\"url(#clip572)\" d=\"M1848.15 63.1476 L1836.15 87.1476 L1860.15 87.1476 L1848.15 63.1476 Z\" fill=\"#3da44d\" fill-rule=\"evenodd\" fill-opacity=\"1\" stroke=\"#000000\" stroke-opacity=\"1\" stroke-width=\"2.4\"/>\n",
       "<path clip-path=\"url(#clip570)\" d=\"\n",
       "M303.358 322.028 L668.925 322.028 L668.925 80.1082 L303.358 80.1082  Z\n",
       "  \" fill=\"#ffffff\" fill-rule=\"evenodd\" fill-opacity=\"1\"/>\n",
       "<polyline clip-path=\"url(#clip570)\" style=\"stroke:#000000; stroke-width:4; stroke-opacity:1; fill:none\" points=\"\n",
       "  303.358,322.028 668.925,322.028 668.925,80.1082 303.358,80.1082 303.358,322.028 \n",
       "  \"/>\n",
       "<polyline clip-path=\"url(#clip570)\" style=\"stroke:#009af9; stroke-width:4; stroke-opacity:1; fill:none\" points=\"\n",
       "  321.65,140.588 431.401,140.588 \n",
       "  \"/>\n",
       "<circle clip-path=\"url(#clip570)\" cx=\"376.525\" cy=\"140.588\" r=\"23\" fill=\"#009af9\" fill-rule=\"evenodd\" fill-opacity=\"1\" stroke=\"#000000\" stroke-opacity=\"1\" stroke-width=\"5.12\"/>\n",
       "<path clip-path=\"url(#clip570)\" d=\"M 0 0 M449.692 123.308 L456.661 123.308 L465.482 146.827 L474.35 123.308 L481.318 123.308 L481.318 157.868 L476.757 157.868 L476.757 127.521 L467.844 151.225 L463.144 151.225 L454.23 127.521 L454.23 157.868 L449.692 157.868 L449.692 123.308 Z\" fill=\"#000000\" fill-rule=\"evenodd\" fill-opacity=\"1\" /><path clip-path=\"url(#clip570)\" d=\"M 0 0 M511.856 125.97 L511.856 130.901 Q509.495 128.702 506.809 127.614 Q504.147 126.526 501.137 126.526 Q495.21 126.526 492.061 130.16 Q488.912 133.771 488.912 140.623 Q488.912 147.452 492.061 151.086 Q495.21 154.697 501.137 154.697 Q504.147 154.697 506.809 153.609 Q509.495 152.521 511.856 150.322 L511.856 155.206 Q509.402 156.873 506.647 157.706 Q503.915 158.54 500.859 158.54 Q493.01 158.54 488.496 153.748 Q483.981 148.933 483.981 140.623 Q483.981 132.29 488.496 127.498 Q493.01 122.683 500.859 122.683 Q503.961 122.683 506.693 123.517 Q509.449 124.327 511.856 125.97 Z\" fill=\"#000000\" fill-rule=\"evenodd\" fill-opacity=\"1\" /><path clip-path=\"url(#clip570)\" d=\"M 0 0 M511.717 123.308 L540.959 123.308 L540.959 127.243 L528.688 127.243 L528.688 157.868 L523.988 157.868 L523.988 127.243 L511.717 127.243 L511.717 123.308 Z\" fill=\"#000000\" fill-rule=\"evenodd\" fill-opacity=\"1\" /><path clip-path=\"url(#clip570)\" d=\"M 0 0 M566.334 124.442 L566.334 129.003 Q563.671 127.729 561.31 127.104 Q558.948 126.479 556.749 126.479 Q552.929 126.479 550.845 127.961 Q548.784 129.442 548.784 132.174 Q548.784 134.466 550.15 135.646 Q551.539 136.804 555.383 137.521 L558.207 138.1 Q563.44 139.095 565.917 141.618 Q568.417 144.118 568.417 148.331 Q568.417 153.354 565.037 155.947 Q561.68 158.54 555.174 158.54 Q552.72 158.54 549.942 157.984 Q547.187 157.428 544.223 156.34 L544.223 151.526 Q547.071 153.123 549.803 153.933 Q552.535 154.743 555.174 154.743 Q559.18 154.743 561.356 153.169 Q563.532 151.595 563.532 148.678 Q563.532 146.132 561.958 144.697 Q560.407 143.262 556.841 142.544 L553.994 141.989 Q548.761 140.947 546.423 138.725 Q544.084 136.503 544.084 132.544 Q544.084 127.961 547.303 125.322 Q550.544 122.683 556.216 122.683 Q558.647 122.683 561.171 123.123 Q563.694 123.563 566.334 124.442 Z\" fill=\"#000000\" fill-rule=\"evenodd\" fill-opacity=\"1\" /><polyline clip-path=\"url(#clip570)\" style=\"stroke:#ff0000; stroke-width:4; stroke-opacity:1; fill:none\" points=\"\n",
       "  321.65,201.068 431.401,201.068 \n",
       "  \"/>\n",
       "<path clip-path=\"url(#clip570)\" d=\"M402.125 175.468 L350.925 175.468 L376.525 226.668 L402.125 175.468 Z\" fill=\"#e26f46\" fill-rule=\"evenodd\" fill-opacity=\"1\" stroke=\"#000000\" stroke-opacity=\"1\" stroke-width=\"5.12\"/>\n",
       "<path clip-path=\"url(#clip570)\" d=\"M 0 0 M466.2 182.33 L466.2 185.872 L462.125 185.872 Q459.833 185.872 458.93 186.797 Q458.05 187.723 458.05 190.131 L458.05 192.422 L465.066 192.422 L465.066 195.733 L458.05 195.733 L458.05 218.348 L453.767 218.348 L453.767 195.733 L449.692 195.733 L449.692 192.422 L453.767 192.422 L453.767 190.617 Q453.767 186.288 455.781 184.321 Q457.796 182.33 462.172 182.33 L466.2 182.33 Z\" fill=\"#000000\" fill-rule=\"evenodd\" fill-opacity=\"1\" /><path clip-path=\"url(#clip570)\" d=\"M 0 0 M470.668 182.33 L474.928 182.33 L474.928 218.348 L470.668 218.348 L470.668 182.33 Z\" fill=\"#000000\" fill-rule=\"evenodd\" fill-opacity=\"1\" /><path clip-path=\"url(#clip570)\" d=\"M 0 0 M491.181 205.316 Q486.018 205.316 484.027 206.496 Q482.036 207.677 482.036 210.524 Q482.036 212.793 483.518 214.135 Q485.023 215.455 487.593 215.455 Q491.135 215.455 493.265 212.955 Q495.418 210.432 495.418 206.265 L495.418 205.316 L491.181 205.316 M499.678 203.557 L499.678 218.348 L495.418 218.348 L495.418 214.413 Q493.96 216.774 491.783 217.908 Q489.607 219.02 486.458 219.02 Q482.476 219.02 480.115 216.797 Q477.776 214.552 477.776 210.802 Q477.776 206.427 480.693 204.205 Q483.634 201.983 489.445 201.983 L495.418 201.983 L495.418 201.566 Q495.418 198.626 493.473 197.029 Q491.552 195.409 488.056 195.409 Q485.833 195.409 483.726 195.941 Q481.619 196.473 479.675 197.538 L479.675 193.603 Q482.013 192.7 484.213 192.26 Q486.412 191.797 488.496 191.797 Q494.122 191.797 496.9 194.714 Q499.678 197.631 499.678 203.557 Z\" fill=\"#000000\" fill-rule=\"evenodd\" fill-opacity=\"1\" /><path clip-path=\"url(#clip570)\" d=\"M 0 0 M508.36 185.061 L508.36 192.422 L517.135 192.422 L517.135 195.733 L508.36 195.733 L508.36 209.807 Q508.36 212.978 509.217 213.881 Q510.097 214.783 512.759 214.783 L517.135 214.783 L517.135 218.348 L512.759 218.348 Q507.828 218.348 505.953 216.52 Q504.077 214.668 504.077 209.807 L504.077 195.733 L500.952 195.733 L500.952 192.422 L504.077 192.422 L504.077 185.061 L508.36 185.061 Z\" fill=\"#000000\" fill-rule=\"evenodd\" fill-opacity=\"1\" /><path clip-path=\"url(#clip570)\" d=\"M 0 0 M519.45 203.464 L531.929 203.464 L531.929 207.26 L519.45 207.26 L519.45 203.464 Z\" fill=\"#000000\" fill-rule=\"evenodd\" fill-opacity=\"1\" /><path clip-path=\"url(#clip570)\" d=\"M 0 0 M551.424 196.404 Q550.706 195.987 549.849 195.802 Q549.016 195.594 547.997 195.594 Q544.385 195.594 542.441 197.955 Q540.519 200.293 540.519 204.691 L540.519 218.348 L536.236 218.348 L536.236 192.422 L540.519 192.422 L540.519 196.45 Q541.862 194.089 544.015 192.955 Q546.168 191.797 549.247 191.797 Q549.687 191.797 550.22 191.867 Q550.752 191.913 551.401 192.029 L551.424 196.404 Z\" fill=\"#000000\" fill-rule=\"evenodd\" fill-opacity=\"1\" /><path clip-path=\"url(#clip570)\" d=\"M 0 0 M567.677 205.316 Q562.514 205.316 560.523 206.496 Q558.531 207.677 558.531 210.524 Q558.531 212.793 560.013 214.135 Q561.518 215.455 564.088 215.455 Q567.63 215.455 569.76 212.955 Q571.913 210.432 571.913 206.265 L571.913 205.316 L567.677 205.316 M576.173 203.557 L576.173 218.348 L571.913 218.348 L571.913 214.413 Q570.455 216.774 568.279 217.908 Q566.102 219.02 562.954 219.02 Q558.971 219.02 556.61 216.797 Q554.271 214.552 554.271 210.802 Q554.271 206.427 557.189 204.205 Q560.129 201.983 565.94 201.983 L571.913 201.983 L571.913 201.566 Q571.913 198.626 569.969 197.029 Q568.047 195.409 564.551 195.409 Q562.328 195.409 560.222 195.941 Q558.115 196.473 556.17 197.538 L556.17 193.603 Q558.508 192.7 560.708 192.26 Q562.907 191.797 564.991 191.797 Q570.617 191.797 573.395 194.714 Q576.173 197.631 576.173 203.557 Z\" fill=\"#000000\" fill-rule=\"evenodd\" fill-opacity=\"1\" /><path clip-path=\"url(#clip570)\" d=\"M 0 0 M584.856 185.061 L584.856 192.422 L593.63 192.422 L593.63 195.733 L584.856 195.733 L584.856 209.807 Q584.856 212.978 585.712 213.881 Q586.592 214.783 589.255 214.783 L593.63 214.783 L593.63 218.348 L589.255 218.348 Q584.323 218.348 582.448 216.52 Q580.572 214.668 580.572 209.807 L580.572 195.733 L577.447 195.733 L577.447 192.422 L580.572 192.422 L580.572 185.061 L584.856 185.061 Z\" fill=\"#000000\" fill-rule=\"evenodd\" fill-opacity=\"1\" /><path clip-path=\"url(#clip570)\" d=\"M 0 0 M620.279 204.321 L620.279 206.404 L600.692 206.404 Q600.97 210.802 603.331 213.117 Q605.716 215.408 609.953 215.408 Q612.407 215.408 614.699 214.807 Q617.014 214.205 619.283 213.001 L619.283 217.029 Q616.991 218.001 614.583 218.51 Q612.175 219.02 609.698 219.02 Q603.493 219.02 599.858 215.408 Q596.247 211.797 596.247 205.64 Q596.247 199.274 599.673 195.547 Q603.123 191.797 608.957 191.797 Q614.19 191.797 617.223 195.177 Q620.279 198.533 620.279 204.321 M616.019 203.071 Q615.972 199.575 614.051 197.492 Q612.152 195.409 609.003 195.409 Q605.438 195.409 603.285 197.422 Q601.155 199.436 600.831 203.094 L616.019 203.071 Z\" fill=\"#000000\" fill-rule=\"evenodd\" fill-opacity=\"1\" /><polyline clip-path=\"url(#clip570)\" style=\"stroke:#008000; stroke-width:4; stroke-opacity:1; fill:none\" points=\"\n",
       "  321.65,261.548 431.401,261.548 \n",
       "  \"/>\n",
       "<path clip-path=\"url(#clip570)\" d=\"M376.525 235.948 L350.925 287.148 L402.125 287.148 L376.525 235.948 Z\" fill=\"#3da44d\" fill-rule=\"evenodd\" fill-opacity=\"1\" stroke=\"#000000\" stroke-opacity=\"1\" stroke-width=\"5.12\"/>\n",
       "<path clip-path=\"url(#clip570)\" d=\"M 0 0 M471.409 263.18 L471.409 278.828 L467.149 278.828 L467.149 263.319 Q467.149 259.638 465.714 257.81 Q464.278 255.981 461.407 255.981 Q457.958 255.981 455.967 258.18 Q453.976 260.379 453.976 264.176 L453.976 278.828 L449.692 278.828 L449.692 242.81 L453.976 242.81 L453.976 256.93 Q455.504 254.592 457.564 253.435 Q459.648 252.277 462.357 252.277 Q466.825 252.277 469.117 255.055 Q471.409 257.81 471.409 263.18 Z\" fill=\"#000000\" fill-rule=\"evenodd\" fill-opacity=\"1\" /><path clip-path=\"url(#clip570)\" d=\"M 0 0 M475.878 252.902 L480.138 252.902 L480.138 278.828 L475.878 278.828 L475.878 252.902 M475.878 242.81 L480.138 242.81 L480.138 248.203 L475.878 248.203 L475.878 242.81 Z\" fill=\"#000000\" fill-rule=\"evenodd\" fill-opacity=\"1\" /><path clip-path=\"url(#clip570)\" d=\"M 0 0 M506.161 263.18 L506.161 278.828 L501.901 278.828 L501.901 263.319 Q501.901 259.638 500.465 257.81 Q499.03 255.981 496.159 255.981 Q492.709 255.981 490.718 258.18 Q488.727 260.379 488.727 264.176 L488.727 278.828 L484.444 278.828 L484.444 252.902 L488.727 252.902 L488.727 256.93 Q490.255 254.592 492.316 253.435 Q494.4 252.277 497.108 252.277 Q501.577 252.277 503.869 255.055 Q506.161 257.81 506.161 263.18 Z\" fill=\"#000000\" fill-rule=\"evenodd\" fill-opacity=\"1\" /><path clip-path=\"url(#clip570)\" d=\"M 0 0 M527.693 256.838 L527.693 242.81 L531.953 242.81 L531.953 278.828 L527.693 278.828 L527.693 274.939 Q526.35 277.254 524.289 278.388 Q522.252 279.5 519.381 279.5 Q514.681 279.5 511.717 275.75 Q508.777 272 508.777 265.888 Q508.777 259.777 511.717 256.027 Q514.681 252.277 519.381 252.277 Q522.252 252.277 524.289 253.412 Q526.35 254.523 527.693 256.838 M513.176 265.888 Q513.176 270.588 515.098 273.273 Q517.042 275.935 520.423 275.935 Q523.803 275.935 525.748 273.273 Q527.693 270.588 527.693 265.888 Q527.693 261.189 525.748 258.527 Q523.803 255.842 520.423 255.842 Q517.042 255.842 515.098 258.527 Q513.176 261.189 513.176 265.888 Z\" fill=\"#000000\" fill-rule=\"evenodd\" fill-opacity=\"1\" /><path clip-path=\"url(#clip570)\" d=\"M 0 0 M552.952 253.666 L552.952 257.694 Q551.146 256.768 549.201 256.305 Q547.256 255.842 545.173 255.842 Q542.001 255.842 540.403 256.814 Q538.829 257.787 538.829 259.731 Q538.829 261.213 539.963 262.069 Q541.098 262.902 544.524 263.666 L545.983 263.99 Q550.521 264.963 552.419 266.745 Q554.341 268.504 554.341 271.675 Q554.341 275.287 551.47 277.393 Q548.622 279.5 543.621 279.5 Q541.538 279.5 539.269 279.083 Q537.023 278.689 534.522 277.879 L534.522 273.481 Q536.884 274.708 539.176 275.333 Q541.468 275.935 543.714 275.935 Q546.724 275.935 548.344 274.916 Q549.965 273.875 549.965 272 Q549.965 270.263 548.784 269.338 Q547.627 268.412 543.668 267.555 L542.186 267.208 Q538.227 266.375 536.467 264.662 Q534.708 262.926 534.708 259.916 Q534.708 256.259 537.301 254.268 Q539.894 252.277 544.663 252.277 Q547.025 252.277 549.108 252.625 Q551.192 252.972 552.952 253.666 Z\" fill=\"#000000\" fill-rule=\"evenodd\" fill-opacity=\"1\" /><path clip-path=\"url(#clip570)\" d=\"M 0 0 M558.809 252.902 L563.069 252.902 L563.069 278.828 L558.809 278.828 L558.809 252.902 M558.809 242.81 L563.069 242.81 L563.069 248.203 L558.809 248.203 L558.809 242.81 Z\" fill=\"#000000\" fill-rule=\"evenodd\" fill-opacity=\"1\" /><path clip-path=\"url(#clip570)\" d=\"M 0 0 M584.601 265.564 Q584.601 260.935 582.679 258.389 Q580.781 255.842 577.331 255.842 Q573.905 255.842 571.983 258.389 Q570.084 260.935 570.084 265.564 Q570.084 270.171 571.983 272.717 Q573.905 275.263 577.331 275.263 Q580.781 275.263 582.679 272.717 Q584.601 270.171 584.601 265.564 M588.861 275.611 Q588.861 282.231 585.921 285.449 Q582.98 288.689 576.914 288.689 Q574.669 288.689 572.677 288.342 Q570.686 288.018 568.811 287.324 L568.811 283.18 Q570.686 284.199 572.515 284.685 Q574.344 285.171 576.243 285.171 Q580.434 285.171 582.517 282.972 Q584.601 280.796 584.601 276.375 L584.601 274.268 Q583.281 276.56 581.221 277.694 Q579.16 278.828 576.289 278.828 Q571.52 278.828 568.603 275.194 Q565.685 271.56 565.685 265.564 Q565.685 259.546 568.603 255.912 Q571.52 252.277 576.289 252.277 Q579.16 252.277 581.221 253.412 Q583.281 254.546 584.601 256.838 L584.601 252.902 L588.861 252.902 L588.861 275.611 Z\" fill=\"#000000\" fill-rule=\"evenodd\" fill-opacity=\"1\" /><path clip-path=\"url(#clip570)\" d=\"M 0 0 M614.884 263.18 L614.884 278.828 L610.624 278.828 L610.624 263.319 Q610.624 259.638 609.189 257.81 Q607.753 255.981 604.882 255.981 Q601.433 255.981 599.442 258.18 Q597.45 260.379 597.45 264.176 L597.45 278.828 L593.167 278.828 L593.167 242.81 L597.45 242.81 L597.45 256.93 Q598.978 254.592 601.039 253.435 Q603.123 252.277 605.832 252.277 Q610.3 252.277 612.592 255.055 Q614.884 257.81 614.884 263.18 Z\" fill=\"#000000\" fill-rule=\"evenodd\" fill-opacity=\"1\" /><path clip-path=\"url(#clip570)\" d=\"M 0 0 M623.566 245.541 L623.566 252.902 L632.341 252.902 L632.341 256.213 L623.566 256.213 L623.566 270.287 Q623.566 273.458 624.423 274.361 Q625.303 275.263 627.965 275.263 L632.341 275.263 L632.341 278.828 L627.965 278.828 Q623.034 278.828 621.158 277 Q619.283 275.148 619.283 270.287 L619.283 256.213 L616.158 256.213 L616.158 252.902 L619.283 252.902 L619.283 245.541 L623.566 245.541 Z\" fill=\"#000000\" fill-rule=\"evenodd\" fill-opacity=\"1\" /></svg>\n"
      ]
     },
     "execution_count": 7,
     "metadata": {},
     "output_type": "execute_result"
    }
   ],
   "source": [
    "edf1 = mdf\n",
    "sort!(edf1)\n",
    "x_param = :demand\n",
    "\n",
    "plot(edf1[!, x_param], edf1.r_mc,\n",
    "    xlabel = label_demand,\n",
    "    ylabel = \"Revenue\",\n",
    "    label = \"MCTS\",\n",
    "    m=(3, :circle), \n",
    "    size=plot_size,\n",
    "    legend=:topleft\n",
    ")\n",
    "plot!(edf1[!, x_param], edf1.r_flat,  m=(3, :dtriangle), line=(:red), label=\"flat-rate\")\n",
    "plot!(edf1[!, x_param], edf1.r_hind,  m=(3, :utriangle), line=(:green), label=\"hindsight\")"
   ]
  },
  {
   "cell_type": "code",
   "execution_count": 8,
   "metadata": {},
   "outputs": [],
   "source": [
    "savefig(papersdir(\"paper_AAMAS2021_MCTS_pricing\", \"fig\", \"plt_big_d_r.pdf\"))"
   ]
  },
  {
   "cell_type": "markdown",
   "metadata": {},
   "source": [
    "# Varying demand - small - REV"
   ]
  },
  {
   "cell_type": "code",
   "execution_count": 54,
   "metadata": {},
   "outputs": [
    {
     "name": "stderr",
     "output_type": "stream",
     "text": [
      "┌ Info: Scanning folder C:\\Users\\Honza\\scth\\projects\\julia\\PricingMDP\\data\\sims\\exp_small_r for result files.\n",
      "└ @ DrWatson C:\\Users\\Honza\\.julia\\packages\\DrWatson\\YmBBf\\src\\result_collection.jl:88\n",
      "┌ Info: Added 8 entries.\n",
      "└ @ DrWatson C:\\Users\\Honza\\.julia\\packages\\DrWatson\\YmBBf\\src\\result_collection.jl:118\n"
     ]
    },
    {
     "data": {
      "text/html": [
       "<table class=\"data-frame\"><thead><tr><th></th><th>flat</th><th>memallocs</th></tr><tr><th></th><th>NamedTu…?</th><th>GC_Diff…?</th></tr></thead><tbody><p>8 rows × 12 columns (omitted printing of 10 columns)</p><tr><th>1</th><td>(r = 120.0, u = 6.0)</td><td>GC_Diff(44134742640, 5076, 79, 977875279, 43179, 0, 8643376692, 209, 7)</td></tr><tr><th>2</th><td>(r = 107.25, u = 5.55)</td><td>GC_Diff(38783008736, 4980, 39, 747666755, 44904, 0, 7553596396, 202, 8)</td></tr><tr><th>3</th><td>(r = 108.0, u = 5.4)</td><td>GC_Diff(40639221488, 5011, 55, 827879451, 43821, 0, 6956714299, 187, 5)</td></tr><tr><th>4</th><td>(r = 105.0, u = 5.25)</td><td>GC_Diff(40111703491, 5023, 55, 854455177, 42316, 0, 7486937711, 126, 4)</td></tr><tr><th>5</th><td>(r = 101.75, u = 5.3)</td><td>GC_Diff(32494352080, 4953, 28, 585736508, 40880, 0, 6288519984, 179, 6)</td></tr><tr><th>6</th><td>(r = 80.0, u = 4.25)</td><td>GC_Diff(32715026429, 5036, 27, 468450696, 43391, 0, 6712172311, 241, 5)</td></tr><tr><th>7</th><td>(r = 92.5, u = 4.95)</td><td>GC_Diff(33176640560, 4927, 27, 507898496, 41065, 0, 6216891797, 210, 5)</td></tr><tr><th>8</th><td>(r = 88.0, u = 4.65)</td><td>GC_Diff(35487723040, 4935, 26, 589668254, 43103, 0, 6537074510, 210, 5)</td></tr></tbody></table>"
      ],
      "text/latex": [
       "\\begin{tabular}{r|ccc}\n",
       "\t& flat & memallocs & \\\\\n",
       "\t\\hline\n",
       "\t& NamedTu…? & GC\\_Diff…? & \\\\\n",
       "\t\\hline\n",
       "\t1 & (r = 120.0, u = 6.0) & GC\\_Diff(44134742640, 5076, 79, 977875279, 43179, 0, 8643376692, 209, 7) & $\\dots$ \\\\\n",
       "\t2 & (r = 107.25, u = 5.55) & GC\\_Diff(38783008736, 4980, 39, 747666755, 44904, 0, 7553596396, 202, 8) & $\\dots$ \\\\\n",
       "\t3 & (r = 108.0, u = 5.4) & GC\\_Diff(40639221488, 5011, 55, 827879451, 43821, 0, 6956714299, 187, 5) & $\\dots$ \\\\\n",
       "\t4 & (r = 105.0, u = 5.25) & GC\\_Diff(40111703491, 5023, 55, 854455177, 42316, 0, 7486937711, 126, 4) & $\\dots$ \\\\\n",
       "\t5 & (r = 101.75, u = 5.3) & GC\\_Diff(32494352080, 4953, 28, 585736508, 40880, 0, 6288519984, 179, 6) & $\\dots$ \\\\\n",
       "\t6 & (r = 80.0, u = 4.25) & GC\\_Diff(32715026429, 5036, 27, 468450696, 43391, 0, 6712172311, 241, 5) & $\\dots$ \\\\\n",
       "\t7 & (r = 92.5, u = 4.95) & GC\\_Diff(33176640560, 4927, 27, 507898496, 41065, 0, 6216891797, 210, 5) & $\\dots$ \\\\\n",
       "\t8 & (r = 88.0, u = 4.65) & GC\\_Diff(35487723040, 4935, 26, 589668254, 43103, 0, 6537074510, 210, 5) & $\\dots$ \\\\\n",
       "\\end{tabular}\n"
      ],
      "text/plain": [
       "8×12 DataFrame. Omitted printing of 11 columns\n",
       "│ Row │ flat                   │\n",
       "│     │ \u001b[90mNamedTuple…?\u001b[39m           │\n",
       "├─────┼────────────────────────┤\n",
       "│ 1   │ (r = 120.0, u = 6.0)   │\n",
       "│ 2   │ (r = 107.25, u = 5.55) │\n",
       "│ 3   │ (r = 108.0, u = 5.4)   │\n",
       "│ 4   │ (r = 105.0, u = 5.25)  │\n",
       "│ 5   │ (r = 101.75, u = 5.3)  │\n",
       "│ 6   │ (r = 80.0, u = 4.25)   │\n",
       "│ 7   │ (r = 92.5, u = 4.95)   │\n",
       "│ 8   │ (r = 88.0, u = 4.65)   │"
      ]
     },
     "execution_count": 54,
     "metadata": {},
     "output_type": "execute_result"
    }
   ],
   "source": [
    "df_s_r = collect_results( datadir(\"sims\", \"exp_small_r\");\n",
    "    subfolders=true)"
   ]
  },
  {
   "cell_type": "code",
   "execution_count": 55,
   "metadata": {},
   "outputs": [
    {
     "data": {
      "text/html": [
       "<table class=\"data-frame\"><thead><tr><th></th><th>demand</th><th>n_iterations</th><th>n_runs</th><th>r_flat</th><th>r_hind</th><th>r_mc</th><th>r_vi</th><th>u_flat</th><th>u_hind</th></tr><tr><th></th><th>Float64</th><th>Int64</th><th>Int64</th><th>Float64</th><th>Float64</th><th>Float64</th><th>Float64</th><th>Float64</th><th>Float64</th></tr></thead><tbody><p>8 rows × 11 columns (omitted printing of 2 columns)</p><tr><th>1</th><td>9.0</td><td>5000</td><td>20</td><td>80.0</td><td>132.75</td><td>94.75</td><td>94.0</td><td>4.25</td><td>5.75</td></tr><tr><th>2</th><td>12.0</td><td>5000</td><td>20</td><td>92.5</td><td>135.75</td><td>96.25</td><td>101.75</td><td>4.95</td><td>5.85</td></tr><tr><th>3</th><td>15.0</td><td>5000</td><td>20</td><td>88.0</td><td>141.25</td><td>98.5</td><td>104.75</td><td>4.65</td><td>5.9</td></tr><tr><th>4</th><td>18.0</td><td>5000</td><td>20</td><td>101.75</td><td>146.75</td><td>114.0</td><td>121.25</td><td>5.3</td><td>5.95</td></tr><tr><th>5</th><td>21.0</td><td>5000</td><td>20</td><td>107.25</td><td>149.0</td><td>111.5</td><td>127.25</td><td>5.55</td><td>6.0</td></tr><tr><th>6</th><td>24.0</td><td>5000</td><td>20</td><td>108.0</td><td>152.25</td><td>120.0</td><td>130.25</td><td>5.4</td><td>6.0</td></tr><tr><th>7</th><td>27.0</td><td>5000</td><td>20</td><td>105.0</td><td>152.25</td><td>114.25</td><td>131.25</td><td>5.25</td><td>6.0</td></tr><tr><th>8</th><td>30.0</td><td>5000</td><td>20</td><td>120.0</td><td>153.0</td><td>127.25</td><td>128.75</td><td>6.0</td><td>6.0</td></tr></tbody></table>"
      ],
      "text/latex": [
       "\\begin{tabular}{r|cccccccccc}\n",
       "\t& demand & n\\_iterations & n\\_runs & r\\_flat & r\\_hind & r\\_mc & r\\_vi & u\\_flat & u\\_hind & \\\\\n",
       "\t\\hline\n",
       "\t& Float64 & Int64 & Int64 & Float64 & Float64 & Float64 & Float64 & Float64 & Float64 & \\\\\n",
       "\t\\hline\n",
       "\t1 & 9.0 & 5000 & 20 & 80.0 & 132.75 & 94.75 & 94.0 & 4.25 & 5.75 & $\\dots$ \\\\\n",
       "\t2 & 12.0 & 5000 & 20 & 92.5 & 135.75 & 96.25 & 101.75 & 4.95 & 5.85 & $\\dots$ \\\\\n",
       "\t3 & 15.0 & 5000 & 20 & 88.0 & 141.25 & 98.5 & 104.75 & 4.65 & 5.9 & $\\dots$ \\\\\n",
       "\t4 & 18.0 & 5000 & 20 & 101.75 & 146.75 & 114.0 & 121.25 & 5.3 & 5.95 & $\\dots$ \\\\\n",
       "\t5 & 21.0 & 5000 & 20 & 107.25 & 149.0 & 111.5 & 127.25 & 5.55 & 6.0 & $\\dots$ \\\\\n",
       "\t6 & 24.0 & 5000 & 20 & 108.0 & 152.25 & 120.0 & 130.25 & 5.4 & 6.0 & $\\dots$ \\\\\n",
       "\t7 & 27.0 & 5000 & 20 & 105.0 & 152.25 & 114.25 & 131.25 & 5.25 & 6.0 & $\\dots$ \\\\\n",
       "\t8 & 30.0 & 5000 & 20 & 120.0 & 153.0 & 127.25 & 128.75 & 6.0 & 6.0 & $\\dots$ \\\\\n",
       "\\end{tabular}\n"
      ],
      "text/plain": [
       "8×11 DataFrame. Omitted printing of 5 columns\n",
       "│ Row │ demand  │ n_iterations │ n_runs │ r_flat  │ r_hind  │ r_mc    │\n",
       "│     │ \u001b[90mFloat64\u001b[39m │ \u001b[90mInt64\u001b[39m        │ \u001b[90mInt64\u001b[39m  │ \u001b[90mFloat64\u001b[39m │ \u001b[90mFloat64\u001b[39m │ \u001b[90mFloat64\u001b[39m │\n",
       "├─────┼─────────┼──────────────┼────────┼─────────┼─────────┼─────────┤\n",
       "│ 1   │ 9.0     │ 5000         │ 20     │ 80.0    │ 132.75  │ 94.75   │\n",
       "│ 2   │ 12.0    │ 5000         │ 20     │ 92.5    │ 135.75  │ 96.25   │\n",
       "│ 3   │ 15.0    │ 5000         │ 20     │ 88.0    │ 141.25  │ 98.5    │\n",
       "│ 4   │ 18.0    │ 5000         │ 20     │ 101.75  │ 146.75  │ 114.0   │\n",
       "│ 5   │ 21.0    │ 5000         │ 20     │ 107.25  │ 149.0   │ 111.5   │\n",
       "│ 6   │ 24.0    │ 5000         │ 20     │ 108.0   │ 152.25  │ 120.0   │\n",
       "│ 7   │ 27.0    │ 5000         │ 20     │ 105.0   │ 152.25  │ 114.25  │\n",
       "│ 8   │ 30.0    │ 5000         │ 20     │ 120.0   │ 153.0   │ 127.25  │"
      ]
     },
     "execution_count": 55,
     "metadata": {},
     "output_type": "execute_result"
    }
   ],
   "source": [
    "df = df_s_r\n",
    "r_flat =  get_result(df, :r, :flat)\n",
    "r_mc=get_result(df, :r, :mc)\n",
    "r_vi=get_result(df, :r, :vi)\n",
    "r_hind =get_result(df, :r, :hind);\n",
    "\n",
    "u_flat =  get_result(df, :u, :flat)\n",
    "u_mc=get_result(df, :u, :mc)\n",
    "u_vi=get_result(df, :u, :vi)\n",
    "u_hind =get_result(df, :u, :hind);\n",
    "\n",
    "n_runs = get_param(df, :exp, :n_runs)\n",
    "n_iterations = get_param(df, :mcts, :n_iterations) \n",
    "demand = map(sum, get_param(df, :mdp, :demand))\n",
    "\n",
    "mdf = DataFrame(@dict r_flat r_mc r_vi r_hind u_flat u_mc u_vi u_hind n_runs n_iterations demand )\n",
    "sort!(mdf)"
   ]
  },
  {
   "cell_type": "code",
   "execution_count": 57,
   "metadata": {},
   "outputs": [
    {
     "data": {
      "text/html": [
       "<table class=\"data-frame\"><thead><tr><th></th><th>demand</th><th>n_iterations</th><th>n_runs</th><th>r_flat</th><th>r_hind</th><th>r_mc</th><th>r_vi</th><th>u_flat</th><th>u_hind</th></tr><tr><th></th><th>Float64</th><th>Int64</th><th>Int64</th><th>Float64</th><th>Float64</th><th>Float64</th><th>Float64</th><th>Float64</th><th>Float64</th></tr></thead><tbody><p>13 rows × 9 columns</p><tr><th>1</th><td>1.5</td><td>5000</td><td>100</td><td>23.1</td><td>46.35</td><td>27.4</td><td>27.35</td><td>1.73</td><td>2.53</td></tr><tr><th>2</th><td>3.0</td><td>5000</td><td>100</td><td>41.6</td><td>80.0</td><td>46.65</td><td>49.6</td><td>2.7</td><td>4.12</td></tr><tr><th>3</th><td>4.5</td><td>5000</td><td>100</td><td>54.0</td><td>98.6</td><td>61.4</td><td>64.6</td><td>3.19</td><td>4.8</td></tr><tr><th>4</th><td>6.0</td><td>5000</td><td>100</td><td>65.5</td><td>113.65</td><td>75.05</td><td>77.55</td><td>3.56</td><td>5.32</td></tr><tr><th>5</th><td>7.5</td><td>5000</td><td>100</td><td>72.9</td><td>123.25</td><td>82.75</td><td>84.65</td><td>4.35</td><td>5.49</td></tr><tr><th>6</th><td>9.0</td><td>5000</td><td>100</td><td>79.5</td><td>131.85</td><td>91.4</td><td>97.05</td><td>4.35</td><td>5.75</td></tr><tr><th>7</th><td>12.0</td><td>5000</td><td>20</td><td>92.5</td><td>135.75</td><td>96.25</td><td>101.75</td><td>4.95</td><td>5.85</td></tr><tr><th>8</th><td>15.0</td><td>5000</td><td>20</td><td>88.0</td><td>141.25</td><td>98.5</td><td>104.75</td><td>4.65</td><td>5.9</td></tr><tr><th>9</th><td>18.0</td><td>5000</td><td>20</td><td>101.75</td><td>146.75</td><td>114.0</td><td>121.25</td><td>5.3</td><td>5.95</td></tr><tr><th>10</th><td>21.0</td><td>5000</td><td>20</td><td>107.25</td><td>149.0</td><td>111.5</td><td>127.25</td><td>5.55</td><td>6.0</td></tr><tr><th>11</th><td>24.0</td><td>5000</td><td>20</td><td>108.0</td><td>152.25</td><td>120.0</td><td>130.25</td><td>5.4</td><td>6.0</td></tr><tr><th>12</th><td>27.0</td><td>5000</td><td>20</td><td>105.0</td><td>152.25</td><td>114.25</td><td>131.25</td><td>5.25</td><td>6.0</td></tr><tr><th>13</th><td>30.0</td><td>5000</td><td>20</td><td>120.0</td><td>153.0</td><td>127.25</td><td>128.75</td><td>6.0</td><td>6.0</td></tr></tbody></table>"
      ],
      "text/latex": [
       "\\begin{tabular}{r|ccccccccc}\n",
       "\t& demand & n\\_iterations & n\\_runs & r\\_flat & r\\_hind & r\\_mc & r\\_vi & u\\_flat & u\\_hind\\\\\n",
       "\t\\hline\n",
       "\t& Float64 & Int64 & Int64 & Float64 & Float64 & Float64 & Float64 & Float64 & Float64\\\\\n",
       "\t\\hline\n",
       "\t1 & 1.5 & 5000 & 100 & 23.1 & 46.35 & 27.4 & 27.35 & 1.73 & 2.53 \\\\\n",
       "\t2 & 3.0 & 5000 & 100 & 41.6 & 80.0 & 46.65 & 49.6 & 2.7 & 4.12 \\\\\n",
       "\t3 & 4.5 & 5000 & 100 & 54.0 & 98.6 & 61.4 & 64.6 & 3.19 & 4.8 \\\\\n",
       "\t4 & 6.0 & 5000 & 100 & 65.5 & 113.65 & 75.05 & 77.55 & 3.56 & 5.32 \\\\\n",
       "\t5 & 7.5 & 5000 & 100 & 72.9 & 123.25 & 82.75 & 84.65 & 4.35 & 5.49 \\\\\n",
       "\t6 & 9.0 & 5000 & 100 & 79.5 & 131.85 & 91.4 & 97.05 & 4.35 & 5.75 \\\\\n",
       "\t7 & 12.0 & 5000 & 20 & 92.5 & 135.75 & 96.25 & 101.75 & 4.95 & 5.85 \\\\\n",
       "\t8 & 15.0 & 5000 & 20 & 88.0 & 141.25 & 98.5 & 104.75 & 4.65 & 5.9 \\\\\n",
       "\t9 & 18.0 & 5000 & 20 & 101.75 & 146.75 & 114.0 & 121.25 & 5.3 & 5.95 \\\\\n",
       "\t10 & 21.0 & 5000 & 20 & 107.25 & 149.0 & 111.5 & 127.25 & 5.55 & 6.0 \\\\\n",
       "\t11 & 24.0 & 5000 & 20 & 108.0 & 152.25 & 120.0 & 130.25 & 5.4 & 6.0 \\\\\n",
       "\t12 & 27.0 & 5000 & 20 & 105.0 & 152.25 & 114.25 & 131.25 & 5.25 & 6.0 \\\\\n",
       "\t13 & 30.0 & 5000 & 20 & 120.0 & 153.0 & 127.25 & 128.75 & 6.0 & 6.0 \\\\\n",
       "\\end{tabular}\n"
      ],
      "text/plain": [
       "13×9 DataFrame. Omitted printing of 3 columns\n",
       "│ Row │ demand  │ n_iterations │ n_runs │ r_flat  │ r_hind  │ r_mc    │\n",
       "│     │ \u001b[90mFloat64\u001b[39m │ \u001b[90mInt64\u001b[39m        │ \u001b[90mInt64\u001b[39m  │ \u001b[90mFloat64\u001b[39m │ \u001b[90mFloat64\u001b[39m │ \u001b[90mFloat64\u001b[39m │\n",
       "├─────┼─────────┼──────────────┼────────┼─────────┼─────────┼─────────┤\n",
       "│ 1   │ 1.5     │ 5000         │ 100    │ 23.1    │ 46.35   │ 27.4    │\n",
       "│ 2   │ 3.0     │ 5000         │ 100    │ 41.6    │ 80.0    │ 46.65   │\n",
       "│ 3   │ 4.5     │ 5000         │ 100    │ 54.0    │ 98.6    │ 61.4    │\n",
       "│ 4   │ 6.0     │ 5000         │ 100    │ 65.5    │ 113.65  │ 75.05   │\n",
       "│ 5   │ 7.5     │ 5000         │ 100    │ 72.9    │ 123.25  │ 82.75   │\n",
       "│ 6   │ 9.0     │ 5000         │ 100    │ 79.5    │ 131.85  │ 91.4    │\n",
       "│ 7   │ 12.0    │ 5000         │ 20     │ 92.5    │ 135.75  │ 96.25   │\n",
       "│ 8   │ 15.0    │ 5000         │ 20     │ 88.0    │ 141.25  │ 98.5    │\n",
       "│ 9   │ 18.0    │ 5000         │ 20     │ 101.75  │ 146.75  │ 114.0   │\n",
       "│ 10  │ 21.0    │ 5000         │ 20     │ 107.25  │ 149.0   │ 111.5   │\n",
       "│ 11  │ 24.0    │ 5000         │ 20     │ 108.0   │ 152.25  │ 120.0   │\n",
       "│ 12  │ 27.0    │ 5000         │ 20     │ 105.0   │ 152.25  │ 114.25  │\n",
       "│ 13  │ 30.0    │ 5000         │ 20     │ 120.0   │ 153.0   │ 127.25  │"
      ]
     },
     "execution_count": 57,
     "metadata": {},
     "output_type": "execute_result"
    }
   ],
   "source": [
    "mdf_old = CSV.read(datadir(\"exp_pro\", \"exp_small_d_r.csv\"), DataFrame; delim=\";\")"
   ]
  },
  {
   "cell_type": "code",
   "execution_count": 58,
   "metadata": {},
   "outputs": [
    {
     "data": {
      "image/svg+xml": [
       "<?xml version=\"1.0\" encoding=\"utf-8\"?>\n",
       "<svg xmlns=\"http://www.w3.org/2000/svg\" xmlns:xlink=\"http://www.w3.org/1999/xlink\" width=\"485.5\" height=\"300\" viewBox=\"0 0 1942 1200\">\n",
       "<defs>\n",
       "  <clipPath id=\"clip080\">\n",
       "    <rect x=\"0\" y=\"0\" width=\"1942\" height=\"1200\"/>\n",
       "  </clipPath>\n",
       "</defs>\n",
       "<path clip-path=\"url(#clip080)\" d=\"\n",
       "M0 1200 L1942 1200 L1942 0 L0 0  Z\n",
       "  \" fill=\"#ffffff\" fill-rule=\"evenodd\" fill-opacity=\"1\"/>\n",
       "<defs>\n",
       "  <clipPath id=\"clip081\">\n",
       "    <rect x=\"388\" y=\"0\" width=\"1360\" height=\"1200\"/>\n",
       "  </clipPath>\n",
       "</defs>\n",
       "<path clip-path=\"url(#clip080)\" d=\"\n",
       "M217.342 1033.17 L1894.75 1033.17 L1894.75 47.2441 L217.342 47.2441  Z\n",
       "  \" fill=\"#ffffff\" fill-rule=\"evenodd\" fill-opacity=\"1\"/>\n",
       "<defs>\n",
       "  <clipPath id=\"clip082\">\n",
       "    <rect x=\"217\" y=\"47\" width=\"1678\" height=\"987\"/>\n",
       "  </clipPath>\n",
       "</defs>\n",
       "<polyline clip-path=\"url(#clip082)\" style=\"stroke:#000000; stroke-width:2; stroke-opacity:0.1; fill:none\" points=\"\n",
       "  340.171,1033.17 340.171,47.2441 \n",
       "  \"/>\n",
       "<polyline clip-path=\"url(#clip082)\" style=\"stroke:#000000; stroke-width:2; stroke-opacity:0.1; fill:none\" points=\"\n",
       "  716.947,1033.17 716.947,47.2441 \n",
       "  \"/>\n",
       "<polyline clip-path=\"url(#clip082)\" style=\"stroke:#000000; stroke-width:2; stroke-opacity:0.1; fill:none\" points=\"\n",
       "  1093.72,1033.17 1093.72,47.2441 \n",
       "  \"/>\n",
       "<polyline clip-path=\"url(#clip082)\" style=\"stroke:#000000; stroke-width:2; stroke-opacity:0.1; fill:none\" points=\"\n",
       "  1470.5,1033.17 1470.5,47.2441 \n",
       "  \"/>\n",
       "<polyline clip-path=\"url(#clip082)\" style=\"stroke:#000000; stroke-width:2; stroke-opacity:0.1; fill:none\" points=\"\n",
       "  1847.27,1033.17 1847.27,47.2441 \n",
       "  \"/>\n",
       "<polyline clip-path=\"url(#clip080)\" style=\"stroke:#000000; stroke-width:4; stroke-opacity:1; fill:none\" points=\"\n",
       "  217.342,1033.17 1894.75,1033.17 \n",
       "  \"/>\n",
       "<polyline clip-path=\"url(#clip080)\" style=\"stroke:#000000; stroke-width:4; stroke-opacity:1; fill:none\" points=\"\n",
       "  340.171,1033.17 340.171,1021.34 \n",
       "  \"/>\n",
       "<polyline clip-path=\"url(#clip080)\" style=\"stroke:#000000; stroke-width:4; stroke-opacity:1; fill:none\" points=\"\n",
       "  716.947,1033.17 716.947,1021.34 \n",
       "  \"/>\n",
       "<polyline clip-path=\"url(#clip080)\" style=\"stroke:#000000; stroke-width:4; stroke-opacity:1; fill:none\" points=\"\n",
       "  1093.72,1033.17 1093.72,1021.34 \n",
       "  \"/>\n",
       "<polyline clip-path=\"url(#clip080)\" style=\"stroke:#000000; stroke-width:4; stroke-opacity:1; fill:none\" points=\"\n",
       "  1470.5,1033.17 1470.5,1021.34 \n",
       "  \"/>\n",
       "<polyline clip-path=\"url(#clip080)\" style=\"stroke:#000000; stroke-width:4; stroke-opacity:1; fill:none\" points=\"\n",
       "  1847.27,1033.17 1847.27,1021.34 \n",
       "  \"/>\n",
       "<path clip-path=\"url(#clip080)\" d=\"M 0 0 M317.042 1086.24 L324.682 1086.24 L324.682 1059.87 L316.371 1061.54 L316.371 1057.28 L324.636 1055.61 L329.313 1055.61 L329.313 1086.24 L336.953 1086.24 L336.953 1090.17 L317.042 1090.17 L317.042 1086.24 Z\" fill=\"#000000\" fill-rule=\"evenodd\" fill-opacity=\"1\" /><path clip-path=\"url(#clip080)\" d=\"M 0 0 M352.025 1058.69 Q348.413 1058.69 346.584 1062.26 Q344.779 1065.8 344.779 1072.93 Q344.779 1080.03 346.584 1083.6 Q348.413 1087.14 352.025 1087.14 Q355.66 1087.14 357.466 1083.6 Q359.295 1080.03 359.295 1072.93 Q359.295 1065.8 357.466 1062.26 Q355.66 1058.69 352.025 1058.69 M352.025 1054.99 Q357.836 1054.99 360.893 1059.59 Q363.972 1064.18 363.972 1072.93 Q363.972 1081.65 360.893 1086.26 Q357.836 1090.84 352.025 1090.84 Q346.214 1090.84 343.135 1086.26 Q340.079 1081.65 340.079 1072.93 Q340.079 1064.18 343.135 1059.59 Q346.214 1054.99 352.025 1054.99 Z\" fill=\"#000000\" fill-rule=\"evenodd\" fill-opacity=\"1\" /><path clip-path=\"url(#clip080)\" d=\"M 0 0 M694.315 1086.24 L701.956 1086.24 L701.956 1059.87 L693.644 1061.54 L693.644 1057.28 L701.909 1055.61 L706.586 1055.61 L706.586 1086.24 L714.226 1086.24 L714.226 1090.17 L694.315 1090.17 L694.315 1086.24 Z\" fill=\"#000000\" fill-rule=\"evenodd\" fill-opacity=\"1\" /><path clip-path=\"url(#clip080)\" d=\"M 0 0 M719.343 1055.61 L737.703 1055.61 L737.703 1059.55 L723.626 1059.55 L723.626 1068.02 Q724.645 1067.67 725.664 1067.51 Q726.682 1067.33 727.701 1067.33 Q733.489 1067.33 736.869 1070.5 Q740.25 1073.67 740.25 1079.08 Q740.25 1084.66 736.777 1087.77 Q733.304 1090.84 726.983 1090.84 Q724.807 1090.84 722.538 1090.47 Q720.292 1090.1 717.884 1089.36 L717.884 1084.66 Q719.968 1085.8 722.191 1086.35 Q724.413 1086.91 726.891 1086.91 Q730.896 1086.91 733.234 1084.8 Q735.573 1082.7 735.573 1079.08 Q735.573 1075.47 733.234 1073.37 Q730.896 1071.26 726.891 1071.26 Q725.015 1071.26 723.14 1071.68 Q721.288 1072.09 719.343 1072.97 L719.343 1055.61 Z\" fill=\"#000000\" fill-rule=\"evenodd\" fill-opacity=\"1\" /><path clip-path=\"url(#clip080)\" d=\"M 0 0 M1074.86 1086.24 L1091.19 1086.24 L1091.19 1090.17 L1069.24 1090.17 L1069.24 1086.24 Q1071.9 1083.48 1076.49 1078.85 Q1081.09 1074.2 1082.27 1072.86 Q1084.52 1070.33 1085.4 1068.6 Q1086.3 1066.84 1086.3 1065.15 Q1086.3 1062.39 1084.36 1060.66 Q1082.44 1058.92 1079.33 1058.92 Q1077.13 1058.92 1074.68 1059.69 Q1072.25 1060.45 1069.47 1062 L1069.47 1057.28 Q1072.29 1056.15 1074.75 1055.57 Q1077.2 1054.99 1079.24 1054.99 Q1084.61 1054.99 1087.81 1057.67 Q1091 1060.36 1091 1064.85 Q1091 1066.98 1090.19 1068.9 Q1089.4 1070.8 1087.3 1073.39 Q1086.72 1074.06 1083.62 1077.28 Q1080.51 1080.47 1074.86 1086.24 Z\" fill=\"#000000\" fill-rule=\"evenodd\" fill-opacity=\"1\" /><path clip-path=\"url(#clip080)\" d=\"M 0 0 M1106.26 1058.69 Q1102.65 1058.69 1100.82 1062.26 Q1099.01 1065.8 1099.01 1072.93 Q1099.01 1080.03 1100.82 1083.6 Q1102.65 1087.14 1106.26 1087.14 Q1109.89 1087.14 1111.7 1083.6 Q1113.53 1080.03 1113.53 1072.93 Q1113.53 1065.8 1111.7 1062.26 Q1109.89 1058.69 1106.26 1058.69 M1106.26 1054.99 Q1112.07 1054.99 1115.13 1059.59 Q1118.21 1064.18 1118.21 1072.93 Q1118.21 1081.65 1115.13 1086.26 Q1112.07 1090.84 1106.26 1090.84 Q1100.45 1090.84 1097.37 1086.26 Q1094.31 1081.65 1094.31 1072.93 Q1094.31 1064.18 1097.37 1059.59 Q1100.45 1054.99 1106.26 1054.99 Z\" fill=\"#000000\" fill-rule=\"evenodd\" fill-opacity=\"1\" /><path clip-path=\"url(#clip080)\" d=\"M 0 0 M1452.14 1086.24 L1468.46 1086.24 L1468.46 1090.17 L1446.51 1090.17 L1446.51 1086.24 Q1449.17 1083.48 1453.76 1078.85 Q1458.37 1074.2 1459.55 1072.86 Q1461.79 1070.33 1462.67 1068.6 Q1463.58 1066.84 1463.58 1065.15 Q1463.58 1062.39 1461.63 1060.66 Q1459.71 1058.92 1456.61 1058.92 Q1454.41 1058.92 1451.95 1059.69 Q1449.52 1060.45 1446.74 1062 L1446.74 1057.28 Q1449.57 1056.15 1452.02 1055.57 Q1454.48 1054.99 1456.51 1054.99 Q1461.89 1054.99 1465.08 1057.67 Q1468.28 1060.36 1468.28 1064.85 Q1468.28 1066.98 1467.46 1068.9 Q1466.68 1070.8 1464.57 1073.39 Q1463.99 1074.06 1460.89 1077.28 Q1457.79 1080.47 1452.14 1086.24 Z\" fill=\"#000000\" fill-rule=\"evenodd\" fill-opacity=\"1\" /><path clip-path=\"url(#clip080)\" d=\"M 0 0 M1473.58 1055.61 L1491.94 1055.61 L1491.94 1059.55 L1477.86 1059.55 L1477.86 1068.02 Q1478.88 1067.67 1479.9 1067.51 Q1480.92 1067.33 1481.94 1067.33 Q1487.72 1067.33 1491.1 1070.5 Q1494.48 1073.67 1494.48 1079.08 Q1494.48 1084.66 1491.01 1087.77 Q1487.54 1090.84 1481.22 1090.84 Q1479.04 1090.84 1476.77 1090.47 Q1474.53 1090.1 1472.12 1089.36 L1472.12 1084.66 Q1474.2 1085.8 1476.42 1086.35 Q1478.65 1086.91 1481.12 1086.91 Q1485.13 1086.91 1487.47 1084.8 Q1489.81 1082.7 1489.81 1079.08 Q1489.81 1075.47 1487.47 1073.37 Q1485.13 1071.26 1481.12 1071.26 Q1479.25 1071.26 1477.37 1071.68 Q1475.52 1072.09 1473.58 1072.97 L1473.58 1055.61 Z\" fill=\"#000000\" fill-rule=\"evenodd\" fill-opacity=\"1\" /><path clip-path=\"url(#clip080)\" d=\"M 0 0 M1838.01 1071.54 Q1841.37 1072.26 1843.24 1074.52 Q1845.14 1076.79 1845.14 1080.13 Q1845.14 1085.24 1841.62 1088.04 Q1838.11 1090.84 1831.62 1090.84 Q1829.45 1090.84 1827.13 1090.4 Q1824.84 1089.99 1822.38 1089.13 L1822.38 1084.62 Q1824.33 1085.75 1826.64 1086.33 Q1828.96 1086.91 1831.48 1086.91 Q1835.88 1086.91 1838.17 1085.17 Q1840.49 1083.44 1840.49 1080.13 Q1840.49 1077.07 1838.34 1075.36 Q1836.21 1073.62 1832.39 1073.62 L1828.36 1073.62 L1828.36 1069.78 L1832.57 1069.78 Q1836.02 1069.78 1837.85 1068.41 Q1839.68 1067.02 1839.68 1064.43 Q1839.68 1061.77 1837.78 1060.36 Q1835.91 1058.92 1832.39 1058.92 Q1830.46 1058.92 1828.27 1059.34 Q1826.07 1059.76 1823.43 1060.64 L1823.43 1056.47 Q1826.09 1055.73 1828.4 1055.36 Q1830.74 1054.99 1832.8 1054.99 Q1838.13 1054.99 1841.23 1057.42 Q1844.33 1059.83 1844.33 1063.95 Q1844.33 1066.82 1842.69 1068.81 Q1841.05 1070.77 1838.01 1071.54 Z\" fill=\"#000000\" fill-rule=\"evenodd\" fill-opacity=\"1\" /><path clip-path=\"url(#clip080)\" d=\"M 0 0 M1860.22 1058.69 Q1856.6 1058.69 1854.77 1062.26 Q1852.97 1065.8 1852.97 1072.93 Q1852.97 1080.03 1854.77 1083.6 Q1856.6 1087.14 1860.22 1087.14 Q1863.85 1087.14 1865.66 1083.6 Q1867.49 1080.03 1867.49 1072.93 Q1867.49 1065.8 1865.66 1062.26 Q1863.85 1058.69 1860.22 1058.69 M1860.22 1054.99 Q1866.03 1054.99 1869.08 1059.59 Q1872.16 1064.18 1872.16 1072.93 Q1872.16 1081.65 1869.08 1086.26 Q1866.03 1090.84 1860.22 1090.84 Q1854.4 1090.84 1851.33 1086.26 Q1848.27 1081.65 1848.27 1072.93 Q1848.27 1064.18 1851.33 1059.59 Q1854.4 1054.99 1860.22 1054.99 Z\" fill=\"#000000\" fill-rule=\"evenodd\" fill-opacity=\"1\" /><path clip-path=\"url(#clip080)\" d=\"M 0 0 M793.283 1113.93 L823.335 1113.93 L823.335 1119.34 L799.714 1119.34 L799.714 1133.41 L822.348 1133.41 L822.348 1138.82 L799.714 1138.82 L799.714 1156.04 L823.908 1156.04 L823.908 1161.45 L793.283 1161.45 L793.283 1113.93 Z\" fill=\"#000000\" fill-rule=\"evenodd\" fill-opacity=\"1\" /><path clip-path=\"url(#clip080)\" d=\"M 0 0 M859.69 1125.8 L846.797 1143.15 L860.359 1161.45 L853.451 1161.45 L843.073 1147.44 L832.694 1161.45 L825.786 1161.45 L839.634 1142.8 L826.964 1125.8 L833.872 1125.8 L843.327 1138.5 L852.782 1125.8 L859.69 1125.8 Z\" fill=\"#000000\" fill-rule=\"evenodd\" fill-opacity=\"1\" /><path clip-path=\"url(#clip080)\" d=\"M 0 0 M872.169 1156.1 L872.169 1175.01 L866.28 1175.01 L866.28 1125.8 L872.169 1125.8 L872.169 1131.21 Q874.016 1128.03 876.817 1126.5 Q879.65 1124.94 883.566 1124.94 Q890.06 1124.94 894.103 1130.1 Q898.178 1135.25 898.178 1143.66 Q898.178 1152.06 894.103 1157.21 Q890.06 1162.37 883.566 1162.37 Q879.65 1162.37 876.817 1160.84 Q874.016 1159.28 872.169 1156.1 M892.098 1143.66 Q892.098 1137.19 889.423 1133.53 Q886.781 1129.84 882.133 1129.84 Q877.486 1129.84 874.811 1133.53 Q872.169 1137.19 872.169 1143.66 Q872.169 1150.12 874.811 1153.81 Q877.486 1157.47 882.133 1157.47 Q886.781 1157.47 889.423 1153.81 Q892.098 1150.12 892.098 1143.66 Z\" fill=\"#000000\" fill-rule=\"evenodd\" fill-opacity=\"1\" /><path clip-path=\"url(#clip080)\" d=\"M 0 0 M934.819 1142.16 L934.819 1145.02 L907.887 1145.02 Q908.269 1151.07 911.517 1154.25 Q914.795 1157.41 920.621 1157.41 Q923.996 1157.41 927.147 1156.58 Q930.331 1155.75 933.45 1154.1 L933.45 1159.63 Q930.299 1160.97 926.988 1161.67 Q923.677 1162.37 920.271 1162.37 Q911.739 1162.37 906.741 1157.41 Q901.775 1152.44 901.775 1143.97 Q901.775 1135.22 906.487 1130.1 Q911.23 1124.94 919.252 1124.94 Q926.447 1124.94 930.617 1129.59 Q934.819 1134.2 934.819 1142.16 M928.962 1140.44 Q928.898 1135.63 926.256 1132.77 Q923.645 1129.91 919.316 1129.91 Q914.413 1129.91 911.453 1132.67 Q908.524 1135.44 908.078 1140.47 L928.962 1140.44 Z\" fill=\"#000000\" fill-rule=\"evenodd\" fill-opacity=\"1\" /><path clip-path=\"url(#clip080)\" d=\"M 0 0 M966.622 1127.17 L966.622 1132.64 Q964.139 1131.27 961.624 1130.61 Q959.141 1129.91 956.594 1129.91 Q950.896 1129.91 947.744 1133.53 Q944.592 1137.13 944.592 1143.66 Q944.592 1150.18 947.744 1153.81 Q950.896 1157.41 956.594 1157.41 Q959.141 1157.41 961.624 1156.74 Q964.139 1156.04 966.622 1154.67 L966.622 1160.08 Q964.171 1161.23 961.528 1161.8 Q958.918 1162.37 955.957 1162.37 Q947.903 1162.37 943.16 1157.31 Q938.417 1152.25 938.417 1143.66 Q938.417 1134.93 943.192 1129.94 Q947.999 1124.94 956.339 1124.94 Q959.045 1124.94 961.624 1125.51 Q964.202 1126.05 966.622 1127.17 Z\" fill=\"#000000\" fill-rule=\"evenodd\" fill-opacity=\"1\" /><path clip-path=\"url(#clip080)\" d=\"M 0 0 M978.56 1115.68 L978.56 1125.8 L990.625 1125.8 L990.625 1130.35 L978.56 1130.35 L978.56 1149.7 Q978.56 1154.06 979.738 1155.3 Q980.947 1156.55 984.608 1156.55 L990.625 1156.55 L990.625 1161.45 L984.608 1161.45 Q977.828 1161.45 975.249 1158.93 Q972.67 1156.39 972.67 1149.7 L972.67 1130.35 L968.373 1130.35 L968.373 1125.8 L972.67 1125.8 L972.67 1115.68 L978.56 1115.68 Z\" fill=\"#000000\" fill-rule=\"evenodd\" fill-opacity=\"1\" /><path clip-path=\"url(#clip080)\" d=\"M 0 0 M1027.27 1142.16 L1027.27 1145.02 L1000.33 1145.02 Q1000.72 1151.07 1003.96 1154.25 Q1007.24 1157.41 1013.07 1157.41 Q1016.44 1157.41 1019.59 1156.58 Q1022.78 1155.75 1025.9 1154.1 L1025.9 1159.63 Q1022.75 1160.97 1019.44 1161.67 Q1016.12 1162.37 1012.72 1162.37 Q1004.19 1162.37 999.189 1157.41 Q994.222 1152.44 994.222 1143.97 Q994.222 1135.22 998.934 1130.1 Q1003.68 1124.94 1011.7 1124.94 Q1018.89 1124.94 1023.06 1129.59 Q1027.27 1134.2 1027.27 1142.16 M1021.41 1140.44 Q1021.35 1135.63 1018.7 1132.77 Q1016.09 1129.91 1011.76 1129.91 Q1006.86 1129.91 1003.9 1132.67 Q1000.97 1135.44 1000.53 1140.47 L1021.41 1140.44 Z\" fill=\"#000000\" fill-rule=\"evenodd\" fill-opacity=\"1\" /><path clip-path=\"url(#clip080)\" d=\"M 0 0 M1056.87 1131.21 L1056.87 1111.92 L1062.73 1111.92 L1062.73 1161.45 L1056.87 1161.45 L1056.87 1156.1 Q1055.03 1159.28 1052.19 1160.84 Q1049.39 1162.37 1045.44 1162.37 Q1038.98 1162.37 1034.91 1157.21 Q1030.86 1152.06 1030.86 1143.66 Q1030.86 1135.25 1034.91 1130.1 Q1038.98 1124.94 1045.44 1124.94 Q1049.39 1124.94 1052.19 1126.5 Q1055.03 1128.03 1056.87 1131.21 M1036.91 1143.66 Q1036.91 1150.12 1039.55 1153.81 Q1042.23 1157.47 1046.88 1157.47 Q1051.52 1157.47 1054.2 1153.81 Q1056.87 1150.12 1056.87 1143.66 Q1056.87 1137.19 1054.2 1133.53 Q1051.52 1129.84 1046.88 1129.84 Q1042.23 1129.84 1039.55 1133.53 Q1036.91 1137.19 1036.91 1143.66 Z\" fill=\"#000000\" fill-rule=\"evenodd\" fill-opacity=\"1\" /><path clip-path=\"url(#clip080)\" d=\"M 0 0 M1113.06 1131.21 L1113.06 1111.92 L1118.92 1111.92 L1118.92 1161.45 L1113.06 1161.45 L1113.06 1156.1 Q1111.21 1159.28 1108.38 1160.84 Q1105.58 1162.37 1101.63 1162.37 Q1095.17 1162.37 1091.09 1157.21 Q1087.05 1152.06 1087.05 1143.66 Q1087.05 1135.25 1091.09 1130.1 Q1095.17 1124.94 1101.63 1124.94 Q1105.58 1124.94 1108.38 1126.5 Q1111.21 1128.03 1113.06 1131.21 M1093.1 1143.66 Q1093.1 1150.12 1095.74 1153.81 Q1098.42 1157.47 1103.06 1157.47 Q1107.71 1157.47 1110.39 1153.81 Q1113.06 1150.12 1113.06 1143.66 Q1113.06 1137.19 1110.39 1133.53 Q1107.71 1129.84 1103.06 1129.84 Q1098.42 1129.84 1095.74 1133.53 Q1093.1 1137.19 1093.1 1143.66 Z\" fill=\"#000000\" fill-rule=\"evenodd\" fill-opacity=\"1\" /><path clip-path=\"url(#clip080)\" d=\"M 0 0 M1155.56 1142.16 L1155.56 1145.02 L1128.63 1145.02 Q1129.01 1151.07 1132.26 1154.25 Q1135.54 1157.41 1141.36 1157.41 Q1144.74 1157.41 1147.89 1156.58 Q1151.07 1155.75 1154.19 1154.1 L1154.19 1159.63 Q1151.04 1160.97 1147.73 1161.67 Q1144.42 1162.37 1141.01 1162.37 Q1132.48 1162.37 1127.48 1157.41 Q1122.52 1152.44 1122.52 1143.97 Q1122.52 1135.22 1127.23 1130.1 Q1131.97 1124.94 1139.99 1124.94 Q1147.19 1124.94 1151.36 1129.59 Q1155.56 1134.2 1155.56 1142.16 M1149.7 1140.44 Q1149.64 1135.63 1147 1132.77 Q1144.39 1129.91 1140.06 1129.91 Q1135.15 1129.91 1132.19 1132.67 Q1129.26 1135.44 1128.82 1140.47 L1149.7 1140.44 Z\" fill=\"#000000\" fill-rule=\"evenodd\" fill-opacity=\"1\" /><path clip-path=\"url(#clip080)\" d=\"M 0 0 M1189.46 1132.64 Q1191.66 1128.7 1194.72 1126.82 Q1197.77 1124.94 1201.91 1124.94 Q1207.48 1124.94 1210.51 1128.86 Q1213.53 1132.74 1213.53 1139.93 L1213.53 1161.45 L1207.64 1161.45 L1207.64 1140.12 Q1207.64 1135 1205.83 1132.52 Q1204.01 1130.03 1200.29 1130.03 Q1195.73 1130.03 1193.09 1133.06 Q1190.45 1136.08 1190.45 1141.3 L1190.45 1161.45 L1184.56 1161.45 L1184.56 1140.12 Q1184.56 1134.97 1182.75 1132.52 Q1180.93 1130.03 1177.14 1130.03 Q1172.65 1130.03 1170.01 1133.09 Q1167.37 1136.11 1167.37 1141.3 L1167.37 1161.45 L1161.48 1161.45 L1161.48 1125.8 L1167.37 1125.8 L1167.37 1131.34 Q1169.38 1128.06 1172.18 1126.5 Q1174.98 1124.94 1178.83 1124.94 Q1182.71 1124.94 1185.42 1126.91 Q1188.16 1128.89 1189.46 1132.64 Z\" fill=\"#000000\" fill-rule=\"evenodd\" fill-opacity=\"1\" /><path clip-path=\"url(#clip080)\" d=\"M 0 0 M1235.88 1143.53 Q1228.78 1143.53 1226.04 1145.15 Q1223.3 1146.77 1223.3 1150.69 Q1223.3 1153.81 1225.34 1155.66 Q1227.41 1157.47 1230.94 1157.47 Q1235.81 1157.47 1238.74 1154.03 Q1241.7 1150.56 1241.7 1144.83 L1241.7 1143.53 L1235.88 1143.53 M1247.56 1141.11 L1247.56 1161.45 L1241.7 1161.45 L1241.7 1156.04 Q1239.7 1159.28 1236.71 1160.84 Q1233.71 1162.37 1229.38 1162.37 Q1223.91 1162.37 1220.66 1159.32 Q1217.45 1156.23 1217.45 1151.07 Q1217.45 1145.06 1221.46 1142 Q1225.5 1138.95 1233.49 1138.95 L1241.7 1138.95 L1241.7 1138.37 Q1241.7 1134.33 1239.03 1132.13 Q1236.39 1129.91 1231.58 1129.91 Q1228.52 1129.91 1225.63 1130.64 Q1222.73 1131.37 1220.06 1132.83 L1220.06 1127.42 Q1223.27 1126.18 1226.3 1125.58 Q1229.32 1124.94 1232.18 1124.94 Q1239.92 1124.94 1243.74 1128.95 Q1247.56 1132.96 1247.56 1141.11 Z\" fill=\"#000000\" fill-rule=\"evenodd\" fill-opacity=\"1\" /><path clip-path=\"url(#clip080)\" d=\"M 0 0 M1283.34 1139.93 L1283.34 1161.45 L1277.49 1161.45 L1277.49 1140.12 Q1277.49 1135.06 1275.51 1132.55 Q1273.54 1130.03 1269.59 1130.03 Q1264.85 1130.03 1262.11 1133.06 Q1259.37 1136.08 1259.37 1141.3 L1259.37 1161.45 L1253.48 1161.45 L1253.48 1125.8 L1259.37 1125.8 L1259.37 1131.34 Q1261.47 1128.12 1264.31 1126.53 Q1267.17 1124.94 1270.9 1124.94 Q1277.04 1124.94 1280.19 1128.76 Q1283.34 1132.55 1283.34 1139.93 Z\" fill=\"#000000\" fill-rule=\"evenodd\" fill-opacity=\"1\" /><path clip-path=\"url(#clip080)\" d=\"M 0 0 M1312.95 1131.21 L1312.95 1111.92 L1318.81 1111.92 L1318.81 1161.45 L1312.95 1161.45 L1312.95 1156.1 Q1311.1 1159.28 1308.27 1160.84 Q1305.47 1162.37 1301.52 1162.37 Q1295.06 1162.37 1290.98 1157.21 Q1286.94 1152.06 1286.94 1143.66 Q1286.94 1135.25 1290.98 1130.1 Q1295.06 1124.94 1301.52 1124.94 Q1305.47 1124.94 1308.27 1126.5 Q1311.1 1128.03 1312.95 1131.21 M1292.99 1143.66 Q1292.99 1150.12 1295.63 1153.81 Q1298.3 1157.47 1302.95 1157.47 Q1307.6 1157.47 1310.27 1153.81 Q1312.95 1150.12 1312.95 1143.66 Q1312.95 1137.19 1310.27 1133.53 Q1307.6 1129.84 1302.95 1129.84 Q1298.3 1129.84 1295.63 1133.53 Q1292.99 1137.19 1292.99 1143.66 Z\" fill=\"#000000\" fill-rule=\"evenodd\" fill-opacity=\"1\" /><polyline clip-path=\"url(#clip082)\" style=\"stroke:#000000; stroke-width:2; stroke-opacity:0.1; fill:none\" points=\"\n",
       "  217.342,1005.26 1894.75,1005.26 \n",
       "  \"/>\n",
       "<polyline clip-path=\"url(#clip082)\" style=\"stroke:#000000; stroke-width:2; stroke-opacity:0.1; fill:none\" points=\"\n",
       "  217.342,750.438 1894.75,750.438 \n",
       "  \"/>\n",
       "<polyline clip-path=\"url(#clip082)\" style=\"stroke:#000000; stroke-width:2; stroke-opacity:0.1; fill:none\" points=\"\n",
       "  217.342,495.611 1894.75,495.611 \n",
       "  \"/>\n",
       "<polyline clip-path=\"url(#clip082)\" style=\"stroke:#000000; stroke-width:2; stroke-opacity:0.1; fill:none\" points=\"\n",
       "  217.342,240.785 1894.75,240.785 \n",
       "  \"/>\n",
       "<polyline clip-path=\"url(#clip080)\" style=\"stroke:#000000; stroke-width:4; stroke-opacity:1; fill:none\" points=\"\n",
       "  217.342,1033.17 217.342,47.2441 \n",
       "  \"/>\n",
       "<polyline clip-path=\"url(#clip080)\" style=\"stroke:#000000; stroke-width:4; stroke-opacity:1; fill:none\" points=\"\n",
       "  217.342,1005.26 237.471,1005.26 \n",
       "  \"/>\n",
       "<polyline clip-path=\"url(#clip080)\" style=\"stroke:#000000; stroke-width:4; stroke-opacity:1; fill:none\" points=\"\n",
       "  217.342,750.438 237.471,750.438 \n",
       "  \"/>\n",
       "<polyline clip-path=\"url(#clip080)\" style=\"stroke:#000000; stroke-width:4; stroke-opacity:1; fill:none\" points=\"\n",
       "  217.342,495.611 237.471,495.611 \n",
       "  \"/>\n",
       "<polyline clip-path=\"url(#clip080)\" style=\"stroke:#000000; stroke-width:4; stroke-opacity:1; fill:none\" points=\"\n",
       "  217.342,240.785 237.471,240.785 \n",
       "  \"/>\n",
       "<path clip-path=\"url(#clip080)\" d=\"M 0 0 M149.34 1006.13 Q146.006 1006.13 144.084 1007.91 Q142.186 1009.7 142.186 1012.82 Q142.186 1015.95 144.084 1017.73 Q146.006 1019.51 149.34 1019.51 Q152.674 1019.51 154.595 1017.73 Q156.517 1015.92 156.517 1012.82 Q156.517 1009.7 154.595 1007.91 Q152.697 1006.13 149.34 1006.13 M144.663 1004.14 Q141.653 1003.4 139.963 1001.34 Q138.296 999.28 138.296 996.317 Q138.296 992.174 141.236 989.766 Q144.2 987.359 149.34 987.359 Q154.503 987.359 157.443 989.766 Q160.383 992.174 160.383 996.317 Q160.383 999.28 158.693 1001.34 Q157.026 1003.4 154.04 1004.14 Q157.42 1004.93 159.295 1007.22 Q161.194 1009.51 161.194 1012.82 Q161.194 1017.84 158.114 1020.53 Q155.058 1023.22 149.34 1023.22 Q143.621 1023.22 140.542 1020.53 Q137.486 1017.84 137.486 1012.82 Q137.486 1009.51 139.384 1007.22 Q141.283 1004.93 144.663 1004.14 M142.95 996.757 Q142.95 999.442 144.617 1000.95 Q146.307 1002.45 149.34 1002.45 Q152.349 1002.45 154.04 1000.95 Q155.753 999.442 155.753 996.757 Q155.753 994.072 154.04 992.567 Q152.349 991.063 149.34 991.063 Q146.307 991.063 144.617 992.567 Q142.95 994.072 142.95 996.757 Z\" fill=\"#000000\" fill-rule=\"evenodd\" fill-opacity=\"1\" /><path clip-path=\"url(#clip080)\" d=\"M 0 0 M176.266 991.063 Q172.654 991.063 170.825 994.627 Q169.019 998.169 169.019 1005.3 Q169.019 1012.41 170.825 1015.97 Q172.654 1019.51 176.266 1019.51 Q179.901 1019.51 181.707 1015.97 Q183.536 1012.41 183.536 1005.3 Q183.536 998.169 181.707 994.627 Q179.901 991.063 176.266 991.063 M176.266 987.359 Q182.077 987.359 185.133 991.965 Q188.212 996.549 188.212 1005.3 Q188.212 1014.03 185.133 1018.63 Q182.077 1023.22 176.266 1023.22 Q170.455 1023.22 167.375 1018.63 Q164.319 1014.03 164.319 1005.3 Q164.319 996.549 167.375 991.965 Q170.455 987.359 176.266 987.359 Z\" fill=\"#000000\" fill-rule=\"evenodd\" fill-opacity=\"1\" /><path clip-path=\"url(#clip080)\" d=\"M 0 0 M114.264 763.782 L121.904 763.782 L121.904 737.417 L113.593 739.083 L113.593 734.824 L121.858 733.158 L126.535 733.158 L126.535 763.782 L134.175 763.782 L134.175 767.718 L114.264 767.718 L114.264 763.782 Z\" fill=\"#000000\" fill-rule=\"evenodd\" fill-opacity=\"1\" /><path clip-path=\"url(#clip080)\" d=\"M 0 0 M149.247 736.236 Q145.635 736.236 143.806 739.801 Q142 743.343 142 750.472 Q142 757.579 143.806 761.144 Q145.635 764.685 149.247 764.685 Q152.882 764.685 154.688 761.144 Q156.517 757.579 156.517 750.472 Q156.517 743.343 154.688 739.801 Q152.882 736.236 149.247 736.236 M149.247 732.533 Q155.058 732.533 158.114 737.139 Q161.194 741.722 161.194 750.472 Q161.194 759.199 158.114 763.806 Q155.058 768.389 149.247 768.389 Q143.436 768.389 140.357 763.806 Q137.3 759.199 137.3 750.472 Q137.3 741.722 140.357 737.139 Q143.436 732.533 149.247 732.533 Z\" fill=\"#000000\" fill-rule=\"evenodd\" fill-opacity=\"1\" /><path clip-path=\"url(#clip080)\" d=\"M 0 0 M176.266 736.236 Q172.654 736.236 170.825 739.801 Q169.019 743.343 169.019 750.472 Q169.019 757.579 170.825 761.144 Q172.654 764.685 176.266 764.685 Q179.901 764.685 181.707 761.144 Q183.536 757.579 183.536 750.472 Q183.536 743.343 181.707 739.801 Q179.901 736.236 176.266 736.236 M176.266 732.533 Q182.077 732.533 185.133 737.139 Q188.212 741.722 188.212 750.472 Q188.212 759.199 185.133 763.806 Q182.077 768.389 176.266 768.389 Q170.455 768.389 167.375 763.806 Q164.319 759.199 164.319 750.472 Q164.319 741.722 167.375 737.139 Q170.455 732.533 176.266 732.533 Z\" fill=\"#000000\" fill-rule=\"evenodd\" fill-opacity=\"1\" /><path clip-path=\"url(#clip080)\" d=\"M 0 0 M115.861 508.956 L123.502 508.956 L123.502 482.59 L115.19 484.257 L115.19 479.998 L123.455 478.331 L128.132 478.331 L128.132 508.956 L135.772 508.956 L135.772 512.891 L115.861 512.891 L115.861 508.956 Z\" fill=\"#000000\" fill-rule=\"evenodd\" fill-opacity=\"1\" /><path clip-path=\"url(#clip080)\" d=\"M 0 0 M144.871 508.956 L161.194 508.956 L161.194 512.891 L139.245 512.891 L139.245 508.956 Q141.908 506.201 146.492 501.572 Q151.099 496.919 152.28 495.576 Q154.526 493.053 155.406 491.317 Q156.309 489.558 156.309 487.868 Q156.309 485.114 154.364 483.377 Q152.442 481.641 149.34 481.641 Q147.14 481.641 144.686 482.405 Q142.255 483.169 139.477 484.72 L139.477 479.998 Q142.301 478.864 144.756 478.285 Q147.21 477.706 149.247 477.706 Q154.618 477.706 157.813 480.391 Q161.008 483.077 161.008 487.567 Q161.008 489.697 160.198 491.618 Q159.411 493.516 157.304 496.109 Q156.725 496.78 153.623 499.998 Q150.52 503.192 144.871 508.956 Z\" fill=\"#000000\" fill-rule=\"evenodd\" fill-opacity=\"1\" /><path clip-path=\"url(#clip080)\" d=\"M 0 0 M176.266 481.41 Q172.654 481.41 170.825 484.975 Q169.019 488.516 169.019 495.646 Q169.019 502.752 170.825 506.317 Q172.654 509.859 176.266 509.859 Q179.901 509.859 181.707 506.317 Q183.536 502.752 183.536 495.646 Q183.536 488.516 181.707 484.975 Q179.901 481.41 176.266 481.41 M176.266 477.706 Q182.077 477.706 185.133 482.313 Q188.212 486.896 188.212 495.646 Q188.212 504.373 185.133 508.979 Q182.077 513.562 176.266 513.562 Q170.455 513.562 167.375 508.979 Q164.319 504.373 164.319 495.646 Q164.319 486.896 167.375 482.313 Q170.455 477.706 176.266 477.706 Z\" fill=\"#000000\" fill-rule=\"evenodd\" fill-opacity=\"1\" /><path clip-path=\"url(#clip080)\" d=\"M 0 0 M113.778 254.13 L121.418 254.13 L121.418 227.764 L113.106 229.431 L113.106 225.171 L121.372 223.505 L126.048 223.505 L126.048 254.13 L133.689 254.13 L133.689 258.065 L113.778 258.065 L113.778 254.13 Z\" fill=\"#000000\" fill-rule=\"evenodd\" fill-opacity=\"1\" /><path clip-path=\"url(#clip080)\" d=\"M 0 0 M151.609 227.579 L139.801 246.028 L151.609 246.028 L151.609 227.579 M150.382 223.505 L156.262 223.505 L156.262 246.028 L161.194 246.028 L161.194 249.917 L156.262 249.917 L156.262 258.065 L151.609 258.065 L151.609 249.917 L136.004 249.917 L136.004 245.403 L150.382 223.505 Z\" fill=\"#000000\" fill-rule=\"evenodd\" fill-opacity=\"1\" /><path clip-path=\"url(#clip080)\" d=\"M 0 0 M176.266 226.583 Q172.654 226.583 170.825 230.148 Q169.019 233.69 169.019 240.819 Q169.019 247.926 170.825 251.491 Q172.654 255.032 176.266 255.032 Q179.901 255.032 181.707 251.491 Q183.536 247.926 183.536 240.819 Q183.536 233.69 181.707 230.148 Q179.901 226.583 176.266 226.583 M176.266 222.88 Q182.077 222.88 185.133 227.486 Q188.212 232.07 188.212 240.819 Q188.212 249.546 185.133 254.153 Q182.077 258.736 176.266 258.736 Q170.455 258.736 167.375 254.153 Q164.319 249.546 164.319 240.819 Q164.319 232.07 167.375 227.486 Q170.455 222.88 176.266 222.88 Z\" fill=\"#000000\" fill-rule=\"evenodd\" fill-opacity=\"1\" /><path clip-path=\"url(#clip080)\" d=\"M 0 0 M66.8536 643.569 Q67.554 641.5 69.846 639.559 Q72.1381 637.585 76.1493 635.612 L89.1377 629.087 L89.1377 635.994 L76.9451 642.073 Q72.17 644.428 70.6101 646.656 Q69.0502 648.852 69.0502 652.672 L69.0502 659.674 L89.1377 659.674 L89.1377 666.104 L41.6089 666.104 L41.6089 651.59 Q41.6089 643.442 45.0152 639.431 Q48.4215 635.421 55.2977 635.421 Q59.7864 635.421 62.747 637.522 Q65.7076 639.59 66.8536 643.569 M46.8934 659.674 L63.7657 659.674 L63.7657 651.59 Q63.7657 646.943 61.6328 644.587 Q59.468 642.2 55.2977 642.2 Q51.1274 642.2 49.0263 644.587 Q46.8934 646.943 46.8934 651.59 L46.8934 659.674 Z\" fill=\"#000000\" fill-rule=\"evenodd\" fill-opacity=\"1\" /><path clip-path=\"url(#clip080)\" d=\"M 0 0 M69.846 595.381 L72.7111 595.381 L72.7111 622.307 Q78.7597 621.926 81.9431 618.679 Q85.0947 615.401 85.0947 609.576 Q85.0947 606.202 84.267 603.051 Q83.4393 599.868 81.7839 596.749 L87.3231 596.749 Q88.6602 599.9 89.3605 603.21 Q90.0609 606.521 90.0609 609.926 Q90.0609 618.456 85.0947 623.453 Q80.1286 628.419 71.6606 628.419 Q62.9061 628.419 57.7808 623.708 Q52.6236 618.966 52.6236 610.945 Q52.6236 603.751 57.2714 599.582 Q61.8874 595.381 69.846 595.381 M68.127 601.237 Q63.32 601.301 60.4549 603.942 Q57.5898 606.552 57.5898 610.881 Q57.5898 615.783 60.3594 618.743 Q63.129 621.671 68.1588 622.117 L68.127 601.237 Z\" fill=\"#000000\" fill-rule=\"evenodd\" fill-opacity=\"1\" /><path clip-path=\"url(#clip080)\" d=\"M 0 0 M53.4831 593.439 L53.4831 587.232 L83.4075 576.092 L53.4831 564.952 L53.4831 558.746 L89.1377 572.114 L89.1377 580.071 L53.4831 593.439 Z\" fill=\"#000000\" fill-rule=\"evenodd\" fill-opacity=\"1\" /><path clip-path=\"url(#clip080)\" d=\"M 0 0 M69.846 522.111 L72.7111 522.111 L72.7111 549.038 Q78.7597 548.656 81.9431 545.41 Q85.0947 542.131 85.0947 536.307 Q85.0947 532.933 84.267 529.782 Q83.4393 526.599 81.7839 523.48 L87.3231 523.48 Q88.6602 526.631 89.3605 529.941 Q90.0609 533.251 90.0609 536.657 Q90.0609 545.187 85.0947 550.184 Q80.1286 555.149 71.6606 555.149 Q62.9061 555.149 57.7808 550.439 Q52.6236 545.696 52.6236 537.675 Q52.6236 530.482 57.2714 526.313 Q61.8874 522.111 69.846 522.111 M68.127 527.968 Q63.32 528.031 60.4549 530.673 Q57.5898 533.283 57.5898 537.612 Q57.5898 542.513 60.3594 545.473 Q63.129 548.402 68.1588 548.847 L68.127 527.968 Z\" fill=\"#000000\" fill-rule=\"evenodd\" fill-opacity=\"1\" /><path clip-path=\"url(#clip080)\" d=\"M 0 0 M67.6176 486.336 L89.1377 486.336 L89.1377 492.192 L67.8086 492.192 Q62.747 492.192 60.232 494.166 Q57.7171 496.139 57.7171 500.086 Q57.7171 504.828 60.7414 507.566 Q63.7657 510.303 68.9865 510.303 L89.1377 510.303 L89.1377 516.191 L53.4831 516.191 L53.4831 510.303 L59.0223 510.303 Q55.8071 508.202 54.2153 505.369 Q52.6236 502.505 52.6236 498.781 Q52.6236 492.638 56.4437 489.487 Q60.232 486.336 67.6176 486.336 Z\" fill=\"#000000\" fill-rule=\"evenodd\" fill-opacity=\"1\" /><path clip-path=\"url(#clip080)\" d=\"M 0 0 M75.0669 480.798 L53.4831 480.798 L53.4831 474.941 L74.844 474.941 Q79.9057 474.941 82.4525 472.968 Q84.9674 470.995 84.9674 467.048 Q84.9674 462.305 81.9431 459.568 Q78.9189 456.799 73.698 456.799 L53.4831 456.799 L53.4831 450.943 L89.1377 450.943 L89.1377 456.799 L83.6622 456.799 Q86.9093 458.932 88.501 461.764 Q90.0609 464.565 90.0609 468.289 Q90.0609 474.432 86.2408 477.615 Q82.4206 480.798 75.0669 480.798 M52.6236 466.061 L52.6236 466.061 Z\" fill=\"#000000\" fill-rule=\"evenodd\" fill-opacity=\"1\" /><path clip-path=\"url(#clip080)\" d=\"M 0 0 M69.846 414.308 L72.7111 414.308 L72.7111 441.235 Q78.7597 440.853 81.9431 437.607 Q85.0947 434.328 85.0947 428.504 Q85.0947 425.13 84.267 421.979 Q83.4393 418.796 81.7839 415.677 L87.3231 415.677 Q88.6602 418.828 89.3605 422.138 Q90.0609 425.448 90.0609 428.854 Q90.0609 437.384 85.0947 442.381 Q80.1286 447.346 71.6606 447.346 Q62.9061 447.346 57.7808 442.635 Q52.6236 437.893 52.6236 429.872 Q52.6236 422.679 57.2714 418.509 Q61.8874 414.308 69.846 414.308 M68.127 420.164 Q63.32 420.228 60.4549 422.87 Q57.5898 425.48 57.5898 429.809 Q57.5898 434.71 60.3594 437.67 Q63.129 440.598 68.1588 441.044 L68.127 420.164 Z\" fill=\"#000000\" fill-rule=\"evenodd\" fill-opacity=\"1\" /><polyline clip-path=\"url(#clip082)\" style=\"stroke:#009af9; stroke-width:4; stroke-opacity:1; fill:none\" points=\"\n",
       "  264.816,817.33 490.881,798.218 716.947,769.55 943.012,572.059 1169.08,603.912 1395.14,495.611 1621.21,568.874 1847.27,403.237 \n",
       "  \"/>\n",
       "<circle clip-path=\"url(#clip082)\" cx=\"264.816\" cy=\"817.33\" r=\"10\" fill=\"#009af9\" fill-rule=\"evenodd\" fill-opacity=\"1\" stroke=\"#000000\" stroke-opacity=\"1\" stroke-width=\"2.4\"/>\n",
       "<circle clip-path=\"url(#clip082)\" cx=\"490.881\" cy=\"798.218\" r=\"10\" fill=\"#009af9\" fill-rule=\"evenodd\" fill-opacity=\"1\" stroke=\"#000000\" stroke-opacity=\"1\" stroke-width=\"2.4\"/>\n",
       "<circle clip-path=\"url(#clip082)\" cx=\"716.947\" cy=\"769.55\" r=\"10\" fill=\"#009af9\" fill-rule=\"evenodd\" fill-opacity=\"1\" stroke=\"#000000\" stroke-opacity=\"1\" stroke-width=\"2.4\"/>\n",
       "<circle clip-path=\"url(#clip082)\" cx=\"943.012\" cy=\"572.059\" r=\"10\" fill=\"#009af9\" fill-rule=\"evenodd\" fill-opacity=\"1\" stroke=\"#000000\" stroke-opacity=\"1\" stroke-width=\"2.4\"/>\n",
       "<circle clip-path=\"url(#clip082)\" cx=\"1169.08\" cy=\"603.912\" r=\"10\" fill=\"#009af9\" fill-rule=\"evenodd\" fill-opacity=\"1\" stroke=\"#000000\" stroke-opacity=\"1\" stroke-width=\"2.4\"/>\n",
       "<circle clip-path=\"url(#clip082)\" cx=\"1395.14\" cy=\"495.611\" r=\"10\" fill=\"#009af9\" fill-rule=\"evenodd\" fill-opacity=\"1\" stroke=\"#000000\" stroke-opacity=\"1\" stroke-width=\"2.4\"/>\n",
       "<circle clip-path=\"url(#clip082)\" cx=\"1621.21\" cy=\"568.874\" r=\"10\" fill=\"#009af9\" fill-rule=\"evenodd\" fill-opacity=\"1\" stroke=\"#000000\" stroke-opacity=\"1\" stroke-width=\"2.4\"/>\n",
       "<circle clip-path=\"url(#clip082)\" cx=\"1847.27\" cy=\"403.237\" r=\"10\" fill=\"#009af9\" fill-rule=\"evenodd\" fill-opacity=\"1\" stroke=\"#000000\" stroke-opacity=\"1\" stroke-width=\"2.4\"/>\n",
       "<polyline clip-path=\"url(#clip082)\" style=\"stroke:#000000; stroke-width:4; stroke-opacity:1; fill:none\" points=\"\n",
       "  264.816,826.886 490.881,728.14 716.947,689.916 943.012,479.685 1169.08,403.237 1395.14,365.013 1621.21,352.271 1847.27,384.125 \n",
       "  \"/>\n",
       "<path clip-path=\"url(#clip082)\" d=\"M252.816 814.886 L252.816 838.886 L276.816 838.886 L276.816 814.886 L252.816 814.886 Z\" fill=\"#000000\" fill-rule=\"evenodd\" fill-opacity=\"1\" stroke=\"none\"/>\n",
       "<path clip-path=\"url(#clip082)\" d=\"M478.881 716.14 L478.881 740.14 L502.881 740.14 L502.881 716.14 L478.881 716.14 Z\" fill=\"#000000\" fill-rule=\"evenodd\" fill-opacity=\"1\" stroke=\"none\"/>\n",
       "<path clip-path=\"url(#clip082)\" d=\"M704.947 677.916 L704.947 701.916 L728.947 701.916 L728.947 677.916 L704.947 677.916 Z\" fill=\"#000000\" fill-rule=\"evenodd\" fill-opacity=\"1\" stroke=\"none\"/>\n",
       "<path clip-path=\"url(#clip082)\" d=\"M931.012 467.685 L931.012 491.685 L955.012 491.685 L955.012 467.685 L931.012 467.685 Z\" fill=\"#000000\" fill-rule=\"evenodd\" fill-opacity=\"1\" stroke=\"none\"/>\n",
       "<path clip-path=\"url(#clip082)\" d=\"M1157.08 391.237 L1157.08 415.237 L1181.08 415.237 L1181.08 391.237 L1157.08 391.237 Z\" fill=\"#000000\" fill-rule=\"evenodd\" fill-opacity=\"1\" stroke=\"none\"/>\n",
       "<path clip-path=\"url(#clip082)\" d=\"M1383.14 353.013 L1383.14 377.013 L1407.14 377.013 L1407.14 353.013 L1383.14 353.013 Z\" fill=\"#000000\" fill-rule=\"evenodd\" fill-opacity=\"1\" stroke=\"none\"/>\n",
       "<path clip-path=\"url(#clip082)\" d=\"M1609.21 340.271 L1609.21 364.271 L1633.21 364.271 L1633.21 340.271 L1609.21 340.271 Z\" fill=\"#000000\" fill-rule=\"evenodd\" fill-opacity=\"1\" stroke=\"none\"/>\n",
       "<path clip-path=\"url(#clip082)\" d=\"M1835.27 372.125 L1835.27 396.125 L1859.27 396.125 L1859.27 372.125 L1835.27 372.125 Z\" fill=\"#000000\" fill-rule=\"evenodd\" fill-opacity=\"1\" stroke=\"none\"/>\n",
       "<polyline clip-path=\"url(#clip082)\" style=\"stroke:#ff0000; stroke-width:4; stroke-opacity:1; fill:none\" points=\"\n",
       "  264.816,1005.26 490.881,845.997 716.947,903.333 943.012,728.14 1169.08,658.063 1395.14,648.507 1621.21,686.731 1847.27,495.611 \n",
       "  \"/>\n",
       "<path clip-path=\"url(#clip082)\" d=\"M276.816 993.264 L252.816 993.264 L264.816 1017.26 L276.816 993.264 Z\" fill=\"#ff0000\" fill-rule=\"evenodd\" fill-opacity=\"1\" stroke=\"#000000\" stroke-opacity=\"1\" stroke-width=\"2.4\"/>\n",
       "<path clip-path=\"url(#clip082)\" d=\"M502.881 833.997 L478.881 833.997 L490.881 857.997 L502.881 833.997 Z\" fill=\"#ff0000\" fill-rule=\"evenodd\" fill-opacity=\"1\" stroke=\"#000000\" stroke-opacity=\"1\" stroke-width=\"2.4\"/>\n",
       "<path clip-path=\"url(#clip082)\" d=\"M728.947 891.333 L704.947 891.333 L716.947 915.333 L728.947 891.333 Z\" fill=\"#ff0000\" fill-rule=\"evenodd\" fill-opacity=\"1\" stroke=\"#000000\" stroke-opacity=\"1\" stroke-width=\"2.4\"/>\n",
       "<path clip-path=\"url(#clip082)\" d=\"M955.012 716.14 L931.012 716.14 L943.012 740.14 L955.012 716.14 Z\" fill=\"#ff0000\" fill-rule=\"evenodd\" fill-opacity=\"1\" stroke=\"#000000\" stroke-opacity=\"1\" stroke-width=\"2.4\"/>\n",
       "<path clip-path=\"url(#clip082)\" d=\"M1181.08 646.063 L1157.08 646.063 L1169.08 670.063 L1181.08 646.063 Z\" fill=\"#ff0000\" fill-rule=\"evenodd\" fill-opacity=\"1\" stroke=\"#000000\" stroke-opacity=\"1\" stroke-width=\"2.4\"/>\n",
       "<path clip-path=\"url(#clip082)\" d=\"M1407.14 636.507 L1383.14 636.507 L1395.14 660.507 L1407.14 636.507 Z\" fill=\"#ff0000\" fill-rule=\"evenodd\" fill-opacity=\"1\" stroke=\"#000000\" stroke-opacity=\"1\" stroke-width=\"2.4\"/>\n",
       "<path clip-path=\"url(#clip082)\" d=\"M1633.21 674.731 L1609.21 674.731 L1621.21 698.731 L1633.21 674.731 Z\" fill=\"#ff0000\" fill-rule=\"evenodd\" fill-opacity=\"1\" stroke=\"#000000\" stroke-opacity=\"1\" stroke-width=\"2.4\"/>\n",
       "<path clip-path=\"url(#clip082)\" d=\"M1859.27 483.611 L1835.27 483.611 L1847.27 507.611 L1859.27 483.611 Z\" fill=\"#ff0000\" fill-rule=\"evenodd\" fill-opacity=\"1\" stroke=\"#000000\" stroke-opacity=\"1\" stroke-width=\"2.4\"/>\n",
       "<polyline clip-path=\"url(#clip082)\" style=\"stroke:#008000; stroke-width:4; stroke-opacity:1; fill:none\" points=\"\n",
       "  264.816,333.159 490.881,294.935 716.947,224.858 943.012,154.781 1169.08,126.113 1395.14,84.7036 1621.21,84.7036 1847.27,75.1476 \n",
       "  \"/>\n",
       "<path clip-path=\"url(#clip082)\" d=\"M264.816 321.159 L252.816 345.159 L276.816 345.159 L264.816 321.159 Z\" fill=\"#008000\" fill-rule=\"evenodd\" fill-opacity=\"1\" stroke=\"#000000\" stroke-opacity=\"1\" stroke-width=\"2.4\"/>\n",
       "<path clip-path=\"url(#clip082)\" d=\"M490.881 282.935 L478.881 306.935 L502.881 306.935 L490.881 282.935 Z\" fill=\"#008000\" fill-rule=\"evenodd\" fill-opacity=\"1\" stroke=\"#000000\" stroke-opacity=\"1\" stroke-width=\"2.4\"/>\n",
       "<path clip-path=\"url(#clip082)\" d=\"M716.947 212.858 L704.947 236.858 L728.947 236.858 L716.947 212.858 Z\" fill=\"#008000\" fill-rule=\"evenodd\" fill-opacity=\"1\" stroke=\"#000000\" stroke-opacity=\"1\" stroke-width=\"2.4\"/>\n",
       "<path clip-path=\"url(#clip082)\" d=\"M943.012 142.781 L931.012 166.781 L955.012 166.781 L943.012 142.781 Z\" fill=\"#008000\" fill-rule=\"evenodd\" fill-opacity=\"1\" stroke=\"#000000\" stroke-opacity=\"1\" stroke-width=\"2.4\"/>\n",
       "<path clip-path=\"url(#clip082)\" d=\"M1169.08 114.113 L1157.08 138.113 L1181.08 138.113 L1169.08 114.113 Z\" fill=\"#008000\" fill-rule=\"evenodd\" fill-opacity=\"1\" stroke=\"#000000\" stroke-opacity=\"1\" stroke-width=\"2.4\"/>\n",
       "<path clip-path=\"url(#clip082)\" d=\"M1395.14 72.7036 L1383.14 96.7036 L1407.14 96.7036 L1395.14 72.7036 Z\" fill=\"#008000\" fill-rule=\"evenodd\" fill-opacity=\"1\" stroke=\"#000000\" stroke-opacity=\"1\" stroke-width=\"2.4\"/>\n",
       "<path clip-path=\"url(#clip082)\" d=\"M1621.21 72.7036 L1609.21 96.7036 L1633.21 96.7036 L1621.21 72.7036 Z\" fill=\"#008000\" fill-rule=\"evenodd\" fill-opacity=\"1\" stroke=\"#000000\" stroke-opacity=\"1\" stroke-width=\"2.4\"/>\n",
       "<path clip-path=\"url(#clip082)\" d=\"M1847.27 63.1476 L1835.27 87.1476 L1859.27 87.1476 L1847.27 63.1476 Z\" fill=\"#008000\" fill-rule=\"evenodd\" fill-opacity=\"1\" stroke=\"#000000\" stroke-opacity=\"1\" stroke-width=\"2.4\"/>\n",
       "<path clip-path=\"url(#clip080)\" d=\"\n",
       "M273.256 382.508 L642.283 382.508 L642.283 80.1082 L273.256 80.1082  Z\n",
       "  \" fill=\"#ffffff\" fill-rule=\"evenodd\" fill-opacity=\"1\"/>\n",
       "<polyline clip-path=\"url(#clip080)\" style=\"stroke:#000000; stroke-width:4; stroke-opacity:1; fill:none\" points=\"\n",
       "  273.256,382.508 642.283,382.508 642.283,80.1082 273.256,80.1082 273.256,382.508 \n",
       "  \"/>\n",
       "<polyline clip-path=\"url(#clip080)\" style=\"stroke:#009af9; stroke-width:4; stroke-opacity:1; fill:none\" points=\"\n",
       "  291.894,140.588 403.721,140.588 \n",
       "  \"/>\n",
       "<circle clip-path=\"url(#clip080)\" cx=\"347.807\" cy=\"140.588\" r=\"23\" fill=\"#009af9\" fill-rule=\"evenodd\" fill-opacity=\"1\" stroke=\"#000000\" stroke-opacity=\"1\" stroke-width=\"5.12\"/>\n",
       "<path clip-path=\"url(#clip080)\" d=\"M 0 0 M422.359 123.308 L429.327 123.308 L438.148 146.827 L447.016 123.308 L453.985 123.308 L453.985 157.868 L449.424 157.868 L449.424 127.521 L440.51 151.225 L435.81 151.225 L426.896 127.521 L426.896 157.868 L422.359 157.868 L422.359 123.308 Z\" fill=\"#000000\" fill-rule=\"evenodd\" fill-opacity=\"1\" /><path clip-path=\"url(#clip080)\" d=\"M 0 0 M484.522 125.97 L484.522 130.901 Q482.161 128.702 479.475 127.614 Q476.813 126.526 473.803 126.526 Q467.876 126.526 464.727 130.16 Q461.579 133.771 461.579 140.623 Q461.579 147.452 464.727 151.086 Q467.876 154.697 473.803 154.697 Q476.813 154.697 479.475 153.609 Q482.161 152.521 484.522 150.322 L484.522 155.206 Q482.068 156.873 479.313 157.706 Q476.581 158.54 473.525 158.54 Q465.677 158.54 461.162 153.748 Q456.647 148.933 456.647 140.623 Q456.647 132.29 461.162 127.498 Q465.677 122.683 473.525 122.683 Q476.628 122.683 479.36 123.517 Q482.115 124.327 484.522 125.97 Z\" fill=\"#000000\" fill-rule=\"evenodd\" fill-opacity=\"1\" /><path clip-path=\"url(#clip080)\" d=\"M 0 0 M484.384 123.308 L513.625 123.308 L513.625 127.243 L501.354 127.243 L501.354 157.868 L496.654 157.868 L496.654 127.243 L484.384 127.243 L484.384 123.308 Z\" fill=\"#000000\" fill-rule=\"evenodd\" fill-opacity=\"1\" /><path clip-path=\"url(#clip080)\" d=\"M 0 0 M539 124.442 L539 129.003 Q536.337 127.729 533.976 127.104 Q531.614 126.479 529.415 126.479 Q525.595 126.479 523.511 127.961 Q521.45 129.442 521.45 132.174 Q521.45 134.466 522.816 135.646 Q524.206 136.804 528.049 137.521 L530.873 138.1 Q536.106 139.095 538.583 141.618 Q541.084 144.118 541.084 148.331 Q541.084 153.354 537.703 155.947 Q534.346 158.54 527.84 158.54 Q525.386 158.54 522.608 157.984 Q519.853 157.428 516.889 156.34 L516.889 151.526 Q519.737 153.123 522.469 153.933 Q525.201 154.743 527.84 154.743 Q531.846 154.743 534.022 153.169 Q536.198 151.595 536.198 148.678 Q536.198 146.132 534.624 144.697 Q533.073 143.262 529.507 142.544 L526.66 141.989 Q521.427 140.947 519.089 138.725 Q516.751 136.503 516.751 132.544 Q516.751 127.961 519.969 125.322 Q523.21 122.683 528.882 122.683 Q531.313 122.683 533.837 123.123 Q536.361 123.563 539 124.442 Z\" fill=\"#000000\" fill-rule=\"evenodd\" fill-opacity=\"1\" /><polyline clip-path=\"url(#clip080)\" style=\"stroke:#000000; stroke-width:4; stroke-opacity:1; fill:none\" points=\"\n",
       "  291.894,201.068 403.721,201.068 \n",
       "  \"/>\n",
       "<path clip-path=\"url(#clip080)\" d=\"M322.207 175.468 L322.207 226.668 L373.407 226.668 L373.407 175.468 L322.207 175.468 Z\" fill=\"#000000\" fill-rule=\"evenodd\" fill-opacity=\"1\" stroke=\"none\"/>\n",
       "<path clip-path=\"url(#clip080)\" d=\"M 0 0 M435.555 218.348 L422.359 183.788 L427.244 183.788 L438.195 212.885 L449.169 183.788 L454.031 183.788 L440.857 218.348 L435.555 218.348 Z\" fill=\"#000000\" fill-rule=\"evenodd\" fill-opacity=\"1\" /><path clip-path=\"url(#clip080)\" d=\"M 0 0 M458.685 183.788 L463.361 183.788 L463.361 218.348 L458.685 218.348 L458.685 183.788 Z\" fill=\"#000000\" fill-rule=\"evenodd\" fill-opacity=\"1\" /><polyline clip-path=\"url(#clip080)\" style=\"stroke:#ff0000; stroke-width:4; stroke-opacity:1; fill:none\" points=\"\n",
       "  291.894,261.548 403.721,261.548 \n",
       "  \"/>\n",
       "<path clip-path=\"url(#clip080)\" d=\"M373.407 235.948 L322.207 235.948 L347.807 287.148 L373.407 235.948 Z\" fill=\"#ff0000\" fill-rule=\"evenodd\" fill-opacity=\"1\" stroke=\"#000000\" stroke-opacity=\"1\" stroke-width=\"5.12\"/>\n",
       "<path clip-path=\"url(#clip080)\" d=\"M 0 0 M438.866 242.81 L438.866 246.352 L434.791 246.352 Q432.499 246.352 431.596 247.277 Q430.717 248.203 430.717 250.611 L430.717 252.902 L437.732 252.902 L437.732 256.213 L430.717 256.213 L430.717 278.828 L426.433 278.828 L426.433 256.213 L422.359 256.213 L422.359 252.902 L426.433 252.902 L426.433 251.097 Q426.433 246.768 428.448 244.801 Q430.462 242.81 434.838 242.81 L438.866 242.81 Z\" fill=\"#000000\" fill-rule=\"evenodd\" fill-opacity=\"1\" /><path clip-path=\"url(#clip080)\" d=\"M 0 0 M443.335 242.81 L447.595 242.81 L447.595 278.828 L443.335 278.828 L443.335 242.81 Z\" fill=\"#000000\" fill-rule=\"evenodd\" fill-opacity=\"1\" /><path clip-path=\"url(#clip080)\" d=\"M 0 0 M463.847 265.796 Q458.685 265.796 456.693 266.976 Q454.702 268.157 454.702 271.004 Q454.702 273.273 456.184 274.615 Q457.689 275.935 460.259 275.935 Q463.801 275.935 465.931 273.435 Q468.084 270.912 468.084 266.745 L468.084 265.796 L463.847 265.796 M472.344 264.037 L472.344 278.828 L468.084 278.828 L468.084 274.893 Q466.626 277.254 464.449 278.388 Q462.273 279.5 459.124 279.5 Q455.142 279.5 452.781 277.277 Q450.442 275.032 450.442 271.282 Q450.442 266.907 453.359 264.685 Q456.3 262.463 462.111 262.463 L468.084 262.463 L468.084 262.046 Q468.084 259.106 466.14 257.509 Q464.218 255.889 460.722 255.889 Q458.499 255.889 456.392 256.421 Q454.286 256.953 452.341 258.018 L452.341 254.083 Q454.679 253.18 456.879 252.74 Q459.078 252.277 461.162 252.277 Q466.788 252.277 469.566 255.194 Q472.344 258.111 472.344 264.037 Z\" fill=\"#000000\" fill-rule=\"evenodd\" fill-opacity=\"1\" /><path clip-path=\"url(#clip080)\" d=\"M 0 0 M481.027 245.541 L481.027 252.902 L489.801 252.902 L489.801 256.213 L481.027 256.213 L481.027 270.287 Q481.027 273.458 481.883 274.361 Q482.763 275.263 485.425 275.263 L489.801 275.263 L489.801 278.828 L485.425 278.828 Q480.494 278.828 478.619 277 Q476.743 275.148 476.743 270.287 L476.743 256.213 L473.618 256.213 L473.618 252.902 L476.743 252.902 L476.743 245.541 L481.027 245.541 Z\" fill=\"#000000\" fill-rule=\"evenodd\" fill-opacity=\"1\" /><path clip-path=\"url(#clip080)\" d=\"M 0 0 M492.116 263.944 L504.596 263.944 L504.596 267.74 L492.116 267.74 L492.116 263.944 Z\" fill=\"#000000\" fill-rule=\"evenodd\" fill-opacity=\"1\" /><path clip-path=\"url(#clip080)\" d=\"M 0 0 M524.09 256.884 Q523.372 256.467 522.515 256.282 Q521.682 256.074 520.663 256.074 Q517.051 256.074 515.107 258.435 Q513.185 260.773 513.185 265.171 L513.185 278.828 L508.902 278.828 L508.902 252.902 L513.185 252.902 L513.185 256.93 Q514.528 254.569 516.681 253.435 Q518.834 252.277 521.913 252.277 Q522.353 252.277 522.886 252.347 Q523.418 252.393 524.067 252.509 L524.09 256.884 Z\" fill=\"#000000\" fill-rule=\"evenodd\" fill-opacity=\"1\" /><path clip-path=\"url(#clip080)\" d=\"M 0 0 M540.343 265.796 Q535.18 265.796 533.189 266.976 Q531.198 268.157 531.198 271.004 Q531.198 273.273 532.679 274.615 Q534.184 275.935 536.754 275.935 Q540.296 275.935 542.426 273.435 Q544.58 270.912 544.58 266.745 L544.58 265.796 L540.343 265.796 M548.84 264.037 L548.84 278.828 L544.58 278.828 L544.58 274.893 Q543.121 277.254 540.945 278.388 Q538.768 279.5 535.62 279.5 Q531.637 279.5 529.276 277.277 Q526.938 275.032 526.938 271.282 Q526.938 266.907 529.855 264.685 Q532.795 262.463 538.606 262.463 L544.58 262.463 L544.58 262.046 Q544.58 259.106 542.635 257.509 Q540.713 255.889 537.217 255.889 Q534.995 255.889 532.888 256.421 Q530.781 256.953 528.836 258.018 L528.836 254.083 Q531.174 253.18 533.374 252.74 Q535.573 252.277 537.657 252.277 Q543.283 252.277 546.061 255.194 Q548.84 258.111 548.84 264.037 Z\" fill=\"#000000\" fill-rule=\"evenodd\" fill-opacity=\"1\" /><path clip-path=\"url(#clip080)\" d=\"M 0 0 M557.522 245.541 L557.522 252.902 L566.296 252.902 L566.296 256.213 L557.522 256.213 L557.522 270.287 Q557.522 273.458 558.378 274.361 Q559.258 275.263 561.921 275.263 L566.296 275.263 L566.296 278.828 L561.921 278.828 Q556.989 278.828 555.114 277 Q553.239 275.148 553.239 270.287 L553.239 256.213 L550.113 256.213 L550.113 252.902 L553.239 252.902 L553.239 245.541 L557.522 245.541 Z\" fill=\"#000000\" fill-rule=\"evenodd\" fill-opacity=\"1\" /><path clip-path=\"url(#clip080)\" d=\"M 0 0 M592.945 264.801 L592.945 266.884 L573.358 266.884 Q573.636 271.282 575.997 273.597 Q578.382 275.888 582.619 275.888 Q585.073 275.888 587.365 275.287 Q589.68 274.685 591.949 273.481 L591.949 277.509 Q589.657 278.481 587.249 278.99 Q584.841 279.5 582.364 279.5 Q576.159 279.5 572.524 275.888 Q568.913 272.277 568.913 266.12 Q568.913 259.754 572.339 256.027 Q575.789 252.277 581.623 252.277 Q586.856 252.277 589.889 255.657 Q592.945 259.013 592.945 264.801 M588.685 263.551 Q588.638 260.055 586.717 257.972 Q584.818 255.889 581.67 255.889 Q578.104 255.889 575.951 257.902 Q573.821 259.916 573.497 263.574 L588.685 263.551 Z\" fill=\"#000000\" fill-rule=\"evenodd\" fill-opacity=\"1\" /><polyline clip-path=\"url(#clip080)\" style=\"stroke:#008000; stroke-width:4; stroke-opacity:1; fill:none\" points=\"\n",
       "  291.894,322.028 403.721,322.028 \n",
       "  \"/>\n",
       "<path clip-path=\"url(#clip080)\" d=\"M347.807 296.428 L322.207 347.628 L373.407 347.628 L347.807 296.428 Z\" fill=\"#008000\" fill-rule=\"evenodd\" fill-opacity=\"1\" stroke=\"#000000\" stroke-opacity=\"1\" stroke-width=\"5.12\"/>\n",
       "<path clip-path=\"url(#clip080)\" d=\"M 0 0 M444.075 323.66 L444.075 339.308 L439.815 339.308 L439.815 323.799 Q439.815 320.118 438.38 318.29 Q436.945 316.461 434.074 316.461 Q430.624 316.461 428.633 318.66 Q426.642 320.859 426.642 324.656 L426.642 339.308 L422.359 339.308 L422.359 303.29 L426.642 303.29 L426.642 317.41 Q428.17 315.072 430.23 313.915 Q432.314 312.757 435.023 312.757 Q439.491 312.757 441.783 315.535 Q444.075 318.29 444.075 323.66 Z\" fill=\"#000000\" fill-rule=\"evenodd\" fill-opacity=\"1\" /><path clip-path=\"url(#clip080)\" d=\"M 0 0 M448.544 313.382 L452.804 313.382 L452.804 339.308 L448.544 339.308 L448.544 313.382 M448.544 303.29 L452.804 303.29 L452.804 308.683 L448.544 308.683 L448.544 303.29 Z\" fill=\"#000000\" fill-rule=\"evenodd\" fill-opacity=\"1\" /><path clip-path=\"url(#clip080)\" d=\"M 0 0 M478.827 323.66 L478.827 339.308 L474.567 339.308 L474.567 323.799 Q474.567 320.118 473.132 318.29 Q471.696 316.461 468.825 316.461 Q465.376 316.461 463.384 318.66 Q461.393 320.859 461.393 324.656 L461.393 339.308 L457.11 339.308 L457.11 313.382 L461.393 313.382 L461.393 317.41 Q462.921 315.072 464.982 313.915 Q467.066 312.757 469.774 312.757 Q474.243 312.757 476.535 315.535 Q478.827 318.29 478.827 323.66 Z\" fill=\"#000000\" fill-rule=\"evenodd\" fill-opacity=\"1\" /><path clip-path=\"url(#clip080)\" d=\"M 0 0 M500.359 317.318 L500.359 303.29 L504.619 303.29 L504.619 339.308 L500.359 339.308 L500.359 335.419 Q499.016 337.734 496.955 338.868 Q494.918 339.98 492.047 339.98 Q487.347 339.98 484.384 336.23 Q481.443 332.48 481.443 326.368 Q481.443 320.257 484.384 316.507 Q487.347 312.757 492.047 312.757 Q494.918 312.757 496.955 313.892 Q499.016 315.003 500.359 317.318 M485.842 326.368 Q485.842 331.068 487.764 333.753 Q489.709 336.415 493.089 336.415 Q496.469 336.415 498.414 333.753 Q500.359 331.068 500.359 326.368 Q500.359 321.669 498.414 319.007 Q496.469 316.322 493.089 316.322 Q489.709 316.322 487.764 319.007 Q485.842 321.669 485.842 326.368 Z\" fill=\"#000000\" fill-rule=\"evenodd\" fill-opacity=\"1\" /><path clip-path=\"url(#clip080)\" d=\"M 0 0 M525.618 314.146 L525.618 318.174 Q523.812 317.248 521.867 316.785 Q519.922 316.322 517.839 316.322 Q514.667 316.322 513.069 317.294 Q511.495 318.267 511.495 320.211 Q511.495 321.693 512.629 322.549 Q513.764 323.382 517.19 324.146 L518.649 324.47 Q523.187 325.443 525.085 327.225 Q527.007 328.984 527.007 332.155 Q527.007 335.767 524.136 337.873 Q521.288 339.98 516.287 339.98 Q514.204 339.98 511.935 339.563 Q509.689 339.169 507.189 338.359 L507.189 333.961 Q509.55 335.188 511.842 335.813 Q514.134 336.415 516.38 336.415 Q519.39 336.415 521.011 335.396 Q522.631 334.355 522.631 332.48 Q522.631 330.743 521.45 329.818 Q520.293 328.892 516.334 328.035 L514.852 327.688 Q510.893 326.855 509.133 325.142 Q507.374 323.406 507.374 320.396 Q507.374 316.739 509.967 314.748 Q512.56 312.757 517.329 312.757 Q519.691 312.757 521.775 313.105 Q523.858 313.452 525.618 314.146 Z\" fill=\"#000000\" fill-rule=\"evenodd\" fill-opacity=\"1\" /><path clip-path=\"url(#clip080)\" d=\"M 0 0 M531.475 313.382 L535.735 313.382 L535.735 339.308 L531.475 339.308 L531.475 313.382 M531.475 303.29 L535.735 303.29 L535.735 308.683 L531.475 308.683 L531.475 303.29 Z\" fill=\"#000000\" fill-rule=\"evenodd\" fill-opacity=\"1\" /><path clip-path=\"url(#clip080)\" d=\"M 0 0 M557.267 326.044 Q557.267 321.415 555.345 318.869 Q553.447 316.322 549.997 316.322 Q546.571 316.322 544.649 318.869 Q542.751 321.415 542.751 326.044 Q542.751 330.651 544.649 333.197 Q546.571 335.743 549.997 335.743 Q553.447 335.743 555.345 333.197 Q557.267 330.651 557.267 326.044 M561.527 336.091 Q561.527 342.711 558.587 345.929 Q555.646 349.169 549.58 349.169 Q547.335 349.169 545.344 348.822 Q543.353 348.498 541.477 347.804 L541.477 343.66 Q543.353 344.679 545.182 345.165 Q547.011 345.651 548.909 345.651 Q553.1 345.651 555.183 343.452 Q557.267 341.276 557.267 336.855 L557.267 334.748 Q555.947 337.04 553.887 338.174 Q551.826 339.308 548.955 339.308 Q544.186 339.308 541.269 335.674 Q538.352 332.04 538.352 326.044 Q538.352 320.026 541.269 316.392 Q544.186 312.757 548.955 312.757 Q551.826 312.757 553.887 313.892 Q555.947 315.026 557.267 317.318 L557.267 313.382 L561.527 313.382 L561.527 336.091 Z\" fill=\"#000000\" fill-rule=\"evenodd\" fill-opacity=\"1\" /><path clip-path=\"url(#clip080)\" d=\"M 0 0 M587.55 323.66 L587.55 339.308 L583.29 339.308 L583.29 323.799 Q583.29 320.118 581.855 318.29 Q580.419 316.461 577.548 316.461 Q574.099 316.461 572.108 318.66 Q570.117 320.859 570.117 324.656 L570.117 339.308 L565.833 339.308 L565.833 303.29 L570.117 303.29 L570.117 317.41 Q571.645 315.072 573.705 313.915 Q575.789 312.757 578.498 312.757 Q582.966 312.757 585.258 315.535 Q587.55 318.29 587.55 323.66 Z\" fill=\"#000000\" fill-rule=\"evenodd\" fill-opacity=\"1\" /><path clip-path=\"url(#clip080)\" d=\"M 0 0 M596.232 306.021 L596.232 313.382 L605.007 313.382 L605.007 316.693 L596.232 316.693 L596.232 330.767 Q596.232 333.938 597.089 334.841 Q597.969 335.743 600.631 335.743 L605.007 335.743 L605.007 339.308 L600.631 339.308 Q595.7 339.308 593.825 337.48 Q591.949 335.628 591.949 330.767 L591.949 316.693 L588.824 316.693 L588.824 313.382 L591.949 313.382 L591.949 306.021 L596.232 306.021 Z\" fill=\"#000000\" fill-rule=\"evenodd\" fill-opacity=\"1\" /></svg>\n"
      ]
     },
     "execution_count": 58,
     "metadata": {},
     "output_type": "execute_result"
    }
   ],
   "source": [
    "edf1 = mdf\n",
    "sort!(edf1)\n",
    "x_param = :demand\n",
    "\n",
    "\n",
    "plot(edf1[!, x_param], edf1.r_mc,\n",
    "    xlabel = label_demand,\n",
    "    ylabel = \"Revenue\",\n",
    "    label = \"MCTS\",\n",
    "    m=(3, :circle), \n",
    "    size=plot_size,\n",
    "    legend=:topleft\n",
    ")\n",
    "plot!(edf1[!, x_param], edf1.r_vi,  m=(3, :square, :black), line=(:black), label=\"VI\")\n",
    "plot!(edf1[!, x_param], edf1.r_flat,  m=(3, :dtriangle, :red), line=(:red), label=\"flat-rate\")\n",
    "plot!(edf1[!, x_param], edf1.r_hind,  m=(3, :utriangle, :green), line=(:green), label=\"hindsight\")\n",
    "\n",
    "# plot(edf1[!, x_param], edf1.u_mc,\n",
    "#     label = \"MCTS\",\n",
    "#     m=(3, :circle, :white), \n",
    "#     size=plot_size,\n",
    "#     legend=:topleft, axis=:right\n",
    "# )\n",
    "# plot!(edf1[!, x_param], edf1.u_vi,  m=(3, :square, :white), line=(:black), label=\"VI\")\n",
    "# plot!(edf1[!, x_param], edf1.u_flat,  m=(3, :dtriangle, :white), line=(:red), label=\"flat-rate\")\n",
    "# plot!(edf1[!, x_param], edf1.u_hind,  m=(3, :utriangle, :white), line=(:green), label=\"hindsight\")"
   ]
  },
  {
   "cell_type": "code",
   "execution_count": 204,
   "metadata": {},
   "outputs": [],
   "source": [
    "savefig(papersdir(\"paper_AAMAS2021_MCTS_pricing\", \"fig\", \"plt_small_d_r.pdf\"))"
   ]
  },
  {
   "cell_type": "markdown",
   "metadata": {},
   "source": [
    "# Varying demand - small - UTIL"
   ]
  },
  {
   "cell_type": "code",
   "execution_count": 13,
   "metadata": {},
   "outputs": [
    {
     "name": "stderr",
     "output_type": "stream",
     "text": [
      "┌ Info: Scanning folder C:\\Users\\Honza\\scth\\projects\\julia\\PricingMDP\\data\\sims\\exp_small_u for result files.\n",
      "└ @ DrWatson C:\\Users\\Honza\\.julia\\packages\\DrWatson\\YmBBf\\src\\result_collection.jl:88\n",
      "┌ Info: Added 6 entries.\n",
      "└ @ DrWatson C:\\Users\\Honza\\.julia\\packages\\DrWatson\\YmBBf\\src\\result_collection.jl:118\n"
     ]
    },
    {
     "data": {
      "text/html": [
       "<table class=\"data-frame\"><thead><tr><th></th><th>flat</th><th>memallocs</th></tr><tr><th></th><th>NamedTu…?</th><th>GC_Diff…?</th></tr></thead><tbody><p>6 rows × 12 columns (omitted printing of 10 columns)</p><tr><th>1</th><td>(r = 4.91, u = 0.0)</td><td>GC_Diff(87265297248, 52, 3, 1087204946, 61208, 0, 14713965069, 404, 3)</td></tr><tr><th>2</th><td>(r = 4.56, u = 0.0)</td><td>GC_Diff(85748074512, 51, 3, 994377152, 50263, 0, 14246161695, 450, 5)</td></tr><tr><th>3</th><td>(r = 4.08, u = 0.0)</td><td>GC_Diff(73460917408, 49, 3, 795191078, 34656, 0, 11249435608, 201, 2)</td></tr><tr><th>4</th><td>(r = 5.11, u = 37.35)</td><td>GC_Diff(86014728368, 81, 3, 1235532105, 71397, 0, 14746390499, 255, 4)</td></tr><tr><th>5</th><td>(r = 5.08, u = 0.0)</td><td>GC_Diff(89182167968, 75, 3, 1195690932, 67808, 0, 15445312494, 388, 3)</td></tr><tr><th>6</th><td>(r = 2.59, u = 0.0)</td><td>GC_Diff(57733659204, 52, 3, 575542773, 14944, 0, 9134546097, 106, 0)</td></tr></tbody></table>"
      ],
      "text/latex": [
       "\\begin{tabular}{r|ccc}\n",
       "\t& flat & memallocs & \\\\\n",
       "\t\\hline\n",
       "\t& NamedTu…? & GC\\_Diff…? & \\\\\n",
       "\t\\hline\n",
       "\t1 & (r = 4.91, u = 0.0) & GC\\_Diff(87265297248, 52, 3, 1087204946, 61208, 0, 14713965069, 404, 3) & $\\dots$ \\\\\n",
       "\t2 & (r = 4.56, u = 0.0) & GC\\_Diff(85748074512, 51, 3, 994377152, 50263, 0, 14246161695, 450, 5) & $\\dots$ \\\\\n",
       "\t3 & (r = 4.08, u = 0.0) & GC\\_Diff(73460917408, 49, 3, 795191078, 34656, 0, 11249435608, 201, 2) & $\\dots$ \\\\\n",
       "\t4 & (r = 5.11, u = 37.35) & GC\\_Diff(86014728368, 81, 3, 1235532105, 71397, 0, 14746390499, 255, 4) & $\\dots$ \\\\\n",
       "\t5 & (r = 5.08, u = 0.0) & GC\\_Diff(89182167968, 75, 3, 1195690932, 67808, 0, 15445312494, 388, 3) & $\\dots$ \\\\\n",
       "\t6 & (r = 2.59, u = 0.0) & GC\\_Diff(57733659204, 52, 3, 575542773, 14944, 0, 9134546097, 106, 0) & $\\dots$ \\\\\n",
       "\\end{tabular}\n"
      ],
      "text/plain": [
       "6×12 DataFrame. Omitted printing of 11 columns\n",
       "│ Row │ flat                  │\n",
       "│     │ \u001b[90mNamedTuple…?\u001b[39m          │\n",
       "├─────┼───────────────────────┤\n",
       "│ 1   │ (r = 4.91, u = 0.0)   │\n",
       "│ 2   │ (r = 4.56, u = 0.0)   │\n",
       "│ 3   │ (r = 4.08, u = 0.0)   │\n",
       "│ 4   │ (r = 5.11, u = 37.35) │\n",
       "│ 5   │ (r = 5.08, u = 0.0)   │\n",
       "│ 6   │ (r = 2.59, u = 0.0)   │"
      ]
     },
     "execution_count": 13,
     "metadata": {},
     "output_type": "execute_result"
    }
   ],
   "source": [
    "df_s_u = collect_results(\n",
    "    datadir(\"sims\", \"exp_small_u\"),\n",
    "    subfolders=true\n",
    ")"
   ]
  },
  {
   "cell_type": "markdown",
   "metadata": {},
   "source": [
    "## boxplot"
   ]
  },
  {
   "cell_type": "code",
   "execution_count": 10,
   "metadata": {},
   "outputs": [
    {
     "data": {
      "text/html": [
       "<table class=\"data-frame\"><thead><tr><th></th><th>mc</th><th>vi</th><th>hind</th></tr><tr><th></th><th>Float64</th><th>Float64</th><th>Float64</th></tr></thead><tbody><p>100 rows × 3 columns</p><tr><th>1</th><td>35.0</td><td>90.0</td><td>110.0</td></tr><tr><th>2</th><td>0.0</td><td>0.0</td><td>20.0</td></tr><tr><th>3</th><td>100.0</td><td>70.0</td><td>135.0</td></tr><tr><th>4</th><td>20.0</td><td>20.0</td><td>20.0</td></tr><tr><th>5</th><td>90.0</td><td>95.0</td><td>145.0</td></tr><tr><th>6</th><td>40.0</td><td>45.0</td><td>115.0</td></tr><tr><th>7</th><td>80.0</td><td>75.0</td><td>110.0</td></tr><tr><th>8</th><td>70.0</td><td>70.0</td><td>95.0</td></tr><tr><th>9</th><td>35.0</td><td>35.0</td><td>70.0</td></tr><tr><th>10</th><td>30.0</td><td>30.0</td><td>55.0</td></tr><tr><th>11</th><td>15.0</td><td>15.0</td><td>35.0</td></tr><tr><th>12</th><td>35.0</td><td>35.0</td><td>85.0</td></tr><tr><th>13</th><td>80.0</td><td>70.0</td><td>95.0</td></tr><tr><th>14</th><td>110.0</td><td>105.0</td><td>125.0</td></tr><tr><th>15</th><td>80.0</td><td>80.0</td><td>110.0</td></tr><tr><th>16</th><td>0.0</td><td>0.0</td><td>0.0</td></tr><tr><th>17</th><td>0.0</td><td>0.0</td><td>-0.0</td></tr><tr><th>18</th><td>25.0</td><td>30.0</td><td>35.0</td></tr><tr><th>19</th><td>0.0</td><td>0.0</td><td>-0.0</td></tr><tr><th>20</th><td>50.0</td><td>70.0</td><td>105.0</td></tr><tr><th>21</th><td>65.0</td><td>80.0</td><td>110.0</td></tr><tr><th>22</th><td>55.0</td><td>90.0</td><td>110.0</td></tr><tr><th>23</th><td>0.0</td><td>0.0</td><td>40.0</td></tr><tr><th>24</th><td>110.0</td><td>105.0</td><td>140.0</td></tr><tr><th>25</th><td>15.0</td><td>15.0</td><td>60.0</td></tr><tr><th>26</th><td>45.0</td><td>45.0</td><td>125.0</td></tr><tr><th>27</th><td>105.0</td><td>105.0</td><td>150.0</td></tr><tr><th>28</th><td>40.0</td><td>50.0</td><td>110.0</td></tr><tr><th>29</th><td>75.0</td><td>70.0</td><td>155.0</td></tr><tr><th>30</th><td>80.0</td><td>75.0</td><td>140.0</td></tr><tr><th>&vellip;</th><td>&vellip;</td><td>&vellip;</td><td>&vellip;</td></tr></tbody></table>"
      ],
      "text/latex": [
       "\\begin{tabular}{r|ccc}\n",
       "\t& mc & vi & hind\\\\\n",
       "\t\\hline\n",
       "\t& Float64 & Float64 & Float64\\\\\n",
       "\t\\hline\n",
       "\t1 & 35.0 & 90.0 & 110.0 \\\\\n",
       "\t2 & 0.0 & 0.0 & 20.0 \\\\\n",
       "\t3 & 100.0 & 70.0 & 135.0 \\\\\n",
       "\t4 & 20.0 & 20.0 & 20.0 \\\\\n",
       "\t5 & 90.0 & 95.0 & 145.0 \\\\\n",
       "\t6 & 40.0 & 45.0 & 115.0 \\\\\n",
       "\t7 & 80.0 & 75.0 & 110.0 \\\\\n",
       "\t8 & 70.0 & 70.0 & 95.0 \\\\\n",
       "\t9 & 35.0 & 35.0 & 70.0 \\\\\n",
       "\t10 & 30.0 & 30.0 & 55.0 \\\\\n",
       "\t11 & 15.0 & 15.0 & 35.0 \\\\\n",
       "\t12 & 35.0 & 35.0 & 85.0 \\\\\n",
       "\t13 & 80.0 & 70.0 & 95.0 \\\\\n",
       "\t14 & 110.0 & 105.0 & 125.0 \\\\\n",
       "\t15 & 80.0 & 80.0 & 110.0 \\\\\n",
       "\t16 & 0.0 & 0.0 & 0.0 \\\\\n",
       "\t17 & 0.0 & 0.0 & -0.0 \\\\\n",
       "\t18 & 25.0 & 30.0 & 35.0 \\\\\n",
       "\t19 & 0.0 & 0.0 & -0.0 \\\\\n",
       "\t20 & 50.0 & 70.0 & 105.0 \\\\\n",
       "\t21 & 65.0 & 80.0 & 110.0 \\\\\n",
       "\t22 & 55.0 & 90.0 & 110.0 \\\\\n",
       "\t23 & 0.0 & 0.0 & 40.0 \\\\\n",
       "\t24 & 110.0 & 105.0 & 140.0 \\\\\n",
       "\t25 & 15.0 & 15.0 & 60.0 \\\\\n",
       "\t26 & 45.0 & 45.0 & 125.0 \\\\\n",
       "\t27 & 105.0 & 105.0 & 150.0 \\\\\n",
       "\t28 & 40.0 & 50.0 & 110.0 \\\\\n",
       "\t29 & 75.0 & 70.0 & 155.0 \\\\\n",
       "\t30 & 80.0 & 75.0 & 140.0 \\\\\n",
       "\t$\\dots$ & $\\dots$ & $\\dots$ & $\\dots$ \\\\\n",
       "\\end{tabular}\n"
      ],
      "text/plain": [
       "100×3 DataFrame\n",
       "│ Row │ mc      │ vi      │ hind    │\n",
       "│     │ \u001b[90mFloat64\u001b[39m │ \u001b[90mFloat64\u001b[39m │ \u001b[90mFloat64\u001b[39m │\n",
       "├─────┼─────────┼─────────┼─────────┤\n",
       "│ 1   │ 35.0    │ 90.0    │ 110.0   │\n",
       "│ 2   │ 0.0     │ 0.0     │ 20.0    │\n",
       "│ 3   │ 100.0   │ 70.0    │ 135.0   │\n",
       "│ 4   │ 20.0    │ 20.0    │ 20.0    │\n",
       "│ 5   │ 90.0    │ 95.0    │ 145.0   │\n",
       "│ 6   │ 40.0    │ 45.0    │ 115.0   │\n",
       "│ 7   │ 80.0    │ 75.0    │ 110.0   │\n",
       "│ 8   │ 70.0    │ 70.0    │ 95.0    │\n",
       "│ 9   │ 35.0    │ 35.0    │ 70.0    │\n",
       "│ 10  │ 30.0    │ 30.0    │ 55.0    │\n",
       "⋮\n",
       "│ 90  │ 110.0   │ 90.0    │ 145.0   │\n",
       "│ 91  │ 85.0    │ 85.0    │ 110.0   │\n",
       "│ 92  │ 50.0    │ 70.0    │ 105.0   │\n",
       "│ 93  │ 55.0    │ 50.0    │ 120.0   │\n",
       "│ 94  │ 110.0   │ 85.0    │ 150.0   │\n",
       "│ 95  │ 45.0    │ 45.0    │ 75.0    │\n",
       "│ 96  │ 20.0    │ 15.0    │ 20.0    │\n",
       "│ 97  │ 50.0    │ 50.0    │ 90.0    │\n",
       "│ 98  │ 0.0     │ 0.0     │ 60.0    │\n",
       "│ 99  │ 15.0    │ 30.0    │ 30.0    │\n",
       "│ 100 │ 80.0    │ 75.0    │ 90.0    │"
      ]
     },
     "execution_count": 10,
     "metadata": {},
     "output_type": "execute_result"
    }
   ],
   "source": [
    "df_s_r\n",
    "\n",
    "rs_highest_demand = df_s_r.rs[5]\n",
    "# order of values is mc, vi, hindsight\n",
    "rs = DataFrame(transpose(hcat(rs_highest_demand...)), [:mc, :vi, :hind])"
   ]
  },
  {
   "cell_type": "code",
   "execution_count": 27,
   "metadata": {},
   "outputs": [
    {
     "data": {
      "text/plain": [
       "6-element Array{Union{Missing, NamedTuple{(:r, :u),Tuple{Float64,Float64}}},1}:\n",
       " (r = 54.0, u = 3.19)\n",
       " (r = 23.1, u = 1.73)\n",
       " (r = 72.9, u = 4.35)\n",
       " (r = 65.5, u = 3.56)\n",
       " (r = 41.6, u = 2.7)\n",
       " (r = 79.5, u = 4.35)"
      ]
     },
     "execution_count": 27,
     "metadata": {},
     "output_type": "execute_result"
    }
   ],
   "source": [
    "df_s_r.flat"
   ]
  },
  {
   "cell_type": "code",
   "execution_count": 26,
   "metadata": {},
   "outputs": [
    {
     "data": {
      "text/plain": [
       "12-element Array{String,1}:\n",
       " \"flat\"\n",
       " \"memallocs\"\n",
       " \"params\"\n",
       " \"mdp_mc\"\n",
       " \"u\"\n",
       " \"r\"\n",
       " \"bytes\"\n",
       " \"mdp_vi\"\n",
       " \"rs\"\n",
       " \"us\"\n",
       " \"t\"\n",
       " \"path\""
      ]
     },
     "execution_count": 26,
     "metadata": {},
     "output_type": "execute_result"
    }
   ],
   "source": [
    "names(df_s_r)"
   ]
  },
  {
   "cell_type": "code",
   "execution_count": 56,
   "metadata": {
    "collapsed": true,
    "jupyter": {
     "outputs_hidden": true
    }
   },
   "outputs": [
    {
     "data": {
      "text/html": [
       "<table class=\"data-frame\"><thead><tr><th></th><th>mc</th><th>vi</th><th>hind</th></tr><tr><th></th><th>Float64</th><th>Float64</th><th>Float64</th></tr></thead><tbody><p>100 rows × 3 columns</p><tr><th>1</th><td>6.0</td><td>6.0</td><td>6.0</td></tr><tr><th>2</th><td>5.0</td><td>5.0</td><td>6.0</td></tr><tr><th>3</th><td>6.0</td><td>6.0</td><td>6.0</td></tr><tr><th>4</th><td>6.0</td><td>6.0</td><td>6.0</td></tr><tr><th>5</th><td>5.0</td><td>5.0</td><td>6.0</td></tr><tr><th>6</th><td>6.0</td><td>6.0</td><td>6.0</td></tr><tr><th>7</th><td>6.0</td><td>4.0</td><td>6.0</td></tr><tr><th>8</th><td>5.0</td><td>5.0</td><td>6.0</td></tr><tr><th>9</th><td>6.0</td><td>6.0</td><td>6.0</td></tr><tr><th>10</th><td>5.0</td><td>5.0</td><td>6.0</td></tr><tr><th>11</th><td>5.0</td><td>5.0</td><td>6.0</td></tr><tr><th>12</th><td>6.0</td><td>6.0</td><td>6.0</td></tr><tr><th>13</th><td>5.0</td><td>6.0</td><td>6.0</td></tr><tr><th>14</th><td>6.0</td><td>6.0</td><td>6.0</td></tr><tr><th>15</th><td>5.0</td><td>5.0</td><td>6.0</td></tr><tr><th>16</th><td>3.0</td><td>4.0</td><td>5.0</td></tr><tr><th>17</th><td>6.0</td><td>6.0</td><td>6.0</td></tr><tr><th>18</th><td>5.0</td><td>5.0</td><td>6.0</td></tr><tr><th>19</th><td>6.0</td><td>6.0</td><td>6.0</td></tr><tr><th>20</th><td>6.0</td><td>6.0</td><td>6.0</td></tr><tr><th>21</th><td>6.0</td><td>6.0</td><td>6.0</td></tr><tr><th>22</th><td>5.0</td><td>5.0</td><td>6.0</td></tr><tr><th>23</th><td>5.0</td><td>5.0</td><td>5.0</td></tr><tr><th>24</th><td>5.0</td><td>5.0</td><td>6.0</td></tr><tr><th>25</th><td>6.0</td><td>6.0</td><td>6.0</td></tr><tr><th>26</th><td>6.0</td><td>6.0</td><td>6.0</td></tr><tr><th>27</th><td>6.0</td><td>6.0</td><td>6.0</td></tr><tr><th>28</th><td>6.0</td><td>6.0</td><td>6.0</td></tr><tr><th>29</th><td>6.0</td><td>6.0</td><td>6.0</td></tr><tr><th>30</th><td>4.0</td><td>5.0</td><td>6.0</td></tr><tr><th>&vellip;</th><td>&vellip;</td><td>&vellip;</td><td>&vellip;</td></tr></tbody></table>"
      ],
      "text/latex": [
       "\\begin{tabular}{r|ccc}\n",
       "\t& mc & vi & hind\\\\\n",
       "\t\\hline\n",
       "\t& Float64 & Float64 & Float64\\\\\n",
       "\t\\hline\n",
       "\t1 & 6.0 & 6.0 & 6.0 \\\\\n",
       "\t2 & 5.0 & 5.0 & 6.0 \\\\\n",
       "\t3 & 6.0 & 6.0 & 6.0 \\\\\n",
       "\t4 & 6.0 & 6.0 & 6.0 \\\\\n",
       "\t5 & 5.0 & 5.0 & 6.0 \\\\\n",
       "\t6 & 6.0 & 6.0 & 6.0 \\\\\n",
       "\t7 & 6.0 & 4.0 & 6.0 \\\\\n",
       "\t8 & 5.0 & 5.0 & 6.0 \\\\\n",
       "\t9 & 6.0 & 6.0 & 6.0 \\\\\n",
       "\t10 & 5.0 & 5.0 & 6.0 \\\\\n",
       "\t11 & 5.0 & 5.0 & 6.0 \\\\\n",
       "\t12 & 6.0 & 6.0 & 6.0 \\\\\n",
       "\t13 & 5.0 & 6.0 & 6.0 \\\\\n",
       "\t14 & 6.0 & 6.0 & 6.0 \\\\\n",
       "\t15 & 5.0 & 5.0 & 6.0 \\\\\n",
       "\t16 & 3.0 & 4.0 & 5.0 \\\\\n",
       "\t17 & 6.0 & 6.0 & 6.0 \\\\\n",
       "\t18 & 5.0 & 5.0 & 6.0 \\\\\n",
       "\t19 & 6.0 & 6.0 & 6.0 \\\\\n",
       "\t20 & 6.0 & 6.0 & 6.0 \\\\\n",
       "\t21 & 6.0 & 6.0 & 6.0 \\\\\n",
       "\t22 & 5.0 & 5.0 & 6.0 \\\\\n",
       "\t23 & 5.0 & 5.0 & 5.0 \\\\\n",
       "\t24 & 5.0 & 5.0 & 6.0 \\\\\n",
       "\t25 & 6.0 & 6.0 & 6.0 \\\\\n",
       "\t26 & 6.0 & 6.0 & 6.0 \\\\\n",
       "\t27 & 6.0 & 6.0 & 6.0 \\\\\n",
       "\t28 & 6.0 & 6.0 & 6.0 \\\\\n",
       "\t29 & 6.0 & 6.0 & 6.0 \\\\\n",
       "\t30 & 4.0 & 5.0 & 6.0 \\\\\n",
       "\t$\\dots$ & $\\dots$ & $\\dots$ & $\\dots$ \\\\\n",
       "\\end{tabular}\n"
      ],
      "text/plain": [
       "100×3 DataFrame\n",
       "│ Row │ mc      │ vi      │ hind    │\n",
       "│     │ \u001b[90mFloat64\u001b[39m │ \u001b[90mFloat64\u001b[39m │ \u001b[90mFloat64\u001b[39m │\n",
       "├─────┼─────────┼─────────┼─────────┤\n",
       "│ 1   │ 6.0     │ 6.0     │ 6.0     │\n",
       "│ 2   │ 5.0     │ 5.0     │ 6.0     │\n",
       "│ 3   │ 6.0     │ 6.0     │ 6.0     │\n",
       "│ 4   │ 6.0     │ 6.0     │ 6.0     │\n",
       "│ 5   │ 5.0     │ 5.0     │ 6.0     │\n",
       "│ 6   │ 6.0     │ 6.0     │ 6.0     │\n",
       "│ 7   │ 6.0     │ 4.0     │ 6.0     │\n",
       "│ 8   │ 5.0     │ 5.0     │ 6.0     │\n",
       "│ 9   │ 6.0     │ 6.0     │ 6.0     │\n",
       "│ 10  │ 5.0     │ 5.0     │ 6.0     │\n",
       "⋮\n",
       "│ 90  │ 6.0     │ 6.0     │ 6.0     │\n",
       "│ 91  │ 6.0     │ 6.0     │ 6.0     │\n",
       "│ 92  │ 5.0     │ 5.0     │ 6.0     │\n",
       "│ 93  │ 6.0     │ 6.0     │ 6.0     │\n",
       "│ 94  │ 6.0     │ 6.0     │ 6.0     │\n",
       "│ 95  │ 5.0     │ 5.0     │ 6.0     │\n",
       "│ 96  │ 4.0     │ 4.0     │ 4.0     │\n",
       "│ 97  │ 6.0     │ 6.0     │ 6.0     │\n",
       "│ 98  │ 5.0     │ 5.0     │ 6.0     │\n",
       "│ 99  │ 6.0     │ 6.0     │ 6.0     │\n",
       "│ 100 │ 6.0     │ 6.0     │ 6.0     │"
      ]
     },
     "execution_count": 56,
     "metadata": {},
     "output_type": "execute_result"
    }
   ],
   "source": [
    "# revenues for highest demand\n",
    "rs_highest_demand = df_s_u.rs[5]\n",
    "# order of values is mc, vi, hindsight\n",
    "rs = DataFrame(transpose(hcat(rs_highest_demand...)), [:mc, :vi, :hind])"
   ]
  },
  {
   "cell_type": "code",
   "execution_count": 85,
   "metadata": {},
   "outputs": [],
   "source": [
    "save(datadir(\"exp_pro\", \"small_us.csv\"), rs)"
   ]
  },
  {
   "cell_type": "code",
   "execution_count": 12,
   "metadata": {},
   "outputs": [
    {
     "name": "stderr",
     "output_type": "stream",
     "text": [
      "┌ Info: Precompiling StatsPlots [f3b207a7-027a-5e70-b257-86293d7955fd]\n",
      "└ @ Base loading.jl:1260\n"
     ]
    }
   ],
   "source": [
    "using StatsPlots\n",
    "#using CSVFiles"
   ]
  },
  {
   "cell_type": "code",
   "execution_count": 23,
   "metadata": {},
   "outputs": [
    {
     "data": {
      "image/svg+xml": [
       "<?xml version=\"1.0\" encoding=\"utf-8\"?>\n",
       "<svg xmlns=\"http://www.w3.org/2000/svg\" xmlns:xlink=\"http://www.w3.org/1999/xlink\" width=\"485.5\" height=\"300\" viewBox=\"0 0 1942 1200\">\n",
       "<defs>\n",
       "  <clipPath id=\"clip380\">\n",
       "    <rect x=\"0\" y=\"0\" width=\"1942\" height=\"1200\"/>\n",
       "  </clipPath>\n",
       "</defs>\n",
       "<path clip-path=\"url(#clip380)\" d=\"\n",
       "M0 1200 L1942 1200 L1942 0 L0 0  Z\n",
       "  \" fill=\"#ffffff\" fill-rule=\"evenodd\" fill-opacity=\"1\"/>\n",
       "<defs>\n",
       "  <clipPath id=\"clip381\">\n",
       "    <rect x=\"388\" y=\"0\" width=\"1360\" height=\"1200\"/>\n",
       "  </clipPath>\n",
       "</defs>\n",
       "<path clip-path=\"url(#clip380)\" d=\"\n",
       "M216.856 1092.97 L1894.75 1092.97 L1894.75 47.2441 L216.856 47.2441  Z\n",
       "  \" fill=\"#ffffff\" fill-rule=\"evenodd\" fill-opacity=\"1\"/>\n",
       "<defs>\n",
       "  <clipPath id=\"clip382\">\n",
       "    <rect x=\"216\" y=\"47\" width=\"1679\" height=\"1047\"/>\n",
       "  </clipPath>\n",
       "</defs>\n",
       "<polyline clip-path=\"url(#clip382)\" style=\"stroke:#000000; stroke-width:2; stroke-opacity:0.1; fill:none\" points=\"\n",
       "  490.475,1092.97 490.475,47.2441 \n",
       "  \"/>\n",
       "<polyline clip-path=\"url(#clip382)\" style=\"stroke:#000000; stroke-width:2; stroke-opacity:0.1; fill:none\" points=\"\n",
       "  1055.8,1092.97 1055.8,47.2441 \n",
       "  \"/>\n",
       "<polyline clip-path=\"url(#clip382)\" style=\"stroke:#000000; stroke-width:2; stroke-opacity:0.1; fill:none\" points=\"\n",
       "  1621.13,1092.97 1621.13,47.2441 \n",
       "  \"/>\n",
       "<polyline clip-path=\"url(#clip380)\" style=\"stroke:#000000; stroke-width:4; stroke-opacity:1; fill:none\" points=\"\n",
       "  216.856,1092.97 1894.75,1092.97 \n",
       "  \"/>\n",
       "<polyline clip-path=\"url(#clip380)\" style=\"stroke:#000000; stroke-width:4; stroke-opacity:1; fill:none\" points=\"\n",
       "  490.475,1092.97 490.475,1080.42 \n",
       "  \"/>\n",
       "<polyline clip-path=\"url(#clip380)\" style=\"stroke:#000000; stroke-width:4; stroke-opacity:1; fill:none\" points=\"\n",
       "  1055.8,1092.97 1055.8,1080.42 \n",
       "  \"/>\n",
       "<polyline clip-path=\"url(#clip380)\" style=\"stroke:#000000; stroke-width:4; stroke-opacity:1; fill:none\" points=\"\n",
       "  1621.13,1092.97 1621.13,1080.42 \n",
       "  \"/>\n",
       "<path clip-path=\"url(#clip380)\" d=\"M 0 0 M431.112 1115.41 L438.081 1115.41 L446.902 1138.93 L455.769 1115.41 L462.738 1115.41 L462.738 1149.97 L458.177 1149.97 L458.177 1119.63 L449.263 1143.33 L444.564 1143.33 L435.65 1119.63 L435.65 1149.97 L431.112 1149.97 L431.112 1115.41 Z\" fill=\"#000000\" fill-rule=\"evenodd\" fill-opacity=\"1\" /><path clip-path=\"url(#clip380)\" d=\"M 0 0 M493.276 1118.08 L493.276 1123.01 Q490.914 1120.81 488.229 1119.72 Q485.566 1118.63 482.556 1118.63 Q476.629 1118.63 473.481 1122.27 Q470.332 1125.88 470.332 1132.73 Q470.332 1139.56 473.481 1143.19 Q476.629 1146.8 482.556 1146.8 Q485.566 1146.8 488.229 1145.71 Q490.914 1144.63 493.276 1142.43 L493.276 1147.31 Q490.822 1148.98 488.067 1149.81 Q485.335 1150.65 482.279 1150.65 Q474.43 1150.65 469.915 1145.85 Q465.401 1141.04 465.401 1132.73 Q465.401 1124.4 469.915 1119.6 Q474.43 1114.79 482.279 1114.79 Q485.381 1114.79 488.113 1115.62 Q490.868 1116.43 493.276 1118.08 Z\" fill=\"#000000\" fill-rule=\"evenodd\" fill-opacity=\"1\" /><path clip-path=\"url(#clip380)\" d=\"M 0 0 M493.137 1115.41 L522.378 1115.41 L522.378 1119.35 L510.108 1119.35 L510.108 1149.97 L505.408 1149.97 L505.408 1119.35 L493.137 1119.35 L493.137 1115.41 Z\" fill=\"#000000\" fill-rule=\"evenodd\" fill-opacity=\"1\" /><path clip-path=\"url(#clip380)\" d=\"M 0 0 M547.753 1116.55 L547.753 1121.11 Q545.091 1119.84 542.729 1119.21 Q540.368 1118.59 538.168 1118.59 Q534.348 1118.59 532.264 1120.07 Q530.204 1121.55 530.204 1124.28 Q530.204 1126.57 531.57 1127.75 Q532.959 1128.91 536.802 1129.63 L539.627 1130.21 Q544.859 1131.2 547.337 1133.72 Q549.837 1136.22 549.837 1140.44 Q549.837 1145.46 546.457 1148.05 Q543.1 1150.65 536.594 1150.65 Q534.14 1150.65 531.362 1150.09 Q528.606 1149.53 525.643 1148.45 L525.643 1143.63 Q528.491 1145.23 531.223 1146.04 Q533.955 1146.85 536.594 1146.85 Q540.599 1146.85 542.776 1145.28 Q544.952 1143.7 544.952 1140.78 Q544.952 1138.24 543.378 1136.8 Q541.826 1135.37 538.261 1134.65 L535.413 1134.09 Q530.181 1133.05 527.842 1130.83 Q525.504 1128.61 525.504 1124.65 Q525.504 1120.07 528.722 1117.43 Q531.963 1114.79 537.636 1114.79 Q540.067 1114.79 542.59 1115.23 Q545.114 1115.67 547.753 1116.55 Z\" fill=\"#000000\" fill-rule=\"evenodd\" fill-opacity=\"1\" /><path clip-path=\"url(#clip380)\" d=\"M 0 0 M1048.5 1149.97 L1035.3 1115.41 L1040.19 1115.41 L1051.14 1144.51 L1062.11 1115.41 L1066.97 1115.41 L1053.8 1149.97 L1048.5 1149.97 Z\" fill=\"#000000\" fill-rule=\"evenodd\" fill-opacity=\"1\" /><path clip-path=\"url(#clip380)\" d=\"M 0 0 M1071.63 1115.41 L1076.3 1115.41 L1076.3 1149.97 L1071.63 1149.97 L1071.63 1115.41 Z\" fill=\"#000000\" fill-rule=\"evenodd\" fill-opacity=\"1\" /><path clip-path=\"url(#clip380)\" d=\"M 0 0 M1551.52 1134.33 L1551.52 1149.97 L1547.26 1149.97 L1547.26 1134.46 Q1547.26 1130.78 1545.83 1128.96 Q1544.39 1127.13 1541.52 1127.13 Q1538.07 1127.13 1536.08 1129.33 Q1534.09 1131.53 1534.09 1135.32 L1534.09 1149.97 L1529.8 1149.97 L1529.8 1113.96 L1534.09 1113.96 L1534.09 1128.08 Q1535.62 1125.74 1537.68 1124.58 Q1539.76 1123.42 1542.47 1123.42 Q1546.94 1123.42 1549.23 1126.2 Q1551.52 1128.96 1551.52 1134.33 Z\" fill=\"#000000\" fill-rule=\"evenodd\" fill-opacity=\"1\" /><path clip-path=\"url(#clip380)\" d=\"M 0 0 M1555.99 1124.05 L1560.25 1124.05 L1560.25 1149.97 L1555.99 1149.97 L1555.99 1124.05 M1555.99 1113.96 L1560.25 1113.96 L1560.25 1119.35 L1555.99 1119.35 L1555.99 1113.96 Z\" fill=\"#000000\" fill-rule=\"evenodd\" fill-opacity=\"1\" /><path clip-path=\"url(#clip380)\" d=\"M 0 0 M1586.27 1134.33 L1586.27 1149.97 L1582.01 1149.97 L1582.01 1134.46 Q1582.01 1130.78 1580.58 1128.96 Q1579.14 1127.13 1576.27 1127.13 Q1572.82 1127.13 1570.83 1129.33 Q1568.84 1131.53 1568.84 1135.32 L1568.84 1149.97 L1564.56 1149.97 L1564.56 1124.05 L1568.84 1124.05 L1568.84 1128.08 Q1570.37 1125.74 1572.43 1124.58 Q1574.51 1123.42 1577.22 1123.42 Q1581.69 1123.42 1583.98 1126.2 Q1586.27 1128.96 1586.27 1134.33 Z\" fill=\"#000000\" fill-rule=\"evenodd\" fill-opacity=\"1\" /><path clip-path=\"url(#clip380)\" d=\"M 0 0 M1607.8 1127.98 L1607.8 1113.96 L1612.06 1113.96 L1612.06 1149.97 L1607.8 1149.97 L1607.8 1146.09 Q1606.46 1148.4 1604.4 1149.53 Q1602.36 1150.65 1599.49 1150.65 Q1594.79 1150.65 1591.83 1146.9 Q1588.89 1143.15 1588.89 1137.03 Q1588.89 1130.92 1591.83 1127.17 Q1594.79 1123.42 1599.49 1123.42 Q1602.36 1123.42 1604.4 1124.56 Q1606.46 1125.67 1607.8 1127.98 M1593.29 1137.03 Q1593.29 1141.73 1595.21 1144.42 Q1597.15 1147.08 1600.53 1147.08 Q1603.92 1147.08 1605.86 1144.42 Q1607.8 1141.73 1607.8 1137.03 Q1607.8 1132.34 1605.86 1129.67 Q1603.92 1126.99 1600.53 1126.99 Q1597.15 1126.99 1595.21 1129.67 Q1593.29 1132.34 1593.29 1137.03 Z\" fill=\"#000000\" fill-rule=\"evenodd\" fill-opacity=\"1\" /><path clip-path=\"url(#clip380)\" d=\"M 0 0 M1633.06 1124.81 L1633.06 1128.84 Q1631.26 1127.91 1629.31 1127.45 Q1627.37 1126.99 1625.28 1126.99 Q1622.11 1126.99 1620.52 1127.96 Q1618.94 1128.93 1618.94 1130.88 Q1618.94 1132.36 1620.08 1133.21 Q1621.21 1134.05 1624.64 1134.81 L1626.1 1135.14 Q1630.63 1136.11 1632.53 1137.89 Q1634.45 1139.65 1634.45 1142.82 Q1634.45 1146.43 1631.58 1148.54 Q1628.73 1150.65 1623.73 1150.65 Q1621.65 1150.65 1619.38 1150.23 Q1617.14 1149.84 1614.63 1149.03 L1614.63 1144.63 Q1617 1145.85 1619.29 1146.48 Q1621.58 1147.08 1623.83 1147.08 Q1626.84 1147.08 1628.46 1146.06 Q1630.08 1145.02 1630.08 1143.15 Q1630.08 1141.41 1628.9 1140.48 Q1627.74 1139.56 1623.78 1138.7 L1622.3 1138.35 Q1618.34 1137.52 1616.58 1135.81 Q1614.82 1134.07 1614.82 1131.06 Q1614.82 1127.4 1617.41 1125.41 Q1620.01 1123.42 1624.78 1123.42 Q1627.14 1123.42 1629.22 1123.77 Q1631.3 1124.12 1633.06 1124.81 Z\" fill=\"#000000\" fill-rule=\"evenodd\" fill-opacity=\"1\" /><path clip-path=\"url(#clip380)\" d=\"M 0 0 M1638.92 1124.05 L1643.18 1124.05 L1643.18 1149.97 L1638.92 1149.97 L1638.92 1124.05 M1638.92 1113.96 L1643.18 1113.96 L1643.18 1119.35 L1638.92 1119.35 L1638.92 1113.96 Z\" fill=\"#000000\" fill-rule=\"evenodd\" fill-opacity=\"1\" /><path clip-path=\"url(#clip380)\" d=\"M 0 0 M1664.71 1136.71 Q1664.71 1132.08 1662.79 1129.53 Q1660.89 1126.99 1657.44 1126.99 Q1654.02 1126.99 1652.1 1129.53 Q1650.2 1132.08 1650.2 1136.71 Q1650.2 1141.32 1652.1 1143.86 Q1654.02 1146.41 1657.44 1146.41 Q1660.89 1146.41 1662.79 1143.86 Q1664.71 1141.32 1664.71 1136.71 M1668.97 1146.76 Q1668.97 1153.38 1666.03 1156.59 Q1663.09 1159.84 1657.03 1159.84 Q1654.78 1159.84 1652.79 1159.49 Q1650.8 1159.16 1648.92 1158.47 L1648.92 1154.33 Q1650.8 1155.34 1652.63 1155.83 Q1654.46 1156.32 1656.36 1156.32 Q1660.55 1156.32 1662.63 1154.12 Q1664.71 1151.94 1664.71 1147.52 L1664.71 1145.41 Q1663.39 1147.71 1661.33 1148.84 Q1659.27 1149.97 1656.4 1149.97 Q1651.63 1149.97 1648.71 1146.34 Q1645.8 1142.71 1645.8 1136.71 Q1645.8 1130.69 1648.71 1127.06 Q1651.63 1123.42 1656.4 1123.42 Q1659.27 1123.42 1661.33 1124.56 Q1663.39 1125.69 1664.71 1127.98 L1664.71 1124.05 L1668.97 1124.05 L1668.97 1146.76 Z\" fill=\"#000000\" fill-rule=\"evenodd\" fill-opacity=\"1\" /><path clip-path=\"url(#clip380)\" d=\"M 0 0 M1695 1134.33 L1695 1149.97 L1690.74 1149.97 L1690.74 1134.46 Q1690.74 1130.78 1689.3 1128.96 Q1687.87 1127.13 1684.99 1127.13 Q1681.54 1127.13 1679.55 1129.33 Q1677.56 1131.53 1677.56 1135.32 L1677.56 1149.97 L1673.28 1149.97 L1673.28 1113.96 L1677.56 1113.96 L1677.56 1128.08 Q1679.09 1125.74 1681.15 1124.58 Q1683.23 1123.42 1685.94 1123.42 Q1690.41 1123.42 1692.7 1126.2 Q1695 1128.96 1695 1134.33 Z\" fill=\"#000000\" fill-rule=\"evenodd\" fill-opacity=\"1\" /><path clip-path=\"url(#clip380)\" d=\"M 0 0 M1703.68 1116.69 L1703.68 1124.05 L1712.45 1124.05 L1712.45 1127.36 L1703.68 1127.36 L1703.68 1141.43 Q1703.68 1144.6 1704.54 1145.51 Q1705.41 1146.41 1708.08 1146.41 L1712.45 1146.41 L1712.45 1149.97 L1708.08 1149.97 Q1703.15 1149.97 1701.27 1148.15 Q1699.4 1146.29 1699.4 1141.43 L1699.4 1127.36 L1696.27 1127.36 L1696.27 1124.05 L1699.4 1124.05 L1699.4 1116.69 L1703.68 1116.69 Z\" fill=\"#000000\" fill-rule=\"evenodd\" fill-opacity=\"1\" /><polyline clip-path=\"url(#clip382)\" style=\"stroke:#000000; stroke-width:2; stroke-opacity:0.1; fill:none\" points=\"\n",
       "  216.856,1063.37 1894.75,1063.37 \n",
       "  \"/>\n",
       "<polyline clip-path=\"url(#clip382)\" style=\"stroke:#000000; stroke-width:2; stroke-opacity:0.1; fill:none\" points=\"\n",
       "  216.856,745.137 1894.75,745.137 \n",
       "  \"/>\n",
       "<polyline clip-path=\"url(#clip382)\" style=\"stroke:#000000; stroke-width:2; stroke-opacity:0.1; fill:none\" points=\"\n",
       "  216.856,426.9 1894.75,426.9 \n",
       "  \"/>\n",
       "<polyline clip-path=\"url(#clip382)\" style=\"stroke:#000000; stroke-width:2; stroke-opacity:0.1; fill:none\" points=\"\n",
       "  216.856,108.664 1894.75,108.664 \n",
       "  \"/>\n",
       "<polyline clip-path=\"url(#clip380)\" style=\"stroke:#000000; stroke-width:4; stroke-opacity:1; fill:none\" points=\"\n",
       "  216.856,1092.97 216.856,47.2441 \n",
       "  \"/>\n",
       "<polyline clip-path=\"url(#clip380)\" style=\"stroke:#000000; stroke-width:4; stroke-opacity:1; fill:none\" points=\"\n",
       "  216.856,1063.37 236.991,1063.37 \n",
       "  \"/>\n",
       "<polyline clip-path=\"url(#clip380)\" style=\"stroke:#000000; stroke-width:4; stroke-opacity:1; fill:none\" points=\"\n",
       "  216.856,745.137 236.991,745.137 \n",
       "  \"/>\n",
       "<polyline clip-path=\"url(#clip380)\" style=\"stroke:#000000; stroke-width:4; stroke-opacity:1; fill:none\" points=\"\n",
       "  216.856,426.9 236.991,426.9 \n",
       "  \"/>\n",
       "<polyline clip-path=\"url(#clip380)\" style=\"stroke:#000000; stroke-width:4; stroke-opacity:1; fill:none\" points=\"\n",
       "  216.856,108.664 236.991,108.664 \n",
       "  \"/>\n",
       "<path clip-path=\"url(#clip380)\" d=\"M 0 0 M175.78 1049.17 Q172.168 1049.17 170.339 1052.74 Q168.533 1056.28 168.533 1063.41 Q168.533 1070.51 170.339 1074.08 Q172.168 1077.62 175.78 1077.62 Q179.415 1077.62 181.22 1074.08 Q183.049 1070.51 183.049 1063.41 Q183.049 1056.28 181.22 1052.74 Q179.415 1049.17 175.78 1049.17 M175.78 1045.47 Q181.591 1045.47 184.647 1050.07 Q187.726 1054.66 187.726 1063.41 Q187.726 1072.13 184.647 1076.74 Q181.591 1081.32 175.78 1081.32 Q169.968 1081.32 166.889 1076.74 Q163.833 1072.13 163.833 1063.41 Q163.833 1054.66 166.889 1050.07 Q169.968 1045.47 175.78 1045.47 Z\" fill=\"#000000\" fill-rule=\"evenodd\" fill-opacity=\"1\" /><path clip-path=\"url(#clip380)\" d=\"M 0 0 M139.801 727.857 L158.161 727.857 L158.161 731.792 L144.084 731.792 L144.084 740.264 Q145.103 739.917 146.122 739.755 Q147.14 739.569 148.159 739.569 Q153.947 739.569 157.327 742.741 Q160.707 745.912 160.707 751.329 Q160.707 756.907 157.235 760.009 Q153.762 763.088 147.441 763.088 Q145.265 763.088 142.996 762.718 Q140.75 762.347 138.342 761.606 L138.342 756.907 Q140.426 758.042 142.649 758.597 Q144.871 759.153 147.349 759.153 Q151.354 759.153 153.692 757.046 Q156.031 754.94 156.031 751.329 Q156.031 747.718 153.692 745.611 Q151.354 743.505 147.349 743.505 Q145.473 743.505 143.598 743.921 Q141.746 744.338 139.801 745.218 L139.801 727.857 Z\" fill=\"#000000\" fill-rule=\"evenodd\" fill-opacity=\"1\" /><path clip-path=\"url(#clip380)\" d=\"M 0 0 M175.78 730.935 Q172.168 730.935 170.339 734.5 Q168.533 738.042 168.533 745.171 Q168.533 752.278 170.339 755.843 Q172.168 759.384 175.78 759.384 Q179.415 759.384 181.22 755.843 Q183.049 752.278 183.049 745.171 Q183.049 738.042 181.22 734.5 Q179.415 730.935 175.78 730.935 M175.78 727.232 Q181.591 727.232 184.647 731.838 Q187.726 736.421 187.726 745.171 Q187.726 753.898 184.647 758.505 Q181.591 763.088 175.78 763.088 Q169.968 763.088 166.889 758.505 Q163.833 753.898 163.833 745.171 Q163.833 736.421 166.889 731.838 Q169.968 727.232 175.78 727.232 Z\" fill=\"#000000\" fill-rule=\"evenodd\" fill-opacity=\"1\" /><path clip-path=\"url(#clip380)\" d=\"M 0 0 M113.778 440.245 L121.418 440.245 L121.418 413.879 L113.106 415.546 L113.106 411.287 L121.372 409.62 L126.048 409.62 L126.048 440.245 L133.689 440.245 L133.689 444.18 L113.778 444.18 L113.778 440.245 Z\" fill=\"#000000\" fill-rule=\"evenodd\" fill-opacity=\"1\" /><path clip-path=\"url(#clip380)\" d=\"M 0 0 M148.761 412.699 Q145.149 412.699 143.32 416.264 Q141.514 419.805 141.514 426.935 Q141.514 434.041 143.32 437.606 Q145.149 441.148 148.761 441.148 Q152.396 441.148 154.202 437.606 Q156.031 434.041 156.031 426.935 Q156.031 419.805 154.202 416.264 Q152.396 412.699 148.761 412.699 M148.761 408.995 Q154.572 408.995 157.628 413.602 Q160.707 418.185 160.707 426.935 Q160.707 435.662 157.628 440.268 Q154.572 444.851 148.761 444.851 Q142.95 444.851 139.87 440.268 Q136.814 435.662 136.814 426.935 Q136.814 418.185 139.87 413.602 Q142.95 408.995 148.761 408.995 Z\" fill=\"#000000\" fill-rule=\"evenodd\" fill-opacity=\"1\" /><path clip-path=\"url(#clip380)\" d=\"M 0 0 M175.78 412.699 Q172.168 412.699 170.339 416.264 Q168.533 419.805 168.533 426.935 Q168.533 434.041 170.339 437.606 Q172.168 441.148 175.78 441.148 Q179.415 441.148 181.22 437.606 Q183.049 434.041 183.049 426.935 Q183.049 419.805 181.22 416.264 Q179.415 412.699 175.78 412.699 M175.78 408.995 Q181.591 408.995 184.647 413.602 Q187.726 418.185 187.726 426.935 Q187.726 435.662 184.647 440.268 Q181.591 444.851 175.78 444.851 Q169.968 444.851 166.889 440.268 Q163.833 435.662 163.833 426.935 Q163.833 418.185 166.889 413.602 Q169.968 408.995 175.78 408.995 Z\" fill=\"#000000\" fill-rule=\"evenodd\" fill-opacity=\"1\" /><path clip-path=\"url(#clip380)\" d=\"M 0 0 M114.773 122.009 L122.414 122.009 L122.414 95.643 L114.102 97.3096 L114.102 93.0504 L122.367 91.3837 L127.044 91.3837 L127.044 122.009 L134.684 122.009 L134.684 125.944 L114.773 125.944 L114.773 122.009 Z\" fill=\"#000000\" fill-rule=\"evenodd\" fill-opacity=\"1\" /><path clip-path=\"url(#clip380)\" d=\"M 0 0 M139.801 91.3837 L158.161 91.3837 L158.161 95.3189 L144.084 95.3189 L144.084 103.791 Q145.103 103.444 146.122 103.282 Q147.14 103.097 148.159 103.097 Q153.947 103.097 157.327 106.268 Q160.707 109.439 160.707 114.856 Q160.707 120.434 157.235 123.536 Q153.762 126.615 147.441 126.615 Q145.265 126.615 142.996 126.245 Q140.75 125.874 138.342 125.134 L138.342 120.434 Q140.426 121.569 142.649 122.124 Q144.871 122.68 147.349 122.68 Q151.354 122.68 153.692 120.573 Q156.031 118.467 156.031 114.856 Q156.031 111.245 153.692 109.138 Q151.354 107.032 147.349 107.032 Q145.473 107.032 143.598 107.448 Q141.746 107.865 139.801 108.745 L139.801 91.3837 Z\" fill=\"#000000\" fill-rule=\"evenodd\" fill-opacity=\"1\" /><path clip-path=\"url(#clip380)\" d=\"M 0 0 M175.78 94.4624 Q172.168 94.4624 170.339 98.0272 Q168.533 101.569 168.533 108.698 Q168.533 115.805 170.339 119.37 Q172.168 122.911 175.78 122.911 Q179.415 122.911 181.22 119.37 Q183.049 115.805 183.049 108.698 Q183.049 101.569 181.22 98.0272 Q179.415 94.4624 175.78 94.4624 M175.78 90.7587 Q181.591 90.7587 184.647 95.3652 Q187.726 99.9485 187.726 108.698 Q187.726 117.425 184.647 122.032 Q181.591 126.615 175.78 126.615 Q169.968 126.615 166.889 122.032 Q163.833 117.425 163.833 108.698 Q163.833 99.9485 166.889 95.3652 Q169.968 90.7587 175.78 90.7587 Z\" fill=\"#000000\" fill-rule=\"evenodd\" fill-opacity=\"1\" /><path clip-path=\"url(#clip380)\" d=\"M 0 0 M66.8536 673.47 Q67.554 671.401 69.846 669.459 Q72.1381 667.486 76.1493 665.513 L89.1377 658.988 L89.1377 665.895 L76.9451 671.974 Q72.17 674.329 70.6101 676.557 Q69.0502 678.753 69.0502 682.573 L69.0502 689.575 L89.1377 689.575 L89.1377 696.004 L41.6089 696.004 L41.6089 681.49 Q41.6089 673.342 45.0152 669.332 Q48.4215 665.322 55.2977 665.322 Q59.7864 665.322 62.747 667.422 Q65.7076 669.491 66.8536 673.47 M46.8934 689.575 L63.7657 689.575 L63.7657 681.49 Q63.7657 676.844 61.6328 674.488 Q59.468 672.101 55.2977 672.101 Q51.1274 672.101 49.0263 674.488 Q46.8934 676.844 46.8934 681.49 L46.8934 689.575 Z\" fill=\"#000000\" fill-rule=\"evenodd\" fill-opacity=\"1\" /><path clip-path=\"url(#clip380)\" d=\"M 0 0 M69.846 625.281 L72.7111 625.281 L72.7111 652.208 Q78.7597 651.826 81.9431 648.58 Q85.0947 645.301 85.0947 639.477 Q85.0947 636.103 84.267 632.952 Q83.4393 629.769 81.7839 626.65 L87.3231 626.65 Q88.6602 629.801 89.3605 633.111 Q90.0609 636.421 90.0609 639.827 Q90.0609 648.357 85.0947 653.354 Q80.1286 658.319 71.6606 658.319 Q62.9061 658.319 57.7808 653.609 Q52.6236 648.866 52.6236 640.845 Q52.6236 633.652 57.2714 629.483 Q61.8874 625.281 69.846 625.281 M68.127 631.138 Q63.32 631.201 60.4549 633.843 Q57.5898 636.453 57.5898 640.782 Q57.5898 645.683 60.3594 648.643 Q63.129 651.572 68.1588 652.017 L68.127 631.138 Z\" fill=\"#000000\" fill-rule=\"evenodd\" fill-opacity=\"1\" /><path clip-path=\"url(#clip380)\" d=\"M 0 0 M53.4831 623.34 L53.4831 617.133 L83.4075 605.993 L53.4831 594.853 L53.4831 588.647 L89.1377 602.015 L89.1377 609.972 L53.4831 623.34 Z\" fill=\"#000000\" fill-rule=\"evenodd\" fill-opacity=\"1\" /><path clip-path=\"url(#clip380)\" d=\"M 0 0 M69.846 552.012 L72.7111 552.012 L72.7111 578.939 Q78.7597 578.557 81.9431 575.311 Q85.0947 572.032 85.0947 566.208 Q85.0947 562.834 84.267 559.683 Q83.4393 556.5 81.7839 553.381 L87.3231 553.381 Q88.6602 556.532 89.3605 559.842 Q90.0609 563.152 90.0609 566.558 Q90.0609 575.088 85.0947 580.085 Q80.1286 585.05 71.6606 585.05 Q62.9061 585.05 57.7808 580.339 Q52.6236 575.597 52.6236 567.576 Q52.6236 560.383 57.2714 556.213 Q61.8874 552.012 69.846 552.012 M68.127 557.868 Q63.32 557.932 60.4549 560.574 Q57.5898 563.184 57.5898 567.513 Q57.5898 572.414 60.3594 575.374 Q63.129 578.302 68.1588 578.748 L68.127 557.868 Z\" fill=\"#000000\" fill-rule=\"evenodd\" fill-opacity=\"1\" /><path clip-path=\"url(#clip380)\" d=\"M 0 0 M67.6176 516.237 L89.1377 516.237 L89.1377 522.093 L67.8086 522.093 Q62.747 522.093 60.232 524.067 Q57.7171 526.04 57.7171 529.987 Q57.7171 534.729 60.7414 537.466 Q63.7657 540.204 68.9865 540.204 L89.1377 540.204 L89.1377 546.092 L53.4831 546.092 L53.4831 540.204 L59.0223 540.204 Q55.8071 538.103 54.2153 535.27 Q52.6236 532.406 52.6236 528.682 Q52.6236 522.539 56.4437 519.388 Q60.232 516.237 67.6176 516.237 Z\" fill=\"#000000\" fill-rule=\"evenodd\" fill-opacity=\"1\" /><path clip-path=\"url(#clip380)\" d=\"M 0 0 M75.0669 510.699 L53.4831 510.699 L53.4831 504.842 L74.844 504.842 Q79.9057 504.842 82.4525 502.869 Q84.9674 500.895 84.9674 496.949 Q84.9674 492.206 81.9431 489.469 Q78.9189 486.7 73.698 486.7 L53.4831 486.7 L53.4831 480.843 L89.1377 480.843 L89.1377 486.7 L83.6622 486.7 Q86.9093 488.832 88.501 491.665 Q90.0609 494.466 90.0609 498.19 Q90.0609 504.333 86.2408 507.516 Q82.4206 510.699 75.0669 510.699 M52.6236 495.962 L52.6236 495.962 Z\" fill=\"#000000\" fill-rule=\"evenodd\" fill-opacity=\"1\" /><path clip-path=\"url(#clip380)\" d=\"M 0 0 M69.846 444.209 L72.7111 444.209 L72.7111 471.136 Q78.7597 470.754 81.9431 467.507 Q85.0947 464.229 85.0947 458.404 Q85.0947 455.03 84.267 451.879 Q83.4393 448.697 81.7839 445.577 L87.3231 445.577 Q88.6602 448.728 89.3605 452.039 Q90.0609 455.349 90.0609 458.754 Q90.0609 467.284 85.0947 472.282 Q80.1286 477.247 71.6606 477.247 Q62.9061 477.247 57.7808 472.536 Q52.6236 467.794 52.6236 459.773 Q52.6236 452.58 57.2714 448.41 Q61.8874 444.209 69.846 444.209 M68.127 450.065 Q63.32 450.129 60.4549 452.771 Q57.5898 455.381 57.5898 459.709 Q57.5898 464.611 60.3594 467.571 Q63.129 470.499 68.1588 470.945 L68.127 450.065 Z\" fill=\"#000000\" fill-rule=\"evenodd\" fill-opacity=\"1\" /><polyline clip-path=\"url(#clip382)\" style=\"stroke:#0000ff; stroke-width:0; stroke-opacity:0.75; fill:none\" points=\"\n",
       "  490.475,1063.37 264.344,1063.37 716.605,1063.37 490.475,1063.37 490.475,944.034 \n",
       "  \"/>\n",
       "<polyline clip-path=\"url(#clip382)\" style=\"stroke:#0000ff; stroke-width:0; stroke-opacity:0.75; fill:none\" points=\"\n",
       "  264.344,944.034 264.344,776.96 490.475,776.96 716.605,776.96 716.605,944.034 264.344,944.034 \n",
       "  \"/>\n",
       "<polyline clip-path=\"url(#clip382)\" style=\"stroke:#0000ff; stroke-width:0; stroke-opacity:0.75; fill:none\" points=\"\n",
       "  264.344,586.018 264.344,776.96 716.605,776.96 716.605,586.018 264.344,586.018 \n",
       "  \"/>\n",
       "<polyline clip-path=\"url(#clip382)\" style=\"stroke:#0000ff; stroke-width:0; stroke-opacity:0.75; fill:none\" points=\"\n",
       "  490.475,363.253 264.344,363.253 716.605,363.253 490.475,363.253 490.475,586.018 \n",
       "  \"/>\n",
       "<path clip-path=\"url(#clip382)\" d=\"\n",
       "M490.475 1063.37 L264.344 1063.37 L716.605 1063.37 L490.475 1063.37 L490.475 944.034 L490.475 1063.37  Z\n",
       "  \" fill=\"#0000ff\" fill-rule=\"evenodd\" fill-opacity=\"0.75\"/>\n",
       "<polyline clip-path=\"url(#clip382)\" style=\"stroke:#000000; stroke-width:4; stroke-opacity:0.75; fill:none\" points=\"\n",
       "  490.475,1063.37 264.344,1063.37 716.605,1063.37 490.475,1063.37 490.475,944.034 490.475,1063.37 \n",
       "  \"/>\n",
       "<path clip-path=\"url(#clip382)\" d=\"\n",
       "M264.344 944.034 L264.344 776.96 L490.475 776.96 L716.605 776.96 L716.605 944.034 L264.344 944.034 L264.344 944.034  Z\n",
       "  \" fill=\"#0000ff\" fill-rule=\"evenodd\" fill-opacity=\"0.75\"/>\n",
       "<polyline clip-path=\"url(#clip382)\" style=\"stroke:#000000; stroke-width:4; stroke-opacity:0.75; fill:none\" points=\"\n",
       "  264.344,944.034 264.344,776.96 490.475,776.96 716.605,776.96 716.605,944.034 264.344,944.034 \n",
       "  \"/>\n",
       "<path clip-path=\"url(#clip382)\" d=\"\n",
       "M264.344 586.018 L264.344 776.96 L716.605 776.96 L716.605 586.018 L264.344 586.018 L264.344 586.018  Z\n",
       "  \" fill=\"#0000ff\" fill-rule=\"evenodd\" fill-opacity=\"0.75\"/>\n",
       "<polyline clip-path=\"url(#clip382)\" style=\"stroke:#000000; stroke-width:4; stroke-opacity:0.75; fill:none\" points=\"\n",
       "  264.344,586.018 264.344,776.96 716.605,776.96 716.605,586.018 264.344,586.018 \n",
       "  \"/>\n",
       "<path clip-path=\"url(#clip382)\" d=\"\n",
       "M490.475 363.253 L264.344 363.253 L716.605 363.253 L490.475 363.253 L490.475 586.018 L490.475 363.253  Z\n",
       "  \" fill=\"#0000ff\" fill-rule=\"evenodd\" fill-opacity=\"0.75\"/>\n",
       "<polyline clip-path=\"url(#clip382)\" style=\"stroke:#000000; stroke-width:4; stroke-opacity:0.75; fill:none\" points=\"\n",
       "  490.475,363.253 264.344,363.253 716.605,363.253 490.475,363.253 490.475,586.018 490.475,363.253 \n",
       "  \"/>\n",
       "<polyline clip-path=\"url(#clip382)\" style=\"stroke:#000000; stroke-width:0; stroke-opacity:0.75; fill:none\" points=\"\n",
       "  1055.8,1063.37 829.671,1063.37 1281.93,1063.37 1055.8,1063.37 1055.8,944.034 \n",
       "  \"/>\n",
       "<polyline clip-path=\"url(#clip382)\" style=\"stroke:#000000; stroke-width:0; stroke-opacity:0.75; fill:none\" points=\"\n",
       "  829.671,944.034 829.671,745.137 1055.8,745.137 1281.93,745.137 1281.93,944.034 829.671,944.034 \n",
       "  \"/>\n",
       "<polyline clip-path=\"url(#clip382)\" style=\"stroke:#000000; stroke-width:0; stroke-opacity:0.75; fill:none\" points=\"\n",
       "  829.671,586.018 829.671,745.137 1281.93,745.137 1281.93,586.018 829.671,586.018 \n",
       "  \"/>\n",
       "<polyline clip-path=\"url(#clip382)\" style=\"stroke:#000000; stroke-width:0; stroke-opacity:0.75; fill:none\" points=\"\n",
       "  1055.8,395.077 829.671,395.077 1281.93,395.077 1055.8,395.077 1055.8,586.018 \n",
       "  \"/>\n",
       "<path clip-path=\"url(#clip382)\" d=\"\n",
       "M1055.8 1063.37 L829.671 1063.37 L1281.93 1063.37 L1055.8 1063.37 L1055.8 944.034 L1055.8 1063.37  Z\n",
       "  \" fill=\"#000000\" fill-rule=\"evenodd\" fill-opacity=\"0.75\"/>\n",
       "<polyline clip-path=\"url(#clip382)\" style=\"stroke:#000000; stroke-width:4; stroke-opacity:0.75; fill:none\" points=\"\n",
       "  1055.8,1063.37 829.671,1063.37 1281.93,1063.37 1055.8,1063.37 1055.8,944.034 1055.8,1063.37 \n",
       "  \"/>\n",
       "<path clip-path=\"url(#clip382)\" d=\"\n",
       "M829.671 944.034 L829.671 745.137 L1055.8 745.137 L1281.93 745.137 L1281.93 944.034 L829.671 944.034 L829.671 944.034  Z\n",
       "  \" fill=\"#000000\" fill-rule=\"evenodd\" fill-opacity=\"0.75\"/>\n",
       "<polyline clip-path=\"url(#clip382)\" style=\"stroke:#000000; stroke-width:4; stroke-opacity:0.75; fill:none\" points=\"\n",
       "  829.671,944.034 829.671,745.137 1055.8,745.137 1281.93,745.137 1281.93,944.034 829.671,944.034 \n",
       "  \"/>\n",
       "<path clip-path=\"url(#clip382)\" d=\"\n",
       "M829.671 586.018 L829.671 745.137 L1281.93 745.137 L1281.93 586.018 L829.671 586.018 L829.671 586.018  Z\n",
       "  \" fill=\"#000000\" fill-rule=\"evenodd\" fill-opacity=\"0.75\"/>\n",
       "<polyline clip-path=\"url(#clip382)\" style=\"stroke:#000000; stroke-width:4; stroke-opacity:0.75; fill:none\" points=\"\n",
       "  829.671,586.018 829.671,745.137 1281.93,745.137 1281.93,586.018 829.671,586.018 \n",
       "  \"/>\n",
       "<path clip-path=\"url(#clip382)\" d=\"\n",
       "M1055.8 395.077 L829.671 395.077 L1281.93 395.077 L1055.8 395.077 L1055.8 586.018 L1055.8 395.077  Z\n",
       "  \" fill=\"#000000\" fill-rule=\"evenodd\" fill-opacity=\"0.75\"/>\n",
       "<polyline clip-path=\"url(#clip382)\" style=\"stroke:#000000; stroke-width:4; stroke-opacity:0.75; fill:none\" points=\"\n",
       "  1055.8,395.077 829.671,395.077 1281.93,395.077 1055.8,395.077 1055.8,586.018 1055.8,395.077 \n",
       "  \"/>\n",
       "<polyline clip-path=\"url(#clip382)\" style=\"stroke:#008000; stroke-width:0; stroke-opacity:0.75; fill:none\" points=\"\n",
       "  1621.13,1063.37 1395,1063.37 1847.26,1063.37 1621.13,1063.37 1621.13,745.137 \n",
       "  \"/>\n",
       "<polyline clip-path=\"url(#clip382)\" style=\"stroke:#008000; stroke-width:0; stroke-opacity:0.75; fill:none\" points=\"\n",
       "  1395,745.137 1395,490.547 1621.13,490.547 1847.26,490.547 1847.26,745.137 1395,745.137 \n",
       "  \"/>\n",
       "<polyline clip-path=\"url(#clip382)\" style=\"stroke:#008000; stroke-width:0; stroke-opacity:0.75; fill:none\" points=\"\n",
       "  1395,363.253 1395,490.547 1847.26,490.547 1847.26,363.253 1395,363.253 \n",
       "  \"/>\n",
       "<polyline clip-path=\"url(#clip382)\" style=\"stroke:#008000; stroke-width:0; stroke-opacity:0.75; fill:none\" points=\"\n",
       "  1621.13,76.8401 1395,76.8401 1847.26,76.8401 1621.13,76.8401 1621.13,363.253 \n",
       "  \"/>\n",
       "<path clip-path=\"url(#clip382)\" d=\"\n",
       "M1621.13 1063.37 L1395 1063.37 L1847.26 1063.37 L1621.13 1063.37 L1621.13 745.137 L1621.13 1063.37  Z\n",
       "  \" fill=\"#008000\" fill-rule=\"evenodd\" fill-opacity=\"0.75\"/>\n",
       "<polyline clip-path=\"url(#clip382)\" style=\"stroke:#000000; stroke-width:4; stroke-opacity:0.75; fill:none\" points=\"\n",
       "  1621.13,1063.37 1395,1063.37 1847.26,1063.37 1621.13,1063.37 1621.13,745.137 1621.13,1063.37 \n",
       "  \"/>\n",
       "<path clip-path=\"url(#clip382)\" d=\"\n",
       "M1395 745.137 L1395 490.547 L1621.13 490.547 L1847.26 490.547 L1847.26 745.137 L1395 745.137 L1395 745.137  Z\n",
       "  \" fill=\"#008000\" fill-rule=\"evenodd\" fill-opacity=\"0.75\"/>\n",
       "<polyline clip-path=\"url(#clip382)\" style=\"stroke:#000000; stroke-width:4; stroke-opacity:0.75; fill:none\" points=\"\n",
       "  1395,745.137 1395,490.547 1621.13,490.547 1847.26,490.547 1847.26,745.137 1395,745.137 \n",
       "  \"/>\n",
       "<path clip-path=\"url(#clip382)\" d=\"\n",
       "M1395 363.253 L1395 490.547 L1847.26 490.547 L1847.26 363.253 L1395 363.253 L1395 363.253  Z\n",
       "  \" fill=\"#008000\" fill-rule=\"evenodd\" fill-opacity=\"0.75\"/>\n",
       "<polyline clip-path=\"url(#clip382)\" style=\"stroke:#000000; stroke-width:4; stroke-opacity:0.75; fill:none\" points=\"\n",
       "  1395,363.253 1395,490.547 1847.26,490.547 1847.26,363.253 1395,363.253 \n",
       "  \"/>\n",
       "<path clip-path=\"url(#clip382)\" d=\"\n",
       "M1621.13 76.8401 L1395 76.8401 L1847.26 76.8401 L1621.13 76.8401 L1621.13 363.253 L1621.13 76.8401  Z\n",
       "  \" fill=\"#008000\" fill-rule=\"evenodd\" fill-opacity=\"0.75\"/>\n",
       "<polyline clip-path=\"url(#clip382)\" style=\"stroke:#000000; stroke-width:4; stroke-opacity:0.75; fill:none\" points=\"\n",
       "  1621.13,76.8401 1395,76.8401 1847.26,76.8401 1621.13,76.8401 1621.13,363.253 1621.13,76.8401 \n",
       "  \"/>\n",
       "</svg>\n"
      ]
     },
     "execution_count": 23,
     "metadata": {},
     "output_type": "execute_result"
    }
   ],
   "source": [
    "boxplot(ones(100), rs.mc; label=\"MCTS\", color=:blue, alpha=0.75, \n",
    "    legend=false, \n",
    "    ylabel=\"Revenue\", \n",
    "    xtick = ([1,2,3],[\"MCTS\",\"VI\",\"hindsight\"]), \n",
    "    size=plot_size\n",
    ")\n",
    "boxplot!(2*ones(100), rs.vi, label=\"VI\", color=:black, alpha=0.75)\n",
    "boxplot!(3*ones(100), rs.hind, color=:green, alpha=0.75, label=\"hindsight\")"
   ]
  },
  {
   "cell_type": "code",
   "execution_count": 24,
   "metadata": {},
   "outputs": [],
   "source": [
    "savefig(papersdir(\"paper_AAMAS2021_MCTS_pricing\", \"fig\", \"plt_small_boxplot.pdf\"))"
   ]
  },
  {
   "cell_type": "markdown",
   "metadata": {},
   "source": [
    "## plot"
   ]
  },
  {
   "cell_type": "code",
   "execution_count": 44,
   "metadata": {},
   "outputs": [
    {
     "data": {
      "text/html": [
       "<table class=\"data-frame\"><thead><tr><th></th><th>demand</th><th>n_iterations</th><th>n_runs</th><th>r_flat</th><th>r_hind</th><th>r_mc</th><th>r_vi</th><th>u_flat</th><th>u_hind</th></tr><tr><th></th><th>Float64</th><th>Int64</th><th>Int64</th><th>Float64</th><th>Float64</th><th>Float64</th><th>Float64</th><th>Float64</th><th>Float64</th></tr></thead><tbody><p>6 rows × 11 columns (omitted printing of 2 columns)</p><tr><th>1</th><td>1.5</td><td>5000</td><td>100</td><td>2.59</td><td>2.81</td><td>2.57</td><td>2.6</td><td>0.0</td><td>2.81</td></tr><tr><th>2</th><td>3.0</td><td>5000</td><td>100</td><td>4.08</td><td>4.49</td><td>4.09</td><td>4.07</td><td>0.0</td><td>4.49</td></tr><tr><th>3</th><td>4.5</td><td>5000</td><td>100</td><td>4.56</td><td>5.24</td><td>4.75</td><td>4.76</td><td>0.0</td><td>5.24</td></tr><tr><th>4</th><td>6.0</td><td>5000</td><td>100</td><td>4.91</td><td>5.72</td><td>5.2</td><td>5.21</td><td>0.0</td><td>5.72</td></tr><tr><th>5</th><td>7.5</td><td>5000</td><td>100</td><td>5.08</td><td>5.86</td><td>5.45</td><td>5.48</td><td>0.0</td><td>5.86</td></tr><tr><th>6</th><td>9.0</td><td>5000</td><td>100</td><td>5.11</td><td>5.95</td><td>5.66</td><td>5.72</td><td>37.35</td><td>5.95</td></tr></tbody></table>"
      ],
      "text/latex": [
       "\\begin{tabular}{r|cccccccccc}\n",
       "\t& demand & n\\_iterations & n\\_runs & r\\_flat & r\\_hind & r\\_mc & r\\_vi & u\\_flat & u\\_hind & \\\\\n",
       "\t\\hline\n",
       "\t& Float64 & Int64 & Int64 & Float64 & Float64 & Float64 & Float64 & Float64 & Float64 & \\\\\n",
       "\t\\hline\n",
       "\t1 & 1.5 & 5000 & 100 & 2.59 & 2.81 & 2.57 & 2.6 & 0.0 & 2.81 & $\\dots$ \\\\\n",
       "\t2 & 3.0 & 5000 & 100 & 4.08 & 4.49 & 4.09 & 4.07 & 0.0 & 4.49 & $\\dots$ \\\\\n",
       "\t3 & 4.5 & 5000 & 100 & 4.56 & 5.24 & 4.75 & 4.76 & 0.0 & 5.24 & $\\dots$ \\\\\n",
       "\t4 & 6.0 & 5000 & 100 & 4.91 & 5.72 & 5.2 & 5.21 & 0.0 & 5.72 & $\\dots$ \\\\\n",
       "\t5 & 7.5 & 5000 & 100 & 5.08 & 5.86 & 5.45 & 5.48 & 0.0 & 5.86 & $\\dots$ \\\\\n",
       "\t6 & 9.0 & 5000 & 100 & 5.11 & 5.95 & 5.66 & 5.72 & 37.35 & 5.95 & $\\dots$ \\\\\n",
       "\\end{tabular}\n"
      ],
      "text/plain": [
       "6×11 DataFrame. Omitted printing of 5 columns\n",
       "│ Row │ demand  │ n_iterations │ n_runs │ r_flat  │ r_hind  │ r_mc    │\n",
       "│     │ \u001b[90mFloat64\u001b[39m │ \u001b[90mInt64\u001b[39m        │ \u001b[90mInt64\u001b[39m  │ \u001b[90mFloat64\u001b[39m │ \u001b[90mFloat64\u001b[39m │ \u001b[90mFloat64\u001b[39m │\n",
       "├─────┼─────────┼──────────────┼────────┼─────────┼─────────┼─────────┤\n",
       "│ 1   │ 1.5     │ 5000         │ 100    │ 2.59    │ 2.81    │ 2.57    │\n",
       "│ 2   │ 3.0     │ 5000         │ 100    │ 4.08    │ 4.49    │ 4.09    │\n",
       "│ 3   │ 4.5     │ 5000         │ 100    │ 4.56    │ 5.24    │ 4.75    │\n",
       "│ 4   │ 6.0     │ 5000         │ 100    │ 4.91    │ 5.72    │ 5.2     │\n",
       "│ 5   │ 7.5     │ 5000         │ 100    │ 5.08    │ 5.86    │ 5.45    │\n",
       "│ 6   │ 9.0     │ 5000         │ 100    │ 5.11    │ 5.95    │ 5.66    │"
      ]
     },
     "execution_count": 44,
     "metadata": {},
     "output_type": "execute_result"
    }
   ],
   "source": [
    "r_flat =  get_result(df, :r, :flat)\n",
    "r_mc=get_result(df, :r, :mc)\n",
    "r_vi=get_result(df, :r, :vi)\n",
    "r_hind =get_result(df, :r, :hind);\n",
    "\n",
    "u_flat =  get_result(df, :u, :flat)\n",
    "u_mc=get_result(df, :u, :mc)\n",
    "u_vi=get_result(df, :u, :vi)\n",
    "u_hind =get_result(df, :u, :hind);\n",
    "\n",
    "n_runs = get_param(df, :exp, :n_runs)\n",
    "n_iterations = get_param(df, :mcts, :n_iterations) \n",
    "demand = map(sum, get_param(df, :mdp, :demand))\n",
    "\n",
    "mdf = DataFrame(@dict r_flat r_mc r_vi r_hind u_flat u_mc u_vi u_hind n_runs n_iterations demand )\n",
    "sort!(mdf)"
   ]
  },
  {
   "cell_type": "code",
   "execution_count": 9,
   "metadata": {},
   "outputs": [
    {
     "data": {
      "text/html": [
       "<table class=\"data-frame\"><thead><tr><th></th><th>demand</th><th>n_iterations</th><th>n_runs</th><th>r_flat</th><th>r_hind</th><th>r_mc</th><th>r_vi</th><th>u_flat</th><th>u_hind</th></tr><tr><th></th><th>Float64</th><th>Int64</th><th>Int64</th><th>Float64</th><th>Float64</th><th>Float64</th><th>Float64</th><th>Float64</th><th>Float64</th></tr></thead><tbody><p>6 rows × 9 columns</p><tr><th>1</th><td>1.5</td><td>5000</td><td>100</td><td>2.59</td><td>2.81</td><td>2.57</td><td>2.6</td><td>0.0</td><td>2.81</td></tr><tr><th>2</th><td>3.0</td><td>5000</td><td>100</td><td>4.08</td><td>4.49</td><td>4.09</td><td>4.07</td><td>0.0</td><td>4.49</td></tr><tr><th>3</th><td>4.5</td><td>5000</td><td>100</td><td>4.56</td><td>5.24</td><td>4.75</td><td>4.76</td><td>0.0</td><td>5.24</td></tr><tr><th>4</th><td>6.0</td><td>5000</td><td>100</td><td>4.91</td><td>5.72</td><td>5.2</td><td>5.21</td><td>0.0</td><td>5.72</td></tr><tr><th>5</th><td>7.5</td><td>5000</td><td>100</td><td>5.08</td><td>5.86</td><td>5.45</td><td>5.48</td><td>0.0</td><td>5.86</td></tr><tr><th>6</th><td>9.0</td><td>5000</td><td>100</td><td>5.11</td><td>5.95</td><td>5.66</td><td>5.72</td><td>37.35</td><td>5.95</td></tr></tbody></table>"
      ],
      "text/latex": [
       "\\begin{tabular}{r|ccccccccc}\n",
       "\t& demand & n\\_iterations & n\\_runs & r\\_flat & r\\_hind & r\\_mc & r\\_vi & u\\_flat & u\\_hind\\\\\n",
       "\t\\hline\n",
       "\t& Float64 & Int64 & Int64 & Float64 & Float64 & Float64 & Float64 & Float64 & Float64\\\\\n",
       "\t\\hline\n",
       "\t1 & 1.5 & 5000 & 100 & 2.59 & 2.81 & 2.57 & 2.6 & 0.0 & 2.81 \\\\\n",
       "\t2 & 3.0 & 5000 & 100 & 4.08 & 4.49 & 4.09 & 4.07 & 0.0 & 4.49 \\\\\n",
       "\t3 & 4.5 & 5000 & 100 & 4.56 & 5.24 & 4.75 & 4.76 & 0.0 & 5.24 \\\\\n",
       "\t4 & 6.0 & 5000 & 100 & 4.91 & 5.72 & 5.2 & 5.21 & 0.0 & 5.72 \\\\\n",
       "\t5 & 7.5 & 5000 & 100 & 5.08 & 5.86 & 5.45 & 5.48 & 0.0 & 5.86 \\\\\n",
       "\t6 & 9.0 & 5000 & 100 & 5.11 & 5.95 & 5.66 & 5.72 & 37.35 & 5.95 \\\\\n",
       "\\end{tabular}\n"
      ],
      "text/plain": [
       "6×9 DataFrame. Omitted printing of 3 columns\n",
       "│ Row │ demand  │ n_iterations │ n_runs │ r_flat  │ r_hind  │ r_mc    │\n",
       "│     │ \u001b[90mFloat64\u001b[39m │ \u001b[90mInt64\u001b[39m        │ \u001b[90mInt64\u001b[39m  │ \u001b[90mFloat64\u001b[39m │ \u001b[90mFloat64\u001b[39m │ \u001b[90mFloat64\u001b[39m │\n",
       "├─────┼─────────┼──────────────┼────────┼─────────┼─────────┼─────────┤\n",
       "│ 1   │ 1.5     │ 5000         │ 100    │ 2.59    │ 2.81    │ 2.57    │\n",
       "│ 2   │ 3.0     │ 5000         │ 100    │ 4.08    │ 4.49    │ 4.09    │\n",
       "│ 3   │ 4.5     │ 5000         │ 100    │ 4.56    │ 5.24    │ 4.75    │\n",
       "│ 4   │ 6.0     │ 5000         │ 100    │ 4.91    │ 5.72    │ 5.2     │\n",
       "│ 5   │ 7.5     │ 5000         │ 100    │ 5.08    │ 5.86    │ 5.45    │\n",
       "│ 6   │ 9.0     │ 5000         │ 100    │ 5.11    │ 5.95    │ 5.66    │"
      ]
     },
     "execution_count": 9,
     "metadata": {},
     "output_type": "execute_result"
    }
   ],
   "source": [
    "mdf = CSV.read(datadir(\"exp_pro\", \"exp_small_d_u.csv\"), DataFrame; delim=\";\")"
   ]
  },
  {
   "cell_type": "code",
   "execution_count": 10,
   "metadata": {},
   "outputs": [
    {
     "data": {
      "image/svg+xml": [
       "<?xml version=\"1.0\" encoding=\"utf-8\"?>\n",
       "<svg xmlns=\"http://www.w3.org/2000/svg\" xmlns:xlink=\"http://www.w3.org/1999/xlink\" width=\"485.5\" height=\"300\" viewBox=\"0 0 1942 1200\">\n",
       "<defs>\n",
       "  <clipPath id=\"clip620\">\n",
       "    <rect x=\"0\" y=\"0\" width=\"1942\" height=\"1200\"/>\n",
       "  </clipPath>\n",
       "</defs>\n",
       "<path clip-path=\"url(#clip620)\" d=\"\n",
       "M0 1200 L1942 1200 L1942 0 L0 0  Z\n",
       "  \" fill=\"#ffffff\" fill-rule=\"evenodd\" fill-opacity=\"1\"/>\n",
       "<defs>\n",
       "  <clipPath id=\"clip621\">\n",
       "    <rect x=\"388\" y=\"0\" width=\"1360\" height=\"1200\"/>\n",
       "  </clipPath>\n",
       "</defs>\n",
       "<path clip-path=\"url(#clip620)\" d=\"\n",
       "M167.426 1033.17 L1894.75 1033.17 L1894.75 47.2441 L167.426 47.2441  Z\n",
       "  \" fill=\"#ffffff\" fill-rule=\"evenodd\" fill-opacity=\"1\"/>\n",
       "<defs>\n",
       "  <clipPath id=\"clip622\">\n",
       "    <rect x=\"167\" y=\"47\" width=\"1728\" height=\"987\"/>\n",
       "  </clipPath>\n",
       "</defs>\n",
       "<polyline clip-path=\"url(#clip622)\" style=\"stroke:#000000; stroke-width:2; stroke-opacity:0.1; fill:none\" points=\"\n",
       "  324.949,1033.17 324.949,47.2441 \n",
       "  \"/>\n",
       "<polyline clip-path=\"url(#clip622)\" style=\"stroke:#000000; stroke-width:2; stroke-opacity:0.1; fill:none\" points=\"\n",
       "  759.495,1033.17 759.495,47.2441 \n",
       "  \"/>\n",
       "<polyline clip-path=\"url(#clip622)\" style=\"stroke:#000000; stroke-width:2; stroke-opacity:0.1; fill:none\" points=\"\n",
       "  1194.04,1033.17 1194.04,47.2441 \n",
       "  \"/>\n",
       "<polyline clip-path=\"url(#clip622)\" style=\"stroke:#000000; stroke-width:2; stroke-opacity:0.1; fill:none\" points=\"\n",
       "  1628.59,1033.17 1628.59,47.2441 \n",
       "  \"/>\n",
       "<polyline clip-path=\"url(#clip620)\" style=\"stroke:#000000; stroke-width:4; stroke-opacity:1; fill:none\" points=\"\n",
       "  167.426,1033.17 1894.75,1033.17 \n",
       "  \"/>\n",
       "<polyline clip-path=\"url(#clip620)\" style=\"stroke:#000000; stroke-width:4; stroke-opacity:1; fill:none\" points=\"\n",
       "  324.949,1033.17 324.949,1021.34 \n",
       "  \"/>\n",
       "<polyline clip-path=\"url(#clip620)\" style=\"stroke:#000000; stroke-width:4; stroke-opacity:1; fill:none\" points=\"\n",
       "  759.495,1033.17 759.495,1021.34 \n",
       "  \"/>\n",
       "<polyline clip-path=\"url(#clip620)\" style=\"stroke:#000000; stroke-width:4; stroke-opacity:1; fill:none\" points=\"\n",
       "  1194.04,1033.17 1194.04,1021.34 \n",
       "  \"/>\n",
       "<polyline clip-path=\"url(#clip620)\" style=\"stroke:#000000; stroke-width:4; stroke-opacity:1; fill:none\" points=\"\n",
       "  1628.59,1033.17 1628.59,1021.34 \n",
       "  \"/>\n",
       "<path clip-path=\"url(#clip620)\" d=\"M 0 0 M319.601 1086.24 L335.923 1086.24 L335.923 1090.17 L313.975 1090.17 L313.975 1086.24 Q316.637 1083.48 321.222 1078.85 Q325.829 1074.2 327.01 1072.86 Q329.255 1070.33 330.135 1068.6 Q331.038 1066.84 331.038 1065.15 Q331.038 1062.39 329.093 1060.66 Q327.172 1058.92 324.069 1058.92 Q321.87 1058.92 319.416 1059.69 Q316.985 1060.45 314.206 1062 L314.206 1057.28 Q317.031 1056.15 319.485 1055.57 Q321.939 1054.99 323.977 1054.99 Q329.348 1054.99 332.543 1057.67 Q335.738 1060.36 335.738 1064.85 Q335.738 1066.98 334.928 1068.9 Q334.141 1070.8 332.034 1073.39 Q331.455 1074.06 328.352 1077.28 Q325.25 1080.47 319.601 1086.24 Z\" fill=\"#000000\" fill-rule=\"evenodd\" fill-opacity=\"1\" /><path clip-path=\"url(#clip620)\" d=\"M 0 0 M762.505 1059.69 L750.697 1078.14 L762.505 1078.14 L762.505 1059.69 M761.278 1055.61 L767.159 1055.61 L767.159 1078.14 L772.09 1078.14 L772.09 1082.02 L767.159 1082.02 L767.159 1090.17 L762.505 1090.17 L762.505 1082.02 L746.9 1082.02 L746.9 1077.51 L761.278 1055.61 Z\" fill=\"#000000\" fill-rule=\"evenodd\" fill-opacity=\"1\" /><path clip-path=\"url(#clip620)\" d=\"M 0 0 M1194.45 1071.03 Q1191.3 1071.03 1189.45 1073.18 Q1187.62 1075.33 1187.62 1079.08 Q1187.62 1082.81 1189.45 1084.99 Q1191.3 1087.14 1194.45 1087.14 Q1197.6 1087.14 1199.42 1084.99 Q1201.28 1082.81 1201.28 1079.08 Q1201.28 1075.33 1199.42 1073.18 Q1197.6 1071.03 1194.45 1071.03 M1203.73 1056.38 L1203.73 1060.64 Q1201.97 1059.8 1200.17 1059.36 Q1198.38 1058.92 1196.62 1058.92 Q1191.99 1058.92 1189.54 1062.05 Q1187.11 1065.17 1186.76 1071.49 Q1188.13 1069.48 1190.19 1068.41 Q1192.25 1067.33 1194.72 1067.33 Q1199.93 1067.33 1202.94 1070.5 Q1205.98 1073.64 1205.98 1079.08 Q1205.98 1084.41 1202.83 1087.63 Q1199.68 1090.84 1194.45 1090.84 Q1188.45 1090.84 1185.28 1086.26 Q1182.11 1081.65 1182.11 1072.93 Q1182.11 1064.73 1186 1059.87 Q1189.89 1054.99 1196.44 1054.99 Q1198.2 1054.99 1199.98 1055.33 Q1201.79 1055.68 1203.73 1056.38 Z\" fill=\"#000000\" fill-rule=\"evenodd\" fill-opacity=\"1\" /><path clip-path=\"url(#clip620)\" d=\"M 0 0 M1628.59 1073.76 Q1625.25 1073.76 1623.33 1075.54 Q1621.43 1077.33 1621.43 1080.45 Q1621.43 1083.58 1623.33 1085.36 Q1625.25 1087.14 1628.59 1087.14 Q1631.92 1087.14 1633.84 1085.36 Q1635.76 1083.55 1635.76 1080.45 Q1635.76 1077.33 1633.84 1075.54 Q1631.94 1073.76 1628.59 1073.76 M1623.91 1071.77 Q1620.9 1071.03 1619.21 1068.97 Q1617.54 1066.91 1617.54 1063.95 Q1617.54 1059.8 1620.48 1057.4 Q1623.45 1054.99 1628.59 1054.99 Q1633.75 1054.99 1636.69 1057.4 Q1639.63 1059.8 1639.63 1063.95 Q1639.63 1066.91 1637.94 1068.97 Q1636.27 1071.03 1633.29 1071.77 Q1636.67 1072.56 1638.54 1074.85 Q1640.44 1077.14 1640.44 1080.45 Q1640.44 1085.47 1637.36 1088.16 Q1634.31 1090.84 1628.59 1090.84 Q1622.87 1090.84 1619.79 1088.16 Q1616.73 1085.47 1616.73 1080.45 Q1616.73 1077.14 1618.63 1074.85 Q1620.53 1072.56 1623.91 1071.77 M1622.2 1064.39 Q1622.2 1067.07 1623.86 1068.58 Q1625.55 1070.08 1628.59 1070.08 Q1631.6 1070.08 1633.29 1068.58 Q1635 1067.07 1635 1064.39 Q1635 1061.7 1633.29 1060.2 Q1631.6 1058.69 1628.59 1058.69 Q1625.55 1058.69 1623.86 1060.2 Q1622.2 1061.7 1622.2 1064.39 Z\" fill=\"#000000\" fill-rule=\"evenodd\" fill-opacity=\"1\" /><path clip-path=\"url(#clip620)\" d=\"M 0 0 M768.325 1113.93 L798.377 1113.93 L798.377 1119.34 L774.756 1119.34 L774.756 1133.41 L797.39 1133.41 L797.39 1138.82 L774.756 1138.82 L774.756 1156.04 L798.95 1156.04 L798.95 1161.45 L768.325 1161.45 L768.325 1113.93 Z\" fill=\"#000000\" fill-rule=\"evenodd\" fill-opacity=\"1\" /><path clip-path=\"url(#clip620)\" d=\"M 0 0 M834.732 1125.8 L821.839 1143.15 L835.4 1161.45 L828.492 1161.45 L818.114 1147.44 L807.736 1161.45 L800.828 1161.45 L814.676 1142.8 L802.006 1125.8 L808.914 1125.8 L818.369 1138.5 L827.824 1125.8 L834.732 1125.8 Z\" fill=\"#000000\" fill-rule=\"evenodd\" fill-opacity=\"1\" /><path clip-path=\"url(#clip620)\" d=\"M 0 0 M847.211 1156.1 L847.211 1175.01 L841.322 1175.01 L841.322 1125.8 L847.211 1125.8 L847.211 1131.21 Q849.057 1128.03 851.859 1126.5 Q854.692 1124.94 858.608 1124.94 Q865.102 1124.94 869.145 1130.1 Q873.22 1135.25 873.22 1143.66 Q873.22 1152.06 869.145 1157.21 Q865.102 1162.37 858.608 1162.37 Q854.692 1162.37 851.859 1160.84 Q849.057 1159.28 847.211 1156.1 M867.139 1143.66 Q867.139 1137.19 864.465 1133.53 Q861.823 1129.84 857.175 1129.84 Q852.527 1129.84 849.853 1133.53 Q847.211 1137.19 847.211 1143.66 Q847.211 1150.12 849.853 1153.81 Q852.527 1157.47 857.175 1157.47 Q861.823 1157.47 864.465 1153.81 Q867.139 1150.12 867.139 1143.66 Z\" fill=\"#000000\" fill-rule=\"evenodd\" fill-opacity=\"1\" /><path clip-path=\"url(#clip620)\" d=\"M 0 0 M909.861 1142.16 L909.861 1145.02 L882.929 1145.02 Q883.311 1151.07 886.558 1154.25 Q889.837 1157.41 895.663 1157.41 Q899.037 1157.41 902.189 1156.58 Q905.372 1155.75 908.492 1154.1 L908.492 1159.63 Q905.341 1160.97 902.03 1161.67 Q898.719 1162.37 895.313 1162.37 Q886.781 1162.37 881.783 1157.41 Q876.817 1152.44 876.817 1143.97 Q876.817 1135.22 881.528 1130.1 Q886.272 1124.94 894.294 1124.94 Q901.489 1124.94 905.659 1129.59 Q909.861 1134.2 909.861 1142.16 M904.004 1140.44 Q903.94 1135.63 901.298 1132.77 Q898.687 1129.91 894.358 1129.91 Q889.455 1129.91 886.495 1132.67 Q883.566 1135.44 883.12 1140.47 L904.004 1140.44 Z\" fill=\"#000000\" fill-rule=\"evenodd\" fill-opacity=\"1\" /><path clip-path=\"url(#clip620)\" d=\"M 0 0 M941.664 1127.17 L941.664 1132.64 Q939.181 1131.27 936.666 1130.61 Q934.183 1129.91 931.636 1129.91 Q925.938 1129.91 922.786 1133.53 Q919.634 1137.13 919.634 1143.66 Q919.634 1150.18 922.786 1153.81 Q925.938 1157.41 931.636 1157.41 Q934.183 1157.41 936.666 1156.74 Q939.181 1156.04 941.664 1154.67 L941.664 1160.08 Q939.212 1161.23 936.57 1161.8 Q933.96 1162.37 930.999 1162.37 Q922.945 1162.37 918.202 1157.31 Q913.458 1152.25 913.458 1143.66 Q913.458 1134.93 918.234 1129.94 Q923.041 1124.94 931.381 1124.94 Q934.087 1124.94 936.666 1125.51 Q939.244 1126.05 941.664 1127.17 Z\" fill=\"#000000\" fill-rule=\"evenodd\" fill-opacity=\"1\" /><path clip-path=\"url(#clip620)\" d=\"M 0 0 M953.602 1115.68 L953.602 1125.8 L965.667 1125.8 L965.667 1130.35 L953.602 1130.35 L953.602 1149.7 Q953.602 1154.06 954.779 1155.3 Q955.989 1156.55 959.65 1156.55 L965.667 1156.55 L965.667 1161.45 L959.65 1161.45 Q952.869 1161.45 950.291 1158.93 Q947.712 1156.39 947.712 1149.7 L947.712 1130.35 L943.415 1130.35 L943.415 1125.8 L947.712 1125.8 L947.712 1115.68 L953.602 1115.68 Z\" fill=\"#000000\" fill-rule=\"evenodd\" fill-opacity=\"1\" /><path clip-path=\"url(#clip620)\" d=\"M 0 0 M1002.31 1142.16 L1002.31 1145.02 L975.376 1145.02 Q975.758 1151.07 979.005 1154.25 Q982.284 1157.41 988.11 1157.41 Q991.485 1157.41 994.636 1156.58 Q997.82 1155.75 1000.94 1154.1 L1000.94 1159.63 Q997.788 1160.97 994.477 1161.67 Q991.166 1162.37 987.76 1162.37 Q979.228 1162.37 974.23 1157.41 Q969.264 1152.44 969.264 1143.97 Q969.264 1135.22 973.976 1130.1 Q978.719 1124.94 986.741 1124.94 Q993.936 1124.94 998.106 1129.59 Q1002.31 1134.2 1002.31 1142.16 M996.451 1140.44 Q996.387 1135.63 993.745 1132.77 Q991.134 1129.91 986.805 1129.91 Q981.902 1129.91 978.942 1132.67 Q976.013 1135.44 975.567 1140.47 L996.451 1140.44 Z\" fill=\"#000000\" fill-rule=\"evenodd\" fill-opacity=\"1\" /><path clip-path=\"url(#clip620)\" d=\"M 0 0 M1031.91 1131.21 L1031.91 1111.92 L1037.77 1111.92 L1037.77 1161.45 L1031.91 1161.45 L1031.91 1156.1 Q1030.07 1159.28 1027.23 1160.84 Q1024.43 1162.37 1020.49 1162.37 Q1014.02 1162.37 1009.95 1157.21 Q1005.91 1152.06 1005.91 1143.66 Q1005.91 1135.25 1009.95 1130.1 Q1014.02 1124.94 1020.49 1124.94 Q1024.43 1124.94 1027.23 1126.5 Q1030.07 1128.03 1031.91 1131.21 M1011.95 1143.66 Q1011.95 1150.12 1014.6 1153.81 Q1017.27 1157.47 1021.92 1157.47 Q1026.57 1157.47 1029.24 1153.81 Q1031.91 1150.12 1031.91 1143.66 Q1031.91 1137.19 1029.24 1133.53 Q1026.57 1129.84 1021.92 1129.84 Q1017.27 1129.84 1014.6 1133.53 Q1011.95 1137.19 1011.95 1143.66 Z\" fill=\"#000000\" fill-rule=\"evenodd\" fill-opacity=\"1\" /><path clip-path=\"url(#clip620)\" d=\"M 0 0 M1088.1 1131.21 L1088.1 1111.92 L1093.96 1111.92 L1093.96 1161.45 L1088.1 1161.45 L1088.1 1156.1 Q1086.26 1159.28 1083.42 1160.84 Q1080.62 1162.37 1076.67 1162.37 Q1070.21 1162.37 1066.14 1157.21 Q1062.09 1152.06 1062.09 1143.66 Q1062.09 1135.25 1066.14 1130.1 Q1070.21 1124.94 1076.67 1124.94 Q1080.62 1124.94 1083.42 1126.5 Q1086.26 1128.03 1088.1 1131.21 M1068.14 1143.66 Q1068.14 1150.12 1070.78 1153.81 Q1073.46 1157.47 1078.11 1157.47 Q1082.75 1157.47 1085.43 1153.81 Q1088.1 1150.12 1088.1 1143.66 Q1088.1 1137.19 1085.43 1133.53 Q1082.75 1129.84 1078.11 1129.84 Q1073.46 1129.84 1070.78 1133.53 Q1068.14 1137.19 1068.14 1143.66 Z\" fill=\"#000000\" fill-rule=\"evenodd\" fill-opacity=\"1\" /><path clip-path=\"url(#clip620)\" d=\"M 0 0 M1130.6 1142.16 L1130.6 1145.02 L1103.67 1145.02 Q1104.05 1151.07 1107.3 1154.25 Q1110.58 1157.41 1116.4 1157.41 Q1119.78 1157.41 1122.93 1156.58 Q1126.11 1155.75 1129.23 1154.1 L1129.23 1159.63 Q1126.08 1160.97 1122.77 1161.67 Q1119.46 1162.37 1116.05 1162.37 Q1107.52 1162.37 1102.52 1157.41 Q1097.56 1152.44 1097.56 1143.97 Q1097.56 1135.22 1102.27 1130.1 Q1107.01 1124.94 1115.03 1124.94 Q1122.23 1124.94 1126.4 1129.59 Q1130.6 1134.2 1130.6 1142.16 M1124.74 1140.44 Q1124.68 1135.63 1122.04 1132.77 Q1119.43 1129.91 1115.1 1129.91 Q1110.2 1129.91 1107.23 1132.67 Q1104.31 1135.44 1103.86 1140.47 L1124.74 1140.44 Z\" fill=\"#000000\" fill-rule=\"evenodd\" fill-opacity=\"1\" /><path clip-path=\"url(#clip620)\" d=\"M 0 0 M1164.5 1132.64 Q1166.7 1128.7 1169.76 1126.82 Q1172.81 1124.94 1176.95 1124.94 Q1182.52 1124.94 1185.55 1128.86 Q1188.57 1132.74 1188.57 1139.93 L1188.57 1161.45 L1182.68 1161.45 L1182.68 1140.12 Q1182.68 1135 1180.87 1132.52 Q1179.05 1130.03 1175.33 1130.03 Q1170.78 1130.03 1168.13 1133.06 Q1165.49 1136.08 1165.49 1141.3 L1165.49 1161.45 L1159.6 1161.45 L1159.6 1140.12 Q1159.6 1134.97 1157.79 1132.52 Q1155.97 1130.03 1152.18 1130.03 Q1147.7 1130.03 1145.05 1133.09 Q1142.41 1136.11 1142.41 1141.3 L1142.41 1161.45 L1136.52 1161.45 L1136.52 1125.8 L1142.41 1125.8 L1142.41 1131.34 Q1144.42 1128.06 1147.22 1126.5 Q1150.02 1124.94 1153.87 1124.94 Q1157.76 1124.94 1160.46 1126.91 Q1163.2 1128.89 1164.5 1132.64 Z\" fill=\"#000000\" fill-rule=\"evenodd\" fill-opacity=\"1\" /><path clip-path=\"url(#clip620)\" d=\"M 0 0 M1210.92 1143.53 Q1203.82 1143.53 1201.08 1145.15 Q1198.34 1146.77 1198.34 1150.69 Q1198.34 1153.81 1200.38 1155.66 Q1202.45 1157.47 1205.98 1157.47 Q1210.86 1157.47 1213.78 1154.03 Q1216.74 1150.56 1216.74 1144.83 L1216.74 1143.53 L1210.92 1143.53 M1222.6 1141.11 L1222.6 1161.45 L1216.74 1161.45 L1216.74 1156.04 Q1214.74 1159.28 1211.75 1160.84 Q1208.75 1162.37 1204.43 1162.37 Q1198.95 1162.37 1195.7 1159.32 Q1192.49 1156.23 1192.49 1151.07 Q1192.49 1145.06 1196.5 1142 Q1200.54 1138.95 1208.53 1138.95 L1216.74 1138.95 L1216.74 1138.37 Q1216.74 1134.33 1214.07 1132.13 Q1211.43 1129.91 1206.62 1129.91 Q1203.57 1129.91 1200.67 1130.64 Q1197.77 1131.37 1195.1 1132.83 L1195.1 1127.42 Q1198.31 1126.18 1201.34 1125.58 Q1204.36 1124.94 1207.23 1124.94 Q1214.96 1124.94 1218.78 1128.95 Q1222.6 1132.96 1222.6 1141.11 Z\" fill=\"#000000\" fill-rule=\"evenodd\" fill-opacity=\"1\" /><path clip-path=\"url(#clip620)\" d=\"M 0 0 M1258.38 1139.93 L1258.38 1161.45 L1252.53 1161.45 L1252.53 1140.12 Q1252.53 1135.06 1250.55 1132.55 Q1248.58 1130.03 1244.63 1130.03 Q1239.89 1130.03 1237.15 1133.06 Q1234.41 1136.08 1234.41 1141.3 L1234.41 1161.45 L1228.52 1161.45 L1228.52 1125.8 L1234.41 1125.8 L1234.41 1131.34 Q1236.51 1128.12 1239.35 1126.53 Q1242.21 1124.94 1245.94 1124.94 Q1252.08 1124.94 1255.23 1128.76 Q1258.38 1132.55 1258.38 1139.93 Z\" fill=\"#000000\" fill-rule=\"evenodd\" fill-opacity=\"1\" /><path clip-path=\"url(#clip620)\" d=\"M 0 0 M1287.99 1131.21 L1287.99 1111.92 L1293.85 1111.92 L1293.85 1161.45 L1287.99 1161.45 L1287.99 1156.1 Q1286.14 1159.28 1283.31 1160.84 Q1280.51 1162.37 1276.56 1162.37 Q1270.1 1162.37 1266.02 1157.21 Q1261.98 1152.06 1261.98 1143.66 Q1261.98 1135.25 1266.02 1130.1 Q1270.1 1124.94 1276.56 1124.94 Q1280.51 1124.94 1283.31 1126.5 Q1286.14 1128.03 1287.99 1131.21 M1268.03 1143.66 Q1268.03 1150.12 1270.67 1153.81 Q1273.35 1157.47 1277.99 1157.47 Q1282.64 1157.47 1285.32 1153.81 Q1287.99 1150.12 1287.99 1143.66 Q1287.99 1137.19 1285.32 1133.53 Q1282.64 1129.84 1277.99 1129.84 Q1273.35 1129.84 1270.67 1133.53 Q1268.03 1137.19 1268.03 1143.66 Z\" fill=\"#000000\" fill-rule=\"evenodd\" fill-opacity=\"1\" /><polyline clip-path=\"url(#clip622)\" style=\"stroke:#000000; stroke-width:2; stroke-opacity:0.1; fill:none\" points=\"\n",
       "  167.426,886.936 1894.75,886.936 \n",
       "  \"/>\n",
       "<polyline clip-path=\"url(#clip622)\" style=\"stroke:#000000; stroke-width:2; stroke-opacity:0.1; fill:none\" points=\"\n",
       "  167.426,611.753 1894.75,611.753 \n",
       "  \"/>\n",
       "<polyline clip-path=\"url(#clip622)\" style=\"stroke:#000000; stroke-width:2; stroke-opacity:0.1; fill:none\" points=\"\n",
       "  167.426,336.571 1894.75,336.571 \n",
       "  \"/>\n",
       "<polyline clip-path=\"url(#clip622)\" style=\"stroke:#000000; stroke-width:2; stroke-opacity:0.1; fill:none\" points=\"\n",
       "  167.426,61.3885 1894.75,61.3885 \n",
       "  \"/>\n",
       "<polyline clip-path=\"url(#clip620)\" style=\"stroke:#000000; stroke-width:4; stroke-opacity:1; fill:none\" points=\"\n",
       "  167.426,1033.17 167.426,47.2441 \n",
       "  \"/>\n",
       "<polyline clip-path=\"url(#clip620)\" style=\"stroke:#000000; stroke-width:4; stroke-opacity:1; fill:none\" points=\"\n",
       "  167.426,886.936 188.154,886.936 \n",
       "  \"/>\n",
       "<polyline clip-path=\"url(#clip620)\" style=\"stroke:#000000; stroke-width:4; stroke-opacity:1; fill:none\" points=\"\n",
       "  167.426,611.753 188.154,611.753 \n",
       "  \"/>\n",
       "<polyline clip-path=\"url(#clip620)\" style=\"stroke:#000000; stroke-width:4; stroke-opacity:1; fill:none\" points=\"\n",
       "  167.426,336.571 188.154,336.571 \n",
       "  \"/>\n",
       "<polyline clip-path=\"url(#clip620)\" style=\"stroke:#000000; stroke-width:4; stroke-opacity:1; fill:none\" points=\"\n",
       "  167.426,61.3885 188.154,61.3885 \n",
       "  \"/>\n",
       "<path clip-path=\"url(#clip620)\" d=\"M 0 0 M131.165 885.581 Q134.522 886.299 136.398 888.568 Q138.296 890.836 138.296 894.169 Q138.296 899.285 134.777 902.086 Q131.258 904.887 124.775 904.887 Q122.599 904.887 120.284 904.447 Q117.991 904.03 115.537 903.174 L115.537 898.66 Q117.482 899.794 119.797 900.373 Q122.113 900.952 124.636 900.952 Q129.035 900.952 131.327 899.216 Q133.642 897.48 133.642 894.169 Q133.642 891.114 131.489 889.401 Q129.359 887.665 125.539 887.665 L121.511 887.665 L121.511 883.822 L125.724 883.822 Q129.174 883.822 131.003 882.456 Q132.832 881.068 132.832 878.475 Q132.832 875.813 130.934 874.401 Q129.058 872.966 125.539 872.966 Q123.617 872.966 121.418 873.382 Q119.219 873.799 116.579 874.679 L116.579 870.512 Q119.242 869.771 121.557 869.401 Q123.895 869.031 125.956 869.031 Q131.281 869.031 134.383 871.461 Q137.486 873.869 137.486 877.989 Q137.486 880.859 135.842 882.85 Q134.198 884.818 131.165 885.581 Z\" fill=\"#000000\" fill-rule=\"evenodd\" fill-opacity=\"1\" /><path clip-path=\"url(#clip620)\" d=\"M 0 0 M128.711 598.547 L116.903 616.996 L128.711 616.996 L128.711 598.547 M127.484 594.473 L133.365 594.473 L133.365 616.996 L138.296 616.996 L138.296 620.885 L133.365 620.885 L133.365 629.033 L128.711 629.033 L128.711 620.885 L113.106 620.885 L113.106 616.371 L127.484 594.473 Z\" fill=\"#000000\" fill-rule=\"evenodd\" fill-opacity=\"1\" /><path clip-path=\"url(#clip620)\" d=\"M 0 0 M117.39 319.291 L135.749 319.291 L135.749 323.226 L121.673 323.226 L121.673 331.698 Q122.691 331.351 123.71 331.189 Q124.729 331.004 125.747 331.004 Q131.536 331.004 134.916 334.175 Q138.296 337.346 138.296 342.763 Q138.296 348.342 134.823 351.443 Q131.35 354.522 125.03 354.522 Q122.853 354.522 120.585 354.152 Q118.339 353.781 115.931 353.041 L115.931 348.342 Q118.015 349.476 120.237 350.031 Q122.46 350.587 124.937 350.587 Q128.943 350.587 131.281 348.48 Q133.619 346.374 133.619 342.763 Q133.619 339.152 131.281 337.045 Q128.943 334.939 124.937 334.939 Q123.062 334.939 121.186 335.356 Q119.334 335.772 117.39 336.652 L117.39 319.291 Z\" fill=\"#000000\" fill-rule=\"evenodd\" fill-opacity=\"1\" /><path clip-path=\"url(#clip620)\" d=\"M 0 0 M126.766 59.5251 Q123.617 59.5251 121.765 61.6778 Q119.936 63.8306 119.936 67.5806 Q119.936 71.3074 121.765 73.4833 Q123.617 75.6361 126.766 75.6361 Q129.915 75.6361 131.744 73.4833 Q133.596 71.3074 133.596 67.5806 Q133.596 63.8306 131.744 61.6778 Q129.915 59.5251 126.766 59.5251 M136.05 44.8724 L136.05 49.1316 Q134.291 48.2983 132.485 47.8584 Q130.702 47.4186 128.943 47.4186 Q124.312 47.4186 121.858 50.5436 Q119.427 53.6686 119.08 59.988 Q120.446 57.9741 122.506 56.9093 Q124.567 55.8214 127.044 55.8214 Q132.253 55.8214 135.263 58.9926 Q138.296 62.1408 138.296 67.5806 Q138.296 72.9046 135.147 76.1222 Q131.999 79.3398 126.766 79.3398 Q120.77 79.3398 117.598 74.7565 Q114.426 70.15 114.426 61.4232 Q114.426 53.2288 118.316 48.3677 Q122.205 43.4835 128.757 43.4835 Q130.517 43.4835 132.3 43.8307 Q134.105 44.1779 136.05 44.8724 Z\" fill=\"#000000\" fill-rule=\"evenodd\" fill-opacity=\"1\" /><path clip-path=\"url(#clip620)\" d=\"M 0 0 M41.6089 675.159 L41.6089 668.698 L70.4827 668.698 Q78.123 668.698 81.4974 665.929 Q84.8401 663.159 84.8401 656.953 Q84.8401 650.778 81.4974 648.009 Q78.123 645.24 70.4827 645.24 L41.6089 645.24 L41.6089 638.779 L71.2786 638.779 Q80.5742 638.779 85.3176 643.394 Q90.0609 647.977 90.0609 656.953 Q90.0609 665.96 85.3176 670.575 Q80.5742 675.159 71.2786 675.159 L41.6089 675.159 Z\" fill=\"#000000\" fill-rule=\"evenodd\" fill-opacity=\"1\" /><path clip-path=\"url(#clip620)\" d=\"M 0 0 M43.3598 626.843 L53.4831 626.843 L53.4831 614.78 L58.0355 614.78 L58.0355 626.843 L77.3908 626.843 Q81.7521 626.843 82.9937 625.665 Q84.2352 624.456 84.2352 620.796 L84.2352 614.78 L89.1377 614.78 L89.1377 620.796 Q89.1377 627.575 86.6228 630.153 Q84.076 632.731 77.3908 632.731 L58.0355 632.731 L58.0355 637.028 L53.4831 637.028 L53.4831 632.731 L43.3598 632.731 L43.3598 626.843 Z\" fill=\"#000000\" fill-rule=\"evenodd\" fill-opacity=\"1\" /><path clip-path=\"url(#clip620)\" d=\"M 0 0 M53.4831 608.637 L53.4831 602.781 L89.1377 602.781 L89.1377 608.637 L53.4831 608.637 M39.6033 608.637 L39.6033 602.781 L47.0208 602.781 L47.0208 608.637 L39.6033 608.637 Z\" fill=\"#000000\" fill-rule=\"evenodd\" fill-opacity=\"1\" /><path clip-path=\"url(#clip620)\" d=\"M 0 0 M39.6033 596.638 L39.6033 590.781 L89.1377 590.781 L89.1377 596.638 L39.6033 596.638 Z\" fill=\"#000000\" fill-rule=\"evenodd\" fill-opacity=\"1\" /><path clip-path=\"url(#clip620)\" d=\"M 0 0 M53.4831 584.638 L53.4831 578.782 L89.1377 578.782 L89.1377 584.638 L53.4831 584.638 M39.6033 584.638 L39.6033 578.782 L47.0208 578.782 L47.0208 584.638 L39.6033 584.638 Z\" fill=\"#000000\" fill-rule=\"evenodd\" fill-opacity=\"1\" /><path clip-path=\"url(#clip620)\" d=\"M 0 0 M53.4831 575.185 L53.4831 547.367 L58.8313 547.367 L84.458 569.393 L84.458 547.367 L89.1377 547.367 L89.1377 575.981 L83.7895 575.981 L58.1628 553.956 L58.1628 575.185 L53.4831 575.185 Z\" fill=\"#000000\" fill-rule=\"evenodd\" fill-opacity=\"1\" /><path clip-path=\"url(#clip620)\" d=\"M 0 0 M71.2149 525.024 Q71.2149 532.121 72.8385 534.859 Q74.462 537.596 78.3777 537.596 Q81.4974 537.596 83.3438 535.559 Q85.1584 533.49 85.1584 529.957 Q85.1584 525.087 81.7203 522.159 Q78.2503 519.199 72.5201 519.199 L71.2149 519.199 L71.2149 525.024 M68.7955 513.343 L89.1377 513.343 L89.1377 519.199 L83.7258 519.199 Q86.973 521.204 88.5328 524.196 Q90.0609 527.188 90.0609 531.517 Q90.0609 536.991 87.0048 540.238 Q83.9169 543.452 78.7597 543.452 Q72.743 543.452 69.6869 539.442 Q66.6308 535.4 66.6308 527.411 L66.6308 519.199 L66.0577 519.199 Q62.0148 519.199 59.8182 521.873 Q57.5898 524.514 57.5898 529.32 Q57.5898 532.376 58.322 535.272 Q59.0542 538.169 60.5186 540.842 L55.1067 540.842 Q53.8652 537.628 53.2603 534.604 Q52.6236 531.58 52.6236 528.716 Q52.6236 520.981 56.6348 517.162 Q60.6459 513.343 68.7955 513.343 Z\" fill=\"#000000\" fill-rule=\"evenodd\" fill-opacity=\"1\" /><path clip-path=\"url(#clip620)\" d=\"M 0 0 M43.3598 501.407 L53.4831 501.407 L53.4831 489.344 L58.0355 489.344 L58.0355 501.407 L77.3908 501.407 Q81.7521 501.407 82.9937 500.229 Q84.2352 499.02 84.2352 495.359 L84.2352 489.344 L89.1377 489.344 L89.1377 495.359 Q89.1377 502.139 86.6228 504.717 Q84.076 507.295 77.3908 507.295 L58.0355 507.295 L58.0355 511.592 L53.4831 511.592 L53.4831 507.295 L43.3598 507.295 L43.3598 501.407 Z\" fill=\"#000000\" fill-rule=\"evenodd\" fill-opacity=\"1\" /><path clip-path=\"url(#clip620)\" d=\"M 0 0 M53.4831 483.201 L53.4831 477.344 L89.1377 477.344 L89.1377 483.201 L53.4831 483.201 M39.6033 483.201 L39.6033 477.344 L47.0208 477.344 L47.0208 483.201 L39.6033 483.201 Z\" fill=\"#000000\" fill-rule=\"evenodd\" fill-opacity=\"1\" /><path clip-path=\"url(#clip620)\" d=\"M 0 0 M57.5898 457.388 Q57.5898 462.099 61.2826 464.836 Q64.9435 467.573 71.3423 467.573 Q77.741 467.573 81.4338 464.868 Q85.0947 462.13 85.0947 457.388 Q85.0947 452.709 81.4019 449.972 Q77.7091 447.235 71.3423 447.235 Q65.0072 447.235 61.3144 449.972 Q57.5898 452.709 57.5898 457.388 M52.6236 457.388 Q52.6236 449.749 57.5898 445.389 Q62.556 441.028 71.3423 441.028 Q80.0967 441.028 85.0947 445.389 Q90.0609 449.749 90.0609 457.388 Q90.0609 465.059 85.0947 469.419 Q80.0967 473.748 71.3423 473.748 Q62.556 473.748 57.5898 469.419 Q52.6236 465.059 52.6236 457.388 Z\" fill=\"#000000\" fill-rule=\"evenodd\" fill-opacity=\"1\" /><path clip-path=\"url(#clip620)\" d=\"M 0 0 M67.6176 405.253 L89.1377 405.253 L89.1377 411.109 L67.8086 411.109 Q62.747 411.109 60.232 413.083 Q57.7171 415.056 57.7171 419.003 Q57.7171 423.745 60.7414 426.482 Q63.7657 429.22 68.9865 429.22 L89.1377 429.22 L89.1377 435.108 L53.4831 435.108 L53.4831 429.22 L59.0223 429.22 Q55.8071 427.119 54.2153 424.286 Q52.6236 421.422 52.6236 417.698 Q52.6236 411.555 56.4437 408.404 Q60.232 405.253 67.6176 405.253 Z\" fill=\"#000000\" fill-rule=\"evenodd\" fill-opacity=\"1\" /><polyline clip-path=\"url(#clip622)\" style=\"stroke:#009af9; stroke-width:4; stroke-opacity:1; fill:none\" points=\"\n",
       "  216.312,1005.26 542.222,586.987 868.132,405.366 1194.04,281.534 1519.95,212.739 1845.86,154.95 \n",
       "  \"/>\n",
       "<circle clip-path=\"url(#clip622)\" cx=\"216.312\" cy=\"1005.26\" r=\"10\" fill=\"#009af9\" fill-rule=\"evenodd\" fill-opacity=\"1\" stroke=\"#000000\" stroke-opacity=\"1\" stroke-width=\"2.4\"/>\n",
       "<circle clip-path=\"url(#clip622)\" cx=\"542.222\" cy=\"586.987\" r=\"10\" fill=\"#009af9\" fill-rule=\"evenodd\" fill-opacity=\"1\" stroke=\"#000000\" stroke-opacity=\"1\" stroke-width=\"2.4\"/>\n",
       "<circle clip-path=\"url(#clip622)\" cx=\"868.132\" cy=\"405.366\" r=\"10\" fill=\"#009af9\" fill-rule=\"evenodd\" fill-opacity=\"1\" stroke=\"#000000\" stroke-opacity=\"1\" stroke-width=\"2.4\"/>\n",
       "<circle clip-path=\"url(#clip622)\" cx=\"1194.04\" cy=\"281.534\" r=\"10\" fill=\"#009af9\" fill-rule=\"evenodd\" fill-opacity=\"1\" stroke=\"#000000\" stroke-opacity=\"1\" stroke-width=\"2.4\"/>\n",
       "<circle clip-path=\"url(#clip622)\" cx=\"1519.95\" cy=\"212.739\" r=\"10\" fill=\"#009af9\" fill-rule=\"evenodd\" fill-opacity=\"1\" stroke=\"#000000\" stroke-opacity=\"1\" stroke-width=\"2.4\"/>\n",
       "<circle clip-path=\"url(#clip622)\" cx=\"1845.86\" cy=\"154.95\" r=\"10\" fill=\"#009af9\" fill-rule=\"evenodd\" fill-opacity=\"1\" stroke=\"#000000\" stroke-opacity=\"1\" stroke-width=\"2.4\"/>\n",
       "<polyline clip-path=\"url(#clip622)\" style=\"stroke:#000000; stroke-width:4; stroke-opacity:1; fill:none\" points=\"\n",
       "  216.312,997.009 542.222,592.49 868.132,402.615 1194.04,278.783 1519.95,204.483 1845.86,138.44 \n",
       "  \"/>\n",
       "<path clip-path=\"url(#clip622)\" d=\"M204.312 985.009 L204.312 1009.01 L228.312 1009.01 L228.312 985.009 L204.312 985.009 Z\" fill=\"#000000\" fill-rule=\"evenodd\" fill-opacity=\"1\" stroke=\"none\"/>\n",
       "<path clip-path=\"url(#clip622)\" d=\"M530.222 580.49 L530.222 604.49 L554.222 604.49 L554.222 580.49 L530.222 580.49 Z\" fill=\"#000000\" fill-rule=\"evenodd\" fill-opacity=\"1\" stroke=\"none\"/>\n",
       "<path clip-path=\"url(#clip622)\" d=\"M856.132 390.615 L856.132 414.615 L880.132 414.615 L880.132 390.615 L856.132 390.615 Z\" fill=\"#000000\" fill-rule=\"evenodd\" fill-opacity=\"1\" stroke=\"none\"/>\n",
       "<path clip-path=\"url(#clip622)\" d=\"M1182.04 266.783 L1182.04 290.783 L1206.04 290.783 L1206.04 266.783 L1182.04 266.783 Z\" fill=\"#000000\" fill-rule=\"evenodd\" fill-opacity=\"1\" stroke=\"none\"/>\n",
       "<path clip-path=\"url(#clip622)\" d=\"M1507.95 192.483 L1507.95 216.483 L1531.95 216.483 L1531.95 192.483 L1507.95 192.483 Z\" fill=\"#000000\" fill-rule=\"evenodd\" fill-opacity=\"1\" stroke=\"none\"/>\n",
       "<path clip-path=\"url(#clip622)\" d=\"M1833.86 126.44 L1833.86 150.44 L1857.86 150.44 L1857.86 126.44 L1833.86 126.44 Z\" fill=\"#000000\" fill-rule=\"evenodd\" fill-opacity=\"1\" stroke=\"none\"/>\n",
       "<polyline clip-path=\"url(#clip622)\" style=\"stroke:#ff0000; stroke-width:4; stroke-opacity:1; fill:none\" points=\"\n",
       "  216.312,999.76 542.222,589.739 868.132,457.651 1194.04,361.337 1519.95,314.556 1845.86,306.301 \n",
       "  \"/>\n",
       "<path clip-path=\"url(#clip622)\" d=\"M228.312 987.76 L204.312 987.76 L216.312 1011.76 L228.312 987.76 Z\" fill=\"#ff0000\" fill-rule=\"evenodd\" fill-opacity=\"1\" stroke=\"#000000\" stroke-opacity=\"1\" stroke-width=\"2.4\"/>\n",
       "<path clip-path=\"url(#clip622)\" d=\"M554.222 577.739 L530.222 577.739 L542.222 601.739 L554.222 577.739 Z\" fill=\"#ff0000\" fill-rule=\"evenodd\" fill-opacity=\"1\" stroke=\"#000000\" stroke-opacity=\"1\" stroke-width=\"2.4\"/>\n",
       "<path clip-path=\"url(#clip622)\" d=\"M880.132 445.651 L856.132 445.651 L868.132 469.651 L880.132 445.651 Z\" fill=\"#ff0000\" fill-rule=\"evenodd\" fill-opacity=\"1\" stroke=\"#000000\" stroke-opacity=\"1\" stroke-width=\"2.4\"/>\n",
       "<path clip-path=\"url(#clip622)\" d=\"M1206.04 349.337 L1182.04 349.337 L1194.04 373.337 L1206.04 349.337 Z\" fill=\"#ff0000\" fill-rule=\"evenodd\" fill-opacity=\"1\" stroke=\"#000000\" stroke-opacity=\"1\" stroke-width=\"2.4\"/>\n",
       "<path clip-path=\"url(#clip622)\" d=\"M1531.95 302.556 L1507.95 302.556 L1519.95 326.556 L1531.95 302.556 Z\" fill=\"#ff0000\" fill-rule=\"evenodd\" fill-opacity=\"1\" stroke=\"#000000\" stroke-opacity=\"1\" stroke-width=\"2.4\"/>\n",
       "<path clip-path=\"url(#clip622)\" d=\"M1857.86 294.301 L1833.86 294.301 L1845.86 318.301 L1857.86 294.301 Z\" fill=\"#ff0000\" fill-rule=\"evenodd\" fill-opacity=\"1\" stroke=\"#000000\" stroke-opacity=\"1\" stroke-width=\"2.4\"/>\n",
       "<polyline clip-path=\"url(#clip622)\" style=\"stroke:#008000; stroke-width:4; stroke-opacity:1; fill:none\" points=\"\n",
       "  216.312,939.22 542.222,476.914 868.132,270.527 1194.04,138.44 1519.95,99.914 1845.86,75.1476 \n",
       "  \"/>\n",
       "<path clip-path=\"url(#clip622)\" d=\"M216.312 927.22 L204.312 951.22 L228.312 951.22 L216.312 927.22 Z\" fill=\"#008000\" fill-rule=\"evenodd\" fill-opacity=\"1\" stroke=\"#000000\" stroke-opacity=\"1\" stroke-width=\"2.4\"/>\n",
       "<path clip-path=\"url(#clip622)\" d=\"M542.222 464.914 L530.222 488.914 L554.222 488.914 L542.222 464.914 Z\" fill=\"#008000\" fill-rule=\"evenodd\" fill-opacity=\"1\" stroke=\"#000000\" stroke-opacity=\"1\" stroke-width=\"2.4\"/>\n",
       "<path clip-path=\"url(#clip622)\" d=\"M868.132 258.527 L856.132 282.527 L880.132 282.527 L868.132 258.527 Z\" fill=\"#008000\" fill-rule=\"evenodd\" fill-opacity=\"1\" stroke=\"#000000\" stroke-opacity=\"1\" stroke-width=\"2.4\"/>\n",
       "<path clip-path=\"url(#clip622)\" d=\"M1194.04 126.44 L1182.04 150.44 L1206.04 150.44 L1194.04 126.44 Z\" fill=\"#008000\" fill-rule=\"evenodd\" fill-opacity=\"1\" stroke=\"#000000\" stroke-opacity=\"1\" stroke-width=\"2.4\"/>\n",
       "<path clip-path=\"url(#clip622)\" d=\"M1519.95 87.914 L1507.95 111.914 L1531.95 111.914 L1519.95 87.914 Z\" fill=\"#008000\" fill-rule=\"evenodd\" fill-opacity=\"1\" stroke=\"#000000\" stroke-opacity=\"1\" stroke-width=\"2.4\"/>\n",
       "<path clip-path=\"url(#clip622)\" d=\"M1845.86 63.1476 L1833.86 87.1476 L1857.86 87.1476 L1845.86 63.1476 Z\" fill=\"#008000\" fill-rule=\"evenodd\" fill-opacity=\"1\" stroke=\"#000000\" stroke-opacity=\"1\" stroke-width=\"2.4\"/>\n",
       "<path clip-path=\"url(#clip620)\" d=\"\n",
       "M225.003 382.508 L599.577 382.508 L599.577 80.1082 L225.003 80.1082  Z\n",
       "  \" fill=\"#ffffff\" fill-rule=\"evenodd\" fill-opacity=\"1\"/>\n",
       "<polyline clip-path=\"url(#clip620)\" style=\"stroke:#000000; stroke-width:4; stroke-opacity:1; fill:none\" points=\"\n",
       "  225.003,382.508 599.577,382.508 599.577,80.1082 225.003,80.1082 225.003,382.508 \n",
       "  \"/>\n",
       "<polyline clip-path=\"url(#clip620)\" style=\"stroke:#009af9; stroke-width:4; stroke-opacity:1; fill:none\" points=\"\n",
       "  244.196,140.588 359.351,140.588 \n",
       "  \"/>\n",
       "<circle clip-path=\"url(#clip620)\" cx=\"301.773\" cy=\"140.588\" r=\"23\" fill=\"#009af9\" fill-rule=\"evenodd\" fill-opacity=\"1\" stroke=\"#000000\" stroke-opacity=\"1\" stroke-width=\"5.12\"/>\n",
       "<path clip-path=\"url(#clip620)\" d=\"M 0 0 M378.543 123.308 L385.512 123.308 L394.333 146.827 L403.2 123.308 L410.169 123.308 L410.169 157.868 L405.608 157.868 L405.608 127.521 L396.694 151.225 L391.995 151.225 L383.081 127.521 L383.081 157.868 L378.543 157.868 L378.543 123.308 Z\" fill=\"#000000\" fill-rule=\"evenodd\" fill-opacity=\"1\" /><path clip-path=\"url(#clip620)\" d=\"M 0 0 M440.707 125.97 L440.707 130.901 Q438.345 128.702 435.66 127.614 Q432.997 126.526 429.987 126.526 Q424.061 126.526 420.912 130.16 Q417.763 133.771 417.763 140.623 Q417.763 147.452 420.912 151.086 Q424.061 154.697 429.987 154.697 Q432.997 154.697 435.66 153.609 Q438.345 152.521 440.707 150.322 L440.707 155.206 Q438.253 156.873 435.498 157.706 Q432.766 158.54 429.71 158.54 Q421.861 158.54 417.346 153.748 Q412.832 148.933 412.832 140.623 Q412.832 132.29 417.346 127.498 Q421.861 122.683 429.71 122.683 Q432.812 122.683 435.544 123.517 Q438.299 124.327 440.707 125.97 Z\" fill=\"#000000\" fill-rule=\"evenodd\" fill-opacity=\"1\" /><path clip-path=\"url(#clip620)\" d=\"M 0 0 M440.568 123.308 L469.809 123.308 L469.809 127.243 L457.539 127.243 L457.539 157.868 L452.839 157.868 L452.839 127.243 L440.568 127.243 L440.568 123.308 Z\" fill=\"#000000\" fill-rule=\"evenodd\" fill-opacity=\"1\" /><path clip-path=\"url(#clip620)\" d=\"M 0 0 M495.184 124.442 L495.184 129.003 Q492.522 127.729 490.16 127.104 Q487.799 126.479 485.599 126.479 Q481.779 126.479 479.696 127.961 Q477.635 129.442 477.635 132.174 Q477.635 134.466 479.001 135.646 Q480.39 136.804 484.233 137.521 L487.058 138.1 Q492.29 139.095 494.768 141.618 Q497.268 144.118 497.268 148.331 Q497.268 153.354 493.888 155.947 Q490.531 158.54 484.025 158.54 Q481.571 158.54 478.793 157.984 Q476.037 157.428 473.074 156.34 L473.074 151.526 Q475.922 153.123 478.654 153.933 Q481.386 154.743 484.025 154.743 Q488.03 154.743 490.207 153.169 Q492.383 151.595 492.383 148.678 Q492.383 146.132 490.809 144.697 Q489.257 143.262 485.692 142.544 L482.844 141.989 Q477.612 140.947 475.273 138.725 Q472.935 136.503 472.935 132.544 Q472.935 127.961 476.153 125.322 Q479.395 122.683 485.067 122.683 Q487.498 122.683 490.021 123.123 Q492.545 123.563 495.184 124.442 Z\" fill=\"#000000\" fill-rule=\"evenodd\" fill-opacity=\"1\" /><polyline clip-path=\"url(#clip620)\" style=\"stroke:#000000; stroke-width:4; stroke-opacity:1; fill:none\" points=\"\n",
       "  244.196,201.068 359.351,201.068 \n",
       "  \"/>\n",
       "<path clip-path=\"url(#clip620)\" d=\"M276.173 175.468 L276.173 226.668 L327.373 226.668 L327.373 175.468 L276.173 175.468 Z\" fill=\"#000000\" fill-rule=\"evenodd\" fill-opacity=\"1\" stroke=\"none\"/>\n",
       "<path clip-path=\"url(#clip620)\" d=\"M 0 0 M391.74 218.348 L378.543 183.788 L383.428 183.788 L394.379 212.885 L405.353 183.788 L410.215 183.788 L397.042 218.348 L391.74 218.348 Z\" fill=\"#000000\" fill-rule=\"evenodd\" fill-opacity=\"1\" /><path clip-path=\"url(#clip620)\" d=\"M 0 0 M414.869 183.788 L419.546 183.788 L419.546 218.348 L414.869 218.348 L414.869 183.788 Z\" fill=\"#000000\" fill-rule=\"evenodd\" fill-opacity=\"1\" /><polyline clip-path=\"url(#clip620)\" style=\"stroke:#ff0000; stroke-width:4; stroke-opacity:1; fill:none\" points=\"\n",
       "  244.196,261.548 359.351,261.548 \n",
       "  \"/>\n",
       "<path clip-path=\"url(#clip620)\" d=\"M327.373 235.948 L276.173 235.948 L301.773 287.148 L327.373 235.948 Z\" fill=\"#ff0000\" fill-rule=\"evenodd\" fill-opacity=\"1\" stroke=\"#000000\" stroke-opacity=\"1\" stroke-width=\"5.12\"/>\n",
       "<path clip-path=\"url(#clip620)\" d=\"M 0 0 M395.051 242.81 L395.051 246.352 L390.976 246.352 Q388.684 246.352 387.781 247.277 Q386.901 248.203 386.901 250.611 L386.901 252.902 L393.916 252.902 L393.916 256.213 L386.901 256.213 L386.901 278.828 L382.618 278.828 L382.618 256.213 L378.543 256.213 L378.543 252.902 L382.618 252.902 L382.618 251.097 Q382.618 246.768 384.632 244.801 Q386.646 242.81 391.022 242.81 L395.051 242.81 Z\" fill=\"#000000\" fill-rule=\"evenodd\" fill-opacity=\"1\" /><path clip-path=\"url(#clip620)\" d=\"M 0 0 M399.519 242.81 L403.779 242.81 L403.779 278.828 L399.519 278.828 L399.519 242.81 Z\" fill=\"#000000\" fill-rule=\"evenodd\" fill-opacity=\"1\" /><path clip-path=\"url(#clip620)\" d=\"M 0 0 M420.032 265.796 Q414.869 265.796 412.878 266.976 Q410.887 268.157 410.887 271.004 Q410.887 273.273 412.369 274.615 Q413.873 275.935 416.443 275.935 Q419.986 275.935 422.116 273.435 Q424.269 270.912 424.269 266.745 L424.269 265.796 L420.032 265.796 M428.529 264.037 L428.529 278.828 L424.269 278.828 L424.269 274.893 Q422.81 277.254 420.634 278.388 Q418.458 279.5 415.309 279.5 Q411.327 279.5 408.965 277.277 Q406.627 275.032 406.627 271.282 Q406.627 266.907 409.544 264.685 Q412.484 262.463 418.296 262.463 L424.269 262.463 L424.269 262.046 Q424.269 259.106 422.324 257.509 Q420.402 255.889 416.906 255.889 Q414.684 255.889 412.577 256.421 Q410.47 256.953 408.525 258.018 L408.525 254.083 Q410.864 253.18 413.063 252.74 Q415.263 252.277 417.346 252.277 Q422.972 252.277 425.751 255.194 Q428.529 258.111 428.529 264.037 Z\" fill=\"#000000\" fill-rule=\"evenodd\" fill-opacity=\"1\" /><path clip-path=\"url(#clip620)\" d=\"M 0 0 M437.211 245.541 L437.211 252.902 L445.986 252.902 L445.986 256.213 L437.211 256.213 L437.211 270.287 Q437.211 273.458 438.068 274.361 Q438.947 275.263 441.61 275.263 L445.986 275.263 L445.986 278.828 L441.61 278.828 Q436.679 278.828 434.803 277 Q432.928 275.148 432.928 270.287 L432.928 256.213 L429.802 256.213 L429.802 252.902 L432.928 252.902 L432.928 245.541 L437.211 245.541 Z\" fill=\"#000000\" fill-rule=\"evenodd\" fill-opacity=\"1\" /><path clip-path=\"url(#clip620)\" d=\"M 0 0 M448.301 263.944 L460.78 263.944 L460.78 267.74 L448.301 267.74 L448.301 263.944 Z\" fill=\"#000000\" fill-rule=\"evenodd\" fill-opacity=\"1\" /><path clip-path=\"url(#clip620)\" d=\"M 0 0 M480.274 256.884 Q479.557 256.467 478.7 256.282 Q477.866 256.074 476.848 256.074 Q473.236 256.074 471.291 258.435 Q469.37 260.773 469.37 265.171 L469.37 278.828 L465.086 278.828 L465.086 252.902 L469.37 252.902 L469.37 256.93 Q470.712 254.569 472.866 253.435 Q475.019 252.277 478.098 252.277 Q478.538 252.277 479.07 252.347 Q479.603 252.393 480.251 252.509 L480.274 256.884 Z\" fill=\"#000000\" fill-rule=\"evenodd\" fill-opacity=\"1\" /><path clip-path=\"url(#clip620)\" d=\"M 0 0 M496.527 265.796 Q491.364 265.796 489.373 266.976 Q487.382 268.157 487.382 271.004 Q487.382 273.273 488.864 274.615 Q490.369 275.935 492.939 275.935 Q496.481 275.935 498.611 273.435 Q500.764 270.912 500.764 266.745 L500.764 265.796 L496.527 265.796 M505.024 264.037 L505.024 278.828 L500.764 278.828 L500.764 274.893 Q499.306 277.254 497.129 278.388 Q494.953 279.5 491.804 279.5 Q487.822 279.5 485.46 277.277 Q483.122 275.032 483.122 271.282 Q483.122 266.907 486.039 264.685 Q488.98 262.463 494.791 262.463 L500.764 262.463 L500.764 262.046 Q500.764 259.106 498.819 257.509 Q496.898 255.889 493.402 255.889 Q491.179 255.889 489.072 256.421 Q486.965 256.953 485.021 258.018 L485.021 254.083 Q487.359 253.18 489.558 252.74 Q491.758 252.277 493.842 252.277 Q499.468 252.277 502.246 255.194 Q505.024 258.111 505.024 264.037 Z\" fill=\"#000000\" fill-rule=\"evenodd\" fill-opacity=\"1\" /><path clip-path=\"url(#clip620)\" d=\"M 0 0 M513.706 245.541 L513.706 252.902 L522.481 252.902 L522.481 256.213 L513.706 256.213 L513.706 270.287 Q513.706 273.458 514.563 274.361 Q515.443 275.263 518.105 275.263 L522.481 275.263 L522.481 278.828 L518.105 278.828 Q513.174 278.828 511.298 277 Q509.423 275.148 509.423 270.287 L509.423 256.213 L506.298 256.213 L506.298 252.902 L509.423 252.902 L509.423 245.541 L513.706 245.541 Z\" fill=\"#000000\" fill-rule=\"evenodd\" fill-opacity=\"1\" /><path clip-path=\"url(#clip620)\" d=\"M 0 0 M549.129 264.801 L549.129 266.884 L529.542 266.884 Q529.82 271.282 532.182 273.597 Q534.566 275.888 538.803 275.888 Q541.257 275.888 543.55 275.287 Q545.865 274.685 548.134 273.481 L548.134 277.509 Q545.842 278.481 543.434 278.99 Q541.026 279.5 538.549 279.5 Q532.344 279.5 528.709 275.888 Q525.097 272.277 525.097 266.12 Q525.097 259.754 528.524 256.027 Q531.973 252.277 537.808 252.277 Q543.04 252.277 546.073 255.657 Q549.129 259.013 549.129 264.801 M544.869 263.551 Q544.823 260.055 542.901 257.972 Q541.003 255.889 537.854 255.889 Q534.289 255.889 532.135 257.902 Q530.005 259.916 529.681 263.574 L544.869 263.551 Z\" fill=\"#000000\" fill-rule=\"evenodd\" fill-opacity=\"1\" /><polyline clip-path=\"url(#clip620)\" style=\"stroke:#008000; stroke-width:4; stroke-opacity:1; fill:none\" points=\"\n",
       "  244.196,322.028 359.351,322.028 \n",
       "  \"/>\n",
       "<path clip-path=\"url(#clip620)\" d=\"M301.773 296.428 L276.173 347.628 L327.373 347.628 L301.773 296.428 Z\" fill=\"#008000\" fill-rule=\"evenodd\" fill-opacity=\"1\" stroke=\"#000000\" stroke-opacity=\"1\" stroke-width=\"5.12\"/>\n",
       "<path clip-path=\"url(#clip620)\" d=\"M 0 0 M400.26 323.66 L400.26 339.308 L396 339.308 L396 323.799 Q396 320.118 394.564 318.29 Q393.129 316.461 390.258 316.461 Q386.808 316.461 384.817 318.66 Q382.826 320.859 382.826 324.656 L382.826 339.308 L378.543 339.308 L378.543 303.29 L382.826 303.29 L382.826 317.41 Q384.354 315.072 386.415 313.915 Q388.499 312.757 391.207 312.757 Q395.676 312.757 397.968 315.535 Q400.26 318.29 400.26 323.66 Z\" fill=\"#000000\" fill-rule=\"evenodd\" fill-opacity=\"1\" /><path clip-path=\"url(#clip620)\" d=\"M 0 0 M404.728 313.382 L408.988 313.382 L408.988 339.308 L404.728 339.308 L404.728 313.382 M404.728 303.29 L408.988 303.29 L408.988 308.683 L404.728 308.683 L404.728 303.29 Z\" fill=\"#000000\" fill-rule=\"evenodd\" fill-opacity=\"1\" /><path clip-path=\"url(#clip620)\" d=\"M 0 0 M435.012 323.66 L435.012 339.308 L430.752 339.308 L430.752 323.799 Q430.752 320.118 429.316 318.29 Q427.881 316.461 425.01 316.461 Q421.56 316.461 419.569 318.66 Q417.578 320.859 417.578 324.656 L417.578 339.308 L413.295 339.308 L413.295 313.382 L417.578 313.382 L417.578 317.41 Q419.106 315.072 421.166 313.915 Q423.25 312.757 425.959 312.757 Q430.427 312.757 432.719 315.535 Q435.012 318.29 435.012 323.66 Z\" fill=\"#000000\" fill-rule=\"evenodd\" fill-opacity=\"1\" /><path clip-path=\"url(#clip620)\" d=\"M 0 0 M456.543 317.318 L456.543 303.29 L460.803 303.29 L460.803 339.308 L456.543 339.308 L456.543 335.419 Q455.2 337.734 453.14 338.868 Q451.102 339.98 448.232 339.98 Q443.532 339.98 440.568 336.23 Q437.628 332.48 437.628 326.368 Q437.628 320.257 440.568 316.507 Q443.532 312.757 448.232 312.757 Q451.102 312.757 453.14 313.892 Q455.2 315.003 456.543 317.318 M442.027 326.368 Q442.027 331.068 443.948 333.753 Q445.893 336.415 449.273 336.415 Q452.654 336.415 454.598 333.753 Q456.543 331.068 456.543 326.368 Q456.543 321.669 454.598 319.007 Q452.654 316.322 449.273 316.322 Q445.893 316.322 443.948 319.007 Q442.027 321.669 442.027 326.368 Z\" fill=\"#000000\" fill-rule=\"evenodd\" fill-opacity=\"1\" /><path clip-path=\"url(#clip620)\" d=\"M 0 0 M481.802 314.146 L481.802 318.174 Q479.996 317.248 478.052 316.785 Q476.107 316.322 474.023 316.322 Q470.851 316.322 469.254 317.294 Q467.679 318.267 467.679 320.211 Q467.679 321.693 468.814 322.549 Q469.948 323.382 473.375 324.146 L474.834 324.47 Q479.371 325.443 481.27 327.225 Q483.191 328.984 483.191 332.155 Q483.191 335.767 480.321 337.873 Q477.473 339.98 472.472 339.98 Q470.388 339.98 468.119 339.563 Q465.874 339.169 463.373 338.359 L463.373 333.961 Q465.735 335.188 468.027 335.813 Q470.319 336.415 472.565 336.415 Q475.574 336.415 477.195 335.396 Q478.816 334.355 478.816 332.48 Q478.816 330.743 477.635 329.818 Q476.477 328.892 472.518 328.035 L471.037 327.688 Q467.077 326.855 465.318 325.142 Q463.558 323.406 463.558 320.396 Q463.558 316.739 466.151 314.748 Q468.744 312.757 473.514 312.757 Q475.875 312.757 477.959 313.105 Q480.043 313.452 481.802 314.146 Z\" fill=\"#000000\" fill-rule=\"evenodd\" fill-opacity=\"1\" /><path clip-path=\"url(#clip620)\" d=\"M 0 0 M487.66 313.382 L491.92 313.382 L491.92 339.308 L487.66 339.308 L487.66 313.382 M487.66 303.29 L491.92 303.29 L491.92 308.683 L487.66 308.683 L487.66 303.29 Z\" fill=\"#000000\" fill-rule=\"evenodd\" fill-opacity=\"1\" /><path clip-path=\"url(#clip620)\" d=\"M 0 0 M513.452 326.044 Q513.452 321.415 511.53 318.869 Q509.631 316.322 506.182 316.322 Q502.755 316.322 500.834 318.869 Q498.935 321.415 498.935 326.044 Q498.935 330.651 500.834 333.197 Q502.755 335.743 506.182 335.743 Q509.631 335.743 511.53 333.197 Q513.452 330.651 513.452 326.044 M517.712 336.091 Q517.712 342.711 514.771 345.929 Q511.831 349.169 505.765 349.169 Q503.519 349.169 501.528 348.822 Q499.537 348.498 497.662 347.804 L497.662 343.66 Q499.537 344.679 501.366 345.165 Q503.195 345.651 505.094 345.651 Q509.284 345.651 511.368 343.452 Q513.452 341.276 513.452 336.855 L513.452 334.748 Q512.132 337.04 510.071 338.174 Q508.011 339.308 505.14 339.308 Q500.371 339.308 497.453 335.674 Q494.536 332.04 494.536 326.044 Q494.536 320.026 497.453 316.392 Q500.371 312.757 505.14 312.757 Q508.011 312.757 510.071 313.892 Q512.132 315.026 513.452 317.318 L513.452 313.382 L517.712 313.382 L517.712 336.091 Z\" fill=\"#000000\" fill-rule=\"evenodd\" fill-opacity=\"1\" /><path clip-path=\"url(#clip620)\" d=\"M 0 0 M543.735 323.66 L543.735 339.308 L539.475 339.308 L539.475 323.799 Q539.475 320.118 538.039 318.29 Q536.604 316.461 533.733 316.461 Q530.283 316.461 528.292 318.66 Q526.301 320.859 526.301 324.656 L526.301 339.308 L522.018 339.308 L522.018 303.29 L526.301 303.29 L526.301 317.41 Q527.829 315.072 529.89 313.915 Q531.973 312.757 534.682 312.757 Q539.151 312.757 541.443 315.535 Q543.735 318.29 543.735 323.66 Z\" fill=\"#000000\" fill-rule=\"evenodd\" fill-opacity=\"1\" /><path clip-path=\"url(#clip620)\" d=\"M 0 0 M552.417 306.021 L552.417 313.382 L561.192 313.382 L561.192 316.693 L552.417 316.693 L552.417 330.767 Q552.417 333.938 553.274 334.841 Q554.153 335.743 556.816 335.743 L561.192 335.743 L561.192 339.308 L556.816 339.308 Q551.884 339.308 550.009 337.48 Q548.134 335.628 548.134 330.767 L548.134 316.693 L545.008 316.693 L545.008 313.382 L548.134 313.382 L548.134 306.021 L552.417 306.021 Z\" fill=\"#000000\" fill-rule=\"evenodd\" fill-opacity=\"1\" /></svg>\n"
      ]
     },
     "execution_count": 10,
     "metadata": {},
     "output_type": "execute_result"
    }
   ],
   "source": [
    "edf1 = mdf\n",
    "sort!(edf1)\n",
    "x_param = :demand\n",
    "\n",
    "\n",
    "plot(edf1[!, x_param], edf1.r_mc,\n",
    "    xlabel = label_demand,\n",
    "    ylabel = \"Utilization\",\n",
    "    label = \"MCTS\",\n",
    "    m=(3, :circle), \n",
    "    size=plot_size,\n",
    "    legend=:topleft\n",
    ")\n",
    "plot!(edf1[!, x_param], edf1.r_vi,  m=(3, :square, :black), line=(:black), label=\"VI\")\n",
    "plot!(edf1[!, x_param], edf1.r_flat,  m=(3, :dtriangle, :red), line=(:red), label=\"flat-rate\")\n",
    "plot!(edf1[!, x_param], edf1.r_hind,  m=(3, :utriangle, :green), line=(:green), label=\"hindsight\")\n",
    "\n",
    "# plot(edf1[!, x_param], edf1.u_mc,\n",
    "#     label = \"MCTS\",\n",
    "#     m=(3, :circle, :white), \n",
    "#     size=plot_size,\n",
    "#     legend=:topleft, axis=:right\n",
    "# )\n",
    "# plot!(edf1[!, x_param], edf1.u_vi,  m=(3, :square, :white), line=(:black), label=\"VI\")\n",
    "# plot!(edf1[!, x_param], edf1.u_flat,  m=(3, :dtriangle, :white), line=(:red), label=\"flat-rate\")\n",
    "# plot!(edf1[!, x_param], edf1.u_hind,  m=(3, :utriangle, :white), line=(:green), label=\"hindsight\")"
   ]
  },
  {
   "cell_type": "code",
   "execution_count": 11,
   "metadata": {},
   "outputs": [],
   "source": [
    "savefig(papersdir(\"paper_AAMAS2021_MCTS_pricing\", \"fig\", \"plt_small_d_u.pdf\"))"
   ]
  },
  {
   "cell_type": "markdown",
   "metadata": {},
   "source": [
    "# Compare big and small rev"
   ]
  },
  {
   "cell_type": "code",
   "execution_count": 8,
   "metadata": {},
   "outputs": [],
   "source": [
    "using CSV"
   ]
  },
  {
   "cell_type": "code",
   "execution_count": 48,
   "metadata": {},
   "outputs": [
    {
     "data": {
      "text/plain": [
       "10-element Array{Float64,1}:\n",
       " 1.9134590545078791\n",
       " 1.9781620987835264\n",
       " 2.0376030786146235\n",
       " 1.934833139631413\n",
       " 1.9242434592526811\n",
       " 1.9148356426459505\n",
       " 1.926629595304294\n",
       " 1.8858247778647392\n",
       " 1.8609183461458552\n",
       " 1.8510738730233658"
      ]
     },
     "execution_count": 48,
     "metadata": {},
     "output_type": "execute_result"
    }
   ],
   "source": [
    "c_0 = 10*30\n",
    "mdf_big = CSV.read(datadir(\"exp_pro\", \"exp_big_d_r.csv\"), DataFrame; delim=\";\")\n",
    "\n",
    "mdf_big[!, \"s/d\"] = c_0 ./ mdf_big.demand ./10 .*(1+2+3+4+5+6+7+8+9+10)\n",
    "mdf_big[!, \"h/mc\"] = mdf_big.r_hind ./ mdf_big.r_mc"
   ]
  },
  {
   "cell_type": "code",
   "execution_count": 49,
   "metadata": {},
   "outputs": [
    {
     "data": {
      "text/html": [
       "<table class=\"data-frame\"><thead><tr><th></th><th>demand</th><th>s/d</th><th>h/mc</th></tr><tr><th></th><th>Float64</th><th>Float64</th><th>Float64</th></tr></thead><tbody><p>10 rows × 3 columns</p><tr><th>1</th><td>5.0</td><td>330.0</td><td>1.91346</td></tr><tr><th>2</th><td>10.0</td><td>165.0</td><td>1.97816</td></tr><tr><th>3</th><td>15.0</td><td>110.0</td><td>2.0376</td></tr><tr><th>4</th><td>20.0</td><td>82.5</td><td>1.93483</td></tr><tr><th>5</th><td>25.0</td><td>66.0</td><td>1.92424</td></tr><tr><th>6</th><td>30.0</td><td>55.0</td><td>1.91484</td></tr><tr><th>7</th><td>35.0</td><td>47.1429</td><td>1.92663</td></tr><tr><th>8</th><td>40.0</td><td>41.25</td><td>1.88582</td></tr><tr><th>9</th><td>45.0</td><td>36.6667</td><td>1.86092</td></tr><tr><th>10</th><td>50.0</td><td>33.0</td><td>1.85107</td></tr></tbody></table>"
      ],
      "text/latex": [
       "\\begin{tabular}{r|ccc}\n",
       "\t& demand & s/d & h/mc\\\\\n",
       "\t\\hline\n",
       "\t& Float64 & Float64 & Float64\\\\\n",
       "\t\\hline\n",
       "\t1 & 5.0 & 330.0 & 1.91346 \\\\\n",
       "\t2 & 10.0 & 165.0 & 1.97816 \\\\\n",
       "\t3 & 15.0 & 110.0 & 2.0376 \\\\\n",
       "\t4 & 20.0 & 82.5 & 1.93483 \\\\\n",
       "\t5 & 25.0 & 66.0 & 1.92424 \\\\\n",
       "\t6 & 30.0 & 55.0 & 1.91484 \\\\\n",
       "\t7 & 35.0 & 47.1429 & 1.92663 \\\\\n",
       "\t8 & 40.0 & 41.25 & 1.88582 \\\\\n",
       "\t9 & 45.0 & 36.6667 & 1.86092 \\\\\n",
       "\t10 & 50.0 & 33.0 & 1.85107 \\\\\n",
       "\\end{tabular}\n"
      ],
      "text/plain": [
       "10×3 DataFrame\n",
       "│ Row │ demand  │ s/d     │ h/mc    │\n",
       "│     │ \u001b[90mFloat64\u001b[39m │ \u001b[90mFloat64\u001b[39m │ \u001b[90mFloat64\u001b[39m │\n",
       "├─────┼─────────┼─────────┼─────────┤\n",
       "│ 1   │ 5.0     │ 330.0   │ 1.91346 │\n",
       "│ 2   │ 10.0    │ 165.0   │ 1.97816 │\n",
       "│ 3   │ 15.0    │ 110.0   │ 2.0376  │\n",
       "│ 4   │ 20.0    │ 82.5    │ 1.93483 │\n",
       "│ 5   │ 25.0    │ 66.0    │ 1.92424 │\n",
       "│ 6   │ 30.0    │ 55.0    │ 1.91484 │\n",
       "│ 7   │ 35.0    │ 47.1429 │ 1.92663 │\n",
       "│ 8   │ 40.0    │ 41.25   │ 1.88582 │\n",
       "│ 9   │ 45.0    │ 36.6667 │ 1.86092 │\n",
       "│ 10  │ 50.0    │ 33.0    │ 1.85107 │"
      ]
     },
     "execution_count": 49,
     "metadata": {},
     "output_type": "execute_result"
    }
   ],
   "source": [
    "mdf_big[!, [\"demand\", \"s/d\", \"h/mc\"]]"
   ]
  },
  {
   "cell_type": "code",
   "execution_count": 50,
   "metadata": {},
   "outputs": [
    {
     "data": {
      "text/html": [
       "<table class=\"data-frame\"><thead><tr><th></th><th>demand</th><th>s/d</th><th>h/mc</th></tr><tr><th></th><th>Float64</th><th>Float64</th><th>Float64</th></tr></thead><tbody><p>6 rows × 3 columns</p><tr><th>1</th><td>1.5</td><td>8.0</td><td>1.69161</td></tr><tr><th>2</th><td>3.0</td><td>4.0</td><td>1.7149</td></tr><tr><th>3</th><td>4.5</td><td>2.66667</td><td>1.60586</td></tr><tr><th>4</th><td>6.0</td><td>2.0</td><td>1.51432</td></tr><tr><th>5</th><td>7.5</td><td>1.6</td><td>1.48943</td></tr><tr><th>6</th><td>9.0</td><td>1.33333</td><td>1.44256</td></tr></tbody></table>"
      ],
      "text/latex": [
       "\\begin{tabular}{r|ccc}\n",
       "\t& demand & s/d & h/mc\\\\\n",
       "\t\\hline\n",
       "\t& Float64 & Float64 & Float64\\\\\n",
       "\t\\hline\n",
       "\t1 & 1.5 & 8.0 & 1.69161 \\\\\n",
       "\t2 & 3.0 & 4.0 & 1.7149 \\\\\n",
       "\t3 & 4.5 & 2.66667 & 1.60586 \\\\\n",
       "\t4 & 6.0 & 2.0 & 1.51432 \\\\\n",
       "\t5 & 7.5 & 1.6 & 1.48943 \\\\\n",
       "\t6 & 9.0 & 1.33333 & 1.44256 \\\\\n",
       "\\end{tabular}\n"
      ],
      "text/plain": [
       "6×3 DataFrame\n",
       "│ Row │ demand  │ s/d     │ h/mc    │\n",
       "│     │ \u001b[90mFloat64\u001b[39m │ \u001b[90mFloat64\u001b[39m │ \u001b[90mFloat64\u001b[39m │\n",
       "├─────┼─────────┼─────────┼─────────┤\n",
       "│ 1   │ 1.5     │ 8.0     │ 1.69161 │\n",
       "│ 2   │ 3.0     │ 4.0     │ 1.7149  │\n",
       "│ 3   │ 4.5     │ 2.66667 │ 1.60586 │\n",
       "│ 4   │ 6.0     │ 2.0     │ 1.51432 │\n",
       "│ 5   │ 7.5     │ 1.6     │ 1.48943 │\n",
       "│ 6   │ 9.0     │ 1.33333 │ 1.44256 │"
      ]
     },
     "execution_count": 50,
     "metadata": {},
     "output_type": "execute_result"
    }
   ],
   "source": [
    "c_0 = 3*2\n",
    "mdf_small = CSV.read(datadir(\"exp_pro\", \"exp_small_d_r.csv\"), DataFrame; delim=\";\")\n",
    "mdf_small[!, \"s/d\"] = c_0 ./ mdf_small.demand ./3 .* (1+2+3)\n",
    "mdf_small[!, \"h/mc\"] = mdf_small.r_hind ./ mdf_small.r_mc\n",
    "mdf_small[!, [\"demand\", \"s/d\", \"h/mc\"]]"
   ]
  },
  {
   "cell_type": "code",
   "execution_count": null,
   "metadata": {},
   "outputs": [],
   "source": []
  }
 ],
 "metadata": {
  "@webio": {
   "lastCommId": null,
   "lastKernelId": null
  },
  "kernelspec": {
   "display_name": "Julia 1.5.3",
   "language": "julia",
   "name": "julia-1.5"
  },
  "language_info": {
   "file_extension": ".jl",
   "mimetype": "application/julia",
   "name": "julia",
   "version": "1.5.3"
  },
  "toc": {
   "base_numbering": 1,
   "nav_menu": {},
   "number_sections": true,
   "sideBar": true,
   "skip_h1_title": false,
   "title_cell": "Table of Contents",
   "title_sidebar": "Contents",
   "toc_cell": false,
   "toc_position": {},
   "toc_section_display": true,
   "toc_window_display": false
  }
 },
 "nbformat": 4,
 "nbformat_minor": 4
}
