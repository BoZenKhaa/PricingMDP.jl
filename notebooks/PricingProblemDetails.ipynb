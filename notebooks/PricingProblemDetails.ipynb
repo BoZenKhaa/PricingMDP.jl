{
 "cells": [
  {
   "cell_type": "markdown",
   "metadata": {},
   "source": [
    "# State space size of Pricing MDP\n",
    "\n",
    "- $\\overline{c}$ ... average resource capacity\n",
    "- T ... number of timesteps\n",
    "- R ... number of resources\n",
    "- \\# products ... $R(R+1)/2$\n",
    "\n",
    "$|S| = T \\overline{c}^R R(R+1)/2 \\sim T \\overline{c}^N$\n",
    "\n",
    "\n",
    "Each state $(c, t, prod)$ consists of:\n",
    "- R x Int for capacity\n",
    "- 1 x Int for timestep\n",
    "- R x Boolean for requested product"
   ]
  },
  {
   "cell_type": "code",
   "execution_count": 13,
   "metadata": {},
   "outputs": [
    {
     "name": "stdout",
     "output_type": "stream",
     "text": [
      "MDP with capacity 10, 100 timesteps and 5 resources requires aproximately 7.29375 GB to enumerate the state space."
     ]
    }
   ],
   "source": [
    "function n_states(c, T, R)\n",
    "   return T*c^R*R*(R+1)/2 \n",
    "end\n",
    "\n",
    "function bytes_per_state(c, T, R; int_size=64)\n",
    "    return (R*int_size + int_size + R)/8\n",
    "end\n",
    "\n",
    "c = 10\n",
    "T = 100\n",
    "R = 5\n",
    "memory_requiremnets_GB = n_states(c, T, R)*bytes_per_state(c, T, R; int_size=64)/10^9\n",
    "\n",
    "print(\"MDP with capacity $c, $T timesteps and $R resources requires aproximately $memory_requiremnets_GB GB to enumerate the state space.\")"
   ]
  }
 ],
 "metadata": {
  "kernelspec": {
   "display_name": "Julia 1.4.2",
   "language": "julia",
   "name": "julia-1.4"
  },
  "language_info": {
   "file_extension": ".jl",
   "mimetype": "application/julia",
   "name": "julia",
   "version": "1.4.2"
  }
 },
 "nbformat": 4,
 "nbformat_minor": 4
}
